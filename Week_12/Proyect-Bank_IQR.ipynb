{
 "cells": [
  {
   "cell_type": "markdown",
   "metadata": {},
   "source": [
    "# Data Science: Bank Marketing (Campaign) - Group Project"
   ]
  },
  {
   "cell_type": "markdown",
   "metadata": {},
   "source": [
    "**Problem Statement:** ABC Bank wants to sell it's term deposit product to customers and before launching the product they want to develop a model which help them in understanding whether a particular customer will buy their product or not (based on customer's past interaction with bank or other Financial Institution)."
   ]
  },
  {
   "cell_type": "markdown",
   "metadata": {},
   "source": [
    "**Why ML Model:** Bank wants to use ML model to shortlist customer whose chances of buying the product is more so that their marketing channel (tele marketing, SMS/email marketing etc)  can focus only to those customers whose chances of buying the product is more. This will save resource and their time ( which is directly involved in the cost ( resource billing))."
   ]
  },
  {
   "cell_type": "markdown",
   "metadata": {},
   "source": [
    "**Data Set Information :** The data is related with direct marketing campaigns of a Portuguese banking institution. The marketing campaigns were based on phone calls. Often, more than one contact to the same client was required, in order to access if the product (bank term deposit) would be ('yes') or not ('no') subscribed. The classification goal is to predict if the client will subscribe (yes/no) a term deposit (variable y)."
   ]
  },
  {
   "cell_type": "markdown",
   "metadata": {},
   "source": [
    "**Objective:** Obtain a model that determines whether or not X customer will buy your product, based on past interactions with the bank and other financial institutions."
   ]
  },
  {
   "cell_type": "markdown",
   "metadata": {},
   "source": [
    "## Quick EDA"
   ]
  },
  {
   "cell_type": "code",
   "execution_count": 34,
   "metadata": {},
   "outputs": [],
   "source": [
    "# Importings\n",
    "import warnings\n",
    "warnings.filterwarnings(\"ignore\")\n",
    "import pandas as pd\n",
    "import numpy as np\n",
    "import matplotlib.pyplot as plt\n",
    "import seaborn as sns"
   ]
  },
  {
   "cell_type": "code",
   "execution_count": 35,
   "metadata": {},
   "outputs": [
    {
     "name": "stdout",
     "output_type": "stream",
     "text": [
      "(41188, 21)\n"
     ]
    },
    {
     "data": {
      "text/html": [
       "<div>\n",
       "<style scoped>\n",
       "    .dataframe tbody tr th:only-of-type {\n",
       "        vertical-align: middle;\n",
       "    }\n",
       "\n",
       "    .dataframe tbody tr th {\n",
       "        vertical-align: top;\n",
       "    }\n",
       "\n",
       "    .dataframe thead th {\n",
       "        text-align: right;\n",
       "    }\n",
       "</style>\n",
       "<table border=\"1\" class=\"dataframe\">\n",
       "  <thead>\n",
       "    <tr style=\"text-align: right;\">\n",
       "      <th></th>\n",
       "      <th>age</th>\n",
       "      <th>job</th>\n",
       "      <th>marital</th>\n",
       "      <th>education</th>\n",
       "      <th>default</th>\n",
       "      <th>housing</th>\n",
       "      <th>loan</th>\n",
       "      <th>contact</th>\n",
       "      <th>month</th>\n",
       "      <th>day_of_week</th>\n",
       "      <th>...</th>\n",
       "      <th>campaign</th>\n",
       "      <th>pdays</th>\n",
       "      <th>previous</th>\n",
       "      <th>poutcome</th>\n",
       "      <th>emp.var.rate</th>\n",
       "      <th>cons.price.idx</th>\n",
       "      <th>cons.conf.idx</th>\n",
       "      <th>euribor3m</th>\n",
       "      <th>nr.employed</th>\n",
       "      <th>y</th>\n",
       "    </tr>\n",
       "  </thead>\n",
       "  <tbody>\n",
       "    <tr>\n",
       "      <th>0</th>\n",
       "      <td>56</td>\n",
       "      <td>housemaid</td>\n",
       "      <td>married</td>\n",
       "      <td>basic.4y</td>\n",
       "      <td>no</td>\n",
       "      <td>no</td>\n",
       "      <td>no</td>\n",
       "      <td>telephone</td>\n",
       "      <td>may</td>\n",
       "      <td>mon</td>\n",
       "      <td>...</td>\n",
       "      <td>1</td>\n",
       "      <td>999</td>\n",
       "      <td>0</td>\n",
       "      <td>nonexistent</td>\n",
       "      <td>1.1</td>\n",
       "      <td>93.994</td>\n",
       "      <td>-36.4</td>\n",
       "      <td>4.857</td>\n",
       "      <td>5191.0</td>\n",
       "      <td>no</td>\n",
       "    </tr>\n",
       "    <tr>\n",
       "      <th>1</th>\n",
       "      <td>57</td>\n",
       "      <td>services</td>\n",
       "      <td>married</td>\n",
       "      <td>high.school</td>\n",
       "      <td>unknown</td>\n",
       "      <td>no</td>\n",
       "      <td>no</td>\n",
       "      <td>telephone</td>\n",
       "      <td>may</td>\n",
       "      <td>mon</td>\n",
       "      <td>...</td>\n",
       "      <td>1</td>\n",
       "      <td>999</td>\n",
       "      <td>0</td>\n",
       "      <td>nonexistent</td>\n",
       "      <td>1.1</td>\n",
       "      <td>93.994</td>\n",
       "      <td>-36.4</td>\n",
       "      <td>4.857</td>\n",
       "      <td>5191.0</td>\n",
       "      <td>no</td>\n",
       "    </tr>\n",
       "    <tr>\n",
       "      <th>2</th>\n",
       "      <td>37</td>\n",
       "      <td>services</td>\n",
       "      <td>married</td>\n",
       "      <td>high.school</td>\n",
       "      <td>no</td>\n",
       "      <td>yes</td>\n",
       "      <td>no</td>\n",
       "      <td>telephone</td>\n",
       "      <td>may</td>\n",
       "      <td>mon</td>\n",
       "      <td>...</td>\n",
       "      <td>1</td>\n",
       "      <td>999</td>\n",
       "      <td>0</td>\n",
       "      <td>nonexistent</td>\n",
       "      <td>1.1</td>\n",
       "      <td>93.994</td>\n",
       "      <td>-36.4</td>\n",
       "      <td>4.857</td>\n",
       "      <td>5191.0</td>\n",
       "      <td>no</td>\n",
       "    </tr>\n",
       "    <tr>\n",
       "      <th>3</th>\n",
       "      <td>40</td>\n",
       "      <td>admin.</td>\n",
       "      <td>married</td>\n",
       "      <td>basic.6y</td>\n",
       "      <td>no</td>\n",
       "      <td>no</td>\n",
       "      <td>no</td>\n",
       "      <td>telephone</td>\n",
       "      <td>may</td>\n",
       "      <td>mon</td>\n",
       "      <td>...</td>\n",
       "      <td>1</td>\n",
       "      <td>999</td>\n",
       "      <td>0</td>\n",
       "      <td>nonexistent</td>\n",
       "      <td>1.1</td>\n",
       "      <td>93.994</td>\n",
       "      <td>-36.4</td>\n",
       "      <td>4.857</td>\n",
       "      <td>5191.0</td>\n",
       "      <td>no</td>\n",
       "    </tr>\n",
       "    <tr>\n",
       "      <th>4</th>\n",
       "      <td>56</td>\n",
       "      <td>services</td>\n",
       "      <td>married</td>\n",
       "      <td>high.school</td>\n",
       "      <td>no</td>\n",
       "      <td>no</td>\n",
       "      <td>yes</td>\n",
       "      <td>telephone</td>\n",
       "      <td>may</td>\n",
       "      <td>mon</td>\n",
       "      <td>...</td>\n",
       "      <td>1</td>\n",
       "      <td>999</td>\n",
       "      <td>0</td>\n",
       "      <td>nonexistent</td>\n",
       "      <td>1.1</td>\n",
       "      <td>93.994</td>\n",
       "      <td>-36.4</td>\n",
       "      <td>4.857</td>\n",
       "      <td>5191.0</td>\n",
       "      <td>no</td>\n",
       "    </tr>\n",
       "  </tbody>\n",
       "</table>\n",
       "<p>5 rows × 21 columns</p>\n",
       "</div>"
      ],
      "text/plain": [
       "   age        job  marital    education  default housing loan    contact  \\\n",
       "0   56  housemaid  married     basic.4y       no      no   no  telephone   \n",
       "1   57   services  married  high.school  unknown      no   no  telephone   \n",
       "2   37   services  married  high.school       no     yes   no  telephone   \n",
       "3   40     admin.  married     basic.6y       no      no   no  telephone   \n",
       "4   56   services  married  high.school       no      no  yes  telephone   \n",
       "\n",
       "  month day_of_week  ...  campaign  pdays  previous     poutcome emp.var.rate  \\\n",
       "0   may         mon  ...         1    999         0  nonexistent          1.1   \n",
       "1   may         mon  ...         1    999         0  nonexistent          1.1   \n",
       "2   may         mon  ...         1    999         0  nonexistent          1.1   \n",
       "3   may         mon  ...         1    999         0  nonexistent          1.1   \n",
       "4   may         mon  ...         1    999         0  nonexistent          1.1   \n",
       "\n",
       "   cons.price.idx  cons.conf.idx  euribor3m  nr.employed   y  \n",
       "0          93.994          -36.4      4.857       5191.0  no  \n",
       "1          93.994          -36.4      4.857       5191.0  no  \n",
       "2          93.994          -36.4      4.857       5191.0  no  \n",
       "3          93.994          -36.4      4.857       5191.0  no  \n",
       "4          93.994          -36.4      4.857       5191.0  no  \n",
       "\n",
       "[5 rows x 21 columns]"
      ]
     },
     "execution_count": 35,
     "metadata": {},
     "output_type": "execute_result"
    }
   ],
   "source": [
    "# Dataset loading\n",
    "bank_df = pd.read_csv(\"bank-additional-full.csv\", sep=\";\")\n",
    "\n",
    "print(bank_df.shape)\n",
    "bank_df.head()"
   ]
  },
  {
   "cell_type": "code",
   "execution_count": 36,
   "metadata": {},
   "outputs": [
    {
     "data": {
      "text/html": [
       "<div>\n",
       "<style scoped>\n",
       "    .dataframe tbody tr th:only-of-type {\n",
       "        vertical-align: middle;\n",
       "    }\n",
       "\n",
       "    .dataframe tbody tr th {\n",
       "        vertical-align: top;\n",
       "    }\n",
       "\n",
       "    .dataframe thead th {\n",
       "        text-align: right;\n",
       "    }\n",
       "</style>\n",
       "<table border=\"1\" class=\"dataframe\">\n",
       "  <thead>\n",
       "    <tr style=\"text-align: right;\">\n",
       "      <th></th>\n",
       "      <th>age</th>\n",
       "      <th>job</th>\n",
       "      <th>marital</th>\n",
       "      <th>education</th>\n",
       "      <th>default</th>\n",
       "      <th>housing</th>\n",
       "      <th>loan</th>\n",
       "      <th>contact</th>\n",
       "      <th>month</th>\n",
       "      <th>day_of_week</th>\n",
       "      <th>...</th>\n",
       "      <th>campaign</th>\n",
       "      <th>pdays</th>\n",
       "      <th>previous</th>\n",
       "      <th>poutcome</th>\n",
       "      <th>emp.var.rate</th>\n",
       "      <th>cons.price.idx</th>\n",
       "      <th>cons.conf.idx</th>\n",
       "      <th>euribor3m</th>\n",
       "      <th>nr.employed</th>\n",
       "      <th>y</th>\n",
       "    </tr>\n",
       "  </thead>\n",
       "  <tbody>\n",
       "    <tr>\n",
       "      <th>41183</th>\n",
       "      <td>73</td>\n",
       "      <td>retired</td>\n",
       "      <td>married</td>\n",
       "      <td>professional.course</td>\n",
       "      <td>no</td>\n",
       "      <td>yes</td>\n",
       "      <td>no</td>\n",
       "      <td>cellular</td>\n",
       "      <td>nov</td>\n",
       "      <td>fri</td>\n",
       "      <td>...</td>\n",
       "      <td>1</td>\n",
       "      <td>999</td>\n",
       "      <td>0</td>\n",
       "      <td>nonexistent</td>\n",
       "      <td>-1.1</td>\n",
       "      <td>94.767</td>\n",
       "      <td>-50.8</td>\n",
       "      <td>1.028</td>\n",
       "      <td>4963.6</td>\n",
       "      <td>yes</td>\n",
       "    </tr>\n",
       "    <tr>\n",
       "      <th>41184</th>\n",
       "      <td>46</td>\n",
       "      <td>blue-collar</td>\n",
       "      <td>married</td>\n",
       "      <td>professional.course</td>\n",
       "      <td>no</td>\n",
       "      <td>no</td>\n",
       "      <td>no</td>\n",
       "      <td>cellular</td>\n",
       "      <td>nov</td>\n",
       "      <td>fri</td>\n",
       "      <td>...</td>\n",
       "      <td>1</td>\n",
       "      <td>999</td>\n",
       "      <td>0</td>\n",
       "      <td>nonexistent</td>\n",
       "      <td>-1.1</td>\n",
       "      <td>94.767</td>\n",
       "      <td>-50.8</td>\n",
       "      <td>1.028</td>\n",
       "      <td>4963.6</td>\n",
       "      <td>no</td>\n",
       "    </tr>\n",
       "    <tr>\n",
       "      <th>41185</th>\n",
       "      <td>56</td>\n",
       "      <td>retired</td>\n",
       "      <td>married</td>\n",
       "      <td>university.degree</td>\n",
       "      <td>no</td>\n",
       "      <td>yes</td>\n",
       "      <td>no</td>\n",
       "      <td>cellular</td>\n",
       "      <td>nov</td>\n",
       "      <td>fri</td>\n",
       "      <td>...</td>\n",
       "      <td>2</td>\n",
       "      <td>999</td>\n",
       "      <td>0</td>\n",
       "      <td>nonexistent</td>\n",
       "      <td>-1.1</td>\n",
       "      <td>94.767</td>\n",
       "      <td>-50.8</td>\n",
       "      <td>1.028</td>\n",
       "      <td>4963.6</td>\n",
       "      <td>no</td>\n",
       "    </tr>\n",
       "    <tr>\n",
       "      <th>41186</th>\n",
       "      <td>44</td>\n",
       "      <td>technician</td>\n",
       "      <td>married</td>\n",
       "      <td>professional.course</td>\n",
       "      <td>no</td>\n",
       "      <td>no</td>\n",
       "      <td>no</td>\n",
       "      <td>cellular</td>\n",
       "      <td>nov</td>\n",
       "      <td>fri</td>\n",
       "      <td>...</td>\n",
       "      <td>1</td>\n",
       "      <td>999</td>\n",
       "      <td>0</td>\n",
       "      <td>nonexistent</td>\n",
       "      <td>-1.1</td>\n",
       "      <td>94.767</td>\n",
       "      <td>-50.8</td>\n",
       "      <td>1.028</td>\n",
       "      <td>4963.6</td>\n",
       "      <td>yes</td>\n",
       "    </tr>\n",
       "    <tr>\n",
       "      <th>41187</th>\n",
       "      <td>74</td>\n",
       "      <td>retired</td>\n",
       "      <td>married</td>\n",
       "      <td>professional.course</td>\n",
       "      <td>no</td>\n",
       "      <td>yes</td>\n",
       "      <td>no</td>\n",
       "      <td>cellular</td>\n",
       "      <td>nov</td>\n",
       "      <td>fri</td>\n",
       "      <td>...</td>\n",
       "      <td>3</td>\n",
       "      <td>999</td>\n",
       "      <td>1</td>\n",
       "      <td>failure</td>\n",
       "      <td>-1.1</td>\n",
       "      <td>94.767</td>\n",
       "      <td>-50.8</td>\n",
       "      <td>1.028</td>\n",
       "      <td>4963.6</td>\n",
       "      <td>no</td>\n",
       "    </tr>\n",
       "  </tbody>\n",
       "</table>\n",
       "<p>5 rows × 21 columns</p>\n",
       "</div>"
      ],
      "text/plain": [
       "       age          job  marital            education default housing loan  \\\n",
       "41183   73      retired  married  professional.course      no     yes   no   \n",
       "41184   46  blue-collar  married  professional.course      no      no   no   \n",
       "41185   56      retired  married    university.degree      no     yes   no   \n",
       "41186   44   technician  married  professional.course      no      no   no   \n",
       "41187   74      retired  married  professional.course      no     yes   no   \n",
       "\n",
       "        contact month day_of_week  ...  campaign  pdays  previous  \\\n",
       "41183  cellular   nov         fri  ...         1    999         0   \n",
       "41184  cellular   nov         fri  ...         1    999         0   \n",
       "41185  cellular   nov         fri  ...         2    999         0   \n",
       "41186  cellular   nov         fri  ...         1    999         0   \n",
       "41187  cellular   nov         fri  ...         3    999         1   \n",
       "\n",
       "          poutcome emp.var.rate  cons.price.idx  cons.conf.idx  euribor3m  \\\n",
       "41183  nonexistent         -1.1          94.767          -50.8      1.028   \n",
       "41184  nonexistent         -1.1          94.767          -50.8      1.028   \n",
       "41185  nonexistent         -1.1          94.767          -50.8      1.028   \n",
       "41186  nonexistent         -1.1          94.767          -50.8      1.028   \n",
       "41187      failure         -1.1          94.767          -50.8      1.028   \n",
       "\n",
       "       nr.employed    y  \n",
       "41183       4963.6  yes  \n",
       "41184       4963.6   no  \n",
       "41185       4963.6   no  \n",
       "41186       4963.6  yes  \n",
       "41187       4963.6   no  \n",
       "\n",
       "[5 rows x 21 columns]"
      ]
     },
     "execution_count": 36,
     "metadata": {},
     "output_type": "execute_result"
    }
   ],
   "source": [
    "bank_df.tail()"
   ]
  },
  {
   "cell_type": "code",
   "execution_count": 37,
   "metadata": {},
   "outputs": [
    {
     "name": "stdout",
     "output_type": "stream",
     "text": [
      "<class 'pandas.core.frame.DataFrame'>\n",
      "RangeIndex: 41188 entries, 0 to 41187\n",
      "Data columns (total 21 columns):\n",
      " #   Column          Non-Null Count  Dtype  \n",
      "---  ------          --------------  -----  \n",
      " 0   age             41188 non-null  int64  \n",
      " 1   job             41188 non-null  object \n",
      " 2   marital         41188 non-null  object \n",
      " 3   education       41188 non-null  object \n",
      " 4   default         41188 non-null  object \n",
      " 5   housing         41188 non-null  object \n",
      " 6   loan            41188 non-null  object \n",
      " 7   contact         41188 non-null  object \n",
      " 8   month           41188 non-null  object \n",
      " 9   day_of_week     41188 non-null  object \n",
      " 10  duration        41188 non-null  int64  \n",
      " 11  campaign        41188 non-null  int64  \n",
      " 12  pdays           41188 non-null  int64  \n",
      " 13  previous        41188 non-null  int64  \n",
      " 14  poutcome        41188 non-null  object \n",
      " 15  emp.var.rate    41188 non-null  float64\n",
      " 16  cons.price.idx  41188 non-null  float64\n",
      " 17  cons.conf.idx   41188 non-null  float64\n",
      " 18  euribor3m       41188 non-null  float64\n",
      " 19  nr.employed     41188 non-null  float64\n",
      " 20  y               41188 non-null  object \n",
      "dtypes: float64(5), int64(5), object(11)\n",
      "memory usage: 6.6+ MB\n"
     ]
    }
   ],
   "source": [
    "bank_df.info()"
   ]
  },
  {
   "cell_type": "markdown",
   "metadata": {},
   "source": [
    "The dataset has 21 columns (features) and 41188 rows (instances)"
   ]
  },
  {
   "cell_type": "markdown",
   "metadata": {},
   "source": [
    "### Outlier detection"
   ]
  },
  {
   "cell_type": "code",
   "execution_count": 38,
   "metadata": {},
   "outputs": [
    {
     "data": {
      "image/png": "[encoded data removed]",
      "text/plain": [
       "<Figure size 1440x1440 with 10 Axes>"
      ]
     },
     "metadata": {
      "needs_background": "light"
     },
     "output_type": "display_data"
    }
   ],
   "source": [
    "plt.figure(figsize = (20,20))\n",
    "plt.subplot(5, 2, 1)\n",
    "sns.boxplot(data = bank_df, x= 'age', palette = 'colorblind')\n",
    "plt.title('Age boxplot')\n",
    "plt.xlabel('Age')\n",
    "\n",
    "plt.subplot(5, 2, 2)\n",
    "sns.boxplot(data = bank_df, x= 'duration', palette = 'colorblind')\n",
    "plt.title('Duration boxplot')\n",
    "plt.xlabel('Duration')\n",
    "\n",
    "plt.subplot(5, 2, 3)\n",
    "sns.boxplot(data = bank_df, x= 'campaign', palette = 'colorblind')\n",
    "plt.title('Campaign boxplot')\n",
    "plt.xlabel('Campaign')\n",
    "\n",
    "plt.subplot(5, 2, 4)\n",
    "sns.boxplot(data = bank_df, x= 'pdays', palette = 'colorblind')\n",
    "plt.title('pdays boxplot')\n",
    "plt.xlabel('pdays')\n",
    "\n",
    "plt.subplot(5, 2, 5)\n",
    "sns.boxplot(data = bank_df, x= 'previous', palette = 'colorblind')\n",
    "plt.title('Previous boxplot')\n",
    "plt.xlabel('Previous')\n",
    "\n",
    "plt.subplot(5, 2, 6)\n",
    "sns.boxplot(data = bank_df, x= 'emp.var.rate', palette = 'colorblind')\n",
    "plt.title('emp.var.rate boxplot')\n",
    "plt.xlabel('emp.var.rate')\n",
    "\n",
    "plt.subplot(5, 2, 7)\n",
    "sns.boxplot(data = bank_df, x= 'cons.price.idx', palette = 'colorblind')\n",
    "plt.title('cons.price.idx boxplot')\n",
    "plt.xlabel('cons.price.idx')\n",
    "\n",
    "plt.subplot(5, 2, 8)\n",
    "sns.boxplot(data = bank_df, x= 'cons.conf.idx', palette = 'colorblind')\n",
    "plt.title('cons.conf.idx boxplot')\n",
    "plt.xlabel('cons.conf.idx')\n",
    "\n",
    "plt.subplot(5, 2, 9)\n",
    "sns.boxplot(data = bank_df, x= 'euribor3m', palette = 'colorblind')\n",
    "plt.title('euribor3m boxplot')\n",
    "plt.xlabel('euribor3m')\n",
    "\n",
    "plt.subplot(5, 2, 10)\n",
    "sns.boxplot(data = bank_df, x= 'nr.employed', palette = 'colorblind')\n",
    "plt.title('nr.employed boxplot')\n",
    "plt.xlabel('nr.employed')\n",
    "\n",
    "plt.tight_layout()\n",
    "plt.show()"
   ]
  },
  {
   "cell_type": "code",
   "execution_count": 39,
   "metadata": {},
   "outputs": [],
   "source": [
    "# Outlier filter: IQR method\n",
    "\n",
    "def remove_outliers(dfx):\n",
    "    q1 = dfx.quantile(0.25)\n",
    "    q3 = dfx.quantile(0.75)\n",
    "    iqr = q3 - q1\n",
    "    cut_off = iqr*1.5\n",
    "    \n",
    "    df_filtred = dfx[~((dfx < (dfx.quantile(0.25) - cut_off)) | (dfx > (dfx.quantile(0.75) + cut_off))).any(axis=1)]\n",
    "    \n",
    "    \n",
    "    return df_filtred"
   ]
  },
  {
   "cell_type": "code",
   "execution_count": 40,
   "metadata": {
    "scrolled": true
   },
   "outputs": [],
   "source": [
    "bank_df2 = remove_outliers(bank_df)"
   ]
  },
  {
   "cell_type": "code",
   "execution_count": 41,
   "metadata": {},
   "outputs": [],
   "source": [
    "bank_df2.reset_index(drop=True, inplace=True)"
   ]
  },
  {
   "cell_type": "code",
   "execution_count": 42,
   "metadata": {},
   "outputs": [
    {
     "name": "stdout",
     "output_type": "stream",
     "text": [
      "<class 'pandas.core.frame.DataFrame'>\n",
      "RangeIndex: 30360 entries, 0 to 30359\n",
      "Data columns (total 21 columns):\n",
      " #   Column          Non-Null Count  Dtype  \n",
      "---  ------          --------------  -----  \n",
      " 0   age             30360 non-null  int64  \n",
      " 1   job             30360 non-null  object \n",
      " 2   marital         30360 non-null  object \n",
      " 3   education       30360 non-null  object \n",
      " 4   default         30360 non-null  object \n",
      " 5   housing         30360 non-null  object \n",
      " 6   loan            30360 non-null  object \n",
      " 7   contact         30360 non-null  object \n",
      " 8   month           30360 non-null  object \n",
      " 9   day_of_week     30360 non-null  object \n",
      " 10  duration        30360 non-null  int64  \n",
      " 11  campaign        30360 non-null  int64  \n",
      " 12  pdays           30360 non-null  int64  \n",
      " 13  previous        30360 non-null  int64  \n",
      " 14  poutcome        30360 non-null  object \n",
      " 15  emp.var.rate    30360 non-null  float64\n",
      " 16  cons.price.idx  30360 non-null  float64\n",
      " 17  cons.conf.idx   30360 non-null  float64\n",
      " 18  euribor3m       30360 non-null  float64\n",
      " 19  nr.employed     30360 non-null  float64\n",
      " 20  y               30360 non-null  object \n",
      "dtypes: float64(5), int64(5), object(11)\n",
      "memory usage: 4.9+ MB\n"
     ]
    }
   ],
   "source": [
    "bank_df2.info()"
   ]
  },
  {
   "cell_type": "code",
   "execution_count": 43,
   "metadata": {},
   "outputs": [
    {
     "data": {
      "text/plain": [
       "(30360, 21)"
      ]
     },
     "execution_count": 43,
     "metadata": {},
     "output_type": "execute_result"
    }
   ],
   "source": [
    "bank_df2.shape"
   ]
  },
  {
   "cell_type": "code",
   "execution_count": 44,
   "metadata": {},
   "outputs": [
    {
     "data": {
      "image/png": "[encoded data removed]",
      "text/plain": [
       "<Figure size 1440x1440 with 10 Axes>"
      ]
     },
     "metadata": {
      "needs_background": "light"
     },
     "output_type": "display_data"
    }
   ],
   "source": [
    "plt.figure(figsize = (20,20))\n",
    "plt.subplot(5, 2, 1)\n",
    "sns.boxplot(data = bank_df2, x= 'age', palette = 'colorblind')\n",
    "plt.title('Age boxplot')\n",
    "plt.xlabel('Age')\n",
    "\n",
    "plt.subplot(5, 2, 2)\n",
    "sns.boxplot(data = bank_df2, x= 'duration', palette = 'colorblind')\n",
    "plt.title('Duration boxplot')\n",
    "plt.xlabel('Duration')\n",
    "\n",
    "plt.subplot(5, 2, 3)\n",
    "sns.boxplot(data = bank_df2, x= 'campaign', palette = 'colorblind')\n",
    "plt.title('Campaign boxplot')\n",
    "plt.xlabel('Campaign')\n",
    "\n",
    "plt.subplot(5, 2, 4)\n",
    "sns.boxplot(data = bank_df2, x= 'pdays', palette = 'colorblind')\n",
    "plt.title('pdays boxplot')\n",
    "plt.xlabel('pdays')\n",
    "\n",
    "plt.subplot(5, 2, 5)\n",
    "sns.boxplot(data = bank_df2, x= 'previous', palette = 'colorblind')\n",
    "plt.title('Previous boxplot')\n",
    "plt.xlabel('Previous')\n",
    "\n",
    "plt.subplot(5, 2, 6)\n",
    "sns.boxplot(data = bank_df2, x= 'emp.var.rate', palette = 'colorblind')\n",
    "plt.title('emp.var.rate boxplot')\n",
    "plt.xlabel('emp.var.rate')\n",
    "\n",
    "plt.subplot(5, 2, 7)\n",
    "sns.boxplot(data = bank_df2, x= 'cons.price.idx', palette = 'colorblind')\n",
    "plt.title('cons.price.idx boxplot')\n",
    "plt.xlabel('cons.price.idx')\n",
    "\n",
    "plt.subplot(5, 2, 8)\n",
    "sns.boxplot(data = bank_df2, x= 'cons.conf.idx', palette = 'colorblind')\n",
    "plt.title('cons.conf.idx boxplot')\n",
    "plt.xlabel('cons.conf.idx')\n",
    "\n",
    "plt.subplot(5, 2, 9)\n",
    "sns.boxplot(data = bank_df2, x= 'euribor3m', palette = 'colorblind')\n",
    "plt.title('euribor3m boxplot')\n",
    "plt.xlabel('euribor3m')\n",
    "\n",
    "plt.subplot(5, 2, 10)\n",
    "sns.boxplot(data = bank_df2, x= 'nr.employed', palette = 'colorblind')\n",
    "plt.title('nr.employed boxplot')\n",
    "plt.xlabel('nr.employed')\n",
    "\n",
    "plt.tight_layout()\n",
    "plt.show()"
   ]
  },
  {
   "cell_type": "code",
   "execution_count": 45,
   "metadata": {},
   "outputs": [
    {
     "data": {
      "image/png": "[encoded data removed]",
      "text/plain": [
       "<Figure size 576x360 with 1 Axes>"
      ]
     },
     "metadata": {
      "needs_background": "light"
     },
     "output_type": "display_data"
    },
    {
     "name": "stdout",
     "output_type": "stream",
     "text": [
      "The amount of \"no\" target is =  36,548\n",
      "The amount of \"yes\" target is = 4,640\n",
      "The percentage of \"no\" target is = 88.73 %\n",
      "The percentage of \"yes\" target is = 11.27 %\n",
      "The target variable is imbalanced\n"
     ]
    }
   ],
   "source": [
    "fig, ax = plt.subplots(figsize = (8, 5))\n",
    "sns.countplot(x= 'y', data= bank_df2, palette='rocket')\n",
    "plt.xlabel(\"Target\") \n",
    "plt.ylabel('Number of Clients')\n",
    "plt.title(\"Target distribution\")  \n",
    "plt.show()\n",
    "#Finding the percentages of our target\n",
    "per_target= (bank_df['y'] == 'yes').value_counts().to_frame('q')\n",
    "n_target_q = per_target.q.iloc[0]\n",
    "y_target_q = per_target.q.iloc[1]\n",
    "total=per_target.q.sum() \n",
    "print('The amount of \"no\" target is =  {:,}'.format(n_target_q))\n",
    "print('The amount of \"yes\" target is = {:,}'.format(y_target_q))\n",
    "print(f'The percentage of \"no\" target is = {round((n_target_q/total)*100,2)}','%')\n",
    "print(f'The percentage of \"yes\" target is = {round((y_target_q/total)*100,2)}','%')\n",
    "print('The target variable is imbalanced')"
   ]
  },
  {
   "cell_type": "markdown",
   "metadata": {},
   "source": [
    "## **Categorical Features Analysis**"
   ]
  },
  {
   "cell_type": "code",
   "execution_count": 46,
   "metadata": {},
   "outputs": [],
   "source": [
    "#Categorical features\n",
    "\n",
    "categorical = bank_df2.select_dtypes(include=\"object\")\n",
    "categorical.drop(\"y\", axis=1, inplace=True)\n",
    "categorical_list = categorical.columns.to_list()"
   ]
  },
  {
   "cell_type": "code",
   "execution_count": 47,
   "metadata": {},
   "outputs": [
    {
     "name": "stdout",
     "output_type": "stream",
     "text": [
      "Column: job unique values\n",
      "['housemaid' 'services' 'admin.' 'blue-collar' 'technician' 'retired'\n",
      " 'management' 'unemployed' 'self-employed' 'unknown' 'entrepreneur'\n",
      " 'student']\n",
      "Column: marital unique values\n",
      "['married' 'single' 'divorced' 'unknown']\n",
      "Column: education unique values\n",
      "['basic.4y' 'high.school' 'basic.6y' 'basic.9y' 'professional.course'\n",
      " 'unknown' 'university.degree' 'illiterate']\n",
      "Column: default unique values\n",
      "['no' 'unknown' 'yes']\n",
      "Column: housing unique values\n",
      "['no' 'yes' 'unknown']\n",
      "Column: loan unique values\n",
      "['no' 'yes' 'unknown']\n",
      "Column: contact unique values\n",
      "['telephone' 'cellular']\n",
      "Column: month unique values\n",
      "['may' 'jun' 'jul' 'aug' 'oct' 'nov' 'dec' 'mar' 'apr' 'sep']\n",
      "Column: day_of_week unique values\n",
      "['mon' 'tue' 'wed' 'thu' 'fri']\n",
      "Column: poutcome unique values\n",
      "['nonexistent']\n"
     ]
    }
   ],
   "source": [
    "for cat in categorical_list:\n",
    "    print(f\"Column: {cat} unique values\")\n",
    "    print(bank_df2[cat].unique())"
   ]
  },
  {
   "cell_type": "markdown",
   "metadata": {},
   "source": [
    "**Job**"
   ]
  },
  {
   "cell_type": "code",
   "execution_count": 48,
   "metadata": {},
   "outputs": [
    {
     "data": {
      "text/plain": [
       "admin.           7669\n",
       "blue-collar      7146\n",
       "technician       5086\n",
       "services         2966\n",
       "management       2141\n",
       "entrepreneur     1096\n",
       "self-employed    1060\n",
       "retired           911\n",
       "housemaid         804\n",
       "unemployed        727\n",
       "student           507\n",
       "unknown           247\n",
       "Name: job, dtype: int64"
      ]
     },
     "execution_count": 48,
     "metadata": {},
     "output_type": "execute_result"
    }
   ],
   "source": [
    "bank_df2.job.value_counts()"
   ]
  },
  {
   "cell_type": "code",
   "execution_count": 49,
   "metadata": {},
   "outputs": [
    {
     "name": "stdout",
     "output_type": "stream",
     "text": [
      "##############################################\n",
      "Unkown job clients =  247\n",
      "##############################################\n",
      "Percentage of unknown client's job = 0.81 %\n"
     ]
    },
    {
     "data": {
      "image/png": "[encoded data removed]",
      "text/plain": [
       "<Figure size 432x288 with 1 Axes>"
      ]
     },
     "metadata": {
      "needs_background": "light"
     },
     "output_type": "display_data"
    }
   ],
   "source": [
    "sns.countplot(data=bank_df2, y='job',hue ='y', edgecolor ='black')\n",
    "print('##############################################')\n",
    "print('Unkown job clients = ', bank_df2[(bank_df2['job'] =='unknown')].shape[0])\n",
    "print('##############################################')\n",
    "print(\"Percentage of unknown client's job =\" ,round(bank_df2[(bank_df2['job'] =='unknown')].shape[0]/bank_df2.shape[0]*100,2),'%')"
   ]
  },
  {
   "cell_type": "markdown",
   "metadata": {},
   "source": [
    "**Marital**"
   ]
  },
  {
   "cell_type": "code",
   "execution_count": 50,
   "metadata": {},
   "outputs": [
    {
     "data": {
      "text/plain": [
       "married     18647\n",
       "single       8305\n",
       "divorced     3362\n",
       "unknown        46\n",
       "Name: marital, dtype: int64"
      ]
     },
     "execution_count": 50,
     "metadata": {},
     "output_type": "execute_result"
    }
   ],
   "source": [
    "bank_df2.marital.value_counts()"
   ]
  },
  {
   "cell_type": "code",
   "execution_count": 51,
   "metadata": {},
   "outputs": [
    {
     "name": "stdout",
     "output_type": "stream",
     "text": [
      "##############################################\n",
      "Unkown job clients =  46\n",
      "##############################################\n",
      "Percentage of unknown client's marital = 0.15 %\n"
     ]
    },
    {
     "data": {
      "image/png": "[encoded data removed]",
      "text/plain": [
       "<Figure size 432x288 with 1 Axes>"
      ]
     },
     "metadata": {
      "needs_background": "light"
     },
     "output_type": "display_data"
    }
   ],
   "source": [
    "sns.countplot(data=bank_df2, x='marital',hue ='y', edgecolor ='black')\n",
    "print('##############################################')\n",
    "print('Unkown job clients = ', bank_df2[(bank_df2['marital'] =='unknown')].shape[0])\n",
    "print('##############################################')\n",
    "print(\"Percentage of unknown client's marital =\" ,round(bank_df2[(bank_df2['marital'] =='unknown')].shape[0]/bank_df2.shape[0]*100,2),'%')"
   ]
  },
  {
   "cell_type": "markdown",
   "metadata": {},
   "source": [
    "**Education**"
   ]
  },
  {
   "cell_type": "code",
   "execution_count": 52,
   "metadata": {},
   "outputs": [
    {
     "data": {
      "text/plain": [
       "university.degree      8879\n",
       "high.school            6940\n",
       "basic.9y               4604\n",
       "professional.course    3911\n",
       "basic.4y               3047\n",
       "basic.6y               1734\n",
       "unknown                1232\n",
       "illiterate               13\n",
       "Name: education, dtype: int64"
      ]
     },
     "execution_count": 52,
     "metadata": {},
     "output_type": "execute_result"
    }
   ],
   "source": [
    "bank_df2.education.value_counts()"
   ]
  },
  {
   "cell_type": "code",
   "execution_count": 53,
   "metadata": {},
   "outputs": [
    {
     "name": "stdout",
     "output_type": "stream",
     "text": [
      "##############################################\n",
      "Unkown job clients =  1232\n",
      "##############################################\n",
      "Percentage of unknown client's education level = 4.13 %\n"
     ]
    },
    {
     "data": {
      "image/png": "[encoded data removed]",
      "text/plain": [
       "<Figure size 432x288 with 1 Axes>"
      ]
     },
     "metadata": {
      "needs_background": "light"
     },
     "output_type": "display_data"
    }
   ],
   "source": [
    "sns.countplot(data=bank_df2, y='education',hue ='y', edgecolor ='black')\n",
    "print('##############################################')\n",
    "print('Unkown job clients = ', bank_df2[(bank_df2['education'] =='unknown')].shape[0])\n",
    "print('##############################################')\n",
    "print(\"Percentage of unknown client's education level =\" ,round(bank_df2[(bank_df['education'] =='unknown')].shape[0]/bank_df2.shape[0]*100,2),'%')"
   ]
  },
  {
   "cell_type": "markdown",
   "metadata": {},
   "source": [
    "**Default**"
   ]
  },
  {
   "cell_type": "code",
   "execution_count": 54,
   "metadata": {},
   "outputs": [
    {
     "data": {
      "text/plain": [
       "no         23494\n",
       "unknown     6864\n",
       "yes            2\n",
       "Name: default, dtype: int64"
      ]
     },
     "execution_count": 54,
     "metadata": {},
     "output_type": "execute_result"
    }
   ],
   "source": [
    "bank_df2.default.value_counts()"
   ]
  },
  {
   "cell_type": "code",
   "execution_count": 55,
   "metadata": {},
   "outputs": [
    {
     "name": "stdout",
     "output_type": "stream",
     "text": [
      "##############################################\n",
      "Unkown job clients =  6864\n",
      "##############################################\n",
      "Percentage of unknown client's default = 22.61 %\n"
     ]
    },
    {
     "data": {
      "image/png": "[encoded data removed]",
      "text/plain": [
       "<Figure size 432x288 with 1 Axes>"
      ]
     },
     "metadata": {
      "needs_background": "light"
     },
     "output_type": "display_data"
    }
   ],
   "source": [
    "sns.countplot(data=bank_df2, y='default',hue ='y', edgecolor ='black')\n",
    "print('##############################################')\n",
    "print('Unkown job clients = ', bank_df2[(bank_df2['default'] =='unknown')].shape[0])\n",
    "print('##############################################')\n",
    "print(\"Percentage of unknown client's default =\" ,round(bank_df2[(bank_df2['default'] =='unknown')].shape[0]/bank_df2.shape[0]*100,2),'%')"
   ]
  },
  {
   "cell_type": "markdown",
   "metadata": {},
   "source": [
    "**Housing**"
   ]
  },
  {
   "cell_type": "code",
   "execution_count": 56,
   "metadata": {},
   "outputs": [
    {
     "data": {
      "text/plain": [
       "yes        15799\n",
       "no         13826\n",
       "unknown      735\n",
       "Name: housing, dtype: int64"
      ]
     },
     "execution_count": 56,
     "metadata": {},
     "output_type": "execute_result"
    }
   ],
   "source": [
    "bank_df2.housing.value_counts()"
   ]
  },
  {
   "cell_type": "code",
   "execution_count": 57,
   "metadata": {},
   "outputs": [
    {
     "name": "stdout",
     "output_type": "stream",
     "text": [
      "##############################################\n",
      "Unkown job clients =  735\n",
      "##############################################\n",
      "Percentage of unknown client's default = 2.41 %\n"
     ]
    },
    {
     "data": {
      "image/png": "[encoded data removed]",
      "text/plain": [
       "<Figure size 432x288 with 1 Axes>"
      ]
     },
     "metadata": {
      "needs_background": "light"
     },
     "output_type": "display_data"
    }
   ],
   "source": [
    "sns.countplot(data=bank_df2, y='housing',hue ='y', edgecolor ='black')\n",
    "print('##############################################')\n",
    "print('Unkown job clients = ', bank_df2[(bank_df2['housing'] =='unknown')].shape[0])\n",
    "print('##############################################')\n",
    "print(\"Percentage of unknown client's default =\" ,round(bank_df2[(bank_df['housing'] =='unknown')].shape[0]/bank_df2.shape[0]*100,2),'%')"
   ]
  },
  {
   "cell_type": "markdown",
   "metadata": {},
   "source": [
    "**Loan**"
   ]
  },
  {
   "cell_type": "code",
   "execution_count": 58,
   "metadata": {},
   "outputs": [
    {
     "data": {
      "text/plain": [
       "no         25026\n",
       "yes         4599\n",
       "unknown      735\n",
       "Name: loan, dtype: int64"
      ]
     },
     "execution_count": 58,
     "metadata": {},
     "output_type": "execute_result"
    }
   ],
   "source": [
    "bank_df2.loan.value_counts()"
   ]
  },
  {
   "cell_type": "code",
   "execution_count": 59,
   "metadata": {},
   "outputs": [
    {
     "name": "stdout",
     "output_type": "stream",
     "text": [
      "##############################################\n",
      "Unkown job clients =  735\n",
      "##############################################\n",
      "Percentage of unknown client's default = 2.42 %\n"
     ]
    },
    {
     "data": {
      "image/png": "[encoded data removed]",
      "text/plain": [
       "<Figure size 432x288 with 1 Axes>"
      ]
     },
     "metadata": {
      "needs_background": "light"
     },
     "output_type": "display_data"
    }
   ],
   "source": [
    "sns.countplot(data=bank_df2, y='housing',hue ='y', edgecolor ='black')\n",
    "print('##############################################')\n",
    "print('Unkown job clients = ', bank_df2[(bank_df2['housing'] =='unknown')].shape[0])\n",
    "print('##############################################')\n",
    "print(\"Percentage of unknown client's default =\" ,round(bank_df2[(bank_df2['housing'] =='unknown')].shape[0]/bank_df2.shape[0]*100,2),'%')"
   ]
  },
  {
   "cell_type": "markdown",
   "metadata": {},
   "source": [
    "### **Categorical Features Imputation**"
   ]
  },
  {
   "cell_type": "code",
   "execution_count": 60,
   "metadata": {},
   "outputs": [
    {
     "data": {
      "text/plain": [
       "age               0\n",
       "job               0\n",
       "marital           0\n",
       "education         0\n",
       "default           0\n",
       "housing           0\n",
       "loan              0\n",
       "contact           0\n",
       "month             0\n",
       "day_of_week       0\n",
       "duration          0\n",
       "campaign          0\n",
       "pdays             0\n",
       "previous          0\n",
       "poutcome          0\n",
       "emp.var.rate      0\n",
       "cons.price.idx    0\n",
       "cons.conf.idx     0\n",
       "euribor3m         0\n",
       "nr.employed       0\n",
       "y                 0\n",
       "dtype: int64"
      ]
     },
     "execution_count": 60,
     "metadata": {},
     "output_type": "execute_result"
    }
   ],
   "source": [
    "bank_df2.isna().sum()"
   ]
  },
  {
   "cell_type": "code",
   "execution_count": 61,
   "metadata": {},
   "outputs": [
    {
     "data": {
      "text/html": [
       "<div>\n",
       "<style scoped>\n",
       "    .dataframe tbody tr th:only-of-type {\n",
       "        vertical-align: middle;\n",
       "    }\n",
       "\n",
       "    .dataframe tbody tr th {\n",
       "        vertical-align: top;\n",
       "    }\n",
       "\n",
       "    .dataframe thead th {\n",
       "        text-align: right;\n",
       "    }\n",
       "</style>\n",
       "<table border=\"1\" class=\"dataframe\">\n",
       "  <thead>\n",
       "    <tr style=\"text-align: right;\">\n",
       "      <th></th>\n",
       "      <th>age</th>\n",
       "      <th>job</th>\n",
       "      <th>marital</th>\n",
       "      <th>education</th>\n",
       "      <th>default</th>\n",
       "      <th>housing</th>\n",
       "      <th>loan</th>\n",
       "      <th>contact</th>\n",
       "      <th>month</th>\n",
       "      <th>day_of_week</th>\n",
       "      <th>...</th>\n",
       "      <th>campaign</th>\n",
       "      <th>pdays</th>\n",
       "      <th>previous</th>\n",
       "      <th>poutcome</th>\n",
       "      <th>emp.var.rate</th>\n",
       "      <th>cons.price.idx</th>\n",
       "      <th>cons.conf.idx</th>\n",
       "      <th>euribor3m</th>\n",
       "      <th>nr.employed</th>\n",
       "      <th>y</th>\n",
       "    </tr>\n",
       "  </thead>\n",
       "  <tbody>\n",
       "    <tr>\n",
       "      <th>0</th>\n",
       "      <td>56</td>\n",
       "      <td>housemaid</td>\n",
       "      <td>married</td>\n",
       "      <td>basic.4y</td>\n",
       "      <td>no</td>\n",
       "      <td>no</td>\n",
       "      <td>no</td>\n",
       "      <td>telephone</td>\n",
       "      <td>may</td>\n",
       "      <td>mon</td>\n",
       "      <td>...</td>\n",
       "      <td>1</td>\n",
       "      <td>999</td>\n",
       "      <td>0</td>\n",
       "      <td>nonexistent</td>\n",
       "      <td>1.1</td>\n",
       "      <td>93.994</td>\n",
       "      <td>-36.4</td>\n",
       "      <td>4.857</td>\n",
       "      <td>5191.0</td>\n",
       "      <td>no</td>\n",
       "    </tr>\n",
       "    <tr>\n",
       "      <th>1</th>\n",
       "      <td>57</td>\n",
       "      <td>services</td>\n",
       "      <td>married</td>\n",
       "      <td>high.school</td>\n",
       "      <td>NaN</td>\n",
       "      <td>no</td>\n",
       "      <td>no</td>\n",
       "      <td>telephone</td>\n",
       "      <td>may</td>\n",
       "      <td>mon</td>\n",
       "      <td>...</td>\n",
       "      <td>1</td>\n",
       "      <td>999</td>\n",
       "      <td>0</td>\n",
       "      <td>nonexistent</td>\n",
       "      <td>1.1</td>\n",
       "      <td>93.994</td>\n",
       "      <td>-36.4</td>\n",
       "      <td>4.857</td>\n",
       "      <td>5191.0</td>\n",
       "      <td>no</td>\n",
       "    </tr>\n",
       "    <tr>\n",
       "      <th>2</th>\n",
       "      <td>37</td>\n",
       "      <td>services</td>\n",
       "      <td>married</td>\n",
       "      <td>high.school</td>\n",
       "      <td>no</td>\n",
       "      <td>yes</td>\n",
       "      <td>no</td>\n",
       "      <td>telephone</td>\n",
       "      <td>may</td>\n",
       "      <td>mon</td>\n",
       "      <td>...</td>\n",
       "      <td>1</td>\n",
       "      <td>999</td>\n",
       "      <td>0</td>\n",
       "      <td>nonexistent</td>\n",
       "      <td>1.1</td>\n",
       "      <td>93.994</td>\n",
       "      <td>-36.4</td>\n",
       "      <td>4.857</td>\n",
       "      <td>5191.0</td>\n",
       "      <td>no</td>\n",
       "    </tr>\n",
       "    <tr>\n",
       "      <th>3</th>\n",
       "      <td>40</td>\n",
       "      <td>admin.</td>\n",
       "      <td>married</td>\n",
       "      <td>basic.6y</td>\n",
       "      <td>no</td>\n",
       "      <td>no</td>\n",
       "      <td>no</td>\n",
       "      <td>telephone</td>\n",
       "      <td>may</td>\n",
       "      <td>mon</td>\n",
       "      <td>...</td>\n",
       "      <td>1</td>\n",
       "      <td>999</td>\n",
       "      <td>0</td>\n",
       "      <td>nonexistent</td>\n",
       "      <td>1.1</td>\n",
       "      <td>93.994</td>\n",
       "      <td>-36.4</td>\n",
       "      <td>4.857</td>\n",
       "      <td>5191.0</td>\n",
       "      <td>no</td>\n",
       "    </tr>\n",
       "    <tr>\n",
       "      <th>4</th>\n",
       "      <td>56</td>\n",
       "      <td>services</td>\n",
       "      <td>married</td>\n",
       "      <td>high.school</td>\n",
       "      <td>no</td>\n",
       "      <td>no</td>\n",
       "      <td>yes</td>\n",
       "      <td>telephone</td>\n",
       "      <td>may</td>\n",
       "      <td>mon</td>\n",
       "      <td>...</td>\n",
       "      <td>1</td>\n",
       "      <td>999</td>\n",
       "      <td>0</td>\n",
       "      <td>nonexistent</td>\n",
       "      <td>1.1</td>\n",
       "      <td>93.994</td>\n",
       "      <td>-36.4</td>\n",
       "      <td>4.857</td>\n",
       "      <td>5191.0</td>\n",
       "      <td>no</td>\n",
       "    </tr>\n",
       "  </tbody>\n",
       "</table>\n",
       "<p>5 rows × 21 columns</p>\n",
       "</div>"
      ],
      "text/plain": [
       "   age        job  marital    education default housing loan    contact month  \\\n",
       "0   56  housemaid  married     basic.4y      no      no   no  telephone   may   \n",
       "1   57   services  married  high.school     NaN      no   no  telephone   may   \n",
       "2   37   services  married  high.school      no     yes   no  telephone   may   \n",
       "3   40     admin.  married     basic.6y      no      no   no  telephone   may   \n",
       "4   56   services  married  high.school      no      no  yes  telephone   may   \n",
       "\n",
       "  day_of_week  ...  campaign  pdays  previous     poutcome emp.var.rate  \\\n",
       "0         mon  ...         1    999         0  nonexistent          1.1   \n",
       "1         mon  ...         1    999         0  nonexistent          1.1   \n",
       "2         mon  ...         1    999         0  nonexistent          1.1   \n",
       "3         mon  ...         1    999         0  nonexistent          1.1   \n",
       "4         mon  ...         1    999         0  nonexistent          1.1   \n",
       "\n",
       "   cons.price.idx  cons.conf.idx  euribor3m  nr.employed   y  \n",
       "0          93.994          -36.4      4.857       5191.0  no  \n",
       "1          93.994          -36.4      4.857       5191.0  no  \n",
       "2          93.994          -36.4      4.857       5191.0  no  \n",
       "3          93.994          -36.4      4.857       5191.0  no  \n",
       "4          93.994          -36.4      4.857       5191.0  no  \n",
       "\n",
       "[5 rows x 21 columns]"
      ]
     },
     "execution_count": 61,
     "metadata": {},
     "output_type": "execute_result"
    }
   ],
   "source": [
    "#Replace unknown value for NaN\n",
    "bank_df2.replace('unknown', np.nan, regex=True,inplace=True)\n",
    "bank_df2.head()"
   ]
  },
  {
   "cell_type": "code",
   "execution_count": 62,
   "metadata": {},
   "outputs": [
    {
     "data": {
      "text/plain": [
       "Text(0, 0.5, 'NaN values')"
      ]
     },
     "execution_count": 62,
     "metadata": {},
     "output_type": "execute_result"
    },
    {
     "data": {
      "image/png": "[encoded data removed]",
      "text/plain": [
       "<Figure size 432x288 with 1 Axes>"
      ]
     },
     "metadata": {
      "needs_background": "light"
     },
     "output_type": "display_data"
    }
   ],
   "source": [
    "bank_df2.isna().sum().plot.bar()\n",
    "plt.ylabel(\"NaN values\")"
   ]
  },
  {
   "cell_type": "markdown",
   "metadata": {},
   "source": [
    "We decided to assume that the unknown values are NaN values. After analysis we determined that the best way to deal with them is to eliminate them.  In some cases, as in the \"default\" variable, the amount of NaN values is higher than 20% of the dataset values. This would mean to impute a large number of instances which would create a lot of bias."
   ]
  },
  {
   "cell_type": "code",
   "execution_count": 63,
   "metadata": {},
   "outputs": [
    {
     "name": "stdout",
     "output_type": "stream",
     "text": [
      "8300 rows were eliminated\n",
      "Equivalent to 27.34  % of the original dataset\n",
      "Current dataset size =  22060\n"
     ]
    }
   ],
   "source": [
    "eliminacion = bank_df2.copy()\n",
    "eliminacion = eliminacion.dropna()\n",
    "print(bank_df2.shape[0]-eliminacion.shape[0], 'rows were eliminated')\n",
    "print('Equivalent to',round(((bank_df2.shape[0]-eliminacion.shape[0])/bank_df2.shape[0])*100,2),' % of the original dataset')\n",
    "print( 'Current dataset size = ',eliminacion.shape[0])"
   ]
  },
  {
   "cell_type": "code",
   "execution_count": 64,
   "metadata": {},
   "outputs": [],
   "source": [
    "bank_df3 = eliminacion.copy()\n",
    "bank_df3 = bank_df3.drop(\"default\", axis=1)"
   ]
  },
  {
   "cell_type": "code",
   "execution_count": 65,
   "metadata": {},
   "outputs": [
    {
     "data": {
      "text/html": [
       "<div>\n",
       "<style scoped>\n",
       "    .dataframe tbody tr th:only-of-type {\n",
       "        vertical-align: middle;\n",
       "    }\n",
       "\n",
       "    .dataframe tbody tr th {\n",
       "        vertical-align: top;\n",
       "    }\n",
       "\n",
       "    .dataframe thead th {\n",
       "        text-align: right;\n",
       "    }\n",
       "</style>\n",
       "<table border=\"1\" class=\"dataframe\">\n",
       "  <thead>\n",
       "    <tr style=\"text-align: right;\">\n",
       "      <th></th>\n",
       "      <th>age</th>\n",
       "      <th>job</th>\n",
       "      <th>marital</th>\n",
       "      <th>education</th>\n",
       "      <th>housing</th>\n",
       "      <th>loan</th>\n",
       "      <th>contact</th>\n",
       "      <th>month</th>\n",
       "      <th>day_of_week</th>\n",
       "      <th>duration</th>\n",
       "      <th>campaign</th>\n",
       "      <th>pdays</th>\n",
       "      <th>previous</th>\n",
       "      <th>poutcome</th>\n",
       "      <th>emp.var.rate</th>\n",
       "      <th>cons.price.idx</th>\n",
       "      <th>cons.conf.idx</th>\n",
       "      <th>euribor3m</th>\n",
       "      <th>nr.employed</th>\n",
       "      <th>y</th>\n",
       "    </tr>\n",
       "  </thead>\n",
       "  <tbody>\n",
       "    <tr>\n",
       "      <th>0</th>\n",
       "      <td>56</td>\n",
       "      <td>housemaid</td>\n",
       "      <td>married</td>\n",
       "      <td>basic.4y</td>\n",
       "      <td>no</td>\n",
       "      <td>no</td>\n",
       "      <td>telephone</td>\n",
       "      <td>may</td>\n",
       "      <td>mon</td>\n",
       "      <td>261</td>\n",
       "      <td>1</td>\n",
       "      <td>999</td>\n",
       "      <td>0</td>\n",
       "      <td>nonexistent</td>\n",
       "      <td>1.1</td>\n",
       "      <td>93.994</td>\n",
       "      <td>-36.4</td>\n",
       "      <td>4.857</td>\n",
       "      <td>5191.0</td>\n",
       "      <td>no</td>\n",
       "    </tr>\n",
       "    <tr>\n",
       "      <th>2</th>\n",
       "      <td>37</td>\n",
       "      <td>services</td>\n",
       "      <td>married</td>\n",
       "      <td>high.school</td>\n",
       "      <td>yes</td>\n",
       "      <td>no</td>\n",
       "      <td>telephone</td>\n",
       "      <td>may</td>\n",
       "      <td>mon</td>\n",
       "      <td>226</td>\n",
       "      <td>1</td>\n",
       "      <td>999</td>\n",
       "      <td>0</td>\n",
       "      <td>nonexistent</td>\n",
       "      <td>1.1</td>\n",
       "      <td>93.994</td>\n",
       "      <td>-36.4</td>\n",
       "      <td>4.857</td>\n",
       "      <td>5191.0</td>\n",
       "      <td>no</td>\n",
       "    </tr>\n",
       "    <tr>\n",
       "      <th>3</th>\n",
       "      <td>40</td>\n",
       "      <td>admin.</td>\n",
       "      <td>married</td>\n",
       "      <td>basic.6y</td>\n",
       "      <td>no</td>\n",
       "      <td>no</td>\n",
       "      <td>telephone</td>\n",
       "      <td>may</td>\n",
       "      <td>mon</td>\n",
       "      <td>151</td>\n",
       "      <td>1</td>\n",
       "      <td>999</td>\n",
       "      <td>0</td>\n",
       "      <td>nonexistent</td>\n",
       "      <td>1.1</td>\n",
       "      <td>93.994</td>\n",
       "      <td>-36.4</td>\n",
       "      <td>4.857</td>\n",
       "      <td>5191.0</td>\n",
       "      <td>no</td>\n",
       "    </tr>\n",
       "    <tr>\n",
       "      <th>4</th>\n",
       "      <td>56</td>\n",
       "      <td>services</td>\n",
       "      <td>married</td>\n",
       "      <td>high.school</td>\n",
       "      <td>no</td>\n",
       "      <td>yes</td>\n",
       "      <td>telephone</td>\n",
       "      <td>may</td>\n",
       "      <td>mon</td>\n",
       "      <td>307</td>\n",
       "      <td>1</td>\n",
       "      <td>999</td>\n",
       "      <td>0</td>\n",
       "      <td>nonexistent</td>\n",
       "      <td>1.1</td>\n",
       "      <td>93.994</td>\n",
       "      <td>-36.4</td>\n",
       "      <td>4.857</td>\n",
       "      <td>5191.0</td>\n",
       "      <td>no</td>\n",
       "    </tr>\n",
       "    <tr>\n",
       "      <th>6</th>\n",
       "      <td>59</td>\n",
       "      <td>admin.</td>\n",
       "      <td>married</td>\n",
       "      <td>professional.course</td>\n",
       "      <td>no</td>\n",
       "      <td>no</td>\n",
       "      <td>telephone</td>\n",
       "      <td>may</td>\n",
       "      <td>mon</td>\n",
       "      <td>139</td>\n",
       "      <td>1</td>\n",
       "      <td>999</td>\n",
       "      <td>0</td>\n",
       "      <td>nonexistent</td>\n",
       "      <td>1.1</td>\n",
       "      <td>93.994</td>\n",
       "      <td>-36.4</td>\n",
       "      <td>4.857</td>\n",
       "      <td>5191.0</td>\n",
       "      <td>no</td>\n",
       "    </tr>\n",
       "  </tbody>\n",
       "</table>\n",
       "</div>"
      ],
      "text/plain": [
       "   age        job  marital            education housing loan    contact month  \\\n",
       "0   56  housemaid  married             basic.4y      no   no  telephone   may   \n",
       "2   37   services  married          high.school     yes   no  telephone   may   \n",
       "3   40     admin.  married             basic.6y      no   no  telephone   may   \n",
       "4   56   services  married          high.school      no  yes  telephone   may   \n",
       "6   59     admin.  married  professional.course      no   no  telephone   may   \n",
       "\n",
       "  day_of_week  duration  campaign  pdays  previous     poutcome  emp.var.rate  \\\n",
       "0         mon       261         1    999         0  nonexistent           1.1   \n",
       "2         mon       226         1    999         0  nonexistent           1.1   \n",
       "3         mon       151         1    999         0  nonexistent           1.1   \n",
       "4         mon       307         1    999         0  nonexistent           1.1   \n",
       "6         mon       139         1    999         0  nonexistent           1.1   \n",
       "\n",
       "   cons.price.idx  cons.conf.idx  euribor3m  nr.employed   y  \n",
       "0          93.994          -36.4      4.857       5191.0  no  \n",
       "2          93.994          -36.4      4.857       5191.0  no  \n",
       "3          93.994          -36.4      4.857       5191.0  no  \n",
       "4          93.994          -36.4      4.857       5191.0  no  \n",
       "6          93.994          -36.4      4.857       5191.0  no  "
      ]
     },
     "execution_count": 65,
     "metadata": {},
     "output_type": "execute_result"
    }
   ],
   "source": [
    "bank_df3.head()"
   ]
  },
  {
   "cell_type": "markdown",
   "metadata": {},
   "source": [
    "## **Numerical features analysis**"
   ]
  },
  {
   "cell_type": "code",
   "execution_count": 66,
   "metadata": {},
   "outputs": [
    {
     "data": {
      "text/html": [
       "<div>\n",
       "<style scoped>\n",
       "    .dataframe tbody tr th:only-of-type {\n",
       "        vertical-align: middle;\n",
       "    }\n",
       "\n",
       "    .dataframe tbody tr th {\n",
       "        vertical-align: top;\n",
       "    }\n",
       "\n",
       "    .dataframe thead th {\n",
       "        text-align: right;\n",
       "    }\n",
       "</style>\n",
       "<table border=\"1\" class=\"dataframe\">\n",
       "  <thead>\n",
       "    <tr style=\"text-align: right;\">\n",
       "      <th></th>\n",
       "      <th>age</th>\n",
       "      <th>duration</th>\n",
       "      <th>campaign</th>\n",
       "      <th>pdays</th>\n",
       "      <th>previous</th>\n",
       "      <th>emp.var.rate</th>\n",
       "      <th>cons.price.idx</th>\n",
       "      <th>cons.conf.idx</th>\n",
       "      <th>euribor3m</th>\n",
       "      <th>nr.employed</th>\n",
       "    </tr>\n",
       "  </thead>\n",
       "  <tbody>\n",
       "    <tr>\n",
       "      <th>count</th>\n",
       "      <td>22060.000000</td>\n",
       "      <td>22060.000000</td>\n",
       "      <td>22060.000000</td>\n",
       "      <td>22060.0</td>\n",
       "      <td>22060.0</td>\n",
       "      <td>22060.000000</td>\n",
       "      <td>22060.000000</td>\n",
       "      <td>22060.000000</td>\n",
       "      <td>22060.000000</td>\n",
       "      <td>22060.000000</td>\n",
       "    </tr>\n",
       "    <tr>\n",
       "      <th>mean</th>\n",
       "      <td>38.521940</td>\n",
       "      <td>205.165367</td>\n",
       "      <td>2.066636</td>\n",
       "      <td>999.0</td>\n",
       "      <td>0.0</td>\n",
       "      <td>0.251976</td>\n",
       "      <td>93.595045</td>\n",
       "      <td>-40.572743</td>\n",
       "      <td>3.828644</td>\n",
       "      <td>5176.922974</td>\n",
       "    </tr>\n",
       "    <tr>\n",
       "      <th>std</th>\n",
       "      <td>9.249297</td>\n",
       "      <td>140.269352</td>\n",
       "      <td>1.293994</td>\n",
       "      <td>0.0</td>\n",
       "      <td>0.0</td>\n",
       "      <td>1.479560</td>\n",
       "      <td>0.548236</td>\n",
       "      <td>4.286526</td>\n",
       "      <td>1.624231</td>\n",
       "      <td>64.162172</td>\n",
       "    </tr>\n",
       "    <tr>\n",
       "      <th>min</th>\n",
       "      <td>18.000000</td>\n",
       "      <td>0.000000</td>\n",
       "      <td>1.000000</td>\n",
       "      <td>999.0</td>\n",
       "      <td>0.0</td>\n",
       "      <td>-3.400000</td>\n",
       "      <td>92.201000</td>\n",
       "      <td>-50.800000</td>\n",
       "      <td>0.634000</td>\n",
       "      <td>4963.600000</td>\n",
       "    </tr>\n",
       "    <tr>\n",
       "      <th>25%</th>\n",
       "      <td>31.000000</td>\n",
       "      <td>100.000000</td>\n",
       "      <td>1.000000</td>\n",
       "      <td>999.0</td>\n",
       "      <td>0.0</td>\n",
       "      <td>-1.800000</td>\n",
       "      <td>93.200000</td>\n",
       "      <td>-42.700000</td>\n",
       "      <td>1.415000</td>\n",
       "      <td>5099.100000</td>\n",
       "    </tr>\n",
       "    <tr>\n",
       "      <th>50%</th>\n",
       "      <td>37.000000</td>\n",
       "      <td>168.000000</td>\n",
       "      <td>2.000000</td>\n",
       "      <td>999.0</td>\n",
       "      <td>0.0</td>\n",
       "      <td>1.100000</td>\n",
       "      <td>93.798000</td>\n",
       "      <td>-41.800000</td>\n",
       "      <td>4.857000</td>\n",
       "      <td>5195.800000</td>\n",
       "    </tr>\n",
       "    <tr>\n",
       "      <th>75%</th>\n",
       "      <td>45.000000</td>\n",
       "      <td>277.000000</td>\n",
       "      <td>3.000000</td>\n",
       "      <td>999.0</td>\n",
       "      <td>0.0</td>\n",
       "      <td>1.400000</td>\n",
       "      <td>93.994000</td>\n",
       "      <td>-36.400000</td>\n",
       "      <td>4.962000</td>\n",
       "      <td>5228.100000</td>\n",
       "    </tr>\n",
       "    <tr>\n",
       "      <th>max</th>\n",
       "      <td>69.000000</td>\n",
       "      <td>644.000000</td>\n",
       "      <td>6.000000</td>\n",
       "      <td>999.0</td>\n",
       "      <td>0.0</td>\n",
       "      <td>1.400000</td>\n",
       "      <td>94.767000</td>\n",
       "      <td>-29.800000</td>\n",
       "      <td>5.045000</td>\n",
       "      <td>5228.100000</td>\n",
       "    </tr>\n",
       "  </tbody>\n",
       "</table>\n",
       "</div>"
      ],
      "text/plain": [
       "                age      duration      campaign    pdays  previous  \\\n",
       "count  22060.000000  22060.000000  22060.000000  22060.0   22060.0   \n",
       "mean      38.521940    205.165367      2.066636    999.0       0.0   \n",
       "std        9.249297    140.269352      1.293994      0.0       0.0   \n",
       "min       18.000000      0.000000      1.000000    999.0       0.0   \n",
       "25%       31.000000    100.000000      1.000000    999.0       0.0   \n",
       "50%       37.000000    168.000000      2.000000    999.0       0.0   \n",
       "75%       45.000000    277.000000      3.000000    999.0       0.0   \n",
       "max       69.000000    644.000000      6.000000    999.0       0.0   \n",
       "\n",
       "       emp.var.rate  cons.price.idx  cons.conf.idx     euribor3m   nr.employed  \n",
       "count  22060.000000    22060.000000   22060.000000  22060.000000  22060.000000  \n",
       "mean       0.251976       93.595045     -40.572743      3.828644   5176.922974  \n",
       "std        1.479560        0.548236       4.286526      1.624231     64.162172  \n",
       "min       -3.400000       92.201000     -50.800000      0.634000   4963.600000  \n",
       "25%       -1.800000       93.200000     -42.700000      1.415000   5099.100000  \n",
       "50%        1.100000       93.798000     -41.800000      4.857000   5195.800000  \n",
       "75%        1.400000       93.994000     -36.400000      4.962000   5228.100000  \n",
       "max        1.400000       94.767000     -29.800000      5.045000   5228.100000  "
      ]
     },
     "execution_count": 66,
     "metadata": {},
     "output_type": "execute_result"
    }
   ],
   "source": [
    "#Numerical features\n",
    "\n",
    "numerical = bank_df3.select_dtypes(include=[np.number])\n",
    "numerical_cols = numerical.columns.to_list()\n",
    "numerical.describe()"
   ]
  },
  {
   "cell_type": "code",
   "execution_count": 67,
   "metadata": {},
   "outputs": [
    {
     "data": {
      "image/png": "[encoded data removed]",
      "text/plain": [
       "<Figure size 720x720 with 12 Axes>"
      ]
     },
     "metadata": {
      "needs_background": "light"
     },
     "output_type": "display_data"
    }
   ],
   "source": [
    "numerical.hist(bins = 15, figsize = (10,10), xlabelsize = 0.1, ylabelsize = 0.1)\n",
    "plt.show()"
   ]
  },
  {
   "cell_type": "markdown",
   "metadata": {},
   "source": [
    "We can observe that \"duration\" is skewed."
   ]
  },
  {
   "cell_type": "code",
   "execution_count": 68,
   "metadata": {},
   "outputs": [],
   "source": [
    "bank_df4 = bank_df3.drop([\"pdays\", \"previous\"], axis=1)"
   ]
  },
  {
   "cell_type": "code",
   "execution_count": 69,
   "metadata": {},
   "outputs": [
    {
     "data": {
      "text/html": [
       "<div>\n",
       "<style scoped>\n",
       "    .dataframe tbody tr th:only-of-type {\n",
       "        vertical-align: middle;\n",
       "    }\n",
       "\n",
       "    .dataframe tbody tr th {\n",
       "        vertical-align: top;\n",
       "    }\n",
       "\n",
       "    .dataframe thead th {\n",
       "        text-align: right;\n",
       "    }\n",
       "</style>\n",
       "<table border=\"1\" class=\"dataframe\">\n",
       "  <thead>\n",
       "    <tr style=\"text-align: right;\">\n",
       "      <th></th>\n",
       "      <th>age</th>\n",
       "      <th>job</th>\n",
       "      <th>marital</th>\n",
       "      <th>education</th>\n",
       "      <th>housing</th>\n",
       "      <th>loan</th>\n",
       "      <th>contact</th>\n",
       "      <th>month</th>\n",
       "      <th>day_of_week</th>\n",
       "      <th>duration</th>\n",
       "      <th>campaign</th>\n",
       "      <th>poutcome</th>\n",
       "      <th>emp.var.rate</th>\n",
       "      <th>cons.price.idx</th>\n",
       "      <th>cons.conf.idx</th>\n",
       "      <th>euribor3m</th>\n",
       "      <th>nr.employed</th>\n",
       "      <th>y</th>\n",
       "    </tr>\n",
       "  </thead>\n",
       "  <tbody>\n",
       "    <tr>\n",
       "      <th>0</th>\n",
       "      <td>56</td>\n",
       "      <td>housemaid</td>\n",
       "      <td>married</td>\n",
       "      <td>basic.4y</td>\n",
       "      <td>no</td>\n",
       "      <td>no</td>\n",
       "      <td>telephone</td>\n",
       "      <td>may</td>\n",
       "      <td>mon</td>\n",
       "      <td>261</td>\n",
       "      <td>1</td>\n",
       "      <td>nonexistent</td>\n",
       "      <td>1.1</td>\n",
       "      <td>93.994</td>\n",
       "      <td>-36.4</td>\n",
       "      <td>4.857</td>\n",
       "      <td>5191.0</td>\n",
       "      <td>no</td>\n",
       "    </tr>\n",
       "    <tr>\n",
       "      <th>2</th>\n",
       "      <td>37</td>\n",
       "      <td>services</td>\n",
       "      <td>married</td>\n",
       "      <td>high.school</td>\n",
       "      <td>yes</td>\n",
       "      <td>no</td>\n",
       "      <td>telephone</td>\n",
       "      <td>may</td>\n",
       "      <td>mon</td>\n",
       "      <td>226</td>\n",
       "      <td>1</td>\n",
       "      <td>nonexistent</td>\n",
       "      <td>1.1</td>\n",
       "      <td>93.994</td>\n",
       "      <td>-36.4</td>\n",
       "      <td>4.857</td>\n",
       "      <td>5191.0</td>\n",
       "      <td>no</td>\n",
       "    </tr>\n",
       "    <tr>\n",
       "      <th>3</th>\n",
       "      <td>40</td>\n",
       "      <td>admin.</td>\n",
       "      <td>married</td>\n",
       "      <td>basic.6y</td>\n",
       "      <td>no</td>\n",
       "      <td>no</td>\n",
       "      <td>telephone</td>\n",
       "      <td>may</td>\n",
       "      <td>mon</td>\n",
       "      <td>151</td>\n",
       "      <td>1</td>\n",
       "      <td>nonexistent</td>\n",
       "      <td>1.1</td>\n",
       "      <td>93.994</td>\n",
       "      <td>-36.4</td>\n",
       "      <td>4.857</td>\n",
       "      <td>5191.0</td>\n",
       "      <td>no</td>\n",
       "    </tr>\n",
       "    <tr>\n",
       "      <th>4</th>\n",
       "      <td>56</td>\n",
       "      <td>services</td>\n",
       "      <td>married</td>\n",
       "      <td>high.school</td>\n",
       "      <td>no</td>\n",
       "      <td>yes</td>\n",
       "      <td>telephone</td>\n",
       "      <td>may</td>\n",
       "      <td>mon</td>\n",
       "      <td>307</td>\n",
       "      <td>1</td>\n",
       "      <td>nonexistent</td>\n",
       "      <td>1.1</td>\n",
       "      <td>93.994</td>\n",
       "      <td>-36.4</td>\n",
       "      <td>4.857</td>\n",
       "      <td>5191.0</td>\n",
       "      <td>no</td>\n",
       "    </tr>\n",
       "    <tr>\n",
       "      <th>6</th>\n",
       "      <td>59</td>\n",
       "      <td>admin.</td>\n",
       "      <td>married</td>\n",
       "      <td>professional.course</td>\n",
       "      <td>no</td>\n",
       "      <td>no</td>\n",
       "      <td>telephone</td>\n",
       "      <td>may</td>\n",
       "      <td>mon</td>\n",
       "      <td>139</td>\n",
       "      <td>1</td>\n",
       "      <td>nonexistent</td>\n",
       "      <td>1.1</td>\n",
       "      <td>93.994</td>\n",
       "      <td>-36.4</td>\n",
       "      <td>4.857</td>\n",
       "      <td>5191.0</td>\n",
       "      <td>no</td>\n",
       "    </tr>\n",
       "  </tbody>\n",
       "</table>\n",
       "</div>"
      ],
      "text/plain": [
       "   age        job  marital            education housing loan    contact month  \\\n",
       "0   56  housemaid  married             basic.4y      no   no  telephone   may   \n",
       "2   37   services  married          high.school     yes   no  telephone   may   \n",
       "3   40     admin.  married             basic.6y      no   no  telephone   may   \n",
       "4   56   services  married          high.school      no  yes  telephone   may   \n",
       "6   59     admin.  married  professional.course      no   no  telephone   may   \n",
       "\n",
       "  day_of_week  duration  campaign     poutcome  emp.var.rate  cons.price.idx  \\\n",
       "0         mon       261         1  nonexistent           1.1          93.994   \n",
       "2         mon       226         1  nonexistent           1.1          93.994   \n",
       "3         mon       151         1  nonexistent           1.1          93.994   \n",
       "4         mon       307         1  nonexistent           1.1          93.994   \n",
       "6         mon       139         1  nonexistent           1.1          93.994   \n",
       "\n",
       "   cons.conf.idx  euribor3m  nr.employed   y  \n",
       "0          -36.4      4.857       5191.0  no  \n",
       "2          -36.4      4.857       5191.0  no  \n",
       "3          -36.4      4.857       5191.0  no  \n",
       "4          -36.4      4.857       5191.0  no  \n",
       "6          -36.4      4.857       5191.0  no  "
      ]
     },
     "execution_count": 69,
     "metadata": {},
     "output_type": "execute_result"
    }
   ],
   "source": [
    "bank_df4.head()"
   ]
  },
  {
   "cell_type": "code",
   "execution_count": 70,
   "metadata": {},
   "outputs": [
    {
     "data": {
      "text/plain": [
       "(22060, 18)"
      ]
     },
     "execution_count": 70,
     "metadata": {},
     "output_type": "execute_result"
    }
   ],
   "source": [
    "bank_df4.shape"
   ]
  },
  {
   "cell_type": "markdown",
   "metadata": {},
   "source": [
    "Final dataframe"
   ]
  },
  {
   "cell_type": "code",
   "execution_count": 71,
   "metadata": {},
   "outputs": [],
   "source": [
    "final_df = bank_df4.copy()"
   ]
  },
  {
   "cell_type": "code",
   "execution_count": 72,
   "metadata": {},
   "outputs": [
    {
     "name": "stdout",
     "output_type": "stream",
     "text": [
      "<class 'pandas.core.frame.DataFrame'>\n",
      "Int64Index: 22060 entries, 0 to 30359\n",
      "Data columns (total 18 columns):\n",
      " #   Column          Non-Null Count  Dtype  \n",
      "---  ------          --------------  -----  \n",
      " 0   age             22060 non-null  int64  \n",
      " 1   job             22060 non-null  object \n",
      " 2   marital         22060 non-null  object \n",
      " 3   education       22060 non-null  object \n",
      " 4   housing         22060 non-null  object \n",
      " 5   loan            22060 non-null  object \n",
      " 6   contact         22060 non-null  object \n",
      " 7   month           22060 non-null  object \n",
      " 8   day_of_week     22060 non-null  object \n",
      " 9   duration        22060 non-null  int64  \n",
      " 10  campaign        22060 non-null  int64  \n",
      " 11  poutcome        22060 non-null  object \n",
      " 12  emp.var.rate    22060 non-null  float64\n",
      " 13  cons.price.idx  22060 non-null  float64\n",
      " 14  cons.conf.idx   22060 non-null  float64\n",
      " 15  euribor3m       22060 non-null  float64\n",
      " 16  nr.employed     22060 non-null  float64\n",
      " 17  y               22060 non-null  object \n",
      "dtypes: float64(5), int64(3), object(10)\n",
      "memory usage: 3.2+ MB\n"
     ]
    }
   ],
   "source": [
    "final_df.info()"
   ]
  },
  {
   "cell_type": "code",
   "execution_count": 73,
   "metadata": {},
   "outputs": [
    {
     "data": {
      "text/plain": [
       "['job',\n",
       " 'marital',\n",
       " 'education',\n",
       " 'housing',\n",
       " 'loan',\n",
       " 'contact',\n",
       " 'month',\n",
       " 'day_of_week',\n",
       " 'poutcome']"
      ]
     },
     "execution_count": 73,
     "metadata": {},
     "output_type": "execute_result"
    }
   ],
   "source": [
    "categorical_cols = final_df.select_dtypes(include=\"object\").columns.to_list()\n",
    "categorical_cols.remove(\"y\")\n",
    "categorical_cols"
   ]
  },
  {
   "cell_type": "code",
   "execution_count": 74,
   "metadata": {},
   "outputs": [
    {
     "data": {
      "text/plain": [
       "['age',\n",
       " 'duration',\n",
       " 'campaign',\n",
       " 'emp.var.rate',\n",
       " 'cons.price.idx',\n",
       " 'cons.conf.idx',\n",
       " 'euribor3m',\n",
       " 'nr.employed']"
      ]
     },
     "execution_count": 74,
     "metadata": {},
     "output_type": "execute_result"
    }
   ],
   "source": [
    "numerical_cols = final_df.select_dtypes(include=[np.number]).columns.to_list()\n",
    "numerical_cols"
   ]
  },
  {
   "cell_type": "markdown",
   "metadata": {},
   "source": [
    "## **Modeling**"
   ]
  },
  {
   "cell_type": "code",
   "execution_count": 75,
   "metadata": {},
   "outputs": [],
   "source": [
    "from pycaret.classification import *"
   ]
  },
  {
   "cell_type": "code",
   "execution_count": 76,
   "metadata": {},
   "outputs": [
    {
     "data": {
      "text/html": [
       "<style  type=\"text/css\" >\n",
       "#T_dd287_row29_col1,#T_dd287_row31_col1,#T_dd287_row42_col1,#T_dd287_row57_col1{\n",
       "            background-color:  lightgreen;\n",
       "        }</style><table id=\"T_dd287_\" ><thead>    <tr>        <th class=\"blank level0\" ></th>        <th class=\"col_heading level0 col0\" >Description</th>        <th class=\"col_heading level0 col1\" >Value</th>    </tr></thead><tbody>\n",
       "                <tr>\n",
       "                        <th id=\"T_dd287_level0_row0\" class=\"row_heading level0 row0\" >0</th>\n",
       "                        <td id=\"T_dd287_row0_col0\" class=\"data row0 col0\" >session_id</td>\n",
       "                        <td id=\"T_dd287_row0_col1\" class=\"data row0 col1\" >234</td>\n",
       "            </tr>\n",
       "            <tr>\n",
       "                        <th id=\"T_dd287_level0_row1\" class=\"row_heading level0 row1\" >1</th>\n",
       "                        <td id=\"T_dd287_row1_col0\" class=\"data row1 col0\" >Target</td>\n",
       "                        <td id=\"T_dd287_row1_col1\" class=\"data row1 col1\" >y</td>\n",
       "            </tr>\n",
       "            <tr>\n",
       "                        <th id=\"T_dd287_level0_row2\" class=\"row_heading level0 row2\" >2</th>\n",
       "                        <td id=\"T_dd287_row2_col0\" class=\"data row2 col0\" >Target Type</td>\n",
       "                        <td id=\"T_dd287_row2_col1\" class=\"data row2 col1\" >Binary</td>\n",
       "            </tr>\n",
       "            <tr>\n",
       "                        <th id=\"T_dd287_level0_row3\" class=\"row_heading level0 row3\" >3</th>\n",
       "                        <td id=\"T_dd287_row3_col0\" class=\"data row3 col0\" >Label Encoded</td>\n",
       "                        <td id=\"T_dd287_row3_col1\" class=\"data row3 col1\" >no: 0, yes: 1</td>\n",
       "            </tr>\n",
       "            <tr>\n",
       "                        <th id=\"T_dd287_level0_row4\" class=\"row_heading level0 row4\" >4</th>\n",
       "                        <td id=\"T_dd287_row4_col0\" class=\"data row4 col0\" >Original Data</td>\n",
       "                        <td id=\"T_dd287_row4_col1\" class=\"data row4 col1\" >(22060, 18)</td>\n",
       "            </tr>\n",
       "            <tr>\n",
       "                        <th id=\"T_dd287_level0_row5\" class=\"row_heading level0 row5\" >5</th>\n",
       "                        <td id=\"T_dd287_row5_col0\" class=\"data row5 col0\" >Missing Values</td>\n",
       "                        <td id=\"T_dd287_row5_col1\" class=\"data row5 col1\" >False</td>\n",
       "            </tr>\n",
       "            <tr>\n",
       "                        <th id=\"T_dd287_level0_row6\" class=\"row_heading level0 row6\" >6</th>\n",
       "                        <td id=\"T_dd287_row6_col0\" class=\"data row6 col0\" >Numeric Features</td>\n",
       "                        <td id=\"T_dd287_row6_col1\" class=\"data row6 col1\" >8</td>\n",
       "            </tr>\n",
       "            <tr>\n",
       "                        <th id=\"T_dd287_level0_row7\" class=\"row_heading level0 row7\" >7</th>\n",
       "                        <td id=\"T_dd287_row7_col0\" class=\"data row7 col0\" >Categorical Features</td>\n",
       "                        <td id=\"T_dd287_row7_col1\" class=\"data row7 col1\" >9</td>\n",
       "            </tr>\n",
       "            <tr>\n",
       "                        <th id=\"T_dd287_level0_row8\" class=\"row_heading level0 row8\" >8</th>\n",
       "                        <td id=\"T_dd287_row8_col0\" class=\"data row8 col0\" >Ordinal Features</td>\n",
       "                        <td id=\"T_dd287_row8_col1\" class=\"data row8 col1\" >False</td>\n",
       "            </tr>\n",
       "            <tr>\n",
       "                        <th id=\"T_dd287_level0_row9\" class=\"row_heading level0 row9\" >9</th>\n",
       "                        <td id=\"T_dd287_row9_col0\" class=\"data row9 col0\" >High Cardinality Features</td>\n",
       "                        <td id=\"T_dd287_row9_col1\" class=\"data row9 col1\" >False</td>\n",
       "            </tr>\n",
       "            <tr>\n",
       "                        <th id=\"T_dd287_level0_row10\" class=\"row_heading level0 row10\" >10</th>\n",
       "                        <td id=\"T_dd287_row10_col0\" class=\"data row10 col0\" >High Cardinality Method</td>\n",
       "                        <td id=\"T_dd287_row10_col1\" class=\"data row10 col1\" >None</td>\n",
       "            </tr>\n",
       "            <tr>\n",
       "                        <th id=\"T_dd287_level0_row11\" class=\"row_heading level0 row11\" >11</th>\n",
       "                        <td id=\"T_dd287_row11_col0\" class=\"data row11 col0\" >Transformed Train Set</td>\n",
       "                        <td id=\"T_dd287_row11_col1\" class=\"data row11 col1\" >(15441, 47)</td>\n",
       "            </tr>\n",
       "            <tr>\n",
       "                        <th id=\"T_dd287_level0_row12\" class=\"row_heading level0 row12\" >12</th>\n",
       "                        <td id=\"T_dd287_row12_col0\" class=\"data row12 col0\" >Transformed Test Set</td>\n",
       "                        <td id=\"T_dd287_row12_col1\" class=\"data row12 col1\" >(6619, 47)</td>\n",
       "            </tr>\n",
       "            <tr>\n",
       "                        <th id=\"T_dd287_level0_row13\" class=\"row_heading level0 row13\" >13</th>\n",
       "                        <td id=\"T_dd287_row13_col0\" class=\"data row13 col0\" >Shuffle Train-Test</td>\n",
       "                        <td id=\"T_dd287_row13_col1\" class=\"data row13 col1\" >True</td>\n",
       "            </tr>\n",
       "            <tr>\n",
       "                        <th id=\"T_dd287_level0_row14\" class=\"row_heading level0 row14\" >14</th>\n",
       "                        <td id=\"T_dd287_row14_col0\" class=\"data row14 col0\" >Stratify Train-Test</td>\n",
       "                        <td id=\"T_dd287_row14_col1\" class=\"data row14 col1\" >True</td>\n",
       "            </tr>\n",
       "            <tr>\n",
       "                        <th id=\"T_dd287_level0_row15\" class=\"row_heading level0 row15\" >15</th>\n",
       "                        <td id=\"T_dd287_row15_col0\" class=\"data row15 col0\" >Fold Generator</td>\n",
       "                        <td id=\"T_dd287_row15_col1\" class=\"data row15 col1\" >StratifiedKFold</td>\n",
       "            </tr>\n",
       "            <tr>\n",
       "                        <th id=\"T_dd287_level0_row16\" class=\"row_heading level0 row16\" >16</th>\n",
       "                        <td id=\"T_dd287_row16_col0\" class=\"data row16 col0\" >Fold Number</td>\n",
       "                        <td id=\"T_dd287_row16_col1\" class=\"data row16 col1\" >10</td>\n",
       "            </tr>\n",
       "            <tr>\n",
       "                        <th id=\"T_dd287_level0_row17\" class=\"row_heading level0 row17\" >17</th>\n",
       "                        <td id=\"T_dd287_row17_col0\" class=\"data row17 col0\" >CPU Jobs</td>\n",
       "                        <td id=\"T_dd287_row17_col1\" class=\"data row17 col1\" >-1</td>\n",
       "            </tr>\n",
       "            <tr>\n",
       "                        <th id=\"T_dd287_level0_row18\" class=\"row_heading level0 row18\" >18</th>\n",
       "                        <td id=\"T_dd287_row18_col0\" class=\"data row18 col0\" >Use GPU</td>\n",
       "                        <td id=\"T_dd287_row18_col1\" class=\"data row18 col1\" >False</td>\n",
       "            </tr>\n",
       "            <tr>\n",
       "                        <th id=\"T_dd287_level0_row19\" class=\"row_heading level0 row19\" >19</th>\n",
       "                        <td id=\"T_dd287_row19_col0\" class=\"data row19 col0\" >Log Experiment</td>\n",
       "                        <td id=\"T_dd287_row19_col1\" class=\"data row19 col1\" >False</td>\n",
       "            </tr>\n",
       "            <tr>\n",
       "                        <th id=\"T_dd287_level0_row20\" class=\"row_heading level0 row20\" >20</th>\n",
       "                        <td id=\"T_dd287_row20_col0\" class=\"data row20 col0\" >Experiment Name</td>\n",
       "                        <td id=\"T_dd287_row20_col1\" class=\"data row20 col1\" >clf-default-name</td>\n",
       "            </tr>\n",
       "            <tr>\n",
       "                        <th id=\"T_dd287_level0_row21\" class=\"row_heading level0 row21\" >21</th>\n",
       "                        <td id=\"T_dd287_row21_col0\" class=\"data row21 col0\" >USI</td>\n",
       "                        <td id=\"T_dd287_row21_col1\" class=\"data row21 col1\" >2eac</td>\n",
       "            </tr>\n",
       "            <tr>\n",
       "                        <th id=\"T_dd287_level0_row22\" class=\"row_heading level0 row22\" >22</th>\n",
       "                        <td id=\"T_dd287_row22_col0\" class=\"data row22 col0\" >Imputation Type</td>\n",
       "                        <td id=\"T_dd287_row22_col1\" class=\"data row22 col1\" >simple</td>\n",
       "            </tr>\n",
       "            <tr>\n",
       "                        <th id=\"T_dd287_level0_row23\" class=\"row_heading level0 row23\" >23</th>\n",
       "                        <td id=\"T_dd287_row23_col0\" class=\"data row23 col0\" >Iterative Imputation Iteration</td>\n",
       "                        <td id=\"T_dd287_row23_col1\" class=\"data row23 col1\" >None</td>\n",
       "            </tr>\n",
       "            <tr>\n",
       "                        <th id=\"T_dd287_level0_row24\" class=\"row_heading level0 row24\" >24</th>\n",
       "                        <td id=\"T_dd287_row24_col0\" class=\"data row24 col0\" >Numeric Imputer</td>\n",
       "                        <td id=\"T_dd287_row24_col1\" class=\"data row24 col1\" >mean</td>\n",
       "            </tr>\n",
       "            <tr>\n",
       "                        <th id=\"T_dd287_level0_row25\" class=\"row_heading level0 row25\" >25</th>\n",
       "                        <td id=\"T_dd287_row25_col0\" class=\"data row25 col0\" >Iterative Imputation Numeric Model</td>\n",
       "                        <td id=\"T_dd287_row25_col1\" class=\"data row25 col1\" >None</td>\n",
       "            </tr>\n",
       "            <tr>\n",
       "                        <th id=\"T_dd287_level0_row26\" class=\"row_heading level0 row26\" >26</th>\n",
       "                        <td id=\"T_dd287_row26_col0\" class=\"data row26 col0\" >Categorical Imputer</td>\n",
       "                        <td id=\"T_dd287_row26_col1\" class=\"data row26 col1\" >constant</td>\n",
       "            </tr>\n",
       "            <tr>\n",
       "                        <th id=\"T_dd287_level0_row27\" class=\"row_heading level0 row27\" >27</th>\n",
       "                        <td id=\"T_dd287_row27_col0\" class=\"data row27 col0\" >Iterative Imputation Categorical Model</td>\n",
       "                        <td id=\"T_dd287_row27_col1\" class=\"data row27 col1\" >None</td>\n",
       "            </tr>\n",
       "            <tr>\n",
       "                        <th id=\"T_dd287_level0_row28\" class=\"row_heading level0 row28\" >28</th>\n",
       "                        <td id=\"T_dd287_row28_col0\" class=\"data row28 col0\" >Unknown Categoricals Handling</td>\n",
       "                        <td id=\"T_dd287_row28_col1\" class=\"data row28 col1\" >least_frequent</td>\n",
       "            </tr>\n",
       "            <tr>\n",
       "                        <th id=\"T_dd287_level0_row29\" class=\"row_heading level0 row29\" >29</th>\n",
       "                        <td id=\"T_dd287_row29_col0\" class=\"data row29 col0\" >Normalize</td>\n",
       "                        <td id=\"T_dd287_row29_col1\" class=\"data row29 col1\" >True</td>\n",
       "            </tr>\n",
       "            <tr>\n",
       "                        <th id=\"T_dd287_level0_row30\" class=\"row_heading level0 row30\" >30</th>\n",
       "                        <td id=\"T_dd287_row30_col0\" class=\"data row30 col0\" >Normalize Method</td>\n",
       "                        <td id=\"T_dd287_row30_col1\" class=\"data row30 col1\" >zscore</td>\n",
       "            </tr>\n",
       "            <tr>\n",
       "                        <th id=\"T_dd287_level0_row31\" class=\"row_heading level0 row31\" >31</th>\n",
       "                        <td id=\"T_dd287_row31_col0\" class=\"data row31 col0\" >Transformation</td>\n",
       "                        <td id=\"T_dd287_row31_col1\" class=\"data row31 col1\" >True</td>\n",
       "            </tr>\n",
       "            <tr>\n",
       "                        <th id=\"T_dd287_level0_row32\" class=\"row_heading level0 row32\" >32</th>\n",
       "                        <td id=\"T_dd287_row32_col0\" class=\"data row32 col0\" >Transformation Method</td>\n",
       "                        <td id=\"T_dd287_row32_col1\" class=\"data row32 col1\" >yeo-johnson</td>\n",
       "            </tr>\n",
       "            <tr>\n",
       "                        <th id=\"T_dd287_level0_row33\" class=\"row_heading level0 row33\" >33</th>\n",
       "                        <td id=\"T_dd287_row33_col0\" class=\"data row33 col0\" >PCA</td>\n",
       "                        <td id=\"T_dd287_row33_col1\" class=\"data row33 col1\" >False</td>\n",
       "            </tr>\n",
       "            <tr>\n",
       "                        <th id=\"T_dd287_level0_row34\" class=\"row_heading level0 row34\" >34</th>\n",
       "                        <td id=\"T_dd287_row34_col0\" class=\"data row34 col0\" >PCA Method</td>\n",
       "                        <td id=\"T_dd287_row34_col1\" class=\"data row34 col1\" >None</td>\n",
       "            </tr>\n",
       "            <tr>\n",
       "                        <th id=\"T_dd287_level0_row35\" class=\"row_heading level0 row35\" >35</th>\n",
       "                        <td id=\"T_dd287_row35_col0\" class=\"data row35 col0\" >PCA Components</td>\n",
       "                        <td id=\"T_dd287_row35_col1\" class=\"data row35 col1\" >None</td>\n",
       "            </tr>\n",
       "            <tr>\n",
       "                        <th id=\"T_dd287_level0_row36\" class=\"row_heading level0 row36\" >36</th>\n",
       "                        <td id=\"T_dd287_row36_col0\" class=\"data row36 col0\" >Ignore Low Variance</td>\n",
       "                        <td id=\"T_dd287_row36_col1\" class=\"data row36 col1\" >False</td>\n",
       "            </tr>\n",
       "            <tr>\n",
       "                        <th id=\"T_dd287_level0_row37\" class=\"row_heading level0 row37\" >37</th>\n",
       "                        <td id=\"T_dd287_row37_col0\" class=\"data row37 col0\" >Combine Rare Levels</td>\n",
       "                        <td id=\"T_dd287_row37_col1\" class=\"data row37 col1\" >False</td>\n",
       "            </tr>\n",
       "            <tr>\n",
       "                        <th id=\"T_dd287_level0_row38\" class=\"row_heading level0 row38\" >38</th>\n",
       "                        <td id=\"T_dd287_row38_col0\" class=\"data row38 col0\" >Rare Level Threshold</td>\n",
       "                        <td id=\"T_dd287_row38_col1\" class=\"data row38 col1\" >None</td>\n",
       "            </tr>\n",
       "            <tr>\n",
       "                        <th id=\"T_dd287_level0_row39\" class=\"row_heading level0 row39\" >39</th>\n",
       "                        <td id=\"T_dd287_row39_col0\" class=\"data row39 col0\" >Numeric Binning</td>\n",
       "                        <td id=\"T_dd287_row39_col1\" class=\"data row39 col1\" >False</td>\n",
       "            </tr>\n",
       "            <tr>\n",
       "                        <th id=\"T_dd287_level0_row40\" class=\"row_heading level0 row40\" >40</th>\n",
       "                        <td id=\"T_dd287_row40_col0\" class=\"data row40 col0\" >Remove Outliers</td>\n",
       "                        <td id=\"T_dd287_row40_col1\" class=\"data row40 col1\" >False</td>\n",
       "            </tr>\n",
       "            <tr>\n",
       "                        <th id=\"T_dd287_level0_row41\" class=\"row_heading level0 row41\" >41</th>\n",
       "                        <td id=\"T_dd287_row41_col0\" class=\"data row41 col0\" >Outliers Threshold</td>\n",
       "                        <td id=\"T_dd287_row41_col1\" class=\"data row41 col1\" >None</td>\n",
       "            </tr>\n",
       "            <tr>\n",
       "                        <th id=\"T_dd287_level0_row42\" class=\"row_heading level0 row42\" >42</th>\n",
       "                        <td id=\"T_dd287_row42_col0\" class=\"data row42 col0\" >Remove Multicollinearity</td>\n",
       "                        <td id=\"T_dd287_row42_col1\" class=\"data row42 col1\" >True</td>\n",
       "            </tr>\n",
       "            <tr>\n",
       "                        <th id=\"T_dd287_level0_row43\" class=\"row_heading level0 row43\" >43</th>\n",
       "                        <td id=\"T_dd287_row43_col0\" class=\"data row43 col0\" >Multicollinearity Threshold</td>\n",
       "                        <td id=\"T_dd287_row43_col1\" class=\"data row43 col1\" >0.950000</td>\n",
       "            </tr>\n",
       "            <tr>\n",
       "                        <th id=\"T_dd287_level0_row44\" class=\"row_heading level0 row44\" >44</th>\n",
       "                        <td id=\"T_dd287_row44_col0\" class=\"data row44 col0\" >Clustering</td>\n",
       "                        <td id=\"T_dd287_row44_col1\" class=\"data row44 col1\" >False</td>\n",
       "            </tr>\n",
       "            <tr>\n",
       "                        <th id=\"T_dd287_level0_row45\" class=\"row_heading level0 row45\" >45</th>\n",
       "                        <td id=\"T_dd287_row45_col0\" class=\"data row45 col0\" >Clustering Iteration</td>\n",
       "                        <td id=\"T_dd287_row45_col1\" class=\"data row45 col1\" >None</td>\n",
       "            </tr>\n",
       "            <tr>\n",
       "                        <th id=\"T_dd287_level0_row46\" class=\"row_heading level0 row46\" >46</th>\n",
       "                        <td id=\"T_dd287_row46_col0\" class=\"data row46 col0\" >Polynomial Features</td>\n",
       "                        <td id=\"T_dd287_row46_col1\" class=\"data row46 col1\" >False</td>\n",
       "            </tr>\n",
       "            <tr>\n",
       "                        <th id=\"T_dd287_level0_row47\" class=\"row_heading level0 row47\" >47</th>\n",
       "                        <td id=\"T_dd287_row47_col0\" class=\"data row47 col0\" >Polynomial Degree</td>\n",
       "                        <td id=\"T_dd287_row47_col1\" class=\"data row47 col1\" >None</td>\n",
       "            </tr>\n",
       "            <tr>\n",
       "                        <th id=\"T_dd287_level0_row48\" class=\"row_heading level0 row48\" >48</th>\n",
       "                        <td id=\"T_dd287_row48_col0\" class=\"data row48 col0\" >Trignometry Features</td>\n",
       "                        <td id=\"T_dd287_row48_col1\" class=\"data row48 col1\" >False</td>\n",
       "            </tr>\n",
       "            <tr>\n",
       "                        <th id=\"T_dd287_level0_row49\" class=\"row_heading level0 row49\" >49</th>\n",
       "                        <td id=\"T_dd287_row49_col0\" class=\"data row49 col0\" >Polynomial Threshold</td>\n",
       "                        <td id=\"T_dd287_row49_col1\" class=\"data row49 col1\" >None</td>\n",
       "            </tr>\n",
       "            <tr>\n",
       "                        <th id=\"T_dd287_level0_row50\" class=\"row_heading level0 row50\" >50</th>\n",
       "                        <td id=\"T_dd287_row50_col0\" class=\"data row50 col0\" >Group Features</td>\n",
       "                        <td id=\"T_dd287_row50_col1\" class=\"data row50 col1\" >False</td>\n",
       "            </tr>\n",
       "            <tr>\n",
       "                        <th id=\"T_dd287_level0_row51\" class=\"row_heading level0 row51\" >51</th>\n",
       "                        <td id=\"T_dd287_row51_col0\" class=\"data row51 col0\" >Feature Selection</td>\n",
       "                        <td id=\"T_dd287_row51_col1\" class=\"data row51 col1\" >False</td>\n",
       "            </tr>\n",
       "            <tr>\n",
       "                        <th id=\"T_dd287_level0_row52\" class=\"row_heading level0 row52\" >52</th>\n",
       "                        <td id=\"T_dd287_row52_col0\" class=\"data row52 col0\" >Feature Selection Method</td>\n",
       "                        <td id=\"T_dd287_row52_col1\" class=\"data row52 col1\" >classic</td>\n",
       "            </tr>\n",
       "            <tr>\n",
       "                        <th id=\"T_dd287_level0_row53\" class=\"row_heading level0 row53\" >53</th>\n",
       "                        <td id=\"T_dd287_row53_col0\" class=\"data row53 col0\" >Features Selection Threshold</td>\n",
       "                        <td id=\"T_dd287_row53_col1\" class=\"data row53 col1\" >None</td>\n",
       "            </tr>\n",
       "            <tr>\n",
       "                        <th id=\"T_dd287_level0_row54\" class=\"row_heading level0 row54\" >54</th>\n",
       "                        <td id=\"T_dd287_row54_col0\" class=\"data row54 col0\" >Feature Interaction</td>\n",
       "                        <td id=\"T_dd287_row54_col1\" class=\"data row54 col1\" >False</td>\n",
       "            </tr>\n",
       "            <tr>\n",
       "                        <th id=\"T_dd287_level0_row55\" class=\"row_heading level0 row55\" >55</th>\n",
       "                        <td id=\"T_dd287_row55_col0\" class=\"data row55 col0\" >Feature Ratio</td>\n",
       "                        <td id=\"T_dd287_row55_col1\" class=\"data row55 col1\" >False</td>\n",
       "            </tr>\n",
       "            <tr>\n",
       "                        <th id=\"T_dd287_level0_row56\" class=\"row_heading level0 row56\" >56</th>\n",
       "                        <td id=\"T_dd287_row56_col0\" class=\"data row56 col0\" >Interaction Threshold</td>\n",
       "                        <td id=\"T_dd287_row56_col1\" class=\"data row56 col1\" >None</td>\n",
       "            </tr>\n",
       "            <tr>\n",
       "                        <th id=\"T_dd287_level0_row57\" class=\"row_heading level0 row57\" >57</th>\n",
       "                        <td id=\"T_dd287_row57_col0\" class=\"data row57 col0\" >Fix Imbalance</td>\n",
       "                        <td id=\"T_dd287_row57_col1\" class=\"data row57 col1\" >True</td>\n",
       "            </tr>\n",
       "            <tr>\n",
       "                        <th id=\"T_dd287_level0_row58\" class=\"row_heading level0 row58\" >58</th>\n",
       "                        <td id=\"T_dd287_row58_col0\" class=\"data row58 col0\" >Fix Imbalance Method</td>\n",
       "                        <td id=\"T_dd287_row58_col1\" class=\"data row58 col1\" >SMOTE</td>\n",
       "            </tr>\n",
       "    </tbody></table>"
      ],
      "text/plain": [
       "<pandas.io.formats.style.Styler at 0x1901437c8b0>"
      ]
     },
     "metadata": {},
     "output_type": "display_data"
    }
   ],
   "source": [
    "clfs = setup(data = final_df, target = 'y',\n",
    "             session_id=234, normalize=True, \n",
    "             numeric_features=numerical_cols, categorical_features=categorical_cols, \n",
    "             transformation = True, \n",
    "             remove_multicollinearity = True, multicollinearity_threshold = 0.95, \n",
    "             fix_imbalance=True,\n",
    "             data_split_stratify=True)"
   ]
  },
  {
   "cell_type": "code",
   "execution_count": 77,
   "metadata": {},
   "outputs": [
    {
     "data": {
      "text/html": [
       "<style  type=\"text/css\" >\n",
       "    #T_5652e_ th {\n",
       "          text-align: left;\n",
       "    }#T_5652e_row0_col0,#T_5652e_row0_col1,#T_5652e_row0_col3,#T_5652e_row0_col4,#T_5652e_row0_col5,#T_5652e_row0_col7,#T_5652e_row1_col0,#T_5652e_row1_col2,#T_5652e_row1_col3,#T_5652e_row1_col5,#T_5652e_row1_col6,#T_5652e_row1_col7,#T_5652e_row2_col0,#T_5652e_row2_col1,#T_5652e_row2_col2,#T_5652e_row2_col3,#T_5652e_row2_col4,#T_5652e_row2_col5,#T_5652e_row2_col6,#T_5652e_row2_col7,#T_5652e_row3_col0,#T_5652e_row3_col1,#T_5652e_row3_col2,#T_5652e_row3_col3,#T_5652e_row3_col4,#T_5652e_row3_col5,#T_5652e_row3_col6,#T_5652e_row3_col7,#T_5652e_row4_col0,#T_5652e_row4_col1,#T_5652e_row4_col2,#T_5652e_row4_col3,#T_5652e_row4_col4,#T_5652e_row4_col6,#T_5652e_row5_col0,#T_5652e_row5_col1,#T_5652e_row5_col2,#T_5652e_row5_col3,#T_5652e_row5_col4,#T_5652e_row5_col5,#T_5652e_row5_col6,#T_5652e_row5_col7,#T_5652e_row6_col0,#T_5652e_row6_col1,#T_5652e_row6_col2,#T_5652e_row6_col3,#T_5652e_row6_col4,#T_5652e_row6_col5,#T_5652e_row6_col6,#T_5652e_row6_col7,#T_5652e_row7_col0,#T_5652e_row7_col1,#T_5652e_row7_col2,#T_5652e_row7_col3,#T_5652e_row7_col4,#T_5652e_row7_col5,#T_5652e_row7_col6,#T_5652e_row7_col7,#T_5652e_row8_col0,#T_5652e_row8_col1,#T_5652e_row8_col2,#T_5652e_row8_col3,#T_5652e_row8_col4,#T_5652e_row8_col5,#T_5652e_row8_col6,#T_5652e_row8_col7,#T_5652e_row9_col0,#T_5652e_row9_col1,#T_5652e_row9_col2,#T_5652e_row9_col3,#T_5652e_row9_col4,#T_5652e_row9_col5,#T_5652e_row9_col6,#T_5652e_row9_col7,#T_5652e_row10_col0,#T_5652e_row10_col1,#T_5652e_row10_col2,#T_5652e_row10_col3,#T_5652e_row10_col4,#T_5652e_row10_col5,#T_5652e_row10_col6,#T_5652e_row10_col7,#T_5652e_row11_col0,#T_5652e_row11_col1,#T_5652e_row11_col2,#T_5652e_row11_col3,#T_5652e_row11_col4,#T_5652e_row11_col5,#T_5652e_row11_col6,#T_5652e_row11_col7,#T_5652e_row12_col0,#T_5652e_row12_col1,#T_5652e_row12_col2,#T_5652e_row12_col4,#T_5652e_row12_col5,#T_5652e_row12_col6,#T_5652e_row12_col7,#T_5652e_row13_col0,#T_5652e_row13_col1,#T_5652e_row13_col2,#T_5652e_row13_col3,#T_5652e_row13_col4,#T_5652e_row13_col5,#T_5652e_row13_col6,#T_5652e_row13_col7,#T_5652e_row14_col0,#T_5652e_row14_col1,#T_5652e_row14_col2,#T_5652e_row14_col3,#T_5652e_row14_col4,#T_5652e_row14_col5,#T_5652e_row14_col6,#T_5652e_row14_col7{\n",
       "            text-align:  left;\n",
       "            text-align:  left;\n",
       "        }#T_5652e_row0_col2,#T_5652e_row0_col6,#T_5652e_row1_col1,#T_5652e_row1_col4,#T_5652e_row4_col5,#T_5652e_row4_col7,#T_5652e_row12_col3{\n",
       "            text-align:  left;\n",
       "            text-align:  left;\n",
       "            background-color:  yellow;\n",
       "        }#T_5652e_row0_col8,#T_5652e_row1_col8,#T_5652e_row2_col8,#T_5652e_row3_col8,#T_5652e_row4_col8,#T_5652e_row5_col8,#T_5652e_row6_col8,#T_5652e_row7_col8,#T_5652e_row8_col8,#T_5652e_row9_col8,#T_5652e_row10_col8,#T_5652e_row11_col8,#T_5652e_row12_col8,#T_5652e_row13_col8{\n",
       "            text-align:  left;\n",
       "            text-align:  left;\n",
       "            background-color:  lightgrey;\n",
       "        }#T_5652e_row14_col8{\n",
       "            text-align:  left;\n",
       "            text-align:  left;\n",
       "            background-color:  yellow;\n",
       "            background-color:  lightgrey;\n",
       "        }</style><table id=\"T_5652e_\" ><thead>    <tr>        <th class=\"blank level0\" ></th>        <th class=\"col_heading level0 col0\" >Model</th>        <th class=\"col_heading level0 col1\" >Accuracy</th>        <th class=\"col_heading level0 col2\" >AUC</th>        <th class=\"col_heading level0 col3\" >Recall</th>        <th class=\"col_heading level0 col4\" >Prec.</th>        <th class=\"col_heading level0 col5\" >F1</th>        <th class=\"col_heading level0 col6\" >Kappa</th>        <th class=\"col_heading level0 col7\" >MCC</th>        <th class=\"col_heading level0 col8\" >TT (Sec)</th>    </tr></thead><tbody>\n",
       "                <tr>\n",
       "                        <th id=\"T_5652e_level0_row0\" class=\"row_heading level0 row0\" >lightgbm</th>\n",
       "                        <td id=\"T_5652e_row0_col0\" class=\"data row0 col0\" >Light Gradient Boosting Machine</td>\n",
       "                        <td id=\"T_5652e_row0_col1\" class=\"data row0 col1\" >0.9393</td>\n",
       "                        <td id=\"T_5652e_row0_col2\" class=\"data row0 col2\" >0.9449</td>\n",
       "                        <td id=\"T_5652e_row0_col3\" class=\"data row0 col3\" >0.4786</td>\n",
       "                        <td id=\"T_5652e_row0_col4\" class=\"data row0 col4\" >0.5396</td>\n",
       "                        <td id=\"T_5652e_row0_col5\" class=\"data row0 col5\" >0.5060</td>\n",
       "                        <td id=\"T_5652e_row0_col6\" class=\"data row0 col6\" >0.4739</td>\n",
       "                        <td id=\"T_5652e_row0_col7\" class=\"data row0 col7\" >0.4755</td>\n",
       "                        <td id=\"T_5652e_row0_col8\" class=\"data row0 col8\" >0.2050</td>\n",
       "            </tr>\n",
       "            <tr>\n",
       "                        <th id=\"T_5652e_level0_row1\" class=\"row_heading level0 row1\" >catboost</th>\n",
       "                        <td id=\"T_5652e_row1_col0\" class=\"data row1 col0\" >CatBoost Classifier</td>\n",
       "                        <td id=\"T_5652e_row1_col1\" class=\"data row1 col1\" >0.9395</td>\n",
       "                        <td id=\"T_5652e_row1_col2\" class=\"data row1 col2\" >0.9440</td>\n",
       "                        <td id=\"T_5652e_row1_col3\" class=\"data row1 col3\" >0.4458</td>\n",
       "                        <td id=\"T_5652e_row1_col4\" class=\"data row1 col4\" >0.5442</td>\n",
       "                        <td id=\"T_5652e_row1_col5\" class=\"data row1 col5\" >0.4895</td>\n",
       "                        <td id=\"T_5652e_row1_col6\" class=\"data row1 col6\" >0.4578</td>\n",
       "                        <td id=\"T_5652e_row1_col7\" class=\"data row1 col7\" >0.4606</td>\n",
       "                        <td id=\"T_5652e_row1_col8\" class=\"data row1 col8\" >5.6990</td>\n",
       "            </tr>\n",
       "            <tr>\n",
       "                        <th id=\"T_5652e_level0_row2\" class=\"row_heading level0 row2\" >xgboost</th>\n",
       "                        <td id=\"T_5652e_row2_col0\" class=\"data row2 col0\" >Extreme Gradient Boosting</td>\n",
       "                        <td id=\"T_5652e_row2_col1\" class=\"data row2 col1\" >0.9370</td>\n",
       "                        <td id=\"T_5652e_row2_col2\" class=\"data row2 col2\" >0.9404</td>\n",
       "                        <td id=\"T_5652e_row2_col3\" class=\"data row2 col3\" >0.4277</td>\n",
       "                        <td id=\"T_5652e_row2_col4\" class=\"data row2 col4\" >0.5202</td>\n",
       "                        <td id=\"T_5652e_row2_col5\" class=\"data row2 col5\" >0.4689</td>\n",
       "                        <td id=\"T_5652e_row2_col6\" class=\"data row2 col6\" >0.4357</td>\n",
       "                        <td id=\"T_5652e_row2_col7\" class=\"data row2 col7\" >0.4384</td>\n",
       "                        <td id=\"T_5652e_row2_col8\" class=\"data row2 col8\" >1.2100</td>\n",
       "            </tr>\n",
       "            <tr>\n",
       "                        <th id=\"T_5652e_level0_row3\" class=\"row_heading level0 row3\" >rf</th>\n",
       "                        <td id=\"T_5652e_row3_col0\" class=\"data row3 col0\" >Random Forest Classifier</td>\n",
       "                        <td id=\"T_5652e_row3_col1\" class=\"data row3 col1\" >0.9381</td>\n",
       "                        <td id=\"T_5652e_row3_col2\" class=\"data row3 col2\" >0.9381</td>\n",
       "                        <td id=\"T_5652e_row3_col3\" class=\"data row3 col3\" >0.4368</td>\n",
       "                        <td id=\"T_5652e_row3_col4\" class=\"data row3 col4\" >0.5293</td>\n",
       "                        <td id=\"T_5652e_row3_col5\" class=\"data row3 col5\" >0.4776</td>\n",
       "                        <td id=\"T_5652e_row3_col6\" class=\"data row3 col6\" >0.4451</td>\n",
       "                        <td id=\"T_5652e_row3_col7\" class=\"data row3 col7\" >0.4479</td>\n",
       "                        <td id=\"T_5652e_row3_col8\" class=\"data row3 col8\" >0.4000</td>\n",
       "            </tr>\n",
       "            <tr>\n",
       "                        <th id=\"T_5652e_level0_row4\" class=\"row_heading level0 row4\" >gbc</th>\n",
       "                        <td id=\"T_5652e_row4_col0\" class=\"data row4 col0\" >Gradient Boosting Classifier</td>\n",
       "                        <td id=\"T_5652e_row4_col1\" class=\"data row4 col1\" >0.9181</td>\n",
       "                        <td id=\"T_5652e_row4_col2\" class=\"data row4 col2\" >0.9374</td>\n",
       "                        <td id=\"T_5652e_row4_col3\" class=\"data row4 col3\" >0.6566</td>\n",
       "                        <td id=\"T_5652e_row4_col4\" class=\"data row4 col4\" >0.4187</td>\n",
       "                        <td id=\"T_5652e_row4_col5\" class=\"data row4 col5\" >0.5107</td>\n",
       "                        <td id=\"T_5652e_row4_col6\" class=\"data row4 col6\" >0.4685</td>\n",
       "                        <td id=\"T_5652e_row4_col7\" class=\"data row4 col7\" >0.4830</td>\n",
       "                        <td id=\"T_5652e_row4_col8\" class=\"data row4 col8\" >0.8410</td>\n",
       "            </tr>\n",
       "            <tr>\n",
       "                        <th id=\"T_5652e_level0_row5\" class=\"row_heading level0 row5\" >lda</th>\n",
       "                        <td id=\"T_5652e_row5_col0\" class=\"data row5 col0\" >Linear Discriminant Analysis</td>\n",
       "                        <td id=\"T_5652e_row5_col1\" class=\"data row5 col1\" >0.8567</td>\n",
       "                        <td id=\"T_5652e_row5_col2\" class=\"data row5 col2\" >0.9334</td>\n",
       "                        <td id=\"T_5652e_row5_col3\" class=\"data row5 col3\" >0.8686</td>\n",
       "                        <td id=\"T_5652e_row5_col4\" class=\"data row5 col4\" >0.2962</td>\n",
       "                        <td id=\"T_5652e_row5_col5\" class=\"data row5 col5\" >0.4414</td>\n",
       "                        <td id=\"T_5652e_row5_col6\" class=\"data row5 col6\" >0.3814</td>\n",
       "                        <td id=\"T_5652e_row5_col7\" class=\"data row5 col7\" >0.4548</td>\n",
       "                        <td id=\"T_5652e_row5_col8\" class=\"data row5 col8\" >0.0690</td>\n",
       "            </tr>\n",
       "            <tr>\n",
       "                        <th id=\"T_5652e_level0_row6\" class=\"row_heading level0 row6\" >lr</th>\n",
       "                        <td id=\"T_5652e_row6_col0\" class=\"data row6 col0\" >Logistic Regression</td>\n",
       "                        <td id=\"T_5652e_row6_col1\" class=\"data row6 col1\" >0.8639</td>\n",
       "                        <td id=\"T_5652e_row6_col2\" class=\"data row6 col2\" >0.9332</td>\n",
       "                        <td id=\"T_5652e_row6_col3\" class=\"data row6 col3\" >0.8646</td>\n",
       "                        <td id=\"T_5652e_row6_col4\" class=\"data row6 col4\" >0.3072</td>\n",
       "                        <td id=\"T_5652e_row6_col5\" class=\"data row6 col5\" >0.4529</td>\n",
       "                        <td id=\"T_5652e_row6_col6\" class=\"data row6 col6\" >0.3948</td>\n",
       "                        <td id=\"T_5652e_row6_col7\" class=\"data row6 col7\" >0.4645</td>\n",
       "                        <td id=\"T_5652e_row6_col8\" class=\"data row6 col8\" >0.4540</td>\n",
       "            </tr>\n",
       "            <tr>\n",
       "                        <th id=\"T_5652e_level0_row7\" class=\"row_heading level0 row7\" >et</th>\n",
       "                        <td id=\"T_5652e_row7_col0\" class=\"data row7 col0\" >Extra Trees Classifier</td>\n",
       "                        <td id=\"T_5652e_row7_col1\" class=\"data row7 col1\" >0.9364</td>\n",
       "                        <td id=\"T_5652e_row7_col2\" class=\"data row7 col2\" >0.9262</td>\n",
       "                        <td id=\"T_5652e_row7_col3\" class=\"data row7 col3\" >0.3950</td>\n",
       "                        <td id=\"T_5652e_row7_col4\" class=\"data row7 col4\" >0.5152</td>\n",
       "                        <td id=\"T_5652e_row7_col5\" class=\"data row7 col5\" >0.4463</td>\n",
       "                        <td id=\"T_5652e_row7_col6\" class=\"data row7 col6\" >0.4133</td>\n",
       "                        <td id=\"T_5652e_row7_col7\" class=\"data row7 col7\" >0.4178</td>\n",
       "                        <td id=\"T_5652e_row7_col8\" class=\"data row7 col8\" >0.4200</td>\n",
       "            </tr>\n",
       "            <tr>\n",
       "                        <th id=\"T_5652e_level0_row8\" class=\"row_heading level0 row8\" >ada</th>\n",
       "                        <td id=\"T_5652e_row8_col0\" class=\"data row8 col0\" >Ada Boost Classifier</td>\n",
       "                        <td id=\"T_5652e_row8_col1\" class=\"data row8 col1\" >0.9160</td>\n",
       "                        <td id=\"T_5652e_row8_col2\" class=\"data row8 col2\" >0.9232</td>\n",
       "                        <td id=\"T_5652e_row8_col3\" class=\"data row8 col3\" >0.6069</td>\n",
       "                        <td id=\"T_5652e_row8_col4\" class=\"data row8 col4\" >0.4042</td>\n",
       "                        <td id=\"T_5652e_row8_col5\" class=\"data row8 col5\" >0.4846</td>\n",
       "                        <td id=\"T_5652e_row8_col6\" class=\"data row8 col6\" >0.4410</td>\n",
       "                        <td id=\"T_5652e_row8_col7\" class=\"data row8 col7\" >0.4521</td>\n",
       "                        <td id=\"T_5652e_row8_col8\" class=\"data row8 col8\" >0.2260</td>\n",
       "            </tr>\n",
       "            <tr>\n",
       "                        <th id=\"T_5652e_level0_row9\" class=\"row_heading level0 row9\" >knn</th>\n",
       "                        <td id=\"T_5652e_row9_col0\" class=\"data row9 col0\" >K Neighbors Classifier</td>\n",
       "                        <td id=\"T_5652e_row9_col1\" class=\"data row9 col1\" >0.8664</td>\n",
       "                        <td id=\"T_5652e_row9_col2\" class=\"data row9 col2\" >0.8672</td>\n",
       "                        <td id=\"T_5652e_row9_col3\" class=\"data row9 col3\" >0.7283</td>\n",
       "                        <td id=\"T_5652e_row9_col4\" class=\"data row9 col4\" >0.2910</td>\n",
       "                        <td id=\"T_5652e_row9_col5\" class=\"data row9 col5\" >0.4155</td>\n",
       "                        <td id=\"T_5652e_row9_col6\" class=\"data row9 col6\" >0.3555</td>\n",
       "                        <td id=\"T_5652e_row9_col7\" class=\"data row9 col7\" >0.4037</td>\n",
       "                        <td id=\"T_5652e_row9_col8\" class=\"data row9 col8\" >0.3800</td>\n",
       "            </tr>\n",
       "            <tr>\n",
       "                        <th id=\"T_5652e_level0_row10\" class=\"row_heading level0 row10\" >nb</th>\n",
       "                        <td id=\"T_5652e_row10_col0\" class=\"data row10 col0\" >Naive Bayes</td>\n",
       "                        <td id=\"T_5652e_row10_col1\" class=\"data row10 col1\" >0.8790</td>\n",
       "                        <td id=\"T_5652e_row10_col2\" class=\"data row10 col2\" >0.8252</td>\n",
       "                        <td id=\"T_5652e_row10_col3\" class=\"data row10 col3\" >0.5572</td>\n",
       "                        <td id=\"T_5652e_row10_col4\" class=\"data row10 col4\" >0.2824</td>\n",
       "                        <td id=\"T_5652e_row10_col5\" class=\"data row10 col5\" >0.3745</td>\n",
       "                        <td id=\"T_5652e_row10_col6\" class=\"data row10 col6\" >0.3154</td>\n",
       "                        <td id=\"T_5652e_row10_col7\" class=\"data row10 col7\" >0.3380</td>\n",
       "                        <td id=\"T_5652e_row10_col8\" class=\"data row10 col8\" >0.0330</td>\n",
       "            </tr>\n",
       "            <tr>\n",
       "                        <th id=\"T_5652e_level0_row11\" class=\"row_heading level0 row11\" >dt</th>\n",
       "                        <td id=\"T_5652e_row11_col0\" class=\"data row11 col0\" >Decision Tree Classifier</td>\n",
       "                        <td id=\"T_5652e_row11_col1\" class=\"data row11 col1\" >0.9112</td>\n",
       "                        <td id=\"T_5652e_row11_col2\" class=\"data row11 col2\" >0.6980</td>\n",
       "                        <td id=\"T_5652e_row11_col3\" class=\"data row11 col3\" >0.4528</td>\n",
       "                        <td id=\"T_5652e_row11_col4\" class=\"data row11 col4\" >0.3577</td>\n",
       "                        <td id=\"T_5652e_row11_col5\" class=\"data row11 col5\" >0.3992</td>\n",
       "                        <td id=\"T_5652e_row11_col6\" class=\"data row11 col6\" >0.3521</td>\n",
       "                        <td id=\"T_5652e_row11_col7\" class=\"data row11 col7\" >0.3551</td>\n",
       "                        <td id=\"T_5652e_row11_col8\" class=\"data row11 col8\" >0.0670</td>\n",
       "            </tr>\n",
       "            <tr>\n",
       "                        <th id=\"T_5652e_level0_row12\" class=\"row_heading level0 row12\" >qda</th>\n",
       "                        <td id=\"T_5652e_row12_col0\" class=\"data row12 col0\" >Quadratic Discriminant Analysis</td>\n",
       "                        <td id=\"T_5652e_row12_col1\" class=\"data row12 col1\" >0.0651</td>\n",
       "                        <td id=\"T_5652e_row12_col2\" class=\"data row12 col2\" >0.5000</td>\n",
       "                        <td id=\"T_5652e_row12_col3\" class=\"data row12 col3\" >1.0000</td>\n",
       "                        <td id=\"T_5652e_row12_col4\" class=\"data row12 col4\" >0.0651</td>\n",
       "                        <td id=\"T_5652e_row12_col5\" class=\"data row12 col5\" >0.1222</td>\n",
       "                        <td id=\"T_5652e_row12_col6\" class=\"data row12 col6\" >0.0000</td>\n",
       "                        <td id=\"T_5652e_row12_col7\" class=\"data row12 col7\" >0.0000</td>\n",
       "                        <td id=\"T_5652e_row12_col8\" class=\"data row12 col8\" >0.0480</td>\n",
       "            </tr>\n",
       "            <tr>\n",
       "                        <th id=\"T_5652e_level0_row13\" class=\"row_heading level0 row13\" >svm</th>\n",
       "                        <td id=\"T_5652e_row13_col0\" class=\"data row13 col0\" >SVM - Linear Kernel</td>\n",
       "                        <td id=\"T_5652e_row13_col1\" class=\"data row13 col1\" >0.8433</td>\n",
       "                        <td id=\"T_5652e_row13_col2\" class=\"data row13 col2\" >0.0000</td>\n",
       "                        <td id=\"T_5652e_row13_col3\" class=\"data row13 col3\" >0.8685</td>\n",
       "                        <td id=\"T_5652e_row13_col4\" class=\"data row13 col4\" >0.2786</td>\n",
       "                        <td id=\"T_5652e_row13_col5\" class=\"data row13 col5\" >0.4208</td>\n",
       "                        <td id=\"T_5652e_row13_col6\" class=\"data row13 col6\" >0.3574</td>\n",
       "                        <td id=\"T_5652e_row13_col7\" class=\"data row13 col7\" >0.4357</td>\n",
       "                        <td id=\"T_5652e_row13_col8\" class=\"data row13 col8\" >0.0580</td>\n",
       "            </tr>\n",
       "            <tr>\n",
       "                        <th id=\"T_5652e_level0_row14\" class=\"row_heading level0 row14\" >ridge</th>\n",
       "                        <td id=\"T_5652e_row14_col0\" class=\"data row14 col0\" >Ridge Classifier</td>\n",
       "                        <td id=\"T_5652e_row14_col1\" class=\"data row14 col1\" >0.8567</td>\n",
       "                        <td id=\"T_5652e_row14_col2\" class=\"data row14 col2\" >0.0000</td>\n",
       "                        <td id=\"T_5652e_row14_col3\" class=\"data row14 col3\" >0.8686</td>\n",
       "                        <td id=\"T_5652e_row14_col4\" class=\"data row14 col4\" >0.2962</td>\n",
       "                        <td id=\"T_5652e_row14_col5\" class=\"data row14 col5\" >0.4414</td>\n",
       "                        <td id=\"T_5652e_row14_col6\" class=\"data row14 col6\" >0.3814</td>\n",
       "                        <td id=\"T_5652e_row14_col7\" class=\"data row14 col7\" >0.4548</td>\n",
       "                        <td id=\"T_5652e_row14_col8\" class=\"data row14 col8\" >0.0310</td>\n",
       "            </tr>\n",
       "    </tbody></table>"
      ],
      "text/plain": [
       "<pandas.io.formats.style.Styler at 0x19010f52280>"
      ]
     },
     "metadata": {},
     "output_type": "display_data"
    }
   ],
   "source": [
    "models = compare_models(sort=\"AUC\", n_select=5)"
   ]
  },
  {
   "cell_type": "code",
   "execution_count": 78,
   "metadata": {},
   "outputs": [
    {
     "data": {
      "text/html": [
       "<style  type=\"text/css\" >\n",
       "#T_75dbf_row10_col0,#T_75dbf_row10_col1,#T_75dbf_row10_col2,#T_75dbf_row10_col3,#T_75dbf_row10_col4,#T_75dbf_row10_col5,#T_75dbf_row10_col6{\n",
       "            background:  yellow;\n",
       "        }</style><table id=\"T_75dbf_\" ><thead>    <tr>        <th class=\"blank level0\" ></th>        <th class=\"col_heading level0 col0\" >Accuracy</th>        <th class=\"col_heading level0 col1\" >AUC</th>        <th class=\"col_heading level0 col2\" >Recall</th>        <th class=\"col_heading level0 col3\" >Prec.</th>        <th class=\"col_heading level0 col4\" >F1</th>        <th class=\"col_heading level0 col5\" >Kappa</th>        <th class=\"col_heading level0 col6\" >MCC</th>    </tr></thead><tbody>\n",
       "                <tr>\n",
       "                        <th id=\"T_75dbf_level0_row0\" class=\"row_heading level0 row0\" >0</th>\n",
       "                        <td id=\"T_75dbf_row0_col0\" class=\"data row0 col0\" >0.9392</td>\n",
       "                        <td id=\"T_75dbf_row0_col1\" class=\"data row0 col1\" >0.9567</td>\n",
       "                        <td id=\"T_75dbf_row0_col2\" class=\"data row0 col2\" >0.5050</td>\n",
       "                        <td id=\"T_75dbf_row0_col3\" class=\"data row0 col3\" >0.5368</td>\n",
       "                        <td id=\"T_75dbf_row0_col4\" class=\"data row0 col4\" >0.5204</td>\n",
       "                        <td id=\"T_75dbf_row0_col5\" class=\"data row0 col5\" >0.4880</td>\n",
       "                        <td id=\"T_75dbf_row0_col6\" class=\"data row0 col6\" >0.4882</td>\n",
       "            </tr>\n",
       "            <tr>\n",
       "                        <th id=\"T_75dbf_level0_row1\" class=\"row_heading level0 row1\" >1</th>\n",
       "                        <td id=\"T_75dbf_row1_col0\" class=\"data row1 col0\" >0.9475</td>\n",
       "                        <td id=\"T_75dbf_row1_col1\" class=\"data row1 col1\" >0.9496</td>\n",
       "                        <td id=\"T_75dbf_row1_col2\" class=\"data row1 col2\" >0.4700</td>\n",
       "                        <td id=\"T_75dbf_row1_col3\" class=\"data row1 col3\" >0.6267</td>\n",
       "                        <td id=\"T_75dbf_row1_col4\" class=\"data row1 col4\" >0.5371</td>\n",
       "                        <td id=\"T_75dbf_row1_col5\" class=\"data row1 col5\" >0.5099</td>\n",
       "                        <td id=\"T_75dbf_row1_col6\" class=\"data row1 col6\" >0.5159</td>\n",
       "            </tr>\n",
       "            <tr>\n",
       "                        <th id=\"T_75dbf_level0_row2\" class=\"row_heading level0 row2\" >2</th>\n",
       "                        <td id=\"T_75dbf_row2_col0\" class=\"data row2 col0\" >0.9398</td>\n",
       "                        <td id=\"T_75dbf_row2_col1\" class=\"data row2 col1\" >0.9505</td>\n",
       "                        <td id=\"T_75dbf_row2_col2\" class=\"data row2 col2\" >0.5700</td>\n",
       "                        <td id=\"T_75dbf_row2_col3\" class=\"data row2 col3\" >0.5327</td>\n",
       "                        <td id=\"T_75dbf_row2_col4\" class=\"data row2 col4\" >0.5507</td>\n",
       "                        <td id=\"T_75dbf_row2_col5\" class=\"data row2 col5\" >0.5185</td>\n",
       "                        <td id=\"T_75dbf_row2_col6\" class=\"data row2 col6\" >0.5188</td>\n",
       "            </tr>\n",
       "            <tr>\n",
       "                        <th id=\"T_75dbf_level0_row3\" class=\"row_heading level0 row3\" >3</th>\n",
       "                        <td id=\"T_75dbf_row3_col0\" class=\"data row3 col0\" >0.9372</td>\n",
       "                        <td id=\"T_75dbf_row3_col1\" class=\"data row3 col1\" >0.9344</td>\n",
       "                        <td id=\"T_75dbf_row3_col2\" class=\"data row3 col2\" >0.4600</td>\n",
       "                        <td id=\"T_75dbf_row3_col3\" class=\"data row3 col3\" >0.5169</td>\n",
       "                        <td id=\"T_75dbf_row3_col4\" class=\"data row3 col4\" >0.4868</td>\n",
       "                        <td id=\"T_75dbf_row3_col5\" class=\"data row3 col5\" >0.4534</td>\n",
       "                        <td id=\"T_75dbf_row3_col6\" class=\"data row3 col6\" >0.4543</td>\n",
       "            </tr>\n",
       "            <tr>\n",
       "                        <th id=\"T_75dbf_level0_row4\" class=\"row_heading level0 row4\" >4</th>\n",
       "                        <td id=\"T_75dbf_row4_col0\" class=\"data row4 col0\" >0.9404</td>\n",
       "                        <td id=\"T_75dbf_row4_col1\" class=\"data row4 col1\" >0.9402</td>\n",
       "                        <td id=\"T_75dbf_row4_col2\" class=\"data row4 col2\" >0.4300</td>\n",
       "                        <td id=\"T_75dbf_row4_col3\" class=\"data row4 col3\" >0.5513</td>\n",
       "                        <td id=\"T_75dbf_row4_col4\" class=\"data row4 col4\" >0.4831</td>\n",
       "                        <td id=\"T_75dbf_row4_col5\" class=\"data row4 col5\" >0.4520</td>\n",
       "                        <td id=\"T_75dbf_row4_col6\" class=\"data row4 col6\" >0.4560</td>\n",
       "            </tr>\n",
       "            <tr>\n",
       "                        <th id=\"T_75dbf_level0_row5\" class=\"row_heading level0 row5\" >5</th>\n",
       "                        <td id=\"T_75dbf_row5_col0\" class=\"data row5 col0\" >0.9359</td>\n",
       "                        <td id=\"T_75dbf_row5_col1\" class=\"data row5 col1\" >0.9392</td>\n",
       "                        <td id=\"T_75dbf_row5_col2\" class=\"data row5 col2\" >0.4400</td>\n",
       "                        <td id=\"T_75dbf_row5_col3\" class=\"data row5 col3\" >0.5057</td>\n",
       "                        <td id=\"T_75dbf_row5_col4\" class=\"data row5 col4\" >0.4706</td>\n",
       "                        <td id=\"T_75dbf_row5_col5\" class=\"data row5 col5\" >0.4366</td>\n",
       "                        <td id=\"T_75dbf_row5_col6\" class=\"data row5 col6\" >0.4378</td>\n",
       "            </tr>\n",
       "            <tr>\n",
       "                        <th id=\"T_75dbf_level0_row6\" class=\"row_heading level0 row6\" >6</th>\n",
       "                        <td id=\"T_75dbf_row6_col0\" class=\"data row6 col0\" >0.9404</td>\n",
       "                        <td id=\"T_75dbf_row6_col1\" class=\"data row6 col1\" >0.9541</td>\n",
       "                        <td id=\"T_75dbf_row6_col2\" class=\"data row6 col2\" >0.5347</td>\n",
       "                        <td id=\"T_75dbf_row6_col3\" class=\"data row6 col3\" >0.5455</td>\n",
       "                        <td id=\"T_75dbf_row6_col4\" class=\"data row6 col4\" >0.5400</td>\n",
       "                        <td id=\"T_75dbf_row6_col5\" class=\"data row6 col5\" >0.5081</td>\n",
       "                        <td id=\"T_75dbf_row6_col6\" class=\"data row6 col6\" >0.5082</td>\n",
       "            </tr>\n",
       "            <tr>\n",
       "                        <th id=\"T_75dbf_level0_row7\" class=\"row_heading level0 row7\" >7</th>\n",
       "                        <td id=\"T_75dbf_row7_col0\" class=\"data row7 col0\" >0.9411</td>\n",
       "                        <td id=\"T_75dbf_row7_col1\" class=\"data row7 col1\" >0.9459</td>\n",
       "                        <td id=\"T_75dbf_row7_col2\" class=\"data row7 col2\" >0.4851</td>\n",
       "                        <td id=\"T_75dbf_row7_col3\" class=\"data row7 col3\" >0.5568</td>\n",
       "                        <td id=\"T_75dbf_row7_col4\" class=\"data row7 col4\" >0.5185</td>\n",
       "                        <td id=\"T_75dbf_row7_col5\" class=\"data row7 col5\" >0.4873</td>\n",
       "                        <td id=\"T_75dbf_row7_col6\" class=\"data row7 col6\" >0.4886</td>\n",
       "            </tr>\n",
       "            <tr>\n",
       "                        <th id=\"T_75dbf_level0_row8\" class=\"row_heading level0 row8\" >8</th>\n",
       "                        <td id=\"T_75dbf_row8_col0\" class=\"data row8 col0\" >0.9313</td>\n",
       "                        <td id=\"T_75dbf_row8_col1\" class=\"data row8 col1\" >0.9360</td>\n",
       "                        <td id=\"T_75dbf_row8_col2\" class=\"data row8 col2\" >0.4158</td>\n",
       "                        <td id=\"T_75dbf_row8_col3\" class=\"data row8 col3\" >0.4719</td>\n",
       "                        <td id=\"T_75dbf_row8_col4\" class=\"data row8 col4\" >0.4421</td>\n",
       "                        <td id=\"T_75dbf_row8_col5\" class=\"data row8 col5\" >0.4057</td>\n",
       "                        <td id=\"T_75dbf_row8_col6\" class=\"data row8 col6\" >0.4066</td>\n",
       "            </tr>\n",
       "            <tr>\n",
       "                        <th id=\"T_75dbf_level0_row9\" class=\"row_heading level0 row9\" >9</th>\n",
       "                        <td id=\"T_75dbf_row9_col0\" class=\"data row9 col0\" >0.9404</td>\n",
       "                        <td id=\"T_75dbf_row9_col1\" class=\"data row9 col1\" >0.9422</td>\n",
       "                        <td id=\"T_75dbf_row9_col2\" class=\"data row9 col2\" >0.4752</td>\n",
       "                        <td id=\"T_75dbf_row9_col3\" class=\"data row9 col3\" >0.5517</td>\n",
       "                        <td id=\"T_75dbf_row9_col4\" class=\"data row9 col4\" >0.5106</td>\n",
       "                        <td id=\"T_75dbf_row9_col5\" class=\"data row9 col5\" >0.4791</td>\n",
       "                        <td id=\"T_75dbf_row9_col6\" class=\"data row9 col6\" >0.4806</td>\n",
       "            </tr>\n",
       "            <tr>\n",
       "                        <th id=\"T_75dbf_level0_row10\" class=\"row_heading level0 row10\" >Mean</th>\n",
       "                        <td id=\"T_75dbf_row10_col0\" class=\"data row10 col0\" >0.9393</td>\n",
       "                        <td id=\"T_75dbf_row10_col1\" class=\"data row10 col1\" >0.9449</td>\n",
       "                        <td id=\"T_75dbf_row10_col2\" class=\"data row10 col2\" >0.4786</td>\n",
       "                        <td id=\"T_75dbf_row10_col3\" class=\"data row10 col3\" >0.5396</td>\n",
       "                        <td id=\"T_75dbf_row10_col4\" class=\"data row10 col4\" >0.5060</td>\n",
       "                        <td id=\"T_75dbf_row10_col5\" class=\"data row10 col5\" >0.4739</td>\n",
       "                        <td id=\"T_75dbf_row10_col6\" class=\"data row10 col6\" >0.4755</td>\n",
       "            </tr>\n",
       "            <tr>\n",
       "                        <th id=\"T_75dbf_level0_row11\" class=\"row_heading level0 row11\" >SD</th>\n",
       "                        <td id=\"T_75dbf_row11_col0\" class=\"data row11 col0\" >0.0039</td>\n",
       "                        <td id=\"T_75dbf_row11_col1\" class=\"data row11 col1\" >0.0073</td>\n",
       "                        <td id=\"T_75dbf_row11_col2\" class=\"data row11 col2\" >0.0452</td>\n",
       "                        <td id=\"T_75dbf_row11_col3\" class=\"data row11 col3\" >0.0381</td>\n",
       "                        <td id=\"T_75dbf_row11_col4\" class=\"data row11 col4\" >0.0328</td>\n",
       "                        <td id=\"T_75dbf_row11_col5\" class=\"data row11 col5\" >0.0344</td>\n",
       "                        <td id=\"T_75dbf_row11_col6\" class=\"data row11 col6\" >0.0345</td>\n",
       "            </tr>\n",
       "    </tbody></table>"
      ],
      "text/plain": [
       "<pandas.io.formats.style.Styler at 0x1901437cee0>"
      ]
     },
     "metadata": {},
     "output_type": "display_data"
    }
   ],
   "source": [
    "lgbm = create_model(\"lightgbm\")"
   ]
  },
  {
   "cell_type": "code",
   "execution_count": 79,
   "metadata": {},
   "outputs": [
    {
     "name": "stdout",
     "output_type": "stream",
     "text": [
      "LGBMClassifier(boosting_type='gbdt', class_weight=None, colsample_bytree=1.0,\n",
      "               importance_type='split', learning_rate=0.1, max_depth=-1,\n",
      "               min_child_samples=20, min_child_weight=0.001, min_split_gain=0.0,\n",
      "               n_estimators=100, n_jobs=-1, num_leaves=31, objective=None,\n",
      "               random_state=234, reg_alpha=0.0, reg_lambda=0.0, silent=True,\n",
      "               subsample=1.0, subsample_for_bin=200000, subsample_freq=0)\n"
     ]
    }
   ],
   "source": [
    "#trained model object is stored in the variable 'lgbm'. \n",
    "print(lgbm)"
   ]
  },
  {
   "cell_type": "code",
   "execution_count": 80,
   "metadata": {},
   "outputs": [
    {
     "data": {
      "text/html": [
       "<style  type=\"text/css\" >\n",
       "#T_3b61c_row10_col0,#T_3b61c_row10_col1,#T_3b61c_row10_col2,#T_3b61c_row10_col3,#T_3b61c_row10_col4,#T_3b61c_row10_col5,#T_3b61c_row10_col6{\n",
       "            background:  yellow;\n",
       "        }</style><table id=\"T_3b61c_\" ><thead>    <tr>        <th class=\"blank level0\" ></th>        <th class=\"col_heading level0 col0\" >Accuracy</th>        <th class=\"col_heading level0 col1\" >AUC</th>        <th class=\"col_heading level0 col2\" >Recall</th>        <th class=\"col_heading level0 col3\" >Prec.</th>        <th class=\"col_heading level0 col4\" >F1</th>        <th class=\"col_heading level0 col5\" >Kappa</th>        <th class=\"col_heading level0 col6\" >MCC</th>    </tr></thead><tbody>\n",
       "                <tr>\n",
       "                        <th id=\"T_3b61c_level0_row0\" class=\"row_heading level0 row0\" >0</th>\n",
       "                        <td id=\"T_3b61c_row0_col0\" class=\"data row0 col0\" >0.9172</td>\n",
       "                        <td id=\"T_3b61c_row0_col1\" class=\"data row0 col1\" >0.9587</td>\n",
       "                        <td id=\"T_3b61c_row0_col2\" class=\"data row0 col2\" >0.8218</td>\n",
       "                        <td id=\"T_3b61c_row0_col3\" class=\"data row0 col3\" >0.4301</td>\n",
       "                        <td id=\"T_3b61c_row0_col4\" class=\"data row0 col4\" >0.5646</td>\n",
       "                        <td id=\"T_3b61c_row0_col5\" class=\"data row0 col5\" >0.5237</td>\n",
       "                        <td id=\"T_3b61c_row0_col6\" class=\"data row0 col6\" >0.5574</td>\n",
       "            </tr>\n",
       "            <tr>\n",
       "                        <th id=\"T_3b61c_level0_row1\" class=\"row_heading level0 row1\" >1</th>\n",
       "                        <td id=\"T_3b61c_row1_col0\" class=\"data row1 col0\" >0.9171</td>\n",
       "                        <td id=\"T_3b61c_row1_col1\" class=\"data row1 col1\" >0.9416</td>\n",
       "                        <td id=\"T_3b61c_row1_col2\" class=\"data row1 col2\" >0.7500</td>\n",
       "                        <td id=\"T_3b61c_row1_col3\" class=\"data row1 col3\" >0.4213</td>\n",
       "                        <td id=\"T_3b61c_row1_col4\" class=\"data row1 col4\" >0.5396</td>\n",
       "                        <td id=\"T_3b61c_row1_col5\" class=\"data row1 col5\" >0.4979</td>\n",
       "                        <td id=\"T_3b61c_row1_col6\" class=\"data row1 col6\" >0.5230</td>\n",
       "            </tr>\n",
       "            <tr>\n",
       "                        <th id=\"T_3b61c_level0_row2\" class=\"row_heading level0 row2\" >2</th>\n",
       "                        <td id=\"T_3b61c_row2_col0\" class=\"data row2 col0\" >0.8970</td>\n",
       "                        <td id=\"T_3b61c_row2_col1\" class=\"data row2 col1\" >0.9486</td>\n",
       "                        <td id=\"T_3b61c_row2_col2\" class=\"data row2 col2\" >0.8200</td>\n",
       "                        <td id=\"T_3b61c_row2_col3\" class=\"data row2 col3\" >0.3677</td>\n",
       "                        <td id=\"T_3b61c_row2_col4\" class=\"data row2 col4\" >0.5077</td>\n",
       "                        <td id=\"T_3b61c_row2_col5\" class=\"data row2 col5\" >0.4594</td>\n",
       "                        <td id=\"T_3b61c_row2_col6\" class=\"data row2 col6\" >0.5057</td>\n",
       "            </tr>\n",
       "            <tr>\n",
       "                        <th id=\"T_3b61c_level0_row3\" class=\"row_heading level0 row3\" >3</th>\n",
       "                        <td id=\"T_3b61c_row3_col0\" class=\"data row3 col0\" >0.9009</td>\n",
       "                        <td id=\"T_3b61c_row3_col1\" class=\"data row3 col1\" >0.9276</td>\n",
       "                        <td id=\"T_3b61c_row3_col2\" class=\"data row3 col2\" >0.7000</td>\n",
       "                        <td id=\"T_3b61c_row3_col3\" class=\"data row3 col3\" >0.3627</td>\n",
       "                        <td id=\"T_3b61c_row3_col4\" class=\"data row3 col4\" >0.4778</td>\n",
       "                        <td id=\"T_3b61c_row3_col5\" class=\"data row3 col5\" >0.4291</td>\n",
       "                        <td id=\"T_3b61c_row3_col6\" class=\"data row3 col6\" >0.4575</td>\n",
       "            </tr>\n",
       "            <tr>\n",
       "                        <th id=\"T_3b61c_level0_row4\" class=\"row_heading level0 row4\" >4</th>\n",
       "                        <td id=\"T_3b61c_row4_col0\" class=\"data row4 col0\" >0.9113</td>\n",
       "                        <td id=\"T_3b61c_row4_col1\" class=\"data row4 col1\" >0.9336</td>\n",
       "                        <td id=\"T_3b61c_row4_col2\" class=\"data row4 col2\" >0.6400</td>\n",
       "                        <td id=\"T_3b61c_row4_col3\" class=\"data row4 col3\" >0.3879</td>\n",
       "                        <td id=\"T_3b61c_row4_col4\" class=\"data row4 col4\" >0.4830</td>\n",
       "                        <td id=\"T_3b61c_row4_col5\" class=\"data row4 col5\" >0.4377</td>\n",
       "                        <td id=\"T_3b61c_row4_col6\" class=\"data row4 col6\" >0.4541</td>\n",
       "            </tr>\n",
       "            <tr>\n",
       "                        <th id=\"T_3b61c_level0_row5\" class=\"row_heading level0 row5\" >5</th>\n",
       "                        <td id=\"T_3b61c_row5_col0\" class=\"data row5 col0\" >0.9061</td>\n",
       "                        <td id=\"T_3b61c_row5_col1\" class=\"data row5 col1\" >0.9431</td>\n",
       "                        <td id=\"T_3b61c_row5_col2\" class=\"data row5 col2\" >0.8100</td>\n",
       "                        <td id=\"T_3b61c_row5_col3\" class=\"data row5 col3\" >0.3913</td>\n",
       "                        <td id=\"T_3b61c_row5_col4\" class=\"data row5 col4\" >0.5277</td>\n",
       "                        <td id=\"T_3b61c_row5_col5\" class=\"data row5 col5\" >0.4825</td>\n",
       "                        <td id=\"T_3b61c_row5_col6\" class=\"data row5 col6\" >0.5221</td>\n",
       "            </tr>\n",
       "            <tr>\n",
       "                        <th id=\"T_3b61c_level0_row6\" class=\"row_heading level0 row6\" >6</th>\n",
       "                        <td id=\"T_3b61c_row6_col0\" class=\"data row6 col0\" >0.9113</td>\n",
       "                        <td id=\"T_3b61c_row6_col1\" class=\"data row6 col1\" >0.9518</td>\n",
       "                        <td id=\"T_3b61c_row6_col2\" class=\"data row6 col2\" >0.8119</td>\n",
       "                        <td id=\"T_3b61c_row6_col3\" class=\"data row6 col3\" >0.4100</td>\n",
       "                        <td id=\"T_3b61c_row6_col4\" class=\"data row6 col4\" >0.5449</td>\n",
       "                        <td id=\"T_3b61c_row6_col5\" class=\"data row6 col5\" >0.5015</td>\n",
       "                        <td id=\"T_3b61c_row6_col6\" class=\"data row6 col6\" >0.5376</td>\n",
       "            </tr>\n",
       "            <tr>\n",
       "                        <th id=\"T_3b61c_level0_row7\" class=\"row_heading level0 row7\" >7</th>\n",
       "                        <td id=\"T_3b61c_row7_col0\" class=\"data row7 col0\" >0.9100</td>\n",
       "                        <td id=\"T_3b61c_row7_col1\" class=\"data row7 col1\" >0.9417</td>\n",
       "                        <td id=\"T_3b61c_row7_col2\" class=\"data row7 col2\" >0.7327</td>\n",
       "                        <td id=\"T_3b61c_row7_col3\" class=\"data row7 col3\" >0.3978</td>\n",
       "                        <td id=\"T_3b61c_row7_col4\" class=\"data row7 col4\" >0.5157</td>\n",
       "                        <td id=\"T_3b61c_row7_col5\" class=\"data row7 col5\" >0.4708</td>\n",
       "                        <td id=\"T_3b61c_row7_col6\" class=\"data row7 col6\" >0.4976</td>\n",
       "            </tr>\n",
       "            <tr>\n",
       "                        <th id=\"T_3b61c_level0_row8\" class=\"row_heading level0 row8\" >8</th>\n",
       "                        <td id=\"T_3b61c_row8_col0\" class=\"data row8 col0\" >0.9003</td>\n",
       "                        <td id=\"T_3b61c_row8_col1\" class=\"data row8 col1\" >0.9282</td>\n",
       "                        <td id=\"T_3b61c_row8_col2\" class=\"data row8 col2\" >0.6733</td>\n",
       "                        <td id=\"T_3b61c_row8_col3\" class=\"data row8 col3\" >0.3598</td>\n",
       "                        <td id=\"T_3b61c_row8_col4\" class=\"data row8 col4\" >0.4690</td>\n",
       "                        <td id=\"T_3b61c_row8_col5\" class=\"data row8 col5\" >0.4195</td>\n",
       "                        <td id=\"T_3b61c_row8_col6\" class=\"data row8 col6\" >0.4446</td>\n",
       "            </tr>\n",
       "            <tr>\n",
       "                        <th id=\"T_3b61c_level0_row9\" class=\"row_heading level0 row9\" >9</th>\n",
       "                        <td id=\"T_3b61c_row9_col0\" class=\"data row9 col0\" >0.9048</td>\n",
       "                        <td id=\"T_3b61c_row9_col1\" class=\"data row9 col1\" >0.9412</td>\n",
       "                        <td id=\"T_3b61c_row9_col2\" class=\"data row9 col2\" >0.7921</td>\n",
       "                        <td id=\"T_3b61c_row9_col3\" class=\"data row9 col3\" >0.3883</td>\n",
       "                        <td id=\"T_3b61c_row9_col4\" class=\"data row9 col4\" >0.5212</td>\n",
       "                        <td id=\"T_3b61c_row9_col5\" class=\"data row9 col5\" >0.4751</td>\n",
       "                        <td id=\"T_3b61c_row9_col6\" class=\"data row9 col6\" >0.5125</td>\n",
       "            </tr>\n",
       "            <tr>\n",
       "                        <th id=\"T_3b61c_level0_row10\" class=\"row_heading level0 row10\" >Mean</th>\n",
       "                        <td id=\"T_3b61c_row10_col0\" class=\"data row10 col0\" >0.9076</td>\n",
       "                        <td id=\"T_3b61c_row10_col1\" class=\"data row10 col1\" >0.9416</td>\n",
       "                        <td id=\"T_3b61c_row10_col2\" class=\"data row10 col2\" >0.7552</td>\n",
       "                        <td id=\"T_3b61c_row10_col3\" class=\"data row10 col3\" >0.3917</td>\n",
       "                        <td id=\"T_3b61c_row10_col4\" class=\"data row10 col4\" >0.5151</td>\n",
       "                        <td id=\"T_3b61c_row10_col5\" class=\"data row10 col5\" >0.4697</td>\n",
       "                        <td id=\"T_3b61c_row10_col6\" class=\"data row10 col6\" >0.5012</td>\n",
       "            </tr>\n",
       "            <tr>\n",
       "                        <th id=\"T_3b61c_level0_row11\" class=\"row_heading level0 row11\" >SD</th>\n",
       "                        <td id=\"T_3b61c_row11_col0\" class=\"data row11 col0\" >0.0066</td>\n",
       "                        <td id=\"T_3b61c_row11_col1\" class=\"data row11 col1\" >0.0094</td>\n",
       "                        <td id=\"T_3b61c_row11_col2\" class=\"data row11 col2\" >0.0631</td>\n",
       "                        <td id=\"T_3b61c_row11_col3\" class=\"data row11 col3\" >0.0228</td>\n",
       "                        <td id=\"T_3b61c_row11_col4\" class=\"data row11 col4\" >0.0296</td>\n",
       "                        <td id=\"T_3b61c_row11_col5\" class=\"data row11 col5\" >0.0320</td>\n",
       "                        <td id=\"T_3b61c_row11_col6\" class=\"data row11 col6\" >0.0359</td>\n",
       "            </tr>\n",
       "    </tbody></table>"
      ],
      "text/plain": [
       "<pandas.io.formats.style.Styler at 0x190154ebc70>"
      ]
     },
     "metadata": {},
     "output_type": "display_data"
    }
   ],
   "source": [
    "tuned_lgbm = tune_model(lgbm, optimize=\"AUC\")"
   ]
  },
  {
   "cell_type": "code",
   "execution_count": 81,
   "metadata": {},
   "outputs": [
    {
     "name": "stdout",
     "output_type": "stream",
     "text": [
      "LGBMClassifier(bagging_fraction=0.4, bagging_freq=3, boosting_type='gbdt',\n",
      "               class_weight=None, colsample_bytree=1.0, feature_fraction=0.6,\n",
      "               importance_type='split', learning_rate=0.01, max_depth=-1,\n",
      "               min_child_samples=86, min_child_weight=0.001, min_split_gain=0.1,\n",
      "               n_estimators=180, n_jobs=-1, num_leaves=40, objective=None,\n",
      "               random_state=234, reg_alpha=1, reg_lambda=0.0001, silent=True,\n",
      "               subsample=1.0, subsample_for_bin=200000, subsample_freq=0)\n"
     ]
    }
   ],
   "source": [
    "#tuned model object is stored in the variable 'tuned_lgbm'. \n",
    "print(tuned_lgbm)"
   ]
  },
  {
   "cell_type": "code",
   "execution_count": 82,
   "metadata": {},
   "outputs": [
    {
     "data": {
      "image/png": "[encoded data removed]",
      "text/plain": [
       "<Figure size 576x396 with 1 Axes>"
      ]
     },
     "metadata": {},
     "output_type": "display_data"
    }
   ],
   "source": [
    "#AUC plot\n",
    "plot_model(tuned_lgbm, plot = 'auc')"
   ]
  },
  {
   "cell_type": "code",
   "execution_count": 83,
   "metadata": {},
   "outputs": [
    {
     "data": {
      "image/png": "[encoded data removed]",
      "text/plain": [
       "<Figure size 800x500 with 1 Axes>"
      ]
     },
     "metadata": {},
     "output_type": "display_data"
    }
   ],
   "source": [
    "#Feature importance\n",
    "plot_model(tuned_lgbm, plot='feature')"
   ]
  },
  {
   "cell_type": "code",
   "execution_count": 84,
   "metadata": {},
   "outputs": [
    {
     "data": {
      "image/png": "[encoded data removed]",
      "text/plain": [
       "<Figure size 576x396 with 1 Axes>"
      ]
     },
     "metadata": {},
     "output_type": "display_data"
    }
   ],
   "source": [
    "#Confusion matrix\n",
    "plot_model(tuned_lgbm, plot = 'confusion_matrix')"
   ]
  },
  {
   "cell_type": "code",
   "execution_count": 85,
   "metadata": {},
   "outputs": [
    {
     "data": {
      "image/png": "[encoded data removed]",
      "text/plain": [
       "<Figure size 576x396 with 2 Axes>"
      ]
     },
     "metadata": {},
     "output_type": "display_data"
    }
   ],
   "source": [
    "#Classification report\n",
    "plot_model(tuned_lgbm, plot = 'class_report')"
   ]
  },
  {
   "cell_type": "markdown",
   "metadata": {},
   "source": [
    "### **Blending**"
   ]
  },
  {
   "cell_type": "code",
   "execution_count": 86,
   "metadata": {},
   "outputs": [
    {
     "data": {
      "text/html": [
       "<style  type=\"text/css\" >\n",
       "#T_8c202_row10_col0,#T_8c202_row10_col1,#T_8c202_row10_col2,#T_8c202_row10_col3,#T_8c202_row10_col4,#T_8c202_row10_col5,#T_8c202_row10_col6{\n",
       "            background:  yellow;\n",
       "        }</style><table id=\"T_8c202_\" ><thead>    <tr>        <th class=\"blank level0\" ></th>        <th class=\"col_heading level0 col0\" >Accuracy</th>        <th class=\"col_heading level0 col1\" >AUC</th>        <th class=\"col_heading level0 col2\" >Recall</th>        <th class=\"col_heading level0 col3\" >Prec.</th>        <th class=\"col_heading level0 col4\" >F1</th>        <th class=\"col_heading level0 col5\" >Kappa</th>        <th class=\"col_heading level0 col6\" >MCC</th>    </tr></thead><tbody>\n",
       "                <tr>\n",
       "                        <th id=\"T_8c202_level0_row0\" class=\"row_heading level0 row0\" >0</th>\n",
       "                        <td id=\"T_8c202_row0_col0\" class=\"data row0 col0\" >0.9372</td>\n",
       "                        <td id=\"T_8c202_row0_col1\" class=\"data row0 col1\" >0.9515</td>\n",
       "                        <td id=\"T_8c202_row0_col2\" class=\"data row0 col2\" >0.4752</td>\n",
       "                        <td id=\"T_8c202_row0_col3\" class=\"data row0 col3\" >0.5217</td>\n",
       "                        <td id=\"T_8c202_row0_col4\" class=\"data row0 col4\" >0.4974</td>\n",
       "                        <td id=\"T_8c202_row0_col5\" class=\"data row0 col5\" >0.4640</td>\n",
       "                        <td id=\"T_8c202_row0_col6\" class=\"data row0 col6\" >0.4646</td>\n",
       "            </tr>\n",
       "            <tr>\n",
       "                        <th id=\"T_8c202_level0_row1\" class=\"row_heading level0 row1\" >1</th>\n",
       "                        <td id=\"T_8c202_row1_col0\" class=\"data row1 col0\" >0.9417</td>\n",
       "                        <td id=\"T_8c202_row1_col1\" class=\"data row1 col1\" >0.9428</td>\n",
       "                        <td id=\"T_8c202_row1_col2\" class=\"data row1 col2\" >0.4300</td>\n",
       "                        <td id=\"T_8c202_row1_col3\" class=\"data row1 col3\" >0.5658</td>\n",
       "                        <td id=\"T_8c202_row1_col4\" class=\"data row1 col4\" >0.4886</td>\n",
       "                        <td id=\"T_8c202_row1_col5\" class=\"data row1 col5\" >0.4583</td>\n",
       "                        <td id=\"T_8c202_row1_col6\" class=\"data row1 col6\" >0.4632</td>\n",
       "            </tr>\n",
       "            <tr>\n",
       "                        <th id=\"T_8c202_level0_row2\" class=\"row_heading level0 row2\" >2</th>\n",
       "                        <td id=\"T_8c202_row2_col0\" class=\"data row2 col0\" >0.9417</td>\n",
       "                        <td id=\"T_8c202_row2_col1\" class=\"data row2 col1\" >0.9517</td>\n",
       "                        <td id=\"T_8c202_row2_col2\" class=\"data row2 col2\" >0.5100</td>\n",
       "                        <td id=\"T_8c202_row2_col3\" class=\"data row2 col3\" >0.5543</td>\n",
       "                        <td id=\"T_8c202_row2_col4\" class=\"data row2 col4\" >0.5313</td>\n",
       "                        <td id=\"T_8c202_row2_col5\" class=\"data row2 col5\" >0.5002</td>\n",
       "                        <td id=\"T_8c202_row2_col6\" class=\"data row2 col6\" >0.5007</td>\n",
       "            </tr>\n",
       "            <tr>\n",
       "                        <th id=\"T_8c202_level0_row3\" class=\"row_heading level0 row3\" >3</th>\n",
       "                        <td id=\"T_8c202_row3_col0\" class=\"data row3 col0\" >0.9352</td>\n",
       "                        <td id=\"T_8c202_row3_col1\" class=\"data row3 col1\" >0.9268</td>\n",
       "                        <td id=\"T_8c202_row3_col2\" class=\"data row3 col2\" >0.4200</td>\n",
       "                        <td id=\"T_8c202_row3_col3\" class=\"data row3 col3\" >0.5000</td>\n",
       "                        <td id=\"T_8c202_row3_col4\" class=\"data row3 col4\" >0.4565</td>\n",
       "                        <td id=\"T_8c202_row3_col5\" class=\"data row3 col5\" >0.4224</td>\n",
       "                        <td id=\"T_8c202_row3_col6\" class=\"data row3 col6\" >0.4242</td>\n",
       "            </tr>\n",
       "            <tr>\n",
       "                        <th id=\"T_8c202_level0_row4\" class=\"row_heading level0 row4\" >4</th>\n",
       "                        <td id=\"T_8c202_row4_col0\" class=\"data row4 col0\" >0.9372</td>\n",
       "                        <td id=\"T_8c202_row4_col1\" class=\"data row4 col1\" >0.9246</td>\n",
       "                        <td id=\"T_8c202_row4_col2\" class=\"data row4 col2\" >0.4000</td>\n",
       "                        <td id=\"T_8c202_row4_col3\" class=\"data row4 col3\" >0.5195</td>\n",
       "                        <td id=\"T_8c202_row4_col4\" class=\"data row4 col4\" >0.4520</td>\n",
       "                        <td id=\"T_8c202_row4_col5\" class=\"data row4 col5\" >0.4193</td>\n",
       "                        <td id=\"T_8c202_row4_col6\" class=\"data row4 col6\" >0.4233</td>\n",
       "            </tr>\n",
       "            <tr>\n",
       "                        <th id=\"T_8c202_level0_row5\" class=\"row_heading level0 row5\" >5</th>\n",
       "                        <td id=\"T_8c202_row5_col0\" class=\"data row5 col0\" >0.9320</td>\n",
       "                        <td id=\"T_8c202_row5_col1\" class=\"data row5 col1\" >0.9311</td>\n",
       "                        <td id=\"T_8c202_row5_col2\" class=\"data row5 col2\" >0.3800</td>\n",
       "                        <td id=\"T_8c202_row5_col3\" class=\"data row5 col3\" >0.4691</td>\n",
       "                        <td id=\"T_8c202_row5_col4\" class=\"data row5 col4\" >0.4199</td>\n",
       "                        <td id=\"T_8c202_row5_col5\" class=\"data row5 col5\" >0.3842</td>\n",
       "                        <td id=\"T_8c202_row5_col6\" class=\"data row5 col6\" >0.3866</td>\n",
       "            </tr>\n",
       "            <tr>\n",
       "                        <th id=\"T_8c202_level0_row6\" class=\"row_heading level0 row6\" >6</th>\n",
       "                        <td id=\"T_8c202_row6_col0\" class=\"data row6 col0\" >0.9385</td>\n",
       "                        <td id=\"T_8c202_row6_col1\" class=\"data row6 col1\" >0.9412</td>\n",
       "                        <td id=\"T_8c202_row6_col2\" class=\"data row6 col2\" >0.4950</td>\n",
       "                        <td id=\"T_8c202_row6_col3\" class=\"data row6 col3\" >0.5319</td>\n",
       "                        <td id=\"T_8c202_row6_col4\" class=\"data row6 col4\" >0.5128</td>\n",
       "                        <td id=\"T_8c202_row6_col5\" class=\"data row6 col5\" >0.4800</td>\n",
       "                        <td id=\"T_8c202_row6_col6\" class=\"data row6 col6\" >0.4804</td>\n",
       "            </tr>\n",
       "            <tr>\n",
       "                        <th id=\"T_8c202_level0_row7\" class=\"row_heading level0 row7\" >7</th>\n",
       "                        <td id=\"T_8c202_row7_col0\" class=\"data row7 col0\" >0.9449</td>\n",
       "                        <td id=\"T_8c202_row7_col1\" class=\"data row7 col1\" >0.9480</td>\n",
       "                        <td id=\"T_8c202_row7_col2\" class=\"data row7 col2\" >0.4950</td>\n",
       "                        <td id=\"T_8c202_row7_col3\" class=\"data row7 col3\" >0.5952</td>\n",
       "                        <td id=\"T_8c202_row7_col4\" class=\"data row7 col4\" >0.5405</td>\n",
       "                        <td id=\"T_8c202_row7_col5\" class=\"data row7 col5\" >0.5115</td>\n",
       "                        <td id=\"T_8c202_row7_col6\" class=\"data row7 col6\" >0.5140</td>\n",
       "            </tr>\n",
       "            <tr>\n",
       "                        <th id=\"T_8c202_level0_row8\" class=\"row_heading level0 row8\" >8</th>\n",
       "                        <td id=\"T_8c202_row8_col0\" class=\"data row8 col0\" >0.9372</td>\n",
       "                        <td id=\"T_8c202_row8_col1\" class=\"data row8 col1\" >0.9297</td>\n",
       "                        <td id=\"T_8c202_row8_col2\" class=\"data row8 col2\" >0.3564</td>\n",
       "                        <td id=\"T_8c202_row8_col3\" class=\"data row8 col3\" >0.5294</td>\n",
       "                        <td id=\"T_8c202_row8_col4\" class=\"data row8 col4\" >0.4260</td>\n",
       "                        <td id=\"T_8c202_row8_col5\" class=\"data row8 col5\" >0.3941</td>\n",
       "                        <td id=\"T_8c202_row8_col6\" class=\"data row8 col6\" >0.4028</td>\n",
       "            </tr>\n",
       "            <tr>\n",
       "                        <th id=\"T_8c202_level0_row9\" class=\"row_heading level0 row9\" >9</th>\n",
       "                        <td id=\"T_8c202_row9_col0\" class=\"data row9 col0\" >0.9352</td>\n",
       "                        <td id=\"T_8c202_row9_col1\" class=\"data row9 col1\" >0.9339</td>\n",
       "                        <td id=\"T_8c202_row9_col2\" class=\"data row9 col2\" >0.4059</td>\n",
       "                        <td id=\"T_8c202_row9_col3\" class=\"data row9 col3\" >0.5062</td>\n",
       "                        <td id=\"T_8c202_row9_col4\" class=\"data row9 col4\" >0.4505</td>\n",
       "                        <td id=\"T_8c202_row9_col5\" class=\"data row9 col5\" >0.4166</td>\n",
       "                        <td id=\"T_8c202_row9_col6\" class=\"data row9 col6\" >0.4194</td>\n",
       "            </tr>\n",
       "            <tr>\n",
       "                        <th id=\"T_8c202_level0_row10\" class=\"row_heading level0 row10\" >Mean</th>\n",
       "                        <td id=\"T_8c202_row10_col0\" class=\"data row10 col0\" >0.9381</td>\n",
       "                        <td id=\"T_8c202_row10_col1\" class=\"data row10 col1\" >0.9381</td>\n",
       "                        <td id=\"T_8c202_row10_col2\" class=\"data row10 col2\" >0.4368</td>\n",
       "                        <td id=\"T_8c202_row10_col3\" class=\"data row10 col3\" >0.5293</td>\n",
       "                        <td id=\"T_8c202_row10_col4\" class=\"data row10 col4\" >0.4776</td>\n",
       "                        <td id=\"T_8c202_row10_col5\" class=\"data row10 col5\" >0.4451</td>\n",
       "                        <td id=\"T_8c202_row10_col6\" class=\"data row10 col6\" >0.4479</td>\n",
       "            </tr>\n",
       "            <tr>\n",
       "                        <th id=\"T_8c202_level0_row11\" class=\"row_heading level0 row11\" >SD</th>\n",
       "                        <td id=\"T_8c202_row11_col0\" class=\"data row11 col0\" >0.0036</td>\n",
       "                        <td id=\"T_8c202_row11_col1\" class=\"data row11 col1\" >0.0097</td>\n",
       "                        <td id=\"T_8c202_row11_col2\" class=\"data row11 col2\" >0.0509</td>\n",
       "                        <td id=\"T_8c202_row11_col3\" class=\"data row11 col3\" >0.0339</td>\n",
       "                        <td id=\"T_8c202_row11_col4\" class=\"data row11 col4\" >0.0405</td>\n",
       "                        <td id=\"T_8c202_row11_col5\" class=\"data row11 col5\" >0.0418</td>\n",
       "                        <td id=\"T_8c202_row11_col6\" class=\"data row11 col6\" >0.0406</td>\n",
       "            </tr>\n",
       "    </tbody></table>"
      ],
      "text/plain": [
       "<pandas.io.formats.style.Styler at 0x19014de64c0>"
      ]
     },
     "metadata": {},
     "output_type": "display_data"
    }
   ],
   "source": [
    "#Create other ML models for blending\n",
    "catboost = create_model(\"catboost\")\n",
    "xgb = create_model(\"xgboost\")\n",
    "rf = create_model(\"rf\")"
   ]
  },
  {
   "cell_type": "code",
   "execution_count": 87,
   "metadata": {},
   "outputs": [
    {
     "data": {
      "text/html": [
       "<style  type=\"text/css\" >\n",
       "#T_0200c_row10_col0,#T_0200c_row10_col1,#T_0200c_row10_col2,#T_0200c_row10_col3,#T_0200c_row10_col4,#T_0200c_row10_col5,#T_0200c_row10_col6{\n",
       "            background:  yellow;\n",
       "        }</style><table id=\"T_0200c_\" ><thead>    <tr>        <th class=\"blank level0\" ></th>        <th class=\"col_heading level0 col0\" >Accuracy</th>        <th class=\"col_heading level0 col1\" >AUC</th>        <th class=\"col_heading level0 col2\" >Recall</th>        <th class=\"col_heading level0 col3\" >Prec.</th>        <th class=\"col_heading level0 col4\" >F1</th>        <th class=\"col_heading level0 col5\" >Kappa</th>        <th class=\"col_heading level0 col6\" >MCC</th>    </tr></thead><tbody>\n",
       "                <tr>\n",
       "                        <th id=\"T_0200c_level0_row0\" class=\"row_heading level0 row0\" >0</th>\n",
       "                        <td id=\"T_0200c_row0_col0\" class=\"data row0 col0\" >0.9424</td>\n",
       "                        <td id=\"T_0200c_row0_col1\" class=\"data row0 col1\" >0.9562</td>\n",
       "                        <td id=\"T_0200c_row0_col2\" class=\"data row0 col2\" >0.5545</td>\n",
       "                        <td id=\"T_0200c_row0_col3\" class=\"data row0 col3\" >0.5600</td>\n",
       "                        <td id=\"T_0200c_row0_col4\" class=\"data row0 col4\" >0.5572</td>\n",
       "                        <td id=\"T_0200c_row0_col5\" class=\"data row0 col5\" >0.5264</td>\n",
       "                        <td id=\"T_0200c_row0_col6\" class=\"data row0 col6\" >0.5264</td>\n",
       "            </tr>\n",
       "            <tr>\n",
       "                        <th id=\"T_0200c_level0_row1\" class=\"row_heading level0 row1\" >1</th>\n",
       "                        <td id=\"T_0200c_row1_col0\" class=\"data row1 col0\" >0.9449</td>\n",
       "                        <td id=\"T_0200c_row1_col1\" class=\"data row1 col1\" >0.9481</td>\n",
       "                        <td id=\"T_0200c_row1_col2\" class=\"data row1 col2\" >0.5000</td>\n",
       "                        <td id=\"T_0200c_row1_col3\" class=\"data row1 col3\" >0.5882</td>\n",
       "                        <td id=\"T_0200c_row1_col4\" class=\"data row1 col4\" >0.5405</td>\n",
       "                        <td id=\"T_0200c_row1_col5\" class=\"data row1 col5\" >0.5115</td>\n",
       "                        <td id=\"T_0200c_row1_col6\" class=\"data row1 col6\" >0.5134</td>\n",
       "            </tr>\n",
       "            <tr>\n",
       "                        <th id=\"T_0200c_level0_row2\" class=\"row_heading level0 row2\" >2</th>\n",
       "                        <td id=\"T_0200c_row2_col0\" class=\"data row2 col0\" >0.9372</td>\n",
       "                        <td id=\"T_0200c_row2_col1\" class=\"data row2 col1\" >0.9549</td>\n",
       "                        <td id=\"T_0200c_row2_col2\" class=\"data row2 col2\" >0.5900</td>\n",
       "                        <td id=\"T_0200c_row2_col3\" class=\"data row2 col3\" >0.5130</td>\n",
       "                        <td id=\"T_0200c_row2_col4\" class=\"data row2 col4\" >0.5488</td>\n",
       "                        <td id=\"T_0200c_row2_col5\" class=\"data row2 col5\" >0.5153</td>\n",
       "                        <td id=\"T_0200c_row2_col6\" class=\"data row2 col6\" >0.5167</td>\n",
       "            </tr>\n",
       "            <tr>\n",
       "                        <th id=\"T_0200c_level0_row3\" class=\"row_heading level0 row3\" >3</th>\n",
       "                        <td id=\"T_0200c_row3_col0\" class=\"data row3 col0\" >0.9365</td>\n",
       "                        <td id=\"T_0200c_row3_col1\" class=\"data row3 col1\" >0.9340</td>\n",
       "                        <td id=\"T_0200c_row3_col2\" class=\"data row3 col2\" >0.4900</td>\n",
       "                        <td id=\"T_0200c_row3_col3\" class=\"data row3 col3\" >0.5104</td>\n",
       "                        <td id=\"T_0200c_row3_col4\" class=\"data row3 col4\" >0.5000</td>\n",
       "                        <td id=\"T_0200c_row3_col5\" class=\"data row3 col5\" >0.4661</td>\n",
       "                        <td id=\"T_0200c_row3_col6\" class=\"data row3 col6\" >0.4662</td>\n",
       "            </tr>\n",
       "            <tr>\n",
       "                        <th id=\"T_0200c_level0_row4\" class=\"row_heading level0 row4\" >4</th>\n",
       "                        <td id=\"T_0200c_row4_col0\" class=\"data row4 col0\" >0.9398</td>\n",
       "                        <td id=\"T_0200c_row4_col1\" class=\"data row4 col1\" >0.9385</td>\n",
       "                        <td id=\"T_0200c_row4_col2\" class=\"data row4 col2\" >0.4800</td>\n",
       "                        <td id=\"T_0200c_row4_col3\" class=\"data row4 col3\" >0.5393</td>\n",
       "                        <td id=\"T_0200c_row4_col4\" class=\"data row4 col4\" >0.5079</td>\n",
       "                        <td id=\"T_0200c_row4_col5\" class=\"data row4 col5\" >0.4760</td>\n",
       "                        <td id=\"T_0200c_row4_col6\" class=\"data row4 col6\" >0.4769</td>\n",
       "            </tr>\n",
       "            <tr>\n",
       "                        <th id=\"T_0200c_level0_row5\" class=\"row_heading level0 row5\" >5</th>\n",
       "                        <td id=\"T_0200c_row5_col0\" class=\"data row5 col0\" >0.9359</td>\n",
       "                        <td id=\"T_0200c_row5_col1\" class=\"data row5 col1\" >0.9442</td>\n",
       "                        <td id=\"T_0200c_row5_col2\" class=\"data row5 col2\" >0.4500</td>\n",
       "                        <td id=\"T_0200c_row5_col3\" class=\"data row5 col3\" >0.5056</td>\n",
       "                        <td id=\"T_0200c_row5_col4\" class=\"data row5 col4\" >0.4762</td>\n",
       "                        <td id=\"T_0200c_row5_col5\" class=\"data row5 col5\" >0.4422</td>\n",
       "                        <td id=\"T_0200c_row5_col6\" class=\"data row5 col6\" >0.4430</td>\n",
       "            </tr>\n",
       "            <tr>\n",
       "                        <th id=\"T_0200c_level0_row6\" class=\"row_heading level0 row6\" >6</th>\n",
       "                        <td id=\"T_0200c_row6_col0\" class=\"data row6 col0\" >0.9391</td>\n",
       "                        <td id=\"T_0200c_row6_col1\" class=\"data row6 col1\" >0.9519</td>\n",
       "                        <td id=\"T_0200c_row6_col2\" class=\"data row6 col2\" >0.5149</td>\n",
       "                        <td id=\"T_0200c_row6_col3\" class=\"data row6 col3\" >0.5361</td>\n",
       "                        <td id=\"T_0200c_row6_col4\" class=\"data row6 col4\" >0.5253</td>\n",
       "                        <td id=\"T_0200c_row6_col5\" class=\"data row6 col5\" >0.4927</td>\n",
       "                        <td id=\"T_0200c_row6_col6\" class=\"data row6 col6\" >0.4929</td>\n",
       "            </tr>\n",
       "            <tr>\n",
       "                        <th id=\"T_0200c_level0_row7\" class=\"row_heading level0 row7\" >7</th>\n",
       "                        <td id=\"T_0200c_row7_col0\" class=\"data row7 col0\" >0.9437</td>\n",
       "                        <td id=\"T_0200c_row7_col1\" class=\"data row7 col1\" >0.9512</td>\n",
       "                        <td id=\"T_0200c_row7_col2\" class=\"data row7 col2\" >0.5248</td>\n",
       "                        <td id=\"T_0200c_row7_col3\" class=\"data row7 col3\" >0.5761</td>\n",
       "                        <td id=\"T_0200c_row7_col4\" class=\"data row7 col4\" >0.5492</td>\n",
       "                        <td id=\"T_0200c_row7_col5\" class=\"data row7 col5\" >0.5192</td>\n",
       "                        <td id=\"T_0200c_row7_col6\" class=\"data row7 col6\" >0.5199</td>\n",
       "            </tr>\n",
       "            <tr>\n",
       "                        <th id=\"T_0200c_level0_row8\" class=\"row_heading level0 row8\" >8</th>\n",
       "                        <td id=\"T_0200c_row8_col0\" class=\"data row8 col0\" >0.9333</td>\n",
       "                        <td id=\"T_0200c_row8_col1\" class=\"data row8 col1\" >0.9378</td>\n",
       "                        <td id=\"T_0200c_row8_col2\" class=\"data row8 col2\" >0.4257</td>\n",
       "                        <td id=\"T_0200c_row8_col3\" class=\"data row8 col3\" >0.4886</td>\n",
       "                        <td id=\"T_0200c_row8_col4\" class=\"data row8 col4\" >0.4550</td>\n",
       "                        <td id=\"T_0200c_row8_col5\" class=\"data row8 col5\" >0.4197</td>\n",
       "                        <td id=\"T_0200c_row8_col6\" class=\"data row8 col6\" >0.4208</td>\n",
       "            </tr>\n",
       "            <tr>\n",
       "                        <th id=\"T_0200c_level0_row9\" class=\"row_heading level0 row9\" >9</th>\n",
       "                        <td id=\"T_0200c_row9_col0\" class=\"data row9 col0\" >0.9398</td>\n",
       "                        <td id=\"T_0200c_row9_col1\" class=\"data row9 col1\" >0.9431</td>\n",
       "                        <td id=\"T_0200c_row9_col2\" class=\"data row9 col2\" >0.5149</td>\n",
       "                        <td id=\"T_0200c_row9_col3\" class=\"data row9 col3\" >0.5417</td>\n",
       "                        <td id=\"T_0200c_row9_col4\" class=\"data row9 col4\" >0.5279</td>\n",
       "                        <td id=\"T_0200c_row9_col5\" class=\"data row9 col5\" >0.4958</td>\n",
       "                        <td id=\"T_0200c_row9_col6\" class=\"data row9 col6\" >0.4960</td>\n",
       "            </tr>\n",
       "            <tr>\n",
       "                        <th id=\"T_0200c_level0_row10\" class=\"row_heading level0 row10\" >Mean</th>\n",
       "                        <td id=\"T_0200c_row10_col0\" class=\"data row10 col0\" >0.9393</td>\n",
       "                        <td id=\"T_0200c_row10_col1\" class=\"data row10 col1\" >0.9460</td>\n",
       "                        <td id=\"T_0200c_row10_col2\" class=\"data row10 col2\" >0.5045</td>\n",
       "                        <td id=\"T_0200c_row10_col3\" class=\"data row10 col3\" >0.5359</td>\n",
       "                        <td id=\"T_0200c_row10_col4\" class=\"data row10 col4\" >0.5188</td>\n",
       "                        <td id=\"T_0200c_row10_col5\" class=\"data row10 col5\" >0.4865</td>\n",
       "                        <td id=\"T_0200c_row10_col6\" class=\"data row10 col6\" >0.4872</td>\n",
       "            </tr>\n",
       "            <tr>\n",
       "                        <th id=\"T_0200c_level0_row11\" class=\"row_heading level0 row11\" >SD</th>\n",
       "                        <td id=\"T_0200c_row11_col0\" class=\"data row11 col0\" >0.0035</td>\n",
       "                        <td id=\"T_0200c_row11_col1\" class=\"data row11 col1\" >0.0073</td>\n",
       "                        <td id=\"T_0200c_row11_col2\" class=\"data row11 col2\" >0.0452</td>\n",
       "                        <td id=\"T_0200c_row11_col3\" class=\"data row11 col3\" >0.0305</td>\n",
       "                        <td id=\"T_0200c_row11_col4\" class=\"data row11 col4\" >0.0320</td>\n",
       "                        <td id=\"T_0200c_row11_col5\" class=\"data row11 col5\" >0.0335</td>\n",
       "                        <td id=\"T_0200c_row11_col6\" class=\"data row11 col6\" >0.0334</td>\n",
       "            </tr>\n",
       "    </tbody></table>"
      ],
      "text/plain": [
       "<pandas.io.formats.style.Styler at 0x1900e6bb760>"
      ]
     },
     "metadata": {},
     "output_type": "display_data"
    }
   ],
   "source": [
    "# blend individual models\n",
    "blend_soft = blend_models(estimator_list = [tuned_lgbm, xgb, rf, catboost], method = 'soft')"
   ]
  },
  {
   "cell_type": "code",
   "execution_count": 88,
   "metadata": {},
   "outputs": [
    {
     "data": {
      "image/png": "[encoded data removed]",
      "text/plain": [
       "<Figure size 576x396 with 1 Axes>"
      ]
     },
     "metadata": {},
     "output_type": "display_data"
    }
   ],
   "source": [
    "plot_model(blend_soft, plot = 'auc')"
   ]
  },
  {
   "cell_type": "code",
   "execution_count": 89,
   "metadata": {},
   "outputs": [
    {
     "data": {
      "image/png": "[encoded data removed]",
      "text/plain": [
       "<Figure size 576x396 with 1 Axes>"
      ]
     },
     "metadata": {},
     "output_type": "display_data"
    }
   ],
   "source": [
    "plot_model(blend_soft, plot = 'confusion_matrix')"
   ]
  },
  {
   "cell_type": "code",
   "execution_count": 90,
   "metadata": {},
   "outputs": [
    {
     "data": {
      "image/png": "[encoded data removed]",
      "text/plain": [
       "<Figure size 576x396 with 2 Axes>"
      ]
     },
     "metadata": {},
     "output_type": "display_data"
    }
   ],
   "source": [
    "plot_model(blend_soft, plot = 'class_report')"
   ]
  },
  {
   "cell_type": "code",
   "execution_count": 91,
   "metadata": {},
   "outputs": [
    {
     "data": {
      "text/html": [
       "<style  type=\"text/css\" >\n",
       "#T_fbb99_row10_col0,#T_fbb99_row10_col1,#T_fbb99_row10_col2,#T_fbb99_row10_col3,#T_fbb99_row10_col4,#T_fbb99_row10_col5,#T_fbb99_row10_col6{\n",
       "            background:  yellow;\n",
       "        }</style><table id=\"T_fbb99_\" ><thead>    <tr>        <th class=\"blank level0\" ></th>        <th class=\"col_heading level0 col0\" >Accuracy</th>        <th class=\"col_heading level0 col1\" >AUC</th>        <th class=\"col_heading level0 col2\" >Recall</th>        <th class=\"col_heading level0 col3\" >Prec.</th>        <th class=\"col_heading level0 col4\" >F1</th>        <th class=\"col_heading level0 col5\" >Kappa</th>        <th class=\"col_heading level0 col6\" >MCC</th>    </tr></thead><tbody>\n",
       "                <tr>\n",
       "                        <th id=\"T_fbb99_level0_row0\" class=\"row_heading level0 row0\" >0</th>\n",
       "                        <td id=\"T_fbb99_row0_col0\" class=\"data row0 col0\" >0.9405</td>\n",
       "                        <td id=\"T_fbb99_row0_col1\" class=\"data row0 col1\" >0.0000</td>\n",
       "                        <td id=\"T_fbb99_row0_col2\" class=\"data row0 col2\" >0.4653</td>\n",
       "                        <td id=\"T_fbb99_row0_col3\" class=\"data row0 col3\" >0.5529</td>\n",
       "                        <td id=\"T_fbb99_row0_col4\" class=\"data row0 col4\" >0.5054</td>\n",
       "                        <td id=\"T_fbb99_row0_col5\" class=\"data row0 col5\" >0.4739</td>\n",
       "                        <td id=\"T_fbb99_row0_col6\" class=\"data row0 col6\" >0.4759</td>\n",
       "            </tr>\n",
       "            <tr>\n",
       "                        <th id=\"T_fbb99_level0_row1\" class=\"row_heading level0 row1\" >1</th>\n",
       "                        <td id=\"T_fbb99_row1_col0\" class=\"data row1 col0\" >0.9462</td>\n",
       "                        <td id=\"T_fbb99_row1_col1\" class=\"data row1 col1\" >0.0000</td>\n",
       "                        <td id=\"T_fbb99_row1_col2\" class=\"data row1 col2\" >0.4400</td>\n",
       "                        <td id=\"T_fbb99_row1_col3\" class=\"data row1 col3\" >0.6197</td>\n",
       "                        <td id=\"T_fbb99_row1_col4\" class=\"data row1 col4\" >0.5146</td>\n",
       "                        <td id=\"T_fbb99_row1_col5\" class=\"data row1 col5\" >0.4870</td>\n",
       "                        <td id=\"T_fbb99_row1_col6\" class=\"data row1 col6\" >0.4950</td>\n",
       "            </tr>\n",
       "            <tr>\n",
       "                        <th id=\"T_fbb99_level0_row2\" class=\"row_heading level0 row2\" >2</th>\n",
       "                        <td id=\"T_fbb99_row2_col0\" class=\"data row2 col0\" >0.9424</td>\n",
       "                        <td id=\"T_fbb99_row2_col1\" class=\"data row2 col1\" >0.0000</td>\n",
       "                        <td id=\"T_fbb99_row2_col2\" class=\"data row2 col2\" >0.4900</td>\n",
       "                        <td id=\"T_fbb99_row2_col3\" class=\"data row2 col3\" >0.5632</td>\n",
       "                        <td id=\"T_fbb99_row2_col4\" class=\"data row2 col4\" >0.5241</td>\n",
       "                        <td id=\"T_fbb99_row2_col5\" class=\"data row2 col5\" >0.4935</td>\n",
       "                        <td id=\"T_fbb99_row2_col6\" class=\"data row2 col6\" >0.4949</td>\n",
       "            </tr>\n",
       "            <tr>\n",
       "                        <th id=\"T_fbb99_level0_row3\" class=\"row_heading level0 row3\" >3</th>\n",
       "                        <td id=\"T_fbb99_row3_col0\" class=\"data row3 col0\" >0.9365</td>\n",
       "                        <td id=\"T_fbb99_row3_col1\" class=\"data row3 col1\" >0.0000</td>\n",
       "                        <td id=\"T_fbb99_row3_col2\" class=\"data row3 col2\" >0.4000</td>\n",
       "                        <td id=\"T_fbb99_row3_col3\" class=\"data row3 col3\" >0.5128</td>\n",
       "                        <td id=\"T_fbb99_row3_col4\" class=\"data row3 col4\" >0.4494</td>\n",
       "                        <td id=\"T_fbb99_row3_col5\" class=\"data row3 col5\" >0.4163</td>\n",
       "                        <td id=\"T_fbb99_row3_col6\" class=\"data row3 col6\" >0.4199</td>\n",
       "            </tr>\n",
       "            <tr>\n",
       "                        <th id=\"T_fbb99_level0_row4\" class=\"row_heading level0 row4\" >4</th>\n",
       "                        <td id=\"T_fbb99_row4_col0\" class=\"data row4 col0\" >0.9385</td>\n",
       "                        <td id=\"T_fbb99_row4_col1\" class=\"data row4 col1\" >0.0000</td>\n",
       "                        <td id=\"T_fbb99_row4_col2\" class=\"data row4 col2\" >0.3900</td>\n",
       "                        <td id=\"T_fbb99_row4_col3\" class=\"data row4 col3\" >0.5342</td>\n",
       "                        <td id=\"T_fbb99_row4_col4\" class=\"data row4 col4\" >0.4509</td>\n",
       "                        <td id=\"T_fbb99_row4_col5\" class=\"data row4 col5\" >0.4191</td>\n",
       "                        <td id=\"T_fbb99_row4_col6\" class=\"data row4 col6\" >0.4249</td>\n",
       "            </tr>\n",
       "            <tr>\n",
       "                        <th id=\"T_fbb99_level0_row5\" class=\"row_heading level0 row5\" >5</th>\n",
       "                        <td id=\"T_fbb99_row5_col0\" class=\"data row5 col0\" >0.9372</td>\n",
       "                        <td id=\"T_fbb99_row5_col1\" class=\"data row5 col1\" >0.0000</td>\n",
       "                        <td id=\"T_fbb99_row5_col2\" class=\"data row5 col2\" >0.4200</td>\n",
       "                        <td id=\"T_fbb99_row5_col3\" class=\"data row5 col3\" >0.5185</td>\n",
       "                        <td id=\"T_fbb99_row5_col4\" class=\"data row5 col4\" >0.4641</td>\n",
       "                        <td id=\"T_fbb99_row5_col5\" class=\"data row5 col5\" >0.4311</td>\n",
       "                        <td id=\"T_fbb99_row5_col6\" class=\"data row5 col6\" >0.4338</td>\n",
       "            </tr>\n",
       "            <tr>\n",
       "                        <th id=\"T_fbb99_level0_row6\" class=\"row_heading level0 row6\" >6</th>\n",
       "                        <td id=\"T_fbb99_row6_col0\" class=\"data row6 col0\" >0.9391</td>\n",
       "                        <td id=\"T_fbb99_row6_col1\" class=\"data row6 col1\" >0.0000</td>\n",
       "                        <td id=\"T_fbb99_row6_col2\" class=\"data row6 col2\" >0.4554</td>\n",
       "                        <td id=\"T_fbb99_row6_col3\" class=\"data row6 col3\" >0.5412</td>\n",
       "                        <td id=\"T_fbb99_row6_col4\" class=\"data row6 col4\" >0.4946</td>\n",
       "                        <td id=\"T_fbb99_row6_col5\" class=\"data row6 col5\" >0.4625</td>\n",
       "                        <td id=\"T_fbb99_row6_col6\" class=\"data row6 col6\" >0.4644</td>\n",
       "            </tr>\n",
       "            <tr>\n",
       "                        <th id=\"T_fbb99_level0_row7\" class=\"row_heading level0 row7\" >7</th>\n",
       "                        <td id=\"T_fbb99_row7_col0\" class=\"data row7 col0\" >0.9475</td>\n",
       "                        <td id=\"T_fbb99_row7_col1\" class=\"data row7 col1\" >0.0000</td>\n",
       "                        <td id=\"T_fbb99_row7_col2\" class=\"data row7 col2\" >0.5149</td>\n",
       "                        <td id=\"T_fbb99_row7_col3\" class=\"data row7 col3\" >0.6190</td>\n",
       "                        <td id=\"T_fbb99_row7_col4\" class=\"data row7 col4\" >0.5622</td>\n",
       "                        <td id=\"T_fbb99_row7_col5\" class=\"data row7 col5\" >0.5345</td>\n",
       "                        <td id=\"T_fbb99_row7_col6\" class=\"data row7 col6\" >0.5371</td>\n",
       "            </tr>\n",
       "            <tr>\n",
       "                        <th id=\"T_fbb99_level0_row8\" class=\"row_heading level0 row8\" >8</th>\n",
       "                        <td id=\"T_fbb99_row8_col0\" class=\"data row8 col0\" >0.9359</td>\n",
       "                        <td id=\"T_fbb99_row8_col1\" class=\"data row8 col1\" >0.0000</td>\n",
       "                        <td id=\"T_fbb99_row8_col2\" class=\"data row8 col2\" >0.3663</td>\n",
       "                        <td id=\"T_fbb99_row8_col3\" class=\"data row8 col3\" >0.5139</td>\n",
       "                        <td id=\"T_fbb99_row8_col4\" class=\"data row8 col4\" >0.4277</td>\n",
       "                        <td id=\"T_fbb99_row8_col5\" class=\"data row8 col5\" >0.3948</td>\n",
       "                        <td id=\"T_fbb99_row8_col6\" class=\"data row8 col6\" >0.4011</td>\n",
       "            </tr>\n",
       "            <tr>\n",
       "                        <th id=\"T_fbb99_level0_row9\" class=\"row_heading level0 row9\" >9</th>\n",
       "                        <td id=\"T_fbb99_row9_col0\" class=\"data row9 col0\" >0.9411</td>\n",
       "                        <td id=\"T_fbb99_row9_col1\" class=\"data row9 col1\" >0.0000</td>\n",
       "                        <td id=\"T_fbb99_row9_col2\" class=\"data row9 col2\" >0.4455</td>\n",
       "                        <td id=\"T_fbb99_row9_col3\" class=\"data row9 col3\" >0.5625</td>\n",
       "                        <td id=\"T_fbb99_row9_col4\" class=\"data row9 col4\" >0.4972</td>\n",
       "                        <td id=\"T_fbb99_row9_col5\" class=\"data row9 col5\" >0.4664</td>\n",
       "                        <td id=\"T_fbb99_row9_col6\" class=\"data row9 col6\" >0.4700</td>\n",
       "            </tr>\n",
       "            <tr>\n",
       "                        <th id=\"T_fbb99_level0_row10\" class=\"row_heading level0 row10\" >Mean</th>\n",
       "                        <td id=\"T_fbb99_row10_col0\" class=\"data row10 col0\" >0.9405</td>\n",
       "                        <td id=\"T_fbb99_row10_col1\" class=\"data row10 col1\" >0.0000</td>\n",
       "                        <td id=\"T_fbb99_row10_col2\" class=\"data row10 col2\" >0.4388</td>\n",
       "                        <td id=\"T_fbb99_row10_col3\" class=\"data row10 col3\" >0.5538</td>\n",
       "                        <td id=\"T_fbb99_row10_col4\" class=\"data row10 col4\" >0.4890</td>\n",
       "                        <td id=\"T_fbb99_row10_col5\" class=\"data row10 col5\" >0.4579</td>\n",
       "                        <td id=\"T_fbb99_row10_col6\" class=\"data row10 col6\" >0.4617</td>\n",
       "            </tr>\n",
       "            <tr>\n",
       "                        <th id=\"T_fbb99_level0_row11\" class=\"row_heading level0 row11\" >SD</th>\n",
       "                        <td id=\"T_fbb99_row11_col0\" class=\"data row11 col0\" >0.0037</td>\n",
       "                        <td id=\"T_fbb99_row11_col1\" class=\"data row11 col1\" >0.0000</td>\n",
       "                        <td id=\"T_fbb99_row11_col2\" class=\"data row11 col2\" >0.0435</td>\n",
       "                        <td id=\"T_fbb99_row11_col3\" class=\"data row11 col3\" >0.0372</td>\n",
       "                        <td id=\"T_fbb99_row11_col4\" class=\"data row11 col4\" >0.0387</td>\n",
       "                        <td id=\"T_fbb99_row11_col5\" class=\"data row11 col5\" >0.0403</td>\n",
       "                        <td id=\"T_fbb99_row11_col6\" class=\"data row11 col6\" >0.0396</td>\n",
       "            </tr>\n",
       "    </tbody></table>"
      ],
      "text/plain": [
       "<pandas.io.formats.style.Styler at 0x1900d984430>"
      ]
     },
     "metadata": {},
     "output_type": "display_data"
    }
   ],
   "source": [
    "# blend individual models\n",
    "blend_hard = blend_models(estimator_list = [tuned_lgbm, xgb, rf, catboost], method = 'hard')"
   ]
  },
  {
   "cell_type": "code",
   "execution_count": 92,
   "metadata": {},
   "outputs": [
    {
     "data": {
      "image/png": "[encoded data removed]",
      "text/plain": [
       "<Figure size 576x396 with 1 Axes>"
      ]
     },
     "metadata": {},
     "output_type": "display_data"
    }
   ],
   "source": [
    "plot_model(blend_hard, plot = 'confusion_matrix')"
   ]
  },
  {
   "cell_type": "code",
   "execution_count": 93,
   "metadata": {},
   "outputs": [
    {
     "data": {
      "image/png": "[encoded data removed]",
      "text/plain": [
       "<Figure size 576x396 with 2 Axes>"
      ]
     },
     "metadata": {},
     "output_type": "display_data"
    }
   ],
   "source": [
    "plot_model(blend_hard, plot = 'class_report')"
   ]
  },
  {
   "cell_type": "markdown",
   "metadata": {},
   "source": [
    "### **Stacking**"
   ]
  },
  {
   "cell_type": "code",
   "execution_count": 94,
   "metadata": {},
   "outputs": [
    {
     "data": {
      "text/html": [
       "<style  type=\"text/css\" >\n",
       "#T_d003d_row10_col0,#T_d003d_row10_col1,#T_d003d_row10_col2,#T_d003d_row10_col3,#T_d003d_row10_col4,#T_d003d_row10_col5,#T_d003d_row10_col6{\n",
       "            background:  yellow;\n",
       "        }</style><table id=\"T_d003d_\" ><thead>    <tr>        <th class=\"blank level0\" ></th>        <th class=\"col_heading level0 col0\" >Accuracy</th>        <th class=\"col_heading level0 col1\" >AUC</th>        <th class=\"col_heading level0 col2\" >Recall</th>        <th class=\"col_heading level0 col3\" >Prec.</th>        <th class=\"col_heading level0 col4\" >F1</th>        <th class=\"col_heading level0 col5\" >Kappa</th>        <th class=\"col_heading level0 col6\" >MCC</th>    </tr></thead><tbody>\n",
       "                <tr>\n",
       "                        <th id=\"T_d003d_level0_row0\" class=\"row_heading level0 row0\" >0</th>\n",
       "                        <td id=\"T_d003d_row0_col0\" class=\"data row0 col0\" >0.9392</td>\n",
       "                        <td id=\"T_d003d_row0_col1\" class=\"data row0 col1\" >0.9433</td>\n",
       "                        <td id=\"T_d003d_row0_col2\" class=\"data row0 col2\" >0.1287</td>\n",
       "                        <td id=\"T_d003d_row0_col3\" class=\"data row0 col3\" >0.6842</td>\n",
       "                        <td id=\"T_d003d_row0_col4\" class=\"data row0 col4\" >0.2167</td>\n",
       "                        <td id=\"T_d003d_row0_col5\" class=\"data row0 col5\" >0.2001</td>\n",
       "                        <td id=\"T_d003d_row0_col6\" class=\"data row0 col6\" >0.2794</td>\n",
       "            </tr>\n",
       "            <tr>\n",
       "                        <th id=\"T_d003d_level0_row1\" class=\"row_heading level0 row1\" >1</th>\n",
       "                        <td id=\"T_d003d_row1_col0\" class=\"data row1 col0\" >0.9378</td>\n",
       "                        <td id=\"T_d003d_row1_col1\" class=\"data row1 col1\" >0.9215</td>\n",
       "                        <td id=\"T_d003d_row1_col2\" class=\"data row1 col2\" >0.1100</td>\n",
       "                        <td id=\"T_d003d_row1_col3\" class=\"data row1 col3\" >0.6111</td>\n",
       "                        <td id=\"T_d003d_row1_col4\" class=\"data row1 col4\" >0.1864</td>\n",
       "                        <td id=\"T_d003d_row1_col5\" class=\"data row1 col5\" >0.1700</td>\n",
       "                        <td id=\"T_d003d_row1_col6\" class=\"data row1 col6\" >0.2411</td>\n",
       "            </tr>\n",
       "            <tr>\n",
       "                        <th id=\"T_d003d_level0_row2\" class=\"row_heading level0 row2\" >2</th>\n",
       "                        <td id=\"T_d003d_row2_col0\" class=\"data row2 col0\" >0.9404</td>\n",
       "                        <td id=\"T_d003d_row2_col1\" class=\"data row2 col1\" >0.9332</td>\n",
       "                        <td id=\"T_d003d_row2_col2\" class=\"data row2 col2\" >0.1300</td>\n",
       "                        <td id=\"T_d003d_row2_col3\" class=\"data row2 col3\" >0.7222</td>\n",
       "                        <td id=\"T_d003d_row2_col4\" class=\"data row2 col4\" >0.2203</td>\n",
       "                        <td id=\"T_d003d_row2_col5\" class=\"data row2 col5\" >0.2046</td>\n",
       "                        <td id=\"T_d003d_row2_col6\" class=\"data row2 col6\" >0.2901</td>\n",
       "            </tr>\n",
       "            <tr>\n",
       "                        <th id=\"T_d003d_level0_row3\" class=\"row_heading level0 row3\" >3</th>\n",
       "                        <td id=\"T_d003d_row3_col0\" class=\"data row3 col0\" >0.9352</td>\n",
       "                        <td id=\"T_d003d_row3_col1\" class=\"data row3 col1\" >0.9051</td>\n",
       "                        <td id=\"T_d003d_row3_col2\" class=\"data row3 col2\" >0.0400</td>\n",
       "                        <td id=\"T_d003d_row3_col3\" class=\"data row3 col3\" >0.5000</td>\n",
       "                        <td id=\"T_d003d_row3_col4\" class=\"data row3 col4\" >0.0741</td>\n",
       "                        <td id=\"T_d003d_row3_col5\" class=\"data row3 col5\" >0.0651</td>\n",
       "                        <td id=\"T_d003d_row3_col6\" class=\"data row3 col6\" >0.1276</td>\n",
       "            </tr>\n",
       "            <tr>\n",
       "                        <th id=\"T_d003d_level0_row4\" class=\"row_heading level0 row4\" >4</th>\n",
       "                        <td id=\"T_d003d_row4_col0\" class=\"data row4 col0\" >0.9411</td>\n",
       "                        <td id=\"T_d003d_row4_col1\" class=\"data row4 col1\" >0.9215</td>\n",
       "                        <td id=\"T_d003d_row4_col2\" class=\"data row4 col2\" >0.1100</td>\n",
       "                        <td id=\"T_d003d_row4_col3\" class=\"data row4 col3\" >0.8462</td>\n",
       "                        <td id=\"T_d003d_row4_col4\" class=\"data row4 col4\" >0.1947</td>\n",
       "                        <td id=\"T_d003d_row4_col5\" class=\"data row4 col5\" >0.1825</td>\n",
       "                        <td id=\"T_d003d_row4_col6\" class=\"data row4 col6\" >0.2926</td>\n",
       "            </tr>\n",
       "            <tr>\n",
       "                        <th id=\"T_d003d_level0_row5\" class=\"row_heading level0 row5\" >5</th>\n",
       "                        <td id=\"T_d003d_row5_col0\" class=\"data row5 col0\" >0.9339</td>\n",
       "                        <td id=\"T_d003d_row5_col1\" class=\"data row5 col1\" >0.9160</td>\n",
       "                        <td id=\"T_d003d_row5_col2\" class=\"data row5 col2\" >0.1300</td>\n",
       "                        <td id=\"T_d003d_row5_col3\" class=\"data row5 col3\" >0.4643</td>\n",
       "                        <td id=\"T_d003d_row5_col4\" class=\"data row5 col4\" >0.2031</td>\n",
       "                        <td id=\"T_d003d_row5_col5\" class=\"data row5 col5\" >0.1799</td>\n",
       "                        <td id=\"T_d003d_row5_col6\" class=\"data row5 col6\" >0.2206</td>\n",
       "            </tr>\n",
       "            <tr>\n",
       "                        <th id=\"T_d003d_level0_row6\" class=\"row_heading level0 row6\" >6</th>\n",
       "                        <td id=\"T_d003d_row6_col0\" class=\"data row6 col0\" >0.9339</td>\n",
       "                        <td id=\"T_d003d_row6_col1\" class=\"data row6 col1\" >0.9192</td>\n",
       "                        <td id=\"T_d003d_row6_col2\" class=\"data row6 col2\" >0.0792</td>\n",
       "                        <td id=\"T_d003d_row6_col3\" class=\"data row6 col3\" >0.4706</td>\n",
       "                        <td id=\"T_d003d_row6_col4\" class=\"data row6 col4\" >0.1356</td>\n",
       "                        <td id=\"T_d003d_row6_col5\" class=\"data row6 col5\" >0.1190</td>\n",
       "                        <td id=\"T_d003d_row6_col6\" class=\"data row6 col6\" >0.1729</td>\n",
       "            </tr>\n",
       "            <tr>\n",
       "                        <th id=\"T_d003d_level0_row7\" class=\"row_heading level0 row7\" >7</th>\n",
       "                        <td id=\"T_d003d_row7_col0\" class=\"data row7 col0\" >0.9365</td>\n",
       "                        <td id=\"T_d003d_row7_col1\" class=\"data row7 col1\" >0.9321</td>\n",
       "                        <td id=\"T_d003d_row7_col2\" class=\"data row7 col2\" >0.1089</td>\n",
       "                        <td id=\"T_d003d_row7_col3\" class=\"data row7 col3\" >0.5789</td>\n",
       "                        <td id=\"T_d003d_row7_col4\" class=\"data row7 col4\" >0.1833</td>\n",
       "                        <td id=\"T_d003d_row7_col5\" class=\"data row7 col5\" >0.1661</td>\n",
       "                        <td id=\"T_d003d_row7_col6\" class=\"data row7 col6\" >0.2318</td>\n",
       "            </tr>\n",
       "            <tr>\n",
       "                        <th id=\"T_d003d_level0_row8\" class=\"row_heading level0 row8\" >8</th>\n",
       "                        <td id=\"T_d003d_row8_col0\" class=\"data row8 col0\" >0.9339</td>\n",
       "                        <td id=\"T_d003d_row8_col1\" class=\"data row8 col1\" >0.9097</td>\n",
       "                        <td id=\"T_d003d_row8_col2\" class=\"data row8 col2\" >0.0792</td>\n",
       "                        <td id=\"T_d003d_row8_col3\" class=\"data row8 col3\" >0.4706</td>\n",
       "                        <td id=\"T_d003d_row8_col4\" class=\"data row8 col4\" >0.1356</td>\n",
       "                        <td id=\"T_d003d_row8_col5\" class=\"data row8 col5\" >0.1190</td>\n",
       "                        <td id=\"T_d003d_row8_col6\" class=\"data row8 col6\" >0.1729</td>\n",
       "            </tr>\n",
       "            <tr>\n",
       "                        <th id=\"T_d003d_level0_row9\" class=\"row_heading level0 row9\" >9</th>\n",
       "                        <td id=\"T_d003d_row9_col0\" class=\"data row9 col0\" >0.9339</td>\n",
       "                        <td id=\"T_d003d_row9_col1\" class=\"data row9 col1\" >0.9229</td>\n",
       "                        <td id=\"T_d003d_row9_col2\" class=\"data row9 col2\" >0.0396</td>\n",
       "                        <td id=\"T_d003d_row9_col3\" class=\"data row9 col3\" >0.4444</td>\n",
       "                        <td id=\"T_d003d_row9_col4\" class=\"data row9 col4\" >0.0727</td>\n",
       "                        <td id=\"T_d003d_row9_col5\" class=\"data row9 col5\" >0.0627</td>\n",
       "                        <td id=\"T_d003d_row9_col6\" class=\"data row9 col6\" >0.1174</td>\n",
       "            </tr>\n",
       "            <tr>\n",
       "                        <th id=\"T_d003d_level0_row10\" class=\"row_heading level0 row10\" >Mean</th>\n",
       "                        <td id=\"T_d003d_row10_col0\" class=\"data row10 col0\" >0.9366</td>\n",
       "                        <td id=\"T_d003d_row10_col1\" class=\"data row10 col1\" >0.9225</td>\n",
       "                        <td id=\"T_d003d_row10_col2\" class=\"data row10 col2\" >0.0956</td>\n",
       "                        <td id=\"T_d003d_row10_col3\" class=\"data row10 col3\" >0.5793</td>\n",
       "                        <td id=\"T_d003d_row10_col4\" class=\"data row10 col4\" >0.1623</td>\n",
       "                        <td id=\"T_d003d_row10_col5\" class=\"data row10 col5\" >0.1469</td>\n",
       "                        <td id=\"T_d003d_row10_col6\" class=\"data row10 col6\" >0.2146</td>\n",
       "            </tr>\n",
       "            <tr>\n",
       "                        <th id=\"T_d003d_level0_row11\" class=\"row_heading level0 row11\" >SD</th>\n",
       "                        <td id=\"T_d003d_row11_col0\" class=\"data row11 col0\" >0.0027</td>\n",
       "                        <td id=\"T_d003d_row11_col1\" class=\"data row11 col1\" >0.0108</td>\n",
       "                        <td id=\"T_d003d_row11_col2\" class=\"data row11 col2\" >0.0329</td>\n",
       "                        <td id=\"T_d003d_row11_col3\" class=\"data row11 col3\" >0.1285</td>\n",
       "                        <td id=\"T_d003d_row11_col4\" class=\"data row11 col4\" >0.0522</td>\n",
       "                        <td id=\"T_d003d_row11_col5\" class=\"data row11 col5\" >0.0498</td>\n",
       "                        <td id=\"T_d003d_row11_col6\" class=\"data row11 col6\" >0.0612</td>\n",
       "            </tr>\n",
       "    </tbody></table>"
      ],
      "text/plain": [
       "<pandas.io.formats.style.Styler at 0x1900db73310>"
      ]
     },
     "metadata": {},
     "output_type": "display_data"
    }
   ],
   "source": [
    "stack_soft = stack_models(estimator_list = [xgb, rf, catboost], meta_model = lgbm)"
   ]
  },
  {
   "cell_type": "code",
   "execution_count": 95,
   "metadata": {},
   "outputs": [
    {
     "data": {
      "image/png": "[encoded data removed]",
      "text/plain": [
       "<Figure size 576x396 with 1 Axes>"
      ]
     },
     "metadata": {},
     "output_type": "display_data"
    }
   ],
   "source": [
    "plot_model(stack_soft, plot='confusion_matrix')"
   ]
  },
  {
   "cell_type": "code",
   "execution_count": 96,
   "metadata": {},
   "outputs": [
    {
     "data": {
      "image/png": "[encoded data removed]",
      "text/plain": [
       "<Figure size 576x396 with 2 Axes>"
      ]
     },
     "metadata": {},
     "output_type": "display_data"
    }
   ],
   "source": [
    "plot_model(stack_soft, plot='class_report')"
   ]
  },
  {
   "cell_type": "markdown",
   "metadata": {},
   "source": [
    "### Best model selection:"
   ]
  },
  {
   "cell_type": "code",
   "execution_count": 97,
   "metadata": {},
   "outputs": [],
   "source": [
    "best_auc_model = automl(optimize = 'AUC')"
   ]
  },
  {
   "cell_type": "code",
   "execution_count": 98,
   "metadata": {},
   "outputs": [
    {
     "data": {
      "text/plain": [
       "VotingClassifier(estimators=[('lightgbm',\n",
       "                              LGBMClassifier(bagging_fraction=0.4,\n",
       "                                             bagging_freq=3,\n",
       "                                             boosting_type='gbdt',\n",
       "                                             class_weight=None,\n",
       "                                             colsample_bytree=1.0,\n",
       "                                             feature_fraction=0.6,\n",
       "                                             importance_type='split',\n",
       "                                             learning_rate=0.01, max_depth=-1,\n",
       "                                             min_child_samples=86,\n",
       "                                             min_child_weight=0.001,\n",
       "                                             min_split_gain=0.1,\n",
       "                                             n_estimators=180, n_jobs=-1,\n",
       "                                             num_leaves=40, objective=None,\n",
       "                                             ra...\n",
       "                                                     min_impurity_decrease=0.0,\n",
       "                                                     min_impurity_split=None,\n",
       "                                                     min_samples_leaf=1,\n",
       "                                                     min_samples_split=2,\n",
       "                                                     min_weight_fraction_leaf=0.0,\n",
       "                                                     n_estimators=100,\n",
       "                                                     n_jobs=-1, oob_score=False,\n",
       "                                                     random_state=234,\n",
       "                                                     verbose=0,\n",
       "                                                     warm_start=False)),\n",
       "                             ('catboost',\n",
       "                              <catboost.core.CatBoostClassifier object at 0x000001900EB09A30>)],\n",
       "                 flatten_transform=True, n_jobs=-1, verbose=False,\n",
       "                 voting='soft', weights=None)"
      ]
     },
     "execution_count": 98,
     "metadata": {},
     "output_type": "execute_result"
    }
   ],
   "source": [
    "best_auc_model"
   ]
  },
  {
   "cell_type": "markdown",
   "metadata": {},
   "source": [
    "### Predict with best model"
   ]
  },
  {
   "cell_type": "code",
   "execution_count": 99,
   "metadata": {},
   "outputs": [
    {
     "data": {
      "text/html": [
       "<style  type=\"text/css\" >\n",
       "</style><table id=\"T_4a64a_\" ><thead>    <tr>        <th class=\"blank level0\" ></th>        <th class=\"col_heading level0 col0\" >Model</th>        <th class=\"col_heading level0 col1\" >Accuracy</th>        <th class=\"col_heading level0 col2\" >AUC</th>        <th class=\"col_heading level0 col3\" >Recall</th>        <th class=\"col_heading level0 col4\" >Prec.</th>        <th class=\"col_heading level0 col5\" >F1</th>        <th class=\"col_heading level0 col6\" >Kappa</th>        <th class=\"col_heading level0 col7\" >MCC</th>    </tr></thead><tbody>\n",
       "                <tr>\n",
       "                        <th id=\"T_4a64a_level0_row0\" class=\"row_heading level0 row0\" >0</th>\n",
       "                        <td id=\"T_4a64a_row0_col0\" class=\"data row0 col0\" >Voting Classifier</td>\n",
       "                        <td id=\"T_4a64a_row0_col1\" class=\"data row0 col1\" >0.9436</td>\n",
       "                        <td id=\"T_4a64a_row0_col2\" class=\"data row0 col2\" >0.9482</td>\n",
       "                        <td id=\"T_4a64a_row0_col3\" class=\"data row0 col3\" >0.5452</td>\n",
       "                        <td id=\"T_4a64a_row0_col4\" class=\"data row0 col4\" >0.5704</td>\n",
       "                        <td id=\"T_4a64a_row0_col5\" class=\"data row0 col5\" >0.5575</td>\n",
       "                        <td id=\"T_4a64a_row0_col6\" class=\"data row0 col6\" >0.5275</td>\n",
       "                        <td id=\"T_4a64a_row0_col7\" class=\"data row0 col7\" >0.5276</td>\n",
       "            </tr>\n",
       "    </tbody></table>"
      ],
      "text/plain": [
       "<pandas.io.formats.style.Styler at 0x19010f3bc70>"
      ]
     },
     "metadata": {},
     "output_type": "display_data"
    },
    {
     "data": {
      "text/html": [
       "<div>\n",
       "<style scoped>\n",
       "    .dataframe tbody tr th:only-of-type {\n",
       "        vertical-align: middle;\n",
       "    }\n",
       "\n",
       "    .dataframe tbody tr th {\n",
       "        vertical-align: top;\n",
       "    }\n",
       "\n",
       "    .dataframe thead th {\n",
       "        text-align: right;\n",
       "    }\n",
       "</style>\n",
       "<table border=\"1\" class=\"dataframe\">\n",
       "  <thead>\n",
       "    <tr style=\"text-align: right;\">\n",
       "      <th></th>\n",
       "      <th>age</th>\n",
       "      <th>duration</th>\n",
       "      <th>campaign</th>\n",
       "      <th>cons.price.idx</th>\n",
       "      <th>cons.conf.idx</th>\n",
       "      <th>euribor3m</th>\n",
       "      <th>nr.employed</th>\n",
       "      <th>job_admin.</th>\n",
       "      <th>job_blue-collar</th>\n",
       "      <th>job_entrepreneur</th>\n",
       "      <th>...</th>\n",
       "      <th>month_sep</th>\n",
       "      <th>day_of_week_fri</th>\n",
       "      <th>day_of_week_mon</th>\n",
       "      <th>day_of_week_thu</th>\n",
       "      <th>day_of_week_tue</th>\n",
       "      <th>day_of_week_wed</th>\n",
       "      <th>poutcome_nonexistent</th>\n",
       "      <th>y</th>\n",
       "      <th>Label</th>\n",
       "      <th>Score</th>\n",
       "    </tr>\n",
       "  </thead>\n",
       "  <tbody>\n",
       "    <tr>\n",
       "      <th>0</th>\n",
       "      <td>-1.112050</td>\n",
       "      <td>-0.875518</td>\n",
       "      <td>-1.011569</td>\n",
       "      <td>-1.239898</td>\n",
       "      <td>-1.323520</td>\n",
       "      <td>-1.497505</td>\n",
       "      <td>-1.317686</td>\n",
       "      <td>0.0</td>\n",
       "      <td>0.0</td>\n",
       "      <td>0.0</td>\n",
       "      <td>...</td>\n",
       "      <td>0.0</td>\n",
       "      <td>0.0</td>\n",
       "      <td>0.0</td>\n",
       "      <td>1.0</td>\n",
       "      <td>0.0</td>\n",
       "      <td>0.0</td>\n",
       "      <td>1.0</td>\n",
       "      <td>no</td>\n",
       "      <td>no</td>\n",
       "      <td>0.9570</td>\n",
       "    </tr>\n",
       "    <tr>\n",
       "      <th>1</th>\n",
       "      <td>-0.668094</td>\n",
       "      <td>0.241276</td>\n",
       "      <td>-1.011569</td>\n",
       "      <td>-0.323951</td>\n",
       "      <td>1.035683</td>\n",
       "      <td>0.830101</td>\n",
       "      <td>1.018314</td>\n",
       "      <td>1.0</td>\n",
       "      <td>0.0</td>\n",
       "      <td>0.0</td>\n",
       "      <td>...</td>\n",
       "      <td>0.0</td>\n",
       "      <td>0.0</td>\n",
       "      <td>1.0</td>\n",
       "      <td>0.0</td>\n",
       "      <td>0.0</td>\n",
       "      <td>0.0</td>\n",
       "      <td>1.0</td>\n",
       "      <td>no</td>\n",
       "      <td>no</td>\n",
       "      <td>0.9684</td>\n",
       "    </tr>\n",
       "    <tr>\n",
       "      <th>2</th>\n",
       "      <td>-1.427041</td>\n",
       "      <td>0.123849</td>\n",
       "      <td>0.332970</td>\n",
       "      <td>0.560522</td>\n",
       "      <td>-0.473964</td>\n",
       "      <td>0.816149</td>\n",
       "      <td>1.018314</td>\n",
       "      <td>0.0</td>\n",
       "      <td>1.0</td>\n",
       "      <td>0.0</td>\n",
       "      <td>...</td>\n",
       "      <td>0.0</td>\n",
       "      <td>1.0</td>\n",
       "      <td>0.0</td>\n",
       "      <td>0.0</td>\n",
       "      <td>0.0</td>\n",
       "      <td>0.0</td>\n",
       "      <td>1.0</td>\n",
       "      <td>no</td>\n",
       "      <td>no</td>\n",
       "      <td>0.9735</td>\n",
       "    </tr>\n",
       "    <tr>\n",
       "      <th>3</th>\n",
       "      <td>-0.812122</td>\n",
       "      <td>1.490943</td>\n",
       "      <td>-1.011569</td>\n",
       "      <td>1.687064</td>\n",
       "      <td>-0.260244</td>\n",
       "      <td>0.625627</td>\n",
       "      <td>1.018314</td>\n",
       "      <td>0.0</td>\n",
       "      <td>1.0</td>\n",
       "      <td>0.0</td>\n",
       "      <td>...</td>\n",
       "      <td>0.0</td>\n",
       "      <td>0.0</td>\n",
       "      <td>0.0</td>\n",
       "      <td>0.0</td>\n",
       "      <td>1.0</td>\n",
       "      <td>0.0</td>\n",
       "      <td>1.0</td>\n",
       "      <td>no</td>\n",
       "      <td>no</td>\n",
       "      <td>0.9218</td>\n",
       "    </tr>\n",
       "    <tr>\n",
       "      <th>4</th>\n",
       "      <td>0.880467</td>\n",
       "      <td>-0.030028</td>\n",
       "      <td>-1.011569</td>\n",
       "      <td>-0.323951</td>\n",
       "      <td>1.035683</td>\n",
       "      <td>0.822121</td>\n",
       "      <td>1.018314</td>\n",
       "      <td>0.0</td>\n",
       "      <td>0.0</td>\n",
       "      <td>1.0</td>\n",
       "      <td>...</td>\n",
       "      <td>0.0</td>\n",
       "      <td>1.0</td>\n",
       "      <td>0.0</td>\n",
       "      <td>0.0</td>\n",
       "      <td>0.0</td>\n",
       "      <td>0.0</td>\n",
       "      <td>1.0</td>\n",
       "      <td>no</td>\n",
       "      <td>no</td>\n",
       "      <td>0.9749</td>\n",
       "    </tr>\n",
       "  </tbody>\n",
       "</table>\n",
       "<p>5 rows × 50 columns</p>\n",
       "</div>"
      ],
      "text/plain": [
       "        age  duration  campaign  cons.price.idx  cons.conf.idx  euribor3m  \\\n",
       "0 -1.112050 -0.875518 -1.011569       -1.239898      -1.323520  -1.497505   \n",
       "1 -0.668094  0.241276 -1.011569       -0.323951       1.035683   0.830101   \n",
       "2 -1.427041  0.123849  0.332970        0.560522      -0.473964   0.816149   \n",
       "3 -0.812122  1.490943 -1.011569        1.687064      -0.260244   0.625627   \n",
       "4  0.880467 -0.030028 -1.011569       -0.323951       1.035683   0.822121   \n",
       "\n",
       "   nr.employed  job_admin.  job_blue-collar  job_entrepreneur  ...  month_sep  \\\n",
       "0    -1.317686         0.0              0.0               0.0  ...        0.0   \n",
       "1     1.018314         1.0              0.0               0.0  ...        0.0   \n",
       "2     1.018314         0.0              1.0               0.0  ...        0.0   \n",
       "3     1.018314         0.0              1.0               0.0  ...        0.0   \n",
       "4     1.018314         0.0              0.0               1.0  ...        0.0   \n",
       "\n",
       "   day_of_week_fri  day_of_week_mon  day_of_week_thu  day_of_week_tue  \\\n",
       "0              0.0              0.0              1.0              0.0   \n",
       "1              0.0              1.0              0.0              0.0   \n",
       "2              1.0              0.0              0.0              0.0   \n",
       "3              0.0              0.0              0.0              1.0   \n",
       "4              1.0              0.0              0.0              0.0   \n",
       "\n",
       "   day_of_week_wed  poutcome_nonexistent   y  Label   Score  \n",
       "0              0.0                   1.0  no     no  0.9570  \n",
       "1              0.0                   1.0  no     no  0.9684  \n",
       "2              0.0                   1.0  no     no  0.9735  \n",
       "3              0.0                   1.0  no     no  0.9218  \n",
       "4              0.0                   1.0  no     no  0.9749  \n",
       "\n",
       "[5 rows x 50 columns]"
      ]
     },
     "execution_count": 99,
     "metadata": {},
     "output_type": "execute_result"
    }
   ],
   "source": [
    "pred_holdouts = predict_model(best_auc_model)\n",
    "pred_holdouts.head()"
   ]
  },
  {
   "cell_type": "markdown",
   "metadata": {},
   "source": [
    "### Finalize best model:"
   ]
  },
  {
   "cell_type": "code",
   "execution_count": 100,
   "metadata": {},
   "outputs": [],
   "source": [
    "final_rf = finalize_model(best_auc_model)"
   ]
  },
  {
   "cell_type": "code",
   "execution_count": 101,
   "metadata": {},
   "outputs": [
    {
     "data": {
      "text/plain": [
       "VotingClassifier(estimators=[('lightgbm',\n",
       "                              LGBMClassifier(bagging_fraction=0.4,\n",
       "                                             bagging_freq=3,\n",
       "                                             boosting_type='gbdt',\n",
       "                                             class_weight=None,\n",
       "                                             colsample_bytree=1.0,\n",
       "                                             feature_fraction=0.6,\n",
       "                                             importance_type='split',\n",
       "                                             learning_rate=0.01, max_depth=-1,\n",
       "                                             min_child_samples=86,\n",
       "                                             min_child_weight=0.001,\n",
       "                                             min_split_gain=0.1,\n",
       "                                             n_estimators=180, n_jobs=-1,\n",
       "                                             num_leaves=40, objective=None,\n",
       "                                             ra...\n",
       "                                                     min_impurity_decrease=0.0,\n",
       "                                                     min_impurity_split=None,\n",
       "                                                     min_samples_leaf=1,\n",
       "                                                     min_samples_split=2,\n",
       "                                                     min_weight_fraction_leaf=0.0,\n",
       "                                                     n_estimators=100,\n",
       "                                                     n_jobs=-1, oob_score=False,\n",
       "                                                     random_state=234,\n",
       "                                                     verbose=0,\n",
       "                                                     warm_start=False)),\n",
       "                             ('catboost',\n",
       "                              <catboost.core.CatBoostClassifier object at 0x00000190154FD820>)],\n",
       "                 flatten_transform=True, n_jobs=-1, verbose=False,\n",
       "                 voting='soft', weights=None)"
      ]
     },
     "execution_count": 101,
     "metadata": {},
     "output_type": "execute_result"
    }
   ],
   "source": [
    "final_rf"
   ]
  },
  {
   "cell_type": "markdown",
   "metadata": {},
   "source": [
    "### Save model (pkl)"
   ]
  },
  {
   "cell_type": "code",
   "execution_count": 102,
   "metadata": {},
   "outputs": [
    {
     "name": "stdout",
     "output_type": "stream",
     "text": [
      "Transformation Pipeline and Model Succesfully Saved\n"
     ]
    },
    {
     "data": {
      "text/plain": [
       "(Pipeline(memory=None,\n",
       "          steps=[('dtypes',\n",
       "                  DataTypes_Auto_infer(categorical_features=['job', 'marital',\n",
       "                                                             'education',\n",
       "                                                             'housing', 'loan',\n",
       "                                                             'contact', 'month',\n",
       "                                                             'day_of_week',\n",
       "                                                             'poutcome'],\n",
       "                                       display_types=True, features_todrop=[],\n",
       "                                       id_columns=[],\n",
       "                                       ml_usecase='classification',\n",
       "                                       numerical_features=['age', 'duration',\n",
       "                                                           'campaign',\n",
       "                                                           'emp.var.rate',\n",
       "                                                           'cons.price.idx',\n",
       "                                                           'cons.conf.idx',\n",
       "                                                           'eur...\n",
       "                                                                       min_impurity_decrease=0.0,\n",
       "                                                                       min_impurity_split=None,\n",
       "                                                                       min_samples_leaf=1,\n",
       "                                                                       min_samples_split=2,\n",
       "                                                                       min_weight_fraction_leaf=0.0,\n",
       "                                                                       n_estimators=100,\n",
       "                                                                       n_jobs=-1,\n",
       "                                                                       oob_score=False,\n",
       "                                                                       random_state=234,\n",
       "                                                                       verbose=0,\n",
       "                                                                       warm_start=False)),\n",
       "                                               ('catboost',\n",
       "                                                <catboost.core.CatBoostClassifier object at 0x00000190154FD820>)],\n",
       "                                   flatten_transform=True, n_jobs=-1,\n",
       "                                   verbose=False, voting='soft',\n",
       "                                   weights=None)]],\n",
       "          verbose=False),\n",
       " 'Final Model 06May2021.pkl')"
      ]
     },
     "execution_count": 102,
     "metadata": {},
     "output_type": "execute_result"
    }
   ],
   "source": [
    "#save model\n",
    "save_model(final_rf,'Final Model 06May2021')"
   ]
  },
  {
   "cell_type": "code",
   "execution_count": null,
   "metadata": {},
   "outputs": [],
   "source": []
  }
 ],
 "metadata": {
  "kernelspec": {
   "display_name": "Python 3",
   "language": "python",
   "name": "python3"
  },
  "language_info": {
   "codemirror_mode": {
    "name": "ipython",
    "version": 3
   },
   "file_extension": ".py",
   "mimetype": "text/x-python",
   "name": "python",
   "nbconvert_exporter": "python",
   "pygments_lexer": "ipython3",
   "version": "3.8.8"
  }
 },
 "nbformat": 4,
 "nbformat_minor": 4
}
