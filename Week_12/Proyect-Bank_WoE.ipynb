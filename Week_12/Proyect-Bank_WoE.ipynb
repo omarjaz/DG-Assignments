{
 "cells": [
  {
   "cell_type": "markdown",
   "metadata": {},
   "source": [
    "# Data Science: Bank Marketing (Campaign) - Group Project"
   ]
  },
  {
   "cell_type": "markdown",
   "metadata": {},
   "source": [
    "**Problem Statement:** ABC Bank wants to sell it's term deposit product to customers and before launching the product they want to develop a model which help them in understanding whether a particular customer will buy their product or not (based on customer's past interaction with bank or other Financial Institution)."
   ]
  },
  {
   "cell_type": "markdown",
   "metadata": {},
   "source": [
    "**Why ML Model:** Bank wants to use ML model to shortlist customer whose chances of buying the product is more so that their marketing channel (tele marketing, SMS/email marketing etc)  can focus only to those customers whose chances of buying the product is more. This will save resource and their time ( which is directly involved in the cost ( resource billing))."
   ]
  },
  {
   "cell_type": "markdown",
   "metadata": {},
   "source": [
    "**Data Set Information :** The data is related with direct marketing campaigns of a Portuguese banking institution. The marketing campaigns were based on phone calls. Often, more than one contact to the same client was required, in order to access if the product (bank term deposit) would be ('yes') or not ('no') subscribed. The classification goal is to predict if the client will subscribe (yes/no) a term deposit (variable y)."
   ]
  },
  {
   "cell_type": "markdown",
   "metadata": {},
   "source": [
    "**Objective:** Obtain a model that determines whether or not X customer will buy your product, based on past interactions with the bank and other financial institutions."
   ]
  },
  {
   "cell_type": "markdown",
   "metadata": {},
   "source": [
    "**Steps**\n",
    "1. EDA\n",
    "2. Outlier detection and elimination\n",
    "3. Missing values imputation\n",
    "4. Encoding categorical features\n",
    "5. Data Scaling and Normalization\n",
    "6. Data transformation"
   ]
  },
  {
   "cell_type": "markdown",
   "metadata": {},
   "source": [
    "## Quick EDA"
   ]
  },
  {
   "cell_type": "code",
   "execution_count": 1,
   "metadata": {},
   "outputs": [],
   "source": [
    "# Importings\n",
    "import warnings\n",
    "warnings.filterwarnings(\"ignore\")\n",
    "import pandas as pd\n",
    "import numpy as np\n",
    "import matplotlib.pyplot as plt\n",
    "import seaborn as sns"
   ]
  },
  {
   "cell_type": "code",
   "execution_count": 2,
   "metadata": {},
   "outputs": [
    {
     "name": "stdout",
     "output_type": "stream",
     "text": [
      "   age        job  marital    education  default housing loan    contact  \\\n",
      "0   56  housemaid  married     basic.4y       no      no   no  telephone   \n",
      "1   57   services  married  high.school  unknown      no   no  telephone   \n",
      "2   37   services  married  high.school       no     yes   no  telephone   \n",
      "3   40     admin.  married     basic.6y       no      no   no  telephone   \n",
      "4   56   services  married  high.school       no      no  yes  telephone   \n",
      "\n",
      "  month day_of_week  ...  campaign  pdays  previous     poutcome emp.var.rate  \\\n",
      "0   may         mon  ...         1    999         0  nonexistent          1.1   \n",
      "1   may         mon  ...         1    999         0  nonexistent          1.1   \n",
      "2   may         mon  ...         1    999         0  nonexistent          1.1   \n",
      "3   may         mon  ...         1    999         0  nonexistent          1.1   \n",
      "4   may         mon  ...         1    999         0  nonexistent          1.1   \n",
      "\n",
      "   cons.price.idx  cons.conf.idx  euribor3m  nr.employed   y  \n",
      "0          93.994          -36.4      4.857       5191.0  no  \n",
      "1          93.994          -36.4      4.857       5191.0  no  \n",
      "2          93.994          -36.4      4.857       5191.0  no  \n",
      "3          93.994          -36.4      4.857       5191.0  no  \n",
      "4          93.994          -36.4      4.857       5191.0  no  \n",
      "\n",
      "[5 rows x 21 columns]\n",
      "(41188, 21)\n"
     ]
    }
   ],
   "source": [
    "# Dataset loading\n",
    "bank_df = pd.read_csv(\"C:/Users/Ecuad/OneDrive/Documentos/Data_Glacier/repos/PROJECT/bank-additional/bank-additional/bank-additional-full.csv\", sep=\";\")\n",
    "#bank_df = pd.read_csv(\"Datasets/bank-additional/bank-additional-full.csv\", sep=\";\")\n",
    "print(bank_df.head())\n",
    "print(bank_df.shape)"
   ]
  },
  {
   "cell_type": "code",
   "execution_count": 3,
   "metadata": {},
   "outputs": [
    {
     "data": {
      "text/html": [
       "<div>\n",
       "<style scoped>\n",
       "    .dataframe tbody tr th:only-of-type {\n",
       "        vertical-align: middle;\n",
       "    }\n",
       "\n",
       "    .dataframe tbody tr th {\n",
       "        vertical-align: top;\n",
       "    }\n",
       "\n",
       "    .dataframe thead th {\n",
       "        text-align: right;\n",
       "    }\n",
       "</style>\n",
       "<table border=\"1\" class=\"dataframe\">\n",
       "  <thead>\n",
       "    <tr style=\"text-align: right;\">\n",
       "      <th></th>\n",
       "      <th>age</th>\n",
       "      <th>job</th>\n",
       "      <th>marital</th>\n",
       "      <th>education</th>\n",
       "      <th>default</th>\n",
       "      <th>housing</th>\n",
       "      <th>loan</th>\n",
       "      <th>contact</th>\n",
       "      <th>month</th>\n",
       "      <th>day_of_week</th>\n",
       "      <th>...</th>\n",
       "      <th>campaign</th>\n",
       "      <th>pdays</th>\n",
       "      <th>previous</th>\n",
       "      <th>poutcome</th>\n",
       "      <th>emp.var.rate</th>\n",
       "      <th>cons.price.idx</th>\n",
       "      <th>cons.conf.idx</th>\n",
       "      <th>euribor3m</th>\n",
       "      <th>nr.employed</th>\n",
       "      <th>y</th>\n",
       "    </tr>\n",
       "  </thead>\n",
       "  <tbody>\n",
       "    <tr>\n",
       "      <th>41183</th>\n",
       "      <td>73</td>\n",
       "      <td>retired</td>\n",
       "      <td>married</td>\n",
       "      <td>professional.course</td>\n",
       "      <td>no</td>\n",
       "      <td>yes</td>\n",
       "      <td>no</td>\n",
       "      <td>cellular</td>\n",
       "      <td>nov</td>\n",
       "      <td>fri</td>\n",
       "      <td>...</td>\n",
       "      <td>1</td>\n",
       "      <td>999</td>\n",
       "      <td>0</td>\n",
       "      <td>nonexistent</td>\n",
       "      <td>-1.1</td>\n",
       "      <td>94.767</td>\n",
       "      <td>-50.8</td>\n",
       "      <td>1.028</td>\n",
       "      <td>4963.6</td>\n",
       "      <td>yes</td>\n",
       "    </tr>\n",
       "    <tr>\n",
       "      <th>41184</th>\n",
       "      <td>46</td>\n",
       "      <td>blue-collar</td>\n",
       "      <td>married</td>\n",
       "      <td>professional.course</td>\n",
       "      <td>no</td>\n",
       "      <td>no</td>\n",
       "      <td>no</td>\n",
       "      <td>cellular</td>\n",
       "      <td>nov</td>\n",
       "      <td>fri</td>\n",
       "      <td>...</td>\n",
       "      <td>1</td>\n",
       "      <td>999</td>\n",
       "      <td>0</td>\n",
       "      <td>nonexistent</td>\n",
       "      <td>-1.1</td>\n",
       "      <td>94.767</td>\n",
       "      <td>-50.8</td>\n",
       "      <td>1.028</td>\n",
       "      <td>4963.6</td>\n",
       "      <td>no</td>\n",
       "    </tr>\n",
       "    <tr>\n",
       "      <th>41185</th>\n",
       "      <td>56</td>\n",
       "      <td>retired</td>\n",
       "      <td>married</td>\n",
       "      <td>university.degree</td>\n",
       "      <td>no</td>\n",
       "      <td>yes</td>\n",
       "      <td>no</td>\n",
       "      <td>cellular</td>\n",
       "      <td>nov</td>\n",
       "      <td>fri</td>\n",
       "      <td>...</td>\n",
       "      <td>2</td>\n",
       "      <td>999</td>\n",
       "      <td>0</td>\n",
       "      <td>nonexistent</td>\n",
       "      <td>-1.1</td>\n",
       "      <td>94.767</td>\n",
       "      <td>-50.8</td>\n",
       "      <td>1.028</td>\n",
       "      <td>4963.6</td>\n",
       "      <td>no</td>\n",
       "    </tr>\n",
       "    <tr>\n",
       "      <th>41186</th>\n",
       "      <td>44</td>\n",
       "      <td>technician</td>\n",
       "      <td>married</td>\n",
       "      <td>professional.course</td>\n",
       "      <td>no</td>\n",
       "      <td>no</td>\n",
       "      <td>no</td>\n",
       "      <td>cellular</td>\n",
       "      <td>nov</td>\n",
       "      <td>fri</td>\n",
       "      <td>...</td>\n",
       "      <td>1</td>\n",
       "      <td>999</td>\n",
       "      <td>0</td>\n",
       "      <td>nonexistent</td>\n",
       "      <td>-1.1</td>\n",
       "      <td>94.767</td>\n",
       "      <td>-50.8</td>\n",
       "      <td>1.028</td>\n",
       "      <td>4963.6</td>\n",
       "      <td>yes</td>\n",
       "    </tr>\n",
       "    <tr>\n",
       "      <th>41187</th>\n",
       "      <td>74</td>\n",
       "      <td>retired</td>\n",
       "      <td>married</td>\n",
       "      <td>professional.course</td>\n",
       "      <td>no</td>\n",
       "      <td>yes</td>\n",
       "      <td>no</td>\n",
       "      <td>cellular</td>\n",
       "      <td>nov</td>\n",
       "      <td>fri</td>\n",
       "      <td>...</td>\n",
       "      <td>3</td>\n",
       "      <td>999</td>\n",
       "      <td>1</td>\n",
       "      <td>failure</td>\n",
       "      <td>-1.1</td>\n",
       "      <td>94.767</td>\n",
       "      <td>-50.8</td>\n",
       "      <td>1.028</td>\n",
       "      <td>4963.6</td>\n",
       "      <td>no</td>\n",
       "    </tr>\n",
       "  </tbody>\n",
       "</table>\n",
       "<p>5 rows × 21 columns</p>\n",
       "</div>"
      ],
      "text/plain": [
       "       age          job  marital            education default housing loan  \\\n",
       "41183   73      retired  married  professional.course      no     yes   no   \n",
       "41184   46  blue-collar  married  professional.course      no      no   no   \n",
       "41185   56      retired  married    university.degree      no     yes   no   \n",
       "41186   44   technician  married  professional.course      no      no   no   \n",
       "41187   74      retired  married  professional.course      no     yes   no   \n",
       "\n",
       "        contact month day_of_week  ...  campaign  pdays  previous  \\\n",
       "41183  cellular   nov         fri  ...         1    999         0   \n",
       "41184  cellular   nov         fri  ...         1    999         0   \n",
       "41185  cellular   nov         fri  ...         2    999         0   \n",
       "41186  cellular   nov         fri  ...         1    999         0   \n",
       "41187  cellular   nov         fri  ...         3    999         1   \n",
       "\n",
       "          poutcome emp.var.rate  cons.price.idx  cons.conf.idx  euribor3m  \\\n",
       "41183  nonexistent         -1.1          94.767          -50.8      1.028   \n",
       "41184  nonexistent         -1.1          94.767          -50.8      1.028   \n",
       "41185  nonexistent         -1.1          94.767          -50.8      1.028   \n",
       "41186  nonexistent         -1.1          94.767          -50.8      1.028   \n",
       "41187      failure         -1.1          94.767          -50.8      1.028   \n",
       "\n",
       "       nr.employed    y  \n",
       "41183       4963.6  yes  \n",
       "41184       4963.6   no  \n",
       "41185       4963.6   no  \n",
       "41186       4963.6  yes  \n",
       "41187       4963.6   no  \n",
       "\n",
       "[5 rows x 21 columns]"
      ]
     },
     "execution_count": 3,
     "metadata": {},
     "output_type": "execute_result"
    }
   ],
   "source": [
    "bank_df.tail()"
   ]
  },
  {
   "cell_type": "code",
   "execution_count": 4,
   "metadata": {},
   "outputs": [
    {
     "name": "stdout",
     "output_type": "stream",
     "text": [
      "<class 'pandas.core.frame.DataFrame'>\n",
      "RangeIndex: 41188 entries, 0 to 41187\n",
      "Data columns (total 21 columns):\n",
      " #   Column          Non-Null Count  Dtype  \n",
      "---  ------          --------------  -----  \n",
      " 0   age             41188 non-null  int64  \n",
      " 1   job             41188 non-null  object \n",
      " 2   marital         41188 non-null  object \n",
      " 3   education       41188 non-null  object \n",
      " 4   default         41188 non-null  object \n",
      " 5   housing         41188 non-null  object \n",
      " 6   loan            41188 non-null  object \n",
      " 7   contact         41188 non-null  object \n",
      " 8   month           41188 non-null  object \n",
      " 9   day_of_week     41188 non-null  object \n",
      " 10  duration        41188 non-null  int64  \n",
      " 11  campaign        41188 non-null  int64  \n",
      " 12  pdays           41188 non-null  int64  \n",
      " 13  previous        41188 non-null  int64  \n",
      " 14  poutcome        41188 non-null  object \n",
      " 15  emp.var.rate    41188 non-null  float64\n",
      " 16  cons.price.idx  41188 non-null  float64\n",
      " 17  cons.conf.idx   41188 non-null  float64\n",
      " 18  euribor3m       41188 non-null  float64\n",
      " 19  nr.employed     41188 non-null  float64\n",
      " 20  y               41188 non-null  object \n",
      "dtypes: float64(5), int64(5), object(11)\n",
      "memory usage: 6.6+ MB\n"
     ]
    }
   ],
   "source": [
    "bank_df.info()"
   ]
  },
  {
   "cell_type": "markdown",
   "metadata": {},
   "source": [
    "The dataset has 21 columns (features) and 41188 rows (instances)"
   ]
  },
  {
   "cell_type": "markdown",
   "metadata": {},
   "source": [
    "### Outlier detection"
   ]
  },
  {
   "cell_type": "code",
   "execution_count": 5,
   "metadata": {},
   "outputs": [
    {
     "data": {
      "image/png": "[encoded data removed]",
      "text/plain": [
       "<Figure size 1440x1440 with 10 Axes>"
      ]
     },
     "metadata": {
      "needs_background": "light"
     },
     "output_type": "display_data"
    }
   ],
   "source": [
    "plt.figure(figsize = (20,20))\n",
    "plt.subplot(5, 2, 1)\n",
    "sns.boxplot(data = bank_df, x= 'age', palette = 'colorblind')\n",
    "plt.title('Age boxplot')\n",
    "plt.xlabel('Age')\n",
    "\n",
    "plt.subplot(5, 2, 2)\n",
    "sns.boxplot(data = bank_df, x= 'duration', palette = 'colorblind')\n",
    "plt.title('Duration boxplot')\n",
    "plt.xlabel('Duration')\n",
    "\n",
    "plt.subplot(5, 2, 3)\n",
    "sns.boxplot(data = bank_df, x= 'campaign', palette = 'colorblind')\n",
    "plt.title('Campaign boxplot')\n",
    "plt.xlabel('Campaign')\n",
    "\n",
    "plt.subplot(5, 2, 4)\n",
    "sns.boxplot(data = bank_df, x= 'pdays', palette = 'colorblind')\n",
    "plt.title('pdays boxplot')\n",
    "plt.xlabel('pdays')\n",
    "\n",
    "plt.subplot(5, 2, 5)\n",
    "sns.boxplot(data = bank_df, x= 'previous', palette = 'colorblind')\n",
    "plt.title('Previous boxplot')\n",
    "plt.xlabel('Previous')\n",
    "\n",
    "plt.subplot(5, 2, 6)\n",
    "sns.boxplot(data = bank_df, x= 'emp.var.rate', palette = 'colorblind')\n",
    "plt.title('emp.var.rate boxplot')\n",
    "plt.xlabel('emp.var.rate')\n",
    "\n",
    "plt.subplot(5, 2, 7)\n",
    "sns.boxplot(data = bank_df, x= 'cons.price.idx', palette = 'colorblind')\n",
    "plt.title('cons.price.idx boxplot')\n",
    "plt.xlabel('cons.price.idx')\n",
    "\n",
    "plt.subplot(5, 2, 8)\n",
    "sns.boxplot(data = bank_df, x= 'cons.conf.idx', palette = 'colorblind')\n",
    "plt.title('cons.conf.idx boxplot')\n",
    "plt.xlabel('cons.conf.idx')\n",
    "\n",
    "plt.subplot(5, 2, 9)\n",
    "sns.boxplot(data = bank_df, x= 'euribor3m', palette = 'colorblind')\n",
    "plt.title('euribor3m boxplot')\n",
    "plt.xlabel('euribor3m')\n",
    "\n",
    "plt.subplot(5, 2, 10)\n",
    "sns.boxplot(data = bank_df, x= 'nr.employed', palette = 'colorblind')\n",
    "plt.title('nr.employed boxplot')\n",
    "plt.xlabel('nr.employed')\n",
    "\n",
    "plt.tight_layout()\n",
    "plt.show()"
   ]
  },
  {
   "cell_type": "markdown",
   "metadata": {},
   "source": [
    "# Outlier detection using Z-Score"
   ]
  },
  {
   "cell_type": "code",
   "execution_count": 6,
   "metadata": {},
   "outputs": [
    {
     "name": "stdout",
     "output_type": "stream",
     "text": [
      "[1.53303429 1.62899323 0.29018564 ... 1.53303429 0.38152696 3.26029527]\n"
     ]
    },
    {
     "data": {
      "text/plain": [
       "(None, (41188, 21), (40819,))"
      ]
     },
     "execution_count": 6,
     "metadata": {},
     "output_type": "execute_result"
    }
   ],
   "source": [
    "#VARIABLE AGE\n",
    "from scipy import stats\n",
    "#Z-SCORE\n",
    "z1=np.abs(stats.zscore(bank_df['age']))\n",
    "\n",
    "#NEW SIZE\n",
    "z_bank_df = bank_df[(z1 < 3) & (-3 < z1)]\n",
    "print(z1),bank_df.shape, z_bank_df['age'].shape"
   ]
  },
  {
   "cell_type": "code",
   "execution_count": 7,
   "metadata": {},
   "outputs": [
    {
     "data": {
      "text/plain": [
       "<AxesSubplot:xlabel='age'>"
      ]
     },
     "execution_count": 7,
     "metadata": {},
     "output_type": "execute_result"
    },
    {
     "data": {
      "image/png": "[encoded data removed]",
      "text/plain": [
       "<Figure size 432x288 with 1 Axes>"
      ]
     },
     "metadata": {
      "needs_background": "light"
     },
     "output_type": "display_data"
    }
   ],
   "source": [
    "#BOXPLOT\n",
    "sns.boxplot(x=z_bank_df['age'])"
   ]
  },
  {
   "cell_type": "code",
   "execution_count": 8,
   "metadata": {},
   "outputs": [
    {
     "name": "stdout",
     "output_type": "stream",
     "text": [
      "[0.01047142 0.42150051 0.12451981 ... 0.26722482 0.70856893 0.07438021]\n"
     ]
    },
    {
     "data": {
      "text/plain": [
       "(None, (41188, 21), (40327,))"
      ]
     },
     "execution_count": 8,
     "metadata": {},
     "output_type": "execute_result"
    }
   ],
   "source": [
    "#Z-SCORE\n",
    "z1=np.abs(stats.zscore(bank_df['duration']))\n",
    "\n",
    "#NEW SIZE\n",
    "z_bank_df = bank_df[(z1 < 3) & (-3 < z1)]\n",
    "print(z1), bank_df.shape, z_bank_df['duration'].shape"
   ]
  },
  {
   "cell_type": "code",
   "execution_count": 9,
   "metadata": {},
   "outputs": [
    {
     "data": {
      "text/plain": [
       "<AxesSubplot:xlabel='duration'>"
      ]
     },
     "execution_count": 9,
     "metadata": {},
     "output_type": "execute_result"
    },
    {
     "data": {
      "image/png": "[encoded data removed]",
      "text/plain": [
       "<Figure size 432x288 with 1 Axes>"
      ]
     },
     "metadata": {
      "needs_background": "light"
     },
     "output_type": "display_data"
    }
   ],
   "source": [
    "#BOXPLOT\n",
    "sns.boxplot(x=z_bank_df['duration'])"
   ]
  },
  {
   "cell_type": "code",
   "execution_count": 10,
   "metadata": {},
   "outputs": [
    {
     "name": "stdout",
     "output_type": "stream",
     "text": [
      "[0.56592197 0.56592197 0.56592197 ... 0.20490853 0.56592197 0.15610492]\n"
     ]
    },
    {
     "data": {
      "text/plain": [
       "(None, (41188, 21), (40319,))"
      ]
     },
     "execution_count": 10,
     "metadata": {},
     "output_type": "execute_result"
    }
   ],
   "source": [
    "#Z-SCORE\n",
    "z1=np.abs(stats.zscore(bank_df['campaign']))\n",
    "\n",
    "#NEW SIZE\n",
    "z_bank_df = bank_df[(z1 < 3) & (-3 < z1)]\n",
    "print(z1), bank_df.shape, z_bank_df['campaign'].shape"
   ]
  },
  {
   "cell_type": "code",
   "execution_count": 11,
   "metadata": {},
   "outputs": [
    {
     "data": {
      "text/plain": [
       "<AxesSubplot:xlabel='campaign'>"
      ]
     },
     "execution_count": 11,
     "metadata": {},
     "output_type": "execute_result"
    },
    {
     "data": {
      "image/png": "[encoded data removed]",
      "text/plain": [
       "<Figure size 432x288 with 1 Axes>"
      ]
     },
     "metadata": {
      "needs_background": "light"
     },
     "output_type": "display_data"
    }
   ],
   "source": [
    "#BOXPLOT\n",
    "sns.boxplot(x=z_bank_df['campaign'])"
   ]
  },
  {
   "cell_type": "code",
   "execution_count": 12,
   "metadata": {},
   "outputs": [
    {
     "name": "stdout",
     "output_type": "stream",
     "text": [
      "[0.1954139 0.1954139 0.1954139 ... 0.1954139 0.1954139 0.1954139]\n"
     ]
    },
    {
     "data": {
      "text/plain": [
       "(None, (41188, 21), (39673,))"
      ]
     },
     "execution_count": 12,
     "metadata": {},
     "output_type": "execute_result"
    }
   ],
   "source": [
    "#Z-SCORE\n",
    "z1=np.abs(stats.zscore(bank_df['pdays']))\n",
    "\n",
    "#NEW SIZE\n",
    "z_bank_df = bank_df[(z1 < 3) & (-3 < z1)]\n",
    "print(z1), bank_df.shape, z_bank_df['pdays'].shape"
   ]
  },
  {
   "cell_type": "code",
   "execution_count": 13,
   "metadata": {},
   "outputs": [
    {
     "data": {
      "text/plain": [
       "<AxesSubplot:xlabel='pdays'>"
      ]
     },
     "execution_count": 13,
     "metadata": {},
     "output_type": "execute_result"
    },
    {
     "data": {
      "image/png": "[encoded data removed]",
      "text/plain": [
       "<Figure size 432x288 with 1 Axes>"
      ]
     },
     "metadata": {
      "needs_background": "light"
     },
     "output_type": "display_data"
    }
   ],
   "source": [
    "#BOXPLOT\n",
    "sns.boxplot(x=z_bank_df['pdays'])"
   ]
  },
  {
   "cell_type": "code",
   "execution_count": 14,
   "metadata": {},
   "outputs": [
    {
     "name": "stdout",
     "output_type": "stream",
     "text": [
      "[0.34949428 0.34949428 0.34949428 ... 0.34949428 0.34949428 1.67113606]\n"
     ]
    },
    {
     "data": {
      "text/plain": [
       "(None, (41188, 21), (40124,))"
      ]
     },
     "execution_count": 14,
     "metadata": {},
     "output_type": "execute_result"
    }
   ],
   "source": [
    "#Z-SCORE\n",
    "z1=np.abs(stats.zscore(bank_df['previous']))\n",
    "\n",
    "#NEW SIZE\n",
    "z_bank_df = bank_df[(z1 < 3) & (-3 < z1)]\n",
    "print(z1), bank_df.shape, z_bank_df['previous'].shape"
   ]
  },
  {
   "cell_type": "code",
   "execution_count": 15,
   "metadata": {},
   "outputs": [
    {
     "data": {
      "text/plain": [
       "<AxesSubplot:xlabel='previous'>"
      ]
     },
     "execution_count": 15,
     "metadata": {},
     "output_type": "execute_result"
    },
    {
     "data": {
      "image/png": "[encoded data removed]",
      "text/plain": [
       "<Figure size 432x288 with 1 Axes>"
      ]
     },
     "metadata": {
      "needs_background": "light"
     },
     "output_type": "display_data"
    }
   ],
   "source": [
    "#BOXPLOT\n",
    "sns.boxplot(x=z_bank_df['previous'])"
   ]
  },
  {
   "cell_type": "code",
   "execution_count": 16,
   "metadata": {},
   "outputs": [
    {
     "name": "stdout",
     "output_type": "stream",
     "text": [
      "[0.64809227 0.64809227 0.64809227 ... 0.75234254 0.75234254 0.75234254]\n"
     ]
    },
    {
     "data": {
      "text/plain": [
       "(None, (41188, 21), (41188,))"
      ]
     },
     "execution_count": 16,
     "metadata": {},
     "output_type": "execute_result"
    }
   ],
   "source": [
    "#Z-SCORE\n",
    "z1=np.abs(stats.zscore(bank_df['emp.var.rate']))\n",
    "\n",
    "#NEW SIZE\n",
    "z_bank_df = bank_df[(z1 < 3)]\n",
    "print(z1), bank_df.shape, z_bank_df['emp.var.rate'].shape"
   ]
  },
  {
   "cell_type": "code",
   "execution_count": 17,
   "metadata": {},
   "outputs": [
    {
     "data": {
      "text/plain": [
       "<AxesSubplot:xlabel='emp.var.rate'>"
      ]
     },
     "execution_count": 17,
     "metadata": {},
     "output_type": "execute_result"
    },
    {
     "data": {
      "image/png": "[encoded data removed]",
      "text/plain": [
       "<Figure size 432x288 with 1 Axes>"
      ]
     },
     "metadata": {
      "needs_background": "light"
     },
     "output_type": "display_data"
    }
   ],
   "source": [
    "#BOXPLOT\n",
    "sns.boxplot(x=z_bank_df['emp.var.rate'])"
   ]
  },
  {
   "cell_type": "code",
   "execution_count": 18,
   "metadata": {},
   "outputs": [
    {
     "name": "stdout",
     "output_type": "stream",
     "text": [
      "[0.72272247 0.72272247 0.72272247 ... 2.05816805 2.05816805 2.05816805]\n"
     ]
    },
    {
     "data": {
      "text/plain": [
       "(None, (41188, 21), (41188,))"
      ]
     },
     "execution_count": 18,
     "metadata": {},
     "output_type": "execute_result"
    }
   ],
   "source": [
    "#Z-SCORE\n",
    "z1=np.abs(stats.zscore(bank_df['cons.price.idx']))\n",
    "\n",
    "#NEW SIZE\n",
    "z_bank_df = bank_df[(z1 < 3) & (-3 < z1)]\n",
    "print(z1), bank_df.shape, z_bank_df['cons.price.idx'].shape"
   ]
  },
  {
   "cell_type": "code",
   "execution_count": 19,
   "metadata": {},
   "outputs": [
    {
     "data": {
      "text/plain": [
       "<AxesSubplot:xlabel='cons.price.idx'>"
      ]
     },
     "execution_count": 19,
     "metadata": {},
     "output_type": "execute_result"
    },
    {
     "data": {
      "image/png": "[encoded data removed]",
      "text/plain": [
       "<Figure size 432x288 with 1 Axes>"
      ]
     },
     "metadata": {
      "needs_background": "light"
     },
     "output_type": "display_data"
    }
   ],
   "source": [
    "#BOXPLOT\n",
    "sns.boxplot(x=z_bank_df['cons.price.idx'])"
   ]
  },
  {
   "cell_type": "code",
   "execution_count": 20,
   "metadata": {},
   "outputs": [
    {
     "name": "stdout",
     "output_type": "stream",
     "text": [
      "[0.88644656 0.88644656 0.88644656 ... 2.22495344 2.22495344 2.22495344]\n"
     ]
    },
    {
     "data": {
      "text/plain": [
       "(None, (41188, 21), (41188,))"
      ]
     },
     "execution_count": 20,
     "metadata": {},
     "output_type": "execute_result"
    }
   ],
   "source": [
    "#Z-SCORE\n",
    "z1=np.abs(stats.zscore(bank_df['cons.conf.idx']))\n",
    "\n",
    "#NEW SIZE\n",
    "z_bank_df = bank_df[(z1 < 3) & (-3 < z1)]\n",
    "print(z1), bank_df.shape, z_bank_df['cons.conf.idx'].shape"
   ]
  },
  {
   "cell_type": "code",
   "execution_count": 21,
   "metadata": {},
   "outputs": [
    {
     "data": {
      "text/plain": [
       "<AxesSubplot:xlabel='cons.conf.idx'>"
      ]
     },
     "execution_count": 21,
     "metadata": {},
     "output_type": "execute_result"
    },
    {
     "data": {
      "image/png": "[encoded data removed]",
      "text/plain": [
       "<Figure size 432x288 with 1 Axes>"
      ]
     },
     "metadata": {
      "needs_background": "light"
     },
     "output_type": "display_data"
    }
   ],
   "source": [
    "#BOXPLOT\n",
    "sns.boxplot(x=z_bank_df['cons.conf.idx'])"
   ]
  },
  {
   "cell_type": "code",
   "execution_count": 22,
   "metadata": {},
   "outputs": [
    {
     "name": "stdout",
     "output_type": "stream",
     "text": [
      "[0.71245988 0.71245988 0.71245988 ... 1.49518647 1.49518647 1.49518647]\n"
     ]
    },
    {
     "data": {
      "text/plain": [
       "(None, (41188, 21), (41188,))"
      ]
     },
     "execution_count": 22,
     "metadata": {},
     "output_type": "execute_result"
    }
   ],
   "source": [
    "#Z-SCORE\n",
    "z1=np.abs(stats.zscore(bank_df['euribor3m']))\n",
    "\n",
    "#NEW SIZE\n",
    "z_bank_df = bank_df[(z1 < 3) & (-3 < z1)]\n",
    "print(z1), bank_df.shape, z_bank_df['euribor3m'].shape"
   ]
  },
  {
   "cell_type": "code",
   "execution_count": 23,
   "metadata": {},
   "outputs": [
    {
     "data": {
      "text/plain": [
       "<AxesSubplot:xlabel='euribor3m'>"
      ]
     },
     "execution_count": 23,
     "metadata": {},
     "output_type": "execute_result"
    },
    {
     "data": {
      "image/png": "[encoded data removed]",
      "text/plain": [
       "<Figure size 432x288 with 1 Axes>"
      ]
     },
     "metadata": {
      "needs_background": "light"
     },
     "output_type": "display_data"
    }
   ],
   "source": [
    "#BOXPLOT\n",
    "sns.boxplot(x=z_bank_df['euribor3m'])"
   ]
  },
  {
   "cell_type": "code",
   "execution_count": 24,
   "metadata": {},
   "outputs": [
    {
     "name": "stdout",
     "output_type": "stream",
     "text": [
      "[0.33167991 0.33167991 0.33167991 ... 2.8156966  2.8156966  2.8156966 ]\n"
     ]
    },
    {
     "data": {
      "text/plain": [
       "(None, (41188, 21), (41188,))"
      ]
     },
     "execution_count": 24,
     "metadata": {},
     "output_type": "execute_result"
    }
   ],
   "source": [
    "#Z-SCORE\n",
    "z1=np.abs(stats.zscore(bank_df['nr.employed']))\n",
    "\n",
    "#NEW SIZE\n",
    "z_bank_df = bank_df[(z1 < 3) & (-3 < z1)]\n",
    "print(z1), bank_df.shape, z_bank_df['nr.employed'].shape"
   ]
  },
  {
   "cell_type": "code",
   "execution_count": 25,
   "metadata": {},
   "outputs": [
    {
     "data": {
      "text/plain": [
       "<AxesSubplot:xlabel='nr.employed'>"
      ]
     },
     "execution_count": 25,
     "metadata": {},
     "output_type": "execute_result"
    },
    {
     "data": {
      "image/png": "[encoded data removed]",
      "text/plain": [
       "<Figure size 432x288 with 1 Axes>"
      ]
     },
     "metadata": {
      "needs_background": "light"
     },
     "output_type": "display_data"
    }
   ],
   "source": [
    "#BOXPLOT\n",
    "sns.boxplot(x=z_bank_df['nr.employed'])"
   ]
  },
  {
   "cell_type": "markdown",
   "metadata": {},
   "source": [
    "According with this analysis the variables that have outliers are,\n",
    "\n",
    "* age\n",
    "* campaing\n",
    "* previous"
   ]
  },
  {
   "cell_type": "markdown",
   "metadata": {},
   "source": [
    "# Python Function to calculate Information Value and WOE"
   ]
  },
  {
   "cell_type": "code",
   "execution_count": 26,
   "metadata": {},
   "outputs": [],
   "source": [
    "def iv_woe(data, target, bins=10, show_woe=False):\n",
    "    \n",
    "    #Empty Dataframe\n",
    "    newDF,woeDF = pd.DataFrame(), pd.DataFrame()\n",
    "    \n",
    "    #Extract Column Names\n",
    "    cols = data.columns\n",
    "    \n",
    "    #Run WOE and IV on all the independent variables\n",
    "    for ivars in cols[~cols.isin([target])]:\n",
    "        if (data[ivars].dtype.kind in 'bifc') and (len(np.unique(data[ivars]))>10):\n",
    "            binned_x = pd.qcut(data[ivars], bins,  duplicates='drop')\n",
    "            d0 = pd.DataFrame({'x': binned_x, 'y': data[target]})\n",
    "        else:\n",
    "            d0 = pd.DataFrame({'x': data[ivars], 'y': data[target]})\n",
    "        d = d0.groupby(\"x\", as_index=False).agg({\"y\": [\"count\", \"sum\"]})\n",
    "        d.columns = ['Cutoff', 'N', 'Events']\n",
    "        d['% of Events'] = np.maximum(d['Events'], 0.5) / d['Events'].sum()\n",
    "        d['Non-Events'] = d['N'] - d['Events']\n",
    "        d['% of Non-Events'] = np.maximum(d['Non-Events'], 0.5) / d['Non-Events'].sum()\n",
    "        d['WoE'] = np.log(d['% of Events']/d['% of Non-Events'])\n",
    "        d['IV'] = d['WoE'] * (d['% of Events'] - d['% of Non-Events'])\n",
    "        d.insert(loc=0, column='Variable', value=ivars)\n",
    "        print(\"Information value of \" + ivars + \" is \" + str(round(d['IV'].sum(),6)))\n",
    "        temp =pd.DataFrame({\"Variable\" : [ivars], \"IV\" : [d['IV'].sum()]}, columns = [\"Variable\", \"IV\"])\n",
    "        newDF=pd.concat([newDF,temp], axis=0)\n",
    "        woeDF=pd.concat([woeDF,d], axis=0)\n",
    "\n",
    "        #Show WOE Table\n",
    "        if show_woe == True:\n",
    "            print(d)\n",
    "    return newDF, woeDF"
   ]
  },
  {
   "cell_type": "code",
   "execution_count": 27,
   "metadata": {},
   "outputs": [
    {
     "data": {
      "text/plain": [
       "no     36548\n",
       "yes     4640\n",
       "Name: y, dtype: int64"
      ]
     },
     "execution_count": 27,
     "metadata": {},
     "output_type": "execute_result"
    }
   ],
   "source": [
    "#TRANSFORM IN BINARY\n",
    "bank_df['y'].value_counts()"
   ]
  },
  {
   "cell_type": "code",
   "execution_count": 28,
   "metadata": {},
   "outputs": [
    {
     "data": {
      "text/plain": [
       "0    36548\n",
       "1     4640\n",
       "Name: y, dtype: int64"
      ]
     },
     "execution_count": 28,
     "metadata": {},
     "output_type": "execute_result"
    }
   ],
   "source": [
    "aux = bank_df['y'] == 'no'\n",
    "aux1 = bank_df['y'] == 'yes'\n",
    "\n",
    "#CONVIERTO\n",
    "bank_df.at[aux, 'y'] = 0\n",
    "bank_df.at[aux1, 'y'] = 1\n",
    "\n",
    "bank_df['y'].value_counts()"
   ]
  },
  {
   "cell_type": "code",
   "execution_count": 29,
   "metadata": {},
   "outputs": [
    {
     "name": "stdout",
     "output_type": "stream",
     "text": [
      "Information value of age is 0.139397\n",
      "  Variable          Cutoff     N  Events  % of Events  Non-Events  \\\n",
      "0      age  (16.999, 28.0]  4216     736     0.158621        3480   \n",
      "1      age    (28.0, 31.0]  5114     608     0.131034        4506   \n",
      "2      age    (31.0, 33.0]  3679     394     0.084914        3285   \n",
      "3      age    (33.0, 35.0]  3504     351     0.075647        3153   \n",
      "4      age    (35.0, 38.0]  4662     434     0.093534        4228   \n",
      "5      age    (38.0, 41.0]  3871     311     0.067026        3560   \n",
      "6      age    (41.0, 45.0]  4311     348     0.075000        3963   \n",
      "7      age    (45.0, 49.0]  3776     289     0.062284        3487   \n",
      "8      age    (49.0, 55.0]  4473     428     0.092241        4045   \n",
      "9      age    (55.0, 98.0]  3582     741     0.159698        2841   \n",
      "\n",
      "   % of Non-Events       WoE        IV  \n",
      "0         0.095217  0.510355  0.032358  \n",
      "1         0.123290  0.060922  0.000472  \n",
      "2         0.089882 -0.056859  0.000282  \n",
      "3         0.086270 -0.131411  0.001396  \n",
      "4         0.115683 -0.212528  0.004707  \n",
      "5         0.097406 -0.373811  0.011356  \n",
      "6         0.108433 -0.368642  0.012325  \n",
      "7         0.095409 -0.426458  0.014126  \n",
      "8         0.110676 -0.182202  0.003359  \n",
      "9         0.077733  0.720001  0.059015  \n",
      "Information value of job is 0.188713\n",
      "   Variable         Cutoff      N  Events  % of Events  Non-Events  \\\n",
      "0       job         admin.  10422    1352     0.291379        9070   \n",
      "1       job    blue-collar   9254     638     0.137500        8616   \n",
      "2       job   entrepreneur   1456     124     0.026724        1332   \n",
      "3       job      housemaid   1060     106     0.022845         954   \n",
      "4       job     management   2924     328     0.070690        2596   \n",
      "5       job        retired   1720     434     0.093534        1286   \n",
      "6       job  self-employed   1421     149     0.032112        1272   \n",
      "7       job       services   3969     323     0.069612        3646   \n",
      "8       job        student    875     275     0.059267         600   \n",
      "9       job     technician   6743     730     0.157328        6013   \n",
      "10      job     unemployed   1014     144     0.031034         870   \n",
      "11      job        unknown    330      37     0.007974         293   \n",
      "\n",
      "    % of Non-Events       WoE            IV  \n",
      "0          0.248167  0.160525  6.936681e-03  \n",
      "1          0.235745 -0.539126  5.296630e-02  \n",
      "2          0.036445 -0.310243  3.015900e-03  \n",
      "3          0.026103 -0.133312  4.343096e-04  \n",
      "4          0.071030 -0.004801  1.633538e-06  \n",
      "5          0.035187  0.977665  5.704466e-02  \n",
      "6          0.034804 -0.080487  2.166298e-04  \n",
      "7          0.099759 -0.359822  1.084759e-02  \n",
      "8          0.016417  1.283754  5.500945e-02  \n",
      "9          0.164523 -0.044722  3.218128e-04  \n",
      "10         0.023804  0.265232  1.917674e-03  \n",
      "11         0.008017 -0.005343  2.282177e-07  \n",
      "Information value of marital is 0.028215\n",
      "  Variable    Cutoff      N  Events  % of Events  Non-Events  % of Non-Events  \\\n",
      "0  marital  divorced   4612     476     0.102586        4136         0.113166   \n",
      "1  marital   married  24928    2532     0.545690       22396         0.612783   \n",
      "2  marital    single  11568    1620     0.349138        9948         0.272190   \n",
      "3  marital   unknown     80      12     0.002586          68         0.001861   \n",
      "\n",
      "        WoE        IV  \n",
      "0 -0.098154  0.001038  \n",
      "1 -0.115961  0.007780  \n",
      "2  0.248967  0.019157  \n",
      "3  0.329311  0.000239  \n",
      "Information value of education is 0.048576\n",
      "    Variable               Cutoff      N  Events  % of Events  Non-Events  \\\n",
      "0  education             basic.4y   4176     428     0.092241        3748   \n",
      "1  education             basic.6y   2292     188     0.040517        2104   \n",
      "2  education             basic.9y   6045     473     0.101940        5572   \n",
      "3  education          high.school   9515    1031     0.222198        8484   \n",
      "4  education           illiterate     18       4     0.000862          14   \n",
      "5  education  professional.course   5243     595     0.128233        4648   \n",
      "6  education    university.degree  12168    1670     0.359914       10498   \n",
      "7  education              unknown   1731     251     0.054095        1480   \n",
      "\n",
      "   % of Non-Events       WoE        IV  \n",
      "0         0.102550 -0.105942  0.001092  \n",
      "1         0.057568 -0.351242  0.005989  \n",
      "2         0.152457 -0.402502  0.020333  \n",
      "3         0.232133 -0.043741  0.000435  \n",
      "4         0.000383  0.811149  0.000389  \n",
      "5         0.127175  0.008281  0.000009  \n",
      "6         0.287239  0.225551  0.016392  \n",
      "7         0.040495  0.289568  0.003938  \n",
      "Information value of default is 0.127776\n",
      "  Variable   Cutoff      N  Events  % of Events  Non-Events  % of Non-Events  \\\n",
      "0  default       no  32588    4197     0.904526       28391         0.776814   \n",
      "1  default  unknown   8597     443     0.095474        8154         0.223104   \n",
      "2  default      yes      3       0     0.000108           3         0.000082   \n",
      "\n",
      "        WoE        IV  \n",
      "0  0.152210  0.019439  \n",
      "1 -0.848782  0.108330  \n",
      "2  0.272153  0.000007  \n",
      "Information value of housing is 0.001383\n",
      "  Variable   Cutoff      N  Events  % of Events  Non-Events  % of Non-Events  \\\n",
      "0  housing       no  18622    2026     0.436638       16596         0.454088   \n",
      "1  housing  unknown    990     107     0.023060         883         0.024160   \n",
      "2  housing      yes  21576    2507     0.540302       19069         0.521752   \n",
      "\n",
      "        WoE        IV  \n",
      "0 -0.039186  0.000684  \n",
      "1 -0.046584  0.000051  \n",
      "2  0.034935  0.000648  \n",
      "Information value of loan is 0.000269\n",
      "  Variable   Cutoff      N  Events  % of Events  Non-Events  % of Non-Events  \\\n",
      "0     loan       no  33950    3850     0.829741       30100         0.823574   \n",
      "1     loan  unknown    990     107     0.023060         883         0.024160   \n",
      "2     loan      yes   6248     683     0.147198        5565         0.152266   \n",
      "\n",
      "        WoE        IV  \n",
      "0  0.007460  0.000046  \n",
      "1 -0.046584  0.000051  \n",
      "2 -0.033845  0.000172  \n",
      "Information value of contact is 0.251663\n",
      "  Variable     Cutoff      N  Events  % of Events  Non-Events  \\\n",
      "0  contact   cellular  26144    3853     0.830388       22291   \n",
      "1  contact  telephone  15044     787     0.169612       14257   \n",
      "\n",
      "   % of Non-Events       WoE        IV  \n",
      "0          0.60991  0.308581  0.068035  \n",
      "1          0.39009 -0.832863  0.183628  \n",
      "Information value of month is 0.485117\n",
      "  Variable Cutoff      N  Events  % of Events  Non-Events  % of Non-Events  \\\n",
      "0    month    apr   2632     539     0.116164        2093         0.057267   \n",
      "1    month    aug   6178     655     0.141164        5523         0.151116   \n",
      "2    month    dec    182      89     0.019181          93         0.002545   \n",
      "3    month    jul   7174     649     0.139871        6525         0.178532   \n",
      "4    month    jun   5318     559     0.120474        4759         0.130212   \n",
      "5    month    mar    546     276     0.059483         270         0.007388   \n",
      "6    month    may  13769     886     0.190948       12883         0.352495   \n",
      "7    month    nov   4101     416     0.089655        3685         0.100826   \n",
      "8    month    oct    718     315     0.067888         403         0.011027   \n",
      "9    month    sep    570     256     0.055172         314         0.008591   \n",
      "\n",
      "        WoE        IV  \n",
      "0  0.707274  0.041656  \n",
      "1 -0.068129  0.000678  \n",
      "2  2.019949  0.033605  \n",
      "3 -0.244051  0.009435  \n",
      "4 -0.077731  0.000757  \n",
      "5  2.085891  0.108665  \n",
      "6 -0.613035  0.099034  \n",
      "7 -0.117428  0.001312  \n",
      "8  1.817548  0.103348  \n",
      "9  1.859697  0.086626  \n",
      "Information value of day_of_week is 0.006493\n",
      "      Variable Cutoff     N  Events  % of Events  Non-Events  % of Non-Events  \\\n",
      "0  day_of_week    fri  7827     846     0.182328        6981         0.191009   \n",
      "1  day_of_week    mon  8514     847     0.182543        7667         0.209779   \n",
      "2  day_of_week    thu  8623    1045     0.225216        7578         0.207344   \n",
      "3  day_of_week    tue  8090     953     0.205388        7137         0.195277   \n",
      "4  day_of_week    wed  8134     949     0.204526        7185         0.196591   \n",
      "\n",
      "        WoE        IV  \n",
      "0 -0.046516  0.000404  \n",
      "1 -0.139068  0.003788  \n",
      "2  0.082680  0.001478  \n",
      "3  0.050479  0.000510  \n",
      "4  0.039570  0.000314  \n",
      "Information value of duration is 1.961794\n",
      "   Variable           Cutoff     N  Events  % of Events  Non-Events  \\\n",
      "0  duration   (-0.001, 59.0]  4181       1     0.000216        4180   \n",
      "1  duration     (59.0, 89.0]  4207      43     0.009267        4164   \n",
      "2  duration    (89.0, 116.0]  3987     107     0.023060        3880   \n",
      "3  duration   (116.0, 146.0]  4152     157     0.033836        3995   \n",
      "4  duration   (146.0, 180.0]  4178     256     0.055172        3922   \n",
      "5  duration   (180.0, 222.0]  4096     346     0.074569        3750   \n",
      "6  duration   (222.0, 280.0]  4062     463     0.099784        3599   \n",
      "7  duration   (280.0, 368.0]  4103     554     0.119397        3549   \n",
      "8  duration   (368.0, 551.0]  4118     824     0.177586        3294   \n",
      "9  duration  (551.0, 4918.0]  4104    1889     0.407112        2215   \n",
      "\n",
      "   % of Non-Events       WoE        IV  \n",
      "0         0.114370 -6.274154  0.716224  \n",
      "1         0.113932 -2.509119  0.262617  \n",
      "2         0.106162 -1.526849  0.126883  \n",
      "3         0.109308 -1.172641  0.088502  \n",
      "4         0.107311 -0.665267  0.034686  \n",
      "5         0.102605 -0.319160  0.008948  \n",
      "6         0.098473  0.013228  0.000017  \n",
      "7         0.097105  0.206656  0.004607  \n",
      "8         0.090128  0.678225  0.059316  \n",
      "9         0.060605  1.904707  0.659994  \n"
     ]
    },
    {
     "name": "stdout",
     "output_type": "stream",
     "text": [
      "Information value of campaign is 0.054246\n",
      "   Variable        Cutoff      N  Events  % of Events  Non-Events  \\\n",
      "0  campaign  (0.999, 2.0]  28212    3511     0.756681       24701   \n",
      "1  campaign    (2.0, 3.0]   5341     574     0.123707        4767   \n",
      "2  campaign    (3.0, 5.0]   4250     369     0.079526        3881   \n",
      "3  campaign   (5.0, 56.0]   3385     186     0.040086        3199   \n",
      "\n",
      "   % of Non-Events       WoE        IV  \n",
      "0         0.675851  0.112969  0.009131  \n",
      "1         0.130431 -0.052931  0.000356  \n",
      "2         0.106189 -0.289139  0.007709  \n",
      "3         0.087529 -0.780935  0.037050  \n",
      "Information value of pdays is 0.0\n",
      "  Variable           Cutoff      N  Events  % of Events  Non-Events  \\\n",
      "0    pdays  (-0.001, 999.0]  41188    4640          1.0       36548   \n",
      "\n",
      "   % of Non-Events  WoE   IV  \n",
      "0              1.0  0.0  0.0  \n",
      "Information value of previous is 0.3505\n",
      "   Variable  Cutoff      N  Events  % of Events  Non-Events  % of Non-Events  \\\n",
      "0  previous       0  35563    3141     0.676940       32422         0.887107   \n",
      "1  previous       1   4561     967     0.208405        3594         0.098336   \n",
      "2  previous       2    754     350     0.075431         404         0.011054   \n",
      "3  previous       3    216     128     0.027586          88         0.002408   \n",
      "4  previous       4     70      38     0.008190          32         0.000876   \n",
      "5  previous       5     18      13     0.002802           5         0.000137   \n",
      "6  previous       6      5       3     0.000647           2         0.000055   \n",
      "7  previous       7      1       0     0.000108           1         0.000027   \n",
      "\n",
      "        WoE        IV  \n",
      "0 -0.270384  0.056826  \n",
      "1  0.751090  0.082671  \n",
      "2  1.920430  0.123632  \n",
      "3  2.438606  0.061400  \n",
      "4  2.235762  0.016353  \n",
      "5  3.019424  0.008047  \n",
      "6  2.469377  0.001461  \n",
      "7  1.370765  0.000110  \n",
      "Information value of poutcome is 0.547671\n",
      "   Variable       Cutoff      N  Events  % of Events  Non-Events  \\\n",
      "0  poutcome      failure   4252     605     0.130388        3647   \n",
      "1  poutcome  nonexistent  35563    3141     0.676940       32422   \n",
      "2  poutcome      success   1373     894     0.192672         479   \n",
      "\n",
      "   % of Non-Events       WoE        IV  \n",
      "0         0.099787  0.267480  0.008185  \n",
      "1         0.887107 -0.270384  0.056826  \n",
      "2         0.013106  2.687917  0.482660  \n",
      "Information value of emp.var.rate is 1.06975\n",
      "       Variable  Cutoff      N  Events  % of Events  Non-Events  \\\n",
      "0  emp.var.rate    -3.4   1071     454     0.097845         617   \n",
      "1  emp.var.rate    -3.0    172      88     0.018966          84   \n",
      "2  emp.var.rate    -2.9   1663     594     0.128017        1069   \n",
      "3  emp.var.rate    -1.8   9184    1461     0.314871        7723   \n",
      "4  emp.var.rate    -1.7    773     403     0.086853         370   \n",
      "5  emp.var.rate    -1.1    635     301     0.064871         334   \n",
      "6  emp.var.rate    -0.2     10       1     0.000216           9   \n",
      "7  emp.var.rate    -0.1   3683     232     0.050000        3451   \n",
      "8  emp.var.rate     1.1   7763     240     0.051724        7523   \n",
      "9  emp.var.rate     1.4  16234     866     0.186638       15368   \n",
      "\n",
      "   % of Non-Events       WoE        IV  \n",
      "0         0.016882  1.757140  0.142263  \n",
      "1         0.002298  2.110432  0.035175  \n",
      "2         0.029249  1.476313  0.145812  \n",
      "3         0.211311  0.398830  0.041303  \n",
      "4         0.010124  2.149346  0.164919  \n",
      "5         0.009139  1.959881  0.109228  \n",
      "6         0.000246 -0.133312  0.000004  \n",
      "7         0.094424 -0.635770  0.028243  \n",
      "8         0.205839 -1.381169  0.212859  \n",
      "9         0.420488 -0.812246  0.189944  \n",
      "Information value of cons.price.idx is 0.440236\n",
      "         Variable                       Cutoff     N  Events  % of Events  \\\n",
      "0  cons.price.idx  (92.19999999999999, 92.893]  8277    1523     0.328233   \n",
      "1  cons.price.idx               (92.893, 93.2]  6789     896     0.193103   \n",
      "2  cons.price.idx               (93.2, 93.444]  5439     421     0.090733   \n",
      "3  cons.price.idx             (93.444, 93.749]   174      97     0.020905   \n",
      "4  cons.price.idx             (93.749, 93.918]  6964     571     0.123060   \n",
      "5  cons.price.idx             (93.918, 93.994]  7763     240     0.051724   \n",
      "6  cons.price.idx             (93.994, 94.465]  5450     741     0.159698   \n",
      "7  cons.price.idx             (94.465, 94.767]   332     151     0.032543   \n",
      "\n",
      "   Non-Events  % of Non-Events       WoE        IV  \n",
      "0        6754         0.184798  0.574459  0.082397  \n",
      "1        5893         0.161240  0.180332  0.005746  \n",
      "2        5018         0.137299 -0.414242  0.019290  \n",
      "3          77         0.002107  2.294818  0.043139  \n",
      "4        6393         0.174921 -0.351658  0.018237  \n",
      "5        7523         0.205839 -1.381169  0.212859  \n",
      "6        4709         0.128844  0.214682  0.006624  \n",
      "7         181         0.004952  1.882695  0.051945  \n",
      "Information value of cons.conf.idx is 0.86074\n",
      "        Variable                        Cutoff     N  Events  % of Events  \\\n",
      "0  cons.conf.idx  (-50.800999999999995, -46.2]  8866    1243     0.267888   \n",
      "1  cons.conf.idx                (-46.2, -42.7]  6695     408     0.087931   \n",
      "2  cons.conf.idx                (-42.7, -42.0]  3616     190     0.040948   \n",
      "3  cons.conf.idx                (-42.0, -41.8]  4374     188     0.040517   \n",
      "4  cons.conf.idx                (-41.8, -40.0]  1305     604     0.130172   \n",
      "5  cons.conf.idx                (-40.0, -36.4]  8528     617     0.132974   \n",
      "6  cons.conf.idx                (-36.4, -36.1]  5175     271     0.058405   \n",
      "7  cons.conf.idx                (-36.1, -26.9]  2629    1119     0.241164   \n",
      "\n",
      "   Non-Events  % of Non-Events       WoE        IV  \n",
      "0        7623         0.208575  0.250270  0.014844  \n",
      "1        6287         0.172020 -0.671060  0.056429  \n",
      "2        3426         0.093740 -0.828213  0.043723  \n",
      "3        4186         0.114534 -1.039147  0.076915  \n",
      "4         701         0.019180  1.914978  0.212548  \n",
      "5        7911         0.216455 -0.487228  0.040674  \n",
      "6        4904         0.134180 -0.831776  0.063027  \n",
      "7        1510         0.041316  1.764238  0.352580  \n",
      "Information value of euribor3m is 1.046047\n",
      "    Variable          Cutoff     N  Events  % of Events  Non-Events  \\\n",
      "0  euribor3m  (0.633, 1.046]  4128    1895     0.408405        2233   \n",
      "1  euribor3m  (1.046, 1.299]  4508     666     0.143534        3842   \n",
      "2  euribor3m   (1.299, 1.41]  3926     494     0.106466        3432   \n",
      "3  euribor3m   (1.41, 4.191]  4504     415     0.089440        4089   \n",
      "4  euribor3m  (4.191, 4.857]  4989     156     0.033621        4833   \n",
      "5  euribor3m  (4.857, 4.864]  3457     150     0.032328        3307   \n",
      "6  euribor3m   (4.864, 4.96]  3983     235     0.050647        3748   \n",
      "7  euribor3m   (4.96, 4.962]  4515     234     0.050431        4281   \n",
      "8  euribor3m  (4.962, 4.964]  3662     181     0.039009        3481   \n",
      "9  euribor3m  (4.964, 5.045]  3516     214     0.046121        3302   \n",
      "\n",
      "   % of Non-Events       WoE        IV  \n",
      "0         0.061098  1.899785  0.659809  \n",
      "1         0.105122  0.311453  0.011964  \n",
      "2         0.093904  0.125549  0.001577  \n",
      "3         0.111880 -0.223865  0.005024  \n",
      "4         0.132237 -1.369455  0.135051  \n",
      "5         0.090484 -1.029249  0.059857  \n",
      "6         0.102550 -0.705480  0.036617  \n",
      "7         0.117134 -0.842709  0.056211  \n",
      "8         0.095245 -0.892666  0.050200  \n",
      "9         0.090347 -0.672396  0.029738  \n",
      "Information value of nr.employed is 1.173723\n",
      "      Variable              Cutoff      N  Events  % of Events  Non-Events  \\\n",
      "0  nr.employed  (4963.599, 5076.2]   4964    2209     0.476078        2755   \n",
      "1  nr.employed    (5076.2, 5099.1]   8534    1092     0.235345        7442   \n",
      "2  nr.employed    (5099.1, 5191.0]   7773     241     0.051940        7532   \n",
      "3  nr.employed    (5191.0, 5195.8]   3683     232     0.050000        3451   \n",
      "4  nr.employed    (5195.8, 5228.1]  16234     866     0.186638       15368   \n",
      "\n",
      "   % of Non-Events       WoE        IV  \n",
      "0         0.075380  1.843035  0.738499  \n",
      "1         0.203623  0.144783  0.004593  \n",
      "2         0.206085 -1.378207  0.212444  \n",
      "3         0.094424 -0.635770  0.028243  \n",
      "4         0.420488 -0.812246  0.189944  \n",
      "         Variable        IV\n",
      "0             age  0.139397\n",
      "0             job  0.188713\n",
      "0         marital  0.028215\n",
      "0       education  0.048576\n",
      "0         default  0.127776\n",
      "0         housing  0.001383\n",
      "0            loan  0.000269\n",
      "0         contact  0.251663\n",
      "0           month  0.485117\n",
      "0     day_of_week  0.006493\n",
      "0        duration  1.961794\n",
      "0        campaign  0.054246\n",
      "0           pdays  0.000000\n",
      "0        previous  0.350500\n",
      "0        poutcome  0.547671\n",
      "0    emp.var.rate  1.069750\n",
      "0  cons.price.idx  0.440236\n",
      "0   cons.conf.idx  0.860740\n",
      "0       euribor3m  1.046047\n",
      "0     nr.employed  1.173723\n"
     ]
    }
   ],
   "source": [
    "#APPLY FUNCTION\n",
    "iv, woe = iv_woe(data = bank_df, target = 'y', bins=10, show_woe = True)\n",
    "print(iv)\n",
    "#print(woe)"
   ]
  },
  {
   "cell_type": "code",
   "execution_count": 30,
   "metadata": {},
   "outputs": [
    {
     "name": "stdout",
     "output_type": "stream",
     "text": [
      "         Variable        IV\n",
      "0             age  0.139397\n",
      "0             job  0.188713\n",
      "0         marital  0.028215\n",
      "0       education  0.048576\n",
      "0         default  0.127776\n",
      "0         housing  0.001383\n",
      "0            loan  0.000269\n",
      "0         contact  0.251663\n",
      "0           month  0.485117\n",
      "0     day_of_week  0.006493\n",
      "0        duration  1.961794\n",
      "0        campaign  0.054246\n",
      "0           pdays  0.000000\n",
      "0        previous  0.350500\n",
      "0        poutcome  0.547671\n",
      "0    emp.var.rate  1.069750\n",
      "0  cons.price.idx  0.440236\n",
      "0   cons.conf.idx  0.860740\n",
      "0       euribor3m  1.046047\n",
      "0     nr.employed  1.173723\n"
     ]
    }
   ],
   "source": [
    "print(iv)"
   ]
  },
  {
   "cell_type": "markdown",
   "metadata": {},
   "source": [
    "Accoding with this table,\n",
    "\n",
    "* There are six variables with a suspicious power prediction: nr.employed, euribor3m, cons.conf.idx, emp.var.rate, poutcome and duration.\n",
    "\n",
    "* There are three variables with a strong power prediction: month, previous and cons.price.idx.\n",
    "\n",
    "* There are three variables with a medium power prediction: age, job and contact.\n",
    "\n",
    "* There are four variables with a weak power prediction: marital, education, campaign and pdays.\n",
    "\n",
    "* There are four variables with no power prediction: default, housing, loan and day_of_week."
   ]
  },
  {
   "cell_type": "markdown",
   "metadata": {},
   "source": [
    "# Replace variables with WoE Values"
   ]
  },
  {
   "cell_type": "markdown",
   "metadata": {},
   "source": [
    "The variables that will be treated using WOE values are,\n",
    "\n",
    "* age\n",
    "* campaing\n",
    "* duration"
   ]
  },
  {
   "cell_type": "code",
   "execution_count": 31,
   "metadata": {},
   "outputs": [
    {
     "data": {
      "text/plain": [
       "(       age\n",
       " 0       56\n",
       " 1       57\n",
       " 2       37\n",
       " 3       40\n",
       " 4       56\n",
       " ...    ...\n",
       " 41183   73\n",
       " 41184   46\n",
       " 41185   56\n",
       " 41186   44\n",
       " 41187   74\n",
       " \n",
       " [41188 rows x 1 columns],\n",
       " Index(['age'], dtype='object'))"
      ]
     },
     "execution_count": 31,
     "metadata": {},
     "output_type": "execute_result"
    }
   ],
   "source": [
    "# AGE\n",
    "#CREATE A DATAFRAME\n",
    "age= pd.DataFrame(bank_df['age'])\n",
    "age.columns = ['age']\n",
    "age, age.columns"
   ]
  },
  {
   "cell_type": "code",
   "execution_count": 32,
   "metadata": {},
   "outputs": [
    {
     "data": {
      "text/html": [
       "<div>\n",
       "<style scoped>\n",
       "    .dataframe tbody tr th:only-of-type {\n",
       "        vertical-align: middle;\n",
       "    }\n",
       "\n",
       "    .dataframe tbody tr th {\n",
       "        vertical-align: top;\n",
       "    }\n",
       "\n",
       "    .dataframe thead th {\n",
       "        text-align: right;\n",
       "    }\n",
       "</style>\n",
       "<table border=\"1\" class=\"dataframe\">\n",
       "  <thead>\n",
       "    <tr style=\"text-align: right;\">\n",
       "      <th></th>\n",
       "      <th>Variable</th>\n",
       "      <th>Cutoff</th>\n",
       "      <th>N</th>\n",
       "      <th>Events</th>\n",
       "      <th>% of Events</th>\n",
       "      <th>Non-Events</th>\n",
       "      <th>% of Non-Events</th>\n",
       "      <th>WoE</th>\n",
       "      <th>IV</th>\n",
       "    </tr>\n",
       "  </thead>\n",
       "  <tbody>\n",
       "    <tr>\n",
       "      <th>0</th>\n",
       "      <td>age</td>\n",
       "      <td>(16.999, 28.0]</td>\n",
       "      <td>4216</td>\n",
       "      <td>736</td>\n",
       "      <td>0.158621</td>\n",
       "      <td>3480</td>\n",
       "      <td>0.095217</td>\n",
       "      <td>0.510355</td>\n",
       "      <td>0.032358</td>\n",
       "    </tr>\n",
       "    <tr>\n",
       "      <th>1</th>\n",
       "      <td>age</td>\n",
       "      <td>(28.0, 31.0]</td>\n",
       "      <td>5114</td>\n",
       "      <td>608</td>\n",
       "      <td>0.131034</td>\n",
       "      <td>4506</td>\n",
       "      <td>0.123290</td>\n",
       "      <td>0.060922</td>\n",
       "      <td>0.000472</td>\n",
       "    </tr>\n",
       "    <tr>\n",
       "      <th>2</th>\n",
       "      <td>age</td>\n",
       "      <td>(31.0, 33.0]</td>\n",
       "      <td>3679</td>\n",
       "      <td>394</td>\n",
       "      <td>0.084914</td>\n",
       "      <td>3285</td>\n",
       "      <td>0.089882</td>\n",
       "      <td>-0.056859</td>\n",
       "      <td>0.000282</td>\n",
       "    </tr>\n",
       "    <tr>\n",
       "      <th>3</th>\n",
       "      <td>age</td>\n",
       "      <td>(33.0, 35.0]</td>\n",
       "      <td>3504</td>\n",
       "      <td>351</td>\n",
       "      <td>0.075647</td>\n",
       "      <td>3153</td>\n",
       "      <td>0.086270</td>\n",
       "      <td>-0.131411</td>\n",
       "      <td>0.001396</td>\n",
       "    </tr>\n",
       "    <tr>\n",
       "      <th>4</th>\n",
       "      <td>age</td>\n",
       "      <td>(35.0, 38.0]</td>\n",
       "      <td>4662</td>\n",
       "      <td>434</td>\n",
       "      <td>0.093534</td>\n",
       "      <td>4228</td>\n",
       "      <td>0.115683</td>\n",
       "      <td>-0.212528</td>\n",
       "      <td>0.004707</td>\n",
       "    </tr>\n",
       "    <tr>\n",
       "      <th>5</th>\n",
       "      <td>age</td>\n",
       "      <td>(38.0, 41.0]</td>\n",
       "      <td>3871</td>\n",
       "      <td>311</td>\n",
       "      <td>0.067026</td>\n",
       "      <td>3560</td>\n",
       "      <td>0.097406</td>\n",
       "      <td>-0.373811</td>\n",
       "      <td>0.011356</td>\n",
       "    </tr>\n",
       "    <tr>\n",
       "      <th>6</th>\n",
       "      <td>age</td>\n",
       "      <td>(41.0, 45.0]</td>\n",
       "      <td>4311</td>\n",
       "      <td>348</td>\n",
       "      <td>0.075000</td>\n",
       "      <td>3963</td>\n",
       "      <td>0.108433</td>\n",
       "      <td>-0.368642</td>\n",
       "      <td>0.012325</td>\n",
       "    </tr>\n",
       "    <tr>\n",
       "      <th>7</th>\n",
       "      <td>age</td>\n",
       "      <td>(45.0, 49.0]</td>\n",
       "      <td>3776</td>\n",
       "      <td>289</td>\n",
       "      <td>0.062284</td>\n",
       "      <td>3487</td>\n",
       "      <td>0.095409</td>\n",
       "      <td>-0.426458</td>\n",
       "      <td>0.014126</td>\n",
       "    </tr>\n",
       "    <tr>\n",
       "      <th>8</th>\n",
       "      <td>age</td>\n",
       "      <td>(49.0, 55.0]</td>\n",
       "      <td>4473</td>\n",
       "      <td>428</td>\n",
       "      <td>0.092241</td>\n",
       "      <td>4045</td>\n",
       "      <td>0.110676</td>\n",
       "      <td>-0.182202</td>\n",
       "      <td>0.003359</td>\n",
       "    </tr>\n",
       "    <tr>\n",
       "      <th>9</th>\n",
       "      <td>age</td>\n",
       "      <td>(55.0, 98.0]</td>\n",
       "      <td>3582</td>\n",
       "      <td>741</td>\n",
       "      <td>0.159698</td>\n",
       "      <td>2841</td>\n",
       "      <td>0.077733</td>\n",
       "      <td>0.720001</td>\n",
       "      <td>0.059015</td>\n",
       "    </tr>\n",
       "  </tbody>\n",
       "</table>\n",
       "</div>"
      ],
      "text/plain": [
       "  Variable          Cutoff     N  Events  % of Events  Non-Events  \\\n",
       "0      age  (16.999, 28.0]  4216     736     0.158621        3480   \n",
       "1      age    (28.0, 31.0]  5114     608     0.131034        4506   \n",
       "2      age    (31.0, 33.0]  3679     394     0.084914        3285   \n",
       "3      age    (33.0, 35.0]  3504     351     0.075647        3153   \n",
       "4      age    (35.0, 38.0]  4662     434     0.093534        4228   \n",
       "5      age    (38.0, 41.0]  3871     311     0.067026        3560   \n",
       "6      age    (41.0, 45.0]  4311     348     0.075000        3963   \n",
       "7      age    (45.0, 49.0]  3776     289     0.062284        3487   \n",
       "8      age    (49.0, 55.0]  4473     428     0.092241        4045   \n",
       "9      age    (55.0, 98.0]  3582     741     0.159698        2841   \n",
       "\n",
       "   % of Non-Events       WoE        IV  \n",
       "0         0.095217  0.510355  0.032358  \n",
       "1         0.123290  0.060922  0.000472  \n",
       "2         0.089882 -0.056859  0.000282  \n",
       "3         0.086270 -0.131411  0.001396  \n",
       "4         0.115683 -0.212528  0.004707  \n",
       "5         0.097406 -0.373811  0.011356  \n",
       "6         0.108433 -0.368642  0.012325  \n",
       "7         0.095409 -0.426458  0.014126  \n",
       "8         0.110676 -0.182202  0.003359  \n",
       "9         0.077733  0.720001  0.059015  "
      ]
     },
     "execution_count": 32,
     "metadata": {},
     "output_type": "execute_result"
    }
   ],
   "source": [
    "age_table = woe[:10]\n",
    "age_table"
   ]
  },
  {
   "cell_type": "code",
   "execution_count": 33,
   "metadata": {},
   "outputs": [
    {
     "data": {
      "text/html": [
       "<div>\n",
       "<style scoped>\n",
       "    .dataframe tbody tr th:only-of-type {\n",
       "        vertical-align: middle;\n",
       "    }\n",
       "\n",
       "    .dataframe tbody tr th {\n",
       "        vertical-align: top;\n",
       "    }\n",
       "\n",
       "    .dataframe thead th {\n",
       "        text-align: right;\n",
       "    }\n",
       "</style>\n",
       "<table border=\"1\" class=\"dataframe\">\n",
       "  <thead>\n",
       "    <tr style=\"text-align: right;\">\n",
       "      <th></th>\n",
       "      <th>intervals</th>\n",
       "      <th>left</th>\n",
       "      <th>right</th>\n",
       "      <th>WOE</th>\n",
       "    </tr>\n",
       "  </thead>\n",
       "  <tbody>\n",
       "    <tr>\n",
       "      <th>0</th>\n",
       "      <td>(16.999, 28.0]</td>\n",
       "      <td>16.999</td>\n",
       "      <td>28.0</td>\n",
       "      <td>0.510355</td>\n",
       "    </tr>\n",
       "    <tr>\n",
       "      <th>1</th>\n",
       "      <td>(28.0, 31.0]</td>\n",
       "      <td>28.000</td>\n",
       "      <td>31.0</td>\n",
       "      <td>0.060922</td>\n",
       "    </tr>\n",
       "    <tr>\n",
       "      <th>2</th>\n",
       "      <td>(31.0, 33.0]</td>\n",
       "      <td>31.000</td>\n",
       "      <td>33.0</td>\n",
       "      <td>-0.056859</td>\n",
       "    </tr>\n",
       "    <tr>\n",
       "      <th>3</th>\n",
       "      <td>(33.0, 35.0]</td>\n",
       "      <td>33.000</td>\n",
       "      <td>35.0</td>\n",
       "      <td>-0.131411</td>\n",
       "    </tr>\n",
       "    <tr>\n",
       "      <th>4</th>\n",
       "      <td>(35.0, 38.0]</td>\n",
       "      <td>35.000</td>\n",
       "      <td>38.0</td>\n",
       "      <td>-0.212528</td>\n",
       "    </tr>\n",
       "    <tr>\n",
       "      <th>5</th>\n",
       "      <td>(38.0, 41.0]</td>\n",
       "      <td>38.000</td>\n",
       "      <td>41.0</td>\n",
       "      <td>-0.373811</td>\n",
       "    </tr>\n",
       "    <tr>\n",
       "      <th>6</th>\n",
       "      <td>(41.0, 45.0]</td>\n",
       "      <td>41.000</td>\n",
       "      <td>45.0</td>\n",
       "      <td>-0.368642</td>\n",
       "    </tr>\n",
       "    <tr>\n",
       "      <th>7</th>\n",
       "      <td>(45.0, 49.0]</td>\n",
       "      <td>45.000</td>\n",
       "      <td>49.0</td>\n",
       "      <td>-0.426458</td>\n",
       "    </tr>\n",
       "    <tr>\n",
       "      <th>8</th>\n",
       "      <td>(49.0, 55.0]</td>\n",
       "      <td>49.000</td>\n",
       "      <td>55.0</td>\n",
       "      <td>-0.182202</td>\n",
       "    </tr>\n",
       "    <tr>\n",
       "      <th>9</th>\n",
       "      <td>(55.0, 98.0]</td>\n",
       "      <td>55.000</td>\n",
       "      <td>98.0</td>\n",
       "      <td>0.720001</td>\n",
       "    </tr>\n",
       "  </tbody>\n",
       "</table>\n",
       "</div>"
      ],
      "text/plain": [
       "        intervals    left  right       WOE\n",
       "0  (16.999, 28.0]  16.999   28.0  0.510355\n",
       "1    (28.0, 31.0]  28.000   31.0  0.060922\n",
       "2    (31.0, 33.0]  31.000   33.0 -0.056859\n",
       "3    (33.0, 35.0]  33.000   35.0 -0.131411\n",
       "4    (35.0, 38.0]  35.000   38.0 -0.212528\n",
       "5    (38.0, 41.0]  38.000   41.0 -0.373811\n",
       "6    (41.0, 45.0]  41.000   45.0 -0.368642\n",
       "7    (45.0, 49.0]  45.000   49.0 -0.426458\n",
       "8    (49.0, 55.0]  49.000   55.0 -0.182202\n",
       "9    (55.0, 98.0]  55.000   98.0  0.720001"
      ]
     },
     "execution_count": 33,
     "metadata": {},
     "output_type": "execute_result"
    }
   ],
   "source": [
    "#CREATE STRUCTURE TO EXTRACT LIMITS\n",
    "idx = pd.IntervalIndex(age_table['Cutoff'])\n",
    "\n",
    "#INTERVALS , LIMITS AND WOE VALUES\n",
    "inter = pd.DataFrame({'intervals': idx, 'left': idx.left, 'right': idx.right})\n",
    "inter['WOE'] = age_table['WoE']\n",
    "inter"
   ]
  },
  {
   "cell_type": "code",
   "execution_count": 34,
   "metadata": {},
   "outputs": [],
   "source": [
    "#CREATE AUXILIARY VARIABLES\n",
    "inter['left'][0],inter['right'][0]\n",
    "\n",
    "aux1 = (inter['left'][0] <=  age) & (age < inter['right'][0])\n",
    "aux2 = (inter['left'][1] <=  age) & (age < inter['right'][1])\n",
    "aux3 = (inter['left'][2] <=  age) & (age < inter['right'][2])\n",
    "aux4 = (inter['left'][3] <=  age) & (age < inter['right'][3])\n",
    "aux5 = (inter['left'][4] <=  age) & (age < inter['right'][4])\n",
    "aux6 = (inter['left'][5] <=  age) & (age < inter['right'][5])\n",
    "aux7 = (inter['left'][6] <=  age) & (age < inter['right'][6])\n",
    "aux8 = (inter['left'][7] <=  age) & (age < inter['right'][7])\n",
    "aux9 = (inter['left'][8] <=  age) & (age < inter['right'][8])\n",
    "aux10 = (inter['left'][9] <=  age) & (age <= inter['right'][9])"
   ]
  },
  {
   "cell_type": "code",
   "execution_count": 35,
   "metadata": {},
   "outputs": [
    {
     "data": {
      "text/plain": [
       "age      \n",
       "-0.212528    5014\n",
       "-0.182202    4664\n",
       "-0.368642    4486\n",
       " 0.720001    4230\n",
       " 0.060922    4168\n",
       "-0.426458    4040\n",
       "-0.373811    4000\n",
       "-0.056859    3793\n",
       "-0.131411    3578\n",
       " 0.510355    3215\n",
       "dtype: int64"
      ]
     },
     "execution_count": 35,
     "metadata": {},
     "output_type": "execute_result"
    }
   ],
   "source": [
    "#REPLACE VALUES WITH WOE\n",
    "age[aux1] = inter['WOE'][0]\n",
    "age[aux2] = inter['WOE'][1]\n",
    "age[aux3] = inter['WOE'][2]\n",
    "age[aux4] = inter['WOE'][3]\n",
    "age[aux5] = inter['WOE'][4]\n",
    "age[aux6] = inter['WOE'][5]\n",
    "age[aux7] = inter['WOE'][6]\n",
    "age[aux8] = inter['WOE'][7]\n",
    "age[aux9] = inter['WOE'][8]\n",
    "age[aux10] = inter['WOE'][9]\n",
    "\n",
    "age.value_counts()"
   ]
  },
  {
   "cell_type": "code",
   "execution_count": 36,
   "metadata": {},
   "outputs": [
    {
     "data": {
      "text/plain": [
       "-0.212528    5014\n",
       "-0.182202    4664\n",
       "-0.368642    4486\n",
       " 0.720001    4230\n",
       " 0.060922    4168\n",
       "-0.426458    4040\n",
       "-0.373811    4000\n",
       "-0.056859    3793\n",
       "-0.131411    3578\n",
       " 0.510355    3215\n",
       "Name: age, dtype: int64"
      ]
     },
     "execution_count": 36,
     "metadata": {},
     "output_type": "execute_result"
    }
   ],
   "source": [
    "#REPLACE OLD VARIABLE\n",
    "bank_df['age'] = age\n",
    "bank_df['age'].value_counts()"
   ]
  },
  {
   "cell_type": "code",
   "execution_count": 37,
   "metadata": {},
   "outputs": [
    {
     "data": {
      "text/plain": [
       "1     17642\n",
       "2     10570\n",
       "3      5341\n",
       "4      2651\n",
       "5      1599\n",
       "6       979\n",
       "7       629\n",
       "8       400\n",
       "9       283\n",
       "10      225\n",
       "11      177\n",
       "12      125\n",
       "13       92\n",
       "14       69\n",
       "17       58\n",
       "15       51\n",
       "16       51\n",
       "18       33\n",
       "20       30\n",
       "19       26\n",
       "21       24\n",
       "22       17\n",
       "23       16\n",
       "24       15\n",
       "27       11\n",
       "29       10\n",
       "25        8\n",
       "26        8\n",
       "28        8\n",
       "30        7\n",
       "31        7\n",
       "35        5\n",
       "33        4\n",
       "32        4\n",
       "34        3\n",
       "40        2\n",
       "42        2\n",
       "43        2\n",
       "37        1\n",
       "39        1\n",
       "41        1\n",
       "56        1\n",
       "Name: campaign, dtype: int64"
      ]
     },
     "execution_count": 37,
     "metadata": {},
     "output_type": "execute_result"
    }
   ],
   "source": [
    "#CAMPAIGN\n",
    "#CREATE A DATAFRAME\n",
    "campaign= pd.DataFrame(bank_df['campaign'])\n",
    "campaign.columns = ['campaign']\n",
    "campaign['campaign'].value_counts()"
   ]
  },
  {
   "cell_type": "code",
   "execution_count": 38,
   "metadata": {},
   "outputs": [
    {
     "data": {
      "text/html": [
       "<div>\n",
       "<style scoped>\n",
       "    .dataframe tbody tr th:only-of-type {\n",
       "        vertical-align: middle;\n",
       "    }\n",
       "\n",
       "    .dataframe tbody tr th {\n",
       "        vertical-align: top;\n",
       "    }\n",
       "\n",
       "    .dataframe thead th {\n",
       "        text-align: right;\n",
       "    }\n",
       "</style>\n",
       "<table border=\"1\" class=\"dataframe\">\n",
       "  <thead>\n",
       "    <tr style=\"text-align: right;\">\n",
       "      <th></th>\n",
       "      <th>Variable</th>\n",
       "      <th>Cutoff</th>\n",
       "      <th>N</th>\n",
       "      <th>Events</th>\n",
       "      <th>% of Events</th>\n",
       "      <th>Non-Events</th>\n",
       "      <th>% of Non-Events</th>\n",
       "      <th>WoE</th>\n",
       "      <th>IV</th>\n",
       "    </tr>\n",
       "  </thead>\n",
       "  <tbody>\n",
       "    <tr>\n",
       "      <th>0</th>\n",
       "      <td>campaign</td>\n",
       "      <td>(0.999, 2.0]</td>\n",
       "      <td>28212</td>\n",
       "      <td>3511</td>\n",
       "      <td>0.756681</td>\n",
       "      <td>24701</td>\n",
       "      <td>0.675851</td>\n",
       "      <td>0.112969</td>\n",
       "      <td>0.009131</td>\n",
       "    </tr>\n",
       "    <tr>\n",
       "      <th>1</th>\n",
       "      <td>campaign</td>\n",
       "      <td>(2.0, 3.0]</td>\n",
       "      <td>5341</td>\n",
       "      <td>574</td>\n",
       "      <td>0.123707</td>\n",
       "      <td>4767</td>\n",
       "      <td>0.130431</td>\n",
       "      <td>-0.052931</td>\n",
       "      <td>0.000356</td>\n",
       "    </tr>\n",
       "    <tr>\n",
       "      <th>2</th>\n",
       "      <td>campaign</td>\n",
       "      <td>(3.0, 5.0]</td>\n",
       "      <td>4250</td>\n",
       "      <td>369</td>\n",
       "      <td>0.079526</td>\n",
       "      <td>3881</td>\n",
       "      <td>0.106189</td>\n",
       "      <td>-0.289139</td>\n",
       "      <td>0.007709</td>\n",
       "    </tr>\n",
       "    <tr>\n",
       "      <th>3</th>\n",
       "      <td>campaign</td>\n",
       "      <td>(5.0, 56.0]</td>\n",
       "      <td>3385</td>\n",
       "      <td>186</td>\n",
       "      <td>0.040086</td>\n",
       "      <td>3199</td>\n",
       "      <td>0.087529</td>\n",
       "      <td>-0.780935</td>\n",
       "      <td>0.037050</td>\n",
       "    </tr>\n",
       "  </tbody>\n",
       "</table>\n",
       "</div>"
      ],
      "text/plain": [
       "   Variable        Cutoff      N  Events  % of Events  Non-Events  \\\n",
       "0  campaign  (0.999, 2.0]  28212    3511     0.756681       24701   \n",
       "1  campaign    (2.0, 3.0]   5341     574     0.123707        4767   \n",
       "2  campaign    (3.0, 5.0]   4250     369     0.079526        3881   \n",
       "3  campaign   (5.0, 56.0]   3385     186     0.040086        3199   \n",
       "\n",
       "   % of Non-Events       WoE        IV  \n",
       "0         0.675851  0.112969  0.009131  \n",
       "1         0.130431 -0.052931  0.000356  \n",
       "2         0.106189 -0.289139  0.007709  \n",
       "3         0.087529 -0.780935  0.037050  "
      ]
     },
     "execution_count": 38,
     "metadata": {},
     "output_type": "execute_result"
    }
   ],
   "source": [
    "#SELECT VALUES FOR CAMPAIGN VARIABLE\n",
    "aux_c = woe['Variable'] == 'campaign' \n",
    "campaign_table = woe[aux_c]\n",
    "campaign_table"
   ]
  },
  {
   "cell_type": "code",
   "execution_count": 39,
   "metadata": {},
   "outputs": [
    {
     "data": {
      "text/html": [
       "<div>\n",
       "<style scoped>\n",
       "    .dataframe tbody tr th:only-of-type {\n",
       "        vertical-align: middle;\n",
       "    }\n",
       "\n",
       "    .dataframe tbody tr th {\n",
       "        vertical-align: top;\n",
       "    }\n",
       "\n",
       "    .dataframe thead th {\n",
       "        text-align: right;\n",
       "    }\n",
       "</style>\n",
       "<table border=\"1\" class=\"dataframe\">\n",
       "  <thead>\n",
       "    <tr style=\"text-align: right;\">\n",
       "      <th></th>\n",
       "      <th>intervals</th>\n",
       "      <th>left</th>\n",
       "      <th>right</th>\n",
       "      <th>WOE</th>\n",
       "    </tr>\n",
       "  </thead>\n",
       "  <tbody>\n",
       "    <tr>\n",
       "      <th>0</th>\n",
       "      <td>(0.999, 2.0]</td>\n",
       "      <td>0.999</td>\n",
       "      <td>2.0</td>\n",
       "      <td>0.112969</td>\n",
       "    </tr>\n",
       "    <tr>\n",
       "      <th>1</th>\n",
       "      <td>(2.0, 3.0]</td>\n",
       "      <td>2.000</td>\n",
       "      <td>3.0</td>\n",
       "      <td>-0.052931</td>\n",
       "    </tr>\n",
       "    <tr>\n",
       "      <th>2</th>\n",
       "      <td>(3.0, 5.0]</td>\n",
       "      <td>3.000</td>\n",
       "      <td>5.0</td>\n",
       "      <td>-0.289139</td>\n",
       "    </tr>\n",
       "    <tr>\n",
       "      <th>3</th>\n",
       "      <td>(5.0, 56.0]</td>\n",
       "      <td>5.000</td>\n",
       "      <td>56.0</td>\n",
       "      <td>-0.780935</td>\n",
       "    </tr>\n",
       "  </tbody>\n",
       "</table>\n",
       "</div>"
      ],
      "text/plain": [
       "      intervals   left  right       WOE\n",
       "0  (0.999, 2.0]  0.999    2.0  0.112969\n",
       "1    (2.0, 3.0]  2.000    3.0 -0.052931\n",
       "2    (3.0, 5.0]  3.000    5.0 -0.289139\n",
       "3   (5.0, 56.0]  5.000   56.0 -0.780935"
      ]
     },
     "execution_count": 39,
     "metadata": {},
     "output_type": "execute_result"
    }
   ],
   "source": [
    "#CREATE STRUCTURE TO EXTRACT LIMITS\n",
    "idx = pd.IntervalIndex(campaign_table['Cutoff'])\n",
    "\n",
    "#INTERVALS , LIMITS AND WOE VALUES\n",
    "inter = pd.DataFrame({'intervals': idx, 'left': idx.left, 'right': idx.right})\n",
    "inter['WOE'] = campaign_table['WoE']\n",
    "inter"
   ]
  },
  {
   "cell_type": "code",
   "execution_count": 40,
   "metadata": {},
   "outputs": [],
   "source": [
    "#CREATE AUXILIARY VARIABLES\n",
    "inter['left'][0],inter['right'][0]\n",
    "\n",
    "aux1 = (inter['left'][0] <=  campaign) & (campaign < inter['right'][0])\n",
    "aux2 = (inter['left'][1] <=  campaign) & (campaign < inter['right'][1])\n",
    "aux3 = (inter['left'][2] <=  campaign) & (campaign < inter['right'][2])\n",
    "aux4 = (inter['left'][3] <=  campaign) & (campaign <= inter['right'][3])"
   ]
  },
  {
   "cell_type": "code",
   "execution_count": 41,
   "metadata": {},
   "outputs": [
    {
     "data": {
      "text/plain": [
       "campaign \n",
       " 0.112969    17642\n",
       "-0.052931    10570\n",
       "-0.289139     7992\n",
       "-0.780935     4984\n",
       "dtype: int64"
      ]
     },
     "execution_count": 41,
     "metadata": {},
     "output_type": "execute_result"
    }
   ],
   "source": [
    "#REPLACE VALUES WITH WOE\n",
    "campaign[aux1] = inter['WOE'][0]\n",
    "campaign[aux2] = inter['WOE'][1]\n",
    "campaign[aux3] = inter['WOE'][2]\n",
    "campaign[aux4] = inter['WOE'][3]\n",
    "\n",
    "campaign.value_counts()"
   ]
  },
  {
   "cell_type": "code",
   "execution_count": 42,
   "metadata": {},
   "outputs": [
    {
     "data": {
      "text/plain": [
       " 0.112969    17642\n",
       "-0.052931    10570\n",
       "-0.289139     7992\n",
       "-0.780935     4984\n",
       "Name: campaign, dtype: int64"
      ]
     },
     "execution_count": 42,
     "metadata": {},
     "output_type": "execute_result"
    }
   ],
   "source": [
    "#REPLACE OLD VARIABLE\n",
    "bank_df['campaign'] = campaign\n",
    "bank_df['campaign'].value_counts()"
   ]
  },
  {
   "cell_type": "code",
   "execution_count": 43,
   "metadata": {},
   "outputs": [
    {
     "data": {
      "text/plain": [
       "85      170\n",
       "90      170\n",
       "136     168\n",
       "73      167\n",
       "124     164\n",
       "       ... \n",
       "1108      1\n",
       "980       1\n",
       "4918      1\n",
       "2453      1\n",
       "2015      1\n",
       "Name: duration, Length: 1544, dtype: int64"
      ]
     },
     "execution_count": 43,
     "metadata": {},
     "output_type": "execute_result"
    }
   ],
   "source": [
    "#DURATION\n",
    "#CREATE A DATAFRAME\n",
    "duration= pd.DataFrame(bank_df['duration'])\n",
    "duration.columns = ['duration']\n",
    "duration['duration'].value_counts()"
   ]
  },
  {
   "cell_type": "code",
   "execution_count": 44,
   "metadata": {},
   "outputs": [
    {
     "data": {
      "text/html": [
       "<div>\n",
       "<style scoped>\n",
       "    .dataframe tbody tr th:only-of-type {\n",
       "        vertical-align: middle;\n",
       "    }\n",
       "\n",
       "    .dataframe tbody tr th {\n",
       "        vertical-align: top;\n",
       "    }\n",
       "\n",
       "    .dataframe thead th {\n",
       "        text-align: right;\n",
       "    }\n",
       "</style>\n",
       "<table border=\"1\" class=\"dataframe\">\n",
       "  <thead>\n",
       "    <tr style=\"text-align: right;\">\n",
       "      <th></th>\n",
       "      <th>Variable</th>\n",
       "      <th>Cutoff</th>\n",
       "      <th>N</th>\n",
       "      <th>Events</th>\n",
       "      <th>% of Events</th>\n",
       "      <th>Non-Events</th>\n",
       "      <th>% of Non-Events</th>\n",
       "      <th>WoE</th>\n",
       "      <th>IV</th>\n",
       "    </tr>\n",
       "  </thead>\n",
       "  <tbody>\n",
       "    <tr>\n",
       "      <th>0</th>\n",
       "      <td>duration</td>\n",
       "      <td>(-0.001, 59.0]</td>\n",
       "      <td>4181</td>\n",
       "      <td>1</td>\n",
       "      <td>0.000216</td>\n",
       "      <td>4180</td>\n",
       "      <td>0.114370</td>\n",
       "      <td>-6.274154</td>\n",
       "      <td>0.716224</td>\n",
       "    </tr>\n",
       "    <tr>\n",
       "      <th>1</th>\n",
       "      <td>duration</td>\n",
       "      <td>(59.0, 89.0]</td>\n",
       "      <td>4207</td>\n",
       "      <td>43</td>\n",
       "      <td>0.009267</td>\n",
       "      <td>4164</td>\n",
       "      <td>0.113932</td>\n",
       "      <td>-2.509119</td>\n",
       "      <td>0.262617</td>\n",
       "    </tr>\n",
       "    <tr>\n",
       "      <th>2</th>\n",
       "      <td>duration</td>\n",
       "      <td>(89.0, 116.0]</td>\n",
       "      <td>3987</td>\n",
       "      <td>107</td>\n",
       "      <td>0.023060</td>\n",
       "      <td>3880</td>\n",
       "      <td>0.106162</td>\n",
       "      <td>-1.526849</td>\n",
       "      <td>0.126883</td>\n",
       "    </tr>\n",
       "    <tr>\n",
       "      <th>3</th>\n",
       "      <td>duration</td>\n",
       "      <td>(116.0, 146.0]</td>\n",
       "      <td>4152</td>\n",
       "      <td>157</td>\n",
       "      <td>0.033836</td>\n",
       "      <td>3995</td>\n",
       "      <td>0.109308</td>\n",
       "      <td>-1.172641</td>\n",
       "      <td>0.088502</td>\n",
       "    </tr>\n",
       "    <tr>\n",
       "      <th>4</th>\n",
       "      <td>duration</td>\n",
       "      <td>(146.0, 180.0]</td>\n",
       "      <td>4178</td>\n",
       "      <td>256</td>\n",
       "      <td>0.055172</td>\n",
       "      <td>3922</td>\n",
       "      <td>0.107311</td>\n",
       "      <td>-0.665267</td>\n",
       "      <td>0.034686</td>\n",
       "    </tr>\n",
       "    <tr>\n",
       "      <th>5</th>\n",
       "      <td>duration</td>\n",
       "      <td>(180.0, 222.0]</td>\n",
       "      <td>4096</td>\n",
       "      <td>346</td>\n",
       "      <td>0.074569</td>\n",
       "      <td>3750</td>\n",
       "      <td>0.102605</td>\n",
       "      <td>-0.319160</td>\n",
       "      <td>0.008948</td>\n",
       "    </tr>\n",
       "    <tr>\n",
       "      <th>6</th>\n",
       "      <td>duration</td>\n",
       "      <td>(222.0, 280.0]</td>\n",
       "      <td>4062</td>\n",
       "      <td>463</td>\n",
       "      <td>0.099784</td>\n",
       "      <td>3599</td>\n",
       "      <td>0.098473</td>\n",
       "      <td>0.013228</td>\n",
       "      <td>0.000017</td>\n",
       "    </tr>\n",
       "    <tr>\n",
       "      <th>7</th>\n",
       "      <td>duration</td>\n",
       "      <td>(280.0, 368.0]</td>\n",
       "      <td>4103</td>\n",
       "      <td>554</td>\n",
       "      <td>0.119397</td>\n",
       "      <td>3549</td>\n",
       "      <td>0.097105</td>\n",
       "      <td>0.206656</td>\n",
       "      <td>0.004607</td>\n",
       "    </tr>\n",
       "    <tr>\n",
       "      <th>8</th>\n",
       "      <td>duration</td>\n",
       "      <td>(368.0, 551.0]</td>\n",
       "      <td>4118</td>\n",
       "      <td>824</td>\n",
       "      <td>0.177586</td>\n",
       "      <td>3294</td>\n",
       "      <td>0.090128</td>\n",
       "      <td>0.678225</td>\n",
       "      <td>0.059316</td>\n",
       "    </tr>\n",
       "    <tr>\n",
       "      <th>9</th>\n",
       "      <td>duration</td>\n",
       "      <td>(551.0, 4918.0]</td>\n",
       "      <td>4104</td>\n",
       "      <td>1889</td>\n",
       "      <td>0.407112</td>\n",
       "      <td>2215</td>\n",
       "      <td>0.060605</td>\n",
       "      <td>1.904707</td>\n",
       "      <td>0.659994</td>\n",
       "    </tr>\n",
       "  </tbody>\n",
       "</table>\n",
       "</div>"
      ],
      "text/plain": [
       "   Variable           Cutoff     N  Events  % of Events  Non-Events  \\\n",
       "0  duration   (-0.001, 59.0]  4181       1     0.000216        4180   \n",
       "1  duration     (59.0, 89.0]  4207      43     0.009267        4164   \n",
       "2  duration    (89.0, 116.0]  3987     107     0.023060        3880   \n",
       "3  duration   (116.0, 146.0]  4152     157     0.033836        3995   \n",
       "4  duration   (146.0, 180.0]  4178     256     0.055172        3922   \n",
       "5  duration   (180.0, 222.0]  4096     346     0.074569        3750   \n",
       "6  duration   (222.0, 280.0]  4062     463     0.099784        3599   \n",
       "7  duration   (280.0, 368.0]  4103     554     0.119397        3549   \n",
       "8  duration   (368.0, 551.0]  4118     824     0.177586        3294   \n",
       "9  duration  (551.0, 4918.0]  4104    1889     0.407112        2215   \n",
       "\n",
       "   % of Non-Events       WoE        IV  \n",
       "0         0.114370 -6.274154  0.716224  \n",
       "1         0.113932 -2.509119  0.262617  \n",
       "2         0.106162 -1.526849  0.126883  \n",
       "3         0.109308 -1.172641  0.088502  \n",
       "4         0.107311 -0.665267  0.034686  \n",
       "5         0.102605 -0.319160  0.008948  \n",
       "6         0.098473  0.013228  0.000017  \n",
       "7         0.097105  0.206656  0.004607  \n",
       "8         0.090128  0.678225  0.059316  \n",
       "9         0.060605  1.904707  0.659994  "
      ]
     },
     "execution_count": 44,
     "metadata": {},
     "output_type": "execute_result"
    }
   ],
   "source": [
    "#SELECT VALUES FOR CAMPAIGN VARIABLE\n",
    "aux_d = woe['Variable'] == 'duration' \n",
    "duration_table = woe[aux_d]\n",
    "duration_table"
   ]
  },
  {
   "cell_type": "code",
   "execution_count": 45,
   "metadata": {},
   "outputs": [
    {
     "data": {
      "text/html": [
       "<div>\n",
       "<style scoped>\n",
       "    .dataframe tbody tr th:only-of-type {\n",
       "        vertical-align: middle;\n",
       "    }\n",
       "\n",
       "    .dataframe tbody tr th {\n",
       "        vertical-align: top;\n",
       "    }\n",
       "\n",
       "    .dataframe thead th {\n",
       "        text-align: right;\n",
       "    }\n",
       "</style>\n",
       "<table border=\"1\" class=\"dataframe\">\n",
       "  <thead>\n",
       "    <tr style=\"text-align: right;\">\n",
       "      <th></th>\n",
       "      <th>intervals</th>\n",
       "      <th>left</th>\n",
       "      <th>right</th>\n",
       "      <th>WOE</th>\n",
       "    </tr>\n",
       "  </thead>\n",
       "  <tbody>\n",
       "    <tr>\n",
       "      <th>0</th>\n",
       "      <td>(-0.001, 59.0]</td>\n",
       "      <td>-0.001</td>\n",
       "      <td>59.0</td>\n",
       "      <td>-6.274154</td>\n",
       "    </tr>\n",
       "    <tr>\n",
       "      <th>1</th>\n",
       "      <td>(59.0, 89.0]</td>\n",
       "      <td>59.000</td>\n",
       "      <td>89.0</td>\n",
       "      <td>-2.509119</td>\n",
       "    </tr>\n",
       "    <tr>\n",
       "      <th>2</th>\n",
       "      <td>(89.0, 116.0]</td>\n",
       "      <td>89.000</td>\n",
       "      <td>116.0</td>\n",
       "      <td>-1.526849</td>\n",
       "    </tr>\n",
       "    <tr>\n",
       "      <th>3</th>\n",
       "      <td>(116.0, 146.0]</td>\n",
       "      <td>116.000</td>\n",
       "      <td>146.0</td>\n",
       "      <td>-1.172641</td>\n",
       "    </tr>\n",
       "    <tr>\n",
       "      <th>4</th>\n",
       "      <td>(146.0, 180.0]</td>\n",
       "      <td>146.000</td>\n",
       "      <td>180.0</td>\n",
       "      <td>-0.665267</td>\n",
       "    </tr>\n",
       "    <tr>\n",
       "      <th>5</th>\n",
       "      <td>(180.0, 222.0]</td>\n",
       "      <td>180.000</td>\n",
       "      <td>222.0</td>\n",
       "      <td>-0.319160</td>\n",
       "    </tr>\n",
       "    <tr>\n",
       "      <th>6</th>\n",
       "      <td>(222.0, 280.0]</td>\n",
       "      <td>222.000</td>\n",
       "      <td>280.0</td>\n",
       "      <td>0.013228</td>\n",
       "    </tr>\n",
       "    <tr>\n",
       "      <th>7</th>\n",
       "      <td>(280.0, 368.0]</td>\n",
       "      <td>280.000</td>\n",
       "      <td>368.0</td>\n",
       "      <td>0.206656</td>\n",
       "    </tr>\n",
       "    <tr>\n",
       "      <th>8</th>\n",
       "      <td>(368.0, 551.0]</td>\n",
       "      <td>368.000</td>\n",
       "      <td>551.0</td>\n",
       "      <td>0.678225</td>\n",
       "    </tr>\n",
       "    <tr>\n",
       "      <th>9</th>\n",
       "      <td>(551.0, 4918.0]</td>\n",
       "      <td>551.000</td>\n",
       "      <td>4918.0</td>\n",
       "      <td>1.904707</td>\n",
       "    </tr>\n",
       "  </tbody>\n",
       "</table>\n",
       "</div>"
      ],
      "text/plain": [
       "         intervals     left   right       WOE\n",
       "0   (-0.001, 59.0]   -0.001    59.0 -6.274154\n",
       "1     (59.0, 89.0]   59.000    89.0 -2.509119\n",
       "2    (89.0, 116.0]   89.000   116.0 -1.526849\n",
       "3   (116.0, 146.0]  116.000   146.0 -1.172641\n",
       "4   (146.0, 180.0]  146.000   180.0 -0.665267\n",
       "5   (180.0, 222.0]  180.000   222.0 -0.319160\n",
       "6   (222.0, 280.0]  222.000   280.0  0.013228\n",
       "7   (280.0, 368.0]  280.000   368.0  0.206656\n",
       "8   (368.0, 551.0]  368.000   551.0  0.678225\n",
       "9  (551.0, 4918.0]  551.000  4918.0  1.904707"
      ]
     },
     "execution_count": 45,
     "metadata": {},
     "output_type": "execute_result"
    }
   ],
   "source": [
    "#CREATE STRUCTURE TO EXTRACT LIMITS\n",
    "idx = pd.IntervalIndex(duration_table['Cutoff'])\n",
    "\n",
    "#INTERVALS , LIMITS AND WOE VALUES\n",
    "inter = pd.DataFrame({'intervals': idx, 'left': idx.left, 'right': idx.right})\n",
    "inter['WOE'] = duration_table['WoE']\n",
    "inter"
   ]
  },
  {
   "cell_type": "code",
   "execution_count": 46,
   "metadata": {},
   "outputs": [],
   "source": [
    "#CREATE AUXILIARY VARIABLES\n",
    "inter['left'][0],inter['right'][0]\n",
    "\n",
    "aux1 = (inter['left'][0] <=  duration) & (duration < inter['right'][0])\n",
    "aux2 = (inter['left'][1] <=  duration) & (duration < inter['right'][1])\n",
    "aux3 = (inter['left'][2] <=  duration) & (duration < inter['right'][2])\n",
    "aux4 = (inter['left'][3] <=  duration) & (duration < inter['right'][3])\n",
    "aux5 = (inter['left'][4] <=  duration) & (duration < inter['right'][4])\n",
    "aux6 = (inter['left'][5] <=  duration) & (duration < inter['right'][5])\n",
    "aux7 = (inter['left'][6] <=  duration) & (duration < inter['right'][6])\n",
    "aux8 = (inter['left'][7] <=  duration) & (duration < inter['right'][7])\n",
    "aux9 = (inter['left'][8] <=  duration) & (duration < inter['right'][8])\n",
    "aux10 = (inter['left'][9] <=  duration) & (duration <= inter['right'][9])"
   ]
  },
  {
   "cell_type": "code",
   "execution_count": 47,
   "metadata": {},
   "outputs": [
    {
     "data": {
      "text/plain": [
       "duration \n",
       "-2.509119    4185\n",
       "-1.172641    4176\n",
       "-0.665267    4163\n",
       " 0.206656    4132\n",
       " 0.678225    4127\n",
       " 1.904707    4123\n",
       "-0.319160    4120\n",
       " 0.013228    4098\n",
       "-6.274154    4050\n",
       "-1.526849    4014\n",
       "dtype: int64"
      ]
     },
     "execution_count": 47,
     "metadata": {},
     "output_type": "execute_result"
    }
   ],
   "source": [
    "#REPLACE VALUES WITH WOE\n",
    "duration[aux1] = inter['WOE'][0]\n",
    "duration[aux2] = inter['WOE'][1]\n",
    "duration[aux3] = inter['WOE'][2]\n",
    "duration[aux4] = inter['WOE'][3]\n",
    "duration[aux5] = inter['WOE'][4]\n",
    "duration[aux6] = inter['WOE'][5]\n",
    "duration[aux7] = inter['WOE'][6]\n",
    "duration[aux8] = inter['WOE'][7]\n",
    "duration[aux9] = inter['WOE'][8]\n",
    "duration[aux10] = inter['WOE'][9]\n",
    "\n",
    "duration.value_counts()"
   ]
  },
  {
   "cell_type": "code",
   "execution_count": 48,
   "metadata": {},
   "outputs": [
    {
     "data": {
      "text/plain": [
       "-2.509119    4185\n",
       "-1.172641    4176\n",
       "-0.665267    4163\n",
       " 0.206656    4132\n",
       " 0.678225    4127\n",
       " 1.904707    4123\n",
       "-0.319160    4120\n",
       " 0.013228    4098\n",
       "-6.274154    4050\n",
       "-1.526849    4014\n",
       "Name: duration, dtype: int64"
      ]
     },
     "execution_count": 48,
     "metadata": {},
     "output_type": "execute_result"
    }
   ],
   "source": [
    "#REPLACE OLD VARIABLE\n",
    "bank_df['duration'] = duration\n",
    "bank_df['duration'].value_counts()"
   ]
  },
  {
   "cell_type": "markdown",
   "metadata": {},
   "source": [
    "# Check skew"
   ]
  },
  {
   "cell_type": "code",
   "execution_count": 49,
   "metadata": {},
   "outputs": [
    {
     "data": {
      "text/plain": [
       "age               1.149065\n",
       "duration         -1.299336\n",
       "campaign         -1.319181\n",
       "pdays            -4.922190\n",
       "previous          3.832042\n",
       "emp.var.rate     -0.724096\n",
       "cons.price.idx   -0.230888\n",
       "cons.conf.idx     0.303180\n",
       "euribor3m        -0.709188\n",
       "nr.employed      -1.044262\n",
       "y                 2.450330\n",
       "dtype: float64"
      ]
     },
     "execution_count": 49,
     "metadata": {},
     "output_type": "execute_result"
    }
   ],
   "source": [
    "bank_df.skew()"
   ]
  },
  {
   "cell_type": "markdown",
   "metadata": {},
   "source": [
    "pdays and previous are the variables that wil be treatead."
   ]
  },
  {
   "cell_type": "code",
   "execution_count": 50,
   "metadata": {},
   "outputs": [],
   "source": [
    "bank_df['pdays'] = np.sqrt(bank_df['pdays'])\n",
    "bank_df['previous'] = np.sqrt(bank_df['previous'])"
   ]
  },
  {
   "cell_type": "code",
   "execution_count": 51,
   "metadata": {},
   "outputs": [
    {
     "data": {
      "text/plain": [
       "age               1.149065\n",
       "duration         -1.299336\n",
       "campaign         -1.319181\n",
       "pdays            -4.927351\n",
       "previous          2.388752\n",
       "emp.var.rate     -0.724096\n",
       "cons.price.idx   -0.230888\n",
       "cons.conf.idx     0.303180\n",
       "euribor3m        -0.709188\n",
       "nr.employed      -1.044262\n",
       "y                 2.450330\n",
       "dtype: float64"
      ]
     },
     "execution_count": 51,
     "metadata": {},
     "output_type": "execute_result"
    }
   ],
   "source": [
    "#Check again\n",
    "bank_df.skew()"
   ]
  },
  {
   "cell_type": "markdown",
   "metadata": {},
   "source": [
    "Due to the values of the variable pdays the sqrt function have no effect in it."
   ]
  },
  {
   "cell_type": "code",
   "execution_count": 52,
   "metadata": {},
   "outputs": [],
   "source": [
    "#NEW DATA\n",
    "bank_df2 = bank_df.copy()"
   ]
  },
  {
   "cell_type": "code",
   "execution_count": 53,
   "metadata": {},
   "outputs": [],
   "source": [
    "bank_df2.reset_index(drop=True, inplace=True)"
   ]
  },
  {
   "cell_type": "code",
   "execution_count": 54,
   "metadata": {},
   "outputs": [
    {
     "name": "stdout",
     "output_type": "stream",
     "text": [
      "<class 'pandas.core.frame.DataFrame'>\n",
      "RangeIndex: 41188 entries, 0 to 41187\n",
      "Data columns (total 21 columns):\n",
      " #   Column          Non-Null Count  Dtype  \n",
      "---  ------          --------------  -----  \n",
      " 0   age             41188 non-null  float64\n",
      " 1   job             41188 non-null  object \n",
      " 2   marital         41188 non-null  object \n",
      " 3   education       41188 non-null  object \n",
      " 4   default         41188 non-null  object \n",
      " 5   housing         41188 non-null  object \n",
      " 6   loan            41188 non-null  object \n",
      " 7   contact         41188 non-null  object \n",
      " 8   month           41188 non-null  object \n",
      " 9   day_of_week     41188 non-null  object \n",
      " 10  duration        41188 non-null  float64\n",
      " 11  campaign        41188 non-null  float64\n",
      " 12  pdays           41188 non-null  float64\n",
      " 13  previous        41188 non-null  float64\n",
      " 14  poutcome        41188 non-null  object \n",
      " 15  emp.var.rate    41188 non-null  float64\n",
      " 16  cons.price.idx  41188 non-null  float64\n",
      " 17  cons.conf.idx   41188 non-null  float64\n",
      " 18  euribor3m       41188 non-null  float64\n",
      " 19  nr.employed     41188 non-null  float64\n",
      " 20  y               41188 non-null  object \n",
      "dtypes: float64(10), object(11)\n",
      "memory usage: 6.6+ MB\n"
     ]
    }
   ],
   "source": [
    "bank_df2.info()"
   ]
  },
  {
   "cell_type": "code",
   "execution_count": 55,
   "metadata": {},
   "outputs": [
    {
     "data": {
      "text/plain": [
       "(41188, 21)"
      ]
     },
     "execution_count": 55,
     "metadata": {},
     "output_type": "execute_result"
    }
   ],
   "source": [
    "bank_df2.shape"
   ]
  },
  {
   "cell_type": "code",
   "execution_count": 56,
   "metadata": {},
   "outputs": [
    {
     "data": {
      "image/png": "[encoded data removed]",
      "text/plain": [
       "<Figure size 1440x1440 with 10 Axes>"
      ]
     },
     "metadata": {
      "needs_background": "light"
     },
     "output_type": "display_data"
    }
   ],
   "source": [
    "plt.figure(figsize = (20,20))\n",
    "plt.subplot(5, 2, 1)\n",
    "sns.boxplot(data = bank_df2, x= 'age', palette = 'colorblind')\n",
    "plt.title('Age boxplot')\n",
    "plt.xlabel('Age')\n",
    "\n",
    "plt.subplot(5, 2, 2)\n",
    "sns.boxplot(data = bank_df2, x= 'duration', palette = 'colorblind')\n",
    "plt.title('Duration boxplot')\n",
    "plt.xlabel('Duration')\n",
    "\n",
    "plt.subplot(5, 2, 3)\n",
    "sns.boxplot(data = bank_df2, x= 'campaign', palette = 'colorblind')\n",
    "plt.title('Campaign boxplot')\n",
    "plt.xlabel('Campaign')\n",
    "\n",
    "plt.subplot(5, 2, 4)\n",
    "sns.boxplot(data = bank_df2, x= 'pdays', palette = 'colorblind')\n",
    "plt.title('pdays boxplot')\n",
    "plt.xlabel('pdays')\n",
    "\n",
    "plt.subplot(5, 2, 5)\n",
    "sns.boxplot(data = bank_df2, x= 'previous', palette = 'colorblind')\n",
    "plt.title('Previous boxplot')\n",
    "plt.xlabel('Previous')\n",
    "\n",
    "plt.subplot(5, 2, 6)\n",
    "sns.boxplot(data = bank_df2, x= 'emp.var.rate', palette = 'colorblind')\n",
    "plt.title('emp.var.rate boxplot')\n",
    "plt.xlabel('emp.var.rate')\n",
    "\n",
    "plt.subplot(5, 2, 7)\n",
    "sns.boxplot(data = bank_df2, x= 'cons.price.idx', palette = 'colorblind')\n",
    "plt.title('cons.price.idx boxplot')\n",
    "plt.xlabel('cons.price.idx')\n",
    "\n",
    "plt.subplot(5, 2, 8)\n",
    "sns.boxplot(data = bank_df2, x= 'cons.conf.idx', palette = 'colorblind')\n",
    "plt.title('cons.conf.idx boxplot')\n",
    "plt.xlabel('cons.conf.idx')\n",
    "\n",
    "plt.subplot(5, 2, 9)\n",
    "sns.boxplot(data = bank_df2, x= 'euribor3m', palette = 'colorblind')\n",
    "plt.title('euribor3m boxplot')\n",
    "plt.xlabel('euribor3m')\n",
    "\n",
    "plt.subplot(5, 2, 10)\n",
    "sns.boxplot(data = bank_df2, x= 'nr.employed', palette = 'colorblind')\n",
    "plt.title('nr.employed boxplot')\n",
    "plt.xlabel('nr.employed')\n",
    "\n",
    "plt.tight_layout()\n",
    "plt.show()"
   ]
  },
  {
   "cell_type": "code",
   "execution_count": 57,
   "metadata": {},
   "outputs": [
    {
     "data": {
      "image/png": "[encoded data removed]",
      "text/plain": [
       "<Figure size 576x360 with 1 Axes>"
      ]
     },
     "metadata": {
      "needs_background": "light"
     },
     "output_type": "display_data"
    },
    {
     "name": "stdout",
     "output_type": "stream",
     "text": [
      "The amount of \"no\" target is =  36,548\n",
      "The amount of \"yes\" target is = 4,640\n",
      "The percentage of \"no\" target is = 88.73 %\n",
      "The percentage of \"yes\" target is = 11.27 %\n"
     ]
    }
   ],
   "source": [
    "fig, ax = plt.subplots(figsize = (8, 5))\n",
    "sns.countplot(x= 'y', data= bank_df2, palette='rocket')\n",
    "plt.xlabel(\"Target\") \n",
    "plt.ylabel('Number of Clients')\n",
    "plt.title(\"Target distribution\")  \n",
    "plt.show()\n",
    "#Finding the percentages of our target\n",
    "per_target= (bank_df['y'] == 1).value_counts().to_frame('q')\n",
    "n_target_q = per_target.q.iloc[0]\n",
    "y_target_q = per_target.q.iloc[1]\n",
    "total=per_target.q.sum() \n",
    "print('The amount of \"no\" target is =  {:,}'.format(n_target_q))\n",
    "print('The amount of \"yes\" target is = {:,}'.format(y_target_q))\n",
    "print(f'The percentage of \"no\" target is = {round((n_target_q/total)*100,2)}','%')\n",
    "print(f'The percentage of \"yes\" target is = {round((y_target_q/total)*100,2)}','%')"
   ]
  },
  {
   "cell_type": "markdown",
   "metadata": {},
   "source": [
    "## **Categorical Features Analysis**"
   ]
  },
  {
   "cell_type": "code",
   "execution_count": 58,
   "metadata": {},
   "outputs": [],
   "source": [
    "#Categorical features\n",
    "\n",
    "categorical = bank_df2.select_dtypes(include=\"object\")\n",
    "categorical.drop(\"y\", axis=1, inplace=True)\n",
    "categorical_list = categorical.columns.to_list()"
   ]
  },
  {
   "cell_type": "code",
   "execution_count": 59,
   "metadata": {},
   "outputs": [
    {
     "name": "stdout",
     "output_type": "stream",
     "text": [
      "Column: job unique values\n",
      "['housemaid' 'services' 'admin.' 'blue-collar' 'technician' 'retired'\n",
      " 'management' 'unemployed' 'self-employed' 'unknown' 'entrepreneur'\n",
      " 'student']\n",
      "Column: marital unique values\n",
      "['married' 'single' 'divorced' 'unknown']\n",
      "Column: education unique values\n",
      "['basic.4y' 'high.school' 'basic.6y' 'basic.9y' 'professional.course'\n",
      " 'unknown' 'university.degree' 'illiterate']\n",
      "Column: default unique values\n",
      "['no' 'unknown' 'yes']\n",
      "Column: housing unique values\n",
      "['no' 'yes' 'unknown']\n",
      "Column: loan unique values\n",
      "['no' 'yes' 'unknown']\n",
      "Column: contact unique values\n",
      "['telephone' 'cellular']\n",
      "Column: month unique values\n",
      "['may' 'jun' 'jul' 'aug' 'oct' 'nov' 'dec' 'mar' 'apr' 'sep']\n",
      "Column: day_of_week unique values\n",
      "['mon' 'tue' 'wed' 'thu' 'fri']\n",
      "Column: poutcome unique values\n",
      "['nonexistent' 'failure' 'success']\n"
     ]
    }
   ],
   "source": [
    "for cat in categorical_list:\n",
    "    print(f\"Column: {cat} unique values\")\n",
    "    print(bank_df2[cat].unique())"
   ]
  },
  {
   "cell_type": "markdown",
   "metadata": {},
   "source": [
    "**Job**"
   ]
  },
  {
   "cell_type": "code",
   "execution_count": 60,
   "metadata": {},
   "outputs": [
    {
     "data": {
      "text/plain": [
       "admin.           10422\n",
       "blue-collar       9254\n",
       "technician        6743\n",
       "services          3969\n",
       "management        2924\n",
       "retired           1720\n",
       "entrepreneur      1456\n",
       "self-employed     1421\n",
       "housemaid         1060\n",
       "unemployed        1014\n",
       "student            875\n",
       "unknown            330\n",
       "Name: job, dtype: int64"
      ]
     },
     "execution_count": 60,
     "metadata": {},
     "output_type": "execute_result"
    }
   ],
   "source": [
    "bank_df2.job.value_counts()"
   ]
  },
  {
   "cell_type": "code",
   "execution_count": 61,
   "metadata": {},
   "outputs": [
    {
     "name": "stdout",
     "output_type": "stream",
     "text": [
      "##############################################\n",
      "Unkown job clients =  330\n",
      "##############################################\n",
      "Percentage of unknown client's job = 0.8 %\n"
     ]
    },
    {
     "data": {
      "image/png": "[encoded data removed]",
      "text/plain": [
       "<Figure size 432x288 with 1 Axes>"
      ]
     },
     "metadata": {
      "needs_background": "light"
     },
     "output_type": "display_data"
    }
   ],
   "source": [
    "sns.countplot(data=bank_df2, y='job',hue ='y', edgecolor ='black')\n",
    "print('##############################################')\n",
    "print('Unkown job clients = ', bank_df2[(bank_df2['job'] =='unknown')].shape[0])\n",
    "print('##############################################')\n",
    "print(\"Percentage of unknown client's job =\" ,round(bank_df2[(bank_df2['job'] =='unknown')].shape[0]/bank_df2.shape[0]*100,2),'%')"
   ]
  },
  {
   "cell_type": "markdown",
   "metadata": {},
   "source": [
    "**Marital**"
   ]
  },
  {
   "cell_type": "code",
   "execution_count": 62,
   "metadata": {},
   "outputs": [
    {
     "data": {
      "text/plain": [
       "married     24928\n",
       "single      11568\n",
       "divorced     4612\n",
       "unknown        80\n",
       "Name: marital, dtype: int64"
      ]
     },
     "execution_count": 62,
     "metadata": {},
     "output_type": "execute_result"
    }
   ],
   "source": [
    "bank_df2.marital.value_counts()"
   ]
  },
  {
   "cell_type": "code",
   "execution_count": 63,
   "metadata": {},
   "outputs": [
    {
     "name": "stdout",
     "output_type": "stream",
     "text": [
      "##############################################\n",
      "Unkown job clients =  80\n",
      "##############################################\n",
      "Percentage of unknown client's marital = 0.19 %\n"
     ]
    },
    {
     "data": {
      "image/png": "[encoded data removed]",
      "text/plain": [
       "<Figure size 432x288 with 1 Axes>"
      ]
     },
     "metadata": {
      "needs_background": "light"
     },
     "output_type": "display_data"
    }
   ],
   "source": [
    "sns.countplot(data=bank_df2, x='marital',hue ='y', edgecolor ='black')\n",
    "print('##############################################')\n",
    "print('Unkown job clients = ', bank_df2[(bank_df2['marital'] =='unknown')].shape[0])\n",
    "print('##############################################')\n",
    "print(\"Percentage of unknown client's marital =\" ,round(bank_df2[(bank_df2['marital'] =='unknown')].shape[0]/bank_df2.shape[0]*100,2),'%')"
   ]
  },
  {
   "cell_type": "markdown",
   "metadata": {},
   "source": [
    "**Education**"
   ]
  },
  {
   "cell_type": "code",
   "execution_count": 64,
   "metadata": {},
   "outputs": [
    {
     "data": {
      "text/plain": [
       "university.degree      12168\n",
       "high.school             9515\n",
       "basic.9y                6045\n",
       "professional.course     5243\n",
       "basic.4y                4176\n",
       "basic.6y                2292\n",
       "unknown                 1731\n",
       "illiterate                18\n",
       "Name: education, dtype: int64"
      ]
     },
     "execution_count": 64,
     "metadata": {},
     "output_type": "execute_result"
    }
   ],
   "source": [
    "bank_df2.education.value_counts()"
   ]
  },
  {
   "cell_type": "code",
   "execution_count": 65,
   "metadata": {},
   "outputs": [
    {
     "name": "stdout",
     "output_type": "stream",
     "text": [
      "##############################################\n",
      "Unkown job clients =  1731\n",
      "##############################################\n",
      "Percentage of unknown client's education level = 4.2 %\n"
     ]
    },
    {
     "data": {
      "image/png": "[encoded data removed]",
      "text/plain": [
       "<Figure size 432x288 with 1 Axes>"
      ]
     },
     "metadata": {
      "needs_background": "light"
     },
     "output_type": "display_data"
    }
   ],
   "source": [
    "sns.countplot(data=bank_df2, y='education',hue ='y', edgecolor ='black')\n",
    "print('##############################################')\n",
    "print('Unkown job clients = ', bank_df2[(bank_df2['education'] =='unknown')].shape[0])\n",
    "print('##############################################')\n",
    "print(\"Percentage of unknown client's education level =\" ,round(bank_df2[(bank_df['education'] =='unknown')].shape[0]/bank_df2.shape[0]*100,2),'%')"
   ]
  },
  {
   "cell_type": "markdown",
   "metadata": {},
   "source": [
    "**Default**"
   ]
  },
  {
   "cell_type": "code",
   "execution_count": 66,
   "metadata": {},
   "outputs": [
    {
     "data": {
      "text/plain": [
       "no         32588\n",
       "unknown     8597\n",
       "yes            3\n",
       "Name: default, dtype: int64"
      ]
     },
     "execution_count": 66,
     "metadata": {},
     "output_type": "execute_result"
    }
   ],
   "source": [
    "bank_df2.default.value_counts()"
   ]
  },
  {
   "cell_type": "code",
   "execution_count": 67,
   "metadata": {},
   "outputs": [
    {
     "name": "stdout",
     "output_type": "stream",
     "text": [
      "##############################################\n",
      "Unkown job clients =  8597\n",
      "##############################################\n",
      "Percentage of unknown client's default = 20.87 %\n"
     ]
    },
    {
     "data": {
      "image/png": "[encoded data removed]",
      "text/plain": [
       "<Figure size 432x288 with 1 Axes>"
      ]
     },
     "metadata": {
      "needs_background": "light"
     },
     "output_type": "display_data"
    }
   ],
   "source": [
    "sns.countplot(data=bank_df2, y='default',hue ='y', edgecolor ='black')\n",
    "print('##############################################')\n",
    "print('Unkown job clients = ', bank_df2[(bank_df2['default'] =='unknown')].shape[0])\n",
    "print('##############################################')\n",
    "print(\"Percentage of unknown client's default =\" ,round(bank_df2[(bank_df2['default'] =='unknown')].shape[0]/bank_df2.shape[0]*100,2),'%')"
   ]
  },
  {
   "cell_type": "markdown",
   "metadata": {},
   "source": [
    "**Housing**"
   ]
  },
  {
   "cell_type": "code",
   "execution_count": 68,
   "metadata": {},
   "outputs": [
    {
     "data": {
      "text/plain": [
       "yes        21576\n",
       "no         18622\n",
       "unknown      990\n",
       "Name: housing, dtype: int64"
      ]
     },
     "execution_count": 68,
     "metadata": {},
     "output_type": "execute_result"
    }
   ],
   "source": [
    "bank_df2.housing.value_counts()"
   ]
  },
  {
   "cell_type": "code",
   "execution_count": 69,
   "metadata": {},
   "outputs": [
    {
     "name": "stdout",
     "output_type": "stream",
     "text": [
      "##############################################\n",
      "Unkown job clients =  990\n",
      "##############################################\n",
      "Percentage of unknown client's default = 2.4 %\n"
     ]
    },
    {
     "data": {
      "image/png": "[encoded data removed]",
      "text/plain": [
       "<Figure size 432x288 with 1 Axes>"
      ]
     },
     "metadata": {
      "needs_background": "light"
     },
     "output_type": "display_data"
    }
   ],
   "source": [
    "sns.countplot(data=bank_df2, y='housing',hue ='y', edgecolor ='black')\n",
    "print('##############################################')\n",
    "print('Unkown job clients = ', bank_df2[(bank_df2['housing'] =='unknown')].shape[0])\n",
    "print('##############################################')\n",
    "print(\"Percentage of unknown client's default =\" ,round(bank_df2[(bank_df['housing'] =='unknown')].shape[0]/bank_df2.shape[0]*100,2),'%')"
   ]
  },
  {
   "cell_type": "markdown",
   "metadata": {},
   "source": [
    "**Loan**"
   ]
  },
  {
   "cell_type": "code",
   "execution_count": 70,
   "metadata": {},
   "outputs": [
    {
     "data": {
      "text/plain": [
       "no         33950\n",
       "yes         6248\n",
       "unknown      990\n",
       "Name: loan, dtype: int64"
      ]
     },
     "execution_count": 70,
     "metadata": {},
     "output_type": "execute_result"
    }
   ],
   "source": [
    "bank_df2.loan.value_counts()"
   ]
  },
  {
   "cell_type": "code",
   "execution_count": 71,
   "metadata": {},
   "outputs": [
    {
     "name": "stdout",
     "output_type": "stream",
     "text": [
      "##############################################\n",
      "Unkown job clients =  990\n",
      "##############################################\n",
      "Percentage of unknown client's default = 2.4 %\n"
     ]
    },
    {
     "data": {
      "image/png": "[encoded data removed]",
      "text/plain": [
       "<Figure size 432x288 with 1 Axes>"
      ]
     },
     "metadata": {
      "needs_background": "light"
     },
     "output_type": "display_data"
    }
   ],
   "source": [
    "sns.countplot(data=bank_df2, y='housing',hue ='y', edgecolor ='black')\n",
    "print('##############################################')\n",
    "print('Unkown job clients = ', bank_df2[(bank_df2['housing'] =='unknown')].shape[0])\n",
    "print('##############################################')\n",
    "print(\"Percentage of unknown client's default =\" ,round(bank_df2[(bank_df2['housing'] =='unknown')].shape[0]/bank_df2.shape[0]*100,2),'%')"
   ]
  },
  {
   "cell_type": "markdown",
   "metadata": {},
   "source": [
    "### **Categorical Features Imputation**"
   ]
  },
  {
   "cell_type": "code",
   "execution_count": 72,
   "metadata": {},
   "outputs": [
    {
     "data": {
      "text/plain": [
       "age               0\n",
       "job               0\n",
       "marital           0\n",
       "education         0\n",
       "default           0\n",
       "housing           0\n",
       "loan              0\n",
       "contact           0\n",
       "month             0\n",
       "day_of_week       0\n",
       "duration          0\n",
       "campaign          0\n",
       "pdays             0\n",
       "previous          0\n",
       "poutcome          0\n",
       "emp.var.rate      0\n",
       "cons.price.idx    0\n",
       "cons.conf.idx     0\n",
       "euribor3m         0\n",
       "nr.employed       0\n",
       "y                 0\n",
       "dtype: int64"
      ]
     },
     "execution_count": 72,
     "metadata": {},
     "output_type": "execute_result"
    }
   ],
   "source": [
    "bank_df2.isna().sum()"
   ]
  },
  {
   "cell_type": "code",
   "execution_count": 73,
   "metadata": {},
   "outputs": [
    {
     "data": {
      "text/html": [
       "<div>\n",
       "<style scoped>\n",
       "    .dataframe tbody tr th:only-of-type {\n",
       "        vertical-align: middle;\n",
       "    }\n",
       "\n",
       "    .dataframe tbody tr th {\n",
       "        vertical-align: top;\n",
       "    }\n",
       "\n",
       "    .dataframe thead th {\n",
       "        text-align: right;\n",
       "    }\n",
       "</style>\n",
       "<table border=\"1\" class=\"dataframe\">\n",
       "  <thead>\n",
       "    <tr style=\"text-align: right;\">\n",
       "      <th></th>\n",
       "      <th>age</th>\n",
       "      <th>job</th>\n",
       "      <th>marital</th>\n",
       "      <th>education</th>\n",
       "      <th>default</th>\n",
       "      <th>housing</th>\n",
       "      <th>loan</th>\n",
       "      <th>contact</th>\n",
       "      <th>month</th>\n",
       "      <th>day_of_week</th>\n",
       "      <th>...</th>\n",
       "      <th>campaign</th>\n",
       "      <th>pdays</th>\n",
       "      <th>previous</th>\n",
       "      <th>poutcome</th>\n",
       "      <th>emp.var.rate</th>\n",
       "      <th>cons.price.idx</th>\n",
       "      <th>cons.conf.idx</th>\n",
       "      <th>euribor3m</th>\n",
       "      <th>nr.employed</th>\n",
       "      <th>y</th>\n",
       "    </tr>\n",
       "  </thead>\n",
       "  <tbody>\n",
       "    <tr>\n",
       "      <th>0</th>\n",
       "      <td>0.720001</td>\n",
       "      <td>housemaid</td>\n",
       "      <td>married</td>\n",
       "      <td>basic.4y</td>\n",
       "      <td>no</td>\n",
       "      <td>no</td>\n",
       "      <td>no</td>\n",
       "      <td>telephone</td>\n",
       "      <td>may</td>\n",
       "      <td>mon</td>\n",
       "      <td>...</td>\n",
       "      <td>0.112969</td>\n",
       "      <td>31.606961</td>\n",
       "      <td>0.0</td>\n",
       "      <td>nonexistent</td>\n",
       "      <td>1.1</td>\n",
       "      <td>93.994</td>\n",
       "      <td>-36.4</td>\n",
       "      <td>4.857</td>\n",
       "      <td>5191.0</td>\n",
       "      <td>0</td>\n",
       "    </tr>\n",
       "    <tr>\n",
       "      <th>1</th>\n",
       "      <td>0.720001</td>\n",
       "      <td>services</td>\n",
       "      <td>married</td>\n",
       "      <td>high.school</td>\n",
       "      <td>NaN</td>\n",
       "      <td>no</td>\n",
       "      <td>no</td>\n",
       "      <td>telephone</td>\n",
       "      <td>may</td>\n",
       "      <td>mon</td>\n",
       "      <td>...</td>\n",
       "      <td>0.112969</td>\n",
       "      <td>31.606961</td>\n",
       "      <td>0.0</td>\n",
       "      <td>nonexistent</td>\n",
       "      <td>1.1</td>\n",
       "      <td>93.994</td>\n",
       "      <td>-36.4</td>\n",
       "      <td>4.857</td>\n",
       "      <td>5191.0</td>\n",
       "      <td>0</td>\n",
       "    </tr>\n",
       "    <tr>\n",
       "      <th>2</th>\n",
       "      <td>-0.212528</td>\n",
       "      <td>services</td>\n",
       "      <td>married</td>\n",
       "      <td>high.school</td>\n",
       "      <td>no</td>\n",
       "      <td>yes</td>\n",
       "      <td>no</td>\n",
       "      <td>telephone</td>\n",
       "      <td>may</td>\n",
       "      <td>mon</td>\n",
       "      <td>...</td>\n",
       "      <td>0.112969</td>\n",
       "      <td>31.606961</td>\n",
       "      <td>0.0</td>\n",
       "      <td>nonexistent</td>\n",
       "      <td>1.1</td>\n",
       "      <td>93.994</td>\n",
       "      <td>-36.4</td>\n",
       "      <td>4.857</td>\n",
       "      <td>5191.0</td>\n",
       "      <td>0</td>\n",
       "    </tr>\n",
       "    <tr>\n",
       "      <th>3</th>\n",
       "      <td>-0.373811</td>\n",
       "      <td>admin.</td>\n",
       "      <td>married</td>\n",
       "      <td>basic.6y</td>\n",
       "      <td>no</td>\n",
       "      <td>no</td>\n",
       "      <td>no</td>\n",
       "      <td>telephone</td>\n",
       "      <td>may</td>\n",
       "      <td>mon</td>\n",
       "      <td>...</td>\n",
       "      <td>0.112969</td>\n",
       "      <td>31.606961</td>\n",
       "      <td>0.0</td>\n",
       "      <td>nonexistent</td>\n",
       "      <td>1.1</td>\n",
       "      <td>93.994</td>\n",
       "      <td>-36.4</td>\n",
       "      <td>4.857</td>\n",
       "      <td>5191.0</td>\n",
       "      <td>0</td>\n",
       "    </tr>\n",
       "    <tr>\n",
       "      <th>4</th>\n",
       "      <td>0.720001</td>\n",
       "      <td>services</td>\n",
       "      <td>married</td>\n",
       "      <td>high.school</td>\n",
       "      <td>no</td>\n",
       "      <td>no</td>\n",
       "      <td>yes</td>\n",
       "      <td>telephone</td>\n",
       "      <td>may</td>\n",
       "      <td>mon</td>\n",
       "      <td>...</td>\n",
       "      <td>0.112969</td>\n",
       "      <td>31.606961</td>\n",
       "      <td>0.0</td>\n",
       "      <td>nonexistent</td>\n",
       "      <td>1.1</td>\n",
       "      <td>93.994</td>\n",
       "      <td>-36.4</td>\n",
       "      <td>4.857</td>\n",
       "      <td>5191.0</td>\n",
       "      <td>0</td>\n",
       "    </tr>\n",
       "  </tbody>\n",
       "</table>\n",
       "<p>5 rows × 21 columns</p>\n",
       "</div>"
      ],
      "text/plain": [
       "        age        job  marital    education default housing loan    contact  \\\n",
       "0  0.720001  housemaid  married     basic.4y      no      no   no  telephone   \n",
       "1  0.720001   services  married  high.school     NaN      no   no  telephone   \n",
       "2 -0.212528   services  married  high.school      no     yes   no  telephone   \n",
       "3 -0.373811     admin.  married     basic.6y      no      no   no  telephone   \n",
       "4  0.720001   services  married  high.school      no      no  yes  telephone   \n",
       "\n",
       "  month day_of_week  ...  campaign      pdays  previous     poutcome  \\\n",
       "0   may         mon  ...  0.112969  31.606961       0.0  nonexistent   \n",
       "1   may         mon  ...  0.112969  31.606961       0.0  nonexistent   \n",
       "2   may         mon  ...  0.112969  31.606961       0.0  nonexistent   \n",
       "3   may         mon  ...  0.112969  31.606961       0.0  nonexistent   \n",
       "4   may         mon  ...  0.112969  31.606961       0.0  nonexistent   \n",
       "\n",
       "  emp.var.rate  cons.price.idx  cons.conf.idx  euribor3m  nr.employed  y  \n",
       "0          1.1          93.994          -36.4      4.857       5191.0  0  \n",
       "1          1.1          93.994          -36.4      4.857       5191.0  0  \n",
       "2          1.1          93.994          -36.4      4.857       5191.0  0  \n",
       "3          1.1          93.994          -36.4      4.857       5191.0  0  \n",
       "4          1.1          93.994          -36.4      4.857       5191.0  0  \n",
       "\n",
       "[5 rows x 21 columns]"
      ]
     },
     "execution_count": 73,
     "metadata": {},
     "output_type": "execute_result"
    }
   ],
   "source": [
    "bank_df2.replace('unknown', np.nan, regex=True,inplace=True)\n",
    "bank_df2.head()"
   ]
  },
  {
   "cell_type": "code",
   "execution_count": 74,
   "metadata": {},
   "outputs": [
    {
     "data": {
      "text/plain": [
       "Text(0, 0.5, 'NAs')"
      ]
     },
     "execution_count": 74,
     "metadata": {},
     "output_type": "execute_result"
    },
    {
     "data": {
      "image/png": "[encoded data removed]",
      "text/plain": [
       "<Figure size 432x288 with 1 Axes>"
      ]
     },
     "metadata": {
      "needs_background": "light"
     },
     "output_type": "display_data"
    }
   ],
   "source": [
    "bank_df2.isna().sum().plot.bar()\n",
    "plt.ylabel(\"NAs\")"
   ]
  },
  {
   "cell_type": "code",
   "execution_count": 75,
   "metadata": {},
   "outputs": [
    {
     "name": "stdout",
     "output_type": "stream",
     "text": [
      "Se eliminaron  10700  instancias por los Nan\n",
      "Equivale a un   25.98  % del dataset original\n",
      "Tamaño del dataset actual =  30488\n"
     ]
    }
   ],
   "source": [
    "eliminacion = bank_df2.copy()\n",
    "eliminacion = eliminacion.dropna()\n",
    "print('Se eliminaron ',bank_df2.shape[0]-eliminacion.shape[0],' instancias por los Nan')\n",
    "print('Equivale a un  ',round(((bank_df2.shape[0]-eliminacion.shape[0])/bank_df2.shape[0])*100,2),' % del dataset original')\n",
    "print( 'Tamaño del dataset actual = ',eliminacion.shape[0])"
   ]
  },
  {
   "cell_type": "code",
   "execution_count": 76,
   "metadata": {},
   "outputs": [],
   "source": [
    "bank_df3 = eliminacion.copy()\n",
    "bank_df3 = bank_df3.drop(\"default\", axis=1)"
   ]
  },
  {
   "cell_type": "code",
   "execution_count": 77,
   "metadata": {},
   "outputs": [
    {
     "data": {
      "text/html": [
       "<div>\n",
       "<style scoped>\n",
       "    .dataframe tbody tr th:only-of-type {\n",
       "        vertical-align: middle;\n",
       "    }\n",
       "\n",
       "    .dataframe tbody tr th {\n",
       "        vertical-align: top;\n",
       "    }\n",
       "\n",
       "    .dataframe thead th {\n",
       "        text-align: right;\n",
       "    }\n",
       "</style>\n",
       "<table border=\"1\" class=\"dataframe\">\n",
       "  <thead>\n",
       "    <tr style=\"text-align: right;\">\n",
       "      <th></th>\n",
       "      <th>age</th>\n",
       "      <th>job</th>\n",
       "      <th>marital</th>\n",
       "      <th>education</th>\n",
       "      <th>housing</th>\n",
       "      <th>loan</th>\n",
       "      <th>contact</th>\n",
       "      <th>month</th>\n",
       "      <th>day_of_week</th>\n",
       "      <th>duration</th>\n",
       "      <th>campaign</th>\n",
       "      <th>pdays</th>\n",
       "      <th>previous</th>\n",
       "      <th>poutcome</th>\n",
       "      <th>emp.var.rate</th>\n",
       "      <th>cons.price.idx</th>\n",
       "      <th>cons.conf.idx</th>\n",
       "      <th>euribor3m</th>\n",
       "      <th>nr.employed</th>\n",
       "      <th>y</th>\n",
       "    </tr>\n",
       "  </thead>\n",
       "  <tbody>\n",
       "    <tr>\n",
       "      <th>0</th>\n",
       "      <td>0.720001</td>\n",
       "      <td>housemaid</td>\n",
       "      <td>married</td>\n",
       "      <td>basic.4y</td>\n",
       "      <td>no</td>\n",
       "      <td>no</td>\n",
       "      <td>telephone</td>\n",
       "      <td>may</td>\n",
       "      <td>mon</td>\n",
       "      <td>0.013228</td>\n",
       "      <td>0.112969</td>\n",
       "      <td>31.606961</td>\n",
       "      <td>0.0</td>\n",
       "      <td>nonexistent</td>\n",
       "      <td>1.1</td>\n",
       "      <td>93.994</td>\n",
       "      <td>-36.4</td>\n",
       "      <td>4.857</td>\n",
       "      <td>5191.0</td>\n",
       "      <td>0</td>\n",
       "    </tr>\n",
       "    <tr>\n",
       "      <th>2</th>\n",
       "      <td>-0.212528</td>\n",
       "      <td>services</td>\n",
       "      <td>married</td>\n",
       "      <td>high.school</td>\n",
       "      <td>yes</td>\n",
       "      <td>no</td>\n",
       "      <td>telephone</td>\n",
       "      <td>may</td>\n",
       "      <td>mon</td>\n",
       "      <td>0.013228</td>\n",
       "      <td>0.112969</td>\n",
       "      <td>31.606961</td>\n",
       "      <td>0.0</td>\n",
       "      <td>nonexistent</td>\n",
       "      <td>1.1</td>\n",
       "      <td>93.994</td>\n",
       "      <td>-36.4</td>\n",
       "      <td>4.857</td>\n",
       "      <td>5191.0</td>\n",
       "      <td>0</td>\n",
       "    </tr>\n",
       "    <tr>\n",
       "      <th>3</th>\n",
       "      <td>-0.373811</td>\n",
       "      <td>admin.</td>\n",
       "      <td>married</td>\n",
       "      <td>basic.6y</td>\n",
       "      <td>no</td>\n",
       "      <td>no</td>\n",
       "      <td>telephone</td>\n",
       "      <td>may</td>\n",
       "      <td>mon</td>\n",
       "      <td>-0.665267</td>\n",
       "      <td>0.112969</td>\n",
       "      <td>31.606961</td>\n",
       "      <td>0.0</td>\n",
       "      <td>nonexistent</td>\n",
       "      <td>1.1</td>\n",
       "      <td>93.994</td>\n",
       "      <td>-36.4</td>\n",
       "      <td>4.857</td>\n",
       "      <td>5191.0</td>\n",
       "      <td>0</td>\n",
       "    </tr>\n",
       "    <tr>\n",
       "      <th>4</th>\n",
       "      <td>0.720001</td>\n",
       "      <td>services</td>\n",
       "      <td>married</td>\n",
       "      <td>high.school</td>\n",
       "      <td>no</td>\n",
       "      <td>yes</td>\n",
       "      <td>telephone</td>\n",
       "      <td>may</td>\n",
       "      <td>mon</td>\n",
       "      <td>0.206656</td>\n",
       "      <td>0.112969</td>\n",
       "      <td>31.606961</td>\n",
       "      <td>0.0</td>\n",
       "      <td>nonexistent</td>\n",
       "      <td>1.1</td>\n",
       "      <td>93.994</td>\n",
       "      <td>-36.4</td>\n",
       "      <td>4.857</td>\n",
       "      <td>5191.0</td>\n",
       "      <td>0</td>\n",
       "    </tr>\n",
       "    <tr>\n",
       "      <th>6</th>\n",
       "      <td>0.720001</td>\n",
       "      <td>admin.</td>\n",
       "      <td>married</td>\n",
       "      <td>professional.course</td>\n",
       "      <td>no</td>\n",
       "      <td>no</td>\n",
       "      <td>telephone</td>\n",
       "      <td>may</td>\n",
       "      <td>mon</td>\n",
       "      <td>-1.172641</td>\n",
       "      <td>0.112969</td>\n",
       "      <td>31.606961</td>\n",
       "      <td>0.0</td>\n",
       "      <td>nonexistent</td>\n",
       "      <td>1.1</td>\n",
       "      <td>93.994</td>\n",
       "      <td>-36.4</td>\n",
       "      <td>4.857</td>\n",
       "      <td>5191.0</td>\n",
       "      <td>0</td>\n",
       "    </tr>\n",
       "  </tbody>\n",
       "</table>\n",
       "</div>"
      ],
      "text/plain": [
       "        age        job  marital            education housing loan    contact  \\\n",
       "0  0.720001  housemaid  married             basic.4y      no   no  telephone   \n",
       "2 -0.212528   services  married          high.school     yes   no  telephone   \n",
       "3 -0.373811     admin.  married             basic.6y      no   no  telephone   \n",
       "4  0.720001   services  married          high.school      no  yes  telephone   \n",
       "6  0.720001     admin.  married  professional.course      no   no  telephone   \n",
       "\n",
       "  month day_of_week  duration  campaign      pdays  previous     poutcome  \\\n",
       "0   may         mon  0.013228  0.112969  31.606961       0.0  nonexistent   \n",
       "2   may         mon  0.013228  0.112969  31.606961       0.0  nonexistent   \n",
       "3   may         mon -0.665267  0.112969  31.606961       0.0  nonexistent   \n",
       "4   may         mon  0.206656  0.112969  31.606961       0.0  nonexistent   \n",
       "6   may         mon -1.172641  0.112969  31.606961       0.0  nonexistent   \n",
       "\n",
       "   emp.var.rate  cons.price.idx  cons.conf.idx  euribor3m  nr.employed  y  \n",
       "0           1.1          93.994          -36.4      4.857       5191.0  0  \n",
       "2           1.1          93.994          -36.4      4.857       5191.0  0  \n",
       "3           1.1          93.994          -36.4      4.857       5191.0  0  \n",
       "4           1.1          93.994          -36.4      4.857       5191.0  0  \n",
       "6           1.1          93.994          -36.4      4.857       5191.0  0  "
      ]
     },
     "execution_count": 77,
     "metadata": {},
     "output_type": "execute_result"
    }
   ],
   "source": [
    "bank_df3.head()"
   ]
  },
  {
   "cell_type": "markdown",
   "metadata": {},
   "source": [
    "## **Numerical features analysis**"
   ]
  },
  {
   "cell_type": "code",
   "execution_count": 78,
   "metadata": {},
   "outputs": [
    {
     "data": {
      "text/html": [
       "<div>\n",
       "<style scoped>\n",
       "    .dataframe tbody tr th:only-of-type {\n",
       "        vertical-align: middle;\n",
       "    }\n",
       "\n",
       "    .dataframe tbody tr th {\n",
       "        vertical-align: top;\n",
       "    }\n",
       "\n",
       "    .dataframe thead th {\n",
       "        text-align: right;\n",
       "    }\n",
       "</style>\n",
       "<table border=\"1\" class=\"dataframe\">\n",
       "  <thead>\n",
       "    <tr style=\"text-align: right;\">\n",
       "      <th></th>\n",
       "      <th>age</th>\n",
       "      <th>duration</th>\n",
       "      <th>campaign</th>\n",
       "      <th>pdays</th>\n",
       "      <th>previous</th>\n",
       "      <th>emp.var.rate</th>\n",
       "      <th>cons.price.idx</th>\n",
       "      <th>cons.conf.idx</th>\n",
       "      <th>euribor3m</th>\n",
       "      <th>nr.employed</th>\n",
       "      <th>y</th>\n",
       "    </tr>\n",
       "  </thead>\n",
       "  <tbody>\n",
       "    <tr>\n",
       "      <th>count</th>\n",
       "      <td>30488.000000</td>\n",
       "      <td>30488.000000</td>\n",
       "      <td>30488.000000</td>\n",
       "      <td>30488.000000</td>\n",
       "      <td>30488.000000</td>\n",
       "      <td>30488.000000</td>\n",
       "      <td>30488.000000</td>\n",
       "      <td>30488.000000</td>\n",
       "      <td>30488.000000</td>\n",
       "      <td>30488.000000</td>\n",
       "      <td>30488.000000</td>\n",
       "    </tr>\n",
       "    <tr>\n",
       "      <th>mean</th>\n",
       "      <td>-0.057266</td>\n",
       "      <td>-0.942433</td>\n",
       "      <td>-0.110333</td>\n",
       "      <td>30.349027</td>\n",
       "      <td>0.168476</td>\n",
       "      <td>-0.071510</td>\n",
       "      <td>93.523311</td>\n",
       "      <td>-40.602263</td>\n",
       "      <td>3.459938</td>\n",
       "      <td>5160.813409</td>\n",
       "      <td>0.126574</td>\n",
       "    </tr>\n",
       "    <tr>\n",
       "      <th>std</th>\n",
       "      <td>0.345749</td>\n",
       "      <td>2.093120</td>\n",
       "      <td>0.284022</td>\n",
       "      <td>5.938858</td>\n",
       "      <td>0.407301</td>\n",
       "      <td>1.610399</td>\n",
       "      <td>0.585374</td>\n",
       "      <td>4.789249</td>\n",
       "      <td>1.777231</td>\n",
       "      <td>75.158065</td>\n",
       "      <td>0.332501</td>\n",
       "    </tr>\n",
       "    <tr>\n",
       "      <th>min</th>\n",
       "      <td>-0.426458</td>\n",
       "      <td>-6.274154</td>\n",
       "      <td>-0.780935</td>\n",
       "      <td>0.000000</td>\n",
       "      <td>0.000000</td>\n",
       "      <td>-3.400000</td>\n",
       "      <td>92.201000</td>\n",
       "      <td>-50.800000</td>\n",
       "      <td>0.634000</td>\n",
       "      <td>4963.600000</td>\n",
       "      <td>0.000000</td>\n",
       "    </tr>\n",
       "    <tr>\n",
       "      <th>25%</th>\n",
       "      <td>-0.368642</td>\n",
       "      <td>-1.526849</td>\n",
       "      <td>-0.289139</td>\n",
       "      <td>31.606961</td>\n",
       "      <td>0.000000</td>\n",
       "      <td>-1.800000</td>\n",
       "      <td>93.075000</td>\n",
       "      <td>-42.700000</td>\n",
       "      <td>1.313000</td>\n",
       "      <td>5099.100000</td>\n",
       "      <td>0.000000</td>\n",
       "    </tr>\n",
       "    <tr>\n",
       "      <th>50%</th>\n",
       "      <td>-0.182202</td>\n",
       "      <td>-0.319160</td>\n",
       "      <td>-0.052931</td>\n",
       "      <td>31.606961</td>\n",
       "      <td>0.000000</td>\n",
       "      <td>1.100000</td>\n",
       "      <td>93.444000</td>\n",
       "      <td>-41.800000</td>\n",
       "      <td>4.856000</td>\n",
       "      <td>5191.000000</td>\n",
       "      <td>0.000000</td>\n",
       "    </tr>\n",
       "    <tr>\n",
       "      <th>75%</th>\n",
       "      <td>0.060922</td>\n",
       "      <td>0.206656</td>\n",
       "      <td>0.112969</td>\n",
       "      <td>31.606961</td>\n",
       "      <td>0.000000</td>\n",
       "      <td>1.400000</td>\n",
       "      <td>93.994000</td>\n",
       "      <td>-36.400000</td>\n",
       "      <td>4.961000</td>\n",
       "      <td>5228.100000</td>\n",
       "      <td>0.000000</td>\n",
       "    </tr>\n",
       "    <tr>\n",
       "      <th>max</th>\n",
       "      <td>0.720001</td>\n",
       "      <td>1.904707</td>\n",
       "      <td>0.112969</td>\n",
       "      <td>31.606961</td>\n",
       "      <td>2.645751</td>\n",
       "      <td>1.400000</td>\n",
       "      <td>94.767000</td>\n",
       "      <td>-26.900000</td>\n",
       "      <td>5.045000</td>\n",
       "      <td>5228.100000</td>\n",
       "      <td>1.000000</td>\n",
       "    </tr>\n",
       "  </tbody>\n",
       "</table>\n",
       "</div>"
      ],
      "text/plain": [
       "                age      duration      campaign         pdays      previous  \\\n",
       "count  30488.000000  30488.000000  30488.000000  30488.000000  30488.000000   \n",
       "mean      -0.057266     -0.942433     -0.110333     30.349027      0.168476   \n",
       "std        0.345749      2.093120      0.284022      5.938858      0.407301   \n",
       "min       -0.426458     -6.274154     -0.780935      0.000000      0.000000   \n",
       "25%       -0.368642     -1.526849     -0.289139     31.606961      0.000000   \n",
       "50%       -0.182202     -0.319160     -0.052931     31.606961      0.000000   \n",
       "75%        0.060922      0.206656      0.112969     31.606961      0.000000   \n",
       "max        0.720001      1.904707      0.112969     31.606961      2.645751   \n",
       "\n",
       "       emp.var.rate  cons.price.idx  cons.conf.idx     euribor3m  \\\n",
       "count  30488.000000    30488.000000   30488.000000  30488.000000   \n",
       "mean      -0.071510       93.523311     -40.602263      3.459938   \n",
       "std        1.610399        0.585374       4.789249      1.777231   \n",
       "min       -3.400000       92.201000     -50.800000      0.634000   \n",
       "25%       -1.800000       93.075000     -42.700000      1.313000   \n",
       "50%        1.100000       93.444000     -41.800000      4.856000   \n",
       "75%        1.400000       93.994000     -36.400000      4.961000   \n",
       "max        1.400000       94.767000     -26.900000      5.045000   \n",
       "\n",
       "        nr.employed             y  \n",
       "count  30488.000000  30488.000000  \n",
       "mean    5160.813409      0.126574  \n",
       "std       75.158065      0.332501  \n",
       "min     4963.600000      0.000000  \n",
       "25%     5099.100000      0.000000  \n",
       "50%     5191.000000      0.000000  \n",
       "75%     5228.100000      0.000000  \n",
       "max     5228.100000      1.000000  "
      ]
     },
     "execution_count": 78,
     "metadata": {},
     "output_type": "execute_result"
    }
   ],
   "source": [
    "#Numerical features\n",
    "\n",
    "numerical = bank_df3.select_dtypes(include=[np.number])\n",
    "numerical_cols = numerical.columns.to_list()\n",
    "numerical.describe()"
   ]
  },
  {
   "cell_type": "code",
   "execution_count": 79,
   "metadata": {},
   "outputs": [
    {
     "data": {
      "image/png": "[encoded data removed]",
      "text/plain": [
       "<Figure size 720x720 with 12 Axes>"
      ]
     },
     "metadata": {
      "needs_background": "light"
     },
     "output_type": "display_data"
    }
   ],
   "source": [
    "numerical.hist(bins = 15, figsize = (10,10), xlabelsize = 0.1, ylabelsize = 0.1)\n",
    "plt.show()"
   ]
  },
  {
   "cell_type": "code",
   "execution_count": 80,
   "metadata": {},
   "outputs": [],
   "source": [
    "#bank_df4 = bank_df3.drop([\"pdays\", \"previous\"], axis=1)"
   ]
  },
  {
   "cell_type": "code",
   "execution_count": 81,
   "metadata": {},
   "outputs": [
    {
     "data": {
      "text/html": [
       "<div>\n",
       "<style scoped>\n",
       "    .dataframe tbody tr th:only-of-type {\n",
       "        vertical-align: middle;\n",
       "    }\n",
       "\n",
       "    .dataframe tbody tr th {\n",
       "        vertical-align: top;\n",
       "    }\n",
       "\n",
       "    .dataframe thead th {\n",
       "        text-align: right;\n",
       "    }\n",
       "</style>\n",
       "<table border=\"1\" class=\"dataframe\">\n",
       "  <thead>\n",
       "    <tr style=\"text-align: right;\">\n",
       "      <th></th>\n",
       "      <th>age</th>\n",
       "      <th>job</th>\n",
       "      <th>marital</th>\n",
       "      <th>education</th>\n",
       "      <th>housing</th>\n",
       "      <th>loan</th>\n",
       "      <th>contact</th>\n",
       "      <th>month</th>\n",
       "      <th>day_of_week</th>\n",
       "      <th>duration</th>\n",
       "      <th>campaign</th>\n",
       "      <th>pdays</th>\n",
       "      <th>previous</th>\n",
       "      <th>poutcome</th>\n",
       "      <th>emp.var.rate</th>\n",
       "      <th>cons.price.idx</th>\n",
       "      <th>cons.conf.idx</th>\n",
       "      <th>euribor3m</th>\n",
       "      <th>nr.employed</th>\n",
       "      <th>y</th>\n",
       "    </tr>\n",
       "  </thead>\n",
       "  <tbody>\n",
       "    <tr>\n",
       "      <th>0</th>\n",
       "      <td>0.720001</td>\n",
       "      <td>housemaid</td>\n",
       "      <td>married</td>\n",
       "      <td>basic.4y</td>\n",
       "      <td>no</td>\n",
       "      <td>no</td>\n",
       "      <td>telephone</td>\n",
       "      <td>may</td>\n",
       "      <td>mon</td>\n",
       "      <td>0.013228</td>\n",
       "      <td>0.112969</td>\n",
       "      <td>31.606961</td>\n",
       "      <td>0.0</td>\n",
       "      <td>nonexistent</td>\n",
       "      <td>1.1</td>\n",
       "      <td>93.994</td>\n",
       "      <td>-36.4</td>\n",
       "      <td>4.857</td>\n",
       "      <td>5191.0</td>\n",
       "      <td>0</td>\n",
       "    </tr>\n",
       "    <tr>\n",
       "      <th>2</th>\n",
       "      <td>-0.212528</td>\n",
       "      <td>services</td>\n",
       "      <td>married</td>\n",
       "      <td>high.school</td>\n",
       "      <td>yes</td>\n",
       "      <td>no</td>\n",
       "      <td>telephone</td>\n",
       "      <td>may</td>\n",
       "      <td>mon</td>\n",
       "      <td>0.013228</td>\n",
       "      <td>0.112969</td>\n",
       "      <td>31.606961</td>\n",
       "      <td>0.0</td>\n",
       "      <td>nonexistent</td>\n",
       "      <td>1.1</td>\n",
       "      <td>93.994</td>\n",
       "      <td>-36.4</td>\n",
       "      <td>4.857</td>\n",
       "      <td>5191.0</td>\n",
       "      <td>0</td>\n",
       "    </tr>\n",
       "    <tr>\n",
       "      <th>3</th>\n",
       "      <td>-0.373811</td>\n",
       "      <td>admin.</td>\n",
       "      <td>married</td>\n",
       "      <td>basic.6y</td>\n",
       "      <td>no</td>\n",
       "      <td>no</td>\n",
       "      <td>telephone</td>\n",
       "      <td>may</td>\n",
       "      <td>mon</td>\n",
       "      <td>-0.665267</td>\n",
       "      <td>0.112969</td>\n",
       "      <td>31.606961</td>\n",
       "      <td>0.0</td>\n",
       "      <td>nonexistent</td>\n",
       "      <td>1.1</td>\n",
       "      <td>93.994</td>\n",
       "      <td>-36.4</td>\n",
       "      <td>4.857</td>\n",
       "      <td>5191.0</td>\n",
       "      <td>0</td>\n",
       "    </tr>\n",
       "    <tr>\n",
       "      <th>4</th>\n",
       "      <td>0.720001</td>\n",
       "      <td>services</td>\n",
       "      <td>married</td>\n",
       "      <td>high.school</td>\n",
       "      <td>no</td>\n",
       "      <td>yes</td>\n",
       "      <td>telephone</td>\n",
       "      <td>may</td>\n",
       "      <td>mon</td>\n",
       "      <td>0.206656</td>\n",
       "      <td>0.112969</td>\n",
       "      <td>31.606961</td>\n",
       "      <td>0.0</td>\n",
       "      <td>nonexistent</td>\n",
       "      <td>1.1</td>\n",
       "      <td>93.994</td>\n",
       "      <td>-36.4</td>\n",
       "      <td>4.857</td>\n",
       "      <td>5191.0</td>\n",
       "      <td>0</td>\n",
       "    </tr>\n",
       "    <tr>\n",
       "      <th>6</th>\n",
       "      <td>0.720001</td>\n",
       "      <td>admin.</td>\n",
       "      <td>married</td>\n",
       "      <td>professional.course</td>\n",
       "      <td>no</td>\n",
       "      <td>no</td>\n",
       "      <td>telephone</td>\n",
       "      <td>may</td>\n",
       "      <td>mon</td>\n",
       "      <td>-1.172641</td>\n",
       "      <td>0.112969</td>\n",
       "      <td>31.606961</td>\n",
       "      <td>0.0</td>\n",
       "      <td>nonexistent</td>\n",
       "      <td>1.1</td>\n",
       "      <td>93.994</td>\n",
       "      <td>-36.4</td>\n",
       "      <td>4.857</td>\n",
       "      <td>5191.0</td>\n",
       "      <td>0</td>\n",
       "    </tr>\n",
       "  </tbody>\n",
       "</table>\n",
       "</div>"
      ],
      "text/plain": [
       "        age        job  marital            education housing loan    contact  \\\n",
       "0  0.720001  housemaid  married             basic.4y      no   no  telephone   \n",
       "2 -0.212528   services  married          high.school     yes   no  telephone   \n",
       "3 -0.373811     admin.  married             basic.6y      no   no  telephone   \n",
       "4  0.720001   services  married          high.school      no  yes  telephone   \n",
       "6  0.720001     admin.  married  professional.course      no   no  telephone   \n",
       "\n",
       "  month day_of_week  duration  campaign      pdays  previous     poutcome  \\\n",
       "0   may         mon  0.013228  0.112969  31.606961       0.0  nonexistent   \n",
       "2   may         mon  0.013228  0.112969  31.606961       0.0  nonexistent   \n",
       "3   may         mon -0.665267  0.112969  31.606961       0.0  nonexistent   \n",
       "4   may         mon  0.206656  0.112969  31.606961       0.0  nonexistent   \n",
       "6   may         mon -1.172641  0.112969  31.606961       0.0  nonexistent   \n",
       "\n",
       "   emp.var.rate  cons.price.idx  cons.conf.idx  euribor3m  nr.employed  y  \n",
       "0           1.1          93.994          -36.4      4.857       5191.0  0  \n",
       "2           1.1          93.994          -36.4      4.857       5191.0  0  \n",
       "3           1.1          93.994          -36.4      4.857       5191.0  0  \n",
       "4           1.1          93.994          -36.4      4.857       5191.0  0  \n",
       "6           1.1          93.994          -36.4      4.857       5191.0  0  "
      ]
     },
     "execution_count": 81,
     "metadata": {},
     "output_type": "execute_result"
    }
   ],
   "source": [
    "bank_df3.head()"
   ]
  },
  {
   "cell_type": "code",
   "execution_count": 82,
   "metadata": {},
   "outputs": [
    {
     "data": {
      "text/plain": [
       "(30488, 20)"
      ]
     },
     "execution_count": 82,
     "metadata": {},
     "output_type": "execute_result"
    }
   ],
   "source": [
    "bank_df3.shape"
   ]
  },
  {
   "cell_type": "markdown",
   "metadata": {},
   "source": [
    "Final dataframe"
   ]
  },
  {
   "cell_type": "code",
   "execution_count": 83,
   "metadata": {},
   "outputs": [],
   "source": [
    "final_df = bank_df3.copy()"
   ]
  },
  {
   "cell_type": "code",
   "execution_count": 84,
   "metadata": {},
   "outputs": [
    {
     "name": "stdout",
     "output_type": "stream",
     "text": [
      "<class 'pandas.core.frame.DataFrame'>\n",
      "Int64Index: 30488 entries, 0 to 41187\n",
      "Data columns (total 20 columns):\n",
      " #   Column          Non-Null Count  Dtype  \n",
      "---  ------          --------------  -----  \n",
      " 0   age             30488 non-null  float64\n",
      " 1   job             30488 non-null  object \n",
      " 2   marital         30488 non-null  object \n",
      " 3   education       30488 non-null  object \n",
      " 4   housing         30488 non-null  object \n",
      " 5   loan            30488 non-null  object \n",
      " 6   contact         30488 non-null  object \n",
      " 7   month           30488 non-null  object \n",
      " 8   day_of_week     30488 non-null  object \n",
      " 9   duration        30488 non-null  float64\n",
      " 10  campaign        30488 non-null  float64\n",
      " 11  pdays           30488 non-null  float64\n",
      " 12  previous        30488 non-null  float64\n",
      " 13  poutcome        30488 non-null  object \n",
      " 14  emp.var.rate    30488 non-null  float64\n",
      " 15  cons.price.idx  30488 non-null  float64\n",
      " 16  cons.conf.idx   30488 non-null  float64\n",
      " 17  euribor3m       30488 non-null  float64\n",
      " 18  nr.employed     30488 non-null  float64\n",
      " 19  y               30488 non-null  int64  \n",
      "dtypes: float64(10), int64(1), object(9)\n",
      "memory usage: 4.9+ MB\n"
     ]
    }
   ],
   "source": [
    "final_df.info()"
   ]
  },
  {
   "cell_type": "code",
   "execution_count": 85,
   "metadata": {},
   "outputs": [
    {
     "data": {
      "text/plain": [
       "['job',\n",
       " 'marital',\n",
       " 'education',\n",
       " 'housing',\n",
       " 'loan',\n",
       " 'contact',\n",
       " 'month',\n",
       " 'day_of_week',\n",
       " 'poutcome']"
      ]
     },
     "execution_count": 85,
     "metadata": {},
     "output_type": "execute_result"
    }
   ],
   "source": [
    "categorical_cols = final_df.select_dtypes(include=\"object\").columns.to_list()\n",
    "#categorical_cols.remove(\"y\")\n",
    "categorical_cols"
   ]
  },
  {
   "cell_type": "code",
   "execution_count": 86,
   "metadata": {},
   "outputs": [
    {
     "data": {
      "text/plain": [
       "['age',\n",
       " 'duration',\n",
       " 'campaign',\n",
       " 'pdays',\n",
       " 'previous',\n",
       " 'emp.var.rate',\n",
       " 'cons.price.idx',\n",
       " 'cons.conf.idx',\n",
       " 'euribor3m',\n",
       " 'nr.employed']"
      ]
     },
     "execution_count": 86,
     "metadata": {},
     "output_type": "execute_result"
    }
   ],
   "source": [
    "numerical_cols = final_df.select_dtypes(include=[np.number]).columns.to_list()\n",
    "numerical_cols.remove(\"y\")\n",
    "numerical_cols"
   ]
  },
  {
   "cell_type": "markdown",
   "metadata": {},
   "source": [
    "## **Modeling**"
   ]
  },
  {
   "cell_type": "code",
   "execution_count": 87,
   "metadata": {},
   "outputs": [],
   "source": [
    "from pycaret.classification import *"
   ]
  },
  {
   "cell_type": "code",
   "execution_count": 89,
   "metadata": {},
   "outputs": [
    {
     "data": {
      "text/html": [
       "<style  type=\"text/css\" >\n",
       "#T_3363d3a8_b383_11eb_b7a2_dd0b10f15b46row29_col1,#T_3363d3a8_b383_11eb_b7a2_dd0b10f15b46row31_col1,#T_3363d3a8_b383_11eb_b7a2_dd0b10f15b46row42_col1,#T_3363d3a8_b383_11eb_b7a2_dd0b10f15b46row57_col1{\n",
       "            background-color:  lightgreen;\n",
       "        }</style><table id=\"T_3363d3a8_b383_11eb_b7a2_dd0b10f15b46\" ><thead>    <tr>        <th class=\"blank level0\" ></th>        <th class=\"col_heading level0 col0\" >Description</th>        <th class=\"col_heading level0 col1\" >Value</th>    </tr></thead><tbody>\n",
       "                <tr>\n",
       "                        <th id=\"T_3363d3a8_b383_11eb_b7a2_dd0b10f15b46level0_row0\" class=\"row_heading level0 row0\" >0</th>\n",
       "                        <td id=\"T_3363d3a8_b383_11eb_b7a2_dd0b10f15b46row0_col0\" class=\"data row0 col0\" >session_id</td>\n",
       "                        <td id=\"T_3363d3a8_b383_11eb_b7a2_dd0b10f15b46row0_col1\" class=\"data row0 col1\" >234</td>\n",
       "            </tr>\n",
       "            <tr>\n",
       "                        <th id=\"T_3363d3a8_b383_11eb_b7a2_dd0b10f15b46level0_row1\" class=\"row_heading level0 row1\" >1</th>\n",
       "                        <td id=\"T_3363d3a8_b383_11eb_b7a2_dd0b10f15b46row1_col0\" class=\"data row1 col0\" >Target</td>\n",
       "                        <td id=\"T_3363d3a8_b383_11eb_b7a2_dd0b10f15b46row1_col1\" class=\"data row1 col1\" >y</td>\n",
       "            </tr>\n",
       "            <tr>\n",
       "                        <th id=\"T_3363d3a8_b383_11eb_b7a2_dd0b10f15b46level0_row2\" class=\"row_heading level0 row2\" >2</th>\n",
       "                        <td id=\"T_3363d3a8_b383_11eb_b7a2_dd0b10f15b46row2_col0\" class=\"data row2 col0\" >Target Type</td>\n",
       "                        <td id=\"T_3363d3a8_b383_11eb_b7a2_dd0b10f15b46row2_col1\" class=\"data row2 col1\" >Binary</td>\n",
       "            </tr>\n",
       "            <tr>\n",
       "                        <th id=\"T_3363d3a8_b383_11eb_b7a2_dd0b10f15b46level0_row3\" class=\"row_heading level0 row3\" >3</th>\n",
       "                        <td id=\"T_3363d3a8_b383_11eb_b7a2_dd0b10f15b46row3_col0\" class=\"data row3 col0\" >Label Encoded</td>\n",
       "                        <td id=\"T_3363d3a8_b383_11eb_b7a2_dd0b10f15b46row3_col1\" class=\"data row3 col1\" >0: 0, 1: 1</td>\n",
       "            </tr>\n",
       "            <tr>\n",
       "                        <th id=\"T_3363d3a8_b383_11eb_b7a2_dd0b10f15b46level0_row4\" class=\"row_heading level0 row4\" >4</th>\n",
       "                        <td id=\"T_3363d3a8_b383_11eb_b7a2_dd0b10f15b46row4_col0\" class=\"data row4 col0\" >Original Data</td>\n",
       "                        <td id=\"T_3363d3a8_b383_11eb_b7a2_dd0b10f15b46row4_col1\" class=\"data row4 col1\" >(30488, 20)</td>\n",
       "            </tr>\n",
       "            <tr>\n",
       "                        <th id=\"T_3363d3a8_b383_11eb_b7a2_dd0b10f15b46level0_row5\" class=\"row_heading level0 row5\" >5</th>\n",
       "                        <td id=\"T_3363d3a8_b383_11eb_b7a2_dd0b10f15b46row5_col0\" class=\"data row5 col0\" >Missing Values</td>\n",
       "                        <td id=\"T_3363d3a8_b383_11eb_b7a2_dd0b10f15b46row5_col1\" class=\"data row5 col1\" >False</td>\n",
       "            </tr>\n",
       "            <tr>\n",
       "                        <th id=\"T_3363d3a8_b383_11eb_b7a2_dd0b10f15b46level0_row6\" class=\"row_heading level0 row6\" >6</th>\n",
       "                        <td id=\"T_3363d3a8_b383_11eb_b7a2_dd0b10f15b46row6_col0\" class=\"data row6 col0\" >Numeric Features</td>\n",
       "                        <td id=\"T_3363d3a8_b383_11eb_b7a2_dd0b10f15b46row6_col1\" class=\"data row6 col1\" >10</td>\n",
       "            </tr>\n",
       "            <tr>\n",
       "                        <th id=\"T_3363d3a8_b383_11eb_b7a2_dd0b10f15b46level0_row7\" class=\"row_heading level0 row7\" >7</th>\n",
       "                        <td id=\"T_3363d3a8_b383_11eb_b7a2_dd0b10f15b46row7_col0\" class=\"data row7 col0\" >Categorical Features</td>\n",
       "                        <td id=\"T_3363d3a8_b383_11eb_b7a2_dd0b10f15b46row7_col1\" class=\"data row7 col1\" >9</td>\n",
       "            </tr>\n",
       "            <tr>\n",
       "                        <th id=\"T_3363d3a8_b383_11eb_b7a2_dd0b10f15b46level0_row8\" class=\"row_heading level0 row8\" >8</th>\n",
       "                        <td id=\"T_3363d3a8_b383_11eb_b7a2_dd0b10f15b46row8_col0\" class=\"data row8 col0\" >Ordinal Features</td>\n",
       "                        <td id=\"T_3363d3a8_b383_11eb_b7a2_dd0b10f15b46row8_col1\" class=\"data row8 col1\" >False</td>\n",
       "            </tr>\n",
       "            <tr>\n",
       "                        <th id=\"T_3363d3a8_b383_11eb_b7a2_dd0b10f15b46level0_row9\" class=\"row_heading level0 row9\" >9</th>\n",
       "                        <td id=\"T_3363d3a8_b383_11eb_b7a2_dd0b10f15b46row9_col0\" class=\"data row9 col0\" >High Cardinality Features</td>\n",
       "                        <td id=\"T_3363d3a8_b383_11eb_b7a2_dd0b10f15b46row9_col1\" class=\"data row9 col1\" >False</td>\n",
       "            </tr>\n",
       "            <tr>\n",
       "                        <th id=\"T_3363d3a8_b383_11eb_b7a2_dd0b10f15b46level0_row10\" class=\"row_heading level0 row10\" >10</th>\n",
       "                        <td id=\"T_3363d3a8_b383_11eb_b7a2_dd0b10f15b46row10_col0\" class=\"data row10 col0\" >High Cardinality Method</td>\n",
       "                        <td id=\"T_3363d3a8_b383_11eb_b7a2_dd0b10f15b46row10_col1\" class=\"data row10 col1\" >None</td>\n",
       "            </tr>\n",
       "            <tr>\n",
       "                        <th id=\"T_3363d3a8_b383_11eb_b7a2_dd0b10f15b46level0_row11\" class=\"row_heading level0 row11\" >11</th>\n",
       "                        <td id=\"T_3363d3a8_b383_11eb_b7a2_dd0b10f15b46row11_col0\" class=\"data row11 col0\" >Transformed Train Set</td>\n",
       "                        <td id=\"T_3363d3a8_b383_11eb_b7a2_dd0b10f15b46row11_col1\" class=\"data row11 col1\" >(21341, 48)</td>\n",
       "            </tr>\n",
       "            <tr>\n",
       "                        <th id=\"T_3363d3a8_b383_11eb_b7a2_dd0b10f15b46level0_row12\" class=\"row_heading level0 row12\" >12</th>\n",
       "                        <td id=\"T_3363d3a8_b383_11eb_b7a2_dd0b10f15b46row12_col0\" class=\"data row12 col0\" >Transformed Test Set</td>\n",
       "                        <td id=\"T_3363d3a8_b383_11eb_b7a2_dd0b10f15b46row12_col1\" class=\"data row12 col1\" >(9147, 48)</td>\n",
       "            </tr>\n",
       "            <tr>\n",
       "                        <th id=\"T_3363d3a8_b383_11eb_b7a2_dd0b10f15b46level0_row13\" class=\"row_heading level0 row13\" >13</th>\n",
       "                        <td id=\"T_3363d3a8_b383_11eb_b7a2_dd0b10f15b46row13_col0\" class=\"data row13 col0\" >Shuffle Train-Test</td>\n",
       "                        <td id=\"T_3363d3a8_b383_11eb_b7a2_dd0b10f15b46row13_col1\" class=\"data row13 col1\" >True</td>\n",
       "            </tr>\n",
       "            <tr>\n",
       "                        <th id=\"T_3363d3a8_b383_11eb_b7a2_dd0b10f15b46level0_row14\" class=\"row_heading level0 row14\" >14</th>\n",
       "                        <td id=\"T_3363d3a8_b383_11eb_b7a2_dd0b10f15b46row14_col0\" class=\"data row14 col0\" >Stratify Train-Test</td>\n",
       "                        <td id=\"T_3363d3a8_b383_11eb_b7a2_dd0b10f15b46row14_col1\" class=\"data row14 col1\" >True</td>\n",
       "            </tr>\n",
       "            <tr>\n",
       "                        <th id=\"T_3363d3a8_b383_11eb_b7a2_dd0b10f15b46level0_row15\" class=\"row_heading level0 row15\" >15</th>\n",
       "                        <td id=\"T_3363d3a8_b383_11eb_b7a2_dd0b10f15b46row15_col0\" class=\"data row15 col0\" >Fold Generator</td>\n",
       "                        <td id=\"T_3363d3a8_b383_11eb_b7a2_dd0b10f15b46row15_col1\" class=\"data row15 col1\" >StratifiedKFold</td>\n",
       "            </tr>\n",
       "            <tr>\n",
       "                        <th id=\"T_3363d3a8_b383_11eb_b7a2_dd0b10f15b46level0_row16\" class=\"row_heading level0 row16\" >16</th>\n",
       "                        <td id=\"T_3363d3a8_b383_11eb_b7a2_dd0b10f15b46row16_col0\" class=\"data row16 col0\" >Fold Number</td>\n",
       "                        <td id=\"T_3363d3a8_b383_11eb_b7a2_dd0b10f15b46row16_col1\" class=\"data row16 col1\" >10</td>\n",
       "            </tr>\n",
       "            <tr>\n",
       "                        <th id=\"T_3363d3a8_b383_11eb_b7a2_dd0b10f15b46level0_row17\" class=\"row_heading level0 row17\" >17</th>\n",
       "                        <td id=\"T_3363d3a8_b383_11eb_b7a2_dd0b10f15b46row17_col0\" class=\"data row17 col0\" >CPU Jobs</td>\n",
       "                        <td id=\"T_3363d3a8_b383_11eb_b7a2_dd0b10f15b46row17_col1\" class=\"data row17 col1\" >-1</td>\n",
       "            </tr>\n",
       "            <tr>\n",
       "                        <th id=\"T_3363d3a8_b383_11eb_b7a2_dd0b10f15b46level0_row18\" class=\"row_heading level0 row18\" >18</th>\n",
       "                        <td id=\"T_3363d3a8_b383_11eb_b7a2_dd0b10f15b46row18_col0\" class=\"data row18 col0\" >Use GPU</td>\n",
       "                        <td id=\"T_3363d3a8_b383_11eb_b7a2_dd0b10f15b46row18_col1\" class=\"data row18 col1\" >False</td>\n",
       "            </tr>\n",
       "            <tr>\n",
       "                        <th id=\"T_3363d3a8_b383_11eb_b7a2_dd0b10f15b46level0_row19\" class=\"row_heading level0 row19\" >19</th>\n",
       "                        <td id=\"T_3363d3a8_b383_11eb_b7a2_dd0b10f15b46row19_col0\" class=\"data row19 col0\" >Log Experiment</td>\n",
       "                        <td id=\"T_3363d3a8_b383_11eb_b7a2_dd0b10f15b46row19_col1\" class=\"data row19 col1\" >False</td>\n",
       "            </tr>\n",
       "            <tr>\n",
       "                        <th id=\"T_3363d3a8_b383_11eb_b7a2_dd0b10f15b46level0_row20\" class=\"row_heading level0 row20\" >20</th>\n",
       "                        <td id=\"T_3363d3a8_b383_11eb_b7a2_dd0b10f15b46row20_col0\" class=\"data row20 col0\" >Experiment Name</td>\n",
       "                        <td id=\"T_3363d3a8_b383_11eb_b7a2_dd0b10f15b46row20_col1\" class=\"data row20 col1\" >clf-default-name</td>\n",
       "            </tr>\n",
       "            <tr>\n",
       "                        <th id=\"T_3363d3a8_b383_11eb_b7a2_dd0b10f15b46level0_row21\" class=\"row_heading level0 row21\" >21</th>\n",
       "                        <td id=\"T_3363d3a8_b383_11eb_b7a2_dd0b10f15b46row21_col0\" class=\"data row21 col0\" >USI</td>\n",
       "                        <td id=\"T_3363d3a8_b383_11eb_b7a2_dd0b10f15b46row21_col1\" class=\"data row21 col1\" >dad3</td>\n",
       "            </tr>\n",
       "            <tr>\n",
       "                        <th id=\"T_3363d3a8_b383_11eb_b7a2_dd0b10f15b46level0_row22\" class=\"row_heading level0 row22\" >22</th>\n",
       "                        <td id=\"T_3363d3a8_b383_11eb_b7a2_dd0b10f15b46row22_col0\" class=\"data row22 col0\" >Imputation Type</td>\n",
       "                        <td id=\"T_3363d3a8_b383_11eb_b7a2_dd0b10f15b46row22_col1\" class=\"data row22 col1\" >simple</td>\n",
       "            </tr>\n",
       "            <tr>\n",
       "                        <th id=\"T_3363d3a8_b383_11eb_b7a2_dd0b10f15b46level0_row23\" class=\"row_heading level0 row23\" >23</th>\n",
       "                        <td id=\"T_3363d3a8_b383_11eb_b7a2_dd0b10f15b46row23_col0\" class=\"data row23 col0\" >Iterative Imputation Iteration</td>\n",
       "                        <td id=\"T_3363d3a8_b383_11eb_b7a2_dd0b10f15b46row23_col1\" class=\"data row23 col1\" >None</td>\n",
       "            </tr>\n",
       "            <tr>\n",
       "                        <th id=\"T_3363d3a8_b383_11eb_b7a2_dd0b10f15b46level0_row24\" class=\"row_heading level0 row24\" >24</th>\n",
       "                        <td id=\"T_3363d3a8_b383_11eb_b7a2_dd0b10f15b46row24_col0\" class=\"data row24 col0\" >Numeric Imputer</td>\n",
       "                        <td id=\"T_3363d3a8_b383_11eb_b7a2_dd0b10f15b46row24_col1\" class=\"data row24 col1\" >mean</td>\n",
       "            </tr>\n",
       "            <tr>\n",
       "                        <th id=\"T_3363d3a8_b383_11eb_b7a2_dd0b10f15b46level0_row25\" class=\"row_heading level0 row25\" >25</th>\n",
       "                        <td id=\"T_3363d3a8_b383_11eb_b7a2_dd0b10f15b46row25_col0\" class=\"data row25 col0\" >Iterative Imputation Numeric Model</td>\n",
       "                        <td id=\"T_3363d3a8_b383_11eb_b7a2_dd0b10f15b46row25_col1\" class=\"data row25 col1\" >None</td>\n",
       "            </tr>\n",
       "            <tr>\n",
       "                        <th id=\"T_3363d3a8_b383_11eb_b7a2_dd0b10f15b46level0_row26\" class=\"row_heading level0 row26\" >26</th>\n",
       "                        <td id=\"T_3363d3a8_b383_11eb_b7a2_dd0b10f15b46row26_col0\" class=\"data row26 col0\" >Categorical Imputer</td>\n",
       "                        <td id=\"T_3363d3a8_b383_11eb_b7a2_dd0b10f15b46row26_col1\" class=\"data row26 col1\" >constant</td>\n",
       "            </tr>\n",
       "            <tr>\n",
       "                        <th id=\"T_3363d3a8_b383_11eb_b7a2_dd0b10f15b46level0_row27\" class=\"row_heading level0 row27\" >27</th>\n",
       "                        <td id=\"T_3363d3a8_b383_11eb_b7a2_dd0b10f15b46row27_col0\" class=\"data row27 col0\" >Iterative Imputation Categorical Model</td>\n",
       "                        <td id=\"T_3363d3a8_b383_11eb_b7a2_dd0b10f15b46row27_col1\" class=\"data row27 col1\" >None</td>\n",
       "            </tr>\n",
       "            <tr>\n",
       "                        <th id=\"T_3363d3a8_b383_11eb_b7a2_dd0b10f15b46level0_row28\" class=\"row_heading level0 row28\" >28</th>\n",
       "                        <td id=\"T_3363d3a8_b383_11eb_b7a2_dd0b10f15b46row28_col0\" class=\"data row28 col0\" >Unknown Categoricals Handling</td>\n",
       "                        <td id=\"T_3363d3a8_b383_11eb_b7a2_dd0b10f15b46row28_col1\" class=\"data row28 col1\" >least_frequent</td>\n",
       "            </tr>\n",
       "            <tr>\n",
       "                        <th id=\"T_3363d3a8_b383_11eb_b7a2_dd0b10f15b46level0_row29\" class=\"row_heading level0 row29\" >29</th>\n",
       "                        <td id=\"T_3363d3a8_b383_11eb_b7a2_dd0b10f15b46row29_col0\" class=\"data row29 col0\" >Normalize</td>\n",
       "                        <td id=\"T_3363d3a8_b383_11eb_b7a2_dd0b10f15b46row29_col1\" class=\"data row29 col1\" >True</td>\n",
       "            </tr>\n",
       "            <tr>\n",
       "                        <th id=\"T_3363d3a8_b383_11eb_b7a2_dd0b10f15b46level0_row30\" class=\"row_heading level0 row30\" >30</th>\n",
       "                        <td id=\"T_3363d3a8_b383_11eb_b7a2_dd0b10f15b46row30_col0\" class=\"data row30 col0\" >Normalize Method</td>\n",
       "                        <td id=\"T_3363d3a8_b383_11eb_b7a2_dd0b10f15b46row30_col1\" class=\"data row30 col1\" >zscore</td>\n",
       "            </tr>\n",
       "            <tr>\n",
       "                        <th id=\"T_3363d3a8_b383_11eb_b7a2_dd0b10f15b46level0_row31\" class=\"row_heading level0 row31\" >31</th>\n",
       "                        <td id=\"T_3363d3a8_b383_11eb_b7a2_dd0b10f15b46row31_col0\" class=\"data row31 col0\" >Transformation</td>\n",
       "                        <td id=\"T_3363d3a8_b383_11eb_b7a2_dd0b10f15b46row31_col1\" class=\"data row31 col1\" >True</td>\n",
       "            </tr>\n",
       "            <tr>\n",
       "                        <th id=\"T_3363d3a8_b383_11eb_b7a2_dd0b10f15b46level0_row32\" class=\"row_heading level0 row32\" >32</th>\n",
       "                        <td id=\"T_3363d3a8_b383_11eb_b7a2_dd0b10f15b46row32_col0\" class=\"data row32 col0\" >Transformation Method</td>\n",
       "                        <td id=\"T_3363d3a8_b383_11eb_b7a2_dd0b10f15b46row32_col1\" class=\"data row32 col1\" >yeo-johnson</td>\n",
       "            </tr>\n",
       "            <tr>\n",
       "                        <th id=\"T_3363d3a8_b383_11eb_b7a2_dd0b10f15b46level0_row33\" class=\"row_heading level0 row33\" >33</th>\n",
       "                        <td id=\"T_3363d3a8_b383_11eb_b7a2_dd0b10f15b46row33_col0\" class=\"data row33 col0\" >PCA</td>\n",
       "                        <td id=\"T_3363d3a8_b383_11eb_b7a2_dd0b10f15b46row33_col1\" class=\"data row33 col1\" >False</td>\n",
       "            </tr>\n",
       "            <tr>\n",
       "                        <th id=\"T_3363d3a8_b383_11eb_b7a2_dd0b10f15b46level0_row34\" class=\"row_heading level0 row34\" >34</th>\n",
       "                        <td id=\"T_3363d3a8_b383_11eb_b7a2_dd0b10f15b46row34_col0\" class=\"data row34 col0\" >PCA Method</td>\n",
       "                        <td id=\"T_3363d3a8_b383_11eb_b7a2_dd0b10f15b46row34_col1\" class=\"data row34 col1\" >None</td>\n",
       "            </tr>\n",
       "            <tr>\n",
       "                        <th id=\"T_3363d3a8_b383_11eb_b7a2_dd0b10f15b46level0_row35\" class=\"row_heading level0 row35\" >35</th>\n",
       "                        <td id=\"T_3363d3a8_b383_11eb_b7a2_dd0b10f15b46row35_col0\" class=\"data row35 col0\" >PCA Components</td>\n",
       "                        <td id=\"T_3363d3a8_b383_11eb_b7a2_dd0b10f15b46row35_col1\" class=\"data row35 col1\" >None</td>\n",
       "            </tr>\n",
       "            <tr>\n",
       "                        <th id=\"T_3363d3a8_b383_11eb_b7a2_dd0b10f15b46level0_row36\" class=\"row_heading level0 row36\" >36</th>\n",
       "                        <td id=\"T_3363d3a8_b383_11eb_b7a2_dd0b10f15b46row36_col0\" class=\"data row36 col0\" >Ignore Low Variance</td>\n",
       "                        <td id=\"T_3363d3a8_b383_11eb_b7a2_dd0b10f15b46row36_col1\" class=\"data row36 col1\" >False</td>\n",
       "            </tr>\n",
       "            <tr>\n",
       "                        <th id=\"T_3363d3a8_b383_11eb_b7a2_dd0b10f15b46level0_row37\" class=\"row_heading level0 row37\" >37</th>\n",
       "                        <td id=\"T_3363d3a8_b383_11eb_b7a2_dd0b10f15b46row37_col0\" class=\"data row37 col0\" >Combine Rare Levels</td>\n",
       "                        <td id=\"T_3363d3a8_b383_11eb_b7a2_dd0b10f15b46row37_col1\" class=\"data row37 col1\" >False</td>\n",
       "            </tr>\n",
       "            <tr>\n",
       "                        <th id=\"T_3363d3a8_b383_11eb_b7a2_dd0b10f15b46level0_row38\" class=\"row_heading level0 row38\" >38</th>\n",
       "                        <td id=\"T_3363d3a8_b383_11eb_b7a2_dd0b10f15b46row38_col0\" class=\"data row38 col0\" >Rare Level Threshold</td>\n",
       "                        <td id=\"T_3363d3a8_b383_11eb_b7a2_dd0b10f15b46row38_col1\" class=\"data row38 col1\" >None</td>\n",
       "            </tr>\n",
       "            <tr>\n",
       "                        <th id=\"T_3363d3a8_b383_11eb_b7a2_dd0b10f15b46level0_row39\" class=\"row_heading level0 row39\" >39</th>\n",
       "                        <td id=\"T_3363d3a8_b383_11eb_b7a2_dd0b10f15b46row39_col0\" class=\"data row39 col0\" >Numeric Binning</td>\n",
       "                        <td id=\"T_3363d3a8_b383_11eb_b7a2_dd0b10f15b46row39_col1\" class=\"data row39 col1\" >False</td>\n",
       "            </tr>\n",
       "            <tr>\n",
       "                        <th id=\"T_3363d3a8_b383_11eb_b7a2_dd0b10f15b46level0_row40\" class=\"row_heading level0 row40\" >40</th>\n",
       "                        <td id=\"T_3363d3a8_b383_11eb_b7a2_dd0b10f15b46row40_col0\" class=\"data row40 col0\" >Remove Outliers</td>\n",
       "                        <td id=\"T_3363d3a8_b383_11eb_b7a2_dd0b10f15b46row40_col1\" class=\"data row40 col1\" >False</td>\n",
       "            </tr>\n",
       "            <tr>\n",
       "                        <th id=\"T_3363d3a8_b383_11eb_b7a2_dd0b10f15b46level0_row41\" class=\"row_heading level0 row41\" >41</th>\n",
       "                        <td id=\"T_3363d3a8_b383_11eb_b7a2_dd0b10f15b46row41_col0\" class=\"data row41 col0\" >Outliers Threshold</td>\n",
       "                        <td id=\"T_3363d3a8_b383_11eb_b7a2_dd0b10f15b46row41_col1\" class=\"data row41 col1\" >None</td>\n",
       "            </tr>\n",
       "            <tr>\n",
       "                        <th id=\"T_3363d3a8_b383_11eb_b7a2_dd0b10f15b46level0_row42\" class=\"row_heading level0 row42\" >42</th>\n",
       "                        <td id=\"T_3363d3a8_b383_11eb_b7a2_dd0b10f15b46row42_col0\" class=\"data row42 col0\" >Remove Multicollinearity</td>\n",
       "                        <td id=\"T_3363d3a8_b383_11eb_b7a2_dd0b10f15b46row42_col1\" class=\"data row42 col1\" >True</td>\n",
       "            </tr>\n",
       "            <tr>\n",
       "                        <th id=\"T_3363d3a8_b383_11eb_b7a2_dd0b10f15b46level0_row43\" class=\"row_heading level0 row43\" >43</th>\n",
       "                        <td id=\"T_3363d3a8_b383_11eb_b7a2_dd0b10f15b46row43_col0\" class=\"data row43 col0\" >Multicollinearity Threshold</td>\n",
       "                        <td id=\"T_3363d3a8_b383_11eb_b7a2_dd0b10f15b46row43_col1\" class=\"data row43 col1\" >0.950000</td>\n",
       "            </tr>\n",
       "            <tr>\n",
       "                        <th id=\"T_3363d3a8_b383_11eb_b7a2_dd0b10f15b46level0_row44\" class=\"row_heading level0 row44\" >44</th>\n",
       "                        <td id=\"T_3363d3a8_b383_11eb_b7a2_dd0b10f15b46row44_col0\" class=\"data row44 col0\" >Clustering</td>\n",
       "                        <td id=\"T_3363d3a8_b383_11eb_b7a2_dd0b10f15b46row44_col1\" class=\"data row44 col1\" >False</td>\n",
       "            </tr>\n",
       "            <tr>\n",
       "                        <th id=\"T_3363d3a8_b383_11eb_b7a2_dd0b10f15b46level0_row45\" class=\"row_heading level0 row45\" >45</th>\n",
       "                        <td id=\"T_3363d3a8_b383_11eb_b7a2_dd0b10f15b46row45_col0\" class=\"data row45 col0\" >Clustering Iteration</td>\n",
       "                        <td id=\"T_3363d3a8_b383_11eb_b7a2_dd0b10f15b46row45_col1\" class=\"data row45 col1\" >None</td>\n",
       "            </tr>\n",
       "            <tr>\n",
       "                        <th id=\"T_3363d3a8_b383_11eb_b7a2_dd0b10f15b46level0_row46\" class=\"row_heading level0 row46\" >46</th>\n",
       "                        <td id=\"T_3363d3a8_b383_11eb_b7a2_dd0b10f15b46row46_col0\" class=\"data row46 col0\" >Polynomial Features</td>\n",
       "                        <td id=\"T_3363d3a8_b383_11eb_b7a2_dd0b10f15b46row46_col1\" class=\"data row46 col1\" >False</td>\n",
       "            </tr>\n",
       "            <tr>\n",
       "                        <th id=\"T_3363d3a8_b383_11eb_b7a2_dd0b10f15b46level0_row47\" class=\"row_heading level0 row47\" >47</th>\n",
       "                        <td id=\"T_3363d3a8_b383_11eb_b7a2_dd0b10f15b46row47_col0\" class=\"data row47 col0\" >Polynomial Degree</td>\n",
       "                        <td id=\"T_3363d3a8_b383_11eb_b7a2_dd0b10f15b46row47_col1\" class=\"data row47 col1\" >None</td>\n",
       "            </tr>\n",
       "            <tr>\n",
       "                        <th id=\"T_3363d3a8_b383_11eb_b7a2_dd0b10f15b46level0_row48\" class=\"row_heading level0 row48\" >48</th>\n",
       "                        <td id=\"T_3363d3a8_b383_11eb_b7a2_dd0b10f15b46row48_col0\" class=\"data row48 col0\" >Trignometry Features</td>\n",
       "                        <td id=\"T_3363d3a8_b383_11eb_b7a2_dd0b10f15b46row48_col1\" class=\"data row48 col1\" >False</td>\n",
       "            </tr>\n",
       "            <tr>\n",
       "                        <th id=\"T_3363d3a8_b383_11eb_b7a2_dd0b10f15b46level0_row49\" class=\"row_heading level0 row49\" >49</th>\n",
       "                        <td id=\"T_3363d3a8_b383_11eb_b7a2_dd0b10f15b46row49_col0\" class=\"data row49 col0\" >Polynomial Threshold</td>\n",
       "                        <td id=\"T_3363d3a8_b383_11eb_b7a2_dd0b10f15b46row49_col1\" class=\"data row49 col1\" >None</td>\n",
       "            </tr>\n",
       "            <tr>\n",
       "                        <th id=\"T_3363d3a8_b383_11eb_b7a2_dd0b10f15b46level0_row50\" class=\"row_heading level0 row50\" >50</th>\n",
       "                        <td id=\"T_3363d3a8_b383_11eb_b7a2_dd0b10f15b46row50_col0\" class=\"data row50 col0\" >Group Features</td>\n",
       "                        <td id=\"T_3363d3a8_b383_11eb_b7a2_dd0b10f15b46row50_col1\" class=\"data row50 col1\" >False</td>\n",
       "            </tr>\n",
       "            <tr>\n",
       "                        <th id=\"T_3363d3a8_b383_11eb_b7a2_dd0b10f15b46level0_row51\" class=\"row_heading level0 row51\" >51</th>\n",
       "                        <td id=\"T_3363d3a8_b383_11eb_b7a2_dd0b10f15b46row51_col0\" class=\"data row51 col0\" >Feature Selection</td>\n",
       "                        <td id=\"T_3363d3a8_b383_11eb_b7a2_dd0b10f15b46row51_col1\" class=\"data row51 col1\" >False</td>\n",
       "            </tr>\n",
       "            <tr>\n",
       "                        <th id=\"T_3363d3a8_b383_11eb_b7a2_dd0b10f15b46level0_row52\" class=\"row_heading level0 row52\" >52</th>\n",
       "                        <td id=\"T_3363d3a8_b383_11eb_b7a2_dd0b10f15b46row52_col0\" class=\"data row52 col0\" >Feature Selection Method</td>\n",
       "                        <td id=\"T_3363d3a8_b383_11eb_b7a2_dd0b10f15b46row52_col1\" class=\"data row52 col1\" >classic</td>\n",
       "            </tr>\n",
       "            <tr>\n",
       "                        <th id=\"T_3363d3a8_b383_11eb_b7a2_dd0b10f15b46level0_row53\" class=\"row_heading level0 row53\" >53</th>\n",
       "                        <td id=\"T_3363d3a8_b383_11eb_b7a2_dd0b10f15b46row53_col0\" class=\"data row53 col0\" >Features Selection Threshold</td>\n",
       "                        <td id=\"T_3363d3a8_b383_11eb_b7a2_dd0b10f15b46row53_col1\" class=\"data row53 col1\" >None</td>\n",
       "            </tr>\n",
       "            <tr>\n",
       "                        <th id=\"T_3363d3a8_b383_11eb_b7a2_dd0b10f15b46level0_row54\" class=\"row_heading level0 row54\" >54</th>\n",
       "                        <td id=\"T_3363d3a8_b383_11eb_b7a2_dd0b10f15b46row54_col0\" class=\"data row54 col0\" >Feature Interaction</td>\n",
       "                        <td id=\"T_3363d3a8_b383_11eb_b7a2_dd0b10f15b46row54_col1\" class=\"data row54 col1\" >False</td>\n",
       "            </tr>\n",
       "            <tr>\n",
       "                        <th id=\"T_3363d3a8_b383_11eb_b7a2_dd0b10f15b46level0_row55\" class=\"row_heading level0 row55\" >55</th>\n",
       "                        <td id=\"T_3363d3a8_b383_11eb_b7a2_dd0b10f15b46row55_col0\" class=\"data row55 col0\" >Feature Ratio</td>\n",
       "                        <td id=\"T_3363d3a8_b383_11eb_b7a2_dd0b10f15b46row55_col1\" class=\"data row55 col1\" >False</td>\n",
       "            </tr>\n",
       "            <tr>\n",
       "                        <th id=\"T_3363d3a8_b383_11eb_b7a2_dd0b10f15b46level0_row56\" class=\"row_heading level0 row56\" >56</th>\n",
       "                        <td id=\"T_3363d3a8_b383_11eb_b7a2_dd0b10f15b46row56_col0\" class=\"data row56 col0\" >Interaction Threshold</td>\n",
       "                        <td id=\"T_3363d3a8_b383_11eb_b7a2_dd0b10f15b46row56_col1\" class=\"data row56 col1\" >None</td>\n",
       "            </tr>\n",
       "            <tr>\n",
       "                        <th id=\"T_3363d3a8_b383_11eb_b7a2_dd0b10f15b46level0_row57\" class=\"row_heading level0 row57\" >57</th>\n",
       "                        <td id=\"T_3363d3a8_b383_11eb_b7a2_dd0b10f15b46row57_col0\" class=\"data row57 col0\" >Fix Imbalance</td>\n",
       "                        <td id=\"T_3363d3a8_b383_11eb_b7a2_dd0b10f15b46row57_col1\" class=\"data row57 col1\" >True</td>\n",
       "            </tr>\n",
       "            <tr>\n",
       "                        <th id=\"T_3363d3a8_b383_11eb_b7a2_dd0b10f15b46level0_row58\" class=\"row_heading level0 row58\" >58</th>\n",
       "                        <td id=\"T_3363d3a8_b383_11eb_b7a2_dd0b10f15b46row58_col0\" class=\"data row58 col0\" >Fix Imbalance Method</td>\n",
       "                        <td id=\"T_3363d3a8_b383_11eb_b7a2_dd0b10f15b46row58_col1\" class=\"data row58 col1\" >SMOTE</td>\n",
       "            </tr>\n",
       "    </tbody></table>"
      ],
      "text/plain": [
       "<pandas.io.formats.style.Styler at 0x1cb001dbef0>"
      ]
     },
     "metadata": {},
     "output_type": "display_data"
    }
   ],
   "source": [
    "clfs = setup(data = final_df, target = 'y',\n",
    "             session_id=234, normalize=True, \n",
    "             numeric_features=numerical_cols, categorical_features=categorical_cols, \n",
    "             transformation = True, \n",
    "             remove_multicollinearity = True, multicollinearity_threshold = 0.95, \n",
    "             fix_imbalance=True,\n",
    "             data_split_stratify=True)"
   ]
  },
  {
   "cell_type": "code",
   "execution_count": 90,
   "metadata": {},
   "outputs": [
    {
     "data": {
      "text/html": [
       "<style  type=\"text/css\" >\n",
       "    #T_b9c4f486_b383_11eb_95fa_dd0b10f15b46 th {\n",
       "          text-align: left;\n",
       "    }#T_b9c4f486_b383_11eb_95fa_dd0b10f15b46row0_col0,#T_b9c4f486_b383_11eb_95fa_dd0b10f15b46row0_col3,#T_b9c4f486_b383_11eb_95fa_dd0b10f15b46row0_col5,#T_b9c4f486_b383_11eb_95fa_dd0b10f15b46row0_col6,#T_b9c4f486_b383_11eb_95fa_dd0b10f15b46row0_col7,#T_b9c4f486_b383_11eb_95fa_dd0b10f15b46row1_col0,#T_b9c4f486_b383_11eb_95fa_dd0b10f15b46row1_col1,#T_b9c4f486_b383_11eb_95fa_dd0b10f15b46row1_col2,#T_b9c4f486_b383_11eb_95fa_dd0b10f15b46row1_col3,#T_b9c4f486_b383_11eb_95fa_dd0b10f15b46row1_col4,#T_b9c4f486_b383_11eb_95fa_dd0b10f15b46row1_col7,#T_b9c4f486_b383_11eb_95fa_dd0b10f15b46row2_col0,#T_b9c4f486_b383_11eb_95fa_dd0b10f15b46row2_col1,#T_b9c4f486_b383_11eb_95fa_dd0b10f15b46row2_col2,#T_b9c4f486_b383_11eb_95fa_dd0b10f15b46row2_col3,#T_b9c4f486_b383_11eb_95fa_dd0b10f15b46row2_col4,#T_b9c4f486_b383_11eb_95fa_dd0b10f15b46row2_col5,#T_b9c4f486_b383_11eb_95fa_dd0b10f15b46row2_col6,#T_b9c4f486_b383_11eb_95fa_dd0b10f15b46row2_col7,#T_b9c4f486_b383_11eb_95fa_dd0b10f15b46row3_col0,#T_b9c4f486_b383_11eb_95fa_dd0b10f15b46row3_col1,#T_b9c4f486_b383_11eb_95fa_dd0b10f15b46row3_col2,#T_b9c4f486_b383_11eb_95fa_dd0b10f15b46row3_col3,#T_b9c4f486_b383_11eb_95fa_dd0b10f15b46row3_col4,#T_b9c4f486_b383_11eb_95fa_dd0b10f15b46row3_col5,#T_b9c4f486_b383_11eb_95fa_dd0b10f15b46row3_col6,#T_b9c4f486_b383_11eb_95fa_dd0b10f15b46row3_col7,#T_b9c4f486_b383_11eb_95fa_dd0b10f15b46row4_col0,#T_b9c4f486_b383_11eb_95fa_dd0b10f15b46row4_col1,#T_b9c4f486_b383_11eb_95fa_dd0b10f15b46row4_col2,#T_b9c4f486_b383_11eb_95fa_dd0b10f15b46row4_col3,#T_b9c4f486_b383_11eb_95fa_dd0b10f15b46row4_col4,#T_b9c4f486_b383_11eb_95fa_dd0b10f15b46row4_col5,#T_b9c4f486_b383_11eb_95fa_dd0b10f15b46row4_col6,#T_b9c4f486_b383_11eb_95fa_dd0b10f15b46row4_col7,#T_b9c4f486_b383_11eb_95fa_dd0b10f15b46row5_col0,#T_b9c4f486_b383_11eb_95fa_dd0b10f15b46row5_col1,#T_b9c4f486_b383_11eb_95fa_dd0b10f15b46row5_col2,#T_b9c4f486_b383_11eb_95fa_dd0b10f15b46row5_col3,#T_b9c4f486_b383_11eb_95fa_dd0b10f15b46row5_col4,#T_b9c4f486_b383_11eb_95fa_dd0b10f15b46row5_col5,#T_b9c4f486_b383_11eb_95fa_dd0b10f15b46row5_col6,#T_b9c4f486_b383_11eb_95fa_dd0b10f15b46row5_col7,#T_b9c4f486_b383_11eb_95fa_dd0b10f15b46row6_col0,#T_b9c4f486_b383_11eb_95fa_dd0b10f15b46row6_col1,#T_b9c4f486_b383_11eb_95fa_dd0b10f15b46row6_col2,#T_b9c4f486_b383_11eb_95fa_dd0b10f15b46row6_col3,#T_b9c4f486_b383_11eb_95fa_dd0b10f15b46row6_col4,#T_b9c4f486_b383_11eb_95fa_dd0b10f15b46row6_col5,#T_b9c4f486_b383_11eb_95fa_dd0b10f15b46row6_col6,#T_b9c4f486_b383_11eb_95fa_dd0b10f15b46row6_col7,#T_b9c4f486_b383_11eb_95fa_dd0b10f15b46row7_col0,#T_b9c4f486_b383_11eb_95fa_dd0b10f15b46row7_col1,#T_b9c4f486_b383_11eb_95fa_dd0b10f15b46row7_col2,#T_b9c4f486_b383_11eb_95fa_dd0b10f15b46row7_col3,#T_b9c4f486_b383_11eb_95fa_dd0b10f15b46row7_col4,#T_b9c4f486_b383_11eb_95fa_dd0b10f15b46row7_col5,#T_b9c4f486_b383_11eb_95fa_dd0b10f15b46row7_col6,#T_b9c4f486_b383_11eb_95fa_dd0b10f15b46row7_col7,#T_b9c4f486_b383_11eb_95fa_dd0b10f15b46row8_col0,#T_b9c4f486_b383_11eb_95fa_dd0b10f15b46row8_col1,#T_b9c4f486_b383_11eb_95fa_dd0b10f15b46row8_col2,#T_b9c4f486_b383_11eb_95fa_dd0b10f15b46row8_col3,#T_b9c4f486_b383_11eb_95fa_dd0b10f15b46row8_col4,#T_b9c4f486_b383_11eb_95fa_dd0b10f15b46row8_col5,#T_b9c4f486_b383_11eb_95fa_dd0b10f15b46row8_col6,#T_b9c4f486_b383_11eb_95fa_dd0b10f15b46row8_col7,#T_b9c4f486_b383_11eb_95fa_dd0b10f15b46row9_col0,#T_b9c4f486_b383_11eb_95fa_dd0b10f15b46row9_col1,#T_b9c4f486_b383_11eb_95fa_dd0b10f15b46row9_col2,#T_b9c4f486_b383_11eb_95fa_dd0b10f15b46row9_col3,#T_b9c4f486_b383_11eb_95fa_dd0b10f15b46row9_col4,#T_b9c4f486_b383_11eb_95fa_dd0b10f15b46row9_col5,#T_b9c4f486_b383_11eb_95fa_dd0b10f15b46row9_col6,#T_b9c4f486_b383_11eb_95fa_dd0b10f15b46row9_col7,#T_b9c4f486_b383_11eb_95fa_dd0b10f15b46row10_col0,#T_b9c4f486_b383_11eb_95fa_dd0b10f15b46row10_col1,#T_b9c4f486_b383_11eb_95fa_dd0b10f15b46row10_col2,#T_b9c4f486_b383_11eb_95fa_dd0b10f15b46row10_col4,#T_b9c4f486_b383_11eb_95fa_dd0b10f15b46row10_col5,#T_b9c4f486_b383_11eb_95fa_dd0b10f15b46row10_col6,#T_b9c4f486_b383_11eb_95fa_dd0b10f15b46row10_col7,#T_b9c4f486_b383_11eb_95fa_dd0b10f15b46row11_col0,#T_b9c4f486_b383_11eb_95fa_dd0b10f15b46row11_col1,#T_b9c4f486_b383_11eb_95fa_dd0b10f15b46row11_col2,#T_b9c4f486_b383_11eb_95fa_dd0b10f15b46row11_col3,#T_b9c4f486_b383_11eb_95fa_dd0b10f15b46row11_col4,#T_b9c4f486_b383_11eb_95fa_dd0b10f15b46row11_col5,#T_b9c4f486_b383_11eb_95fa_dd0b10f15b46row11_col6,#T_b9c4f486_b383_11eb_95fa_dd0b10f15b46row12_col0,#T_b9c4f486_b383_11eb_95fa_dd0b10f15b46row12_col1,#T_b9c4f486_b383_11eb_95fa_dd0b10f15b46row12_col2,#T_b9c4f486_b383_11eb_95fa_dd0b10f15b46row12_col3,#T_b9c4f486_b383_11eb_95fa_dd0b10f15b46row12_col4,#T_b9c4f486_b383_11eb_95fa_dd0b10f15b46row12_col5,#T_b9c4f486_b383_11eb_95fa_dd0b10f15b46row12_col6,#T_b9c4f486_b383_11eb_95fa_dd0b10f15b46row12_col7{\n",
       "            text-align:  left;\n",
       "            text-align:  left;\n",
       "        }#T_b9c4f486_b383_11eb_95fa_dd0b10f15b46row0_col1,#T_b9c4f486_b383_11eb_95fa_dd0b10f15b46row0_col2,#T_b9c4f486_b383_11eb_95fa_dd0b10f15b46row0_col4,#T_b9c4f486_b383_11eb_95fa_dd0b10f15b46row1_col5,#T_b9c4f486_b383_11eb_95fa_dd0b10f15b46row1_col6,#T_b9c4f486_b383_11eb_95fa_dd0b10f15b46row10_col3,#T_b9c4f486_b383_11eb_95fa_dd0b10f15b46row11_col7{\n",
       "            text-align:  left;\n",
       "            text-align:  left;\n",
       "            background-color:  yellow;\n",
       "        }#T_b9c4f486_b383_11eb_95fa_dd0b10f15b46row0_col8,#T_b9c4f486_b383_11eb_95fa_dd0b10f15b46row1_col8,#T_b9c4f486_b383_11eb_95fa_dd0b10f15b46row2_col8,#T_b9c4f486_b383_11eb_95fa_dd0b10f15b46row3_col8,#T_b9c4f486_b383_11eb_95fa_dd0b10f15b46row4_col8,#T_b9c4f486_b383_11eb_95fa_dd0b10f15b46row5_col8,#T_b9c4f486_b383_11eb_95fa_dd0b10f15b46row6_col8,#T_b9c4f486_b383_11eb_95fa_dd0b10f15b46row7_col8,#T_b9c4f486_b383_11eb_95fa_dd0b10f15b46row9_col8,#T_b9c4f486_b383_11eb_95fa_dd0b10f15b46row10_col8,#T_b9c4f486_b383_11eb_95fa_dd0b10f15b46row11_col8,#T_b9c4f486_b383_11eb_95fa_dd0b10f15b46row12_col8{\n",
       "            text-align:  left;\n",
       "            text-align:  left;\n",
       "            background-color:  lightgrey;\n",
       "        }#T_b9c4f486_b383_11eb_95fa_dd0b10f15b46row8_col8{\n",
       "            text-align:  left;\n",
       "            text-align:  left;\n",
       "            background-color:  yellow;\n",
       "            background-color:  lightgrey;\n",
       "        }</style><table id=\"T_b9c4f486_b383_11eb_95fa_dd0b10f15b46\" ><thead>    <tr>        <th class=\"blank level0\" ></th>        <th class=\"col_heading level0 col0\" >Model</th>        <th class=\"col_heading level0 col1\" >Accuracy</th>        <th class=\"col_heading level0 col2\" >AUC</th>        <th class=\"col_heading level0 col3\" >Recall</th>        <th class=\"col_heading level0 col4\" >Prec.</th>        <th class=\"col_heading level0 col5\" >F1</th>        <th class=\"col_heading level0 col6\" >Kappa</th>        <th class=\"col_heading level0 col7\" >MCC</th>        <th class=\"col_heading level0 col8\" >TT (Sec)</th>    </tr></thead><tbody>\n",
       "                <tr>\n",
       "                        <th id=\"T_b9c4f486_b383_11eb_95fa_dd0b10f15b46level0_row0\" class=\"row_heading level0 row0\" >lightgbm</th>\n",
       "                        <td id=\"T_b9c4f486_b383_11eb_95fa_dd0b10f15b46row0_col0\" class=\"data row0 col0\" >Light Gradient Boosting Machine</td>\n",
       "                        <td id=\"T_b9c4f486_b383_11eb_95fa_dd0b10f15b46row0_col1\" class=\"data row0 col1\" >0.8971</td>\n",
       "                        <td id=\"T_b9c4f486_b383_11eb_95fa_dd0b10f15b46row0_col2\" class=\"data row0 col2\" >0.9342</td>\n",
       "                        <td id=\"T_b9c4f486_b383_11eb_95fa_dd0b10f15b46row0_col3\" class=\"data row0 col3\" >0.5617</td>\n",
       "                        <td id=\"T_b9c4f486_b383_11eb_95fa_dd0b10f15b46row0_col4\" class=\"data row0 col4\" >0.6011</td>\n",
       "                        <td id=\"T_b9c4f486_b383_11eb_95fa_dd0b10f15b46row0_col5\" class=\"data row0 col5\" >0.5803</td>\n",
       "                        <td id=\"T_b9c4f486_b383_11eb_95fa_dd0b10f15b46row0_col6\" class=\"data row0 col6\" >0.5218</td>\n",
       "                        <td id=\"T_b9c4f486_b383_11eb_95fa_dd0b10f15b46row0_col7\" class=\"data row0 col7\" >0.5224</td>\n",
       "                        <td id=\"T_b9c4f486_b383_11eb_95fa_dd0b10f15b46row0_col8\" class=\"data row0 col8\" >0.7380</td>\n",
       "            </tr>\n",
       "            <tr>\n",
       "                        <th id=\"T_b9c4f486_b383_11eb_95fa_dd0b10f15b46level0_row1\" class=\"row_heading level0 row1\" >gbc</th>\n",
       "                        <td id=\"T_b9c4f486_b383_11eb_95fa_dd0b10f15b46row1_col0\" class=\"data row1 col0\" >Gradient Boosting Classifier</td>\n",
       "                        <td id=\"T_b9c4f486_b383_11eb_95fa_dd0b10f15b46row1_col1\" class=\"data row1 col1\" >0.8782</td>\n",
       "                        <td id=\"T_b9c4f486_b383_11eb_95fa_dd0b10f15b46row1_col2\" class=\"data row1 col2\" >0.9275</td>\n",
       "                        <td id=\"T_b9c4f486_b383_11eb_95fa_dd0b10f15b46row1_col3\" class=\"data row1 col3\" >0.7749</td>\n",
       "                        <td id=\"T_b9c4f486_b383_11eb_95fa_dd0b10f15b46row1_col4\" class=\"data row1 col4\" >0.5128</td>\n",
       "                        <td id=\"T_b9c4f486_b383_11eb_95fa_dd0b10f15b46row1_col5\" class=\"data row1 col5\" >0.6170</td>\n",
       "                        <td id=\"T_b9c4f486_b383_11eb_95fa_dd0b10f15b46row1_col6\" class=\"data row1 col6\" >0.5481</td>\n",
       "                        <td id=\"T_b9c4f486_b383_11eb_95fa_dd0b10f15b46row1_col7\" class=\"data row1 col7\" >0.5648</td>\n",
       "                        <td id=\"T_b9c4f486_b383_11eb_95fa_dd0b10f15b46row1_col8\" class=\"data row1 col8\" >4.6130</td>\n",
       "            </tr>\n",
       "            <tr>\n",
       "                        <th id=\"T_b9c4f486_b383_11eb_95fa_dd0b10f15b46level0_row2\" class=\"row_heading level0 row2\" >lr</th>\n",
       "                        <td id=\"T_b9c4f486_b383_11eb_95fa_dd0b10f15b46row2_col0\" class=\"data row2 col0\" >Logistic Regression</td>\n",
       "                        <td id=\"T_b9c4f486_b383_11eb_95fa_dd0b10f15b46row2_col1\" class=\"data row2 col1\" >0.8529</td>\n",
       "                        <td id=\"T_b9c4f486_b383_11eb_95fa_dd0b10f15b46row2_col2\" class=\"data row2 col2\" >0.9265</td>\n",
       "                        <td id=\"T_b9c4f486_b383_11eb_95fa_dd0b10f15b46row2_col3\" class=\"data row2 col3\" >0.8767</td>\n",
       "                        <td id=\"T_b9c4f486_b383_11eb_95fa_dd0b10f15b46row2_col4\" class=\"data row2 col4\" >0.4579</td>\n",
       "                        <td id=\"T_b9c4f486_b383_11eb_95fa_dd0b10f15b46row2_col5\" class=\"data row2 col5\" >0.6015</td>\n",
       "                        <td id=\"T_b9c4f486_b383_11eb_95fa_dd0b10f15b46row2_col6\" class=\"data row2 col6\" >0.5220</td>\n",
       "                        <td id=\"T_b9c4f486_b383_11eb_95fa_dd0b10f15b46row2_col7\" class=\"data row2 col7\" >0.5635</td>\n",
       "                        <td id=\"T_b9c4f486_b383_11eb_95fa_dd0b10f15b46row2_col8\" class=\"data row2 col8\" >1.1750</td>\n",
       "            </tr>\n",
       "            <tr>\n",
       "                        <th id=\"T_b9c4f486_b383_11eb_95fa_dd0b10f15b46level0_row3\" class=\"row_heading level0 row3\" >lda</th>\n",
       "                        <td id=\"T_b9c4f486_b383_11eb_95fa_dd0b10f15b46row3_col0\" class=\"data row3 col0\" >Linear Discriminant Analysis</td>\n",
       "                        <td id=\"T_b9c4f486_b383_11eb_95fa_dd0b10f15b46row3_col1\" class=\"data row3 col1\" >0.8402</td>\n",
       "                        <td id=\"T_b9c4f486_b383_11eb_95fa_dd0b10f15b46row3_col2\" class=\"data row3 col2\" >0.9261</td>\n",
       "                        <td id=\"T_b9c4f486_b383_11eb_95fa_dd0b10f15b46row3_col3\" class=\"data row3 col3\" >0.8982</td>\n",
       "                        <td id=\"T_b9c4f486_b383_11eb_95fa_dd0b10f15b46row3_col4\" class=\"data row3 col4\" >0.4366</td>\n",
       "                        <td id=\"T_b9c4f486_b383_11eb_95fa_dd0b10f15b46row3_col5\" class=\"data row3 col5\" >0.5874</td>\n",
       "                        <td id=\"T_b9c4f486_b383_11eb_95fa_dd0b10f15b46row3_col6\" class=\"data row3 col6\" >0.5027</td>\n",
       "                        <td id=\"T_b9c4f486_b383_11eb_95fa_dd0b10f15b46row3_col7\" class=\"data row3 col7\" >0.5531</td>\n",
       "                        <td id=\"T_b9c4f486_b383_11eb_95fa_dd0b10f15b46row3_col8\" class=\"data row3 col8\" >0.5230</td>\n",
       "            </tr>\n",
       "            <tr>\n",
       "                        <th id=\"T_b9c4f486_b383_11eb_95fa_dd0b10f15b46level0_row4\" class=\"row_heading level0 row4\" >rf</th>\n",
       "                        <td id=\"T_b9c4f486_b383_11eb_95fa_dd0b10f15b46row4_col0\" class=\"data row4 col0\" >Random Forest Classifier</td>\n",
       "                        <td id=\"T_b9c4f486_b383_11eb_95fa_dd0b10f15b46row4_col1\" class=\"data row4 col1\" >0.8942</td>\n",
       "                        <td id=\"T_b9c4f486_b383_11eb_95fa_dd0b10f15b46row4_col2\" class=\"data row4 col2\" >0.9229</td>\n",
       "                        <td id=\"T_b9c4f486_b383_11eb_95fa_dd0b10f15b46row4_col3\" class=\"data row4 col3\" >0.5328</td>\n",
       "                        <td id=\"T_b9c4f486_b383_11eb_95fa_dd0b10f15b46row4_col4\" class=\"data row4 col4\" >0.5922</td>\n",
       "                        <td id=\"T_b9c4f486_b383_11eb_95fa_dd0b10f15b46row4_col5\" class=\"data row4 col5\" >0.5606</td>\n",
       "                        <td id=\"T_b9c4f486_b383_11eb_95fa_dd0b10f15b46row4_col6\" class=\"data row4 col6\" >0.5007</td>\n",
       "                        <td id=\"T_b9c4f486_b383_11eb_95fa_dd0b10f15b46row4_col7\" class=\"data row4 col7\" >0.5018</td>\n",
       "                        <td id=\"T_b9c4f486_b383_11eb_95fa_dd0b10f15b46row4_col8\" class=\"data row4 col8\" >1.9740</td>\n",
       "            </tr>\n",
       "            <tr>\n",
       "                        <th id=\"T_b9c4f486_b383_11eb_95fa_dd0b10f15b46level0_row5\" class=\"row_heading level0 row5\" >ada</th>\n",
       "                        <td id=\"T_b9c4f486_b383_11eb_95fa_dd0b10f15b46row5_col0\" class=\"data row5 col0\" >Ada Boost Classifier</td>\n",
       "                        <td id=\"T_b9c4f486_b383_11eb_95fa_dd0b10f15b46row5_col1\" class=\"data row5 col1\" >0.8796</td>\n",
       "                        <td id=\"T_b9c4f486_b383_11eb_95fa_dd0b10f15b46row5_col2\" class=\"data row5 col2\" >0.9178</td>\n",
       "                        <td id=\"T_b9c4f486_b383_11eb_95fa_dd0b10f15b46row5_col3\" class=\"data row5 col3\" >0.6887</td>\n",
       "                        <td id=\"T_b9c4f486_b383_11eb_95fa_dd0b10f15b46row5_col4\" class=\"data row5 col4\" >0.5185</td>\n",
       "                        <td id=\"T_b9c4f486_b383_11eb_95fa_dd0b10f15b46row5_col5\" class=\"data row5 col5\" >0.5913</td>\n",
       "                        <td id=\"T_b9c4f486_b383_11eb_95fa_dd0b10f15b46row5_col6\" class=\"data row5 col6\" >0.5223</td>\n",
       "                        <td id=\"T_b9c4f486_b383_11eb_95fa_dd0b10f15b46row5_col7\" class=\"data row5 col7\" >0.5298</td>\n",
       "                        <td id=\"T_b9c4f486_b383_11eb_95fa_dd0b10f15b46row5_col8\" class=\"data row5 col8\" >1.2030</td>\n",
       "            </tr>\n",
       "            <tr>\n",
       "                        <th id=\"T_b9c4f486_b383_11eb_95fa_dd0b10f15b46level0_row6\" class=\"row_heading level0 row6\" >et</th>\n",
       "                        <td id=\"T_b9c4f486_b383_11eb_95fa_dd0b10f15b46row6_col0\" class=\"data row6 col0\" >Extra Trees Classifier</td>\n",
       "                        <td id=\"T_b9c4f486_b383_11eb_95fa_dd0b10f15b46row6_col1\" class=\"data row6 col1\" >0.8874</td>\n",
       "                        <td id=\"T_b9c4f486_b383_11eb_95fa_dd0b10f15b46row6_col2\" class=\"data row6 col2\" >0.9052</td>\n",
       "                        <td id=\"T_b9c4f486_b383_11eb_95fa_dd0b10f15b46row6_col3\" class=\"data row6 col3\" >0.4806</td>\n",
       "                        <td id=\"T_b9c4f486_b383_11eb_95fa_dd0b10f15b46row6_col4\" class=\"data row6 col4\" >0.5662</td>\n",
       "                        <td id=\"T_b9c4f486_b383_11eb_95fa_dd0b10f15b46row6_col5\" class=\"data row6 col5\" >0.5195</td>\n",
       "                        <td id=\"T_b9c4f486_b383_11eb_95fa_dd0b10f15b46row6_col6\" class=\"data row6 col6\" >0.4562</td>\n",
       "                        <td id=\"T_b9c4f486_b383_11eb_95fa_dd0b10f15b46row6_col7\" class=\"data row6 col7\" >0.4584</td>\n",
       "                        <td id=\"T_b9c4f486_b383_11eb_95fa_dd0b10f15b46row6_col8\" class=\"data row6 col8\" >2.3340</td>\n",
       "            </tr>\n",
       "            <tr>\n",
       "                        <th id=\"T_b9c4f486_b383_11eb_95fa_dd0b10f15b46level0_row7\" class=\"row_heading level0 row7\" >knn</th>\n",
       "                        <td id=\"T_b9c4f486_b383_11eb_95fa_dd0b10f15b46row7_col0\" class=\"data row7 col0\" >K Neighbors Classifier</td>\n",
       "                        <td id=\"T_b9c4f486_b383_11eb_95fa_dd0b10f15b46row7_col1\" class=\"data row7 col1\" >0.8238</td>\n",
       "                        <td id=\"T_b9c4f486_b383_11eb_95fa_dd0b10f15b46row7_col2\" class=\"data row7 col2\" >0.8665</td>\n",
       "                        <td id=\"T_b9c4f486_b383_11eb_95fa_dd0b10f15b46row7_col3\" class=\"data row7 col3\" >0.7982</td>\n",
       "                        <td id=\"T_b9c4f486_b383_11eb_95fa_dd0b10f15b46row7_col4\" class=\"data row7 col4\" >0.4016</td>\n",
       "                        <td id=\"T_b9c4f486_b383_11eb_95fa_dd0b10f15b46row7_col5\" class=\"data row7 col5\" >0.5343</td>\n",
       "                        <td id=\"T_b9c4f486_b383_11eb_95fa_dd0b10f15b46row7_col6\" class=\"data row7 col6\" >0.4400</td>\n",
       "                        <td id=\"T_b9c4f486_b383_11eb_95fa_dd0b10f15b46row7_col7\" class=\"data row7 col7\" >0.4795</td>\n",
       "                        <td id=\"T_b9c4f486_b383_11eb_95fa_dd0b10f15b46row7_col8\" class=\"data row7 col8\" >4.3710</td>\n",
       "            </tr>\n",
       "            <tr>\n",
       "                        <th id=\"T_b9c4f486_b383_11eb_95fa_dd0b10f15b46level0_row8\" class=\"row_heading level0 row8\" >nb</th>\n",
       "                        <td id=\"T_b9c4f486_b383_11eb_95fa_dd0b10f15b46row8_col0\" class=\"data row8 col0\" >Naive Bayes</td>\n",
       "                        <td id=\"T_b9c4f486_b383_11eb_95fa_dd0b10f15b46row8_col1\" class=\"data row8 col1\" >0.8211</td>\n",
       "                        <td id=\"T_b9c4f486_b383_11eb_95fa_dd0b10f15b46row8_col2\" class=\"data row8 col2\" >0.7956</td>\n",
       "                        <td id=\"T_b9c4f486_b383_11eb_95fa_dd0b10f15b46row8_col3\" class=\"data row8 col3\" >0.5545</td>\n",
       "                        <td id=\"T_b9c4f486_b383_11eb_95fa_dd0b10f15b46row8_col4\" class=\"data row8 col4\" >0.3773</td>\n",
       "                        <td id=\"T_b9c4f486_b383_11eb_95fa_dd0b10f15b46row8_col5\" class=\"data row8 col5\" >0.4438</td>\n",
       "                        <td id=\"T_b9c4f486_b383_11eb_95fa_dd0b10f15b46row8_col6\" class=\"data row8 col6\" >0.3447</td>\n",
       "                        <td id=\"T_b9c4f486_b383_11eb_95fa_dd0b10f15b46row8_col7\" class=\"data row8 col7\" >0.3562</td>\n",
       "                        <td id=\"T_b9c4f486_b383_11eb_95fa_dd0b10f15b46row8_col8\" class=\"data row8 col8\" >0.2280</td>\n",
       "            </tr>\n",
       "            <tr>\n",
       "                        <th id=\"T_b9c4f486_b383_11eb_95fa_dd0b10f15b46level0_row9\" class=\"row_heading level0 row9\" >dt</th>\n",
       "                        <td id=\"T_b9c4f486_b383_11eb_95fa_dd0b10f15b46row9_col0\" class=\"data row9 col0\" >Decision Tree Classifier</td>\n",
       "                        <td id=\"T_b9c4f486_b383_11eb_95fa_dd0b10f15b46row9_col1\" class=\"data row9 col1\" >0.8685</td>\n",
       "                        <td id=\"T_b9c4f486_b383_11eb_95fa_dd0b10f15b46row9_col2\" class=\"data row9 col2\" >0.7206</td>\n",
       "                        <td id=\"T_b9c4f486_b383_11eb_95fa_dd0b10f15b46row9_col3\" class=\"data row9 col3\" >0.5195</td>\n",
       "                        <td id=\"T_b9c4f486_b383_11eb_95fa_dd0b10f15b46row9_col4\" class=\"data row9 col4\" >0.4820</td>\n",
       "                        <td id=\"T_b9c4f486_b383_11eb_95fa_dd0b10f15b46row9_col5\" class=\"data row9 col5\" >0.4999</td>\n",
       "                        <td id=\"T_b9c4f486_b383_11eb_95fa_dd0b10f15b46row9_col6\" class=\"data row9 col6\" >0.4243</td>\n",
       "                        <td id=\"T_b9c4f486_b383_11eb_95fa_dd0b10f15b46row9_col7\" class=\"data row9 col7\" >0.4248</td>\n",
       "                        <td id=\"T_b9c4f486_b383_11eb_95fa_dd0b10f15b46row9_col8\" class=\"data row9 col8\" >0.3690</td>\n",
       "            </tr>\n",
       "            <tr>\n",
       "                        <th id=\"T_b9c4f486_b383_11eb_95fa_dd0b10f15b46level0_row10\" class=\"row_heading level0 row10\" >qda</th>\n",
       "                        <td id=\"T_b9c4f486_b383_11eb_95fa_dd0b10f15b46row10_col0\" class=\"data row10 col0\" >Quadratic Discriminant Analysis</td>\n",
       "                        <td id=\"T_b9c4f486_b383_11eb_95fa_dd0b10f15b46row10_col1\" class=\"data row10 col1\" >0.1282</td>\n",
       "                        <td id=\"T_b9c4f486_b383_11eb_95fa_dd0b10f15b46row10_col2\" class=\"data row10 col2\" >0.5005</td>\n",
       "                        <td id=\"T_b9c4f486_b383_11eb_95fa_dd0b10f15b46row10_col3\" class=\"data row10 col3\" >0.9989</td>\n",
       "                        <td id=\"T_b9c4f486_b383_11eb_95fa_dd0b10f15b46row10_col4\" class=\"data row10 col4\" >0.1267</td>\n",
       "                        <td id=\"T_b9c4f486_b383_11eb_95fa_dd0b10f15b46row10_col5\" class=\"data row10 col5\" >0.2248</td>\n",
       "                        <td id=\"T_b9c4f486_b383_11eb_95fa_dd0b10f15b46row10_col6\" class=\"data row10 col6\" >0.0002</td>\n",
       "                        <td id=\"T_b9c4f486_b383_11eb_95fa_dd0b10f15b46row10_col7\" class=\"data row10 col7\" >0.0027</td>\n",
       "                        <td id=\"T_b9c4f486_b383_11eb_95fa_dd0b10f15b46row10_col8\" class=\"data row10 col8\" >0.3740</td>\n",
       "            </tr>\n",
       "            <tr>\n",
       "                        <th id=\"T_b9c4f486_b383_11eb_95fa_dd0b10f15b46level0_row11\" class=\"row_heading level0 row11\" >svm</th>\n",
       "                        <td id=\"T_b9c4f486_b383_11eb_95fa_dd0b10f15b46row11_col0\" class=\"data row11 col0\" >SVM - Linear Kernel</td>\n",
       "                        <td id=\"T_b9c4f486_b383_11eb_95fa_dd0b10f15b46row11_col1\" class=\"data row11 col1\" >0.8531</td>\n",
       "                        <td id=\"T_b9c4f486_b383_11eb_95fa_dd0b10f15b46row11_col2\" class=\"data row11 col2\" >0.0000</td>\n",
       "                        <td id=\"T_b9c4f486_b383_11eb_95fa_dd0b10f15b46row11_col3\" class=\"data row11 col3\" >0.8797</td>\n",
       "                        <td id=\"T_b9c4f486_b383_11eb_95fa_dd0b10f15b46row11_col4\" class=\"data row11 col4\" >0.4585</td>\n",
       "                        <td id=\"T_b9c4f486_b383_11eb_95fa_dd0b10f15b46row11_col5\" class=\"data row11 col5\" >0.6026</td>\n",
       "                        <td id=\"T_b9c4f486_b383_11eb_95fa_dd0b10f15b46row11_col6\" class=\"data row11 col6\" >0.5233</td>\n",
       "                        <td id=\"T_b9c4f486_b383_11eb_95fa_dd0b10f15b46row11_col7\" class=\"data row11 col7\" >0.5652</td>\n",
       "                        <td id=\"T_b9c4f486_b383_11eb_95fa_dd0b10f15b46row11_col8\" class=\"data row11 col8\" >0.3510</td>\n",
       "            </tr>\n",
       "            <tr>\n",
       "                        <th id=\"T_b9c4f486_b383_11eb_95fa_dd0b10f15b46level0_row12\" class=\"row_heading level0 row12\" >ridge</th>\n",
       "                        <td id=\"T_b9c4f486_b383_11eb_95fa_dd0b10f15b46row12_col0\" class=\"data row12 col0\" >Ridge Classifier</td>\n",
       "                        <td id=\"T_b9c4f486_b383_11eb_95fa_dd0b10f15b46row12_col1\" class=\"data row12 col1\" >0.8402</td>\n",
       "                        <td id=\"T_b9c4f486_b383_11eb_95fa_dd0b10f15b46row12_col2\" class=\"data row12 col2\" >0.0000</td>\n",
       "                        <td id=\"T_b9c4f486_b383_11eb_95fa_dd0b10f15b46row12_col3\" class=\"data row12 col3\" >0.8982</td>\n",
       "                        <td id=\"T_b9c4f486_b383_11eb_95fa_dd0b10f15b46row12_col4\" class=\"data row12 col4\" >0.4365</td>\n",
       "                        <td id=\"T_b9c4f486_b383_11eb_95fa_dd0b10f15b46row12_col5\" class=\"data row12 col5\" >0.5874</td>\n",
       "                        <td id=\"T_b9c4f486_b383_11eb_95fa_dd0b10f15b46row12_col6\" class=\"data row12 col6\" >0.5026</td>\n",
       "                        <td id=\"T_b9c4f486_b383_11eb_95fa_dd0b10f15b46row12_col7\" class=\"data row12 col7\" >0.5530</td>\n",
       "                        <td id=\"T_b9c4f486_b383_11eb_95fa_dd0b10f15b46row12_col8\" class=\"data row12 col8\" >0.2690</td>\n",
       "            </tr>\n",
       "    </tbody></table>"
      ],
      "text/plain": [
       "<pandas.io.formats.style.Styler at 0x1cb005f2400>"
      ]
     },
     "metadata": {},
     "output_type": "display_data"
    }
   ],
   "source": [
    "models = compare_models(sort=\"AUC\", n_select=5)"
   ]
  },
  {
   "cell_type": "code",
   "execution_count": 91,
   "metadata": {},
   "outputs": [
    {
     "data": {
      "text/html": [
       "<style  type=\"text/css\" >\n",
       "#T_e4aa7412_b383_11eb_9072_dd0b10f15b46row10_col0,#T_e4aa7412_b383_11eb_9072_dd0b10f15b46row10_col1,#T_e4aa7412_b383_11eb_9072_dd0b10f15b46row10_col2,#T_e4aa7412_b383_11eb_9072_dd0b10f15b46row10_col3,#T_e4aa7412_b383_11eb_9072_dd0b10f15b46row10_col4,#T_e4aa7412_b383_11eb_9072_dd0b10f15b46row10_col5,#T_e4aa7412_b383_11eb_9072_dd0b10f15b46row10_col6{\n",
       "            background:  yellow;\n",
       "        }</style><table id=\"T_e4aa7412_b383_11eb_9072_dd0b10f15b46\" ><thead>    <tr>        <th class=\"blank level0\" ></th>        <th class=\"col_heading level0 col0\" >Accuracy</th>        <th class=\"col_heading level0 col1\" >AUC</th>        <th class=\"col_heading level0 col2\" >Recall</th>        <th class=\"col_heading level0 col3\" >Prec.</th>        <th class=\"col_heading level0 col4\" >F1</th>        <th class=\"col_heading level0 col5\" >Kappa</th>        <th class=\"col_heading level0 col6\" >MCC</th>    </tr></thead><tbody>\n",
       "                <tr>\n",
       "                        <th id=\"T_e4aa7412_b383_11eb_9072_dd0b10f15b46level0_row0\" class=\"row_heading level0 row0\" >0</th>\n",
       "                        <td id=\"T_e4aa7412_b383_11eb_9072_dd0b10f15b46row0_col0\" class=\"data row0 col0\" >0.8862</td>\n",
       "                        <td id=\"T_e4aa7412_b383_11eb_9072_dd0b10f15b46row0_col1\" class=\"data row0 col1\" >0.9309</td>\n",
       "                        <td id=\"T_e4aa7412_b383_11eb_9072_dd0b10f15b46row0_col2\" class=\"data row0 col2\" >0.5055</td>\n",
       "                        <td id=\"T_e4aa7412_b383_11eb_9072_dd0b10f15b46row0_col3\" class=\"data row0 col3\" >0.5569</td>\n",
       "                        <td id=\"T_e4aa7412_b383_11eb_9072_dd0b10f15b46row0_col4\" class=\"data row0 col4\" >0.5300</td>\n",
       "                        <td id=\"T_e4aa7412_b383_11eb_9072_dd0b10f15b46row0_col5\" class=\"data row0 col5\" >0.4654</td>\n",
       "                        <td id=\"T_e4aa7412_b383_11eb_9072_dd0b10f15b46row0_col6\" class=\"data row0 col6\" >0.4661</td>\n",
       "            </tr>\n",
       "            <tr>\n",
       "                        <th id=\"T_e4aa7412_b383_11eb_9072_dd0b10f15b46level0_row1\" class=\"row_heading level0 row1\" >1</th>\n",
       "                        <td id=\"T_e4aa7412_b383_11eb_9072_dd0b10f15b46row1_col0\" class=\"data row1 col0\" >0.9053</td>\n",
       "                        <td id=\"T_e4aa7412_b383_11eb_9072_dd0b10f15b46row1_col1\" class=\"data row1 col1\" >0.9397</td>\n",
       "                        <td id=\"T_e4aa7412_b383_11eb_9072_dd0b10f15b46row1_col2\" class=\"data row1 col2\" >0.5889</td>\n",
       "                        <td id=\"T_e4aa7412_b383_11eb_9072_dd0b10f15b46row1_col3\" class=\"data row1 col3\" >0.6360</td>\n",
       "                        <td id=\"T_e4aa7412_b383_11eb_9072_dd0b10f15b46row1_col4\" class=\"data row1 col4\" >0.6115</td>\n",
       "                        <td id=\"T_e4aa7412_b383_11eb_9072_dd0b10f15b46row1_col5\" class=\"data row1 col5\" >0.5577</td>\n",
       "                        <td id=\"T_e4aa7412_b383_11eb_9072_dd0b10f15b46row1_col6\" class=\"data row1 col6\" >0.5583</td>\n",
       "            </tr>\n",
       "            <tr>\n",
       "                        <th id=\"T_e4aa7412_b383_11eb_9072_dd0b10f15b46level0_row2\" class=\"row_heading level0 row2\" >2</th>\n",
       "                        <td id=\"T_e4aa7412_b383_11eb_9072_dd0b10f15b46row2_col0\" class=\"data row2 col0\" >0.8932</td>\n",
       "                        <td id=\"T_e4aa7412_b383_11eb_9072_dd0b10f15b46row2_col1\" class=\"data row2 col1\" >0.9320</td>\n",
       "                        <td id=\"T_e4aa7412_b383_11eb_9072_dd0b10f15b46row2_col2\" class=\"data row2 col2\" >0.5630</td>\n",
       "                        <td id=\"T_e4aa7412_b383_11eb_9072_dd0b10f15b46row2_col3\" class=\"data row2 col3\" >0.5802</td>\n",
       "                        <td id=\"T_e4aa7412_b383_11eb_9072_dd0b10f15b46row2_col4\" class=\"data row2 col4\" >0.5714</td>\n",
       "                        <td id=\"T_e4aa7412_b383_11eb_9072_dd0b10f15b46row2_col5\" class=\"data row2 col5\" >0.5104</td>\n",
       "                        <td id=\"T_e4aa7412_b383_11eb_9072_dd0b10f15b46row2_col6\" class=\"data row2 col6\" >0.5105</td>\n",
       "            </tr>\n",
       "            <tr>\n",
       "                        <th id=\"T_e4aa7412_b383_11eb_9072_dd0b10f15b46level0_row3\" class=\"row_heading level0 row3\" >3</th>\n",
       "                        <td id=\"T_e4aa7412_b383_11eb_9072_dd0b10f15b46row3_col0\" class=\"data row3 col0\" >0.9030</td>\n",
       "                        <td id=\"T_e4aa7412_b383_11eb_9072_dd0b10f15b46row3_col1\" class=\"data row3 col1\" >0.9377</td>\n",
       "                        <td id=\"T_e4aa7412_b383_11eb_9072_dd0b10f15b46row3_col2\" class=\"data row3 col2\" >0.5852</td>\n",
       "                        <td id=\"T_e4aa7412_b383_11eb_9072_dd0b10f15b46row3_col3\" class=\"data row3 col3\" >0.6245</td>\n",
       "                        <td id=\"T_e4aa7412_b383_11eb_9072_dd0b10f15b46row3_col4\" class=\"data row3 col4\" >0.6042</td>\n",
       "                        <td id=\"T_e4aa7412_b383_11eb_9072_dd0b10f15b46row3_col5\" class=\"data row3 col5\" >0.5490</td>\n",
       "                        <td id=\"T_e4aa7412_b383_11eb_9072_dd0b10f15b46row3_col6\" class=\"data row3 col6\" >0.5494</td>\n",
       "            </tr>\n",
       "            <tr>\n",
       "                        <th id=\"T_e4aa7412_b383_11eb_9072_dd0b10f15b46level0_row4\" class=\"row_heading level0 row4\" >4</th>\n",
       "                        <td id=\"T_e4aa7412_b383_11eb_9072_dd0b10f15b46row4_col0\" class=\"data row4 col0\" >0.8899</td>\n",
       "                        <td id=\"T_e4aa7412_b383_11eb_9072_dd0b10f15b46row4_col1\" class=\"data row4 col1\" >0.9306</td>\n",
       "                        <td id=\"T_e4aa7412_b383_11eb_9072_dd0b10f15b46row4_col2\" class=\"data row4 col2\" >0.5556</td>\n",
       "                        <td id=\"T_e4aa7412_b383_11eb_9072_dd0b10f15b46row4_col3\" class=\"data row4 col3\" >0.5660</td>\n",
       "                        <td id=\"T_e4aa7412_b383_11eb_9072_dd0b10f15b46row4_col4\" class=\"data row4 col4\" >0.5607</td>\n",
       "                        <td id=\"T_e4aa7412_b383_11eb_9072_dd0b10f15b46row4_col5\" class=\"data row4 col5\" >0.4978</td>\n",
       "                        <td id=\"T_e4aa7412_b383_11eb_9072_dd0b10f15b46row4_col6\" class=\"data row4 col6\" >0.4978</td>\n",
       "            </tr>\n",
       "            <tr>\n",
       "                        <th id=\"T_e4aa7412_b383_11eb_9072_dd0b10f15b46level0_row5\" class=\"row_heading level0 row5\" >5</th>\n",
       "                        <td id=\"T_e4aa7412_b383_11eb_9072_dd0b10f15b46row5_col0\" class=\"data row5 col0\" >0.8889</td>\n",
       "                        <td id=\"T_e4aa7412_b383_11eb_9072_dd0b10f15b46row5_col1\" class=\"data row5 col1\" >0.9322</td>\n",
       "                        <td id=\"T_e4aa7412_b383_11eb_9072_dd0b10f15b46row5_col2\" class=\"data row5 col2\" >0.5593</td>\n",
       "                        <td id=\"T_e4aa7412_b383_11eb_9072_dd0b10f15b46row5_col3\" class=\"data row5 col3\" >0.5613</td>\n",
       "                        <td id=\"T_e4aa7412_b383_11eb_9072_dd0b10f15b46row5_col4\" class=\"data row5 col4\" >0.5603</td>\n",
       "                        <td id=\"T_e4aa7412_b383_11eb_9072_dd0b10f15b46row5_col5\" class=\"data row5 col5\" >0.4967</td>\n",
       "                        <td id=\"T_e4aa7412_b383_11eb_9072_dd0b10f15b46row5_col6\" class=\"data row5 col6\" >0.4967</td>\n",
       "            </tr>\n",
       "            <tr>\n",
       "                        <th id=\"T_e4aa7412_b383_11eb_9072_dd0b10f15b46level0_row6\" class=\"row_heading level0 row6\" >6</th>\n",
       "                        <td id=\"T_e4aa7412_b383_11eb_9072_dd0b10f15b46row6_col0\" class=\"data row6 col0\" >0.8960</td>\n",
       "                        <td id=\"T_e4aa7412_b383_11eb_9072_dd0b10f15b46row6_col1\" class=\"data row6 col1\" >0.9284</td>\n",
       "                        <td id=\"T_e4aa7412_b383_11eb_9072_dd0b10f15b46row6_col2\" class=\"data row6 col2\" >0.5259</td>\n",
       "                        <td id=\"T_e4aa7412_b383_11eb_9072_dd0b10f15b46row6_col3\" class=\"data row6 col3\" >0.6017</td>\n",
       "                        <td id=\"T_e4aa7412_b383_11eb_9072_dd0b10f15b46row6_col4\" class=\"data row6 col4\" >0.5613</td>\n",
       "                        <td id=\"T_e4aa7412_b383_11eb_9072_dd0b10f15b46row6_col5\" class=\"data row6 col5\" >0.5026</td>\n",
       "                        <td id=\"T_e4aa7412_b383_11eb_9072_dd0b10f15b46row6_col6\" class=\"data row6 col6\" >0.5040</td>\n",
       "            </tr>\n",
       "            <tr>\n",
       "                        <th id=\"T_e4aa7412_b383_11eb_9072_dd0b10f15b46level0_row7\" class=\"row_heading level0 row7\" >7</th>\n",
       "                        <td id=\"T_e4aa7412_b383_11eb_9072_dd0b10f15b46row7_col0\" class=\"data row7 col0\" >0.8983</td>\n",
       "                        <td id=\"T_e4aa7412_b383_11eb_9072_dd0b10f15b46row7_col1\" class=\"data row7 col1\" >0.9354</td>\n",
       "                        <td id=\"T_e4aa7412_b383_11eb_9072_dd0b10f15b46row7_col2\" class=\"data row7 col2\" >0.5630</td>\n",
       "                        <td id=\"T_e4aa7412_b383_11eb_9072_dd0b10f15b46row7_col3\" class=\"data row7 col3\" >0.6056</td>\n",
       "                        <td id=\"T_e4aa7412_b383_11eb_9072_dd0b10f15b46row7_col4\" class=\"data row7 col4\" >0.5835</td>\n",
       "                        <td id=\"T_e4aa7412_b383_11eb_9072_dd0b10f15b46row7_col5\" class=\"data row7 col5\" >0.5257</td>\n",
       "                        <td id=\"T_e4aa7412_b383_11eb_9072_dd0b10f15b46row7_col6\" class=\"data row7 col6\" >0.5261</td>\n",
       "            </tr>\n",
       "            <tr>\n",
       "                        <th id=\"T_e4aa7412_b383_11eb_9072_dd0b10f15b46level0_row8\" class=\"row_heading level0 row8\" >8</th>\n",
       "                        <td id=\"T_e4aa7412_b383_11eb_9072_dd0b10f15b46row8_col0\" class=\"data row8 col0\" >0.8978</td>\n",
       "                        <td id=\"T_e4aa7412_b383_11eb_9072_dd0b10f15b46row8_col1\" class=\"data row8 col1\" >0.9292</td>\n",
       "                        <td id=\"T_e4aa7412_b383_11eb_9072_dd0b10f15b46row8_col2\" class=\"data row8 col2\" >0.5963</td>\n",
       "                        <td id=\"T_e4aa7412_b383_11eb_9072_dd0b10f15b46row8_col3\" class=\"data row8 col3\" >0.5963</td>\n",
       "                        <td id=\"T_e4aa7412_b383_11eb_9072_dd0b10f15b46row8_col4\" class=\"data row8 col4\" >0.5963</td>\n",
       "                        <td id=\"T_e4aa7412_b383_11eb_9072_dd0b10f15b46row8_col5\" class=\"data row8 col5\" >0.5378</td>\n",
       "                        <td id=\"T_e4aa7412_b383_11eb_9072_dd0b10f15b46row8_col6\" class=\"data row8 col6\" >0.5378</td>\n",
       "            </tr>\n",
       "            <tr>\n",
       "                        <th id=\"T_e4aa7412_b383_11eb_9072_dd0b10f15b46level0_row9\" class=\"row_heading level0 row9\" >9</th>\n",
       "                        <td id=\"T_e4aa7412_b383_11eb_9072_dd0b10f15b46row9_col0\" class=\"data row9 col0\" >0.9124</td>\n",
       "                        <td id=\"T_e4aa7412_b383_11eb_9072_dd0b10f15b46row9_col1\" class=\"data row9 col1\" >0.9460</td>\n",
       "                        <td id=\"T_e4aa7412_b383_11eb_9072_dd0b10f15b46row9_col2\" class=\"data row9 col2\" >0.5741</td>\n",
       "                        <td id=\"T_e4aa7412_b383_11eb_9072_dd0b10f15b46row9_col3\" class=\"data row9 col3\" >0.6828</td>\n",
       "                        <td id=\"T_e4aa7412_b383_11eb_9072_dd0b10f15b46row9_col4\" class=\"data row9 col4\" >0.6237</td>\n",
       "                        <td id=\"T_e4aa7412_b383_11eb_9072_dd0b10f15b46row9_col5\" class=\"data row9 col5\" >0.5746</td>\n",
       "                        <td id=\"T_e4aa7412_b383_11eb_9072_dd0b10f15b46row9_col6\" class=\"data row9 col6\" >0.5773</td>\n",
       "            </tr>\n",
       "            <tr>\n",
       "                        <th id=\"T_e4aa7412_b383_11eb_9072_dd0b10f15b46level0_row10\" class=\"row_heading level0 row10\" >Mean</th>\n",
       "                        <td id=\"T_e4aa7412_b383_11eb_9072_dd0b10f15b46row10_col0\" class=\"data row10 col0\" >0.8971</td>\n",
       "                        <td id=\"T_e4aa7412_b383_11eb_9072_dd0b10f15b46row10_col1\" class=\"data row10 col1\" >0.9342</td>\n",
       "                        <td id=\"T_e4aa7412_b383_11eb_9072_dd0b10f15b46row10_col2\" class=\"data row10 col2\" >0.5617</td>\n",
       "                        <td id=\"T_e4aa7412_b383_11eb_9072_dd0b10f15b46row10_col3\" class=\"data row10 col3\" >0.6011</td>\n",
       "                        <td id=\"T_e4aa7412_b383_11eb_9072_dd0b10f15b46row10_col4\" class=\"data row10 col4\" >0.5803</td>\n",
       "                        <td id=\"T_e4aa7412_b383_11eb_9072_dd0b10f15b46row10_col5\" class=\"data row10 col5\" >0.5218</td>\n",
       "                        <td id=\"T_e4aa7412_b383_11eb_9072_dd0b10f15b46row10_col6\" class=\"data row10 col6\" >0.5224</td>\n",
       "            </tr>\n",
       "            <tr>\n",
       "                        <th id=\"T_e4aa7412_b383_11eb_9072_dd0b10f15b46level0_row11\" class=\"row_heading level0 row11\" >SD</th>\n",
       "                        <td id=\"T_e4aa7412_b383_11eb_9072_dd0b10f15b46row11_col0\" class=\"data row11 col0\" >0.0077</td>\n",
       "                        <td id=\"T_e4aa7412_b383_11eb_9072_dd0b10f15b46row11_col1\" class=\"data row11 col1\" >0.0053</td>\n",
       "                        <td id=\"T_e4aa7412_b383_11eb_9072_dd0b10f15b46row11_col2\" class=\"data row11 col2\" >0.0267</td>\n",
       "                        <td id=\"T_e4aa7412_b383_11eb_9072_dd0b10f15b46row11_col3\" class=\"data row11 col3\" >0.0370</td>\n",
       "                        <td id=\"T_e4aa7412_b383_11eb_9072_dd0b10f15b46row11_col4\" class=\"data row11 col4\" >0.0273</td>\n",
       "                        <td id=\"T_e4aa7412_b383_11eb_9072_dd0b10f15b46row11_col5\" class=\"data row11 col5\" >0.0316</td>\n",
       "                        <td id=\"T_e4aa7412_b383_11eb_9072_dd0b10f15b46row11_col6\" class=\"data row11 col6\" >0.0319</td>\n",
       "            </tr>\n",
       "    </tbody></table>"
      ],
      "text/plain": [
       "<pandas.io.formats.style.Styler at 0x1cb001f7fd0>"
      ]
     },
     "metadata": {},
     "output_type": "display_data"
    }
   ],
   "source": [
    "lgbm = create_model(\"lightgbm\")"
   ]
  },
  {
   "cell_type": "code",
   "execution_count": 92,
   "metadata": {},
   "outputs": [
    {
     "name": "stdout",
     "output_type": "stream",
     "text": [
      "LGBMClassifier(boosting_type='gbdt', class_weight=None, colsample_bytree=1.0,\n",
      "               importance_type='split', learning_rate=0.1, max_depth=-1,\n",
      "               min_child_samples=20, min_child_weight=0.001, min_split_gain=0.0,\n",
      "               n_estimators=100, n_jobs=-1, num_leaves=31, objective=None,\n",
      "               random_state=234, reg_alpha=0.0, reg_lambda=0.0, silent=True,\n",
      "               subsample=1.0, subsample_for_bin=200000, subsample_freq=0)\n"
     ]
    }
   ],
   "source": [
    "#trained model object is stored in the variable 'lgbm'. \n",
    "print(lgbm)"
   ]
  },
  {
   "cell_type": "code",
   "execution_count": 93,
   "metadata": {},
   "outputs": [
    {
     "data": {
      "text/html": [
       "<style  type=\"text/css\" >\n",
       "#T_32ceb33a_b384_11eb_b1e2_dd0b10f15b46row10_col0,#T_32ceb33a_b384_11eb_b1e2_dd0b10f15b46row10_col1,#T_32ceb33a_b384_11eb_b1e2_dd0b10f15b46row10_col2,#T_32ceb33a_b384_11eb_b1e2_dd0b10f15b46row10_col3,#T_32ceb33a_b384_11eb_b1e2_dd0b10f15b46row10_col4,#T_32ceb33a_b384_11eb_b1e2_dd0b10f15b46row10_col5,#T_32ceb33a_b384_11eb_b1e2_dd0b10f15b46row10_col6{\n",
       "            background:  yellow;\n",
       "        }</style><table id=\"T_32ceb33a_b384_11eb_b1e2_dd0b10f15b46\" ><thead>    <tr>        <th class=\"blank level0\" ></th>        <th class=\"col_heading level0 col0\" >Accuracy</th>        <th class=\"col_heading level0 col1\" >AUC</th>        <th class=\"col_heading level0 col2\" >Recall</th>        <th class=\"col_heading level0 col3\" >Prec.</th>        <th class=\"col_heading level0 col4\" >F1</th>        <th class=\"col_heading level0 col5\" >Kappa</th>        <th class=\"col_heading level0 col6\" >MCC</th>    </tr></thead><tbody>\n",
       "                <tr>\n",
       "                        <th id=\"T_32ceb33a_b384_11eb_b1e2_dd0b10f15b46level0_row0\" class=\"row_heading level0 row0\" >0</th>\n",
       "                        <td id=\"T_32ceb33a_b384_11eb_b1e2_dd0b10f15b46row0_col0\" class=\"data row0 col0\" >0.8904</td>\n",
       "                        <td id=\"T_32ceb33a_b384_11eb_b1e2_dd0b10f15b46row0_col1\" class=\"data row0 col1\" >0.9321</td>\n",
       "                        <td id=\"T_32ceb33a_b384_11eb_b1e2_dd0b10f15b46row0_col2\" class=\"data row0 col2\" >0.5498</td>\n",
       "                        <td id=\"T_32ceb33a_b384_11eb_b1e2_dd0b10f15b46row0_col3\" class=\"data row0 col3\" >0.5709</td>\n",
       "                        <td id=\"T_32ceb33a_b384_11eb_b1e2_dd0b10f15b46row0_col4\" class=\"data row0 col4\" >0.5602</td>\n",
       "                        <td id=\"T_32ceb33a_b384_11eb_b1e2_dd0b10f15b46row0_col5\" class=\"data row0 col5\" >0.4976</td>\n",
       "                        <td id=\"T_32ceb33a_b384_11eb_b1e2_dd0b10f15b46row0_col6\" class=\"data row0 col6\" >0.4977</td>\n",
       "            </tr>\n",
       "            <tr>\n",
       "                        <th id=\"T_32ceb33a_b384_11eb_b1e2_dd0b10f15b46level0_row1\" class=\"row_heading level0 row1\" >1</th>\n",
       "                        <td id=\"T_32ceb33a_b384_11eb_b1e2_dd0b10f15b46row1_col0\" class=\"data row1 col0\" >0.9025</td>\n",
       "                        <td id=\"T_32ceb33a_b384_11eb_b1e2_dd0b10f15b46row1_col1\" class=\"data row1 col1\" >0.9387</td>\n",
       "                        <td id=\"T_32ceb33a_b384_11eb_b1e2_dd0b10f15b46row1_col2\" class=\"data row1 col2\" >0.6111</td>\n",
       "                        <td id=\"T_32ceb33a_b384_11eb_b1e2_dd0b10f15b46row1_col3\" class=\"data row1 col3\" >0.6157</td>\n",
       "                        <td id=\"T_32ceb33a_b384_11eb_b1e2_dd0b10f15b46row1_col4\" class=\"data row1 col4\" >0.6134</td>\n",
       "                        <td id=\"T_32ceb33a_b384_11eb_b1e2_dd0b10f15b46row1_col5\" class=\"data row1 col5\" >0.5576</td>\n",
       "                        <td id=\"T_32ceb33a_b384_11eb_b1e2_dd0b10f15b46row1_col6\" class=\"data row1 col6\" >0.5576</td>\n",
       "            </tr>\n",
       "            <tr>\n",
       "                        <th id=\"T_32ceb33a_b384_11eb_b1e2_dd0b10f15b46level0_row2\" class=\"row_heading level0 row2\" >2</th>\n",
       "                        <td id=\"T_32ceb33a_b384_11eb_b1e2_dd0b10f15b46row2_col0\" class=\"data row2 col0\" >0.8913</td>\n",
       "                        <td id=\"T_32ceb33a_b384_11eb_b1e2_dd0b10f15b46row2_col1\" class=\"data row2 col1\" >0.9282</td>\n",
       "                        <td id=\"T_32ceb33a_b384_11eb_b1e2_dd0b10f15b46row2_col2\" class=\"data row2 col2\" >0.5926</td>\n",
       "                        <td id=\"T_32ceb33a_b384_11eb_b1e2_dd0b10f15b46row2_col3\" class=\"data row2 col3\" >0.5674</td>\n",
       "                        <td id=\"T_32ceb33a_b384_11eb_b1e2_dd0b10f15b46row2_col4\" class=\"data row2 col4\" >0.5797</td>\n",
       "                        <td id=\"T_32ceb33a_b384_11eb_b1e2_dd0b10f15b46row2_col5\" class=\"data row2 col5\" >0.5173</td>\n",
       "                        <td id=\"T_32ceb33a_b384_11eb_b1e2_dd0b10f15b46row2_col6\" class=\"data row2 col6\" >0.5175</td>\n",
       "            </tr>\n",
       "            <tr>\n",
       "                        <th id=\"T_32ceb33a_b384_11eb_b1e2_dd0b10f15b46level0_row3\" class=\"row_heading level0 row3\" >3</th>\n",
       "                        <td id=\"T_32ceb33a_b384_11eb_b1e2_dd0b10f15b46row3_col0\" class=\"data row3 col0\" >0.9067</td>\n",
       "                        <td id=\"T_32ceb33a_b384_11eb_b1e2_dd0b10f15b46row3_col1\" class=\"data row3 col1\" >0.9397</td>\n",
       "                        <td id=\"T_32ceb33a_b384_11eb_b1e2_dd0b10f15b46row3_col2\" class=\"data row3 col2\" >0.6407</td>\n",
       "                        <td id=\"T_32ceb33a_b384_11eb_b1e2_dd0b10f15b46row3_col3\" class=\"data row3 col3\" >0.6291</td>\n",
       "                        <td id=\"T_32ceb33a_b384_11eb_b1e2_dd0b10f15b46row3_col4\" class=\"data row3 col4\" >0.6349</td>\n",
       "                        <td id=\"T_32ceb33a_b384_11eb_b1e2_dd0b10f15b46row3_col5\" class=\"data row3 col5\" >0.5814</td>\n",
       "                        <td id=\"T_32ceb33a_b384_11eb_b1e2_dd0b10f15b46row3_col6\" class=\"data row3 col6\" >0.5814</td>\n",
       "            </tr>\n",
       "            <tr>\n",
       "                        <th id=\"T_32ceb33a_b384_11eb_b1e2_dd0b10f15b46level0_row4\" class=\"row_heading level0 row4\" >4</th>\n",
       "                        <td id=\"T_32ceb33a_b384_11eb_b1e2_dd0b10f15b46row4_col0\" class=\"data row4 col0\" >0.8927</td>\n",
       "                        <td id=\"T_32ceb33a_b384_11eb_b1e2_dd0b10f15b46row4_col1\" class=\"data row4 col1\" >0.9307</td>\n",
       "                        <td id=\"T_32ceb33a_b384_11eb_b1e2_dd0b10f15b46row4_col2\" class=\"data row4 col2\" >0.6074</td>\n",
       "                        <td id=\"T_32ceb33a_b384_11eb_b1e2_dd0b10f15b46row4_col3\" class=\"data row4 col3\" >0.5714</td>\n",
       "                        <td id=\"T_32ceb33a_b384_11eb_b1e2_dd0b10f15b46row4_col4\" class=\"data row4 col4\" >0.5889</td>\n",
       "                        <td id=\"T_32ceb33a_b384_11eb_b1e2_dd0b10f15b46row4_col5\" class=\"data row4 col5\" >0.5272</td>\n",
       "                        <td id=\"T_32ceb33a_b384_11eb_b1e2_dd0b10f15b46row4_col6\" class=\"data row4 col6\" >0.5276</td>\n",
       "            </tr>\n",
       "            <tr>\n",
       "                        <th id=\"T_32ceb33a_b384_11eb_b1e2_dd0b10f15b46level0_row5\" class=\"row_heading level0 row5\" >5</th>\n",
       "                        <td id=\"T_32ceb33a_b384_11eb_b1e2_dd0b10f15b46row5_col0\" class=\"data row5 col0\" >0.8922</td>\n",
       "                        <td id=\"T_32ceb33a_b384_11eb_b1e2_dd0b10f15b46row5_col1\" class=\"data row5 col1\" >0.9284</td>\n",
       "                        <td id=\"T_32ceb33a_b384_11eb_b1e2_dd0b10f15b46row5_col2\" class=\"data row5 col2\" >0.5889</td>\n",
       "                        <td id=\"T_32ceb33a_b384_11eb_b1e2_dd0b10f15b46row5_col3\" class=\"data row5 col3\" >0.5719</td>\n",
       "                        <td id=\"T_32ceb33a_b384_11eb_b1e2_dd0b10f15b46row5_col4\" class=\"data row5 col4\" >0.5803</td>\n",
       "                        <td id=\"T_32ceb33a_b384_11eb_b1e2_dd0b10f15b46row5_col5\" class=\"data row5 col5\" >0.5185</td>\n",
       "                        <td id=\"T_32ceb33a_b384_11eb_b1e2_dd0b10f15b46row5_col6\" class=\"data row5 col6\" >0.5186</td>\n",
       "            </tr>\n",
       "            <tr>\n",
       "                        <th id=\"T_32ceb33a_b384_11eb_b1e2_dd0b10f15b46level0_row6\" class=\"row_heading level0 row6\" >6</th>\n",
       "                        <td id=\"T_32ceb33a_b384_11eb_b1e2_dd0b10f15b46row6_col0\" class=\"data row6 col0\" >0.8927</td>\n",
       "                        <td id=\"T_32ceb33a_b384_11eb_b1e2_dd0b10f15b46row6_col1\" class=\"data row6 col1\" >0.9264</td>\n",
       "                        <td id=\"T_32ceb33a_b384_11eb_b1e2_dd0b10f15b46row6_col2\" class=\"data row6 col2\" >0.5481</td>\n",
       "                        <td id=\"T_32ceb33a_b384_11eb_b1e2_dd0b10f15b46row6_col3\" class=\"data row6 col3\" >0.5804</td>\n",
       "                        <td id=\"T_32ceb33a_b384_11eb_b1e2_dd0b10f15b46row6_col4\" class=\"data row6 col4\" >0.5638</td>\n",
       "                        <td id=\"T_32ceb33a_b384_11eb_b1e2_dd0b10f15b46row6_col5\" class=\"data row6 col5\" >0.5027</td>\n",
       "                        <td id=\"T_32ceb33a_b384_11eb_b1e2_dd0b10f15b46row6_col6\" class=\"data row6 col6\" >0.5030</td>\n",
       "            </tr>\n",
       "            <tr>\n",
       "                        <th id=\"T_32ceb33a_b384_11eb_b1e2_dd0b10f15b46level0_row7\" class=\"row_heading level0 row7\" >7</th>\n",
       "                        <td id=\"T_32ceb33a_b384_11eb_b1e2_dd0b10f15b46row7_col0\" class=\"data row7 col0\" >0.8978</td>\n",
       "                        <td id=\"T_32ceb33a_b384_11eb_b1e2_dd0b10f15b46row7_col1\" class=\"data row7 col1\" >0.9355</td>\n",
       "                        <td id=\"T_32ceb33a_b384_11eb_b1e2_dd0b10f15b46row7_col2\" class=\"data row7 col2\" >0.6000</td>\n",
       "                        <td id=\"T_32ceb33a_b384_11eb_b1e2_dd0b10f15b46row7_col3\" class=\"data row7 col3\" >0.5956</td>\n",
       "                        <td id=\"T_32ceb33a_b384_11eb_b1e2_dd0b10f15b46row7_col4\" class=\"data row7 col4\" >0.5978</td>\n",
       "                        <td id=\"T_32ceb33a_b384_11eb_b1e2_dd0b10f15b46row7_col5\" class=\"data row7 col5\" >0.5393</td>\n",
       "                        <td id=\"T_32ceb33a_b384_11eb_b1e2_dd0b10f15b46row7_col6\" class=\"data row7 col6\" >0.5393</td>\n",
       "            </tr>\n",
       "            <tr>\n",
       "                        <th id=\"T_32ceb33a_b384_11eb_b1e2_dd0b10f15b46level0_row8\" class=\"row_heading level0 row8\" >8</th>\n",
       "                        <td id=\"T_32ceb33a_b384_11eb_b1e2_dd0b10f15b46row8_col0\" class=\"data row8 col0\" >0.8978</td>\n",
       "                        <td id=\"T_32ceb33a_b384_11eb_b1e2_dd0b10f15b46row8_col1\" class=\"data row8 col1\" >0.9306</td>\n",
       "                        <td id=\"T_32ceb33a_b384_11eb_b1e2_dd0b10f15b46row8_col2\" class=\"data row8 col2\" >0.5926</td>\n",
       "                        <td id=\"T_32ceb33a_b384_11eb_b1e2_dd0b10f15b46row8_col3\" class=\"data row8 col3\" >0.5970</td>\n",
       "                        <td id=\"T_32ceb33a_b384_11eb_b1e2_dd0b10f15b46row8_col4\" class=\"data row8 col4\" >0.5948</td>\n",
       "                        <td id=\"T_32ceb33a_b384_11eb_b1e2_dd0b10f15b46row8_col5\" class=\"data row8 col5\" >0.5364</td>\n",
       "                        <td id=\"T_32ceb33a_b384_11eb_b1e2_dd0b10f15b46row8_col6\" class=\"data row8 col6\" >0.5364</td>\n",
       "            </tr>\n",
       "            <tr>\n",
       "                        <th id=\"T_32ceb33a_b384_11eb_b1e2_dd0b10f15b46level0_row9\" class=\"row_heading level0 row9\" >9</th>\n",
       "                        <td id=\"T_32ceb33a_b384_11eb_b1e2_dd0b10f15b46row9_col0\" class=\"data row9 col0\" >0.9110</td>\n",
       "                        <td id=\"T_32ceb33a_b384_11eb_b1e2_dd0b10f15b46row9_col1\" class=\"data row9 col1\" >0.9436</td>\n",
       "                        <td id=\"T_32ceb33a_b384_11eb_b1e2_dd0b10f15b46row9_col2\" class=\"data row9 col2\" >0.5852</td>\n",
       "                        <td id=\"T_32ceb33a_b384_11eb_b1e2_dd0b10f15b46row9_col3\" class=\"data row9 col3\" >0.6695</td>\n",
       "                        <td id=\"T_32ceb33a_b384_11eb_b1e2_dd0b10f15b46row9_col4\" class=\"data row9 col4\" >0.6245</td>\n",
       "                        <td id=\"T_32ceb33a_b384_11eb_b1e2_dd0b10f15b46row9_col5\" class=\"data row9 col5\" >0.5743</td>\n",
       "                        <td id=\"T_32ceb33a_b384_11eb_b1e2_dd0b10f15b46row9_col6\" class=\"data row9 col6\" >0.5759</td>\n",
       "            </tr>\n",
       "            <tr>\n",
       "                        <th id=\"T_32ceb33a_b384_11eb_b1e2_dd0b10f15b46level0_row10\" class=\"row_heading level0 row10\" >Mean</th>\n",
       "                        <td id=\"T_32ceb33a_b384_11eb_b1e2_dd0b10f15b46row10_col0\" class=\"data row10 col0\" >0.8975</td>\n",
       "                        <td id=\"T_32ceb33a_b384_11eb_b1e2_dd0b10f15b46row10_col1\" class=\"data row10 col1\" >0.9334</td>\n",
       "                        <td id=\"T_32ceb33a_b384_11eb_b1e2_dd0b10f15b46row10_col2\" class=\"data row10 col2\" >0.5916</td>\n",
       "                        <td id=\"T_32ceb33a_b384_11eb_b1e2_dd0b10f15b46row10_col3\" class=\"data row10 col3\" >0.5969</td>\n",
       "                        <td id=\"T_32ceb33a_b384_11eb_b1e2_dd0b10f15b46row10_col4\" class=\"data row10 col4\" >0.5938</td>\n",
       "                        <td id=\"T_32ceb33a_b384_11eb_b1e2_dd0b10f15b46row10_col5\" class=\"data row10 col5\" >0.5352</td>\n",
       "                        <td id=\"T_32ceb33a_b384_11eb_b1e2_dd0b10f15b46row10_col6\" class=\"data row10 col6\" >0.5355</td>\n",
       "            </tr>\n",
       "            <tr>\n",
       "                        <th id=\"T_32ceb33a_b384_11eb_b1e2_dd0b10f15b46level0_row11\" class=\"row_heading level0 row11\" >SD</th>\n",
       "                        <td id=\"T_32ceb33a_b384_11eb_b1e2_dd0b10f15b46row11_col0\" class=\"data row11 col0\" >0.0067</td>\n",
       "                        <td id=\"T_32ceb33a_b384_11eb_b1e2_dd0b10f15b46row11_col1\" class=\"data row11 col1\" >0.0054</td>\n",
       "                        <td id=\"T_32ceb33a_b384_11eb_b1e2_dd0b10f15b46row11_col2\" class=\"data row11 col2\" >0.0261</td>\n",
       "                        <td id=\"T_32ceb33a_b384_11eb_b1e2_dd0b10f15b46row11_col3\" class=\"data row11 col3\" >0.0312</td>\n",
       "                        <td id=\"T_32ceb33a_b384_11eb_b1e2_dd0b10f15b46row11_col4\" class=\"data row11 col4\" >0.0234</td>\n",
       "                        <td id=\"T_32ceb33a_b384_11eb_b1e2_dd0b10f15b46row11_col5\" class=\"data row11 col5\" >0.0271</td>\n",
       "                        <td id=\"T_32ceb33a_b384_11eb_b1e2_dd0b10f15b46row11_col6\" class=\"data row11 col6\" >0.0272</td>\n",
       "            </tr>\n",
       "    </tbody></table>"
      ],
      "text/plain": [
       "<pandas.io.formats.style.Styler at 0x1cb7d8abda0>"
      ]
     },
     "metadata": {},
     "output_type": "display_data"
    }
   ],
   "source": [
    "tuned_lgbm = tune_model(lgbm, optimize=\"AUC\")"
   ]
  },
  {
   "cell_type": "code",
   "execution_count": 94,
   "metadata": {},
   "outputs": [
    {
     "name": "stdout",
     "output_type": "stream",
     "text": [
      "LGBMClassifier(bagging_fraction=0.9, bagging_freq=4, boosting_type='gbdt',\n",
      "               class_weight=None, colsample_bytree=1.0, feature_fraction=1.0,\n",
      "               importance_type='split', learning_rate=0.2, max_depth=-1,\n",
      "               min_child_samples=16, min_child_weight=0.001, min_split_gain=0.3,\n",
      "               n_estimators=180, n_jobs=-1, num_leaves=4, objective=None,\n",
      "               random_state=234, reg_alpha=0.7, reg_lambda=3, silent=True,\n",
      "               subsample=1.0, subsample_for_bin=200000, subsample_freq=0)\n"
     ]
    }
   ],
   "source": [
    "#tuned model object is stored in the variable 'tuned_lgbm'. \n",
    "print(tuned_lgbm)"
   ]
  },
  {
   "cell_type": "code",
   "execution_count": 95,
   "metadata": {},
   "outputs": [
    {
     "data": {
      "image/png": "[encoded data removed]",
      "text/plain": [
       "<Figure size 576x396 with 1 Axes>"
      ]
     },
     "metadata": {},
     "output_type": "display_data"
    }
   ],
   "source": [
    "plot_model(tuned_lgbm, plot = 'auc')"
   ]
  },
  {
   "cell_type": "code",
   "execution_count": 96,
   "metadata": {},
   "outputs": [
    {
     "data": {
      "image/png": "[encoded data removed]",
      "text/plain": [
       "<Figure size 800x500 with 1 Axes>"
      ]
     },
     "metadata": {},
     "output_type": "display_data"
    }
   ],
   "source": [
    "plot_model(tuned_lgbm, plot='feature')"
   ]
  },
  {
   "cell_type": "code",
   "execution_count": 97,
   "metadata": {},
   "outputs": [
    {
     "data": {
      "image/png": "[encoded data removed]",
      "text/plain": [
       "<Figure size 576x396 with 1 Axes>"
      ]
     },
     "metadata": {},
     "output_type": "display_data"
    }
   ],
   "source": [
    "plot_model(tuned_lgbm, plot = 'confusion_matrix')"
   ]
  },
  {
   "cell_type": "code",
   "execution_count": 98,
   "metadata": {},
   "outputs": [
    {
     "data": {
      "image/png": "[encoded data removed]",
      "text/plain": [
       "<Figure size 576x396 with 2 Axes>"
      ]
     },
     "metadata": {},
     "output_type": "display_data"
    }
   ],
   "source": [
    "plot_model(tuned_lgbm, plot = 'class_report')"
   ]
  },
  {
   "cell_type": "markdown",
   "metadata": {},
   "source": [
    "### **Blending**"
   ]
  },
  {
   "cell_type": "code",
   "execution_count": 101,
   "metadata": {},
   "outputs": [
    {
     "data": {
      "text/html": [
       "<style  type=\"text/css\" >\n",
       "#T_b468d854_b384_11eb_860d_dd0b10f15b46row10_col0,#T_b468d854_b384_11eb_860d_dd0b10f15b46row10_col1,#T_b468d854_b384_11eb_860d_dd0b10f15b46row10_col2,#T_b468d854_b384_11eb_860d_dd0b10f15b46row10_col3,#T_b468d854_b384_11eb_860d_dd0b10f15b46row10_col4,#T_b468d854_b384_11eb_860d_dd0b10f15b46row10_col5,#T_b468d854_b384_11eb_860d_dd0b10f15b46row10_col6{\n",
       "            background:  yellow;\n",
       "        }</style><table id=\"T_b468d854_b384_11eb_860d_dd0b10f15b46\" ><thead>    <tr>        <th class=\"blank level0\" ></th>        <th class=\"col_heading level0 col0\" >Accuracy</th>        <th class=\"col_heading level0 col1\" >AUC</th>        <th class=\"col_heading level0 col2\" >Recall</th>        <th class=\"col_heading level0 col3\" >Prec.</th>        <th class=\"col_heading level0 col4\" >F1</th>        <th class=\"col_heading level0 col5\" >Kappa</th>        <th class=\"col_heading level0 col6\" >MCC</th>    </tr></thead><tbody>\n",
       "                <tr>\n",
       "                        <th id=\"T_b468d854_b384_11eb_860d_dd0b10f15b46level0_row0\" class=\"row_heading level0 row0\" >0</th>\n",
       "                        <td id=\"T_b468d854_b384_11eb_860d_dd0b10f15b46row0_col0\" class=\"data row0 col0\" >0.8899</td>\n",
       "                        <td id=\"T_b468d854_b384_11eb_860d_dd0b10f15b46row0_col1\" class=\"data row0 col1\" >0.9188</td>\n",
       "                        <td id=\"T_b468d854_b384_11eb_860d_dd0b10f15b46row0_col2\" class=\"data row0 col2\" >0.4945</td>\n",
       "                        <td id=\"T_b468d854_b384_11eb_860d_dd0b10f15b46row0_col3\" class=\"data row0 col3\" >0.5776</td>\n",
       "                        <td id=\"T_b468d854_b384_11eb_860d_dd0b10f15b46row0_col4\" class=\"data row0 col4\" >0.5328</td>\n",
       "                        <td id=\"T_b468d854_b384_11eb_860d_dd0b10f15b46row0_col5\" class=\"data row0 col5\" >0.4708</td>\n",
       "                        <td id=\"T_b468d854_b384_11eb_860d_dd0b10f15b46row0_col6\" class=\"data row0 col6\" >0.4727</td>\n",
       "            </tr>\n",
       "            <tr>\n",
       "                        <th id=\"T_b468d854_b384_11eb_860d_dd0b10f15b46level0_row1\" class=\"row_heading level0 row1\" >1</th>\n",
       "                        <td id=\"T_b468d854_b384_11eb_860d_dd0b10f15b46row1_col0\" class=\"data row1 col0\" >0.9039</td>\n",
       "                        <td id=\"T_b468d854_b384_11eb_860d_dd0b10f15b46row1_col1\" class=\"data row1 col1\" >0.9292</td>\n",
       "                        <td id=\"T_b468d854_b384_11eb_860d_dd0b10f15b46row1_col2\" class=\"data row1 col2\" >0.5630</td>\n",
       "                        <td id=\"T_b468d854_b384_11eb_860d_dd0b10f15b46row1_col3\" class=\"data row1 col3\" >0.6360</td>\n",
       "                        <td id=\"T_b468d854_b384_11eb_860d_dd0b10f15b46row1_col4\" class=\"data row1 col4\" >0.5972</td>\n",
       "                        <td id=\"T_b468d854_b384_11eb_860d_dd0b10f15b46row1_col5\" class=\"data row1 col5\" >0.5429</td>\n",
       "                        <td id=\"T_b468d854_b384_11eb_860d_dd0b10f15b46row1_col6\" class=\"data row1 col6\" >0.5442</td>\n",
       "            </tr>\n",
       "            <tr>\n",
       "                        <th id=\"T_b468d854_b384_11eb_860d_dd0b10f15b46level0_row2\" class=\"row_heading level0 row2\" >2</th>\n",
       "                        <td id=\"T_b468d854_b384_11eb_860d_dd0b10f15b46row2_col0\" class=\"data row2 col0\" >0.8988</td>\n",
       "                        <td id=\"T_b468d854_b384_11eb_860d_dd0b10f15b46row2_col1\" class=\"data row2 col1\" >0.9218</td>\n",
       "                        <td id=\"T_b468d854_b384_11eb_860d_dd0b10f15b46row2_col2\" class=\"data row2 col2\" >0.5333</td>\n",
       "                        <td id=\"T_b468d854_b384_11eb_860d_dd0b10f15b46row2_col3\" class=\"data row2 col3\" >0.6154</td>\n",
       "                        <td id=\"T_b468d854_b384_11eb_860d_dd0b10f15b46row2_col4\" class=\"data row2 col4\" >0.5714</td>\n",
       "                        <td id=\"T_b468d854_b384_11eb_860d_dd0b10f15b46row2_col5\" class=\"data row2 col5\" >0.5144</td>\n",
       "                        <td id=\"T_b468d854_b384_11eb_860d_dd0b10f15b46row2_col6\" class=\"data row2 col6\" >0.5161</td>\n",
       "            </tr>\n",
       "            <tr>\n",
       "                        <th id=\"T_b468d854_b384_11eb_860d_dd0b10f15b46level0_row3\" class=\"row_heading level0 row3\" >3</th>\n",
       "                        <td id=\"T_b468d854_b384_11eb_860d_dd0b10f15b46row3_col0\" class=\"data row3 col0\" >0.8988</td>\n",
       "                        <td id=\"T_b468d854_b384_11eb_860d_dd0b10f15b46row3_col1\" class=\"data row3 col1\" >0.9270</td>\n",
       "                        <td id=\"T_b468d854_b384_11eb_860d_dd0b10f15b46row3_col2\" class=\"data row3 col2\" >0.5593</td>\n",
       "                        <td id=\"T_b468d854_b384_11eb_860d_dd0b10f15b46row3_col3\" class=\"data row3 col3\" >0.6089</td>\n",
       "                        <td id=\"T_b468d854_b384_11eb_860d_dd0b10f15b46row3_col4\" class=\"data row3 col4\" >0.5830</td>\n",
       "                        <td id=\"T_b468d854_b384_11eb_860d_dd0b10f15b46row3_col5\" class=\"data row3 col5\" >0.5255</td>\n",
       "                        <td id=\"T_b468d854_b384_11eb_860d_dd0b10f15b46row3_col6\" class=\"data row3 col6\" >0.5261</td>\n",
       "            </tr>\n",
       "            <tr>\n",
       "                        <th id=\"T_b468d854_b384_11eb_860d_dd0b10f15b46level0_row4\" class=\"row_heading level0 row4\" >4</th>\n",
       "                        <td id=\"T_b468d854_b384_11eb_860d_dd0b10f15b46row4_col0\" class=\"data row4 col0\" >0.8866</td>\n",
       "                        <td id=\"T_b468d854_b384_11eb_860d_dd0b10f15b46row4_col1\" class=\"data row4 col1\" >0.9201</td>\n",
       "                        <td id=\"T_b468d854_b384_11eb_860d_dd0b10f15b46row4_col2\" class=\"data row4 col2\" >0.5148</td>\n",
       "                        <td id=\"T_b468d854_b384_11eb_860d_dd0b10f15b46row4_col3\" class=\"data row4 col3\" >0.5560</td>\n",
       "                        <td id=\"T_b468d854_b384_11eb_860d_dd0b10f15b46row4_col4\" class=\"data row4 col4\" >0.5346</td>\n",
       "                        <td id=\"T_b468d854_b384_11eb_860d_dd0b10f15b46row4_col5\" class=\"data row4 col5\" >0.4702</td>\n",
       "                        <td id=\"T_b468d854_b384_11eb_860d_dd0b10f15b46row4_col6\" class=\"data row4 col6\" >0.4706</td>\n",
       "            </tr>\n",
       "            <tr>\n",
       "                        <th id=\"T_b468d854_b384_11eb_860d_dd0b10f15b46level0_row5\" class=\"row_heading level0 row5\" >5</th>\n",
       "                        <td id=\"T_b468d854_b384_11eb_860d_dd0b10f15b46row5_col0\" class=\"data row5 col0\" >0.8861</td>\n",
       "                        <td id=\"T_b468d854_b384_11eb_860d_dd0b10f15b46row5_col1\" class=\"data row5 col1\" >0.9242</td>\n",
       "                        <td id=\"T_b468d854_b384_11eb_860d_dd0b10f15b46row5_col2\" class=\"data row5 col2\" >0.5296</td>\n",
       "                        <td id=\"T_b468d854_b384_11eb_860d_dd0b10f15b46row5_col3\" class=\"data row5 col3\" >0.5521</td>\n",
       "                        <td id=\"T_b468d854_b384_11eb_860d_dd0b10f15b46row5_col4\" class=\"data row5 col4\" >0.5406</td>\n",
       "                        <td id=\"T_b468d854_b384_11eb_860d_dd0b10f15b46row5_col5\" class=\"data row5 col5\" >0.4757</td>\n",
       "                        <td id=\"T_b468d854_b384_11eb_860d_dd0b10f15b46row5_col6\" class=\"data row5 col6\" >0.4758</td>\n",
       "            </tr>\n",
       "            <tr>\n",
       "                        <th id=\"T_b468d854_b384_11eb_860d_dd0b10f15b46level0_row6\" class=\"row_heading level0 row6\" >6</th>\n",
       "                        <td id=\"T_b468d854_b384_11eb_860d_dd0b10f15b46row6_col0\" class=\"data row6 col0\" >0.8880</td>\n",
       "                        <td id=\"T_b468d854_b384_11eb_860d_dd0b10f15b46row6_col1\" class=\"data row6 col1\" >0.9184</td>\n",
       "                        <td id=\"T_b468d854_b384_11eb_860d_dd0b10f15b46row6_col2\" class=\"data row6 col2\" >0.4963</td>\n",
       "                        <td id=\"T_b468d854_b384_11eb_860d_dd0b10f15b46row6_col3\" class=\"data row6 col3\" >0.5654</td>\n",
       "                        <td id=\"T_b468d854_b384_11eb_860d_dd0b10f15b46row6_col4\" class=\"data row6 col4\" >0.5286</td>\n",
       "                        <td id=\"T_b468d854_b384_11eb_860d_dd0b10f15b46row6_col5\" class=\"data row6 col5\" >0.4654</td>\n",
       "                        <td id=\"T_b468d854_b384_11eb_860d_dd0b10f15b46row6_col6\" class=\"data row6 col6\" >0.4666</td>\n",
       "            </tr>\n",
       "            <tr>\n",
       "                        <th id=\"T_b468d854_b384_11eb_860d_dd0b10f15b46level0_row7\" class=\"row_heading level0 row7\" >7</th>\n",
       "                        <td id=\"T_b468d854_b384_11eb_860d_dd0b10f15b46row7_col0\" class=\"data row7 col0\" >0.8913</td>\n",
       "                        <td id=\"T_b468d854_b384_11eb_860d_dd0b10f15b46row7_col1\" class=\"data row7 col1\" >0.9200</td>\n",
       "                        <td id=\"T_b468d854_b384_11eb_860d_dd0b10f15b46row7_col2\" class=\"data row7 col2\" >0.5630</td>\n",
       "                        <td id=\"T_b468d854_b384_11eb_860d_dd0b10f15b46row7_col3\" class=\"data row7 col3\" >0.5714</td>\n",
       "                        <td id=\"T_b468d854_b384_11eb_860d_dd0b10f15b46row7_col4\" class=\"data row7 col4\" >0.5672</td>\n",
       "                        <td id=\"T_b468d854_b384_11eb_860d_dd0b10f15b46row7_col5\" class=\"data row7 col5\" >0.5050</td>\n",
       "                        <td id=\"T_b468d854_b384_11eb_860d_dd0b10f15b46row7_col6\" class=\"data row7 col6\" >0.5050</td>\n",
       "            </tr>\n",
       "            <tr>\n",
       "                        <th id=\"T_b468d854_b384_11eb_860d_dd0b10f15b46level0_row8\" class=\"row_heading level0 row8\" >8</th>\n",
       "                        <td id=\"T_b468d854_b384_11eb_860d_dd0b10f15b46row8_col0\" class=\"data row8 col0\" >0.8913</td>\n",
       "                        <td id=\"T_b468d854_b384_11eb_860d_dd0b10f15b46row8_col1\" class=\"data row8 col1\" >0.9132</td>\n",
       "                        <td id=\"T_b468d854_b384_11eb_860d_dd0b10f15b46row8_col2\" class=\"data row8 col2\" >0.5185</td>\n",
       "                        <td id=\"T_b468d854_b384_11eb_860d_dd0b10f15b46row8_col3\" class=\"data row8 col3\" >0.5785</td>\n",
       "                        <td id=\"T_b468d854_b384_11eb_860d_dd0b10f15b46row8_col4\" class=\"data row8 col4\" >0.5469</td>\n",
       "                        <td id=\"T_b468d854_b384_11eb_860d_dd0b10f15b46row8_col5\" class=\"data row8 col5\" >0.4853</td>\n",
       "                        <td id=\"T_b468d854_b384_11eb_860d_dd0b10f15b46row8_col6\" class=\"data row8 col6\" >0.4863</td>\n",
       "            </tr>\n",
       "            <tr>\n",
       "                        <th id=\"T_b468d854_b384_11eb_860d_dd0b10f15b46level0_row9\" class=\"row_heading level0 row9\" >9</th>\n",
       "                        <td id=\"T_b468d854_b384_11eb_860d_dd0b10f15b46row9_col0\" class=\"data row9 col0\" >0.9077</td>\n",
       "                        <td id=\"T_b468d854_b384_11eb_860d_dd0b10f15b46row9_col1\" class=\"data row9 col1\" >0.9361</td>\n",
       "                        <td id=\"T_b468d854_b384_11eb_860d_dd0b10f15b46row9_col2\" class=\"data row9 col2\" >0.5556</td>\n",
       "                        <td id=\"T_b468d854_b384_11eb_860d_dd0b10f15b46row9_col3\" class=\"data row9 col3\" >0.6608</td>\n",
       "                        <td id=\"T_b468d854_b384_11eb_860d_dd0b10f15b46row9_col4\" class=\"data row9 col4\" >0.6036</td>\n",
       "                        <td id=\"T_b468d854_b384_11eb_860d_dd0b10f15b46row9_col5\" class=\"data row9 col5\" >0.5518</td>\n",
       "                        <td id=\"T_b468d854_b384_11eb_860d_dd0b10f15b46row9_col6\" class=\"data row9 col6\" >0.5545</td>\n",
       "            </tr>\n",
       "            <tr>\n",
       "                        <th id=\"T_b468d854_b384_11eb_860d_dd0b10f15b46level0_row10\" class=\"row_heading level0 row10\" >Mean</th>\n",
       "                        <td id=\"T_b468d854_b384_11eb_860d_dd0b10f15b46row10_col0\" class=\"data row10 col0\" >0.8942</td>\n",
       "                        <td id=\"T_b468d854_b384_11eb_860d_dd0b10f15b46row10_col1\" class=\"data row10 col1\" >0.9229</td>\n",
       "                        <td id=\"T_b468d854_b384_11eb_860d_dd0b10f15b46row10_col2\" class=\"data row10 col2\" >0.5328</td>\n",
       "                        <td id=\"T_b468d854_b384_11eb_860d_dd0b10f15b46row10_col3\" class=\"data row10 col3\" >0.5922</td>\n",
       "                        <td id=\"T_b468d854_b384_11eb_860d_dd0b10f15b46row10_col4\" class=\"data row10 col4\" >0.5606</td>\n",
       "                        <td id=\"T_b468d854_b384_11eb_860d_dd0b10f15b46row10_col5\" class=\"data row10 col5\" >0.5007</td>\n",
       "                        <td id=\"T_b468d854_b384_11eb_860d_dd0b10f15b46row10_col6\" class=\"data row10 col6\" >0.5018</td>\n",
       "            </tr>\n",
       "            <tr>\n",
       "                        <th id=\"T_b468d854_b384_11eb_860d_dd0b10f15b46level0_row11\" class=\"row_heading level0 row11\" >SD</th>\n",
       "                        <td id=\"T_b468d854_b384_11eb_860d_dd0b10f15b46row11_col0\" class=\"data row11 col0\" >0.0072</td>\n",
       "                        <td id=\"T_b468d854_b384_11eb_860d_dd0b10f15b46row11_col1\" class=\"data row11 col1\" >0.0062</td>\n",
       "                        <td id=\"T_b468d854_b384_11eb_860d_dd0b10f15b46row11_col2\" class=\"data row11 col2\" >0.0253</td>\n",
       "                        <td id=\"T_b468d854_b384_11eb_860d_dd0b10f15b46row11_col3\" class=\"data row11 col3\" >0.0345</td>\n",
       "                        <td id=\"T_b468d854_b384_11eb_860d_dd0b10f15b46row11_col4\" class=\"data row11 col4\" >0.0263</td>\n",
       "                        <td id=\"T_b468d854_b384_11eb_860d_dd0b10f15b46row11_col5\" class=\"data row11 col5\" >0.0303</td>\n",
       "                        <td id=\"T_b468d854_b384_11eb_860d_dd0b10f15b46row11_col6\" class=\"data row11 col6\" >0.0306</td>\n",
       "            </tr>\n",
       "    </tbody></table>"
      ],
      "text/plain": [
       "<pandas.io.formats.style.Styler at 0x1cb016b5a90>"
      ]
     },
     "metadata": {},
     "output_type": "display_data"
    }
   ],
   "source": [
    "#catboost = create_model(\"catboost\")\n",
    "#xgb = create_model(\"xgboost\")\n",
    "rf = create_model(\"rf\")"
   ]
  },
  {
   "cell_type": "code",
   "execution_count": 102,
   "metadata": {},
   "outputs": [
    {
     "data": {
      "text/html": [
       "<style  type=\"text/css\" >\n",
       "#T_c4495410_b384_11eb_8055_dd0b10f15b46row10_col0,#T_c4495410_b384_11eb_8055_dd0b10f15b46row10_col1,#T_c4495410_b384_11eb_8055_dd0b10f15b46row10_col2,#T_c4495410_b384_11eb_8055_dd0b10f15b46row10_col3,#T_c4495410_b384_11eb_8055_dd0b10f15b46row10_col4,#T_c4495410_b384_11eb_8055_dd0b10f15b46row10_col5,#T_c4495410_b384_11eb_8055_dd0b10f15b46row10_col6{\n",
       "            background:  yellow;\n",
       "        }</style><table id=\"T_c4495410_b384_11eb_8055_dd0b10f15b46\" ><thead>    <tr>        <th class=\"blank level0\" ></th>        <th class=\"col_heading level0 col0\" >Accuracy</th>        <th class=\"col_heading level0 col1\" >AUC</th>        <th class=\"col_heading level0 col2\" >Recall</th>        <th class=\"col_heading level0 col3\" >Prec.</th>        <th class=\"col_heading level0 col4\" >F1</th>        <th class=\"col_heading level0 col5\" >Kappa</th>        <th class=\"col_heading level0 col6\" >MCC</th>    </tr></thead><tbody>\n",
       "                <tr>\n",
       "                        <th id=\"T_c4495410_b384_11eb_8055_dd0b10f15b46level0_row0\" class=\"row_heading level0 row0\" >0</th>\n",
       "                        <td id=\"T_c4495410_b384_11eb_8055_dd0b10f15b46row0_col0\" class=\"data row0 col0\" >0.8909</td>\n",
       "                        <td id=\"T_c4495410_b384_11eb_8055_dd0b10f15b46row0_col1\" class=\"data row0 col1\" >0.9298</td>\n",
       "                        <td id=\"T_c4495410_b384_11eb_8055_dd0b10f15b46row0_col2\" class=\"data row0 col2\" >0.5018</td>\n",
       "                        <td id=\"T_c4495410_b384_11eb_8055_dd0b10f15b46row0_col3\" class=\"data row0 col3\" >0.5812</td>\n",
       "                        <td id=\"T_c4495410_b384_11eb_8055_dd0b10f15b46row0_col4\" class=\"data row0 col4\" >0.5386</td>\n",
       "                        <td id=\"T_c4495410_b384_11eb_8055_dd0b10f15b46row0_col5\" class=\"data row0 col5\" >0.4771</td>\n",
       "                        <td id=\"T_c4495410_b384_11eb_8055_dd0b10f15b46row0_col6\" class=\"data row0 col6\" >0.4788</td>\n",
       "            </tr>\n",
       "            <tr>\n",
       "                        <th id=\"T_c4495410_b384_11eb_8055_dd0b10f15b46level0_row1\" class=\"row_heading level0 row1\" >1</th>\n",
       "                        <td id=\"T_c4495410_b384_11eb_8055_dd0b10f15b46row1_col0\" class=\"data row1 col0\" >0.9063</td>\n",
       "                        <td id=\"T_c4495410_b384_11eb_8055_dd0b10f15b46row1_col1\" class=\"data row1 col1\" >0.9400</td>\n",
       "                        <td id=\"T_c4495410_b384_11eb_8055_dd0b10f15b46row1_col2\" class=\"data row1 col2\" >0.5815</td>\n",
       "                        <td id=\"T_c4495410_b384_11eb_8055_dd0b10f15b46row1_col3\" class=\"data row1 col3\" >0.6434</td>\n",
       "                        <td id=\"T_c4495410_b384_11eb_8055_dd0b10f15b46row1_col4\" class=\"data row1 col4\" >0.6109</td>\n",
       "                        <td id=\"T_c4495410_b384_11eb_8055_dd0b10f15b46row1_col5\" class=\"data row1 col5\" >0.5578</td>\n",
       "                        <td id=\"T_c4495410_b384_11eb_8055_dd0b10f15b46row1_col6\" class=\"data row1 col6\" >0.5587</td>\n",
       "            </tr>\n",
       "            <tr>\n",
       "                        <th id=\"T_c4495410_b384_11eb_8055_dd0b10f15b46level0_row2\" class=\"row_heading level0 row2\" >2</th>\n",
       "                        <td id=\"T_c4495410_b384_11eb_8055_dd0b10f15b46row2_col0\" class=\"data row2 col0\" >0.9011</td>\n",
       "                        <td id=\"T_c4495410_b384_11eb_8055_dd0b10f15b46row2_col1\" class=\"data row2 col1\" >0.9308</td>\n",
       "                        <td id=\"T_c4495410_b384_11eb_8055_dd0b10f15b46row2_col2\" class=\"data row2 col2\" >0.5704</td>\n",
       "                        <td id=\"T_c4495410_b384_11eb_8055_dd0b10f15b46row2_col3\" class=\"data row2 col3\" >0.6185</td>\n",
       "                        <td id=\"T_c4495410_b384_11eb_8055_dd0b10f15b46row2_col4\" class=\"data row2 col4\" >0.5934</td>\n",
       "                        <td id=\"T_c4495410_b384_11eb_8055_dd0b10f15b46row2_col5\" class=\"data row2 col5\" >0.5373</td>\n",
       "                        <td id=\"T_c4495410_b384_11eb_8055_dd0b10f15b46row2_col6\" class=\"data row2 col6\" >0.5378</td>\n",
       "            </tr>\n",
       "            <tr>\n",
       "                        <th id=\"T_c4495410_b384_11eb_8055_dd0b10f15b46level0_row3\" class=\"row_heading level0 row3\" >3</th>\n",
       "                        <td id=\"T_c4495410_b384_11eb_8055_dd0b10f15b46row3_col0\" class=\"data row3 col0\" >0.9025</td>\n",
       "                        <td id=\"T_c4495410_b384_11eb_8055_dd0b10f15b46row3_col1\" class=\"data row3 col1\" >0.9388</td>\n",
       "                        <td id=\"T_c4495410_b384_11eb_8055_dd0b10f15b46row3_col2\" class=\"data row3 col2\" >0.5963</td>\n",
       "                        <td id=\"T_c4495410_b384_11eb_8055_dd0b10f15b46row3_col3\" class=\"data row3 col3\" >0.6192</td>\n",
       "                        <td id=\"T_c4495410_b384_11eb_8055_dd0b10f15b46row3_col4\" class=\"data row3 col4\" >0.6075</td>\n",
       "                        <td id=\"T_c4495410_b384_11eb_8055_dd0b10f15b46row3_col5\" class=\"data row3 col5\" >0.5519</td>\n",
       "                        <td id=\"T_c4495410_b384_11eb_8055_dd0b10f15b46row3_col6\" class=\"data row3 col6\" >0.5521</td>\n",
       "            </tr>\n",
       "            <tr>\n",
       "                        <th id=\"T_c4495410_b384_11eb_8055_dd0b10f15b46level0_row4\" class=\"row_heading level0 row4\" >4</th>\n",
       "                        <td id=\"T_c4495410_b384_11eb_8055_dd0b10f15b46row4_col0\" class=\"data row4 col0\" >0.8988</td>\n",
       "                        <td id=\"T_c4495410_b384_11eb_8055_dd0b10f15b46row4_col1\" class=\"data row4 col1\" >0.9306</td>\n",
       "                        <td id=\"T_c4495410_b384_11eb_8055_dd0b10f15b46row4_col2\" class=\"data row4 col2\" >0.5815</td>\n",
       "                        <td id=\"T_c4495410_b384_11eb_8055_dd0b10f15b46row4_col3\" class=\"data row4 col3\" >0.6038</td>\n",
       "                        <td id=\"T_c4495410_b384_11eb_8055_dd0b10f15b46row4_col4\" class=\"data row4 col4\" >0.5925</td>\n",
       "                        <td id=\"T_c4495410_b384_11eb_8055_dd0b10f15b46row4_col5\" class=\"data row4 col5\" >0.5347</td>\n",
       "                        <td id=\"T_c4495410_b384_11eb_8055_dd0b10f15b46row4_col6\" class=\"data row4 col6\" >0.5348</td>\n",
       "            </tr>\n",
       "            <tr>\n",
       "                        <th id=\"T_c4495410_b384_11eb_8055_dd0b10f15b46level0_row5\" class=\"row_heading level0 row5\" >5</th>\n",
       "                        <td id=\"T_c4495410_b384_11eb_8055_dd0b10f15b46row5_col0\" class=\"data row5 col0\" >0.8871</td>\n",
       "                        <td id=\"T_c4495410_b384_11eb_8055_dd0b10f15b46row5_col1\" class=\"data row5 col1\" >0.9312</td>\n",
       "                        <td id=\"T_c4495410_b384_11eb_8055_dd0b10f15b46row5_col2\" class=\"data row5 col2\" >0.5778</td>\n",
       "                        <td id=\"T_c4495410_b384_11eb_8055_dd0b10f15b46row5_col3\" class=\"data row5 col3\" >0.5512</td>\n",
       "                        <td id=\"T_c4495410_b384_11eb_8055_dd0b10f15b46row5_col4\" class=\"data row5 col4\" >0.5642</td>\n",
       "                        <td id=\"T_c4495410_b384_11eb_8055_dd0b10f15b46row5_col5\" class=\"data row5 col5\" >0.4994</td>\n",
       "                        <td id=\"T_c4495410_b384_11eb_8055_dd0b10f15b46row5_col6\" class=\"data row5 col6\" >0.4995</td>\n",
       "            </tr>\n",
       "            <tr>\n",
       "                        <th id=\"T_c4495410_b384_11eb_8055_dd0b10f15b46level0_row6\" class=\"row_heading level0 row6\" >6</th>\n",
       "                        <td id=\"T_c4495410_b384_11eb_8055_dd0b10f15b46row6_col0\" class=\"data row6 col0\" >0.8927</td>\n",
       "                        <td id=\"T_c4495410_b384_11eb_8055_dd0b10f15b46row6_col1\" class=\"data row6 col1\" >0.9269</td>\n",
       "                        <td id=\"T_c4495410_b384_11eb_8055_dd0b10f15b46row6_col2\" class=\"data row6 col2\" >0.5185</td>\n",
       "                        <td id=\"T_c4495410_b384_11eb_8055_dd0b10f15b46row6_col3\" class=\"data row6 col3\" >0.5858</td>\n",
       "                        <td id=\"T_c4495410_b384_11eb_8055_dd0b10f15b46row6_col4\" class=\"data row6 col4\" >0.5501</td>\n",
       "                        <td id=\"T_c4495410_b384_11eb_8055_dd0b10f15b46row6_col5\" class=\"data row6 col5\" >0.4894</td>\n",
       "                        <td id=\"T_c4495410_b384_11eb_8055_dd0b10f15b46row6_col6\" class=\"data row6 col6\" >0.4906</td>\n",
       "            </tr>\n",
       "            <tr>\n",
       "                        <th id=\"T_c4495410_b384_11eb_8055_dd0b10f15b46level0_row7\" class=\"row_heading level0 row7\" >7</th>\n",
       "                        <td id=\"T_c4495410_b384_11eb_8055_dd0b10f15b46row7_col0\" class=\"data row7 col0\" >0.8978</td>\n",
       "                        <td id=\"T_c4495410_b384_11eb_8055_dd0b10f15b46row7_col1\" class=\"data row7 col1\" >0.9320</td>\n",
       "                        <td id=\"T_c4495410_b384_11eb_8055_dd0b10f15b46row7_col2\" class=\"data row7 col2\" >0.5852</td>\n",
       "                        <td id=\"T_c4495410_b384_11eb_8055_dd0b10f15b46row7_col3\" class=\"data row7 col3\" >0.5985</td>\n",
       "                        <td id=\"T_c4495410_b384_11eb_8055_dd0b10f15b46row7_col4\" class=\"data row7 col4\" >0.5918</td>\n",
       "                        <td id=\"T_c4495410_b384_11eb_8055_dd0b10f15b46row7_col5\" class=\"data row7 col5\" >0.5334</td>\n",
       "                        <td id=\"T_c4495410_b384_11eb_8055_dd0b10f15b46row7_col6\" class=\"data row7 col6\" >0.5334</td>\n",
       "            </tr>\n",
       "            <tr>\n",
       "                        <th id=\"T_c4495410_b384_11eb_8055_dd0b10f15b46level0_row8\" class=\"row_heading level0 row8\" >8</th>\n",
       "                        <td id=\"T_c4495410_b384_11eb_8055_dd0b10f15b46row8_col0\" class=\"data row8 col0\" >0.8936</td>\n",
       "                        <td id=\"T_c4495410_b384_11eb_8055_dd0b10f15b46row8_col1\" class=\"data row8 col1\" >0.9276</td>\n",
       "                        <td id=\"T_c4495410_b384_11eb_8055_dd0b10f15b46row8_col2\" class=\"data row8 col2\" >0.5407</td>\n",
       "                        <td id=\"T_c4495410_b384_11eb_8055_dd0b10f15b46row8_col3\" class=\"data row8 col3\" >0.5863</td>\n",
       "                        <td id=\"T_c4495410_b384_11eb_8055_dd0b10f15b46row8_col4\" class=\"data row8 col4\" >0.5626</td>\n",
       "                        <td id=\"T_c4495410_b384_11eb_8055_dd0b10f15b46row8_col5\" class=\"data row8 col5\" >0.5022</td>\n",
       "                        <td id=\"T_c4495410_b384_11eb_8055_dd0b10f15b46row8_col6\" class=\"data row8 col6\" >0.5027</td>\n",
       "            </tr>\n",
       "            <tr>\n",
       "                        <th id=\"T_c4495410_b384_11eb_8055_dd0b10f15b46level0_row9\" class=\"row_heading level0 row9\" >9</th>\n",
       "                        <td id=\"T_c4495410_b384_11eb_8055_dd0b10f15b46row9_col0\" class=\"data row9 col0\" >0.9077</td>\n",
       "                        <td id=\"T_c4495410_b384_11eb_8055_dd0b10f15b46row9_col1\" class=\"data row9 col1\" >0.9456</td>\n",
       "                        <td id=\"T_c4495410_b384_11eb_8055_dd0b10f15b46row9_col2\" class=\"data row9 col2\" >0.5444</td>\n",
       "                        <td id=\"T_c4495410_b384_11eb_8055_dd0b10f15b46row9_col3\" class=\"data row9 col3\" >0.6652</td>\n",
       "                        <td id=\"T_c4495410_b384_11eb_8055_dd0b10f15b46row9_col4\" class=\"data row9 col4\" >0.5988</td>\n",
       "                        <td id=\"T_c4495410_b384_11eb_8055_dd0b10f15b46row9_col5\" class=\"data row9 col5\" >0.5472</td>\n",
       "                        <td id=\"T_c4495410_b384_11eb_8055_dd0b10f15b46row9_col6\" class=\"data row9 col6\" >0.5507</td>\n",
       "            </tr>\n",
       "            <tr>\n",
       "                        <th id=\"T_c4495410_b384_11eb_8055_dd0b10f15b46level0_row10\" class=\"row_heading level0 row10\" >Mean</th>\n",
       "                        <td id=\"T_c4495410_b384_11eb_8055_dd0b10f15b46row10_col0\" class=\"data row10 col0\" >0.8978</td>\n",
       "                        <td id=\"T_c4495410_b384_11eb_8055_dd0b10f15b46row10_col1\" class=\"data row10 col1\" >0.9333</td>\n",
       "                        <td id=\"T_c4495410_b384_11eb_8055_dd0b10f15b46row10_col2\" class=\"data row10 col2\" >0.5598</td>\n",
       "                        <td id=\"T_c4495410_b384_11eb_8055_dd0b10f15b46row10_col3\" class=\"data row10 col3\" >0.6053</td>\n",
       "                        <td id=\"T_c4495410_b384_11eb_8055_dd0b10f15b46row10_col4\" class=\"data row10 col4\" >0.5810</td>\n",
       "                        <td id=\"T_c4495410_b384_11eb_8055_dd0b10f15b46row10_col5\" class=\"data row10 col5\" >0.5230</td>\n",
       "                        <td id=\"T_c4495410_b384_11eb_8055_dd0b10f15b46row10_col6\" class=\"data row10 col6\" >0.5239</td>\n",
       "            </tr>\n",
       "            <tr>\n",
       "                        <th id=\"T_c4495410_b384_11eb_8055_dd0b10f15b46level0_row11\" class=\"row_heading level0 row11\" >SD</th>\n",
       "                        <td id=\"T_c4495410_b384_11eb_8055_dd0b10f15b46row11_col0\" class=\"data row11 col0\" >0.0064</td>\n",
       "                        <td id=\"T_c4495410_b384_11eb_8055_dd0b10f15b46row11_col1\" class=\"data row11 col1\" >0.0058</td>\n",
       "                        <td id=\"T_c4495410_b384_11eb_8055_dd0b10f15b46row11_col2\" class=\"data row11 col2\" >0.0300</td>\n",
       "                        <td id=\"T_c4495410_b384_11eb_8055_dd0b10f15b46row11_col3\" class=\"data row11 col3\" >0.0311</td>\n",
       "                        <td id=\"T_c4495410_b384_11eb_8055_dd0b10f15b46row11_col4\" class=\"data row11 col4\" >0.0238</td>\n",
       "                        <td id=\"T_c4495410_b384_11eb_8055_dd0b10f15b46row11_col5\" class=\"data row11 col5\" >0.0270</td>\n",
       "                        <td id=\"T_c4495410_b384_11eb_8055_dd0b10f15b46row11_col6\" class=\"data row11 col6\" >0.0270</td>\n",
       "            </tr>\n",
       "    </tbody></table>"
      ],
      "text/plain": [
       "<pandas.io.formats.style.Styler at 0x1cb7d8b8f60>"
      ]
     },
     "metadata": {},
     "output_type": "display_data"
    }
   ],
   "source": [
    "# blend individual models\n",
    "blend_soft = blend_models(estimator_list = [tuned_lgbm, rf], method = 'soft')"
   ]
  },
  {
   "cell_type": "code",
   "execution_count": 103,
   "metadata": {},
   "outputs": [
    {
     "data": {
      "image/png": "[encoded data removed]",
      "text/plain": [
       "<Figure size 576x396 with 1 Axes>"
      ]
     },
     "metadata": {},
     "output_type": "display_data"
    }
   ],
   "source": [
    "plot_model(blend_soft, plot = 'auc')"
   ]
  },
  {
   "cell_type": "code",
   "execution_count": 104,
   "metadata": {},
   "outputs": [
    {
     "data": {
      "image/png": "[encoded data removed]",
      "text/plain": [
       "<Figure size 576x396 with 1 Axes>"
      ]
     },
     "metadata": {},
     "output_type": "display_data"
    }
   ],
   "source": [
    "plot_model(blend_soft, plot = 'confusion_matrix')"
   ]
  },
  {
   "cell_type": "code",
   "execution_count": 105,
   "metadata": {},
   "outputs": [
    {
     "data": {
      "image/png": "[encoded data removed]",
      "text/plain": [
       "<Figure size 576x396 with 2 Axes>"
      ]
     },
     "metadata": {},
     "output_type": "display_data"
    }
   ],
   "source": [
    "plot_model(blend_soft, plot = 'class_report')"
   ]
  },
  {
   "cell_type": "code",
   "execution_count": 107,
   "metadata": {},
   "outputs": [
    {
     "data": {
      "text/html": [
       "<style  type=\"text/css\" >\n",
       "#T_dcf08536_b384_11eb_94f4_dd0b10f15b46row10_col0,#T_dcf08536_b384_11eb_94f4_dd0b10f15b46row10_col1,#T_dcf08536_b384_11eb_94f4_dd0b10f15b46row10_col2,#T_dcf08536_b384_11eb_94f4_dd0b10f15b46row10_col3,#T_dcf08536_b384_11eb_94f4_dd0b10f15b46row10_col4,#T_dcf08536_b384_11eb_94f4_dd0b10f15b46row10_col5,#T_dcf08536_b384_11eb_94f4_dd0b10f15b46row10_col6{\n",
       "            background:  yellow;\n",
       "        }</style><table id=\"T_dcf08536_b384_11eb_94f4_dd0b10f15b46\" ><thead>    <tr>        <th class=\"blank level0\" ></th>        <th class=\"col_heading level0 col0\" >Accuracy</th>        <th class=\"col_heading level0 col1\" >AUC</th>        <th class=\"col_heading level0 col2\" >Recall</th>        <th class=\"col_heading level0 col3\" >Prec.</th>        <th class=\"col_heading level0 col4\" >F1</th>        <th class=\"col_heading level0 col5\" >Kappa</th>        <th class=\"col_heading level0 col6\" >MCC</th>    </tr></thead><tbody>\n",
       "                <tr>\n",
       "                        <th id=\"T_dcf08536_b384_11eb_94f4_dd0b10f15b46level0_row0\" class=\"row_heading level0 row0\" >0</th>\n",
       "                        <td id=\"T_dcf08536_b384_11eb_94f4_dd0b10f15b46row0_col0\" class=\"data row0 col0\" >0.8918</td>\n",
       "                        <td id=\"T_dcf08536_b384_11eb_94f4_dd0b10f15b46row0_col1\" class=\"data row0 col1\" >0.0000</td>\n",
       "                        <td id=\"T_dcf08536_b384_11eb_94f4_dd0b10f15b46row0_col2\" class=\"data row0 col2\" >0.4207</td>\n",
       "                        <td id=\"T_dcf08536_b384_11eb_94f4_dd0b10f15b46row0_col3\" class=\"data row0 col3\" >0.6064</td>\n",
       "                        <td id=\"T_dcf08536_b384_11eb_94f4_dd0b10f15b46row0_col4\" class=\"data row0 col4\" >0.4967</td>\n",
       "                        <td id=\"T_dcf08536_b384_11eb_94f4_dd0b10f15b46row0_col5\" class=\"data row0 col5\" >0.4383</td>\n",
       "                        <td id=\"T_dcf08536_b384_11eb_94f4_dd0b10f15b46row0_col6\" class=\"data row0 col6\" >0.4475</td>\n",
       "            </tr>\n",
       "            <tr>\n",
       "                        <th id=\"T_dcf08536_b384_11eb_94f4_dd0b10f15b46level0_row1\" class=\"row_heading level0 row1\" >1</th>\n",
       "                        <td id=\"T_dcf08536_b384_11eb_94f4_dd0b10f15b46row1_col0\" class=\"data row1 col0\" >0.9100</td>\n",
       "                        <td id=\"T_dcf08536_b384_11eb_94f4_dd0b10f15b46row1_col1\" class=\"data row1 col1\" >0.0000</td>\n",
       "                        <td id=\"T_dcf08536_b384_11eb_94f4_dd0b10f15b46row1_col2\" class=\"data row1 col2\" >0.4963</td>\n",
       "                        <td id=\"T_dcf08536_b384_11eb_94f4_dd0b10f15b46row1_col3\" class=\"data row1 col3\" >0.7053</td>\n",
       "                        <td id=\"T_dcf08536_b384_11eb_94f4_dd0b10f15b46row1_col4\" class=\"data row1 col4\" >0.5826</td>\n",
       "                        <td id=\"T_dcf08536_b384_11eb_94f4_dd0b10f15b46row1_col5\" class=\"data row1 col5\" >0.5339</td>\n",
       "                        <td id=\"T_dcf08536_b384_11eb_94f4_dd0b10f15b46row1_col6\" class=\"data row1 col6\" >0.5443</td>\n",
       "            </tr>\n",
       "            <tr>\n",
       "                        <th id=\"T_dcf08536_b384_11eb_94f4_dd0b10f15b46level0_row2\" class=\"row_heading level0 row2\" >2</th>\n",
       "                        <td id=\"T_dcf08536_b384_11eb_94f4_dd0b10f15b46row2_col0\" class=\"data row2 col0\" >0.8974</td>\n",
       "                        <td id=\"T_dcf08536_b384_11eb_94f4_dd0b10f15b46row2_col1\" class=\"data row2 col1\" >0.0000</td>\n",
       "                        <td id=\"T_dcf08536_b384_11eb_94f4_dd0b10f15b46row2_col2\" class=\"data row2 col2\" >0.4407</td>\n",
       "                        <td id=\"T_dcf08536_b384_11eb_94f4_dd0b10f15b46row2_col3\" class=\"data row2 col3\" >0.6364</td>\n",
       "                        <td id=\"T_dcf08536_b384_11eb_94f4_dd0b10f15b46row2_col4\" class=\"data row2 col4\" >0.5208</td>\n",
       "                        <td id=\"T_dcf08536_b384_11eb_94f4_dd0b10f15b46row2_col5\" class=\"data row2 col5\" >0.4654</td>\n",
       "                        <td id=\"T_dcf08536_b384_11eb_94f4_dd0b10f15b46row2_col6\" class=\"data row2 col6\" >0.4753</td>\n",
       "            </tr>\n",
       "            <tr>\n",
       "                        <th id=\"T_dcf08536_b384_11eb_94f4_dd0b10f15b46level0_row3\" class=\"row_heading level0 row3\" >3</th>\n",
       "                        <td id=\"T_dcf08536_b384_11eb_94f4_dd0b10f15b46row3_col0\" class=\"data row3 col0\" >0.9063</td>\n",
       "                        <td id=\"T_dcf08536_b384_11eb_94f4_dd0b10f15b46row3_col1\" class=\"data row3 col1\" >0.0000</td>\n",
       "                        <td id=\"T_dcf08536_b384_11eb_94f4_dd0b10f15b46row3_col2\" class=\"data row3 col2\" >0.4815</td>\n",
       "                        <td id=\"T_dcf08536_b384_11eb_94f4_dd0b10f15b46row3_col3\" class=\"data row3 col3\" >0.6842</td>\n",
       "                        <td id=\"T_dcf08536_b384_11eb_94f4_dd0b10f15b46row3_col4\" class=\"data row3 col4\" >0.5652</td>\n",
       "                        <td id=\"T_dcf08536_b384_11eb_94f4_dd0b10f15b46row3_col5\" class=\"data row3 col5\" >0.5145</td>\n",
       "                        <td id=\"T_dcf08536_b384_11eb_94f4_dd0b10f15b46row3_col6\" class=\"data row3 col6\" >0.5245</td>\n",
       "            </tr>\n",
       "            <tr>\n",
       "                        <th id=\"T_dcf08536_b384_11eb_94f4_dd0b10f15b46level0_row4\" class=\"row_heading level0 row4\" >4</th>\n",
       "                        <td id=\"T_dcf08536_b384_11eb_94f4_dd0b10f15b46row4_col0\" class=\"data row4 col0\" >0.8932</td>\n",
       "                        <td id=\"T_dcf08536_b384_11eb_94f4_dd0b10f15b46row4_col1\" class=\"data row4 col1\" >0.0000</td>\n",
       "                        <td id=\"T_dcf08536_b384_11eb_94f4_dd0b10f15b46row4_col2\" class=\"data row4 col2\" >0.4556</td>\n",
       "                        <td id=\"T_dcf08536_b384_11eb_94f4_dd0b10f15b46row4_col3\" class=\"data row4 col3\" >0.6029</td>\n",
       "                        <td id=\"T_dcf08536_b384_11eb_94f4_dd0b10f15b46row4_col4\" class=\"data row4 col4\" >0.5190</td>\n",
       "                        <td id=\"T_dcf08536_b384_11eb_94f4_dd0b10f15b46row4_col5\" class=\"data row4 col5\" >0.4602</td>\n",
       "                        <td id=\"T_dcf08536_b384_11eb_94f4_dd0b10f15b46row4_col6\" class=\"data row4 col6\" >0.4659</td>\n",
       "            </tr>\n",
       "            <tr>\n",
       "                        <th id=\"T_dcf08536_b384_11eb_94f4_dd0b10f15b46level0_row5\" class=\"row_heading level0 row5\" >5</th>\n",
       "                        <td id=\"T_dcf08536_b384_11eb_94f4_dd0b10f15b46row5_col0\" class=\"data row5 col0\" >0.8922</td>\n",
       "                        <td id=\"T_dcf08536_b384_11eb_94f4_dd0b10f15b46row5_col1\" class=\"data row5 col1\" >0.0000</td>\n",
       "                        <td id=\"T_dcf08536_b384_11eb_94f4_dd0b10f15b46row5_col2\" class=\"data row5 col2\" >0.4407</td>\n",
       "                        <td id=\"T_dcf08536_b384_11eb_94f4_dd0b10f15b46row5_col3\" class=\"data row5 col3\" >0.6010</td>\n",
       "                        <td id=\"T_dcf08536_b384_11eb_94f4_dd0b10f15b46row5_col4\" class=\"data row5 col4\" >0.5085</td>\n",
       "                        <td id=\"T_dcf08536_b384_11eb_94f4_dd0b10f15b46row5_col5\" class=\"data row5 col5\" >0.4496</td>\n",
       "                        <td id=\"T_dcf08536_b384_11eb_94f4_dd0b10f15b46row5_col6\" class=\"data row5 col6\" >0.4565</td>\n",
       "            </tr>\n",
       "            <tr>\n",
       "                        <th id=\"T_dcf08536_b384_11eb_94f4_dd0b10f15b46level0_row6\" class=\"row_heading level0 row6\" >6</th>\n",
       "                        <td id=\"T_dcf08536_b384_11eb_94f4_dd0b10f15b46row6_col0\" class=\"data row6 col0\" >0.8960</td>\n",
       "                        <td id=\"T_dcf08536_b384_11eb_94f4_dd0b10f15b46row6_col1\" class=\"data row6 col1\" >0.0000</td>\n",
       "                        <td id=\"T_dcf08536_b384_11eb_94f4_dd0b10f15b46row6_col2\" class=\"data row6 col2\" >0.4185</td>\n",
       "                        <td id=\"T_dcf08536_b384_11eb_94f4_dd0b10f15b46row6_col3\" class=\"data row6 col3\" >0.6348</td>\n",
       "                        <td id=\"T_dcf08536_b384_11eb_94f4_dd0b10f15b46row6_col4\" class=\"data row6 col4\" >0.5045</td>\n",
       "                        <td id=\"T_dcf08536_b384_11eb_94f4_dd0b10f15b46row6_col5\" class=\"data row6 col5\" >0.4491</td>\n",
       "                        <td id=\"T_dcf08536_b384_11eb_94f4_dd0b10f15b46row6_col6\" class=\"data row6 col6\" >0.4613</td>\n",
       "            </tr>\n",
       "            <tr>\n",
       "                        <th id=\"T_dcf08536_b384_11eb_94f4_dd0b10f15b46level0_row7\" class=\"row_heading level0 row7\" >7</th>\n",
       "                        <td id=\"T_dcf08536_b384_11eb_94f4_dd0b10f15b46row7_col0\" class=\"data row7 col0\" >0.8983</td>\n",
       "                        <td id=\"T_dcf08536_b384_11eb_94f4_dd0b10f15b46row7_col1\" class=\"data row7 col1\" >0.0000</td>\n",
       "                        <td id=\"T_dcf08536_b384_11eb_94f4_dd0b10f15b46row7_col2\" class=\"data row7 col2\" >0.4778</td>\n",
       "                        <td id=\"T_dcf08536_b384_11eb_94f4_dd0b10f15b46row7_col3\" class=\"data row7 col3\" >0.6293</td>\n",
       "                        <td id=\"T_dcf08536_b384_11eb_94f4_dd0b10f15b46row7_col4\" class=\"data row7 col4\" >0.5432</td>\n",
       "                        <td id=\"T_dcf08536_b384_11eb_94f4_dd0b10f15b46row7_col5\" class=\"data row7 col5\" >0.4871</td>\n",
       "                        <td id=\"T_dcf08536_b384_11eb_94f4_dd0b10f15b46row7_col6\" class=\"data row7 col6\" >0.4930</td>\n",
       "            </tr>\n",
       "            <tr>\n",
       "                        <th id=\"T_dcf08536_b384_11eb_94f4_dd0b10f15b46level0_row8\" class=\"row_heading level0 row8\" >8</th>\n",
       "                        <td id=\"T_dcf08536_b384_11eb_94f4_dd0b10f15b46row8_col0\" class=\"data row8 col0\" >0.9007</td>\n",
       "                        <td id=\"T_dcf08536_b384_11eb_94f4_dd0b10f15b46row8_col1\" class=\"data row8 col1\" >0.0000</td>\n",
       "                        <td id=\"T_dcf08536_b384_11eb_94f4_dd0b10f15b46row8_col2\" class=\"data row8 col2\" >0.4333</td>\n",
       "                        <td id=\"T_dcf08536_b384_11eb_94f4_dd0b10f15b46row8_col3\" class=\"data row8 col3\" >0.6648</td>\n",
       "                        <td id=\"T_dcf08536_b384_11eb_94f4_dd0b10f15b46row8_col4\" class=\"data row8 col4\" >0.5247</td>\n",
       "                        <td id=\"T_dcf08536_b384_11eb_94f4_dd0b10f15b46row8_col5\" class=\"data row8 col5\" >0.4719</td>\n",
       "                        <td id=\"T_dcf08536_b384_11eb_94f4_dd0b10f15b46row8_col6\" class=\"data row8 col6\" >0.4854</td>\n",
       "            </tr>\n",
       "            <tr>\n",
       "                        <th id=\"T_dcf08536_b384_11eb_94f4_dd0b10f15b46level0_row9\" class=\"row_heading level0 row9\" >9</th>\n",
       "                        <td id=\"T_dcf08536_b384_11eb_94f4_dd0b10f15b46row9_col0\" class=\"data row9 col0\" >0.9058</td>\n",
       "                        <td id=\"T_dcf08536_b384_11eb_94f4_dd0b10f15b46row9_col1\" class=\"data row9 col1\" >0.0000</td>\n",
       "                        <td id=\"T_dcf08536_b384_11eb_94f4_dd0b10f15b46row9_col2\" class=\"data row9 col2\" >0.4333</td>\n",
       "                        <td id=\"T_dcf08536_b384_11eb_94f4_dd0b10f15b46row9_col3\" class=\"data row9 col3\" >0.7091</td>\n",
       "                        <td id=\"T_dcf08536_b384_11eb_94f4_dd0b10f15b46row9_col4\" class=\"data row9 col4\" >0.5379</td>\n",
       "                        <td id=\"T_dcf08536_b384_11eb_94f4_dd0b10f15b46row9_col5\" class=\"data row9 col5\" >0.4889</td>\n",
       "                        <td id=\"T_dcf08536_b384_11eb_94f4_dd0b10f15b46row9_col6\" class=\"data row9 col6\" >0.5073</td>\n",
       "            </tr>\n",
       "            <tr>\n",
       "                        <th id=\"T_dcf08536_b384_11eb_94f4_dd0b10f15b46level0_row10\" class=\"row_heading level0 row10\" >Mean</th>\n",
       "                        <td id=\"T_dcf08536_b384_11eb_94f4_dd0b10f15b46row10_col0\" class=\"data row10 col0\" >0.8992</td>\n",
       "                        <td id=\"T_dcf08536_b384_11eb_94f4_dd0b10f15b46row10_col1\" class=\"data row10 col1\" >0.0000</td>\n",
       "                        <td id=\"T_dcf08536_b384_11eb_94f4_dd0b10f15b46row10_col2\" class=\"data row10 col2\" >0.4498</td>\n",
       "                        <td id=\"T_dcf08536_b384_11eb_94f4_dd0b10f15b46row10_col3\" class=\"data row10 col3\" >0.6474</td>\n",
       "                        <td id=\"T_dcf08536_b384_11eb_94f4_dd0b10f15b46row10_col4\" class=\"data row10 col4\" >0.5303</td>\n",
       "                        <td id=\"T_dcf08536_b384_11eb_94f4_dd0b10f15b46row10_col5\" class=\"data row10 col5\" >0.4759</td>\n",
       "                        <td id=\"T_dcf08536_b384_11eb_94f4_dd0b10f15b46row10_col6\" class=\"data row10 col6\" >0.4861</td>\n",
       "            </tr>\n",
       "            <tr>\n",
       "                        <th id=\"T_dcf08536_b384_11eb_94f4_dd0b10f15b46level0_row11\" class=\"row_heading level0 row11\" >SD</th>\n",
       "                        <td id=\"T_dcf08536_b384_11eb_94f4_dd0b10f15b46row11_col0\" class=\"data row11 col0\" >0.0061</td>\n",
       "                        <td id=\"T_dcf08536_b384_11eb_94f4_dd0b10f15b46row11_col1\" class=\"data row11 col1\" >0.0000</td>\n",
       "                        <td id=\"T_dcf08536_b384_11eb_94f4_dd0b10f15b46row11_col2\" class=\"data row11 col2\" >0.0255</td>\n",
       "                        <td id=\"T_dcf08536_b384_11eb_94f4_dd0b10f15b46row11_col3\" class=\"data row11 col3\" >0.0390</td>\n",
       "                        <td id=\"T_dcf08536_b384_11eb_94f4_dd0b10f15b46row11_col4\" class=\"data row11 col4\" >0.0259</td>\n",
       "                        <td id=\"T_dcf08536_b384_11eb_94f4_dd0b10f15b46row11_col5\" class=\"data row11 col5\" >0.0289</td>\n",
       "                        <td id=\"T_dcf08536_b384_11eb_94f4_dd0b10f15b46row11_col6\" class=\"data row11 col6\" >0.0298</td>\n",
       "            </tr>\n",
       "    </tbody></table>"
      ],
      "text/plain": [
       "<pandas.io.formats.style.Styler at 0x1cb7590f2b0>"
      ]
     },
     "metadata": {},
     "output_type": "display_data"
    }
   ],
   "source": [
    "# blend individual models\n",
    "blend_hard = blend_models(estimator_list = [tuned_lgbm, rf], method = 'hard')"
   ]
  },
  {
   "cell_type": "markdown",
   "metadata": {},
   "source": [
    "### **Stacking**"
   ]
  },
  {
   "cell_type": "code",
   "execution_count": 109,
   "metadata": {},
   "outputs": [
    {
     "data": {
      "text/html": [
       "<style  type=\"text/css\" >\n",
       "#T_7520f35c_b385_11eb_93fc_dd0b10f15b46row10_col0,#T_7520f35c_b385_11eb_93fc_dd0b10f15b46row10_col1,#T_7520f35c_b385_11eb_93fc_dd0b10f15b46row10_col2,#T_7520f35c_b385_11eb_93fc_dd0b10f15b46row10_col3,#T_7520f35c_b385_11eb_93fc_dd0b10f15b46row10_col4,#T_7520f35c_b385_11eb_93fc_dd0b10f15b46row10_col5,#T_7520f35c_b385_11eb_93fc_dd0b10f15b46row10_col6{\n",
       "            background:  yellow;\n",
       "        }</style><table id=\"T_7520f35c_b385_11eb_93fc_dd0b10f15b46\" ><thead>    <tr>        <th class=\"blank level0\" ></th>        <th class=\"col_heading level0 col0\" >Accuracy</th>        <th class=\"col_heading level0 col1\" >AUC</th>        <th class=\"col_heading level0 col2\" >Recall</th>        <th class=\"col_heading level0 col3\" >Prec.</th>        <th class=\"col_heading level0 col4\" >F1</th>        <th class=\"col_heading level0 col5\" >Kappa</th>        <th class=\"col_heading level0 col6\" >MCC</th>    </tr></thead><tbody>\n",
       "                <tr>\n",
       "                        <th id=\"T_7520f35c_b385_11eb_93fc_dd0b10f15b46level0_row0\" class=\"row_heading level0 row0\" >0</th>\n",
       "                        <td id=\"T_7520f35c_b385_11eb_93fc_dd0b10f15b46row0_col0\" class=\"data row0 col0\" >0.8885</td>\n",
       "                        <td id=\"T_7520f35c_b385_11eb_93fc_dd0b10f15b46row0_col1\" class=\"data row0 col1\" >0.9229</td>\n",
       "                        <td id=\"T_7520f35c_b385_11eb_93fc_dd0b10f15b46row0_col2\" class=\"data row0 col2\" >0.3911</td>\n",
       "                        <td id=\"T_7520f35c_b385_11eb_93fc_dd0b10f15b46row0_col3\" class=\"data row0 col3\" >0.5922</td>\n",
       "                        <td id=\"T_7520f35c_b385_11eb_93fc_dd0b10f15b46row0_col4\" class=\"data row0 col4\" >0.4711</td>\n",
       "                        <td id=\"T_7520f35c_b385_11eb_93fc_dd0b10f15b46row0_col5\" class=\"data row0 col5\" >0.4117</td>\n",
       "                        <td id=\"T_7520f35c_b385_11eb_93fc_dd0b10f15b46row0_col6\" class=\"data row0 col6\" >0.4228</td>\n",
       "            </tr>\n",
       "            <tr>\n",
       "                        <th id=\"T_7520f35c_b385_11eb_93fc_dd0b10f15b46level0_row1\" class=\"row_heading level0 row1\" >1</th>\n",
       "                        <td id=\"T_7520f35c_b385_11eb_93fc_dd0b10f15b46row1_col0\" class=\"data row1 col0\" >0.9016</td>\n",
       "                        <td id=\"T_7520f35c_b385_11eb_93fc_dd0b10f15b46row1_col1\" class=\"data row1 col1\" >0.9305</td>\n",
       "                        <td id=\"T_7520f35c_b385_11eb_93fc_dd0b10f15b46row1_col2\" class=\"data row1 col2\" >0.4222</td>\n",
       "                        <td id=\"T_7520f35c_b385_11eb_93fc_dd0b10f15b46row1_col3\" class=\"data row1 col3\" >0.6786</td>\n",
       "                        <td id=\"T_7520f35c_b385_11eb_93fc_dd0b10f15b46row1_col4\" class=\"data row1 col4\" >0.5205</td>\n",
       "                        <td id=\"T_7520f35c_b385_11eb_93fc_dd0b10f15b46row1_col5\" class=\"data row1 col5\" >0.4690</td>\n",
       "                        <td id=\"T_7520f35c_b385_11eb_93fc_dd0b10f15b46row1_col6\" class=\"data row1 col6\" >0.4854</td>\n",
       "            </tr>\n",
       "            <tr>\n",
       "                        <th id=\"T_7520f35c_b385_11eb_93fc_dd0b10f15b46level0_row2\" class=\"row_heading level0 row2\" >2</th>\n",
       "                        <td id=\"T_7520f35c_b385_11eb_93fc_dd0b10f15b46row2_col0\" class=\"data row2 col0\" >0.8969</td>\n",
       "                        <td id=\"T_7520f35c_b385_11eb_93fc_dd0b10f15b46row2_col1\" class=\"data row2 col1\" >0.9275</td>\n",
       "                        <td id=\"T_7520f35c_b385_11eb_93fc_dd0b10f15b46row2_col2\" class=\"data row2 col2\" >0.4185</td>\n",
       "                        <td id=\"T_7520f35c_b385_11eb_93fc_dd0b10f15b46row2_col3\" class=\"data row2 col3\" >0.6420</td>\n",
       "                        <td id=\"T_7520f35c_b385_11eb_93fc_dd0b10f15b46row2_col4\" class=\"data row2 col4\" >0.5067</td>\n",
       "                        <td id=\"T_7520f35c_b385_11eb_93fc_dd0b10f15b46row2_col5\" class=\"data row2 col5\" >0.4520</td>\n",
       "                        <td id=\"T_7520f35c_b385_11eb_93fc_dd0b10f15b46row2_col6\" class=\"data row2 col6\" >0.4649</td>\n",
       "            </tr>\n",
       "            <tr>\n",
       "                        <th id=\"T_7520f35c_b385_11eb_93fc_dd0b10f15b46level0_row3\" class=\"row_heading level0 row3\" >3</th>\n",
       "                        <td id=\"T_7520f35c_b385_11eb_93fc_dd0b10f15b46row3_col0\" class=\"data row3 col0\" >0.8941</td>\n",
       "                        <td id=\"T_7520f35c_b385_11eb_93fc_dd0b10f15b46row3_col1\" class=\"data row3 col1\" >0.9287</td>\n",
       "                        <td id=\"T_7520f35c_b385_11eb_93fc_dd0b10f15b46row3_col2\" class=\"data row3 col2\" >0.4185</td>\n",
       "                        <td id=\"T_7520f35c_b385_11eb_93fc_dd0b10f15b46row3_col3\" class=\"data row3 col3\" >0.6209</td>\n",
       "                        <td id=\"T_7520f35c_b385_11eb_93fc_dd0b10f15b46row3_col4\" class=\"data row3 col4\" >0.5000</td>\n",
       "                        <td id=\"T_7520f35c_b385_11eb_93fc_dd0b10f15b46row3_col5\" class=\"data row3 col5\" >0.4433</td>\n",
       "                        <td id=\"T_7520f35c_b385_11eb_93fc_dd0b10f15b46row3_col6\" class=\"data row3 col6\" >0.4541</td>\n",
       "            </tr>\n",
       "            <tr>\n",
       "                        <th id=\"T_7520f35c_b385_11eb_93fc_dd0b10f15b46level0_row4\" class=\"row_heading level0 row4\" >4</th>\n",
       "                        <td id=\"T_7520f35c_b385_11eb_93fc_dd0b10f15b46row4_col0\" class=\"data row4 col0\" >0.8922</td>\n",
       "                        <td id=\"T_7520f35c_b385_11eb_93fc_dd0b10f15b46row4_col1\" class=\"data row4 col1\" >0.9245</td>\n",
       "                        <td id=\"T_7520f35c_b385_11eb_93fc_dd0b10f15b46row4_col2\" class=\"data row4 col2\" >0.4222</td>\n",
       "                        <td id=\"T_7520f35c_b385_11eb_93fc_dd0b10f15b46row4_col3\" class=\"data row4 col3\" >0.6064</td>\n",
       "                        <td id=\"T_7520f35c_b385_11eb_93fc_dd0b10f15b46row4_col4\" class=\"data row4 col4\" >0.4978</td>\n",
       "                        <td id=\"T_7520f35c_b385_11eb_93fc_dd0b10f15b46row4_col5\" class=\"data row4 col5\" >0.4396</td>\n",
       "                        <td id=\"T_7520f35c_b385_11eb_93fc_dd0b10f15b46row4_col6\" class=\"data row4 col6\" >0.4487</td>\n",
       "            </tr>\n",
       "            <tr>\n",
       "                        <th id=\"T_7520f35c_b385_11eb_93fc_dd0b10f15b46level0_row5\" class=\"row_heading level0 row5\" >5</th>\n",
       "                        <td id=\"T_7520f35c_b385_11eb_93fc_dd0b10f15b46row5_col0\" class=\"data row5 col0\" >0.8927</td>\n",
       "                        <td id=\"T_7520f35c_b385_11eb_93fc_dd0b10f15b46row5_col1\" class=\"data row5 col1\" >0.9265</td>\n",
       "                        <td id=\"T_7520f35c_b385_11eb_93fc_dd0b10f15b46row5_col2\" class=\"data row5 col2\" >0.4481</td>\n",
       "                        <td id=\"T_7520f35c_b385_11eb_93fc_dd0b10f15b46row5_col3\" class=\"data row5 col3\" >0.6020</td>\n",
       "                        <td id=\"T_7520f35c_b385_11eb_93fc_dd0b10f15b46row5_col4\" class=\"data row5 col4\" >0.5138</td>\n",
       "                        <td id=\"T_7520f35c_b385_11eb_93fc_dd0b10f15b46row5_col5\" class=\"data row5 col5\" >0.4549</td>\n",
       "                        <td id=\"T_7520f35c_b385_11eb_93fc_dd0b10f15b46row5_col6\" class=\"data row5 col6\" >0.4612</td>\n",
       "            </tr>\n",
       "            <tr>\n",
       "                        <th id=\"T_7520f35c_b385_11eb_93fc_dd0b10f15b46level0_row6\" class=\"row_heading level0 row6\" >6</th>\n",
       "                        <td id=\"T_7520f35c_b385_11eb_93fc_dd0b10f15b46row6_col0\" class=\"data row6 col0\" >0.8918</td>\n",
       "                        <td id=\"T_7520f35c_b385_11eb_93fc_dd0b10f15b46row6_col1\" class=\"data row6 col1\" >0.9240</td>\n",
       "                        <td id=\"T_7520f35c_b385_11eb_93fc_dd0b10f15b46row6_col2\" class=\"data row6 col2\" >0.4111</td>\n",
       "                        <td id=\"T_7520f35c_b385_11eb_93fc_dd0b10f15b46row6_col3\" class=\"data row6 col3\" >0.6066</td>\n",
       "                        <td id=\"T_7520f35c_b385_11eb_93fc_dd0b10f15b46row6_col4\" class=\"data row6 col4\" >0.4901</td>\n",
       "                        <td id=\"T_7520f35c_b385_11eb_93fc_dd0b10f15b46row6_col5\" class=\"data row6 col5\" >0.4320</td>\n",
       "                        <td id=\"T_7520f35c_b385_11eb_93fc_dd0b10f15b46row6_col6\" class=\"data row6 col6\" >0.4422</td>\n",
       "            </tr>\n",
       "            <tr>\n",
       "                        <th id=\"T_7520f35c_b385_11eb_93fc_dd0b10f15b46level0_row7\" class=\"row_heading level0 row7\" >7</th>\n",
       "                        <td id=\"T_7520f35c_b385_11eb_93fc_dd0b10f15b46row7_col0\" class=\"data row7 col0\" >0.8880</td>\n",
       "                        <td id=\"T_7520f35c_b385_11eb_93fc_dd0b10f15b46row7_col1\" class=\"data row7 col1\" >0.9246</td>\n",
       "                        <td id=\"T_7520f35c_b385_11eb_93fc_dd0b10f15b46row7_col2\" class=\"data row7 col2\" >0.4259</td>\n",
       "                        <td id=\"T_7520f35c_b385_11eb_93fc_dd0b10f15b46row7_col3\" class=\"data row7 col3\" >0.5779</td>\n",
       "                        <td id=\"T_7520f35c_b385_11eb_93fc_dd0b10f15b46row7_col4\" class=\"data row7 col4\" >0.4904</td>\n",
       "                        <td id=\"T_7520f35c_b385_11eb_93fc_dd0b10f15b46row7_col5\" class=\"data row7 col5\" >0.4291</td>\n",
       "                        <td id=\"T_7520f35c_b385_11eb_93fc_dd0b10f15b46row7_col6\" class=\"data row7 col6\" >0.4354</td>\n",
       "            </tr>\n",
       "            <tr>\n",
       "                        <th id=\"T_7520f35c_b385_11eb_93fc_dd0b10f15b46level0_row8\" class=\"row_heading level0 row8\" >8</th>\n",
       "                        <td id=\"T_7520f35c_b385_11eb_93fc_dd0b10f15b46row8_col0\" class=\"data row8 col0\" >0.8960</td>\n",
       "                        <td id=\"T_7520f35c_b385_11eb_93fc_dd0b10f15b46row8_col1\" class=\"data row8 col1\" >0.9192</td>\n",
       "                        <td id=\"T_7520f35c_b385_11eb_93fc_dd0b10f15b46row8_col2\" class=\"data row8 col2\" >0.4296</td>\n",
       "                        <td id=\"T_7520f35c_b385_11eb_93fc_dd0b10f15b46row8_col3\" class=\"data row8 col3\" >0.6304</td>\n",
       "                        <td id=\"T_7520f35c_b385_11eb_93fc_dd0b10f15b46row8_col4\" class=\"data row8 col4\" >0.5110</td>\n",
       "                        <td id=\"T_7520f35c_b385_11eb_93fc_dd0b10f15b46row8_col5\" class=\"data row8 col5\" >0.4551</td>\n",
       "                        <td id=\"T_7520f35c_b385_11eb_93fc_dd0b10f15b46row8_col6\" class=\"data row8 col6\" >0.4656</td>\n",
       "            </tr>\n",
       "            <tr>\n",
       "                        <th id=\"T_7520f35c_b385_11eb_93fc_dd0b10f15b46level0_row9\" class=\"row_heading level0 row9\" >9</th>\n",
       "                        <td id=\"T_7520f35c_b385_11eb_93fc_dd0b10f15b46row9_col0\" class=\"data row9 col0\" >0.9025</td>\n",
       "                        <td id=\"T_7520f35c_b385_11eb_93fc_dd0b10f15b46row9_col1\" class=\"data row9 col1\" >0.9384</td>\n",
       "                        <td id=\"T_7520f35c_b385_11eb_93fc_dd0b10f15b46row9_col2\" class=\"data row9 col2\" >0.4259</td>\n",
       "                        <td id=\"T_7520f35c_b385_11eb_93fc_dd0b10f15b46row9_col3\" class=\"data row9 col3\" >0.6845</td>\n",
       "                        <td id=\"T_7520f35c_b385_11eb_93fc_dd0b10f15b46row9_col4\" class=\"data row9 col4\" >0.5251</td>\n",
       "                        <td id=\"T_7520f35c_b385_11eb_93fc_dd0b10f15b46row9_col5\" class=\"data row9 col5\" >0.4741</td>\n",
       "                        <td id=\"T_7520f35c_b385_11eb_93fc_dd0b10f15b46row9_col6\" class=\"data row9 col6\" >0.4907</td>\n",
       "            </tr>\n",
       "            <tr>\n",
       "                        <th id=\"T_7520f35c_b385_11eb_93fc_dd0b10f15b46level0_row10\" class=\"row_heading level0 row10\" >Mean</th>\n",
       "                        <td id=\"T_7520f35c_b385_11eb_93fc_dd0b10f15b46row10_col0\" class=\"data row10 col0\" >0.8944</td>\n",
       "                        <td id=\"T_7520f35c_b385_11eb_93fc_dd0b10f15b46row10_col1\" class=\"data row10 col1\" >0.9267</td>\n",
       "                        <td id=\"T_7520f35c_b385_11eb_93fc_dd0b10f15b46row10_col2\" class=\"data row10 col2\" >0.4213</td>\n",
       "                        <td id=\"T_7520f35c_b385_11eb_93fc_dd0b10f15b46row10_col3\" class=\"data row10 col3\" >0.6241</td>\n",
       "                        <td id=\"T_7520f35c_b385_11eb_93fc_dd0b10f15b46row10_col4\" class=\"data row10 col4\" >0.5027</td>\n",
       "                        <td id=\"T_7520f35c_b385_11eb_93fc_dd0b10f15b46row10_col5\" class=\"data row10 col5\" >0.4461</td>\n",
       "                        <td id=\"T_7520f35c_b385_11eb_93fc_dd0b10f15b46row10_col6\" class=\"data row10 col6\" >0.4571</td>\n",
       "            </tr>\n",
       "            <tr>\n",
       "                        <th id=\"T_7520f35c_b385_11eb_93fc_dd0b10f15b46level0_row11\" class=\"row_heading level0 row11\" >SD</th>\n",
       "                        <td id=\"T_7520f35c_b385_11eb_93fc_dd0b10f15b46row11_col0\" class=\"data row11 col0\" >0.0047</td>\n",
       "                        <td id=\"T_7520f35c_b385_11eb_93fc_dd0b10f15b46row11_col1\" class=\"data row11 col1\" >0.0049</td>\n",
       "                        <td id=\"T_7520f35c_b385_11eb_93fc_dd0b10f15b46row11_col2\" class=\"data row11 col2\" >0.0137</td>\n",
       "                        <td id=\"T_7520f35c_b385_11eb_93fc_dd0b10f15b46row11_col3\" class=\"data row11 col3\" >0.0335</td>\n",
       "                        <td id=\"T_7520f35c_b385_11eb_93fc_dd0b10f15b46row11_col4\" class=\"data row11 col4\" >0.0154</td>\n",
       "                        <td id=\"T_7520f35c_b385_11eb_93fc_dd0b10f15b46row11_col5\" class=\"data row11 col5\" >0.0180</td>\n",
       "                        <td id=\"T_7520f35c_b385_11eb_93fc_dd0b10f15b46row11_col6\" class=\"data row11 col6\" >0.0201</td>\n",
       "            </tr>\n",
       "    </tbody></table>"
      ],
      "text/plain": [
       "<pandas.io.formats.style.Styler at 0x1cb762c4d30>"
      ]
     },
     "metadata": {},
     "output_type": "display_data"
    }
   ],
   "source": [
    "stack_soft = stack_models(estimator_list = [rf], meta_model = lgbm)"
   ]
  },
  {
   "cell_type": "code",
   "execution_count": 110,
   "metadata": {},
   "outputs": [],
   "source": [
    "best_auc_model = automl(optimize = 'AUC')"
   ]
  },
  {
   "cell_type": "code",
   "execution_count": 111,
   "metadata": {},
   "outputs": [
    {
     "data": {
      "text/plain": [
       "LGBMClassifier(boosting_type='gbdt', class_weight=None, colsample_bytree=1.0,\n",
       "               importance_type='split', learning_rate=0.1, max_depth=-1,\n",
       "               min_child_samples=20, min_child_weight=0.001, min_split_gain=0.0,\n",
       "               n_estimators=100, n_jobs=-1, num_leaves=31, objective=None,\n",
       "               random_state=234, reg_alpha=0.0, reg_lambda=0.0, silent=True,\n",
       "               subsample=1.0, subsample_for_bin=200000, subsample_freq=0)"
      ]
     },
     "execution_count": 111,
     "metadata": {},
     "output_type": "execute_result"
    }
   ],
   "source": [
    "best_auc_model"
   ]
  },
  {
   "cell_type": "code",
   "execution_count": 112,
   "metadata": {},
   "outputs": [
    {
     "data": {
      "text/html": [
       "<style  type=\"text/css\" >\n",
       "</style><table id=\"T_8b091274_b385_11eb_9e8c_dd0b10f15b46\" ><thead>    <tr>        <th class=\"blank level0\" ></th>        <th class=\"col_heading level0 col0\" >Model</th>        <th class=\"col_heading level0 col1\" >Accuracy</th>        <th class=\"col_heading level0 col2\" >AUC</th>        <th class=\"col_heading level0 col3\" >Recall</th>        <th class=\"col_heading level0 col4\" >Prec.</th>        <th class=\"col_heading level0 col5\" >F1</th>        <th class=\"col_heading level0 col6\" >Kappa</th>        <th class=\"col_heading level0 col7\" >MCC</th>    </tr></thead><tbody>\n",
       "                <tr>\n",
       "                        <th id=\"T_8b091274_b385_11eb_9e8c_dd0b10f15b46level0_row0\" class=\"row_heading level0 row0\" >0</th>\n",
       "                        <td id=\"T_8b091274_b385_11eb_9e8c_dd0b10f15b46row0_col0\" class=\"data row0 col0\" >Light Gradient Boosting Machine</td>\n",
       "                        <td id=\"T_8b091274_b385_11eb_9e8c_dd0b10f15b46row0_col1\" class=\"data row0 col1\" >0.9062</td>\n",
       "                        <td id=\"T_8b091274_b385_11eb_9e8c_dd0b10f15b46row0_col2\" class=\"data row0 col2\" >0.9425</td>\n",
       "                        <td id=\"T_8b091274_b385_11eb_9e8c_dd0b10f15b46row0_col3\" class=\"data row0 col3\" >0.5803</td>\n",
       "                        <td id=\"T_8b091274_b385_11eb_9e8c_dd0b10f15b46row0_col4\" class=\"data row0 col4\" >0.6437</td>\n",
       "                        <td id=\"T_8b091274_b385_11eb_9e8c_dd0b10f15b46row0_col5\" class=\"data row0 col5\" >0.6104</td>\n",
       "                        <td id=\"T_8b091274_b385_11eb_9e8c_dd0b10f15b46row0_col6\" class=\"data row0 col6\" >0.5572</td>\n",
       "                        <td id=\"T_8b091274_b385_11eb_9e8c_dd0b10f15b46row0_col7\" class=\"data row0 col7\" >0.5582</td>\n",
       "            </tr>\n",
       "    </tbody></table>"
      ],
      "text/plain": [
       "<pandas.io.formats.style.Styler at 0x1cb0165e0b8>"
      ]
     },
     "metadata": {},
     "output_type": "display_data"
    },
    {
     "data": {
      "text/html": [
       "<div>\n",
       "<style scoped>\n",
       "    .dataframe tbody tr th:only-of-type {\n",
       "        vertical-align: middle;\n",
       "    }\n",
       "\n",
       "    .dataframe tbody tr th {\n",
       "        vertical-align: top;\n",
       "    }\n",
       "\n",
       "    .dataframe thead th {\n",
       "        text-align: right;\n",
       "    }\n",
       "</style>\n",
       "<table border=\"1\" class=\"dataframe\">\n",
       "  <thead>\n",
       "    <tr style=\"text-align: right;\">\n",
       "      <th></th>\n",
       "      <th>age</th>\n",
       "      <th>duration</th>\n",
       "      <th>campaign</th>\n",
       "      <th>pdays</th>\n",
       "      <th>previous</th>\n",
       "      <th>cons.price.idx</th>\n",
       "      <th>cons.conf.idx</th>\n",
       "      <th>nr.employed</th>\n",
       "      <th>job_admin.</th>\n",
       "      <th>job_blue-collar</th>\n",
       "      <th>...</th>\n",
       "      <th>month_sep</th>\n",
       "      <th>day_of_week_fri</th>\n",
       "      <th>day_of_week_mon</th>\n",
       "      <th>day_of_week_thu</th>\n",
       "      <th>day_of_week_tue</th>\n",
       "      <th>day_of_week_wed</th>\n",
       "      <th>poutcome_failure</th>\n",
       "      <th>y</th>\n",
       "      <th>Label</th>\n",
       "      <th>Score</th>\n",
       "    </tr>\n",
       "  </thead>\n",
       "  <tbody>\n",
       "    <tr>\n",
       "      <th>0</th>\n",
       "      <td>1.705792</td>\n",
       "      <td>0.850704</td>\n",
       "      <td>1.017932</td>\n",
       "      <td>-4.722079</td>\n",
       "      <td>2.353059</td>\n",
       "      <td>-2.170394</td>\n",
       "      <td>1.743039</td>\n",
       "      <td>-1.208550</td>\n",
       "      <td>0.0</td>\n",
       "      <td>0.0</td>\n",
       "      <td>...</td>\n",
       "      <td>0.0</td>\n",
       "      <td>0.0</td>\n",
       "      <td>0.0</td>\n",
       "      <td>0.0</td>\n",
       "      <td>0.0</td>\n",
       "      <td>1.0</td>\n",
       "      <td>0.0</td>\n",
       "      <td>1</td>\n",
       "      <td>1</td>\n",
       "      <td>0.8705</td>\n",
       "    </tr>\n",
       "    <tr>\n",
       "      <th>1</th>\n",
       "      <td>-0.129087</td>\n",
       "      <td>-1.945373</td>\n",
       "      <td>1.017932</td>\n",
       "      <td>0.211771</td>\n",
       "      <td>2.353059</td>\n",
       "      <td>-0.567006</td>\n",
       "      <td>-0.212817</td>\n",
       "      <td>0.262410</td>\n",
       "      <td>0.0</td>\n",
       "      <td>1.0</td>\n",
       "      <td>...</td>\n",
       "      <td>0.0</td>\n",
       "      <td>0.0</td>\n",
       "      <td>0.0</td>\n",
       "      <td>0.0</td>\n",
       "      <td>1.0</td>\n",
       "      <td>0.0</td>\n",
       "      <td>1.0</td>\n",
       "      <td>0</td>\n",
       "      <td>0</td>\n",
       "      <td>0.9994</td>\n",
       "    </tr>\n",
       "    <tr>\n",
       "      <th>2</th>\n",
       "      <td>-0.271814</td>\n",
       "      <td>1.971956</td>\n",
       "      <td>-0.187584</td>\n",
       "      <td>0.211771</td>\n",
       "      <td>-0.424617</td>\n",
       "      <td>-0.567006</td>\n",
       "      <td>-0.212817</td>\n",
       "      <td>0.262410</td>\n",
       "      <td>0.0</td>\n",
       "      <td>0.0</td>\n",
       "      <td>...</td>\n",
       "      <td>0.0</td>\n",
       "      <td>0.0</td>\n",
       "      <td>0.0</td>\n",
       "      <td>1.0</td>\n",
       "      <td>0.0</td>\n",
       "      <td>0.0</td>\n",
       "      <td>0.0</td>\n",
       "      <td>0</td>\n",
       "      <td>0</td>\n",
       "      <td>0.5891</td>\n",
       "    </tr>\n",
       "    <tr>\n",
       "      <th>3</th>\n",
       "      <td>-1.536808</td>\n",
       "      <td>-0.371467</td>\n",
       "      <td>-1.022106</td>\n",
       "      <td>0.211771</td>\n",
       "      <td>-0.424617</td>\n",
       "      <td>1.654168</td>\n",
       "      <td>-0.167889</td>\n",
       "      <td>1.070042</td>\n",
       "      <td>0.0</td>\n",
       "      <td>1.0</td>\n",
       "      <td>...</td>\n",
       "      <td>0.0</td>\n",
       "      <td>0.0</td>\n",
       "      <td>1.0</td>\n",
       "      <td>0.0</td>\n",
       "      <td>0.0</td>\n",
       "      <td>0.0</td>\n",
       "      <td>0.0</td>\n",
       "      <td>0</td>\n",
       "      <td>0</td>\n",
       "      <td>0.9984</td>\n",
       "    </tr>\n",
       "    <tr>\n",
       "      <th>4</th>\n",
       "      <td>-1.183465</td>\n",
       "      <td>-0.096692</td>\n",
       "      <td>1.017932</td>\n",
       "      <td>0.211771</td>\n",
       "      <td>-0.424617</td>\n",
       "      <td>0.800667</td>\n",
       "      <td>0.902642</td>\n",
       "      <td>0.160269</td>\n",
       "      <td>0.0</td>\n",
       "      <td>0.0</td>\n",
       "      <td>...</td>\n",
       "      <td>0.0</td>\n",
       "      <td>0.0</td>\n",
       "      <td>1.0</td>\n",
       "      <td>0.0</td>\n",
       "      <td>0.0</td>\n",
       "      <td>0.0</td>\n",
       "      <td>0.0</td>\n",
       "      <td>0</td>\n",
       "      <td>0</td>\n",
       "      <td>0.9985</td>\n",
       "    </tr>\n",
       "  </tbody>\n",
       "</table>\n",
       "<p>5 rows × 51 columns</p>\n",
       "</div>"
      ],
      "text/plain": [
       "        age  duration  campaign     pdays  previous  cons.price.idx  \\\n",
       "0  1.705792  0.850704  1.017932 -4.722079  2.353059       -2.170394   \n",
       "1 -0.129087 -1.945373  1.017932  0.211771  2.353059       -0.567006   \n",
       "2 -0.271814  1.971956 -0.187584  0.211771 -0.424617       -0.567006   \n",
       "3 -1.536808 -0.371467 -1.022106  0.211771 -0.424617        1.654168   \n",
       "4 -1.183465 -0.096692  1.017932  0.211771 -0.424617        0.800667   \n",
       "\n",
       "   cons.conf.idx  nr.employed  job_admin.  job_blue-collar  ...  month_sep  \\\n",
       "0       1.743039    -1.208550         0.0              0.0  ...        0.0   \n",
       "1      -0.212817     0.262410         0.0              1.0  ...        0.0   \n",
       "2      -0.212817     0.262410         0.0              0.0  ...        0.0   \n",
       "3      -0.167889     1.070042         0.0              1.0  ...        0.0   \n",
       "4       0.902642     0.160269         0.0              0.0  ...        0.0   \n",
       "\n",
       "   day_of_week_fri  day_of_week_mon  day_of_week_thu  day_of_week_tue  \\\n",
       "0              0.0              0.0              0.0              0.0   \n",
       "1              0.0              0.0              0.0              1.0   \n",
       "2              0.0              0.0              1.0              0.0   \n",
       "3              0.0              1.0              0.0              0.0   \n",
       "4              0.0              1.0              0.0              0.0   \n",
       "\n",
       "   day_of_week_wed  poutcome_failure  y  Label   Score  \n",
       "0              1.0               0.0  1      1  0.8705  \n",
       "1              0.0               1.0  0      0  0.9994  \n",
       "2              0.0               0.0  0      0  0.5891  \n",
       "3              0.0               0.0  0      0  0.9984  \n",
       "4              0.0               0.0  0      0  0.9985  \n",
       "\n",
       "[5 rows x 51 columns]"
      ]
     },
     "execution_count": 112,
     "metadata": {},
     "output_type": "execute_result"
    }
   ],
   "source": [
    "pred_holdouts = predict_model(best_auc_model)\n",
    "pred_holdouts.head()"
   ]
  },
  {
   "cell_type": "code",
   "execution_count": 113,
   "metadata": {},
   "outputs": [],
   "source": [
    "final_rf = finalize_model(best_auc_model)"
   ]
  },
  {
   "cell_type": "code",
   "execution_count": 114,
   "metadata": {},
   "outputs": [
    {
     "data": {
      "text/plain": [
       "LGBMClassifier(boosting_type='gbdt', class_weight=None, colsample_bytree=1.0,\n",
       "               importance_type='split', learning_rate=0.1, max_depth=-1,\n",
       "               min_child_samples=20, min_child_weight=0.001, min_split_gain=0.0,\n",
       "               n_estimators=100, n_jobs=-1, num_leaves=31, objective=None,\n",
       "               random_state=234, reg_alpha=0.0, reg_lambda=0.0, silent=True,\n",
       "               subsample=1.0, subsample_for_bin=200000, subsample_freq=0)"
      ]
     },
     "execution_count": 114,
     "metadata": {},
     "output_type": "execute_result"
    }
   ],
   "source": [
    "final_rf"
   ]
  },
  {
   "cell_type": "code",
   "execution_count": 72,
   "metadata": {},
   "outputs": [
    {
     "name": "stdout",
     "output_type": "stream",
     "text": [
      "Transformation Pipeline and Model Succesfully Saved\n"
     ]
    },
    {
     "data": {
      "text/plain": [
       "(Pipeline(memory=None,\n",
       "          steps=[('dtypes',\n",
       "                  DataTypes_Auto_infer(categorical_features=['job', 'marital',\n",
       "                                                             'education',\n",
       "                                                             'housing', 'loan',\n",
       "                                                             'contact', 'month',\n",
       "                                                             'day_of_week',\n",
       "                                                             'poutcome'],\n",
       "                                       display_types=True, features_todrop=[],\n",
       "                                       id_columns=[],\n",
       "                                       ml_usecase='classification',\n",
       "                                       numerical_features=['age', 'duration',\n",
       "                                                           'campaign',\n",
       "                                                           'emp.var.rate',\n",
       "                                                           'cons.price.idx',\n",
       "                                                           'cons.conf.idx',\n",
       "                                                           'eur...\n",
       "                                                                       min_impurity_decrease=0.0,\n",
       "                                                                       min_impurity_split=None,\n",
       "                                                                       min_samples_leaf=1,\n",
       "                                                                       min_samples_split=2,\n",
       "                                                                       min_weight_fraction_leaf=0.0,\n",
       "                                                                       n_estimators=100,\n",
       "                                                                       n_jobs=-1,\n",
       "                                                                       oob_score=False,\n",
       "                                                                       random_state=234,\n",
       "                                                                       verbose=0,\n",
       "                                                                       warm_start=False)),\n",
       "                                               ('catboost',\n",
       "                                                <catboost.core.CatBoostClassifier object at 0x000001DC809070D0>)],\n",
       "                                   flatten_transform=True, n_jobs=-1,\n",
       "                                   verbose=False, voting='soft',\n",
       "                                   weights=None)]],\n",
       "          verbose=False),\n",
       " 'Final Model 06May2021.pkl')"
      ]
     },
     "execution_count": 72,
     "metadata": {},
     "output_type": "execute_result"
    }
   ],
   "source": [
    "#save model\n",
    "save_model(final_rf,'Final Model 12May2021')"
   ]
  },
  {
   "cell_type": "code",
   "execution_count": null,
   "metadata": {},
   "outputs": [],
   "source": []
  }
 ],
 "metadata": {
  "kernelspec": {
   "display_name": "Python 3",
   "language": "python",
   "name": "python3"
  },
  "language_info": {
   "codemirror_mode": {
    "name": "ipython",
    "version": 3
   },
   "file_extension": ".py",
   "mimetype": "text/x-python",
   "name": "python",
   "nbconvert_exporter": "python",
   "pygments_lexer": "ipython3",
   "version": "3.6.13"
  }
 },
 "nbformat": 4,
 "nbformat_minor": 4
}
