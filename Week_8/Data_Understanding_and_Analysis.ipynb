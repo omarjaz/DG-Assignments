{
 "cells": [
  {
   "cell_type": "markdown",
   "metadata": {
    "id": "SJ__1nZbOmL0"
   },
   "source": [
    "# Data Science: Bank Marketing (Campaign) - Group Project"
   ]
  },
  {
   "cell_type": "markdown",
   "metadata": {
    "id": "AS-PtLIy2RT3"
   },
   "source": [
    "**Problem Statement:** ABC Bank wants to sell it's term deposit product to customers and before launching the product they want to develop a model which help them in understanding whether a particular customer will buy their product or not (based on customer's past interaction with bank or other Financial Institution)."
   ]
  },
  {
   "cell_type": "markdown",
   "metadata": {
    "id": "jKCShaJJ2U0I"
   },
   "source": [
    "**Why ML Model:** Bank wants to use ML model to shortlist customer whose chances of buying the product is more so that their marketing channel (tele marketing, SMS/email marketing etc)  can focus only to those customers whose chances of buying the product is more. This will save resource and their time ( which is directly involved in the cost ( resource billing))."
   ]
  },
  {
   "cell_type": "markdown",
   "metadata": {
    "id": "rRdspF-W2YwO"
   },
   "source": [
    "**Data Set Information :** The data is related with direct marketing campaigns of a Portuguese banking institution. The marketing campaigns were based on phone calls. Often, more than one contact to the same client was required, in order to access if the product (bank term deposit) would be ('yes') or not ('no') subscribed. The classification goal is to predict if the client will subscribe (yes/no) a term deposit (variable y)."
   ]
  },
  {
   "cell_type": "markdown",
   "metadata": {
    "id": "GlSlN4Bc3Ap_"
   },
   "source": [
    "**Objective:** Obtain a model that determines whether or not X customer will buy your product, based on past interactions with the bank and other financial institutions."
   ]
  },
  {
   "cell_type": "code",
   "execution_count": null,
   "metadata": {
    "colab": {
     "base_uri": "https://localhost:8080/"
    },
    "id": "KENU08IV6XpR",
    "outputId": "3727253b-b4c1-4c99-d1c3-dcccd86d6d5b"
   },
   "outputs": [
    {
     "name": "stdout",
     "output_type": "stream",
     "text": [
      "Mounted at /content/drive\n"
     ]
    }
   ],
   "source": [
    "# Google Colab environment mounting\n",
    "from google.colab import drive\n",
    "drive.mount('/content/drive')"
   ]
  },
  {
   "cell_type": "code",
   "execution_count": null,
   "metadata": {
    "id": "wqFwse2uOgFG"
   },
   "outputs": [],
   "source": [
    "# Importings\n",
    "import pandas as pd\n",
    "import numpy as np\n",
    "import matplotlib.pyplot as plt\n",
    "import seaborn as sns\n",
    "import warnings\n",
    "warnings.filterwarnings('ignore')\n",
    "import numpy as np \n",
    "import pandas as pd \n",
    "import matplotlib.pyplot as plt\n",
    "from operator import itemgetter\n",
    "from sklearn.experimental import enable_iterative_imputer \n",
    "from sklearn.impute import IterativeImputer\n",
    "from sklearn.preprocessing import OrdinalEncoder\n",
    "from sklearn.preprocessing import StandardScaler\n",
    "from sklearn.ensemble import (GradientBoostingRegressor, GradientBoostingClassifier)\n",
    "import xgboost\n",
    "sns.set()\n",
    "plt.rc('xtick', labelsize=10)     \n",
    "plt.rc('ytick', labelsize=10)"
   ]
  },
  {
   "cell_type": "code",
   "execution_count": null,
   "metadata": {
    "id": "6bKpW5qn9xan"
   },
   "outputs": [],
   "source": [
    "# Dataset loading\n",
    "from google.colab import drive\n",
    "bank_df = pd.read_csv(\"/content/drive/MyDrive/Data Glacier/Datasets/bank-additional/bank-additional-full.csv\", sep=\";\")"
   ]
  },
  {
   "cell_type": "code",
   "execution_count": null,
   "metadata": {
    "id": "4isi7S4Z6v6g"
   },
   "outputs": [],
   "source": [
    "#Omar\n",
    "#bank_df= pd.read_csv(\"/content/bank-additional-full.csv\",sep=\";\")"
   ]
  },
  {
   "cell_type": "code",
   "execution_count": null,
   "metadata": {
    "colab": {
     "base_uri": "https://localhost:8080/",
     "height": 226
    },
    "id": "7rHn0gPMh4tN",
    "outputId": "1d9617ab-ddfc-41b9-cb7f-31cef89b2104"
   },
   "outputs": [
    {
     "data": {
      "text/html": [
       "<div>\n",
       "<style scoped>\n",
       "    .dataframe tbody tr th:only-of-type {\n",
       "        vertical-align: middle;\n",
       "    }\n",
       "\n",
       "    .dataframe tbody tr th {\n",
       "        vertical-align: top;\n",
       "    }\n",
       "\n",
       "    .dataframe thead th {\n",
       "        text-align: right;\n",
       "    }\n",
       "</style>\n",
       "<table border=\"1\" class=\"dataframe\">\n",
       "  <thead>\n",
       "    <tr style=\"text-align: right;\">\n",
       "      <th></th>\n",
       "      <th>age</th>\n",
       "      <th>job</th>\n",
       "      <th>marital</th>\n",
       "      <th>education</th>\n",
       "      <th>default</th>\n",
       "      <th>housing</th>\n",
       "      <th>loan</th>\n",
       "      <th>contact</th>\n",
       "      <th>month</th>\n",
       "      <th>day_of_week</th>\n",
       "      <th>duration</th>\n",
       "      <th>campaign</th>\n",
       "      <th>pdays</th>\n",
       "      <th>previous</th>\n",
       "      <th>poutcome</th>\n",
       "      <th>emp.var.rate</th>\n",
       "      <th>cons.price.idx</th>\n",
       "      <th>cons.conf.idx</th>\n",
       "      <th>euribor3m</th>\n",
       "      <th>nr.employed</th>\n",
       "      <th>y</th>\n",
       "    </tr>\n",
       "  </thead>\n",
       "  <tbody>\n",
       "    <tr>\n",
       "      <th>0</th>\n",
       "      <td>56</td>\n",
       "      <td>housemaid</td>\n",
       "      <td>married</td>\n",
       "      <td>basic.4y</td>\n",
       "      <td>no</td>\n",
       "      <td>no</td>\n",
       "      <td>no</td>\n",
       "      <td>telephone</td>\n",
       "      <td>may</td>\n",
       "      <td>mon</td>\n",
       "      <td>261</td>\n",
       "      <td>1</td>\n",
       "      <td>999</td>\n",
       "      <td>0</td>\n",
       "      <td>nonexistent</td>\n",
       "      <td>1.1</td>\n",
       "      <td>93.994</td>\n",
       "      <td>-36.4</td>\n",
       "      <td>4.857</td>\n",
       "      <td>5191.0</td>\n",
       "      <td>no</td>\n",
       "    </tr>\n",
       "    <tr>\n",
       "      <th>1</th>\n",
       "      <td>57</td>\n",
       "      <td>services</td>\n",
       "      <td>married</td>\n",
       "      <td>high.school</td>\n",
       "      <td>unknown</td>\n",
       "      <td>no</td>\n",
       "      <td>no</td>\n",
       "      <td>telephone</td>\n",
       "      <td>may</td>\n",
       "      <td>mon</td>\n",
       "      <td>149</td>\n",
       "      <td>1</td>\n",
       "      <td>999</td>\n",
       "      <td>0</td>\n",
       "      <td>nonexistent</td>\n",
       "      <td>1.1</td>\n",
       "      <td>93.994</td>\n",
       "      <td>-36.4</td>\n",
       "      <td>4.857</td>\n",
       "      <td>5191.0</td>\n",
       "      <td>no</td>\n",
       "    </tr>\n",
       "    <tr>\n",
       "      <th>2</th>\n",
       "      <td>37</td>\n",
       "      <td>services</td>\n",
       "      <td>married</td>\n",
       "      <td>high.school</td>\n",
       "      <td>no</td>\n",
       "      <td>yes</td>\n",
       "      <td>no</td>\n",
       "      <td>telephone</td>\n",
       "      <td>may</td>\n",
       "      <td>mon</td>\n",
       "      <td>226</td>\n",
       "      <td>1</td>\n",
       "      <td>999</td>\n",
       "      <td>0</td>\n",
       "      <td>nonexistent</td>\n",
       "      <td>1.1</td>\n",
       "      <td>93.994</td>\n",
       "      <td>-36.4</td>\n",
       "      <td>4.857</td>\n",
       "      <td>5191.0</td>\n",
       "      <td>no</td>\n",
       "    </tr>\n",
       "    <tr>\n",
       "      <th>3</th>\n",
       "      <td>40</td>\n",
       "      <td>admin.</td>\n",
       "      <td>married</td>\n",
       "      <td>basic.6y</td>\n",
       "      <td>no</td>\n",
       "      <td>no</td>\n",
       "      <td>no</td>\n",
       "      <td>telephone</td>\n",
       "      <td>may</td>\n",
       "      <td>mon</td>\n",
       "      <td>151</td>\n",
       "      <td>1</td>\n",
       "      <td>999</td>\n",
       "      <td>0</td>\n",
       "      <td>nonexistent</td>\n",
       "      <td>1.1</td>\n",
       "      <td>93.994</td>\n",
       "      <td>-36.4</td>\n",
       "      <td>4.857</td>\n",
       "      <td>5191.0</td>\n",
       "      <td>no</td>\n",
       "    </tr>\n",
       "    <tr>\n",
       "      <th>4</th>\n",
       "      <td>56</td>\n",
       "      <td>services</td>\n",
       "      <td>married</td>\n",
       "      <td>high.school</td>\n",
       "      <td>no</td>\n",
       "      <td>no</td>\n",
       "      <td>yes</td>\n",
       "      <td>telephone</td>\n",
       "      <td>may</td>\n",
       "      <td>mon</td>\n",
       "      <td>307</td>\n",
       "      <td>1</td>\n",
       "      <td>999</td>\n",
       "      <td>0</td>\n",
       "      <td>nonexistent</td>\n",
       "      <td>1.1</td>\n",
       "      <td>93.994</td>\n",
       "      <td>-36.4</td>\n",
       "      <td>4.857</td>\n",
       "      <td>5191.0</td>\n",
       "      <td>no</td>\n",
       "    </tr>\n",
       "  </tbody>\n",
       "</table>\n",
       "</div>"
      ],
      "text/plain": [
       "   age        job  marital  ... euribor3m nr.employed   y\n",
       "0   56  housemaid  married  ...     4.857      5191.0  no\n",
       "1   57   services  married  ...     4.857      5191.0  no\n",
       "2   37   services  married  ...     4.857      5191.0  no\n",
       "3   40     admin.  married  ...     4.857      5191.0  no\n",
       "4   56   services  married  ...     4.857      5191.0  no\n",
       "\n",
       "[5 rows x 21 columns]"
      ]
     },
     "execution_count": 5,
     "metadata": {
      "tags": []
     },
     "output_type": "execute_result"
    }
   ],
   "source": [
    "bank_df.head()"
   ]
  },
  {
   "cell_type": "code",
   "execution_count": null,
   "metadata": {
    "colab": {
     "base_uri": "https://localhost:8080/",
     "height": 244
    },
    "id": "-2-sEUIK4mz-",
    "outputId": "8bb4287e-b1be-4623-b002-96f558436a53"
   },
   "outputs": [
    {
     "data": {
      "text/html": [
       "<div>\n",
       "<style scoped>\n",
       "    .dataframe tbody tr th:only-of-type {\n",
       "        vertical-align: middle;\n",
       "    }\n",
       "\n",
       "    .dataframe tbody tr th {\n",
       "        vertical-align: top;\n",
       "    }\n",
       "\n",
       "    .dataframe thead th {\n",
       "        text-align: right;\n",
       "    }\n",
       "</style>\n",
       "<table border=\"1\" class=\"dataframe\">\n",
       "  <thead>\n",
       "    <tr style=\"text-align: right;\">\n",
       "      <th></th>\n",
       "      <th>age</th>\n",
       "      <th>job</th>\n",
       "      <th>marital</th>\n",
       "      <th>education</th>\n",
       "      <th>default</th>\n",
       "      <th>housing</th>\n",
       "      <th>loan</th>\n",
       "      <th>contact</th>\n",
       "      <th>month</th>\n",
       "      <th>day_of_week</th>\n",
       "      <th>duration</th>\n",
       "      <th>campaign</th>\n",
       "      <th>pdays</th>\n",
       "      <th>previous</th>\n",
       "      <th>poutcome</th>\n",
       "      <th>emp.var.rate</th>\n",
       "      <th>cons.price.idx</th>\n",
       "      <th>cons.conf.idx</th>\n",
       "      <th>euribor3m</th>\n",
       "      <th>nr.employed</th>\n",
       "      <th>y</th>\n",
       "    </tr>\n",
       "  </thead>\n",
       "  <tbody>\n",
       "    <tr>\n",
       "      <th>41183</th>\n",
       "      <td>73</td>\n",
       "      <td>retired</td>\n",
       "      <td>married</td>\n",
       "      <td>professional.course</td>\n",
       "      <td>no</td>\n",
       "      <td>yes</td>\n",
       "      <td>no</td>\n",
       "      <td>cellular</td>\n",
       "      <td>nov</td>\n",
       "      <td>fri</td>\n",
       "      <td>334</td>\n",
       "      <td>1</td>\n",
       "      <td>999</td>\n",
       "      <td>0</td>\n",
       "      <td>nonexistent</td>\n",
       "      <td>-1.1</td>\n",
       "      <td>94.767</td>\n",
       "      <td>-50.8</td>\n",
       "      <td>1.028</td>\n",
       "      <td>4963.6</td>\n",
       "      <td>yes</td>\n",
       "    </tr>\n",
       "    <tr>\n",
       "      <th>41184</th>\n",
       "      <td>46</td>\n",
       "      <td>blue-collar</td>\n",
       "      <td>married</td>\n",
       "      <td>professional.course</td>\n",
       "      <td>no</td>\n",
       "      <td>no</td>\n",
       "      <td>no</td>\n",
       "      <td>cellular</td>\n",
       "      <td>nov</td>\n",
       "      <td>fri</td>\n",
       "      <td>383</td>\n",
       "      <td>1</td>\n",
       "      <td>999</td>\n",
       "      <td>0</td>\n",
       "      <td>nonexistent</td>\n",
       "      <td>-1.1</td>\n",
       "      <td>94.767</td>\n",
       "      <td>-50.8</td>\n",
       "      <td>1.028</td>\n",
       "      <td>4963.6</td>\n",
       "      <td>no</td>\n",
       "    </tr>\n",
       "    <tr>\n",
       "      <th>41185</th>\n",
       "      <td>56</td>\n",
       "      <td>retired</td>\n",
       "      <td>married</td>\n",
       "      <td>university.degree</td>\n",
       "      <td>no</td>\n",
       "      <td>yes</td>\n",
       "      <td>no</td>\n",
       "      <td>cellular</td>\n",
       "      <td>nov</td>\n",
       "      <td>fri</td>\n",
       "      <td>189</td>\n",
       "      <td>2</td>\n",
       "      <td>999</td>\n",
       "      <td>0</td>\n",
       "      <td>nonexistent</td>\n",
       "      <td>-1.1</td>\n",
       "      <td>94.767</td>\n",
       "      <td>-50.8</td>\n",
       "      <td>1.028</td>\n",
       "      <td>4963.6</td>\n",
       "      <td>no</td>\n",
       "    </tr>\n",
       "    <tr>\n",
       "      <th>41186</th>\n",
       "      <td>44</td>\n",
       "      <td>technician</td>\n",
       "      <td>married</td>\n",
       "      <td>professional.course</td>\n",
       "      <td>no</td>\n",
       "      <td>no</td>\n",
       "      <td>no</td>\n",
       "      <td>cellular</td>\n",
       "      <td>nov</td>\n",
       "      <td>fri</td>\n",
       "      <td>442</td>\n",
       "      <td>1</td>\n",
       "      <td>999</td>\n",
       "      <td>0</td>\n",
       "      <td>nonexistent</td>\n",
       "      <td>-1.1</td>\n",
       "      <td>94.767</td>\n",
       "      <td>-50.8</td>\n",
       "      <td>1.028</td>\n",
       "      <td>4963.6</td>\n",
       "      <td>yes</td>\n",
       "    </tr>\n",
       "    <tr>\n",
       "      <th>41187</th>\n",
       "      <td>74</td>\n",
       "      <td>retired</td>\n",
       "      <td>married</td>\n",
       "      <td>professional.course</td>\n",
       "      <td>no</td>\n",
       "      <td>yes</td>\n",
       "      <td>no</td>\n",
       "      <td>cellular</td>\n",
       "      <td>nov</td>\n",
       "      <td>fri</td>\n",
       "      <td>239</td>\n",
       "      <td>3</td>\n",
       "      <td>999</td>\n",
       "      <td>1</td>\n",
       "      <td>failure</td>\n",
       "      <td>-1.1</td>\n",
       "      <td>94.767</td>\n",
       "      <td>-50.8</td>\n",
       "      <td>1.028</td>\n",
       "      <td>4963.6</td>\n",
       "      <td>no</td>\n",
       "    </tr>\n",
       "  </tbody>\n",
       "</table>\n",
       "</div>"
      ],
      "text/plain": [
       "       age          job  marital  ... euribor3m nr.employed    y\n",
       "41183   73      retired  married  ...     1.028      4963.6  yes\n",
       "41184   46  blue-collar  married  ...     1.028      4963.6   no\n",
       "41185   56      retired  married  ...     1.028      4963.6   no\n",
       "41186   44   technician  married  ...     1.028      4963.6  yes\n",
       "41187   74      retired  married  ...     1.028      4963.6   no\n",
       "\n",
       "[5 rows x 21 columns]"
      ]
     },
     "execution_count": 6,
     "metadata": {
      "tags": []
     },
     "output_type": "execute_result"
    }
   ],
   "source": [
    "bank_df.tail()"
   ]
  },
  {
   "cell_type": "code",
   "execution_count": null,
   "metadata": {
    "colab": {
     "base_uri": "https://localhost:8080/"
    },
    "id": "A_XUnlej6ITU",
    "outputId": "778695d2-7652-48c2-b2d2-9e8515214e4e"
   },
   "outputs": [
    {
     "data": {
      "text/plain": [
       "(41188, 21)"
      ]
     },
     "execution_count": 7,
     "metadata": {
      "tags": []
     },
     "output_type": "execute_result"
    }
   ],
   "source": [
    "bank_df.shape"
   ]
  },
  {
   "cell_type": "markdown",
   "metadata": {
    "id": "eVHMN7fr6LSG"
   },
   "source": [
    "The dataset has 21 columns (features) and 41188 rows (instances)"
   ]
  },
  {
   "cell_type": "markdown",
   "metadata": {
    "id": "Gy2epBB3TZhA"
   },
   "source": [
    "# Data Understanding"
   ]
  },
  {
   "cell_type": "markdown",
   "metadata": {
    "id": "CzRJ59vndHQs"
   },
   "source": [
    "## **1- Features**"
   ]
  },
  {
   "cell_type": "markdown",
   "metadata": {
    "id": "tWaoutPDDbha"
   },
   "source": [
    "### **Metadata**\n",
    "\n",
    "#### **Clients Data**\n",
    "\n",
    "The bank provide us with a data of almost 41 K clients wich were contacted during a marketing campaign. The marketing campaigns were based on phone calls. Often, more than one contact to the same client was required, in order to access if the product(bank term deposit) would be ('yes') or not ('no') subscribed.\n",
    "\n",
    "1. `age`: int\n",
    "2. `job`: type of job (categorical: 'admin.','blue-collar','entrepreneur','housemaid','management','retired','self-employed','services','student','technician','unemployed','unknown')\n",
    "3. `marital`: marital status (categorical: 'divorced','married','single','unknown'; note: 'divorced' means divorced or widowed)\n",
    "4. `education`:(categorical: 'basic.4y','basic.6y','basic.9y','high.school','illiterate','professional.course','university.degree','unknown')\n",
    "5. `default`: has credit in default? (categorical: 'no','yes','unknown')\n",
    "6. `housing`:  has housing loan? (categorical: 'no','yes','unknown')\n",
    "7. `loan`:has personal loan? (categorical: 'no','yes','unknown')\n",
    "\n",
    "#### **Data related with the last contact**\n",
    "8. `contact`: contact communication type (categorical: 'cellular','telephone')\n",
    "9. `day_of_week`: last contact day of the week (categorical: 'mon','tue','wed','thu','fri')\n",
    "10. `month`: last contact month of year (categorical: 'jan', 'feb', 'mar', ..., 'nov', 'dec')\n",
    "11. `duration`: last contact duration, in seconds (numeric). Important note: this attribute highly affects the output target (e.g., if duration=0 then y='no'). Yet, the duration is not known before a call is performed. Also, after the end of the call y is obviously known. Thus, this input should only be included for benchmark purposes and should be discarded if the intention is to have a realistic predictive model.\n",
    "\n",
    "#### **Data related with the last campaign**\n",
    "\n",
    "12. `campaign`:number of contacts performed during this campaign and for this client (numeric, includes last contact)\n",
    "13. `pdays`: number of days that passed by after the client was last contacted from a previous campaign (numeric; 999 means client was not previously contacted)\n",
    "14. `previous`: number of contacts performed before this campaign and for this client (numeric)\n",
    "15. `poutcome`: outcome of the previous marketing campaign (categorical: 'failure','nonexistent','success')\n",
    "\n",
    "### **Data related with social and economic context**\n",
    "16. `emp.var.rate`: employment variation rate - quarterly indicator (numeric)\n",
    "17. `cons.price.idx`: consumer price index - monthly indicator (numeric)\n",
    "18. `cons.conf.idx`: consumer confidence index - monthly indicator (numeric)\n",
    "19. `euribor3m`: euribor 3 month rate - daily indicator (numeric)\n",
    "20. `nr.employed`: number of employees - quarterly indicator (numeric)\n",
    "\n",
    "\n",
    "#### **Result of the current campaign**\n",
    "21. `y` - has the client subscribed a term deposit? (binary: 'yes','no')"
   ]
  },
  {
   "cell_type": "markdown",
   "metadata": {
    "id": "T3HuaIBXdK6Z"
   },
   "source": [
    "## **2- Clients**"
   ]
  },
  {
   "cell_type": "markdown",
   "metadata": {
    "id": "CEGI68EGKcJN"
   },
   "source": [
    "### **Intro**"
   ]
  },
  {
   "cell_type": "code",
   "execution_count": null,
   "metadata": {
    "colab": {
     "base_uri": "https://localhost:8080/"
    },
    "id": "YVFqfbQdkouw",
    "outputId": "fbdad2e9-8982-4e1b-db1e-77a401c76c58"
   },
   "outputs": [
    {
     "data": {
      "text/html": [
       "<div>\n",
       "<style scoped>\n",
       "    .dataframe tbody tr th:only-of-type {\n",
       "        vertical-align: middle;\n",
       "    }\n",
       "\n",
       "    .dataframe tbody tr th {\n",
       "        vertical-align: top;\n",
       "    }\n",
       "\n",
       "    .dataframe thead th {\n",
       "        text-align: right;\n",
       "    }\n",
       "</style>\n",
       "<table border=\"1\" class=\"dataframe\">\n",
       "  <thead>\n",
       "    <tr style=\"text-align: right;\">\n",
       "      <th></th>\n",
       "      <th>y</th>\n",
       "    </tr>\n",
       "  </thead>\n",
       "  <tbody>\n",
       "    <tr>\n",
       "      <th>0</th>\n",
       "      <td>no</td>\n",
       "    </tr>\n",
       "    <tr>\n",
       "      <th>1</th>\n",
       "      <td>no</td>\n",
       "    </tr>\n",
       "    <tr>\n",
       "      <th>2</th>\n",
       "      <td>no</td>\n",
       "    </tr>\n",
       "    <tr>\n",
       "      <th>3</th>\n",
       "      <td>no</td>\n",
       "    </tr>\n",
       "    <tr>\n",
       "      <th>4</th>\n",
       "      <td>no</td>\n",
       "    </tr>\n",
       "    <tr>\n",
       "      <th>...</th>\n",
       "      <td>...</td>\n",
       "    </tr>\n",
       "    <tr>\n",
       "      <th>41183</th>\n",
       "      <td>yes</td>\n",
       "    </tr>\n",
       "    <tr>\n",
       "      <th>41184</th>\n",
       "      <td>no</td>\n",
       "    </tr>\n",
       "    <tr>\n",
       "      <th>41185</th>\n",
       "      <td>no</td>\n",
       "    </tr>\n",
       "    <tr>\n",
       "      <th>41186</th>\n",
       "      <td>yes</td>\n",
       "    </tr>\n",
       "    <tr>\n",
       "      <th>41187</th>\n",
       "      <td>no</td>\n",
       "    </tr>\n",
       "  </tbody>\n",
       "</table>\n",
       "<p>41188 rows × 1 columns</p>\n",
       "</div>"
      ],
      "text/plain": [
       "         y\n",
       "0       no\n",
       "1       no\n",
       "2       no\n",
       "3       no\n",
       "4       no\n",
       "...    ...\n",
       "41183  yes\n",
       "41184   no\n",
       "41185   no\n",
       "41186  yes\n",
       "41187   no\n",
       "\n",
       "[41188 rows x 1 columns]"
      ]
     },
     "execution_count": 8,
     "metadata": {
      "tags": []
     },
     "output_type": "execute_result"
    }
   ],
   "source": [
    "y = bank_df.y.to_frame('y')\n",
    "y"
   ]
  },
  {
   "cell_type": "code",
   "execution_count": null,
   "metadata": {
    "colab": {
     "base_uri": "https://localhost:8080/"
    },
    "id": "jUCmazJ-dOMS",
    "outputId": "a0a5589f-adad-4b76-a7db-568b55c98e8d"
   },
   "outputs": [
    {
     "data": {
      "text/html": [
       "<div>\n",
       "<style scoped>\n",
       "    .dataframe tbody tr th:only-of-type {\n",
       "        vertical-align: middle;\n",
       "    }\n",
       "\n",
       "    .dataframe tbody tr th {\n",
       "        vertical-align: top;\n",
       "    }\n",
       "\n",
       "    .dataframe thead th {\n",
       "        text-align: right;\n",
       "    }\n",
       "</style>\n",
       "<table border=\"1\" class=\"dataframe\">\n",
       "  <thead>\n",
       "    <tr style=\"text-align: right;\">\n",
       "      <th></th>\n",
       "      <th>age</th>\n",
       "      <th>job</th>\n",
       "      <th>marital</th>\n",
       "      <th>education</th>\n",
       "      <th>default</th>\n",
       "      <th>housing</th>\n",
       "      <th>loan</th>\n",
       "      <th>y</th>\n",
       "    </tr>\n",
       "  </thead>\n",
       "  <tbody>\n",
       "    <tr>\n",
       "      <th>0</th>\n",
       "      <td>56</td>\n",
       "      <td>housemaid</td>\n",
       "      <td>married</td>\n",
       "      <td>basic.4y</td>\n",
       "      <td>no</td>\n",
       "      <td>no</td>\n",
       "      <td>no</td>\n",
       "      <td>no</td>\n",
       "    </tr>\n",
       "    <tr>\n",
       "      <th>1</th>\n",
       "      <td>57</td>\n",
       "      <td>services</td>\n",
       "      <td>married</td>\n",
       "      <td>high.school</td>\n",
       "      <td>unknown</td>\n",
       "      <td>no</td>\n",
       "      <td>no</td>\n",
       "      <td>no</td>\n",
       "    </tr>\n",
       "    <tr>\n",
       "      <th>2</th>\n",
       "      <td>37</td>\n",
       "      <td>services</td>\n",
       "      <td>married</td>\n",
       "      <td>high.school</td>\n",
       "      <td>no</td>\n",
       "      <td>yes</td>\n",
       "      <td>no</td>\n",
       "      <td>no</td>\n",
       "    </tr>\n",
       "    <tr>\n",
       "      <th>3</th>\n",
       "      <td>40</td>\n",
       "      <td>admin.</td>\n",
       "      <td>married</td>\n",
       "      <td>basic.6y</td>\n",
       "      <td>no</td>\n",
       "      <td>no</td>\n",
       "      <td>no</td>\n",
       "      <td>no</td>\n",
       "    </tr>\n",
       "    <tr>\n",
       "      <th>4</th>\n",
       "      <td>56</td>\n",
       "      <td>services</td>\n",
       "      <td>married</td>\n",
       "      <td>high.school</td>\n",
       "      <td>no</td>\n",
       "      <td>no</td>\n",
       "      <td>yes</td>\n",
       "      <td>no</td>\n",
       "    </tr>\n",
       "  </tbody>\n",
       "</table>\n",
       "</div>"
      ],
      "text/plain": [
       "   age        job  marital    education  default housing loan   y\n",
       "0   56  housemaid  married     basic.4y       no      no   no  no\n",
       "1   57   services  married  high.school  unknown      no   no  no\n",
       "2   37   services  married  high.school       no     yes   no  no\n",
       "3   40     admin.  married     basic.6y       no      no   no  no\n",
       "4   56   services  married  high.school       no      no  yes  no"
      ]
     },
     "execution_count": 9,
     "metadata": {
      "tags": []
     },
     "output_type": "execute_result"
    }
   ],
   "source": [
    "clients= bank_df[bank_df.columns[:7]]\n",
    "clients = pd.concat([clients,y],axis=1,join='outer')\n",
    "clients.head()"
   ]
  },
  {
   "cell_type": "markdown",
   "metadata": {
    "id": "QcJl-lYujNGI"
   },
   "source": [
    "### **Age Analysis**"
   ]
  },
  {
   "cell_type": "code",
   "execution_count": null,
   "metadata": {
    "colab": {
     "base_uri": "https://localhost:8080/"
    },
    "id": "qCNBWnaJhNIh",
    "outputId": "3c694e7f-4a4b-4d3a-eec2-8521aafff5f6"
   },
   "outputs": [
    {
     "data": {
      "text/plain": [
       "(array([ 0,  1,  2,  3,  4,  5,  6,  7,  8,  9, 10, 11, 12, 13, 14, 15, 16,\n",
       "        17, 18, 19, 20, 21, 22, 23, 24, 25, 26, 27, 28, 29, 30, 31, 32, 33,\n",
       "        34, 35, 36, 37, 38, 39, 40, 41, 42, 43, 44, 45, 46, 47, 48, 49, 50,\n",
       "        51, 52, 53, 54, 55, 56, 57, 58, 59, 60, 61, 62, 63, 64, 65, 66, 67,\n",
       "        68, 69, 70, 71, 72, 73, 74, 75, 76, 77]),\n",
       " <a list of 78 Text major ticklabel objects>)"
      ]
     },
     "execution_count": 10,
     "metadata": {
      "tags": []
     },
     "output_type": "execute_result"
    },
    {
     "data": {
      "image/png": "[encoded data removed]",
      "text/plain": [
       "<Figure size 1080x360 with 1 Axes>"
      ]
     },
     "metadata": {
      "tags": []
     },
     "output_type": "display_data"
    }
   ],
   "source": [
    "fig, ax = plt.subplots(figsize = (15, 5))\n",
    "sns.countplot(x = 'age', data = clients,color = \"yellow\", edgecolor ='black')\n",
    "plt.xlabel(\"Age\") \n",
    "plt.ylabel(\"Clients\")\n",
    "plt.title(\"Agewise Distribution\")  \n",
    "plt.xticks(rotation=90)"
   ]
  },
  {
   "cell_type": "code",
   "execution_count": null,
   "metadata": {
    "colab": {
     "base_uri": "https://localhost:8080/"
    },
    "id": "zhc9xC2bdN_M",
    "outputId": "4e476870-89d5-47a4-a931-2833421d9827"
   },
   "outputs": [
    {
     "data": {
      "text/plain": [
       "Text(0.5, 1.0, 'Agewise Distribution')"
      ]
     },
     "execution_count": 11,
     "metadata": {
      "tags": []
     },
     "output_type": "execute_result"
    },
    {
     "data": {
      "image/png": "[encoded data removed]",
      "text/plain": [
       "<Figure size 648x360 with 1 Axes>"
      ]
     },
     "metadata": {
      "tags": []
     },
     "output_type": "display_data"
    }
   ],
   "source": [
    "import matplotlib.pyplot as plt\n",
    "fig, ax = plt.subplots(figsize = (9, 5))\n",
    "sns.histplot(data=clients, x='age', hue='y', binwidth=10, multiple='stack', stat=\"probability\", edgecolor ='black')\n",
    "plt.xlabel(\"Age\") \n",
    "plt.ylabel(\"Percentage\")\n",
    "plt.title(\"Agewise Distribution\")  "
   ]
  },
  {
   "cell_type": "markdown",
   "metadata": {
    "id": "fX_M8zqsw7s1"
   },
   "source": [
    "- We group the ages into different age ranges (mainly to group those over 60)"
   ]
  },
  {
   "cell_type": "code",
   "execution_count": null,
   "metadata": {
    "id": "sUkoyKqWidfl"
   },
   "outputs": [],
   "source": [
    "lst = [clients]\n",
    "for column in lst:\n",
    "    column.loc[column[\"age\"] < 30,  'age_group'] = 20\n",
    "    column.loc[(column[\"age\"] >= 30) & (column[\"age\"] <= 39), 'age_group'] = 30\n",
    "    column.loc[(column[\"age\"] >= 40) & (column[\"age\"] <= 49), 'age_group'] = 40\n",
    "    column.loc[(column[\"age\"] >= 50) & (column[\"age\"] <= 59), 'age_group'] = 50\n",
    "    column.loc[column[\"age\"] >= 60, 'age_group'] = 60"
   ]
  },
  {
   "cell_type": "code",
   "execution_count": null,
   "metadata": {
    "colab": {
     "base_uri": "https://localhost:8080/"
    },
    "id": "tFJLYjp5jztU",
    "outputId": "c1a52bcb-5805-4b6e-c5d7-099a0053d61e"
   },
   "outputs": [
    {
     "data": {
      "text/plain": [
       "30.0    16938\n",
       "40.0    10526\n",
       "50.0     6862\n",
       "20.0     5669\n",
       "60.0     1193\n",
       "Name: age_group, dtype: int64"
      ]
     },
     "execution_count": 13,
     "metadata": {
      "tags": []
     },
     "output_type": "execute_result"
    }
   ],
   "source": [
    "clients.age_group.value_counts()\n",
    "clients"
   ]
  },
  {
   "cell_type": "markdown",
   "metadata": {
    "id": "kyvNK5ROKUcW"
   },
   "source": [
    "### **Clients univariate analysis**"
   ]
  },
  {
   "cell_type": "code",
   "execution_count": null,
   "metadata": {
    "id": "5MQZcVvsgsDc"
   },
   "outputs": [],
   "source": [
    "categorical_cols=['job', 'marital', 'education', 'default', 'housing', 'loan']"
   ]
  },
  {
   "cell_type": "code",
   "execution_count": null,
   "metadata": {
    "colab": {
     "base_uri": "https://localhost:8080/"
    },
    "id": "_nh8m7hvgZFO",
    "outputId": "96d702e5-a7f9-48d4-c190-8fc58cf0f72b"
   },
   "outputs": [
    {
     "data": {
      "image/png": "[encoded data removed]",
      "text/plain": [
       "<Figure size 432x288 with 1 Axes>"
      ]
     },
     "metadata": {
      "tags": []
     },
     "output_type": "display_data"
    },
    {
     "data": {
      "image/png": "[encoded data removed]",
      "text/plain": [
       "<Figure size 432x288 with 1 Axes>"
      ]
     },
     "metadata": {
      "tags": []
     },
     "output_type": "display_data"
    },
    {
     "data": {
      "image/png": "[encoded data removed]",
      "text/plain": [
       "<Figure size 432x288 with 1 Axes>"
      ]
     },
     "metadata": {
      "tags": []
     },
     "output_type": "display_data"
    },
    {
     "data": {
      "image/png": "[encoded data removed]",
      "text/plain": [
       "<Figure size 432x288 with 1 Axes>"
      ]
     },
     "metadata": {
      "tags": []
     },
     "output_type": "display_data"
    },
    {
     "data": {
      "image/png": "[encoded data removed]",
      "text/plain": [
       "<Figure size 432x288 with 1 Axes>"
      ]
     },
     "metadata": {
      "tags": []
     },
     "output_type": "display_data"
    },
    {
     "data": {
      "image/png": "[encoded data removed]",
      "text/plain": [
       "<Figure size 432x288 with 1 Axes>"
      ]
     },
     "metadata": {
      "tags": []
     },
     "output_type": "display_data"
    }
   ],
   "source": [
    "total_customers = len(clients) \n",
    "\n",
    "# for each categorical variable\n",
    "for col in categorical_cols:\n",
    "\n",
    "    # count the number of customers per category and divide by total customers\n",
    "    # aka percentage of houses per category\n",
    "\n",
    "    temp_df = pd.Series(bank_df[col].value_counts() / total_customers)\n",
    "\n",
    "    # make plot with the above percentages\n",
    "    fig = temp_df.sort_values(ascending=False).plot.bar()\n",
    "    fig.set_xlabel(col)\n",
    "\n",
    "    # add a line at 5 % to flag the threshold for rare categories\n",
    "    fig.axhline(y=0.05, color='red')\n",
    "    fig.set_ylabel('Percentage of customers')\n",
    "    plt.show()"
   ]
  },
  {
   "cell_type": "markdown",
   "metadata": {
    "id": "93DXwifFiW9w"
   },
   "source": [
    "The red line means 5% of the total class."
   ]
  },
  {
   "cell_type": "markdown",
   "metadata": {
    "id": "wS5GueU-KK7g"
   },
   "source": [
    "### **Clients bivariate analysis**"
   ]
  },
  {
   "cell_type": "markdown",
   "metadata": {
    "id": "MKYXQk_ax8jF"
   },
   "source": [
    "**Age distribution according to marital status**\n",
    "\n",
    "---\n",
    "\n",
    "\n",
    "\n",
    "---\n",
    "\n"
   ]
  },
  {
   "cell_type": "code",
   "execution_count": null,
   "metadata": {
    "colab": {
     "base_uri": "https://localhost:8080/"
    },
    "id": "J64oUHGzir-h",
    "outputId": "e233989d-628c-4b94-d567-c4db7b115e78"
   },
   "outputs": [
    {
     "data": {
      "text/plain": [
       "Text(0.5, 1.0, 'Agewise Distribution')"
      ]
     },
     "execution_count": 16,
     "metadata": {
      "tags": []
     },
     "output_type": "execute_result"
    },
    {
     "data": {
      "image/png": "[encoded data removed]",
      "text/plain": [
       "<Figure size 648x360 with 1 Axes>"
      ]
     },
     "metadata": {
      "tags": []
     },
     "output_type": "display_data"
    }
   ],
   "source": [
    "import matplotlib.pyplot as plt\n",
    "fig, ax = plt.subplots(figsize = (9, 5))\n",
    "sns.histplot(data=clients, x='age_group', hue='marital', binwidth=8, multiple='stack', stat=\"probability\", edgecolor ='black')\n",
    "plt.xlabel(\"Age Group\") \n",
    "plt.ylabel(\"Percentage\")\n",
    "plt.title(\"Agewise Distribution\")  "
   ]
  },
  {
   "cell_type": "markdown",
   "metadata": {
    "id": "TSyY1oQHyDN3"
   },
   "source": [
    "**Age distribution according to education**\n",
    "\n",
    "\n",
    "---\n",
    "\n",
    "\n"
   ]
  },
  {
   "cell_type": "code",
   "execution_count": null,
   "metadata": {
    "colab": {
     "base_uri": "https://localhost:8080/"
    },
    "id": "X3YNbXE6xg4D",
    "outputId": "d4748d05-560a-459f-ce20-4f48a32cc1ba"
   },
   "outputs": [
    {
     "data": {
      "text/plain": [
       "Text(0.5, 1.0, 'Agewise Distribution')"
      ]
     },
     "execution_count": 17,
     "metadata": {
      "tags": []
     },
     "output_type": "execute_result"
    },
    {
     "data": {
      "image/png": "[encoded data removed]",
      "text/plain": [
       "<Figure size 648x360 with 1 Axes>"
      ]
     },
     "metadata": {
      "tags": []
     },
     "output_type": "display_data"
    }
   ],
   "source": [
    "fig, ax = plt.subplots(figsize = (9, 5))\n",
    "sns.histplot(data=clients, x='age_group', hue='education', binwidth=8, multiple='stack', stat=\"probability\", edgecolor ='black')\n",
    "plt.xlabel(\"Age Group\") \n",
    "plt.ylabel(\"Percentage\")\n",
    "plt.title(\"Agewise Distribution\")  "
   ]
  },
  {
   "cell_type": "markdown",
   "metadata": {
    "id": "29yAH6BKj0hs"
   },
   "source": [
    "**Age distribution according to loan**\n",
    "\n",
    "\n",
    "---\n",
    "\n",
    "\n"
   ]
  },
  {
   "cell_type": "code",
   "execution_count": null,
   "metadata": {
    "colab": {
     "base_uri": "https://localhost:8080/"
    },
    "id": "pzgzXRIVjhJH",
    "outputId": "f1ff31ef-4f85-4f34-8985-ad8529327ec5"
   },
   "outputs": [
    {
     "data": {
      "text/plain": [
       "Text(0.5, 1.0, 'Agewise Loan')"
      ]
     },
     "execution_count": 18,
     "metadata": {
      "tags": []
     },
     "output_type": "execute_result"
    },
    {
     "data": {
      "image/png": "[encoded data removed]",
      "text/plain": [
       "<Figure size 809.6x360 with 2 Axes>"
      ]
     },
     "metadata": {
      "tags": []
     },
     "output_type": "display_data"
    }
   ],
   "source": [
    "sns.catplot(data=clients, x='age_group',hue ='loan',col='y', edgecolor ='black',kind='count')\n",
    "plt.xlabel(\"Age Group\") \n",
    "plt.ylabel(\"Amount\")\n",
    "plt.title(\"Agewise Loan\") \n"
   ]
  },
  {
   "cell_type": "markdown",
   "metadata": {
    "id": "-EGn-6tLkEL1"
   },
   "source": [
    "**Age distribution according to default**\n",
    "\n",
    "\n",
    "---\n",
    "\n",
    "\n"
   ]
  },
  {
   "cell_type": "code",
   "execution_count": null,
   "metadata": {
    "colab": {
     "base_uri": "https://localhost:8080/"
    },
    "id": "5ZKuLv-1x6u4",
    "outputId": "aeba00e3-ce12-435a-9bd9-c5b46658cda6"
   },
   "outputs": [
    {
     "data": {
      "text/plain": [
       "<seaborn.axisgrid.FacetGrid at 0x7f8d936b1fd0>"
      ]
     },
     "execution_count": 19,
     "metadata": {
      "tags": []
     },
     "output_type": "execute_result"
    },
    {
     "data": {
      "image/png": "[encoded data removed]",
      "text/plain": [
       "<Figure size 809.6x360 with 2 Axes>"
      ]
     },
     "metadata": {
      "tags": []
     },
     "output_type": "display_data"
    }
   ],
   "source": [
    "sns.catplot(data=clients, x='age_group',hue ='default',col='y', edgecolor ='black',kind='count')"
   ]
  },
  {
   "cell_type": "markdown",
   "metadata": {
    "id": "DfVNsQK2kJlc"
   },
   "source": [
    "**Age distribution according to housing**\n",
    "\n",
    "\n",
    "---\n",
    "\n",
    "\n"
   ]
  },
  {
   "cell_type": "code",
   "execution_count": null,
   "metadata": {
    "colab": {
     "base_uri": "https://localhost:8080/"
    },
    "id": "ibSVi5ZryYmP",
    "outputId": "227377e1-860b-4cf5-a90f-a86549828cfb"
   },
   "outputs": [
    {
     "data": {
      "text/plain": [
       "<seaborn.axisgrid.FacetGrid at 0x7f8d939777d0>"
      ]
     },
     "execution_count": 20,
     "metadata": {
      "tags": []
     },
     "output_type": "execute_result"
    },
    {
     "data": {
      "image/png": "[encoded data removed]",
      "text/plain": [
       "<Figure size 809.6x360 with 2 Axes>"
      ]
     },
     "metadata": {
      "tags": []
     },
     "output_type": "display_data"
    }
   ],
   "source": [
    "sns.catplot(data=clients, x='age_group',hue ='housing',col='y', edgecolor ='black',kind='count')"
   ]
  },
  {
   "cell_type": "markdown",
   "metadata": {
    "id": "doCpae0YzA29"
   },
   "source": [
    "As expected, the greatest conversion occurs with those who have a home.\n",
    "\n",
    "  But beware, they do not keep the same proportion, in fact, the differences between those who have and do not have a house in the graph on the right, is less than on the left. **Therefore, we can intuit that this feature is not so characteristic**"
   ]
  },
  {
   "cell_type": "markdown",
   "metadata": {
    "id": "sOf8wlFHljro"
   },
   "source": [
    "**Age distribution according to education**\n",
    "\n",
    "\n",
    "---"
   ]
  },
  {
   "cell_type": "code",
   "execution_count": null,
   "metadata": {
    "colab": {
     "base_uri": "https://localhost:8080/"
    },
    "id": "B7pigVEijhAx",
    "outputId": "3f9e28e2-f119-42f5-ebe0-ebc01bf689af"
   },
   "outputs": [
    {
     "data": {
      "text/plain": [
       "<seaborn.axisgrid.FacetGrid at 0x7f8d939bb390>"
      ]
     },
     "execution_count": 21,
     "metadata": {
      "tags": []
     },
     "output_type": "execute_result"
    },
    {
     "data": {
      "image/png": "[encoded data removed]",
      "text/plain": [
       "<Figure size 2938.72x360 with 8 Axes>"
      ]
     },
     "metadata": {
      "tags": []
     },
     "output_type": "display_data"
    }
   ],
   "source": [
    "sns.catplot(data=clients, x='age_group',hue ='y',col='education', edgecolor ='black',kind='count')"
   ]
  },
  {
   "cell_type": "markdown",
   "metadata": {
    "id": "gMuzcOWMyzk7"
   },
   "source": [
    "We can see that those who convert the most are those with a University education, followed by high school and then professional course."
   ]
  },
  {
   "cell_type": "markdown",
   "metadata": {
    "id": "lRMC1DVHziOV"
   },
   "source": [
    "In summary, the conclusions when making these crosses between the characteristics of the customers and whether they convert or not, are quite obvious and logical.\n",
    "\n",
    "**Example:** As expected, those with a university degree convert more than those who have not finished high school\n"
   ]
  },
  {
   "cell_type": "markdown",
   "metadata": {
    "id": "zAABMwUbKRLJ"
   },
   "source": [
    "### **Conversion Analysis - Agewise**"
   ]
  },
  {
   "cell_type": "markdown",
   "metadata": {
    "id": "mFWBMHTtUqSr"
   },
   "source": [
    "**Table Nº1: Number of conversions in each age range.**"
   ]
  },
  {
   "cell_type": "code",
   "execution_count": null,
   "metadata": {
    "colab": {
     "base_uri": "https://localhost:8080/"
    },
    "id": "0zb4kPYjypmc",
    "outputId": "55db7c44-52dc-4262-db60-13f5aa2022d3"
   },
   "outputs": [
    {
     "data": {
      "text/html": [
       "<div>\n",
       "<style scoped>\n",
       "    .dataframe tbody tr th:only-of-type {\n",
       "        vertical-align: middle;\n",
       "    }\n",
       "\n",
       "    .dataframe tbody tr th {\n",
       "        vertical-align: top;\n",
       "    }\n",
       "\n",
       "    .dataframe thead th {\n",
       "        text-align: right;\n",
       "    }\n",
       "</style>\n",
       "<table border=\"1\" class=\"dataframe\">\n",
       "  <thead>\n",
       "    <tr style=\"text-align: right;\">\n",
       "      <th>age_group</th>\n",
       "      <th>20.0</th>\n",
       "      <th>30.0</th>\n",
       "      <th>40.0</th>\n",
       "      <th>50.0</th>\n",
       "      <th>60.0</th>\n",
       "      <th>Total</th>\n",
       "    </tr>\n",
       "    <tr>\n",
       "      <th>y</th>\n",
       "      <th></th>\n",
       "      <th></th>\n",
       "      <th></th>\n",
       "      <th></th>\n",
       "      <th></th>\n",
       "      <th></th>\n",
       "    </tr>\n",
       "  </thead>\n",
       "  <tbody>\n",
       "    <tr>\n",
       "      <th>no</th>\n",
       "      <td>4747.0</td>\n",
       "      <td>15223.0</td>\n",
       "      <td>9692.0</td>\n",
       "      <td>6165.0</td>\n",
       "      <td>721.0</td>\n",
       "      <td>36548.0</td>\n",
       "    </tr>\n",
       "    <tr>\n",
       "      <th>yes</th>\n",
       "      <td>922.0</td>\n",
       "      <td>1715.0</td>\n",
       "      <td>834.0</td>\n",
       "      <td>697.0</td>\n",
       "      <td>472.0</td>\n",
       "      <td>4640.0</td>\n",
       "    </tr>\n",
       "    <tr>\n",
       "      <th>Total</th>\n",
       "      <td>5669.0</td>\n",
       "      <td>16938.0</td>\n",
       "      <td>10526.0</td>\n",
       "      <td>6862.0</td>\n",
       "      <td>1193.0</td>\n",
       "      <td>41188.0</td>\n",
       "    </tr>\n",
       "  </tbody>\n",
       "</table>\n",
       "</div>"
      ],
      "text/plain": [
       "age_group    20.0     30.0     40.0    50.0    60.0    Total\n",
       "y                                                           \n",
       "no         4747.0  15223.0   9692.0  6165.0   721.0  36548.0\n",
       "yes         922.0   1715.0    834.0   697.0   472.0   4640.0\n",
       "Total      5669.0  16938.0  10526.0  6862.0  1193.0  41188.0"
      ]
     },
     "execution_count": 22,
     "metadata": {
      "tags": []
     },
     "output_type": "execute_result"
    }
   ],
   "source": [
    "total = pd.crosstab(clients['y'],clients['age_group'])\n",
    "total.loc['Total',:]= total.sum(axis=0)\n",
    "total['Total']= total.sum(axis=1)\n",
    "total"
   ]
  },
  {
   "cell_type": "markdown",
   "metadata": {
    "id": "TqZf2jN-UwRK"
   },
   "source": [
    "**Table Nº2: Same as table 1. The new columns represent the percentage of the total conversions**"
   ]
  },
  {
   "cell_type": "code",
   "execution_count": null,
   "metadata": {
    "colab": {
     "base_uri": "https://localhost:8080/"
    },
    "id": "fY2RWE2_ROIO",
    "outputId": "dd3d9571-70be-49ee-a259-70c51c896268"
   },
   "outputs": [
    {
     "data": {
      "text/html": [
       "<div>\n",
       "<style scoped>\n",
       "    .dataframe tbody tr th:only-of-type {\n",
       "        vertical-align: middle;\n",
       "    }\n",
       "\n",
       "    .dataframe tbody tr th {\n",
       "        vertical-align: top;\n",
       "    }\n",
       "\n",
       "    .dataframe thead th {\n",
       "        text-align: right;\n",
       "    }\n",
       "</style>\n",
       "<table border=\"1\" class=\"dataframe\">\n",
       "  <thead>\n",
       "    <tr style=\"text-align: right;\">\n",
       "      <th>y</th>\n",
       "      <th>no</th>\n",
       "      <th>yes</th>\n",
       "      <th>% No Conversión total</th>\n",
       "      <th>% Si Conversión total</th>\n",
       "    </tr>\n",
       "    <tr>\n",
       "      <th>age_group</th>\n",
       "      <th></th>\n",
       "      <th></th>\n",
       "      <th></th>\n",
       "      <th></th>\n",
       "    </tr>\n",
       "  </thead>\n",
       "  <tbody>\n",
       "    <tr>\n",
       "      <th>20.0</th>\n",
       "      <td>4747.0</td>\n",
       "      <td>922.0</td>\n",
       "      <td>12.988399</td>\n",
       "      <td>19.870690</td>\n",
       "    </tr>\n",
       "    <tr>\n",
       "      <th>30.0</th>\n",
       "      <td>15223.0</td>\n",
       "      <td>1715.0</td>\n",
       "      <td>41.652074</td>\n",
       "      <td>36.961207</td>\n",
       "    </tr>\n",
       "    <tr>\n",
       "      <th>40.0</th>\n",
       "      <td>9692.0</td>\n",
       "      <td>834.0</td>\n",
       "      <td>26.518551</td>\n",
       "      <td>17.974138</td>\n",
       "    </tr>\n",
       "    <tr>\n",
       "      <th>50.0</th>\n",
       "      <td>6165.0</td>\n",
       "      <td>697.0</td>\n",
       "      <td>16.868228</td>\n",
       "      <td>15.021552</td>\n",
       "    </tr>\n",
       "    <tr>\n",
       "      <th>60.0</th>\n",
       "      <td>721.0</td>\n",
       "      <td>472.0</td>\n",
       "      <td>1.972748</td>\n",
       "      <td>10.172414</td>\n",
       "    </tr>\n",
       "    <tr>\n",
       "      <th>Total</th>\n",
       "      <td>36548.0</td>\n",
       "      <td>4640.0</td>\n",
       "      <td>100.000000</td>\n",
       "      <td>100.000000</td>\n",
       "    </tr>\n",
       "  </tbody>\n",
       "</table>\n",
       "</div>"
      ],
      "text/plain": [
       "y               no     yes  % No Conversión total  % Si Conversión total\n",
       "age_group                                                               \n",
       "20.0        4747.0   922.0              12.988399              19.870690\n",
       "30.0       15223.0  1715.0              41.652074              36.961207\n",
       "40.0        9692.0   834.0              26.518551              17.974138\n",
       "50.0        6165.0   697.0              16.868228              15.021552\n",
       "60.0         721.0   472.0               1.972748              10.172414\n",
       "Total      36548.0  4640.0             100.000000             100.000000"
      ]
     },
     "execution_count": 23,
     "metadata": {
      "tags": []
     },
     "output_type": "execute_result"
    }
   ],
   "source": [
    "conversiones_edad = pd.crosstab(clients['y'],clients['age_group'])\n",
    "conversiones_edad = conversiones_edad.transpose() \n",
    "conversiones_edad.loc['Total',:]= conversiones_edad.sum(axis=0)\n",
    "conversiones_edad['% No Conversión total'] = (conversiones_edad['no']/conversiones_edad['no'].sum())*200\n",
    "conversiones_edad['% Si Conversión total'] = (conversiones_edad['yes']/conversiones_edad['yes'].sum())*200\n",
    "conversiones_edad"
   ]
  },
  {
   "cell_type": "markdown",
   "metadata": {
    "id": "TSslXvMDU5wL"
   },
   "source": [
    "**Table Nº3: Sample of the total of each range, what percentage of that range converts.**"
   ]
  },
  {
   "cell_type": "code",
   "execution_count": null,
   "metadata": {
    "colab": {
     "base_uri": "https://localhost:8080/"
    },
    "id": "zjNJ2jQfypjZ",
    "outputId": "1984c8dd-d728-4225-dc63-f73a648b529e"
   },
   "outputs": [
    {
     "data": {
      "text/html": [
       "<div>\n",
       "<style scoped>\n",
       "    .dataframe tbody tr th:only-of-type {\n",
       "        vertical-align: middle;\n",
       "    }\n",
       "\n",
       "    .dataframe tbody tr th {\n",
       "        vertical-align: top;\n",
       "    }\n",
       "\n",
       "    .dataframe thead th {\n",
       "        text-align: right;\n",
       "    }\n",
       "</style>\n",
       "<table border=\"1\" class=\"dataframe\">\n",
       "  <thead>\n",
       "    <tr style=\"text-align: right;\">\n",
       "      <th>y</th>\n",
       "      <th>no</th>\n",
       "      <th>yes</th>\n",
       "    </tr>\n",
       "    <tr>\n",
       "      <th>age_group</th>\n",
       "      <th></th>\n",
       "      <th></th>\n",
       "    </tr>\n",
       "  </thead>\n",
       "  <tbody>\n",
       "    <tr>\n",
       "      <th>20.0</th>\n",
       "      <td>83.736109</td>\n",
       "      <td>16.263891</td>\n",
       "    </tr>\n",
       "    <tr>\n",
       "      <th>30.0</th>\n",
       "      <td>89.874838</td>\n",
       "      <td>10.125162</td>\n",
       "    </tr>\n",
       "    <tr>\n",
       "      <th>40.0</th>\n",
       "      <td>92.076762</td>\n",
       "      <td>7.923238</td>\n",
       "    </tr>\n",
       "    <tr>\n",
       "      <th>50.0</th>\n",
       "      <td>89.842611</td>\n",
       "      <td>10.157389</td>\n",
       "    </tr>\n",
       "    <tr>\n",
       "      <th>60.0</th>\n",
       "      <td>60.435876</td>\n",
       "      <td>39.564124</td>\n",
       "    </tr>\n",
       "  </tbody>\n",
       "</table>\n",
       "</div>"
      ],
      "text/plain": [
       "y                 no        yes\n",
       "age_group                      \n",
       "20.0       83.736109  16.263891\n",
       "30.0       89.874838  10.125162\n",
       "40.0       92.076762   7.923238\n",
       "50.0       89.842611  10.157389\n",
       "60.0       60.435876  39.564124"
      ]
     },
     "execution_count": 24,
     "metadata": {
      "tags": []
     },
     "output_type": "execute_result"
    }
   ],
   "source": [
    "crosstab_edad = pd.crosstab(clients['y'],clients['age_group']).apply(lambda x: x/x.sum() * 100)\n",
    "crosstab_edad = crosstab_edad.transpose() \n",
    "crosstab_edad"
   ]
  },
  {
   "cell_type": "markdown",
   "metadata": {
    "id": "I8nT1t9BVSvH"
   },
   "source": [
    "**This is perhaps the most interesting:**\n",
    "\n",
    "The first column shows the percentage of total customers that each rank represents.\n",
    "\n",
    "The second column shows the percentage of customers in that range that convert"
   ]
  },
  {
   "cell_type": "code",
   "execution_count": null,
   "metadata": {
    "colab": {
     "base_uri": "https://localhost:8080/"
    },
    "id": "SXv_2akPLlhb",
    "outputId": "666abb80-829e-43b9-c44d-7352907671bd"
   },
   "outputs": [
    {
     "data": {
      "text/html": [
       "<div>\n",
       "<style scoped>\n",
       "    .dataframe tbody tr th:only-of-type {\n",
       "        vertical-align: middle;\n",
       "    }\n",
       "\n",
       "    .dataframe tbody tr th {\n",
       "        vertical-align: top;\n",
       "    }\n",
       "\n",
       "    .dataframe thead th {\n",
       "        text-align: right;\n",
       "    }\n",
       "</style>\n",
       "<table border=\"1\" class=\"dataframe\">\n",
       "  <thead>\n",
       "    <tr style=\"text-align: right;\">\n",
       "      <th></th>\n",
       "      <th>% del total de Clientes</th>\n",
       "      <th>% Conversion según su clase</th>\n",
       "      <th>age</th>\n",
       "    </tr>\n",
       "  </thead>\n",
       "  <tbody>\n",
       "    <tr>\n",
       "      <th>20.0</th>\n",
       "      <td>13.763718</td>\n",
       "      <td>16.263891</td>\n",
       "      <td>20</td>\n",
       "    </tr>\n",
       "    <tr>\n",
       "      <th>30.0</th>\n",
       "      <td>41.123628</td>\n",
       "      <td>10.125162</td>\n",
       "      <td>30</td>\n",
       "    </tr>\n",
       "    <tr>\n",
       "      <th>40.0</th>\n",
       "      <td>25.555987</td>\n",
       "      <td>7.923238</td>\n",
       "      <td>40</td>\n",
       "    </tr>\n",
       "    <tr>\n",
       "      <th>50.0</th>\n",
       "      <td>16.660192</td>\n",
       "      <td>10.157389</td>\n",
       "      <td>50</td>\n",
       "    </tr>\n",
       "    <tr>\n",
       "      <th>60.0</th>\n",
       "      <td>2.896475</td>\n",
       "      <td>39.564124</td>\n",
       "      <td>60</td>\n",
       "    </tr>\n",
       "  </tbody>\n",
       "</table>\n",
       "</div>"
      ],
      "text/plain": [
       "      % del total de Clientes  % Conversion según su clase  age\n",
       "20.0                13.763718                    16.263891   20\n",
       "30.0                41.123628                    10.125162   30\n",
       "40.0                25.555987                     7.923238   40\n",
       "50.0                16.660192                    10.157389   50\n",
       "60.0                 2.896475                    39.564124   60"
      ]
     },
     "execution_count": 25,
     "metadata": {
      "tags": []
     },
     "output_type": "execute_result"
    }
   ],
   "source": [
    "age = pd.DataFrame(clients['age_group'].value_counts())\n",
    "age['% del total de Clientes'] = age['age_group']*100/age['age_group'].sum() #Porcentaje del total de clientes\n",
    "age['% Conversion según su clase'] = crosstab_edad['yes'] # Porcentaje de conversiones del total de esa clase\n",
    "age.drop('age_group',axis = 1,inplace = True)\n",
    "\n",
    "age['age'] = [30,40,50,20,60]\n",
    "age = age.sort_values('age',ascending = True) \n",
    "age"
   ]
  },
  {
   "cell_type": "code",
   "execution_count": null,
   "metadata": {
    "colab": {
     "base_uri": "https://localhost:8080/"
    },
    "id": "LCGXsYu5W0TZ",
    "outputId": "d5be6e03-391c-4eb2-bfac-2408fe6f418e"
   },
   "outputs": [
    {
     "data": {
      "text/plain": [
       "<Figure size 1584x792 with 0 Axes>"
      ]
     },
     "metadata": {
      "tags": []
     },
     "output_type": "display_data"
    },
    {
     "data": {
      "image/png": "[encoded data removed]",
      "text/plain": [
       "<Figure size 432x288 with 1 Axes>"
      ]
     },
     "metadata": {
      "tags": []
     },
     "output_type": "display_data"
    }
   ],
   "source": [
    "plt.figure(figsize=(22,11))\n",
    "age[['% Conversion según su clase','% del total de Clientes']].plot(kind = 'bar',color = ('#2ca25f','#b2e2e2'), edgecolor ='black')\n",
    "plt.xlabel('Edad del grupo')\n",
    "plt.ylabel('Tasa de Conversión sobre el total')\n",
    "plt.xticks(np.arange(5), ('<30', '30-39', '40-49', '50-59', '60+'),rotation = 'horizontal')\n",
    "plt.title('Conversión vs Rango Etareo')\n",
    "plt.show()"
   ]
  },
  {
   "cell_type": "markdown",
   "metadata": {
    "id": "Ysni9tYMnG-R"
   },
   "source": [
    "**Conclusions:**\n",
    "\n",
    "- The most efficient conversion is in the group +60. This class converts 39.6%. [`4 out of 10 people '+60' who connect with the bank, sign up`]. The point against, is that this class represents 2.89% of total customers\n",
    "\n",
    "- Of all the conversions, the 30's group is the highest (with 36.96% - see table N2). In other words, `conversions in this group represent almost 40% of the bank's customers.` The downside is that it is not very efficient, since the conversion rate of its class is 10.12%.\n",
    "\n",
    "- The least efficient conversion is in the group of 40 with 7.9%\n",
    "\n",
    "\n",
    "<font color = 'red'> **First Recommendation:** </font> Aim the calls to the ethereal extremes. It makes sense that age extremes are risk averse, the young because they can save for education and the elderly because they need to ensure their retirement."
   ]
  },
  {
   "cell_type": "markdown",
   "metadata": {
    "id": "lhWjGrNx1mDe"
   },
   "source": [
    "### **Client's Social variables**"
   ]
  },
  {
   "cell_type": "markdown",
   "metadata": {
    "id": "4f-JS8yG17GX"
   },
   "source": [
    "1- **Job**"
   ]
  },
  {
   "cell_type": "code",
   "execution_count": null,
   "metadata": {
    "colab": {
     "base_uri": "https://localhost:8080/"
    },
    "id": "YUO2ntDX14F_",
    "outputId": "997ba4c1-07d8-4d26-f938-47a2a8f0d69f"
   },
   "outputs": [
    {
     "data": {
      "text/plain": [
       "admin.           10422\n",
       "blue-collar       9254\n",
       "technician        6743\n",
       "services          3969\n",
       "management        2924\n",
       "retired           1720\n",
       "entrepreneur      1456\n",
       "self-employed     1421\n",
       "housemaid         1060\n",
       "unemployed        1014\n",
       "student            875\n",
       "unknown            330\n",
       "Name: job, dtype: int64"
      ]
     },
     "execution_count": 27,
     "metadata": {
      "tags": []
     },
     "output_type": "execute_result"
    }
   ],
   "source": [
    "clients.job.value_counts()"
   ]
  },
  {
   "cell_type": "code",
   "execution_count": null,
   "metadata": {
    "colab": {
     "base_uri": "https://localhost:8080/"
    },
    "id": "zqy6BDkL14Co",
    "outputId": "9a9883ec-fd6b-46b6-afce-307d1201d2b3"
   },
   "outputs": [
    {
     "name": "stdout",
     "output_type": "stream",
     "text": [
      "##############################################\n",
      "Unkown job clients =  330\n",
      "##############################################\n",
      "Percentage of unknown client's job = 0.8 %\n"
     ]
    },
    {
     "data": {
      "image/png": "[encoded data removed]",
      "text/plain": [
       "<Figure size 432x288 with 1 Axes>"
      ]
     },
     "metadata": {
      "tags": []
     },
     "output_type": "display_data"
    }
   ],
   "source": [
    "sns.countplot(data=clients, y='job',hue ='y', edgecolor ='black')\n",
    "print('##############################################')\n",
    "print('Unkown job clients = ', bank_df[(bank_df['job'] =='unknown')].shape[0])\n",
    "print('##############################################')\n",
    "print(\"Percentage of unknown client's job =\" ,round(bank_df[(bank_df['job'] =='unknown')].shape[0]/bank_df.shape[0]*100,2),'%')"
   ]
  },
  {
   "cell_type": "code",
   "execution_count": null,
   "metadata": {
    "colab": {
     "base_uri": "https://localhost:8080/"
    },
    "id": "J2gbLFiM14Aq",
    "outputId": "b764b738-3131-48d0-9eed-0018caa9f15b"
   },
   "outputs": [
    {
     "data": {
      "text/html": [
       "<div>\n",
       "<style scoped>\n",
       "    .dataframe tbody tr th:only-of-type {\n",
       "        vertical-align: middle;\n",
       "    }\n",
       "\n",
       "    .dataframe tbody tr th {\n",
       "        vertical-align: top;\n",
       "    }\n",
       "\n",
       "    .dataframe thead th {\n",
       "        text-align: right;\n",
       "    }\n",
       "</style>\n",
       "<table border=\"1\" class=\"dataframe\">\n",
       "  <thead>\n",
       "    <tr style=\"text-align: right;\">\n",
       "      <th>y</th>\n",
       "      <th>no</th>\n",
       "      <th>yes</th>\n",
       "      <th>%conversion</th>\n",
       "    </tr>\n",
       "    <tr>\n",
       "      <th>job</th>\n",
       "      <th></th>\n",
       "      <th></th>\n",
       "      <th></th>\n",
       "    </tr>\n",
       "  </thead>\n",
       "  <tbody>\n",
       "    <tr>\n",
       "      <th>student</th>\n",
       "      <td>600.0</td>\n",
       "      <td>275.0</td>\n",
       "      <td>31.428571</td>\n",
       "    </tr>\n",
       "    <tr>\n",
       "      <th>retired</th>\n",
       "      <td>1286.0</td>\n",
       "      <td>434.0</td>\n",
       "      <td>25.232558</td>\n",
       "    </tr>\n",
       "    <tr>\n",
       "      <th>unemployed</th>\n",
       "      <td>870.0</td>\n",
       "      <td>144.0</td>\n",
       "      <td>14.201183</td>\n",
       "    </tr>\n",
       "    <tr>\n",
       "      <th>admin.</th>\n",
       "      <td>9070.0</td>\n",
       "      <td>1352.0</td>\n",
       "      <td>12.972558</td>\n",
       "    </tr>\n",
       "    <tr>\n",
       "      <th>Total</th>\n",
       "      <td>36548.0</td>\n",
       "      <td>4640.0</td>\n",
       "      <td>11.265417</td>\n",
       "    </tr>\n",
       "    <tr>\n",
       "      <th>management</th>\n",
       "      <td>2596.0</td>\n",
       "      <td>328.0</td>\n",
       "      <td>11.217510</td>\n",
       "    </tr>\n",
       "    <tr>\n",
       "      <th>unknown</th>\n",
       "      <td>293.0</td>\n",
       "      <td>37.0</td>\n",
       "      <td>11.212121</td>\n",
       "    </tr>\n",
       "    <tr>\n",
       "      <th>technician</th>\n",
       "      <td>6013.0</td>\n",
       "      <td>730.0</td>\n",
       "      <td>10.826042</td>\n",
       "    </tr>\n",
       "    <tr>\n",
       "      <th>self-employed</th>\n",
       "      <td>1272.0</td>\n",
       "      <td>149.0</td>\n",
       "      <td>10.485574</td>\n",
       "    </tr>\n",
       "    <tr>\n",
       "      <th>housemaid</th>\n",
       "      <td>954.0</td>\n",
       "      <td>106.0</td>\n",
       "      <td>10.000000</td>\n",
       "    </tr>\n",
       "    <tr>\n",
       "      <th>entrepreneur</th>\n",
       "      <td>1332.0</td>\n",
       "      <td>124.0</td>\n",
       "      <td>8.516484</td>\n",
       "    </tr>\n",
       "    <tr>\n",
       "      <th>services</th>\n",
       "      <td>3646.0</td>\n",
       "      <td>323.0</td>\n",
       "      <td>8.138070</td>\n",
       "    </tr>\n",
       "    <tr>\n",
       "      <th>blue-collar</th>\n",
       "      <td>8616.0</td>\n",
       "      <td>638.0</td>\n",
       "      <td>6.894316</td>\n",
       "    </tr>\n",
       "  </tbody>\n",
       "</table>\n",
       "</div>"
      ],
      "text/plain": [
       "y                   no     yes  %conversion\n",
       "job                                        \n",
       "student          600.0   275.0    31.428571\n",
       "retired         1286.0   434.0    25.232558\n",
       "unemployed       870.0   144.0    14.201183\n",
       "admin.          9070.0  1352.0    12.972558\n",
       "Total          36548.0  4640.0    11.265417\n",
       "management      2596.0   328.0    11.217510\n",
       "unknown          293.0    37.0    11.212121\n",
       "technician      6013.0   730.0    10.826042\n",
       "self-employed   1272.0   149.0    10.485574\n",
       "housemaid        954.0   106.0    10.000000\n",
       "entrepreneur    1332.0   124.0     8.516484\n",
       "services        3646.0   323.0     8.138070\n",
       "blue-collar     8616.0   638.0     6.894316"
      ]
     },
     "execution_count": 29,
     "metadata": {
      "tags": []
     },
     "output_type": "execute_result"
    }
   ],
   "source": [
    "tabla= pd.crosstab(clients['job'],clients['y'])\n",
    "tabla.loc['Total',:]= tabla.sum(axis=0)\n",
    "tabla['%conversion'] = (tabla['yes']/(tabla['yes']+tabla['no']))*100\n",
    "tabla.sort_values('%conversion',ascending=False)"
   ]
  },
  {
   "cell_type": "markdown",
   "metadata": {
    "id": "lKtOtm_I1-eL"
   },
   "source": [
    "2- **Marital**"
   ]
  },
  {
   "cell_type": "code",
   "execution_count": null,
   "metadata": {
    "colab": {
     "base_uri": "https://localhost:8080/"
    },
    "id": "RWUual1T13-o",
    "outputId": "30210bd4-b6ae-442e-e182-4e07aa507dea"
   },
   "outputs": [
    {
     "data": {
      "text/plain": [
       "married     24928\n",
       "single      11568\n",
       "divorced     4612\n",
       "unknown        80\n",
       "Name: marital, dtype: int64"
      ]
     },
     "execution_count": 30,
     "metadata": {
      "tags": []
     },
     "output_type": "execute_result"
    }
   ],
   "source": [
    "clients.marital.value_counts()"
   ]
  },
  {
   "cell_type": "code",
   "execution_count": null,
   "metadata": {
    "colab": {
     "base_uri": "https://localhost:8080/"
    },
    "id": "sHGggso66CnB",
    "outputId": "67f3e7ca-ba50-41d0-e1b6-756b5adf6d76"
   },
   "outputs": [
    {
     "name": "stdout",
     "output_type": "stream",
     "text": [
      "##############################################\n",
      "Unkown marital status of clients =  80\n",
      "##############################################\n",
      "Percentage of unknown client's marital status = 0.19 %\n"
     ]
    },
    {
     "data": {
      "image/png": "[encoded data removed]",
      "text/plain": [
       "<Figure size 432x288 with 1 Axes>"
      ]
     },
     "metadata": {
      "tags": []
     },
     "output_type": "display_data"
    }
   ],
   "source": [
    "sns.countplot(data=clients, x='marital',hue ='y', edgecolor ='black')\n",
    "print('##############################################')\n",
    "print('Unkown marital status of clients = ', bank_df[(bank_df['marital'] =='unknown')].shape[0])\n",
    "print('##############################################')\n",
    "print(\"Percentage of unknown client's marital status =\" ,round(bank_df[(bank_df['marital'] =='unknown')].shape[0]/bank_df.shape[0]*100,2),'%')"
   ]
  },
  {
   "cell_type": "code",
   "execution_count": null,
   "metadata": {
    "colab": {
     "base_uri": "https://localhost:8080/"
    },
    "id": "TBf3NKjZ6Cjm",
    "outputId": "f4fd89ab-f074-49d1-dc98-a3a45db198bf"
   },
   "outputs": [
    {
     "data": {
      "text/html": [
       "<div>\n",
       "<style scoped>\n",
       "    .dataframe tbody tr th:only-of-type {\n",
       "        vertical-align: middle;\n",
       "    }\n",
       "\n",
       "    .dataframe tbody tr th {\n",
       "        vertical-align: top;\n",
       "    }\n",
       "\n",
       "    .dataframe thead th {\n",
       "        text-align: right;\n",
       "    }\n",
       "</style>\n",
       "<table border=\"1\" class=\"dataframe\">\n",
       "  <thead>\n",
       "    <tr style=\"text-align: right;\">\n",
       "      <th>y</th>\n",
       "      <th>no</th>\n",
       "      <th>yes</th>\n",
       "      <th>%conversion</th>\n",
       "    </tr>\n",
       "    <tr>\n",
       "      <th>marital</th>\n",
       "      <th></th>\n",
       "      <th></th>\n",
       "      <th></th>\n",
       "    </tr>\n",
       "  </thead>\n",
       "  <tbody>\n",
       "    <tr>\n",
       "      <th>divorced</th>\n",
       "      <td>4136.0</td>\n",
       "      <td>476.0</td>\n",
       "      <td>10.320902</td>\n",
       "    </tr>\n",
       "    <tr>\n",
       "      <th>married</th>\n",
       "      <td>22396.0</td>\n",
       "      <td>2532.0</td>\n",
       "      <td>10.157253</td>\n",
       "    </tr>\n",
       "    <tr>\n",
       "      <th>single</th>\n",
       "      <td>9948.0</td>\n",
       "      <td>1620.0</td>\n",
       "      <td>14.004149</td>\n",
       "    </tr>\n",
       "    <tr>\n",
       "      <th>unknown</th>\n",
       "      <td>68.0</td>\n",
       "      <td>12.0</td>\n",
       "      <td>15.000000</td>\n",
       "    </tr>\n",
       "    <tr>\n",
       "      <th>Total</th>\n",
       "      <td>36548.0</td>\n",
       "      <td>4640.0</td>\n",
       "      <td>11.265417</td>\n",
       "    </tr>\n",
       "  </tbody>\n",
       "</table>\n",
       "</div>"
      ],
      "text/plain": [
       "y              no     yes  %conversion\n",
       "marital                               \n",
       "divorced   4136.0   476.0    10.320902\n",
       "married   22396.0  2532.0    10.157253\n",
       "single     9948.0  1620.0    14.004149\n",
       "unknown      68.0    12.0    15.000000\n",
       "Total     36548.0  4640.0    11.265417"
      ]
     },
     "execution_count": 32,
     "metadata": {
      "tags": []
     },
     "output_type": "execute_result"
    }
   ],
   "source": [
    "tabla= pd.crosstab(clients['marital'],clients['y'])\n",
    "tabla.loc['Total',:]= tabla.sum(axis=0)\n",
    "tabla['%conversion'] = (tabla['yes']/(tabla['yes']+tabla['no']))*100\n",
    "tabla"
   ]
  },
  {
   "cell_type": "markdown",
   "metadata": {
    "id": "m-EHzxGO2EGR"
   },
   "source": [
    "3- Education"
   ]
  },
  {
   "cell_type": "code",
   "execution_count": null,
   "metadata": {
    "colab": {
     "base_uri": "https://localhost:8080/"
    },
    "id": "5tFEB79A2BpD",
    "outputId": "4323f301-3543-47b5-a74d-98c714aae3d8"
   },
   "outputs": [
    {
     "name": "stdout",
     "output_type": "stream",
     "text": [
      "##############################################\n",
      "Unkown education status of clients =  1731\n",
      "##############################################\n",
      "Percentage of unknown client's education status = 4.2 %\n"
     ]
    },
    {
     "data": {
      "image/png": "[encoded data removed]",
      "text/plain": [
       "<Figure size 432x288 with 1 Axes>"
      ]
     },
     "metadata": {
      "tags": []
     },
     "output_type": "display_data"
    }
   ],
   "source": [
    "sns.countplot(data=clients, y='education',hue ='y', edgecolor ='black')\n",
    "print('##############################################')\n",
    "print('Unkown education status of clients = ', bank_df[(bank_df['education'] =='unknown')].shape[0])\n",
    "print('##############################################')\n",
    "print(\"Percentage of unknown client's education status =\" ,round(bank_df[(bank_df['education'] =='unknown')].shape[0]/bank_df.shape[0]*100,2),'%')"
   ]
  },
  {
   "cell_type": "code",
   "execution_count": null,
   "metadata": {
    "colab": {
     "base_uri": "https://localhost:8080/"
    },
    "id": "lq0d_lKp91P9",
    "outputId": "bf050b74-690a-489a-c77f-d5b9caed1419"
   },
   "outputs": [
    {
     "data": {
      "text/plain": [
       "41188.0"
      ]
     },
     "execution_count": 34,
     "metadata": {
      "tags": []
     },
     "output_type": "execute_result"
    }
   ],
   "source": [
    "tabla.loc['Total'][0:2].values.sum()"
   ]
  },
  {
   "cell_type": "code",
   "execution_count": null,
   "metadata": {
    "colab": {
     "base_uri": "https://localhost:8080/"
    },
    "id": "2kIrqZy_2Bjq",
    "outputId": "bbd8f04e-b71c-4754-d5f0-9cbf7ba2c9c9"
   },
   "outputs": [
    {
     "data": {
      "text/html": [
       "<div>\n",
       "<style scoped>\n",
       "    .dataframe tbody tr th:only-of-type {\n",
       "        vertical-align: middle;\n",
       "    }\n",
       "\n",
       "    .dataframe tbody tr th {\n",
       "        vertical-align: top;\n",
       "    }\n",
       "\n",
       "    .dataframe thead th {\n",
       "        text-align: right;\n",
       "    }\n",
       "</style>\n",
       "<table border=\"1\" class=\"dataframe\">\n",
       "  <thead>\n",
       "    <tr style=\"text-align: right;\">\n",
       "      <th>y</th>\n",
       "      <th>no</th>\n",
       "      <th>yes</th>\n",
       "      <th>% of all clients</th>\n",
       "      <th>%conversion</th>\n",
       "      <th>A*C</th>\n",
       "    </tr>\n",
       "    <tr>\n",
       "      <th>education</th>\n",
       "      <th></th>\n",
       "      <th></th>\n",
       "      <th></th>\n",
       "      <th></th>\n",
       "      <th></th>\n",
       "    </tr>\n",
       "  </thead>\n",
       "  <tbody>\n",
       "    <tr>\n",
       "      <th>Total</th>\n",
       "      <td>36548.0</td>\n",
       "      <td>4640.0</td>\n",
       "      <td>100.000000</td>\n",
       "      <td>11.265417</td>\n",
       "      <td>1126.541711</td>\n",
       "    </tr>\n",
       "    <tr>\n",
       "      <th>university.degree</th>\n",
       "      <td>10498.0</td>\n",
       "      <td>1670.0</td>\n",
       "      <td>29.542585</td>\n",
       "      <td>13.724523</td>\n",
       "      <td>405.457900</td>\n",
       "    </tr>\n",
       "    <tr>\n",
       "      <th>high.school</th>\n",
       "      <td>8484.0</td>\n",
       "      <td>1031.0</td>\n",
       "      <td>23.101389</td>\n",
       "      <td>10.835523</td>\n",
       "      <td>250.315626</td>\n",
       "    </tr>\n",
       "    <tr>\n",
       "      <th>basic.9y</th>\n",
       "      <td>5572.0</td>\n",
       "      <td>473.0</td>\n",
       "      <td>14.676605</td>\n",
       "      <td>7.824648</td>\n",
       "      <td>114.839274</td>\n",
       "    </tr>\n",
       "    <tr>\n",
       "      <th>professional.course</th>\n",
       "      <td>4648.0</td>\n",
       "      <td>595.0</td>\n",
       "      <td>12.729436</td>\n",
       "      <td>11.348465</td>\n",
       "      <td>144.459551</td>\n",
       "    </tr>\n",
       "    <tr>\n",
       "      <th>basic.4y</th>\n",
       "      <td>3748.0</td>\n",
       "      <td>428.0</td>\n",
       "      <td>10.138875</td>\n",
       "      <td>10.249042</td>\n",
       "      <td>103.913761</td>\n",
       "    </tr>\n",
       "    <tr>\n",
       "      <th>basic.6y</th>\n",
       "      <td>2104.0</td>\n",
       "      <td>188.0</td>\n",
       "      <td>5.564728</td>\n",
       "      <td>8.202443</td>\n",
       "      <td>45.644362</td>\n",
       "    </tr>\n",
       "    <tr>\n",
       "      <th>unknown</th>\n",
       "      <td>1480.0</td>\n",
       "      <td>251.0</td>\n",
       "      <td>4.202680</td>\n",
       "      <td>14.500289</td>\n",
       "      <td>60.940080</td>\n",
       "    </tr>\n",
       "    <tr>\n",
       "      <th>illiterate</th>\n",
       "      <td>14.0</td>\n",
       "      <td>4.0</td>\n",
       "      <td>0.043702</td>\n",
       "      <td>22.222222</td>\n",
       "      <td>0.971157</td>\n",
       "    </tr>\n",
       "  </tbody>\n",
       "</table>\n",
       "</div>"
      ],
      "text/plain": [
       "y                         no     yes  ...  %conversion          A*C\n",
       "education                             ...                          \n",
       "Total                36548.0  4640.0  ...    11.265417  1126.541711\n",
       "university.degree    10498.0  1670.0  ...    13.724523   405.457900\n",
       "high.school           8484.0  1031.0  ...    10.835523   250.315626\n",
       "basic.9y              5572.0   473.0  ...     7.824648   114.839274\n",
       "professional.course   4648.0   595.0  ...    11.348465   144.459551\n",
       "basic.4y              3748.0   428.0  ...    10.249042   103.913761\n",
       "basic.6y              2104.0   188.0  ...     8.202443    45.644362\n",
       "unknown               1480.0   251.0  ...    14.500289    60.940080\n",
       "illiterate              14.0     4.0  ...    22.222222     0.971157\n",
       "\n",
       "[9 rows x 5 columns]"
      ]
     },
     "execution_count": 35,
     "metadata": {
      "tags": []
     },
     "output_type": "execute_result"
    }
   ],
   "source": [
    "tabla= pd.crosstab(clients['education'],clients['y'])\n",
    "tabla.loc['Total',:]= tabla.sum(axis=0)\n",
    "\n",
    "tabla['% of all clients'] = ((tabla['yes']+tabla['no'])/ tabla.loc['Total'][0:2].values.sum())*100\n",
    "\n",
    "tabla['%conversion'] = (tabla['yes']/(tabla['yes']+tabla['no']))*100\n",
    "\n",
    "tabla['A*C']= tabla['% of all clients']*tabla['%conversion']\n",
    "tabla.sort_values('% of all clients',ascending=False)\n"
   ]
  },
  {
   "cell_type": "markdown",
   "metadata": {
    "id": "H3ywKkRMiqP4"
   },
   "source": [
    "### **Client's Economic variables**"
   ]
  },
  {
   "cell_type": "markdown",
   "metadata": {
    "id": "JmXZfvZbnK0Y"
   },
   "source": [
    "1- Default:"
   ]
  },
  {
   "cell_type": "code",
   "execution_count": null,
   "metadata": {
    "colab": {
     "base_uri": "https://localhost:8080/"
    },
    "id": "zcvork3voB7J",
    "outputId": "f36a492b-832c-43f4-ab95-75fc3a60c959"
   },
   "outputs": [
    {
     "data": {
      "text/plain": [
       "no         32588\n",
       "unknown     8597\n",
       "yes            3\n",
       "Name: default, dtype: int64"
      ]
     },
     "execution_count": 36,
     "metadata": {
      "tags": []
     },
     "output_type": "execute_result"
    }
   ],
   "source": [
    "bank_df.default.value_counts()"
   ]
  },
  {
   "cell_type": "code",
   "execution_count": null,
   "metadata": {
    "colab": {
     "base_uri": "https://localhost:8080/"
    },
    "id": "zDxwo3tOmzoB",
    "outputId": "fbe07b54-52b7-4766-a877-e80afa6d0004"
   },
   "outputs": [
    {
     "name": "stdout",
     "output_type": "stream",
     "text": [
      "##############################################\n",
      "Unkown default clients =  20.87258424783918\n",
      "##############################################\n",
      "Unkown default clients which bought the  term deposit=  5.152960335000581\n",
      "##############################################\n"
     ]
    },
    {
     "data": {
      "image/png": "[encoded data removed]",
      "text/plain": [
       "<Figure size 418.725x360 with 1 Axes>"
      ]
     },
     "metadata": {
      "tags": []
     },
     "output_type": "display_data"
    }
   ],
   "source": [
    "sns.catplot(data=clients, x='default',hue ='y', edgecolor ='black',kind='count')\n",
    "print('##############################################')\n",
    "print('Unkown default clients = ', bank_df[(bank_df['default'] =='unknown')].shape[0]/bank_df.shape[0]*100)\n",
    "print('##############################################')\n",
    "print('Unkown default clients which bought the  term deposit= ', bank_df[(bank_df['default'] =='unknown')&(bank_df['y'] =='yes')].shape[0]/bank_df[(bank_df['default'] =='unknown')].shape[0]*100)\n",
    "print('##############################################')"
   ]
  },
  {
   "cell_type": "markdown",
   "metadata": {
    "id": "ODq9yYufnNDu"
   },
   "source": [
    "**Ojo :** Los datos en los que no se sabe si el cliente posee default o no son 20,8% del total de las instancias. Es muy elevado el número como para pensar en imputarlos... crearía mucho sesgo..."
   ]
  },
  {
   "cell_type": "code",
   "execution_count": null,
   "metadata": {
    "colab": {
     "base_uri": "https://localhost:8080/"
    },
    "id": "x031dKYWwZOf",
    "outputId": "df5ae334-bf1d-4ad6-c471-171d97073184"
   },
   "outputs": [
    {
     "data": {
      "text/html": [
       "<div>\n",
       "<style scoped>\n",
       "    .dataframe tbody tr th:only-of-type {\n",
       "        vertical-align: middle;\n",
       "    }\n",
       "\n",
       "    .dataframe tbody tr th {\n",
       "        vertical-align: top;\n",
       "    }\n",
       "\n",
       "    .dataframe thead th {\n",
       "        text-align: right;\n",
       "    }\n",
       "</style>\n",
       "<table border=\"1\" class=\"dataframe\">\n",
       "  <thead>\n",
       "    <tr style=\"text-align: right;\">\n",
       "      <th>y</th>\n",
       "      <th>no</th>\n",
       "      <th>yes</th>\n",
       "      <th>%conversion</th>\n",
       "    </tr>\n",
       "    <tr>\n",
       "      <th>default</th>\n",
       "      <th></th>\n",
       "      <th></th>\n",
       "      <th></th>\n",
       "    </tr>\n",
       "  </thead>\n",
       "  <tbody>\n",
       "    <tr>\n",
       "      <th>no</th>\n",
       "      <td>28391.0</td>\n",
       "      <td>4197.0</td>\n",
       "      <td>12.878974</td>\n",
       "    </tr>\n",
       "    <tr>\n",
       "      <th>unknown</th>\n",
       "      <td>8154.0</td>\n",
       "      <td>443.0</td>\n",
       "      <td>5.152960</td>\n",
       "    </tr>\n",
       "    <tr>\n",
       "      <th>yes</th>\n",
       "      <td>3.0</td>\n",
       "      <td>0.0</td>\n",
       "      <td>0.000000</td>\n",
       "    </tr>\n",
       "    <tr>\n",
       "      <th>Total</th>\n",
       "      <td>36548.0</td>\n",
       "      <td>4640.0</td>\n",
       "      <td>11.265417</td>\n",
       "    </tr>\n",
       "  </tbody>\n",
       "</table>\n",
       "</div>"
      ],
      "text/plain": [
       "y             no     yes  %conversion\n",
       "default                              \n",
       "no       28391.0  4197.0    12.878974\n",
       "unknown   8154.0   443.0     5.152960\n",
       "yes          3.0     0.0     0.000000\n",
       "Total    36548.0  4640.0    11.265417"
      ]
     },
     "execution_count": 38,
     "metadata": {
      "tags": []
     },
     "output_type": "execute_result"
    }
   ],
   "source": [
    "tabla= pd.crosstab(clients['default'],clients['y'])\n",
    "tabla.loc['Total',:]= tabla.sum(axis=0)\n",
    "tabla['%conversion'] = (tabla['yes']/(tabla['yes']+tabla['no']))*100\n",
    "tabla"
   ]
  },
  {
   "cell_type": "markdown",
   "metadata": {
    "id": "4hLoPzciyiuo"
   },
   "source": [
    "Para mí (nacho) eliminaría los unkown de esta categoría."
   ]
  },
  {
   "cell_type": "markdown",
   "metadata": {
    "id": "DIqzXYxEt7Sc"
   },
   "source": [
    "**2- Housing**"
   ]
  },
  {
   "cell_type": "code",
   "execution_count": null,
   "metadata": {
    "colab": {
     "base_uri": "https://localhost:8080/"
    },
    "id": "BoZOLbW-ixRr",
    "outputId": "60e12aa7-d11c-4bdd-97f1-49f672aed0e7"
   },
   "outputs": [
    {
     "data": {
      "text/plain": [
       "yes        21576\n",
       "no         18622\n",
       "unknown      990\n",
       "Name: housing, dtype: int64"
      ]
     },
     "execution_count": 39,
     "metadata": {
      "tags": []
     },
     "output_type": "execute_result"
    }
   ],
   "source": [
    "bank_df.housing.value_counts()"
   ]
  },
  {
   "cell_type": "code",
   "execution_count": null,
   "metadata": {
    "colab": {
     "base_uri": "https://localhost:8080/"
    },
    "id": "n2o5CZUuuz0E",
    "outputId": "deedaca7-84e1-4341-ea5b-1990a5a7fd63"
   },
   "outputs": [
    {
     "name": "stdout",
     "output_type": "stream",
     "text": [
      "#########################################################\n",
      "Percent of 'unknown' on client's housing =  2.40361270272895\n",
      "#########################################################\n"
     ]
    },
    {
     "data": {
      "image/png": "[encoded data removed]",
      "text/plain": [
       "<Figure size 418.725x360 with 1 Axes>"
      ]
     },
     "metadata": {
      "tags": []
     },
     "output_type": "display_data"
    }
   ],
   "source": [
    "sns.catplot(data=clients, x='housing',hue ='y', edgecolor ='black',kind='count',palette='coolwarm')\n",
    "print('#########################################################')\n",
    "print(\"Percent of 'unknown' on client's housing = \", bank_df[(bank_df['housing'] =='unknown')].shape[0]/bank_df.shape[0]*100)\n",
    "print('#########################################################')"
   ]
  },
  {
   "cell_type": "code",
   "execution_count": null,
   "metadata": {
    "colab": {
     "base_uri": "https://localhost:8080/"
    },
    "id": "yC2dWirEtL70",
    "outputId": "46008815-7ac3-4670-fa1d-4e8711f61d05"
   },
   "outputs": [
    {
     "data": {
      "text/html": [
       "<div>\n",
       "<style scoped>\n",
       "    .dataframe tbody tr th:only-of-type {\n",
       "        vertical-align: middle;\n",
       "    }\n",
       "\n",
       "    .dataframe tbody tr th {\n",
       "        vertical-align: top;\n",
       "    }\n",
       "\n",
       "    .dataframe thead th {\n",
       "        text-align: right;\n",
       "    }\n",
       "</style>\n",
       "<table border=\"1\" class=\"dataframe\">\n",
       "  <thead>\n",
       "    <tr style=\"text-align: right;\">\n",
       "      <th></th>\n",
       "      <th>housing</th>\n",
       "      <th>% total</th>\n",
       "    </tr>\n",
       "  </thead>\n",
       "  <tbody>\n",
       "    <tr>\n",
       "      <th>yes</th>\n",
       "      <td>21576</td>\n",
       "      <td>52.384190</td>\n",
       "    </tr>\n",
       "    <tr>\n",
       "      <th>no</th>\n",
       "      <td>18622</td>\n",
       "      <td>45.212198</td>\n",
       "    </tr>\n",
       "    <tr>\n",
       "      <th>unknown</th>\n",
       "      <td>990</td>\n",
       "      <td>2.403613</td>\n",
       "    </tr>\n",
       "  </tbody>\n",
       "</table>\n",
       "</div>"
      ],
      "text/plain": [
       "         housing    % total\n",
       "yes        21576  52.384190\n",
       "no         18622  45.212198\n",
       "unknown      990   2.403613"
      ]
     },
     "execution_count": 41,
     "metadata": {
      "tags": []
     },
     "output_type": "execute_result"
    }
   ],
   "source": [
    "house = pd.DataFrame(bank_df['housing'].value_counts())\n",
    "house['% total'] = house['housing']*100/house['housing'].sum()\n",
    "house"
   ]
  },
  {
   "cell_type": "code",
   "execution_count": null,
   "metadata": {
    "colab": {
     "base_uri": "https://localhost:8080/"
    },
    "id": "SMcg03JOuzxV",
    "outputId": "3aecb0c0-1d67-4d28-e899-94b9eaf33525"
   },
   "outputs": [
    {
     "data": {
      "text/html": [
       "<div>\n",
       "<style scoped>\n",
       "    .dataframe tbody tr th:only-of-type {\n",
       "        vertical-align: middle;\n",
       "    }\n",
       "\n",
       "    .dataframe tbody tr th {\n",
       "        vertical-align: top;\n",
       "    }\n",
       "\n",
       "    .dataframe thead th {\n",
       "        text-align: right;\n",
       "    }\n",
       "</style>\n",
       "<table border=\"1\" class=\"dataframe\">\n",
       "  <thead>\n",
       "    <tr style=\"text-align: right;\">\n",
       "      <th>y</th>\n",
       "      <th>no</th>\n",
       "      <th>yes</th>\n",
       "      <th>%conversion</th>\n",
       "    </tr>\n",
       "    <tr>\n",
       "      <th>housing</th>\n",
       "      <th></th>\n",
       "      <th></th>\n",
       "      <th></th>\n",
       "    </tr>\n",
       "  </thead>\n",
       "  <tbody>\n",
       "    <tr>\n",
       "      <th>no</th>\n",
       "      <td>16596.0</td>\n",
       "      <td>2026.0</td>\n",
       "      <td>10.879605</td>\n",
       "    </tr>\n",
       "    <tr>\n",
       "      <th>unknown</th>\n",
       "      <td>883.0</td>\n",
       "      <td>107.0</td>\n",
       "      <td>10.808081</td>\n",
       "    </tr>\n",
       "    <tr>\n",
       "      <th>yes</th>\n",
       "      <td>19069.0</td>\n",
       "      <td>2507.0</td>\n",
       "      <td>11.619392</td>\n",
       "    </tr>\n",
       "    <tr>\n",
       "      <th>Total</th>\n",
       "      <td>36548.0</td>\n",
       "      <td>4640.0</td>\n",
       "      <td>11.265417</td>\n",
       "    </tr>\n",
       "  </tbody>\n",
       "</table>\n",
       "</div>"
      ],
      "text/plain": [
       "y             no     yes  %conversion\n",
       "housing                              \n",
       "no       16596.0  2026.0    10.879605\n",
       "unknown    883.0   107.0    10.808081\n",
       "yes      19069.0  2507.0    11.619392\n",
       "Total    36548.0  4640.0    11.265417"
      ]
     },
     "execution_count": 42,
     "metadata": {
      "tags": []
     },
     "output_type": "execute_result"
    }
   ],
   "source": [
    "tabla= pd.crosstab(clients['housing'],clients['y'])\n",
    "tabla.loc['Total',:]= tabla.sum(axis=0)\n",
    "tabla['%conversion'] = (tabla['yes']/(tabla['yes']+tabla['no']))*100\n",
    "tabla"
   ]
  },
  {
   "cell_type": "markdown",
   "metadata": {
    "id": "HDS1IDqHvJ5c"
   },
   "source": [
    "La tasa de conversiones son bastante parecidas en el segmento de los que no poseen créditos hipotecarios - 10,88%, de los que si poseen este tipo de creditos - 11,62% ; diferencia menor a un punto porcentual. \n",
    "\n",
    "En la categoría de **unkown**(2,4 % de la muestra total), también tiene una tasa de conversión muy parecida - 10,8%. \n",
    "\n",
    "En conclusión, dado que el feature 'housing' no es un elemento muy decisivo para nuestro target (dado que las tasas de conversión segun la categoría son prácticamente las mismas), y adicionalmente, los 'unknown' se encuentran en muy baja cantidad los podemos imputar más adelante."
   ]
  },
  {
   "cell_type": "code",
   "execution_count": null,
   "metadata": {
    "id": "OhFWmlJRuzt9"
   },
   "outputs": [],
   "source": []
  },
  {
   "cell_type": "markdown",
   "metadata": {
    "id": "cdFmZkKXt_rK"
   },
   "source": [
    "3- Loan"
   ]
  },
  {
   "cell_type": "code",
   "execution_count": null,
   "metadata": {
    "colab": {
     "base_uri": "https://localhost:8080/"
    },
    "id": "0NE-q2xTixU6",
    "outputId": "b8fc4e23-3ce0-4d70-9e40-4897dcdcd248"
   },
   "outputs": [
    {
     "data": {
      "text/plain": [
       "no         33950\n",
       "yes         6248\n",
       "unknown      990\n",
       "Name: loan, dtype: int64"
      ]
     },
     "execution_count": 43,
     "metadata": {
      "tags": []
     },
     "output_type": "execute_result"
    }
   ],
   "source": [
    "bank_df.loan.value_counts()"
   ]
  },
  {
   "cell_type": "code",
   "execution_count": null,
   "metadata": {
    "colab": {
     "base_uri": "https://localhost:8080/"
    },
    "id": "CZdDH1c8ixPL",
    "outputId": "390cd9b9-7888-450a-be2b-0a57ff4816e2"
   },
   "outputs": [
    {
     "name": "stdout",
     "output_type": "stream",
     "text": [
      "#########################################################\n",
      "Percent of 'unknown' on client's loan =  2.40361270272895\n",
      "#########################################################\n"
     ]
    },
    {
     "data": {
      "image/png": "[encoded data removed]",
      "text/plain": [
       "<Figure size 418.725x360 with 1 Axes>"
      ]
     },
     "metadata": {
      "tags": []
     },
     "output_type": "display_data"
    }
   ],
   "source": [
    "sns.catplot(data=clients, x='loan',hue ='y', edgecolor ='black',kind='count',palette='coolwarm')\n",
    "print('#########################################################')\n",
    "print(\"Percent of 'unknown' on client's loan = \", bank_df[(bank_df['loan'] =='unknown')].shape[0]/bank_df.shape[0]*100)\n",
    "print('#########################################################')"
   ]
  },
  {
   "cell_type": "code",
   "execution_count": null,
   "metadata": {
    "colab": {
     "base_uri": "https://localhost:8080/"
    },
    "id": "4LEmRzR_1aM7",
    "outputId": "245bbf08-a610-4ed3-bdd7-26c2336b0b6f"
   },
   "outputs": [
    {
     "data": {
      "text/html": [
       "<div>\n",
       "<style scoped>\n",
       "    .dataframe tbody tr th:only-of-type {\n",
       "        vertical-align: middle;\n",
       "    }\n",
       "\n",
       "    .dataframe tbody tr th {\n",
       "        vertical-align: top;\n",
       "    }\n",
       "\n",
       "    .dataframe thead th {\n",
       "        text-align: right;\n",
       "    }\n",
       "</style>\n",
       "<table border=\"1\" class=\"dataframe\">\n",
       "  <thead>\n",
       "    <tr style=\"text-align: right;\">\n",
       "      <th>y</th>\n",
       "      <th>no</th>\n",
       "      <th>yes</th>\n",
       "      <th>%conversion</th>\n",
       "    </tr>\n",
       "    <tr>\n",
       "      <th>loan</th>\n",
       "      <th></th>\n",
       "      <th></th>\n",
       "      <th></th>\n",
       "    </tr>\n",
       "  </thead>\n",
       "  <tbody>\n",
       "    <tr>\n",
       "      <th>no</th>\n",
       "      <td>30100.0</td>\n",
       "      <td>3850.0</td>\n",
       "      <td>11.340206</td>\n",
       "    </tr>\n",
       "    <tr>\n",
       "      <th>unknown</th>\n",
       "      <td>883.0</td>\n",
       "      <td>107.0</td>\n",
       "      <td>10.808081</td>\n",
       "    </tr>\n",
       "    <tr>\n",
       "      <th>yes</th>\n",
       "      <td>5565.0</td>\n",
       "      <td>683.0</td>\n",
       "      <td>10.931498</td>\n",
       "    </tr>\n",
       "    <tr>\n",
       "      <th>Total</th>\n",
       "      <td>36548.0</td>\n",
       "      <td>4640.0</td>\n",
       "      <td>11.265417</td>\n",
       "    </tr>\n",
       "  </tbody>\n",
       "</table>\n",
       "</div>"
      ],
      "text/plain": [
       "y             no     yes  %conversion\n",
       "loan                                 \n",
       "no       30100.0  3850.0    11.340206\n",
       "unknown    883.0   107.0    10.808081\n",
       "yes       5565.0   683.0    10.931498\n",
       "Total    36548.0  4640.0    11.265417"
      ]
     },
     "execution_count": 45,
     "metadata": {
      "tags": []
     },
     "output_type": "execute_result"
    }
   ],
   "source": [
    "tabla= pd.crosstab(clients['loan'],clients['y'])\n",
    "tabla.loc['Total',:]= tabla.sum(axis=0)\n",
    "tabla['%conversion'] = (tabla['yes']/(tabla['yes']+tabla['no']))*100\n",
    "tabla"
   ]
  },
  {
   "cell_type": "code",
   "execution_count": null,
   "metadata": {
    "id": "sK_S5UpR1aGj"
   },
   "outputs": [],
   "source": []
  },
  {
   "cell_type": "code",
   "execution_count": null,
   "metadata": {
    "id": "anO6A9Zg1aDB"
   },
   "outputs": [],
   "source": []
  },
  {
   "cell_type": "code",
   "execution_count": null,
   "metadata": {
    "id": "QSprxcwh1aBH"
   },
   "outputs": [],
   "source": []
  },
  {
   "cell_type": "code",
   "execution_count": null,
   "metadata": {
    "id": "GBF4tqOi1Z-8"
   },
   "outputs": [],
   "source": []
  },
  {
   "cell_type": "markdown",
   "metadata": {
    "id": "VeWThj_00CiV"
   },
   "source": [
    "## **3- Campaigns**"
   ]
  },
  {
   "cell_type": "markdown",
   "metadata": {
    "id": "EPI9dXDX_dtW"
   },
   "source": [
    "### Intro\n"
   ]
  },
  {
   "cell_type": "code",
   "execution_count": null,
   "metadata": {
    "colab": {
     "base_uri": "https://localhost:8080/",
     "height": 424
    },
    "id": "CGhljN2E0QZy",
    "outputId": "09d44b2d-bf51-4a44-e215-03d4f0c8ff47"
   },
   "outputs": [
    {
     "data": {
      "text/html": [
       "<div>\n",
       "<style scoped>\n",
       "    .dataframe tbody tr th:only-of-type {\n",
       "        vertical-align: middle;\n",
       "    }\n",
       "\n",
       "    .dataframe tbody tr th {\n",
       "        vertical-align: top;\n",
       "    }\n",
       "\n",
       "    .dataframe thead th {\n",
       "        text-align: right;\n",
       "    }\n",
       "</style>\n",
       "<table border=\"1\" class=\"dataframe\">\n",
       "  <thead>\n",
       "    <tr style=\"text-align: right;\">\n",
       "      <th></th>\n",
       "      <th>y</th>\n",
       "    </tr>\n",
       "  </thead>\n",
       "  <tbody>\n",
       "    <tr>\n",
       "      <th>0</th>\n",
       "      <td>no</td>\n",
       "    </tr>\n",
       "    <tr>\n",
       "      <th>1</th>\n",
       "      <td>no</td>\n",
       "    </tr>\n",
       "    <tr>\n",
       "      <th>2</th>\n",
       "      <td>no</td>\n",
       "    </tr>\n",
       "    <tr>\n",
       "      <th>3</th>\n",
       "      <td>no</td>\n",
       "    </tr>\n",
       "    <tr>\n",
       "      <th>4</th>\n",
       "      <td>no</td>\n",
       "    </tr>\n",
       "    <tr>\n",
       "      <th>...</th>\n",
       "      <td>...</td>\n",
       "    </tr>\n",
       "    <tr>\n",
       "      <th>41183</th>\n",
       "      <td>yes</td>\n",
       "    </tr>\n",
       "    <tr>\n",
       "      <th>41184</th>\n",
       "      <td>no</td>\n",
       "    </tr>\n",
       "    <tr>\n",
       "      <th>41185</th>\n",
       "      <td>no</td>\n",
       "    </tr>\n",
       "    <tr>\n",
       "      <th>41186</th>\n",
       "      <td>yes</td>\n",
       "    </tr>\n",
       "    <tr>\n",
       "      <th>41187</th>\n",
       "      <td>no</td>\n",
       "    </tr>\n",
       "  </tbody>\n",
       "</table>\n",
       "<p>41188 rows × 1 columns</p>\n",
       "</div>"
      ],
      "text/plain": [
       "         y\n",
       "0       no\n",
       "1       no\n",
       "2       no\n",
       "3       no\n",
       "4       no\n",
       "...    ...\n",
       "41183  yes\n",
       "41184   no\n",
       "41185   no\n",
       "41186  yes\n",
       "41187   no\n",
       "\n",
       "[41188 rows x 1 columns]"
      ]
     },
     "execution_count": 46,
     "metadata": {
      "tags": []
     },
     "output_type": "execute_result"
    }
   ],
   "source": [
    "y = bank_df.y.to_frame('y')\n",
    "y"
   ]
  },
  {
   "cell_type": "code",
   "execution_count": null,
   "metadata": {
    "colab": {
     "base_uri": "https://localhost:8080/",
     "height": 206
    },
    "id": "NfXS37xM0Qco",
    "outputId": "bd863024-5041-43d1-8f06-45a65ded42db"
   },
   "outputs": [
    {
     "data": {
      "text/html": [
       "<div>\n",
       "<style scoped>\n",
       "    .dataframe tbody tr th:only-of-type {\n",
       "        vertical-align: middle;\n",
       "    }\n",
       "\n",
       "    .dataframe tbody tr th {\n",
       "        vertical-align: top;\n",
       "    }\n",
       "\n",
       "    .dataframe thead th {\n",
       "        text-align: right;\n",
       "    }\n",
       "</style>\n",
       "<table border=\"1\" class=\"dataframe\">\n",
       "  <thead>\n",
       "    <tr style=\"text-align: right;\">\n",
       "      <th></th>\n",
       "      <th>contact</th>\n",
       "      <th>month</th>\n",
       "      <th>day_of_week</th>\n",
       "      <th>duration</th>\n",
       "      <th>campaign</th>\n",
       "      <th>pdays</th>\n",
       "      <th>previous</th>\n",
       "      <th>poutcome</th>\n",
       "      <th>y</th>\n",
       "    </tr>\n",
       "  </thead>\n",
       "  <tbody>\n",
       "    <tr>\n",
       "      <th>0</th>\n",
       "      <td>telephone</td>\n",
       "      <td>may</td>\n",
       "      <td>mon</td>\n",
       "      <td>261</td>\n",
       "      <td>1</td>\n",
       "      <td>999</td>\n",
       "      <td>0</td>\n",
       "      <td>nonexistent</td>\n",
       "      <td>no</td>\n",
       "    </tr>\n",
       "    <tr>\n",
       "      <th>1</th>\n",
       "      <td>telephone</td>\n",
       "      <td>may</td>\n",
       "      <td>mon</td>\n",
       "      <td>149</td>\n",
       "      <td>1</td>\n",
       "      <td>999</td>\n",
       "      <td>0</td>\n",
       "      <td>nonexistent</td>\n",
       "      <td>no</td>\n",
       "    </tr>\n",
       "    <tr>\n",
       "      <th>2</th>\n",
       "      <td>telephone</td>\n",
       "      <td>may</td>\n",
       "      <td>mon</td>\n",
       "      <td>226</td>\n",
       "      <td>1</td>\n",
       "      <td>999</td>\n",
       "      <td>0</td>\n",
       "      <td>nonexistent</td>\n",
       "      <td>no</td>\n",
       "    </tr>\n",
       "    <tr>\n",
       "      <th>3</th>\n",
       "      <td>telephone</td>\n",
       "      <td>may</td>\n",
       "      <td>mon</td>\n",
       "      <td>151</td>\n",
       "      <td>1</td>\n",
       "      <td>999</td>\n",
       "      <td>0</td>\n",
       "      <td>nonexistent</td>\n",
       "      <td>no</td>\n",
       "    </tr>\n",
       "    <tr>\n",
       "      <th>4</th>\n",
       "      <td>telephone</td>\n",
       "      <td>may</td>\n",
       "      <td>mon</td>\n",
       "      <td>307</td>\n",
       "      <td>1</td>\n",
       "      <td>999</td>\n",
       "      <td>0</td>\n",
       "      <td>nonexistent</td>\n",
       "      <td>no</td>\n",
       "    </tr>\n",
       "  </tbody>\n",
       "</table>\n",
       "</div>"
      ],
      "text/plain": [
       "     contact month day_of_week  duration  ...  pdays  previous     poutcome   y\n",
       "0  telephone   may         mon       261  ...    999         0  nonexistent  no\n",
       "1  telephone   may         mon       149  ...    999         0  nonexistent  no\n",
       "2  telephone   may         mon       226  ...    999         0  nonexistent  no\n",
       "3  telephone   may         mon       151  ...    999         0  nonexistent  no\n",
       "4  telephone   may         mon       307  ...    999         0  nonexistent  no\n",
       "\n",
       "[5 rows x 9 columns]"
      ]
     },
     "execution_count": 47,
     "metadata": {
      "tags": []
     },
     "output_type": "execute_result"
    }
   ],
   "source": [
    "campaigns= bank_df[bank_df.columns[7:15]]\n",
    "campaigns = pd.concat([campaigns,y],axis=1,join='outer')\n",
    "campaigns.head()"
   ]
  },
  {
   "cell_type": "code",
   "execution_count": null,
   "metadata": {
    "colab": {
     "base_uri": "https://localhost:8080/",
     "height": 322
    },
    "id": "E-W1Z8saFGKr",
    "outputId": "ad3b8abc-99c0-490c-b77a-2476ababf4c1"
   },
   "outputs": [
    {
     "name": "stdout",
     "output_type": "stream",
     "text": [
      "Telephone conversions are = 5 % of all the telephone's calls\n",
      "Cellular conversions are = 15 % of all the cellular's calls\n"
     ]
    },
    {
     "data": {
      "image/png": "[encoded data removed]",
      "text/plain": [
       "<Figure size 432x288 with 1 Axes>"
      ]
     },
     "metadata": {
      "tags": []
     },
     "output_type": "display_data"
    }
   ],
   "source": [
    "sns.countplot(data=campaigns, x = 'contact', hue = 'y', palette='inferno', edgecolor ='black' )\n",
    "#Finding each percentage\n",
    "tel_yes= campaigns[(campaigns['y'] == 'yes') & (campaigns['contact'] == 'telephone')].shape[0]\n",
    "tel_no= campaigns[(campaigns['y'] == 'no') & (campaigns['contact'] == 'telephone')].shape[0]\n",
    "cel_yes= campaigns[(campaigns['y'] == 'yes') & (campaigns['contact'] == 'cellular')].shape[0]\n",
    "cel_no= campaigns[(campaigns['y'] == 'no') & (campaigns['contact'] == 'cellular')].shape[0]\n",
    "\n",
    "print('Telephone conversions are =',round(tel_yes/(tel_yes+tel_no)*100),\"% of all the telephone's calls\")\n",
    "print('Cellular conversions are =',round(cel_yes/(cel_yes+cel_no)*100),\"% of all the cellular's calls\")\n"
   ]
  },
  {
   "cell_type": "markdown",
   "metadata": {
    "id": "olR_kuY4JwYU"
   },
   "source": [
    "So, we could superficially conclude that the most effective means of contact is the cellular."
   ]
  },
  {
   "cell_type": "code",
   "execution_count": null,
   "metadata": {
    "colab": {
     "base_uri": "https://localhost:8080/",
     "height": 305
    },
    "id": "S29I5OM1HRR-",
    "outputId": "858ec0b0-d238-4f55-85ba-f857f30d9a2c"
   },
   "outputs": [
    {
     "data": {
      "text/plain": [
       "<matplotlib.axes._subplots.AxesSubplot at 0x7f8d92ff3150>"
      ]
     },
     "execution_count": 49,
     "metadata": {
      "tags": []
     },
     "output_type": "execute_result"
    },
    {
     "data": {
      "image/png": "[encoded data removed]",
      "text/plain": [
       "<Figure size 432x288 with 1 Axes>"
      ]
     },
     "metadata": {
      "tags": []
     },
     "output_type": "display_data"
    }
   ],
   "source": [
    "sns.countplot(data=campaigns, x = 'day_of_week', hue = 'y', palette='coolwarm',edgecolor ='black' )"
   ]
  },
  {
   "cell_type": "markdown",
   "metadata": {
    "id": "9r9_O3cHnxRm"
   },
   "source": [
    "So, weekly the distribution is almost constant. "
   ]
  }
 ],
 "metadata": {
  "colab": {
   "name": "Data Understanding and Analysis",
   "provenance": [],
   "toc_visible": true
  },
  "kernelspec": {
   "display_name": "Python 3",
   "language": "python",
   "name": "python3"
  },
  "language_info": {
   "codemirror_mode": {
    "name": "ipython",
    "version": 3
   },
   "file_extension": ".py",
   "mimetype": "text/x-python",
   "name": "python",
   "nbconvert_exporter": "python",
   "pygments_lexer": "ipython3",
   "version": "3.7.4"
  }
 },
 "nbformat": 4,
 "nbformat_minor": 1
}
