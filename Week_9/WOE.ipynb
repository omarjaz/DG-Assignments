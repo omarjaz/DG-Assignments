{
 "cells": [
  {
   "cell_type": "code",
   "execution_count": 1,
   "metadata": {},
   "outputs": [],
   "source": [
    "# Importings\n",
    "import pandas as pd\n",
    "import numpy as np\n",
    "import matplotlib.pyplot as plt"
   ]
  },
  {
   "cell_type": "code",
   "execution_count": 2,
   "metadata": {},
   "outputs": [],
   "source": [
    "#READ DATA\n",
    "bank_df= pd.read_csv(\"bank-additional-full.csv\",sep=\";\")"
   ]
  },
  {
   "cell_type": "code",
   "execution_count": 3,
   "metadata": {},
   "outputs": [
    {
     "data": {
      "text/html": [
       "<div>\n",
       "<style scoped>\n",
       "    .dataframe tbody tr th:only-of-type {\n",
       "        vertical-align: middle;\n",
       "    }\n",
       "\n",
       "    .dataframe tbody tr th {\n",
       "        vertical-align: top;\n",
       "    }\n",
       "\n",
       "    .dataframe thead th {\n",
       "        text-align: right;\n",
       "    }\n",
       "</style>\n",
       "<table border=\"1\" class=\"dataframe\">\n",
       "  <thead>\n",
       "    <tr style=\"text-align: right;\">\n",
       "      <th></th>\n",
       "      <th>age</th>\n",
       "      <th>job</th>\n",
       "      <th>marital</th>\n",
       "      <th>education</th>\n",
       "      <th>default</th>\n",
       "      <th>housing</th>\n",
       "      <th>loan</th>\n",
       "      <th>contact</th>\n",
       "      <th>month</th>\n",
       "      <th>day_of_week</th>\n",
       "      <th>...</th>\n",
       "      <th>campaign</th>\n",
       "      <th>pdays</th>\n",
       "      <th>previous</th>\n",
       "      <th>poutcome</th>\n",
       "      <th>emp.var.rate</th>\n",
       "      <th>cons.price.idx</th>\n",
       "      <th>cons.conf.idx</th>\n",
       "      <th>euribor3m</th>\n",
       "      <th>nr.employed</th>\n",
       "      <th>y</th>\n",
       "    </tr>\n",
       "  </thead>\n",
       "  <tbody>\n",
       "    <tr>\n",
       "      <th>0</th>\n",
       "      <td>56</td>\n",
       "      <td>housemaid</td>\n",
       "      <td>married</td>\n",
       "      <td>basic.4y</td>\n",
       "      <td>no</td>\n",
       "      <td>no</td>\n",
       "      <td>no</td>\n",
       "      <td>telephone</td>\n",
       "      <td>may</td>\n",
       "      <td>mon</td>\n",
       "      <td>...</td>\n",
       "      <td>1</td>\n",
       "      <td>999</td>\n",
       "      <td>0</td>\n",
       "      <td>nonexistent</td>\n",
       "      <td>1.1</td>\n",
       "      <td>93.994</td>\n",
       "      <td>-36.4</td>\n",
       "      <td>4.857</td>\n",
       "      <td>5191.0</td>\n",
       "      <td>no</td>\n",
       "    </tr>\n",
       "    <tr>\n",
       "      <th>1</th>\n",
       "      <td>57</td>\n",
       "      <td>services</td>\n",
       "      <td>married</td>\n",
       "      <td>high.school</td>\n",
       "      <td>unknown</td>\n",
       "      <td>no</td>\n",
       "      <td>no</td>\n",
       "      <td>telephone</td>\n",
       "      <td>may</td>\n",
       "      <td>mon</td>\n",
       "      <td>...</td>\n",
       "      <td>1</td>\n",
       "      <td>999</td>\n",
       "      <td>0</td>\n",
       "      <td>nonexistent</td>\n",
       "      <td>1.1</td>\n",
       "      <td>93.994</td>\n",
       "      <td>-36.4</td>\n",
       "      <td>4.857</td>\n",
       "      <td>5191.0</td>\n",
       "      <td>no</td>\n",
       "    </tr>\n",
       "    <tr>\n",
       "      <th>2</th>\n",
       "      <td>37</td>\n",
       "      <td>services</td>\n",
       "      <td>married</td>\n",
       "      <td>high.school</td>\n",
       "      <td>no</td>\n",
       "      <td>yes</td>\n",
       "      <td>no</td>\n",
       "      <td>telephone</td>\n",
       "      <td>may</td>\n",
       "      <td>mon</td>\n",
       "      <td>...</td>\n",
       "      <td>1</td>\n",
       "      <td>999</td>\n",
       "      <td>0</td>\n",
       "      <td>nonexistent</td>\n",
       "      <td>1.1</td>\n",
       "      <td>93.994</td>\n",
       "      <td>-36.4</td>\n",
       "      <td>4.857</td>\n",
       "      <td>5191.0</td>\n",
       "      <td>no</td>\n",
       "    </tr>\n",
       "    <tr>\n",
       "      <th>3</th>\n",
       "      <td>40</td>\n",
       "      <td>admin.</td>\n",
       "      <td>married</td>\n",
       "      <td>basic.6y</td>\n",
       "      <td>no</td>\n",
       "      <td>no</td>\n",
       "      <td>no</td>\n",
       "      <td>telephone</td>\n",
       "      <td>may</td>\n",
       "      <td>mon</td>\n",
       "      <td>...</td>\n",
       "      <td>1</td>\n",
       "      <td>999</td>\n",
       "      <td>0</td>\n",
       "      <td>nonexistent</td>\n",
       "      <td>1.1</td>\n",
       "      <td>93.994</td>\n",
       "      <td>-36.4</td>\n",
       "      <td>4.857</td>\n",
       "      <td>5191.0</td>\n",
       "      <td>no</td>\n",
       "    </tr>\n",
       "    <tr>\n",
       "      <th>4</th>\n",
       "      <td>56</td>\n",
       "      <td>services</td>\n",
       "      <td>married</td>\n",
       "      <td>high.school</td>\n",
       "      <td>no</td>\n",
       "      <td>no</td>\n",
       "      <td>yes</td>\n",
       "      <td>telephone</td>\n",
       "      <td>may</td>\n",
       "      <td>mon</td>\n",
       "      <td>...</td>\n",
       "      <td>1</td>\n",
       "      <td>999</td>\n",
       "      <td>0</td>\n",
       "      <td>nonexistent</td>\n",
       "      <td>1.1</td>\n",
       "      <td>93.994</td>\n",
       "      <td>-36.4</td>\n",
       "      <td>4.857</td>\n",
       "      <td>5191.0</td>\n",
       "      <td>no</td>\n",
       "    </tr>\n",
       "  </tbody>\n",
       "</table>\n",
       "<p>5 rows × 21 columns</p>\n",
       "</div>"
      ],
      "text/plain": [
       "   age        job  marital    education  default housing loan    contact  \\\n",
       "0   56  housemaid  married     basic.4y       no      no   no  telephone   \n",
       "1   57   services  married  high.school  unknown      no   no  telephone   \n",
       "2   37   services  married  high.school       no     yes   no  telephone   \n",
       "3   40     admin.  married     basic.6y       no      no   no  telephone   \n",
       "4   56   services  married  high.school       no      no  yes  telephone   \n",
       "\n",
       "  month day_of_week  ...  campaign  pdays  previous     poutcome emp.var.rate  \\\n",
       "0   may         mon  ...         1    999         0  nonexistent          1.1   \n",
       "1   may         mon  ...         1    999         0  nonexistent          1.1   \n",
       "2   may         mon  ...         1    999         0  nonexistent          1.1   \n",
       "3   may         mon  ...         1    999         0  nonexistent          1.1   \n",
       "4   may         mon  ...         1    999         0  nonexistent          1.1   \n",
       "\n",
       "   cons.price.idx  cons.conf.idx  euribor3m  nr.employed   y  \n",
       "0          93.994          -36.4      4.857       5191.0  no  \n",
       "1          93.994          -36.4      4.857       5191.0  no  \n",
       "2          93.994          -36.4      4.857       5191.0  no  \n",
       "3          93.994          -36.4      4.857       5191.0  no  \n",
       "4          93.994          -36.4      4.857       5191.0  no  \n",
       "\n",
       "[5 rows x 21 columns]"
      ]
     },
     "execution_count": 3,
     "metadata": {},
     "output_type": "execute_result"
    }
   ],
   "source": [
    "bank_df.head()"
   ]
  },
  {
   "cell_type": "code",
   "execution_count": 4,
   "metadata": {},
   "outputs": [
    {
     "data": {
      "text/plain": [
       "(41188, 21)"
      ]
     },
     "execution_count": 4,
     "metadata": {},
     "output_type": "execute_result"
    }
   ],
   "source": [
    "bank_df.shape"
   ]
  },
  {
   "cell_type": "code",
   "execution_count": 5,
   "metadata": {},
   "outputs": [
    {
     "name": "stdout",
     "output_type": "stream",
     "text": [
      "<class 'pandas.core.frame.DataFrame'>\n",
      "RangeIndex: 41188 entries, 0 to 41187\n",
      "Data columns (total 21 columns):\n",
      " #   Column          Non-Null Count  Dtype  \n",
      "---  ------          --------------  -----  \n",
      " 0   age             41188 non-null  int64  \n",
      " 1   job             41188 non-null  object \n",
      " 2   marital         41188 non-null  object \n",
      " 3   education       41188 non-null  object \n",
      " 4   default         41188 non-null  object \n",
      " 5   housing         41188 non-null  object \n",
      " 6   loan            41188 non-null  object \n",
      " 7   contact         41188 non-null  object \n",
      " 8   month           41188 non-null  object \n",
      " 9   day_of_week     41188 non-null  object \n",
      " 10  duration        41188 non-null  int64  \n",
      " 11  campaign        41188 non-null  int64  \n",
      " 12  pdays           41188 non-null  int64  \n",
      " 13  previous        41188 non-null  int64  \n",
      " 14  poutcome        41188 non-null  object \n",
      " 15  emp.var.rate    41188 non-null  float64\n",
      " 16  cons.price.idx  41188 non-null  float64\n",
      " 17  cons.conf.idx   41188 non-null  float64\n",
      " 18  euribor3m       41188 non-null  float64\n",
      " 19  nr.employed     41188 non-null  float64\n",
      " 20  y               41188 non-null  object \n",
      "dtypes: float64(5), int64(5), object(11)\n",
      "memory usage: 6.6+ MB\n"
     ]
    }
   ],
   "source": [
    "bank_df.info()"
   ]
  },
  {
   "cell_type": "code",
   "execution_count": 6,
   "metadata": {},
   "outputs": [
    {
     "data": {
      "text/plain": [
       "Index(['age', 'job', 'marital', 'education', 'default', 'housing', 'loan',\n",
       "       'contact', 'month', 'day_of_week', 'duration', 'campaign', 'pdays',\n",
       "       'previous', 'poutcome', 'emp.var.rate', 'cons.price.idx',\n",
       "       'cons.conf.idx', 'euribor3m', 'nr.employed', 'y'],\n",
       "      dtype='object')"
      ]
     },
     "execution_count": 6,
     "metadata": {},
     "output_type": "execute_result"
    }
   ],
   "source": [
    "#COLUMNAS\n",
    "bank_df.columns"
   ]
  },
  {
   "cell_type": "code",
   "execution_count": 7,
   "metadata": {},
   "outputs": [],
   "source": [
    "# Categorical features\n",
    "categorical_cols=['job', 'marital', 'education', 'default', 'housing', 'loan',\n",
    "       'contact', 'month', 'day_of_week', 'poutcome']"
   ]
  },
  {
   "cell_type": "code",
   "execution_count": 8,
   "metadata": {},
   "outputs": [
    {
     "name": "stdout",
     "output_type": "stream",
     "text": [
      "job :\n",
      "['housemaid' 'services' 'admin.' 'blue-collar' 'technician' 'retired'\n",
      " 'management' 'unemployed' 'self-employed' 'unknown' 'entrepreneur'\n",
      " 'student']\n",
      "marital :\n",
      "['married' 'single' 'divorced' 'unknown']\n",
      "education :\n",
      "['basic.4y' 'high.school' 'basic.6y' 'basic.9y' 'professional.course'\n",
      " 'unknown' 'university.degree' 'illiterate']\n",
      "default :\n",
      "['no' 'unknown' 'yes']\n",
      "housing :\n",
      "['no' 'yes' 'unknown']\n",
      "loan :\n",
      "['no' 'yes' 'unknown']\n",
      "contact :\n",
      "['telephone' 'cellular']\n",
      "month :\n",
      "['may' 'jun' 'jul' 'aug' 'oct' 'nov' 'dec' 'mar' 'apr' 'sep']\n",
      "day_of_week :\n",
      "['mon' 'tue' 'wed' 'thu' 'fri']\n",
      "poutcome :\n",
      "['nonexistent' 'failure' 'success']\n"
     ]
    }
   ],
   "source": [
    "for col in categorical_cols:# categories\n",
    "  print(col,\":\")\n",
    "  print(bank_df[col].unique())"
   ]
  },
  {
   "cell_type": "code",
   "execution_count": 9,
   "metadata": {},
   "outputs": [
    {
     "data": {
      "text/html": [
       "<div>\n",
       "<style scoped>\n",
       "    .dataframe tbody tr th:only-of-type {\n",
       "        vertical-align: middle;\n",
       "    }\n",
       "\n",
       "    .dataframe tbody tr th {\n",
       "        vertical-align: top;\n",
       "    }\n",
       "\n",
       "    .dataframe thead th {\n",
       "        text-align: right;\n",
       "    }\n",
       "</style>\n",
       "<table border=\"1\" class=\"dataframe\">\n",
       "  <thead>\n",
       "    <tr style=\"text-align: right;\">\n",
       "      <th></th>\n",
       "      <th>age</th>\n",
       "      <th>duration</th>\n",
       "      <th>campaign</th>\n",
       "      <th>pdays</th>\n",
       "      <th>previous</th>\n",
       "      <th>emp.var.rate</th>\n",
       "      <th>cons.price.idx</th>\n",
       "      <th>cons.conf.idx</th>\n",
       "      <th>euribor3m</th>\n",
       "      <th>nr.employed</th>\n",
       "    </tr>\n",
       "  </thead>\n",
       "  <tbody>\n",
       "    <tr>\n",
       "      <th>count</th>\n",
       "      <td>41188.00000</td>\n",
       "      <td>41188.000000</td>\n",
       "      <td>41188.000000</td>\n",
       "      <td>41188.000000</td>\n",
       "      <td>41188.000000</td>\n",
       "      <td>41188.000000</td>\n",
       "      <td>41188.000000</td>\n",
       "      <td>41188.000000</td>\n",
       "      <td>41188.000000</td>\n",
       "      <td>41188.000000</td>\n",
       "    </tr>\n",
       "    <tr>\n",
       "      <th>mean</th>\n",
       "      <td>40.02406</td>\n",
       "      <td>258.285010</td>\n",
       "      <td>2.567593</td>\n",
       "      <td>962.475454</td>\n",
       "      <td>0.172963</td>\n",
       "      <td>0.081886</td>\n",
       "      <td>93.575664</td>\n",
       "      <td>-40.502600</td>\n",
       "      <td>3.621291</td>\n",
       "      <td>5167.035911</td>\n",
       "    </tr>\n",
       "    <tr>\n",
       "      <th>std</th>\n",
       "      <td>10.42125</td>\n",
       "      <td>259.279249</td>\n",
       "      <td>2.770014</td>\n",
       "      <td>186.910907</td>\n",
       "      <td>0.494901</td>\n",
       "      <td>1.570960</td>\n",
       "      <td>0.578840</td>\n",
       "      <td>4.628198</td>\n",
       "      <td>1.734447</td>\n",
       "      <td>72.251528</td>\n",
       "    </tr>\n",
       "    <tr>\n",
       "      <th>min</th>\n",
       "      <td>17.00000</td>\n",
       "      <td>0.000000</td>\n",
       "      <td>1.000000</td>\n",
       "      <td>0.000000</td>\n",
       "      <td>0.000000</td>\n",
       "      <td>-3.400000</td>\n",
       "      <td>92.201000</td>\n",
       "      <td>-50.800000</td>\n",
       "      <td>0.634000</td>\n",
       "      <td>4963.600000</td>\n",
       "    </tr>\n",
       "    <tr>\n",
       "      <th>25%</th>\n",
       "      <td>32.00000</td>\n",
       "      <td>102.000000</td>\n",
       "      <td>1.000000</td>\n",
       "      <td>999.000000</td>\n",
       "      <td>0.000000</td>\n",
       "      <td>-1.800000</td>\n",
       "      <td>93.075000</td>\n",
       "      <td>-42.700000</td>\n",
       "      <td>1.344000</td>\n",
       "      <td>5099.100000</td>\n",
       "    </tr>\n",
       "    <tr>\n",
       "      <th>50%</th>\n",
       "      <td>38.00000</td>\n",
       "      <td>180.000000</td>\n",
       "      <td>2.000000</td>\n",
       "      <td>999.000000</td>\n",
       "      <td>0.000000</td>\n",
       "      <td>1.100000</td>\n",
       "      <td>93.749000</td>\n",
       "      <td>-41.800000</td>\n",
       "      <td>4.857000</td>\n",
       "      <td>5191.000000</td>\n",
       "    </tr>\n",
       "    <tr>\n",
       "      <th>75%</th>\n",
       "      <td>47.00000</td>\n",
       "      <td>319.000000</td>\n",
       "      <td>3.000000</td>\n",
       "      <td>999.000000</td>\n",
       "      <td>0.000000</td>\n",
       "      <td>1.400000</td>\n",
       "      <td>93.994000</td>\n",
       "      <td>-36.400000</td>\n",
       "      <td>4.961000</td>\n",
       "      <td>5228.100000</td>\n",
       "    </tr>\n",
       "    <tr>\n",
       "      <th>max</th>\n",
       "      <td>98.00000</td>\n",
       "      <td>4918.000000</td>\n",
       "      <td>56.000000</td>\n",
       "      <td>999.000000</td>\n",
       "      <td>7.000000</td>\n",
       "      <td>1.400000</td>\n",
       "      <td>94.767000</td>\n",
       "      <td>-26.900000</td>\n",
       "      <td>5.045000</td>\n",
       "      <td>5228.100000</td>\n",
       "    </tr>\n",
       "  </tbody>\n",
       "</table>\n",
       "</div>"
      ],
      "text/plain": [
       "               age      duration      campaign         pdays      previous  \\\n",
       "count  41188.00000  41188.000000  41188.000000  41188.000000  41188.000000   \n",
       "mean      40.02406    258.285010      2.567593    962.475454      0.172963   \n",
       "std       10.42125    259.279249      2.770014    186.910907      0.494901   \n",
       "min       17.00000      0.000000      1.000000      0.000000      0.000000   \n",
       "25%       32.00000    102.000000      1.000000    999.000000      0.000000   \n",
       "50%       38.00000    180.000000      2.000000    999.000000      0.000000   \n",
       "75%       47.00000    319.000000      3.000000    999.000000      0.000000   \n",
       "max       98.00000   4918.000000     56.000000    999.000000      7.000000   \n",
       "\n",
       "       emp.var.rate  cons.price.idx  cons.conf.idx     euribor3m   nr.employed  \n",
       "count  41188.000000    41188.000000   41188.000000  41188.000000  41188.000000  \n",
       "mean       0.081886       93.575664     -40.502600      3.621291   5167.035911  \n",
       "std        1.570960        0.578840       4.628198      1.734447     72.251528  \n",
       "min       -3.400000       92.201000     -50.800000      0.634000   4963.600000  \n",
       "25%       -1.800000       93.075000     -42.700000      1.344000   5099.100000  \n",
       "50%        1.100000       93.749000     -41.800000      4.857000   5191.000000  \n",
       "75%        1.400000       93.994000     -36.400000      4.961000   5228.100000  \n",
       "max        1.400000       94.767000     -26.900000      5.045000   5228.100000  "
      ]
     },
     "execution_count": 9,
     "metadata": {},
     "output_type": "execute_result"
    }
   ],
   "source": [
    "# Numerical features statistics\n",
    "bank_df.describe()"
   ]
  },
  {
   "cell_type": "code",
   "execution_count": 10,
   "metadata": {},
   "outputs": [
    {
     "data": {
      "text/plain": [
       "age               0\n",
       "job               0\n",
       "marital           0\n",
       "education         0\n",
       "default           0\n",
       "housing           0\n",
       "loan              0\n",
       "contact           0\n",
       "month             0\n",
       "day_of_week       0\n",
       "duration          0\n",
       "campaign          0\n",
       "pdays             0\n",
       "previous          0\n",
       "poutcome          0\n",
       "emp.var.rate      0\n",
       "cons.price.idx    0\n",
       "cons.conf.idx     0\n",
       "euribor3m         0\n",
       "nr.employed       0\n",
       "y                 0\n",
       "dtype: int64"
      ]
     },
     "execution_count": 10,
     "metadata": {},
     "output_type": "execute_result"
    }
   ],
   "source": [
    "#MISSING DATA\n",
    "bank_df.isna().sum()"
   ]
  },
  {
   "cell_type": "code",
   "execution_count": 11,
   "metadata": {},
   "outputs": [
    {
     "data": {
      "text/html": [
       "<div>\n",
       "<style scoped>\n",
       "    .dataframe tbody tr th:only-of-type {\n",
       "        vertical-align: middle;\n",
       "    }\n",
       "\n",
       "    .dataframe tbody tr th {\n",
       "        vertical-align: top;\n",
       "    }\n",
       "\n",
       "    .dataframe thead th {\n",
       "        text-align: right;\n",
       "    }\n",
       "</style>\n",
       "<table border=\"1\" class=\"dataframe\">\n",
       "  <thead>\n",
       "    <tr style=\"text-align: right;\">\n",
       "      <th></th>\n",
       "      <th>age</th>\n",
       "      <th>job</th>\n",
       "      <th>marital</th>\n",
       "      <th>education</th>\n",
       "      <th>default</th>\n",
       "      <th>housing</th>\n",
       "      <th>loan</th>\n",
       "      <th>contact</th>\n",
       "      <th>month</th>\n",
       "      <th>day_of_week</th>\n",
       "      <th>...</th>\n",
       "      <th>campaign</th>\n",
       "      <th>pdays</th>\n",
       "      <th>previous</th>\n",
       "      <th>poutcome</th>\n",
       "      <th>emp.var.rate</th>\n",
       "      <th>cons.price.idx</th>\n",
       "      <th>cons.conf.idx</th>\n",
       "      <th>euribor3m</th>\n",
       "      <th>nr.employed</th>\n",
       "      <th>y</th>\n",
       "    </tr>\n",
       "  </thead>\n",
       "  <tbody>\n",
       "    <tr>\n",
       "      <th>0</th>\n",
       "      <td>56</td>\n",
       "      <td>housemaid</td>\n",
       "      <td>married</td>\n",
       "      <td>basic.4y</td>\n",
       "      <td>no</td>\n",
       "      <td>no</td>\n",
       "      <td>no</td>\n",
       "      <td>telephone</td>\n",
       "      <td>may</td>\n",
       "      <td>mon</td>\n",
       "      <td>...</td>\n",
       "      <td>1</td>\n",
       "      <td>999</td>\n",
       "      <td>0</td>\n",
       "      <td>nonexistent</td>\n",
       "      <td>1.1</td>\n",
       "      <td>93.994</td>\n",
       "      <td>-36.4</td>\n",
       "      <td>4.857</td>\n",
       "      <td>5191.0</td>\n",
       "      <td>no</td>\n",
       "    </tr>\n",
       "    <tr>\n",
       "      <th>1</th>\n",
       "      <td>57</td>\n",
       "      <td>services</td>\n",
       "      <td>married</td>\n",
       "      <td>high.school</td>\n",
       "      <td>NaN</td>\n",
       "      <td>no</td>\n",
       "      <td>no</td>\n",
       "      <td>telephone</td>\n",
       "      <td>may</td>\n",
       "      <td>mon</td>\n",
       "      <td>...</td>\n",
       "      <td>1</td>\n",
       "      <td>999</td>\n",
       "      <td>0</td>\n",
       "      <td>nonexistent</td>\n",
       "      <td>1.1</td>\n",
       "      <td>93.994</td>\n",
       "      <td>-36.4</td>\n",
       "      <td>4.857</td>\n",
       "      <td>5191.0</td>\n",
       "      <td>no</td>\n",
       "    </tr>\n",
       "    <tr>\n",
       "      <th>2</th>\n",
       "      <td>37</td>\n",
       "      <td>services</td>\n",
       "      <td>married</td>\n",
       "      <td>high.school</td>\n",
       "      <td>no</td>\n",
       "      <td>yes</td>\n",
       "      <td>no</td>\n",
       "      <td>telephone</td>\n",
       "      <td>may</td>\n",
       "      <td>mon</td>\n",
       "      <td>...</td>\n",
       "      <td>1</td>\n",
       "      <td>999</td>\n",
       "      <td>0</td>\n",
       "      <td>nonexistent</td>\n",
       "      <td>1.1</td>\n",
       "      <td>93.994</td>\n",
       "      <td>-36.4</td>\n",
       "      <td>4.857</td>\n",
       "      <td>5191.0</td>\n",
       "      <td>no</td>\n",
       "    </tr>\n",
       "    <tr>\n",
       "      <th>3</th>\n",
       "      <td>40</td>\n",
       "      <td>admin.</td>\n",
       "      <td>married</td>\n",
       "      <td>basic.6y</td>\n",
       "      <td>no</td>\n",
       "      <td>no</td>\n",
       "      <td>no</td>\n",
       "      <td>telephone</td>\n",
       "      <td>may</td>\n",
       "      <td>mon</td>\n",
       "      <td>...</td>\n",
       "      <td>1</td>\n",
       "      <td>999</td>\n",
       "      <td>0</td>\n",
       "      <td>nonexistent</td>\n",
       "      <td>1.1</td>\n",
       "      <td>93.994</td>\n",
       "      <td>-36.4</td>\n",
       "      <td>4.857</td>\n",
       "      <td>5191.0</td>\n",
       "      <td>no</td>\n",
       "    </tr>\n",
       "    <tr>\n",
       "      <th>4</th>\n",
       "      <td>56</td>\n",
       "      <td>services</td>\n",
       "      <td>married</td>\n",
       "      <td>high.school</td>\n",
       "      <td>no</td>\n",
       "      <td>no</td>\n",
       "      <td>yes</td>\n",
       "      <td>telephone</td>\n",
       "      <td>may</td>\n",
       "      <td>mon</td>\n",
       "      <td>...</td>\n",
       "      <td>1</td>\n",
       "      <td>999</td>\n",
       "      <td>0</td>\n",
       "      <td>nonexistent</td>\n",
       "      <td>1.1</td>\n",
       "      <td>93.994</td>\n",
       "      <td>-36.4</td>\n",
       "      <td>4.857</td>\n",
       "      <td>5191.0</td>\n",
       "      <td>no</td>\n",
       "    </tr>\n",
       "  </tbody>\n",
       "</table>\n",
       "<p>5 rows × 21 columns</p>\n",
       "</div>"
      ],
      "text/plain": [
       "   age        job  marital    education default housing loan    contact month  \\\n",
       "0   56  housemaid  married     basic.4y      no      no   no  telephone   may   \n",
       "1   57   services  married  high.school     NaN      no   no  telephone   may   \n",
       "2   37   services  married  high.school      no     yes   no  telephone   may   \n",
       "3   40     admin.  married     basic.6y      no      no   no  telephone   may   \n",
       "4   56   services  married  high.school      no      no  yes  telephone   may   \n",
       "\n",
       "  day_of_week  ...  campaign  pdays  previous     poutcome emp.var.rate  \\\n",
       "0         mon  ...         1    999         0  nonexistent          1.1   \n",
       "1         mon  ...         1    999         0  nonexistent          1.1   \n",
       "2         mon  ...         1    999         0  nonexistent          1.1   \n",
       "3         mon  ...         1    999         0  nonexistent          1.1   \n",
       "4         mon  ...         1    999         0  nonexistent          1.1   \n",
       "\n",
       "   cons.price.idx  cons.conf.idx  euribor3m  nr.employed   y  \n",
       "0          93.994          -36.4      4.857       5191.0  no  \n",
       "1          93.994          -36.4      4.857       5191.0  no  \n",
       "2          93.994          -36.4      4.857       5191.0  no  \n",
       "3          93.994          -36.4      4.857       5191.0  no  \n",
       "4          93.994          -36.4      4.857       5191.0  no  \n",
       "\n",
       "[5 rows x 21 columns]"
      ]
     },
     "execution_count": 11,
     "metadata": {},
     "output_type": "execute_result"
    }
   ],
   "source": [
    "#REEMPLAZO VALORES UNKNOWN\n",
    "bank_df.replace('unknown', np.nan, regex=True,inplace=True)\n",
    "bank_df.head()"
   ]
  },
  {
   "cell_type": "code",
   "execution_count": 12,
   "metadata": {},
   "outputs": [],
   "source": [
    "#REEMPLAZO VALORES 999\n",
    "bank_df.replace(999, np.nan, regex=True,inplace=True)\n",
    "#bank_df.head()"
   ]
  },
  {
   "cell_type": "code",
   "execution_count": 13,
   "metadata": {},
   "outputs": [
    {
     "data": {
      "text/plain": [
       "Text(0, 0.5, 'NAs')"
      ]
     },
     "execution_count": 13,
     "metadata": {},
     "output_type": "execute_result"
    },
    {
     "data": {
      "image/png": "[encoded data removed]",
      "text/plain": [
       "<Figure size 432x288 with 1 Axes>"
      ]
     },
     "metadata": {
      "needs_background": "light"
     },
     "output_type": "display_data"
    }
   ],
   "source": [
    "#CONTEO DE NA\n",
    "bank_df.isna().sum().plot.bar()\n",
    "plt.ylabel(\"NAs\")"
   ]
  },
  {
   "cell_type": "code",
   "execution_count": 14,
   "metadata": {},
   "outputs": [
    {
     "data": {
      "text/plain": [
       "age               0.000000\n",
       "job               0.008012\n",
       "marital           0.001942\n",
       "education         0.042027\n",
       "default           0.208726\n",
       "housing           0.024036\n",
       "loan              0.024036\n",
       "contact           0.000000\n",
       "month             0.000000\n",
       "day_of_week       0.000000\n",
       "duration          0.000049\n",
       "campaign          0.000000\n",
       "pdays             0.963217\n",
       "previous          0.000000\n",
       "poutcome          0.000000\n",
       "emp.var.rate      0.000000\n",
       "cons.price.idx    0.000000\n",
       "cons.conf.idx     0.000000\n",
       "euribor3m         0.000000\n",
       "nr.employed       0.000000\n",
       "y                 0.000000\n",
       "dtype: float64"
      ]
     },
     "execution_count": 14,
     "metadata": {},
     "output_type": "execute_result"
    }
   ],
   "source": [
    "bank_df.isna().mean()"
   ]
  },
  {
   "cell_type": "markdown",
   "metadata": {},
   "source": [
    "# Outlier detection using boxplot"
   ]
  },
  {
   "cell_type": "code",
   "execution_count": 15,
   "metadata": {},
   "outputs": [
    {
     "name": "stderr",
     "output_type": "stream",
     "text": [
      "C:\\Users\\Ecuad\\Anaconda3\\lib\\site-packages\\statsmodels\\tools\\_testing.py:19: FutureWarning: pandas.util.testing is deprecated. Use the functions in the public API at pandas.testing instead.\n",
      "  import pandas.util.testing as tm\n"
     ]
    },
    {
     "data": {
      "image/png": "[encoded data removed]",
      "text/plain": [
       "<Figure size 1440x1440 with 10 Axes>"
      ]
     },
     "metadata": {},
     "output_type": "display_data"
    }
   ],
   "source": [
    "import seaborn as sns\n",
    "sns.set()\n",
    "plt.rc('xtick', labelsize=10)     \n",
    "plt.rc('ytick', labelsize=10)\n",
    "\n",
    "plt.figure(figsize = (20,20))\n",
    "plt.subplot(5, 2, 1)\n",
    "sns.boxplot(data = bank_df, x= 'age', palette = 'colorblind')\n",
    "plt.title('Age boxplot')\n",
    "plt.xlabel('Age')\n",
    "\n",
    "plt.subplot(5, 2, 2)\n",
    "sns.boxplot(data = bank_df, x= 'duration', palette = 'colorblind')\n",
    "plt.title('Duration boxplot')\n",
    "plt.xlabel('Duration')\n",
    "\n",
    "plt.subplot(5, 2, 3)\n",
    "sns.boxplot(data = bank_df, x= 'campaign', palette = 'colorblind')\n",
    "plt.title('Campaign boxplot')\n",
    "plt.xlabel('Campaign')\n",
    "\n",
    "plt.subplot(5, 2, 4)\n",
    "sns.boxplot(data = bank_df, x= 'pdays', palette = 'colorblind')\n",
    "plt.title('pdays boxplot')\n",
    "plt.xlabel('pdays')\n",
    "\n",
    "plt.subplot(5, 2, 5)\n",
    "sns.boxplot(data = bank_df, x= 'previous', palette = 'colorblind')\n",
    "plt.title('Previous boxplot')\n",
    "plt.xlabel('Previous')\n",
    "\n",
    "plt.subplot(5, 2, 6)\n",
    "sns.boxplot(data = bank_df, x= 'emp.var.rate', palette = 'colorblind')\n",
    "plt.title('emp.var.rate boxplot')\n",
    "plt.xlabel('emp.var.rate')\n",
    "\n",
    "plt.subplot(5, 2, 7)\n",
    "sns.boxplot(data = bank_df, x= 'cons.price.idx', palette = 'colorblind')\n",
    "plt.title('cons.price.idx boxplot')\n",
    "plt.xlabel('cons.price.idx')\n",
    "\n",
    "plt.subplot(5, 2, 8)\n",
    "sns.boxplot(data = bank_df, x= 'cons.conf.idx', palette = 'colorblind')\n",
    "plt.title('cons.conf.idx boxplot')\n",
    "plt.xlabel('cons.conf.idx')\n",
    "\n",
    "plt.subplot(5, 2, 9)\n",
    "sns.boxplot(data = bank_df, x= 'euribor3m', palette = 'colorblind')\n",
    "plt.title('euribor3m boxplot')\n",
    "plt.xlabel('euribor3m')\n",
    "\n",
    "plt.subplot(5, 2, 10)\n",
    "sns.boxplot(data = bank_df, x= 'nr.employed', palette = 'colorblind')\n",
    "plt.title('nr.employed boxplot')\n",
    "plt.xlabel('nr.employed')\n",
    "\n",
    "plt.tight_layout()\n",
    "plt.show()"
   ]
  },
  {
   "cell_type": "markdown",
   "metadata": {},
   "source": [
    "According with the plots we can see that the variables that have outlies are,\n",
    "\n",
    "* Age\n",
    "* Duration\n",
    "* cons.conf.idx\n",
    "* Campaign"
   ]
  },
  {
   "cell_type": "markdown",
   "metadata": {},
   "source": [
    "# Outlier detection using Z-Score"
   ]
  },
  {
   "cell_type": "code",
   "execution_count": 41,
   "metadata": {},
   "outputs": [
    {
     "name": "stdout",
     "output_type": "stream",
     "text": [
      "[1.53303429 1.62899323 0.29018564 ... 1.53303429 0.38152696 3.26029527]\n"
     ]
    },
    {
     "data": {
      "text/plain": [
       "(None, (41188, 21), (40819,))"
      ]
     },
     "execution_count": 41,
     "metadata": {},
     "output_type": "execute_result"
    }
   ],
   "source": [
    "#EJEMPLO TODA LA DATA\n",
    "from scipy import stats\n",
    "#Z-SCORE\n",
    "z1=np.abs(stats.zscore(bank_df['age']))\n",
    "\n",
    "#NEW SIZE\n",
    "z_bank_df = bank_df[(z1 < 3) & (-3 < z1)]\n",
    "print(z1),bank_df.shape, z_bank_df['age'].shape"
   ]
  },
  {
   "cell_type": "code",
   "execution_count": 42,
   "metadata": {},
   "outputs": [
    {
     "data": {
      "text/plain": [
       "<matplotlib.axes._subplots.AxesSubplot at 0x220cd8b6688>"
      ]
     },
     "execution_count": 42,
     "metadata": {},
     "output_type": "execute_result"
    },
    {
     "data": {
      "image/png": "[encoded data removed]",
      "text/plain": [
       "<Figure size 432x288 with 1 Axes>"
      ]
     },
     "metadata": {},
     "output_type": "display_data"
    }
   ],
   "source": [
    "#BOXPLOT\n",
    "sns.boxplot(x=z_bank_df['age'])"
   ]
  },
  {
   "cell_type": "code",
   "execution_count": 43,
   "metadata": {},
   "outputs": [
    {
     "name": "stdout",
     "output_type": "stream",
     "text": [
      "[nan nan nan ... nan nan nan]\n"
     ]
    },
    {
     "name": "stderr",
     "output_type": "stream",
     "text": [
      "C:\\Users\\Ecuad\\Anaconda3\\lib\\site-packages\\ipykernel_launcher.py:5: RuntimeWarning: invalid value encountered in less\n",
      "  \"\"\"\n",
      "C:\\Users\\Ecuad\\Anaconda3\\lib\\site-packages\\ipykernel_launcher.py:5: RuntimeWarning: invalid value encountered in greater\n",
      "  \"\"\"\n"
     ]
    },
    {
     "data": {
      "text/plain": [
       "(None, (41188, 21), (0,))"
      ]
     },
     "execution_count": 43,
     "metadata": {},
     "output_type": "execute_result"
    }
   ],
   "source": [
    "#Z-SCORE\n",
    "z1=np.abs(stats.zscore(bank_df['duration']))\n",
    "\n",
    "#NEW SIZE\n",
    "z_bank_df = bank_df[(z1 < 3) & (-3 < z1)]\n",
    "print(z1), bank_df.shape, z_bank_df['duration'].shape"
   ]
  },
  {
   "cell_type": "code",
   "execution_count": 44,
   "metadata": {},
   "outputs": [
    {
     "data": {
      "text/plain": [
       "array([nan, nan, nan, ..., nan, nan, nan])"
      ]
     },
     "execution_count": 44,
     "metadata": {},
     "output_type": "execute_result"
    }
   ],
   "source": [
    "z1"
   ]
  },
  {
   "cell_type": "code",
   "execution_count": 45,
   "metadata": {},
   "outputs": [
    {
     "data": {
      "text/plain": [
       "<matplotlib.axes._subplots.AxesSubplot at 0x220cdaccc08>"
      ]
     },
     "execution_count": 45,
     "metadata": {},
     "output_type": "execute_result"
    },
    {
     "data": {
      "image/png": "[encoded data removed]",
      "text/plain": [
       "<Figure size 432x288 with 1 Axes>"
      ]
     },
     "metadata": {},
     "output_type": "display_data"
    }
   ],
   "source": [
    "#BOXPLOT\n",
    "sns.boxplot(x=z_bank_df['duration'])"
   ]
  },
  {
   "cell_type": "code",
   "execution_count": 46,
   "metadata": {},
   "outputs": [
    {
     "name": "stdout",
     "output_type": "stream",
     "text": [
      "[0.56592197 0.56592197 0.56592197 ... 0.20490853 0.56592197 0.15610492]\n"
     ]
    },
    {
     "data": {
      "text/plain": [
       "(None, (41188, 21), (40319,))"
      ]
     },
     "execution_count": 46,
     "metadata": {},
     "output_type": "execute_result"
    }
   ],
   "source": [
    "#Z-SCORE\n",
    "z1=np.abs(stats.zscore(bank_df['campaign']))\n",
    "\n",
    "#NEW SIZE\n",
    "z_bank_df = bank_df[(z1 < 3) & (-3 < z1)]\n",
    "print(z1), bank_df.shape, z_bank_df['campaign'].shape"
   ]
  },
  {
   "cell_type": "code",
   "execution_count": 47,
   "metadata": {},
   "outputs": [
    {
     "data": {
      "text/plain": [
       "<matplotlib.axes._subplots.AxesSubplot at 0x220cdb23f88>"
      ]
     },
     "execution_count": 47,
     "metadata": {},
     "output_type": "execute_result"
    },
    {
     "data": {
      "image/png": "[encoded data removed]",
      "text/plain": [
       "<Figure size 432x288 with 1 Axes>"
      ]
     },
     "metadata": {},
     "output_type": "display_data"
    }
   ],
   "source": [
    "#BOXPLOT\n",
    "sns.boxplot(x=z_bank_df['campaign'])"
   ]
  },
  {
   "cell_type": "code",
   "execution_count": 48,
   "metadata": {},
   "outputs": [
    {
     "name": "stdout",
     "output_type": "stream",
     "text": [
      "[nan nan nan ... nan nan nan]\n"
     ]
    },
    {
     "name": "stderr",
     "output_type": "stream",
     "text": [
      "C:\\Users\\Ecuad\\Anaconda3\\lib\\site-packages\\ipykernel_launcher.py:5: RuntimeWarning: invalid value encountered in less\n",
      "  \"\"\"\n",
      "C:\\Users\\Ecuad\\Anaconda3\\lib\\site-packages\\ipykernel_launcher.py:5: RuntimeWarning: invalid value encountered in greater\n",
      "  \"\"\"\n"
     ]
    },
    {
     "data": {
      "text/plain": [
       "(None, (41188, 21), (0,))"
      ]
     },
     "execution_count": 48,
     "metadata": {},
     "output_type": "execute_result"
    }
   ],
   "source": [
    "#Z-SCORE\n",
    "z1=np.abs(stats.zscore(bank_df['pdays']))\n",
    "\n",
    "#NEW SIZE\n",
    "z_bank_df = bank_df[(z1 < 3) & (-3 < z1)]\n",
    "print(z1), bank_df.shape, z_bank_df['pdays'].shape"
   ]
  },
  {
   "cell_type": "code",
   "execution_count": 49,
   "metadata": {},
   "outputs": [
    {
     "data": {
      "text/plain": [
       "<matplotlib.axes._subplots.AxesSubplot at 0x220cdb68fc8>"
      ]
     },
     "execution_count": 49,
     "metadata": {},
     "output_type": "execute_result"
    },
    {
     "data": {
      "image/png": "[encoded data removed]",
      "text/plain": [
       "<Figure size 432x288 with 1 Axes>"
      ]
     },
     "metadata": {},
     "output_type": "display_data"
    }
   ],
   "source": [
    "#BOXPLOT\n",
    "sns.boxplot(x=z_bank_df['pdays'])"
   ]
  },
  {
   "cell_type": "code",
   "execution_count": 50,
   "metadata": {},
   "outputs": [
    {
     "name": "stdout",
     "output_type": "stream",
     "text": [
      "[0.34949428 0.34949428 0.34949428 ... 0.34949428 0.34949428 1.67113606]\n"
     ]
    },
    {
     "data": {
      "text/plain": [
       "(None, (41188, 21), (40124,))"
      ]
     },
     "execution_count": 50,
     "metadata": {},
     "output_type": "execute_result"
    }
   ],
   "source": [
    "#Z-SCORE\n",
    "z1=np.abs(stats.zscore(bank_df['previous']))\n",
    "\n",
    "#NEW SIZE\n",
    "z_bank_df = bank_df[(z1 < 3) & (-3 < z1)]\n",
    "print(z1), bank_df.shape, z_bank_df['previous'].shape"
   ]
  },
  {
   "cell_type": "code",
   "execution_count": 51,
   "metadata": {},
   "outputs": [
    {
     "data": {
      "text/plain": [
       "<matplotlib.axes._subplots.AxesSubplot at 0x220cdbc8a88>"
      ]
     },
     "execution_count": 51,
     "metadata": {},
     "output_type": "execute_result"
    },
    {
     "data": {
      "image/png": "[encoded data removed]",
      "text/plain": [
       "<Figure size 432x288 with 1 Axes>"
      ]
     },
     "metadata": {},
     "output_type": "display_data"
    }
   ],
   "source": [
    "#BOXPLOT\n",
    "sns.boxplot(x=z_bank_df['previous'])"
   ]
  },
  {
   "cell_type": "code",
   "execution_count": 52,
   "metadata": {},
   "outputs": [
    {
     "name": "stdout",
     "output_type": "stream",
     "text": [
      "[0.64809227 0.64809227 0.64809227 ... 0.75234254 0.75234254 0.75234254]\n"
     ]
    },
    {
     "data": {
      "text/plain": [
       "(None, (41188, 21), (41188,))"
      ]
     },
     "execution_count": 52,
     "metadata": {},
     "output_type": "execute_result"
    }
   ],
   "source": [
    "#Z-SCORE\n",
    "z1=np.abs(stats.zscore(bank_df['emp.var.rate']))\n",
    "\n",
    "#NEW SIZE\n",
    "z_bank_df = bank_df[(z1 < 3)]\n",
    "print(z1), bank_df.shape, z_bank_df['emp.var.rate'].shape"
   ]
  },
  {
   "cell_type": "code",
   "execution_count": 28,
   "metadata": {},
   "outputs": [
    {
     "data": {
      "text/plain": [
       "<matplotlib.axes._subplots.AxesSubplot at 0x220cd798d48>"
      ]
     },
     "execution_count": 28,
     "metadata": {},
     "output_type": "execute_result"
    },
    {
     "data": {
      "image/png": "[encoded data removed]",
      "text/plain": [
       "<Figure size 432x288 with 1 Axes>"
      ]
     },
     "metadata": {},
     "output_type": "display_data"
    }
   ],
   "source": [
    "#BOXPLOT\n",
    "sns.boxplot(x=z_bank_df['emp.var.rate'])"
   ]
  },
  {
   "cell_type": "code",
   "execution_count": 53,
   "metadata": {},
   "outputs": [
    {
     "name": "stdout",
     "output_type": "stream",
     "text": [
      "[0.72272247 0.72272247 0.72272247 ... 2.05816805 2.05816805 2.05816805]\n"
     ]
    },
    {
     "data": {
      "text/plain": [
       "(None, (41188, 21), (41188,))"
      ]
     },
     "execution_count": 53,
     "metadata": {},
     "output_type": "execute_result"
    }
   ],
   "source": [
    "#Z-SCORE\n",
    "z1=np.abs(stats.zscore(bank_df['cons.price.idx']))\n",
    "\n",
    "#NEW SIZE\n",
    "z_bank_df = bank_df[(z1 < 3) & (-3 < z1)]\n",
    "print(z1), bank_df.shape, z_bank_df['cons.price.idx'].shape"
   ]
  },
  {
   "cell_type": "code",
   "execution_count": 54,
   "metadata": {},
   "outputs": [
    {
     "data": {
      "text/plain": [
       "<matplotlib.axes._subplots.AxesSubplot at 0x220cdc25308>"
      ]
     },
     "execution_count": 54,
     "metadata": {},
     "output_type": "execute_result"
    },
    {
     "data": {
      "image/png": "[encoded data removed]",
      "text/plain": [
       "<Figure size 432x288 with 1 Axes>"
      ]
     },
     "metadata": {},
     "output_type": "display_data"
    }
   ],
   "source": [
    "#BOXPLOT\n",
    "sns.boxplot(x=z_bank_df['cons.price.idx'])"
   ]
  },
  {
   "cell_type": "code",
   "execution_count": 55,
   "metadata": {},
   "outputs": [
    {
     "name": "stdout",
     "output_type": "stream",
     "text": [
      "[0.88644656 0.88644656 0.88644656 ... 2.22495344 2.22495344 2.22495344]\n"
     ]
    },
    {
     "data": {
      "text/plain": [
       "(None, (41188, 21), (41188,))"
      ]
     },
     "execution_count": 55,
     "metadata": {},
     "output_type": "execute_result"
    }
   ],
   "source": [
    "#Z-SCORE\n",
    "z1=np.abs(stats.zscore(bank_df['cons.conf.idx']))\n",
    "\n",
    "#NEW SIZE\n",
    "z_bank_df = bank_df[(z1 < 3) & (-3 < z1)]\n",
    "print(z1), bank_df.shape, z_bank_df['cons.conf.idx'].shape"
   ]
  },
  {
   "cell_type": "code",
   "execution_count": 56,
   "metadata": {},
   "outputs": [
    {
     "data": {
      "text/plain": [
       "<matplotlib.axes._subplots.AxesSubplot at 0x220cdc6df08>"
      ]
     },
     "execution_count": 56,
     "metadata": {},
     "output_type": "execute_result"
    },
    {
     "data": {
      "image/png": "[encoded data removed]",
      "text/plain": [
       "<Figure size 432x288 with 1 Axes>"
      ]
     },
     "metadata": {},
     "output_type": "display_data"
    }
   ],
   "source": [
    "#BOXPLOT\n",
    "sns.boxplot(x=z_bank_df['cons.conf.idx'])"
   ]
  },
  {
   "cell_type": "code",
   "execution_count": 58,
   "metadata": {},
   "outputs": [
    {
     "name": "stdout",
     "output_type": "stream",
     "text": [
      "[0.71245988 0.71245988 0.71245988 ... 1.49518647 1.49518647 1.49518647]\n"
     ]
    },
    {
     "data": {
      "text/plain": [
       "(None, (41188, 21), (41188,))"
      ]
     },
     "execution_count": 58,
     "metadata": {},
     "output_type": "execute_result"
    }
   ],
   "source": [
    "#Z-SCORE\n",
    "z1=np.abs(stats.zscore(bank_df['euribor3m']))\n",
    "\n",
    "#NEW SIZE\n",
    "z_bank_df = bank_df[(z1 < 3) & (-3 < z1)]\n",
    "print(z1), bank_df.shape, z_bank_df['euribor3m'].shape"
   ]
  },
  {
   "cell_type": "code",
   "execution_count": 59,
   "metadata": {},
   "outputs": [
    {
     "data": {
      "text/plain": [
       "<matplotlib.axes._subplots.AxesSubplot at 0x220cdf9b708>"
      ]
     },
     "execution_count": 59,
     "metadata": {},
     "output_type": "execute_result"
    },
    {
     "data": {
      "image/png": "[encoded data removed]",
      "text/plain": [
       "<Figure size 432x288 with 1 Axes>"
      ]
     },
     "metadata": {},
     "output_type": "display_data"
    }
   ],
   "source": [
    "#BOXPLOT\n",
    "sns.boxplot(x=z_bank_df['euribor3m'])"
   ]
  },
  {
   "cell_type": "code",
   "execution_count": 60,
   "metadata": {},
   "outputs": [
    {
     "name": "stdout",
     "output_type": "stream",
     "text": [
      "[0.33167991 0.33167991 0.33167991 ... 2.8156966  2.8156966  2.8156966 ]\n"
     ]
    },
    {
     "data": {
      "text/plain": [
       "(None, (41188, 21), (41188,))"
      ]
     },
     "execution_count": 60,
     "metadata": {},
     "output_type": "execute_result"
    }
   ],
   "source": [
    "#Z-SCORE\n",
    "z1=np.abs(stats.zscore(bank_df['nr.employed']))\n",
    "\n",
    "#NEW SIZE\n",
    "z_bank_df = bank_df[(z1 < 3) & (-3 < z1)]\n",
    "print(z1), bank_df.shape, z_bank_df['nr.employed'].shape"
   ]
  },
  {
   "cell_type": "code",
   "execution_count": 61,
   "metadata": {},
   "outputs": [
    {
     "data": {
      "text/plain": [
       "<matplotlib.axes._subplots.AxesSubplot at 0x220cdfe4d08>"
      ]
     },
     "execution_count": 61,
     "metadata": {},
     "output_type": "execute_result"
    },
    {
     "data": {
      "image/png": "[encoded data removed]",
      "text/plain": [
       "<Figure size 432x288 with 1 Axes>"
      ]
     },
     "metadata": {},
     "output_type": "display_data"
    }
   ],
   "source": [
    "#BOXPLOT\n",
    "sns.boxplot(x=z_bank_df['nr.employed'])"
   ]
  },
  {
   "cell_type": "markdown",
   "metadata": {},
   "source": [
    "According with this analysis the variables that have outliers are,\n",
    "\n",
    "* age\n",
    "* campaing\n",
    "* previous\n",
    "\n",
    "Using the previous analysis (boxplot) the variables that are needed to be fixed are,\n",
    "\n",
    "* age\n",
    "* campaing\n",
    "* duration"
   ]
  },
  {
   "cell_type": "markdown",
   "metadata": {},
   "source": [
    "# Python Function to calculate Information Value and WOE"
   ]
  },
  {
   "cell_type": "code",
   "execution_count": 37,
   "metadata": {},
   "outputs": [],
   "source": [
    "def iv_woe(data, target, bins=10, show_woe=False):\n",
    "    \n",
    "    #Empty Dataframe\n",
    "    newDF,woeDF = pd.DataFrame(), pd.DataFrame()\n",
    "    \n",
    "    #Extract Column Names\n",
    "    cols = data.columns\n",
    "    \n",
    "    #Run WOE and IV on all the independent variables\n",
    "    for ivars in cols[~cols.isin([target])]:\n",
    "        if (data[ivars].dtype.kind in 'bifc') and (len(np.unique(data[ivars]))>10):\n",
    "            binned_x = pd.qcut(data[ivars], bins,  duplicates='drop')\n",
    "            d0 = pd.DataFrame({'x': binned_x, 'y': data[target]})\n",
    "        else:\n",
    "            d0 = pd.DataFrame({'x': data[ivars], 'y': data[target]})\n",
    "        d = d0.groupby(\"x\", as_index=False).agg({\"y\": [\"count\", \"sum\"]})\n",
    "        d.columns = ['Cutoff', 'N', 'Events']\n",
    "        d['% of Events'] = np.maximum(d['Events'], 0.5) / d['Events'].sum()\n",
    "        d['Non-Events'] = d['N'] - d['Events']\n",
    "        d['% of Non-Events'] = np.maximum(d['Non-Events'], 0.5) / d['Non-Events'].sum()\n",
    "        d['WoE'] = np.log(d['% of Events']/d['% of Non-Events'])\n",
    "        d['IV'] = d['WoE'] * (d['% of Events'] - d['% of Non-Events'])\n",
    "        d.insert(loc=0, column='Variable', value=ivars)\n",
    "        print(\"Information value of \" + ivars + \" is \" + str(round(d['IV'].sum(),6)))\n",
    "        temp =pd.DataFrame({\"Variable\" : [ivars], \"IV\" : [d['IV'].sum()]}, columns = [\"Variable\", \"IV\"])\n",
    "        newDF=pd.concat([newDF,temp], axis=0)\n",
    "        woeDF=pd.concat([woeDF,d], axis=0)\n",
    "\n",
    "        #Show WOE Table\n",
    "        if show_woe == True:\n",
    "            print(d)\n",
    "    return newDF, woeDF"
   ]
  },
  {
   "cell_type": "code",
   "execution_count": 38,
   "metadata": {},
   "outputs": [
    {
     "data": {
      "text/plain": [
       "no     36548\n",
       "yes     4640\n",
       "Name: y, dtype: int64"
      ]
     },
     "execution_count": 38,
     "metadata": {},
     "output_type": "execute_result"
    }
   ],
   "source": [
    "#CONVIERTO VARIABLE Y EN BINARIA\n",
    "bank_df['y'].value_counts()"
   ]
  },
  {
   "cell_type": "code",
   "execution_count": 39,
   "metadata": {},
   "outputs": [
    {
     "data": {
      "text/plain": [
       "0    36548\n",
       "1     4640\n",
       "Name: y, dtype: int64"
      ]
     },
     "execution_count": 39,
     "metadata": {},
     "output_type": "execute_result"
    }
   ],
   "source": [
    "aux = bank_df['y'] == 'no'\n",
    "aux1 = bank_df['y'] == 'yes'\n",
    "\n",
    "#CONVIERTO\n",
    "bank_df.at[aux, 'y'] = 0\n",
    "bank_df.at[aux1, 'y'] = 1\n",
    "\n",
    "bank_df['y'].value_counts()"
   ]
  },
  {
   "cell_type": "code",
   "execution_count": 40,
   "metadata": {},
   "outputs": [
    {
     "name": "stdout",
     "output_type": "stream",
     "text": [
      "Information value of age is 0.139397\n",
      "  Variable          Cutoff     N  Events  % of Events  Non-Events  \\\n",
      "0      age  (16.999, 28.0]  4216     736     0.158621        3480   \n",
      "1      age    (28.0, 31.0]  5114     608     0.131034        4506   \n",
      "2      age    (31.0, 33.0]  3679     394     0.084914        3285   \n",
      "3      age    (33.0, 35.0]  3504     351     0.075647        3153   \n",
      "4      age    (35.0, 38.0]  4662     434     0.093534        4228   \n",
      "5      age    (38.0, 41.0]  3871     311     0.067026        3560   \n",
      "6      age    (41.0, 45.0]  4311     348     0.075000        3963   \n",
      "7      age    (45.0, 49.0]  3776     289     0.062284        3487   \n",
      "8      age    (49.0, 55.0]  4473     428     0.092241        4045   \n",
      "9      age    (55.0, 98.0]  3582     741     0.159698        2841   \n",
      "\n",
      "   % of Non-Events       WoE        IV  \n",
      "0         0.095217  0.510355  0.032358  \n",
      "1         0.123290  0.060922  0.000472  \n",
      "2         0.089882 -0.056859  0.000282  \n",
      "3         0.086270 -0.131411  0.001396  \n",
      "4         0.115683 -0.212528  0.004707  \n",
      "5         0.097406 -0.373811  0.011356  \n",
      "6         0.108433 -0.368642  0.012325  \n",
      "7         0.095409 -0.426458  0.014126  \n",
      "8         0.110676 -0.182202  0.003359  \n",
      "9         0.077733  0.720001  0.059015  \n",
      "Information value of job is 0.190233\n",
      "   Variable         Cutoff      N  Events  % of Events  Non-Events  \\\n",
      "0       job         admin.  10422    1352     0.293721        9070   \n",
      "1       job    blue-collar   9254     638     0.138605        8616   \n",
      "2       job   entrepreneur   1456     124     0.026939        1332   \n",
      "3       job      housemaid   1060     106     0.023028         954   \n",
      "4       job     management   2924     328     0.071258        2596   \n",
      "5       job        retired   1720     434     0.094286        1286   \n",
      "6       job  self-employed   1421     149     0.032370        1272   \n",
      "7       job       services   3969     323     0.070172        3646   \n",
      "8       job        student    875     275     0.059744         600   \n",
      "9       job     technician   6743     730     0.158592        6013   \n",
      "10      job     unemployed   1014     144     0.031284         870   \n",
      "\n",
      "    % of Non-Events       WoE        IV  \n",
      "0          0.250172  0.160482  0.006989  \n",
      "1          0.237650 -0.539169  0.053402  \n",
      "2          0.036740 -0.310286  0.003041  \n",
      "3          0.026314 -0.133356  0.000438  \n",
      "4          0.071604 -0.004844  0.000002  \n",
      "5          0.035471  0.977622  0.057499  \n",
      "6          0.035085 -0.080530  0.000219  \n",
      "7          0.100565 -0.359865  0.010938  \n",
      "8          0.016549  1.283710  0.055449  \n",
      "9          0.165853 -0.044765  0.000325  \n",
      "10         0.023997  0.265189  0.001933  \n",
      "Information value of marital is 0.028038\n",
      "  Variable    Cutoff      N  Events  % of Events  Non-Events  % of Non-Events  \\\n",
      "0  marital  divorced   4612     476     0.102852        4136         0.113377   \n",
      "1  marital   married  24928    2532     0.547105       22396         0.613925   \n",
      "2  marital    single  11568    1620     0.350043        9948         0.272697   \n",
      "\n",
      "        WoE        IV  \n",
      "0 -0.097427  0.001025  \n",
      "1 -0.115234  0.007700  \n",
      "2  0.249694  0.019313  \n",
      "Information value of education is 0.046645\n",
      "    Variable               Cutoff      N  Events  % of Events  Non-Events  \\\n",
      "0  education             basic.4y   4176     428     0.097517        3748   \n",
      "1  education             basic.6y   2292     188     0.042834        2104   \n",
      "2  education             basic.9y   6045     473     0.107769        5572   \n",
      "3  education          high.school   9515    1031     0.234905        8484   \n",
      "4  education           illiterate     18       4     0.000911          14   \n",
      "5  education  professional.course   5243     595     0.135566        4648   \n",
      "6  education    university.degree  12168    1670     0.380497       10498   \n",
      "\n",
      "   % of Non-Events       WoE        IV  \n",
      "0         0.106878 -0.091667  0.000858  \n",
      "1         0.059998 -0.336966  0.005783  \n",
      "2         0.158891 -0.388226  0.019847  \n",
      "3         0.241930 -0.029465  0.000207  \n",
      "4         0.000399  0.825425  0.000423  \n",
      "5         0.132542  0.022557  0.000068  \n",
      "6         0.299361  0.239826  0.019458  \n",
      "Information value of default is 2e-06\n",
      "  Variable Cutoff      N  Events  % of Events  Non-Events  % of Non-Events  \\\n",
      "0  default     no  32588    4197     1.000000       28391         0.999894   \n",
      "1  default    yes      3       0     0.000119           3         0.000106   \n",
      "\n",
      "        WoE            IV  \n",
      "0  0.000106  1.116381e-08  \n",
      "1  0.120048  1.617843e-06  \n",
      "Information value of housing is 0.001363\n",
      "  Variable Cutoff      N  Events  % of Events  Non-Events  % of Non-Events  \\\n",
      "0  housing     no  18622    2026     0.446945       16596          0.46533   \n",
      "1  housing    yes  21576    2507     0.553055       19069          0.53467   \n",
      "\n",
      "        WoE        IV  \n",
      "0 -0.040312  0.000741  \n",
      "1  0.033809  0.000622  \n",
      "Information value of loan is 0.000221\n",
      "  Variable Cutoff      N  Events  % of Events  Non-Events  % of Non-Events  \\\n",
      "0     loan     no  33950    3850     0.849327       30100         0.843965   \n",
      "1     loan    yes   6248     683     0.150673        5565         0.156035   \n",
      "\n",
      "        WoE        IV  \n",
      "0  0.006334  0.000034  \n",
      "1 -0.034972  0.000188  \n",
      "Information value of contact is 0.251663\n",
      "  Variable     Cutoff      N  Events  % of Events  Non-Events  \\\n",
      "0  contact   cellular  26144    3853     0.830388       22291   \n",
      "1  contact  telephone  15044     787     0.169612       14257   \n",
      "\n",
      "   % of Non-Events       WoE        IV  \n",
      "0          0.60991  0.308581  0.068035  \n",
      "1          0.39009 -0.832863  0.183628  \n",
      "Information value of month is 0.485117\n",
      "  Variable Cutoff      N  Events  % of Events  Non-Events  % of Non-Events  \\\n",
      "0    month    apr   2632     539     0.116164        2093         0.057267   \n",
      "1    month    aug   6178     655     0.141164        5523         0.151116   \n",
      "2    month    dec    182      89     0.019181          93         0.002545   \n",
      "3    month    jul   7174     649     0.139871        6525         0.178532   \n",
      "4    month    jun   5318     559     0.120474        4759         0.130212   \n",
      "5    month    mar    546     276     0.059483         270         0.007388   \n",
      "6    month    may  13769     886     0.190948       12883         0.352495   \n",
      "7    month    nov   4101     416     0.089655        3685         0.100826   \n",
      "8    month    oct    718     315     0.067888         403         0.011027   \n",
      "9    month    sep    570     256     0.055172         314         0.008591   \n",
      "\n",
      "        WoE        IV  \n",
      "0  0.707274  0.041656  \n",
      "1 -0.068129  0.000678  \n",
      "2  2.019949  0.033605  \n",
      "3 -0.244051  0.009435  \n",
      "4 -0.077731  0.000757  \n",
      "5  2.085891  0.108665  \n",
      "6 -0.613035  0.099034  \n",
      "7 -0.117428  0.001312  \n",
      "8  1.817548  0.103348  \n",
      "9  1.859697  0.086626  \n",
      "Information value of day_of_week is 0.006493\n",
      "      Variable Cutoff     N  Events  % of Events  Non-Events  % of Non-Events  \\\n",
      "0  day_of_week    fri  7827     846     0.182328        6981         0.191009   \n",
      "1  day_of_week    mon  8514     847     0.182543        7667         0.209779   \n",
      "2  day_of_week    thu  8623    1045     0.225216        7578         0.207344   \n",
      "3  day_of_week    tue  8090     953     0.205388        7137         0.195277   \n",
      "4  day_of_week    wed  8134     949     0.204526        7185         0.196591   \n",
      "\n",
      "        WoE        IV  \n",
      "0 -0.046516  0.000404  \n",
      "1 -0.139068  0.003788  \n",
      "2  0.082680  0.001478  \n",
      "3  0.050479  0.000510  \n",
      "4  0.039570  0.000314  \n",
      "Information value of duration is 1.961606\n",
      "   Variable           Cutoff     N  Events  % of Events  Non-Events  \\\n",
      "0  duration   (-0.001, 59.0]  4181       1     0.000216        4180   \n",
      "1  duration     (59.0, 89.0]  4207      43     0.009269        4164   \n",
      "2  duration    (89.0, 116.0]  3987     107     0.023065        3880   \n",
      "3  duration   (116.0, 146.0]  4152     157     0.033844        3995   \n",
      "4  duration   (146.0, 180.0]  4178     256     0.055184        3922   \n",
      "5  duration   (180.0, 222.0]  4096     346     0.074585        3750   \n",
      "6  duration   (222.0, 280.0]  4062     463     0.099806        3599   \n",
      "7  duration   (280.0, 368.0]  4103     554     0.119422        3549   \n",
      "8  duration   (368.0, 551.0]  4118     824     0.177624        3294   \n",
      "9  duration  (551.0, 4918.0]  4102    1888     0.406984        2214   \n",
      "\n",
      "   % of Non-Events       WoE        IV  \n",
      "0         0.114373 -6.273966  0.716222  \n",
      "1         0.113935 -2.508931  0.262600  \n",
      "2         0.106165 -1.526661  0.126865  \n",
      "3         0.109311 -1.172453  0.088482  \n",
      "4         0.107314 -0.665079  0.034670  \n",
      "5         0.102608 -0.318972  0.008938  \n",
      "6         0.098476  0.013416  0.000018  \n",
      "7         0.097108  0.206844  0.004616  \n",
      "8         0.090131  0.678413  0.059357  \n",
      "9         0.060580  1.904818  0.659838  \n",
      "Information value of campaign is 0.054246\n",
      "   Variable        Cutoff      N  Events  % of Events  Non-Events  \\\n",
      "0  campaign  (0.999, 2.0]  28212    3511     0.756681       24701   \n",
      "1  campaign    (2.0, 3.0]   5341     574     0.123707        4767   \n",
      "2  campaign    (3.0, 5.0]   4250     369     0.079526        3881   \n",
      "3  campaign   (5.0, 56.0]   3385     186     0.040086        3199   \n",
      "\n",
      "   % of Non-Events       WoE        IV  \n",
      "0         0.675851  0.112969  0.009131  \n",
      "1         0.130431 -0.052931  0.000356  \n",
      "2         0.106189 -0.289139  0.007709  \n",
      "3         0.087529 -0.780935  0.037050  \n",
      "Information value of pdays is 0.061162\n",
      "  Variable         Cutoff    N  Events  % of Events  Non-Events  \\\n",
      "0    pdays  (-0.001, 3.0]  541     353     0.365047         188   \n",
      "1    pdays     (3.0, 4.0]  118      63     0.065150          55   \n",
      "2    pdays     (4.0, 6.0]  458     318     0.328852         140   \n",
      "3    pdays     (6.0, 9.0]  142      87     0.089969          55   \n",
      "4    pdays    (9.0, 12.0]  138      71     0.073423          67   \n",
      "5    pdays   (12.0, 27.0]  118      75     0.077559          43   \n",
      "\n",
      "   % of Non-Events       WoE        IV  \n",
      "0         0.343066  0.062103  0.001365  \n",
      "1         0.100365 -0.432122  0.015217  \n",
      "2         0.255474  0.252486  0.018527  \n",
      "3         0.100365 -0.109348  0.001137  \n",
      "4         0.122263 -0.509936  0.024905  \n",
      "5         0.078467 -0.011635  0.000011  \n",
      "Information value of previous is 0.3505\n",
      "   Variable  Cutoff      N  Events  % of Events  Non-Events  % of Non-Events  \\\n",
      "0  previous       0  35563    3141     0.676940       32422         0.887107   \n",
      "1  previous       1   4561     967     0.208405        3594         0.098336   \n",
      "2  previous       2    754     350     0.075431         404         0.011054   \n",
      "3  previous       3    216     128     0.027586          88         0.002408   \n",
      "4  previous       4     70      38     0.008190          32         0.000876   \n",
      "5  previous       5     18      13     0.002802           5         0.000137   \n",
      "6  previous       6      5       3     0.000647           2         0.000055   \n",
      "7  previous       7      1       0     0.000108           1         0.000027   \n",
      "\n",
      "        WoE        IV  \n",
      "0 -0.270384  0.056826  \n",
      "1  0.751090  0.082671  \n",
      "2  1.920430  0.123632  \n",
      "3  2.438606  0.061400  \n",
      "4  2.235762  0.016353  \n",
      "5  3.019424  0.008047  \n",
      "6  2.469377  0.001461  \n",
      "7  1.370765  0.000110  \n",
      "Information value of poutcome is 0.547671\n",
      "   Variable       Cutoff      N  Events  % of Events  Non-Events  \\\n",
      "0  poutcome      failure   4252     605     0.130388        3647   \n",
      "1  poutcome  nonexistent  35563    3141     0.676940       32422   \n",
      "2  poutcome      success   1373     894     0.192672         479   \n",
      "\n",
      "   % of Non-Events       WoE        IV  \n",
      "0         0.099787  0.267480  0.008185  \n",
      "1         0.887107 -0.270384  0.056826  \n",
      "2         0.013106  2.687917  0.482660  \n",
      "Information value of emp.var.rate is 1.06975\n",
      "       Variable  Cutoff      N  Events  % of Events  Non-Events  \\\n",
      "0  emp.var.rate    -3.4   1071     454     0.097845         617   \n",
      "1  emp.var.rate    -3.0    172      88     0.018966          84   \n",
      "2  emp.var.rate    -2.9   1663     594     0.128017        1069   \n",
      "3  emp.var.rate    -1.8   9184    1461     0.314871        7723   \n",
      "4  emp.var.rate    -1.7    773     403     0.086853         370   \n",
      "5  emp.var.rate    -1.1    635     301     0.064871         334   \n",
      "6  emp.var.rate    -0.2     10       1     0.000216           9   \n",
      "7  emp.var.rate    -0.1   3683     232     0.050000        3451   \n",
      "8  emp.var.rate     1.1   7763     240     0.051724        7523   \n",
      "9  emp.var.rate     1.4  16234     866     0.186638       15368   \n",
      "\n",
      "   % of Non-Events       WoE        IV  \n",
      "0         0.016882  1.757140  0.142263  \n",
      "1         0.002298  2.110432  0.035175  \n",
      "2         0.029249  1.476313  0.145812  \n",
      "3         0.211311  0.398830  0.041303  \n",
      "4         0.010124  2.149346  0.164919  \n",
      "5         0.009139  1.959881  0.109228  \n",
      "6         0.000246 -0.133312  0.000004  \n",
      "7         0.094424 -0.635770  0.028243  \n",
      "8         0.205839 -1.381169  0.212859  \n",
      "9         0.420488 -0.812246  0.189944  \n",
      "Information value of cons.price.idx is 0.440236\n",
      "         Variable                       Cutoff     N  Events  % of Events  \\\n",
      "0  cons.price.idx  (92.19999999999999, 92.893]  8277    1523     0.328233   \n",
      "1  cons.price.idx               (92.893, 93.2]  6789     896     0.193103   \n",
      "2  cons.price.idx               (93.2, 93.444]  5439     421     0.090733   \n",
      "3  cons.price.idx             (93.444, 93.749]   174      97     0.020905   \n",
      "4  cons.price.idx             (93.749, 93.918]  6964     571     0.123060   \n",
      "5  cons.price.idx             (93.918, 93.994]  7763     240     0.051724   \n",
      "6  cons.price.idx             (93.994, 94.465]  5450     741     0.159698   \n",
      "7  cons.price.idx             (94.465, 94.767]   332     151     0.032543   \n",
      "\n",
      "   Non-Events  % of Non-Events       WoE        IV  \n",
      "0        6754         0.184798  0.574459  0.082397  \n",
      "1        5893         0.161240  0.180332  0.005746  \n",
      "2        5018         0.137299 -0.414242  0.019290  \n",
      "3          77         0.002107  2.294818  0.043139  \n",
      "4        6393         0.174921 -0.351658  0.018237  \n",
      "5        7523         0.205839 -1.381169  0.212859  \n",
      "6        4709         0.128844  0.214682  0.006624  \n",
      "7         181         0.004952  1.882695  0.051945  \n"
     ]
    },
    {
     "name": "stdout",
     "output_type": "stream",
     "text": [
      "Information value of cons.conf.idx is 0.86074\n",
      "        Variable                        Cutoff     N  Events  % of Events  \\\n",
      "0  cons.conf.idx  (-50.800999999999995, -46.2]  8866    1243     0.267888   \n",
      "1  cons.conf.idx                (-46.2, -42.7]  6695     408     0.087931   \n",
      "2  cons.conf.idx                (-42.7, -42.0]  3616     190     0.040948   \n",
      "3  cons.conf.idx                (-42.0, -41.8]  4374     188     0.040517   \n",
      "4  cons.conf.idx                (-41.8, -40.0]  1305     604     0.130172   \n",
      "5  cons.conf.idx                (-40.0, -36.4]  8528     617     0.132974   \n",
      "6  cons.conf.idx                (-36.4, -36.1]  5175     271     0.058405   \n",
      "7  cons.conf.idx                (-36.1, -26.9]  2629    1119     0.241164   \n",
      "\n",
      "   Non-Events  % of Non-Events       WoE        IV  \n",
      "0        7623         0.208575  0.250270  0.014844  \n",
      "1        6287         0.172020 -0.671060  0.056429  \n",
      "2        3426         0.093740 -0.828213  0.043723  \n",
      "3        4186         0.114534 -1.039147  0.076915  \n",
      "4         701         0.019180  1.914978  0.212548  \n",
      "5        7911         0.216455 -0.487228  0.040674  \n",
      "6        4904         0.134180 -0.831776  0.063027  \n",
      "7        1510         0.041316  1.764238  0.352580  \n",
      "Information value of euribor3m is 1.046047\n",
      "    Variable          Cutoff     N  Events  % of Events  Non-Events  \\\n",
      "0  euribor3m  (0.633, 1.046]  4128    1895     0.408405        2233   \n",
      "1  euribor3m  (1.046, 1.299]  4508     666     0.143534        3842   \n",
      "2  euribor3m   (1.299, 1.41]  3926     494     0.106466        3432   \n",
      "3  euribor3m   (1.41, 4.191]  4504     415     0.089440        4089   \n",
      "4  euribor3m  (4.191, 4.857]  4989     156     0.033621        4833   \n",
      "5  euribor3m  (4.857, 4.864]  3457     150     0.032328        3307   \n",
      "6  euribor3m   (4.864, 4.96]  3983     235     0.050647        3748   \n",
      "7  euribor3m   (4.96, 4.962]  4515     234     0.050431        4281   \n",
      "8  euribor3m  (4.962, 4.964]  3662     181     0.039009        3481   \n",
      "9  euribor3m  (4.964, 5.045]  3516     214     0.046121        3302   \n",
      "\n",
      "   % of Non-Events       WoE        IV  \n",
      "0         0.061098  1.899785  0.659809  \n",
      "1         0.105122  0.311453  0.011964  \n",
      "2         0.093904  0.125549  0.001577  \n",
      "3         0.111880 -0.223865  0.005024  \n",
      "4         0.132237 -1.369455  0.135051  \n",
      "5         0.090484 -1.029249  0.059857  \n",
      "6         0.102550 -0.705480  0.036617  \n",
      "7         0.117134 -0.842709  0.056211  \n",
      "8         0.095245 -0.892666  0.050200  \n",
      "9         0.090347 -0.672396  0.029738  \n",
      "Information value of nr.employed is 1.173723\n",
      "      Variable              Cutoff      N  Events  % of Events  Non-Events  \\\n",
      "0  nr.employed  (4963.599, 5076.2]   4964    2209     0.476078        2755   \n",
      "1  nr.employed    (5076.2, 5099.1]   8534    1092     0.235345        7442   \n",
      "2  nr.employed    (5099.1, 5191.0]   7773     241     0.051940        7532   \n",
      "3  nr.employed    (5191.0, 5195.8]   3683     232     0.050000        3451   \n",
      "4  nr.employed    (5195.8, 5228.1]  16234     866     0.186638       15368   \n",
      "\n",
      "   % of Non-Events       WoE        IV  \n",
      "0         0.075380  1.843035  0.738499  \n",
      "1         0.203623  0.144783  0.004593  \n",
      "2         0.206085 -1.378207  0.212444  \n",
      "3         0.094424 -0.635770  0.028243  \n",
      "4         0.420488 -0.812246  0.189944  \n",
      "         Variable        IV\n",
      "0             age  0.139397\n",
      "0             job  0.190233\n",
      "0         marital  0.028038\n",
      "0       education  0.046645\n",
      "0         default  0.000002\n",
      "0         housing  0.001363\n",
      "0            loan  0.000221\n",
      "0         contact  0.251663\n",
      "0           month  0.485117\n",
      "0     day_of_week  0.006493\n",
      "0        duration  1.961606\n",
      "0        campaign  0.054246\n",
      "0           pdays  0.061162\n",
      "0        previous  0.350500\n",
      "0        poutcome  0.547671\n",
      "0    emp.var.rate  1.069750\n",
      "0  cons.price.idx  0.440236\n",
      "0   cons.conf.idx  0.860740\n",
      "0       euribor3m  1.046047\n",
      "0     nr.employed  1.173723\n",
      "       Variable              Cutoff      N  Events  % of Events  Non-Events  \\\n",
      "0           age      (16.999, 28.0]   4216     736     0.158621        3480   \n",
      "1           age        (28.0, 31.0]   5114     608     0.131034        4506   \n",
      "2           age        (31.0, 33.0]   3679     394     0.084914        3285   \n",
      "3           age        (33.0, 35.0]   3504     351     0.075647        3153   \n",
      "4           age        (35.0, 38.0]   4662     434     0.093534        4228   \n",
      "..          ...                 ...    ...     ...          ...         ...   \n",
      "0   nr.employed  (4963.599, 5076.2]   4964    2209     0.476078        2755   \n",
      "1   nr.employed    (5076.2, 5099.1]   8534    1092     0.235345        7442   \n",
      "2   nr.employed    (5099.1, 5191.0]   7773     241     0.051940        7532   \n",
      "3   nr.employed    (5191.0, 5195.8]   3683     232     0.050000        3451   \n",
      "4   nr.employed    (5195.8, 5228.1]  16234     866     0.186638       15368   \n",
      "\n",
      "    % of Non-Events       WoE        IV  \n",
      "0          0.095217  0.510355  0.032358  \n",
      "1          0.123290  0.060922  0.000472  \n",
      "2          0.089882 -0.056859  0.000282  \n",
      "3          0.086270 -0.131411  0.001396  \n",
      "4          0.115683 -0.212528  0.004707  \n",
      "..              ...       ...       ...  \n",
      "0          0.075380  1.843035  0.738499  \n",
      "1          0.203623  0.144783  0.004593  \n",
      "2          0.206085 -1.378207  0.212444  \n",
      "3          0.094424 -0.635770  0.028243  \n",
      "4          0.420488 -0.812246  0.189944  \n",
      "\n",
      "[126 rows x 9 columns]\n"
     ]
    }
   ],
   "source": [
    "#APLICO FUNCION\n",
    "iv, woe = iv_woe(data = bank_df, target = 'y', bins=10, show_woe = True)\n",
    "print(iv)\n",
    "#print(woe)"
   ]
  },
  {
   "cell_type": "code",
   "execution_count": 62,
   "metadata": {},
   "outputs": [
    {
     "name": "stdout",
     "output_type": "stream",
     "text": [
      "         Variable        IV\n",
      "0             age  0.139397\n",
      "0             job  0.190233\n",
      "0         marital  0.028038\n",
      "0       education  0.046645\n",
      "0         default  0.000002\n",
      "0         housing  0.001363\n",
      "0            loan  0.000221\n",
      "0         contact  0.251663\n",
      "0           month  0.485117\n",
      "0     day_of_week  0.006493\n",
      "0        duration  1.961606\n",
      "0        campaign  0.054246\n",
      "0           pdays  0.061162\n",
      "0        previous  0.350500\n",
      "0        poutcome  0.547671\n",
      "0    emp.var.rate  1.069750\n",
      "0  cons.price.idx  0.440236\n",
      "0   cons.conf.idx  0.860740\n",
      "0       euribor3m  1.046047\n",
      "0     nr.employed  1.173723\n"
     ]
    }
   ],
   "source": [
    "print(iv)"
   ]
  },
  {
   "cell_type": "markdown",
   "metadata": {},
   "source": [
    "Accoding with this table,\n",
    "\n",
    "* There are six variables with a suspicious power prediction: nr.employed, euribor3m, cons.conf.idx, emp.var.rate, poutcome and duration.\n",
    "\n",
    "* There are three variables with a strong power prediction: month, previous and cons.price.idx.\n",
    "\n",
    "* There are three variables with a medium power prediction: age, job and contact.\n",
    "\n",
    "* There are four variables with a weak power prediction: marital, education, campaign and pdays.\n",
    "\n",
    "* There are four variables with no power prediction: default, housing, loan and day_of_week."
   ]
  },
  {
   "cell_type": "markdown",
   "metadata": {},
   "source": [
    "# REPLACE CONTINIOUS VALUES WITH WOE VALUES"
   ]
  },
  {
   "cell_type": "markdown",
   "metadata": {},
   "source": [
    "The variables that will be treated using WOE values are,\n",
    "\n",
    "* age\n",
    "* campaing\n",
    "* duration"
   ]
  },
  {
   "cell_type": "code",
   "execution_count": 69,
   "metadata": {},
   "outputs": [
    {
     "data": {
      "text/plain": [
       "(       age\n",
       " 0       56\n",
       " 1       57\n",
       " 2       37\n",
       " 3       40\n",
       " 4       56\n",
       " ...    ...\n",
       " 41183   73\n",
       " 41184   46\n",
       " 41185   56\n",
       " 41186   44\n",
       " 41187   74\n",
       " \n",
       " [41188 rows x 1 columns], Index(['age'], dtype='object'))"
      ]
     },
     "execution_count": 69,
     "metadata": {},
     "output_type": "execute_result"
    }
   ],
   "source": [
    "# AGE\n",
    "#CREATE A DATAFRAME\n",
    "age= pd.DataFrame(bank_df['age'])\n",
    "age.columns = ['age']\n",
    "age, age.columns"
   ]
  },
  {
   "cell_type": "code",
   "execution_count": 70,
   "metadata": {},
   "outputs": [
    {
     "data": {
      "text/html": [
       "<div>\n",
       "<style scoped>\n",
       "    .dataframe tbody tr th:only-of-type {\n",
       "        vertical-align: middle;\n",
       "    }\n",
       "\n",
       "    .dataframe tbody tr th {\n",
       "        vertical-align: top;\n",
       "    }\n",
       "\n",
       "    .dataframe thead th {\n",
       "        text-align: right;\n",
       "    }\n",
       "</style>\n",
       "<table border=\"1\" class=\"dataframe\">\n",
       "  <thead>\n",
       "    <tr style=\"text-align: right;\">\n",
       "      <th></th>\n",
       "      <th>Variable</th>\n",
       "      <th>Cutoff</th>\n",
       "      <th>N</th>\n",
       "      <th>Events</th>\n",
       "      <th>% of Events</th>\n",
       "      <th>Non-Events</th>\n",
       "      <th>% of Non-Events</th>\n",
       "      <th>WoE</th>\n",
       "      <th>IV</th>\n",
       "    </tr>\n",
       "  </thead>\n",
       "  <tbody>\n",
       "    <tr>\n",
       "      <th>0</th>\n",
       "      <td>age</td>\n",
       "      <td>(16.999, 28.0]</td>\n",
       "      <td>4216</td>\n",
       "      <td>736</td>\n",
       "      <td>0.158621</td>\n",
       "      <td>3480</td>\n",
       "      <td>0.095217</td>\n",
       "      <td>0.510355</td>\n",
       "      <td>0.032358</td>\n",
       "    </tr>\n",
       "    <tr>\n",
       "      <th>1</th>\n",
       "      <td>age</td>\n",
       "      <td>(28.0, 31.0]</td>\n",
       "      <td>5114</td>\n",
       "      <td>608</td>\n",
       "      <td>0.131034</td>\n",
       "      <td>4506</td>\n",
       "      <td>0.123290</td>\n",
       "      <td>0.060922</td>\n",
       "      <td>0.000472</td>\n",
       "    </tr>\n",
       "    <tr>\n",
       "      <th>2</th>\n",
       "      <td>age</td>\n",
       "      <td>(31.0, 33.0]</td>\n",
       "      <td>3679</td>\n",
       "      <td>394</td>\n",
       "      <td>0.084914</td>\n",
       "      <td>3285</td>\n",
       "      <td>0.089882</td>\n",
       "      <td>-0.056859</td>\n",
       "      <td>0.000282</td>\n",
       "    </tr>\n",
       "    <tr>\n",
       "      <th>3</th>\n",
       "      <td>age</td>\n",
       "      <td>(33.0, 35.0]</td>\n",
       "      <td>3504</td>\n",
       "      <td>351</td>\n",
       "      <td>0.075647</td>\n",
       "      <td>3153</td>\n",
       "      <td>0.086270</td>\n",
       "      <td>-0.131411</td>\n",
       "      <td>0.001396</td>\n",
       "    </tr>\n",
       "    <tr>\n",
       "      <th>4</th>\n",
       "      <td>age</td>\n",
       "      <td>(35.0, 38.0]</td>\n",
       "      <td>4662</td>\n",
       "      <td>434</td>\n",
       "      <td>0.093534</td>\n",
       "      <td>4228</td>\n",
       "      <td>0.115683</td>\n",
       "      <td>-0.212528</td>\n",
       "      <td>0.004707</td>\n",
       "    </tr>\n",
       "    <tr>\n",
       "      <th>5</th>\n",
       "      <td>age</td>\n",
       "      <td>(38.0, 41.0]</td>\n",
       "      <td>3871</td>\n",
       "      <td>311</td>\n",
       "      <td>0.067026</td>\n",
       "      <td>3560</td>\n",
       "      <td>0.097406</td>\n",
       "      <td>-0.373811</td>\n",
       "      <td>0.011356</td>\n",
       "    </tr>\n",
       "    <tr>\n",
       "      <th>6</th>\n",
       "      <td>age</td>\n",
       "      <td>(41.0, 45.0]</td>\n",
       "      <td>4311</td>\n",
       "      <td>348</td>\n",
       "      <td>0.075000</td>\n",
       "      <td>3963</td>\n",
       "      <td>0.108433</td>\n",
       "      <td>-0.368642</td>\n",
       "      <td>0.012325</td>\n",
       "    </tr>\n",
       "    <tr>\n",
       "      <th>7</th>\n",
       "      <td>age</td>\n",
       "      <td>(45.0, 49.0]</td>\n",
       "      <td>3776</td>\n",
       "      <td>289</td>\n",
       "      <td>0.062284</td>\n",
       "      <td>3487</td>\n",
       "      <td>0.095409</td>\n",
       "      <td>-0.426458</td>\n",
       "      <td>0.014126</td>\n",
       "    </tr>\n",
       "    <tr>\n",
       "      <th>8</th>\n",
       "      <td>age</td>\n",
       "      <td>(49.0, 55.0]</td>\n",
       "      <td>4473</td>\n",
       "      <td>428</td>\n",
       "      <td>0.092241</td>\n",
       "      <td>4045</td>\n",
       "      <td>0.110676</td>\n",
       "      <td>-0.182202</td>\n",
       "      <td>0.003359</td>\n",
       "    </tr>\n",
       "    <tr>\n",
       "      <th>9</th>\n",
       "      <td>age</td>\n",
       "      <td>(55.0, 98.0]</td>\n",
       "      <td>3582</td>\n",
       "      <td>741</td>\n",
       "      <td>0.159698</td>\n",
       "      <td>2841</td>\n",
       "      <td>0.077733</td>\n",
       "      <td>0.720001</td>\n",
       "      <td>0.059015</td>\n",
       "    </tr>\n",
       "  </tbody>\n",
       "</table>\n",
       "</div>"
      ],
      "text/plain": [
       "  Variable          Cutoff     N  Events  % of Events  Non-Events  \\\n",
       "0      age  (16.999, 28.0]  4216     736     0.158621        3480   \n",
       "1      age    (28.0, 31.0]  5114     608     0.131034        4506   \n",
       "2      age    (31.0, 33.0]  3679     394     0.084914        3285   \n",
       "3      age    (33.0, 35.0]  3504     351     0.075647        3153   \n",
       "4      age    (35.0, 38.0]  4662     434     0.093534        4228   \n",
       "5      age    (38.0, 41.0]  3871     311     0.067026        3560   \n",
       "6      age    (41.0, 45.0]  4311     348     0.075000        3963   \n",
       "7      age    (45.0, 49.0]  3776     289     0.062284        3487   \n",
       "8      age    (49.0, 55.0]  4473     428     0.092241        4045   \n",
       "9      age    (55.0, 98.0]  3582     741     0.159698        2841   \n",
       "\n",
       "   % of Non-Events       WoE        IV  \n",
       "0         0.095217  0.510355  0.032358  \n",
       "1         0.123290  0.060922  0.000472  \n",
       "2         0.089882 -0.056859  0.000282  \n",
       "3         0.086270 -0.131411  0.001396  \n",
       "4         0.115683 -0.212528  0.004707  \n",
       "5         0.097406 -0.373811  0.011356  \n",
       "6         0.108433 -0.368642  0.012325  \n",
       "7         0.095409 -0.426458  0.014126  \n",
       "8         0.110676 -0.182202  0.003359  \n",
       "9         0.077733  0.720001  0.059015  "
      ]
     },
     "execution_count": 70,
     "metadata": {},
     "output_type": "execute_result"
    }
   ],
   "source": [
    "age_table = woe[:10]\n",
    "age_table"
   ]
  },
  {
   "cell_type": "code",
   "execution_count": 71,
   "metadata": {},
   "outputs": [
    {
     "data": {
      "text/html": [
       "<div>\n",
       "<style scoped>\n",
       "    .dataframe tbody tr th:only-of-type {\n",
       "        vertical-align: middle;\n",
       "    }\n",
       "\n",
       "    .dataframe tbody tr th {\n",
       "        vertical-align: top;\n",
       "    }\n",
       "\n",
       "    .dataframe thead th {\n",
       "        text-align: right;\n",
       "    }\n",
       "</style>\n",
       "<table border=\"1\" class=\"dataframe\">\n",
       "  <thead>\n",
       "    <tr style=\"text-align: right;\">\n",
       "      <th></th>\n",
       "      <th>intervals</th>\n",
       "      <th>left</th>\n",
       "      <th>right</th>\n",
       "      <th>WOE</th>\n",
       "    </tr>\n",
       "  </thead>\n",
       "  <tbody>\n",
       "    <tr>\n",
       "      <th>0</th>\n",
       "      <td>(16.999, 28.0]</td>\n",
       "      <td>16.999</td>\n",
       "      <td>28.0</td>\n",
       "      <td>0.510355</td>\n",
       "    </tr>\n",
       "    <tr>\n",
       "      <th>1</th>\n",
       "      <td>(28.0, 31.0]</td>\n",
       "      <td>28.000</td>\n",
       "      <td>31.0</td>\n",
       "      <td>0.060922</td>\n",
       "    </tr>\n",
       "    <tr>\n",
       "      <th>2</th>\n",
       "      <td>(31.0, 33.0]</td>\n",
       "      <td>31.000</td>\n",
       "      <td>33.0</td>\n",
       "      <td>-0.056859</td>\n",
       "    </tr>\n",
       "    <tr>\n",
       "      <th>3</th>\n",
       "      <td>(33.0, 35.0]</td>\n",
       "      <td>33.000</td>\n",
       "      <td>35.0</td>\n",
       "      <td>-0.131411</td>\n",
       "    </tr>\n",
       "    <tr>\n",
       "      <th>4</th>\n",
       "      <td>(35.0, 38.0]</td>\n",
       "      <td>35.000</td>\n",
       "      <td>38.0</td>\n",
       "      <td>-0.212528</td>\n",
       "    </tr>\n",
       "    <tr>\n",
       "      <th>5</th>\n",
       "      <td>(38.0, 41.0]</td>\n",
       "      <td>38.000</td>\n",
       "      <td>41.0</td>\n",
       "      <td>-0.373811</td>\n",
       "    </tr>\n",
       "    <tr>\n",
       "      <th>6</th>\n",
       "      <td>(41.0, 45.0]</td>\n",
       "      <td>41.000</td>\n",
       "      <td>45.0</td>\n",
       "      <td>-0.368642</td>\n",
       "    </tr>\n",
       "    <tr>\n",
       "      <th>7</th>\n",
       "      <td>(45.0, 49.0]</td>\n",
       "      <td>45.000</td>\n",
       "      <td>49.0</td>\n",
       "      <td>-0.426458</td>\n",
       "    </tr>\n",
       "    <tr>\n",
       "      <th>8</th>\n",
       "      <td>(49.0, 55.0]</td>\n",
       "      <td>49.000</td>\n",
       "      <td>55.0</td>\n",
       "      <td>-0.182202</td>\n",
       "    </tr>\n",
       "    <tr>\n",
       "      <th>9</th>\n",
       "      <td>(55.0, 98.0]</td>\n",
       "      <td>55.000</td>\n",
       "      <td>98.0</td>\n",
       "      <td>0.720001</td>\n",
       "    </tr>\n",
       "  </tbody>\n",
       "</table>\n",
       "</div>"
      ],
      "text/plain": [
       "        intervals    left  right       WOE\n",
       "0  (16.999, 28.0]  16.999   28.0  0.510355\n",
       "1    (28.0, 31.0]  28.000   31.0  0.060922\n",
       "2    (31.0, 33.0]  31.000   33.0 -0.056859\n",
       "3    (33.0, 35.0]  33.000   35.0 -0.131411\n",
       "4    (35.0, 38.0]  35.000   38.0 -0.212528\n",
       "5    (38.0, 41.0]  38.000   41.0 -0.373811\n",
       "6    (41.0, 45.0]  41.000   45.0 -0.368642\n",
       "7    (45.0, 49.0]  45.000   49.0 -0.426458\n",
       "8    (49.0, 55.0]  49.000   55.0 -0.182202\n",
       "9    (55.0, 98.0]  55.000   98.0  0.720001"
      ]
     },
     "execution_count": 71,
     "metadata": {},
     "output_type": "execute_result"
    }
   ],
   "source": [
    "#CREATE STRUCTURE TO EXTRACT LIMITS\n",
    "idx = pd.IntervalIndex(age_table['Cutoff'])\n",
    "\n",
    "#INTERVALS , LIMITS AND WOE VALUES\n",
    "inter = pd.DataFrame({'intervals': idx, 'left': idx.left, 'right': idx.right})\n",
    "inter['WOE'] = age_table['WoE']\n",
    "inter"
   ]
  },
  {
   "cell_type": "code",
   "execution_count": 72,
   "metadata": {},
   "outputs": [],
   "source": [
    "#CREATE AUXILIARY VARIABLES\n",
    "inter['left'][0],inter['right'][0]\n",
    "\n",
    "aux1 = (inter['left'][0] <=  age) & (age < inter['right'][0])\n",
    "aux2 = (inter['left'][1] <=  age) & (age < inter['right'][1])\n",
    "aux3 = (inter['left'][2] <=  age) & (age < inter['right'][2])\n",
    "aux4 = (inter['left'][3] <=  age) & (age < inter['right'][3])\n",
    "aux5 = (inter['left'][4] <=  age) & (age < inter['right'][4])\n",
    "aux6 = (inter['left'][5] <=  age) & (age < inter['right'][5])\n",
    "aux7 = (inter['left'][6] <=  age) & (age < inter['right'][6])\n",
    "aux8 = (inter['left'][7] <=  age) & (age < inter['right'][7])\n",
    "aux9 = (inter['left'][8] <=  age) & (age < inter['right'][8])\n",
    "aux10 = (inter['left'][9] <=  age) & (age <= inter['right'][9])"
   ]
  },
  {
   "cell_type": "code",
   "execution_count": 74,
   "metadata": {},
   "outputs": [
    {
     "data": {
      "text/plain": [
       "age      \n",
       "-0.212528    5014\n",
       "-0.182202    4664\n",
       "-0.368642    4486\n",
       " 0.720001    4230\n",
       " 0.060922    4168\n",
       "-0.426458    4040\n",
       "-0.373811    4000\n",
       "-0.056859    3793\n",
       "-0.131411    3578\n",
       " 0.510355    3215\n",
       "dtype: int64"
      ]
     },
     "execution_count": 74,
     "metadata": {},
     "output_type": "execute_result"
    }
   ],
   "source": [
    "#REPLACE VALUES WITH WOE\n",
    "age[aux1] = inter['WOE'][0]\n",
    "age[aux2] = inter['WOE'][1]\n",
    "age[aux3] = inter['WOE'][2]\n",
    "age[aux4] = inter['WOE'][3]\n",
    "age[aux5] = inter['WOE'][4]\n",
    "age[aux6] = inter['WOE'][5]\n",
    "age[aux7] = inter['WOE'][6]\n",
    "age[aux8] = inter['WOE'][7]\n",
    "age[aux9] = inter['WOE'][8]\n",
    "age[aux10] = inter['WOE'][9]\n",
    "\n",
    "age.value_counts()"
   ]
  },
  {
   "cell_type": "code",
   "execution_count": 75,
   "metadata": {},
   "outputs": [
    {
     "data": {
      "text/plain": [
       "-0.212528    5014\n",
       "-0.182202    4664\n",
       "-0.368642    4486\n",
       " 0.720001    4230\n",
       " 0.060922    4168\n",
       "-0.426458    4040\n",
       "-0.373811    4000\n",
       "-0.056859    3793\n",
       "-0.131411    3578\n",
       " 0.510355    3215\n",
       "Name: age, dtype: int64"
      ]
     },
     "execution_count": 75,
     "metadata": {},
     "output_type": "execute_result"
    }
   ],
   "source": [
    "#REPLACE OLD VARIABLE\n",
    "bank_df['age'] = age\n",
    "bank_df['age'].value_counts()"
   ]
  },
  {
   "cell_type": "code",
   "execution_count": 79,
   "metadata": {},
   "outputs": [
    {
     "data": {
      "text/plain": [
       "1     17642\n",
       "2     10570\n",
       "3      5341\n",
       "4      2651\n",
       "5      1599\n",
       "6       979\n",
       "7       629\n",
       "8       400\n",
       "9       283\n",
       "10      225\n",
       "11      177\n",
       "12      125\n",
       "13       92\n",
       "14       69\n",
       "17       58\n",
       "15       51\n",
       "16       51\n",
       "18       33\n",
       "20       30\n",
       "19       26\n",
       "21       24\n",
       "22       17\n",
       "23       16\n",
       "24       15\n",
       "27       11\n",
       "29       10\n",
       "26        8\n",
       "28        8\n",
       "25        8\n",
       "30        7\n",
       "31        7\n",
       "35        5\n",
       "33        4\n",
       "32        4\n",
       "34        3\n",
       "43        2\n",
       "42        2\n",
       "40        2\n",
       "41        1\n",
       "56        1\n",
       "39        1\n",
       "37        1\n",
       "Name: campaign, dtype: int64"
      ]
     },
     "execution_count": 79,
     "metadata": {},
     "output_type": "execute_result"
    }
   ],
   "source": [
    "#CAMPAIGN\n",
    "#CREATE A DATAFRAME\n",
    "campaign= pd.DataFrame(bank_df['campaign'])\n",
    "campaign.columns = ['campaign']\n",
    "campaign['campaign'].value_counts()"
   ]
  },
  {
   "cell_type": "code",
   "execution_count": 81,
   "metadata": {},
   "outputs": [
    {
     "data": {
      "text/html": [
       "<div>\n",
       "<style scoped>\n",
       "    .dataframe tbody tr th:only-of-type {\n",
       "        vertical-align: middle;\n",
       "    }\n",
       "\n",
       "    .dataframe tbody tr th {\n",
       "        vertical-align: top;\n",
       "    }\n",
       "\n",
       "    .dataframe thead th {\n",
       "        text-align: right;\n",
       "    }\n",
       "</style>\n",
       "<table border=\"1\" class=\"dataframe\">\n",
       "  <thead>\n",
       "    <tr style=\"text-align: right;\">\n",
       "      <th></th>\n",
       "      <th>Variable</th>\n",
       "      <th>Cutoff</th>\n",
       "      <th>N</th>\n",
       "      <th>Events</th>\n",
       "      <th>% of Events</th>\n",
       "      <th>Non-Events</th>\n",
       "      <th>% of Non-Events</th>\n",
       "      <th>WoE</th>\n",
       "      <th>IV</th>\n",
       "    </tr>\n",
       "  </thead>\n",
       "  <tbody>\n",
       "    <tr>\n",
       "      <th>0</th>\n",
       "      <td>campaign</td>\n",
       "      <td>(0.999, 2.0]</td>\n",
       "      <td>28212</td>\n",
       "      <td>3511</td>\n",
       "      <td>0.756681</td>\n",
       "      <td>24701</td>\n",
       "      <td>0.675851</td>\n",
       "      <td>0.112969</td>\n",
       "      <td>0.009131</td>\n",
       "    </tr>\n",
       "    <tr>\n",
       "      <th>1</th>\n",
       "      <td>campaign</td>\n",
       "      <td>(2.0, 3.0]</td>\n",
       "      <td>5341</td>\n",
       "      <td>574</td>\n",
       "      <td>0.123707</td>\n",
       "      <td>4767</td>\n",
       "      <td>0.130431</td>\n",
       "      <td>-0.052931</td>\n",
       "      <td>0.000356</td>\n",
       "    </tr>\n",
       "    <tr>\n",
       "      <th>2</th>\n",
       "      <td>campaign</td>\n",
       "      <td>(3.0, 5.0]</td>\n",
       "      <td>4250</td>\n",
       "      <td>369</td>\n",
       "      <td>0.079526</td>\n",
       "      <td>3881</td>\n",
       "      <td>0.106189</td>\n",
       "      <td>-0.289139</td>\n",
       "      <td>0.007709</td>\n",
       "    </tr>\n",
       "    <tr>\n",
       "      <th>3</th>\n",
       "      <td>campaign</td>\n",
       "      <td>(5.0, 56.0]</td>\n",
       "      <td>3385</td>\n",
       "      <td>186</td>\n",
       "      <td>0.040086</td>\n",
       "      <td>3199</td>\n",
       "      <td>0.087529</td>\n",
       "      <td>-0.780935</td>\n",
       "      <td>0.037050</td>\n",
       "    </tr>\n",
       "  </tbody>\n",
       "</table>\n",
       "</div>"
      ],
      "text/plain": [
       "   Variable        Cutoff      N  Events  % of Events  Non-Events  \\\n",
       "0  campaign  (0.999, 2.0]  28212    3511     0.756681       24701   \n",
       "1  campaign    (2.0, 3.0]   5341     574     0.123707        4767   \n",
       "2  campaign    (3.0, 5.0]   4250     369     0.079526        3881   \n",
       "3  campaign   (5.0, 56.0]   3385     186     0.040086        3199   \n",
       "\n",
       "   % of Non-Events       WoE        IV  \n",
       "0         0.675851  0.112969  0.009131  \n",
       "1         0.130431 -0.052931  0.000356  \n",
       "2         0.106189 -0.289139  0.007709  \n",
       "3         0.087529 -0.780935  0.037050  "
      ]
     },
     "execution_count": 81,
     "metadata": {},
     "output_type": "execute_result"
    }
   ],
   "source": [
    "#SELECT VALUES FOR CAMPAIGN VARIABLE\n",
    "aux_c = woe['Variable'] == 'campaign' \n",
    "campaign_table = woe[aux_c]\n",
    "campaign_table"
   ]
  },
  {
   "cell_type": "code",
   "execution_count": 82,
   "metadata": {},
   "outputs": [
    {
     "data": {
      "text/html": [
       "<div>\n",
       "<style scoped>\n",
       "    .dataframe tbody tr th:only-of-type {\n",
       "        vertical-align: middle;\n",
       "    }\n",
       "\n",
       "    .dataframe tbody tr th {\n",
       "        vertical-align: top;\n",
       "    }\n",
       "\n",
       "    .dataframe thead th {\n",
       "        text-align: right;\n",
       "    }\n",
       "</style>\n",
       "<table border=\"1\" class=\"dataframe\">\n",
       "  <thead>\n",
       "    <tr style=\"text-align: right;\">\n",
       "      <th></th>\n",
       "      <th>intervals</th>\n",
       "      <th>left</th>\n",
       "      <th>right</th>\n",
       "      <th>WOE</th>\n",
       "    </tr>\n",
       "  </thead>\n",
       "  <tbody>\n",
       "    <tr>\n",
       "      <th>0</th>\n",
       "      <td>(0.999, 2.0]</td>\n",
       "      <td>0.999</td>\n",
       "      <td>2.0</td>\n",
       "      <td>0.112969</td>\n",
       "    </tr>\n",
       "    <tr>\n",
       "      <th>1</th>\n",
       "      <td>(2.0, 3.0]</td>\n",
       "      <td>2.000</td>\n",
       "      <td>3.0</td>\n",
       "      <td>-0.052931</td>\n",
       "    </tr>\n",
       "    <tr>\n",
       "      <th>2</th>\n",
       "      <td>(3.0, 5.0]</td>\n",
       "      <td>3.000</td>\n",
       "      <td>5.0</td>\n",
       "      <td>-0.289139</td>\n",
       "    </tr>\n",
       "    <tr>\n",
       "      <th>3</th>\n",
       "      <td>(5.0, 56.0]</td>\n",
       "      <td>5.000</td>\n",
       "      <td>56.0</td>\n",
       "      <td>-0.780935</td>\n",
       "    </tr>\n",
       "  </tbody>\n",
       "</table>\n",
       "</div>"
      ],
      "text/plain": [
       "      intervals   left  right       WOE\n",
       "0  (0.999, 2.0]  0.999    2.0  0.112969\n",
       "1    (2.0, 3.0]  2.000    3.0 -0.052931\n",
       "2    (3.0, 5.0]  3.000    5.0 -0.289139\n",
       "3   (5.0, 56.0]  5.000   56.0 -0.780935"
      ]
     },
     "execution_count": 82,
     "metadata": {},
     "output_type": "execute_result"
    }
   ],
   "source": [
    "#CREATE STRUCTURE TO EXTRACT LIMITS\n",
    "idx = pd.IntervalIndex(campaign_table['Cutoff'])\n",
    "\n",
    "#INTERVALS , LIMITS AND WOE VALUES\n",
    "inter = pd.DataFrame({'intervals': idx, 'left': idx.left, 'right': idx.right})\n",
    "inter['WOE'] = campaign_table['WoE']\n",
    "inter"
   ]
  },
  {
   "cell_type": "code",
   "execution_count": 85,
   "metadata": {},
   "outputs": [],
   "source": [
    "#CREATE AUXILIARY VARIABLES\n",
    "inter['left'][0],inter['right'][0]\n",
    "\n",
    "aux1 = (inter['left'][0] <=  campaign) & (campaign < inter['right'][0])\n",
    "aux2 = (inter['left'][1] <=  campaign) & (campaign < inter['right'][1])\n",
    "aux3 = (inter['left'][2] <=  campaign) & (campaign < inter['right'][2])\n",
    "aux4 = (inter['left'][3] <=  campaign) & (campaign <= inter['right'][3])"
   ]
  },
  {
   "cell_type": "code",
   "execution_count": 86,
   "metadata": {},
   "outputs": [
    {
     "data": {
      "text/plain": [
       "campaign \n",
       " 0.112969    17642\n",
       "-0.052931    10570\n",
       "-0.289139     7992\n",
       "-0.780935     4984\n",
       "dtype: int64"
      ]
     },
     "execution_count": 86,
     "metadata": {},
     "output_type": "execute_result"
    }
   ],
   "source": [
    "#REPLACE VALUES WITH WOE\n",
    "campaign[aux1] = inter['WOE'][0]\n",
    "campaign[aux2] = inter['WOE'][1]\n",
    "campaign[aux3] = inter['WOE'][2]\n",
    "campaign[aux4] = inter['WOE'][3]\n",
    "\n",
    "campaign.value_counts()"
   ]
  },
  {
   "cell_type": "code",
   "execution_count": 87,
   "metadata": {},
   "outputs": [
    {
     "data": {
      "text/plain": [
       " 0.112969    17642\n",
       "-0.052931    10570\n",
       "-0.289139     7992\n",
       "-0.780935     4984\n",
       "Name: campaign, dtype: int64"
      ]
     },
     "execution_count": 87,
     "metadata": {},
     "output_type": "execute_result"
    }
   ],
   "source": [
    "#REPLACE OLD VARIABLE\n",
    "bank_df['campaign'] = campaign\n",
    "bank_df['campaign'].value_counts()"
   ]
  },
  {
   "cell_type": "code",
   "execution_count": 88,
   "metadata": {},
   "outputs": [
    {
     "data": {
      "text/plain": [
       "85.0      170\n",
       "90.0      170\n",
       "136.0     168\n",
       "73.0      167\n",
       "124.0     164\n",
       "         ... \n",
       "1416.0      1\n",
       "1425.0      1\n",
       "1842.0      1\n",
       "1169.0      1\n",
       "1174.0      1\n",
       "Name: duration, Length: 1543, dtype: int64"
      ]
     },
     "execution_count": 88,
     "metadata": {},
     "output_type": "execute_result"
    }
   ],
   "source": [
    "#DURATION\n",
    "#CREATE A DATAFRAME\n",
    "duration= pd.DataFrame(bank_df['duration'])\n",
    "duration.columns = ['duration']\n",
    "duration['duration'].value_counts()"
   ]
  },
  {
   "cell_type": "code",
   "execution_count": 89,
   "metadata": {},
   "outputs": [
    {
     "data": {
      "text/html": [
       "<div>\n",
       "<style scoped>\n",
       "    .dataframe tbody tr th:only-of-type {\n",
       "        vertical-align: middle;\n",
       "    }\n",
       "\n",
       "    .dataframe tbody tr th {\n",
       "        vertical-align: top;\n",
       "    }\n",
       "\n",
       "    .dataframe thead th {\n",
       "        text-align: right;\n",
       "    }\n",
       "</style>\n",
       "<table border=\"1\" class=\"dataframe\">\n",
       "  <thead>\n",
       "    <tr style=\"text-align: right;\">\n",
       "      <th></th>\n",
       "      <th>Variable</th>\n",
       "      <th>Cutoff</th>\n",
       "      <th>N</th>\n",
       "      <th>Events</th>\n",
       "      <th>% of Events</th>\n",
       "      <th>Non-Events</th>\n",
       "      <th>% of Non-Events</th>\n",
       "      <th>WoE</th>\n",
       "      <th>IV</th>\n",
       "    </tr>\n",
       "  </thead>\n",
       "  <tbody>\n",
       "    <tr>\n",
       "      <th>0</th>\n",
       "      <td>duration</td>\n",
       "      <td>(-0.001, 59.0]</td>\n",
       "      <td>4181</td>\n",
       "      <td>1</td>\n",
       "      <td>0.000216</td>\n",
       "      <td>4180</td>\n",
       "      <td>0.114373</td>\n",
       "      <td>-6.273966</td>\n",
       "      <td>0.716222</td>\n",
       "    </tr>\n",
       "    <tr>\n",
       "      <th>1</th>\n",
       "      <td>duration</td>\n",
       "      <td>(59.0, 89.0]</td>\n",
       "      <td>4207</td>\n",
       "      <td>43</td>\n",
       "      <td>0.009269</td>\n",
       "      <td>4164</td>\n",
       "      <td>0.113935</td>\n",
       "      <td>-2.508931</td>\n",
       "      <td>0.262600</td>\n",
       "    </tr>\n",
       "    <tr>\n",
       "      <th>2</th>\n",
       "      <td>duration</td>\n",
       "      <td>(89.0, 116.0]</td>\n",
       "      <td>3987</td>\n",
       "      <td>107</td>\n",
       "      <td>0.023065</td>\n",
       "      <td>3880</td>\n",
       "      <td>0.106165</td>\n",
       "      <td>-1.526661</td>\n",
       "      <td>0.126865</td>\n",
       "    </tr>\n",
       "    <tr>\n",
       "      <th>3</th>\n",
       "      <td>duration</td>\n",
       "      <td>(116.0, 146.0]</td>\n",
       "      <td>4152</td>\n",
       "      <td>157</td>\n",
       "      <td>0.033844</td>\n",
       "      <td>3995</td>\n",
       "      <td>0.109311</td>\n",
       "      <td>-1.172453</td>\n",
       "      <td>0.088482</td>\n",
       "    </tr>\n",
       "    <tr>\n",
       "      <th>4</th>\n",
       "      <td>duration</td>\n",
       "      <td>(146.0, 180.0]</td>\n",
       "      <td>4178</td>\n",
       "      <td>256</td>\n",
       "      <td>0.055184</td>\n",
       "      <td>3922</td>\n",
       "      <td>0.107314</td>\n",
       "      <td>-0.665079</td>\n",
       "      <td>0.034670</td>\n",
       "    </tr>\n",
       "    <tr>\n",
       "      <th>5</th>\n",
       "      <td>duration</td>\n",
       "      <td>(180.0, 222.0]</td>\n",
       "      <td>4096</td>\n",
       "      <td>346</td>\n",
       "      <td>0.074585</td>\n",
       "      <td>3750</td>\n",
       "      <td>0.102608</td>\n",
       "      <td>-0.318972</td>\n",
       "      <td>0.008938</td>\n",
       "    </tr>\n",
       "    <tr>\n",
       "      <th>6</th>\n",
       "      <td>duration</td>\n",
       "      <td>(222.0, 280.0]</td>\n",
       "      <td>4062</td>\n",
       "      <td>463</td>\n",
       "      <td>0.099806</td>\n",
       "      <td>3599</td>\n",
       "      <td>0.098476</td>\n",
       "      <td>0.013416</td>\n",
       "      <td>0.000018</td>\n",
       "    </tr>\n",
       "    <tr>\n",
       "      <th>7</th>\n",
       "      <td>duration</td>\n",
       "      <td>(280.0, 368.0]</td>\n",
       "      <td>4103</td>\n",
       "      <td>554</td>\n",
       "      <td>0.119422</td>\n",
       "      <td>3549</td>\n",
       "      <td>0.097108</td>\n",
       "      <td>0.206844</td>\n",
       "      <td>0.004616</td>\n",
       "    </tr>\n",
       "    <tr>\n",
       "      <th>8</th>\n",
       "      <td>duration</td>\n",
       "      <td>(368.0, 551.0]</td>\n",
       "      <td>4118</td>\n",
       "      <td>824</td>\n",
       "      <td>0.177624</td>\n",
       "      <td>3294</td>\n",
       "      <td>0.090131</td>\n",
       "      <td>0.678413</td>\n",
       "      <td>0.059357</td>\n",
       "    </tr>\n",
       "    <tr>\n",
       "      <th>9</th>\n",
       "      <td>duration</td>\n",
       "      <td>(551.0, 4918.0]</td>\n",
       "      <td>4102</td>\n",
       "      <td>1888</td>\n",
       "      <td>0.406984</td>\n",
       "      <td>2214</td>\n",
       "      <td>0.060580</td>\n",
       "      <td>1.904818</td>\n",
       "      <td>0.659838</td>\n",
       "    </tr>\n",
       "  </tbody>\n",
       "</table>\n",
       "</div>"
      ],
      "text/plain": [
       "   Variable           Cutoff     N  Events  % of Events  Non-Events  \\\n",
       "0  duration   (-0.001, 59.0]  4181       1     0.000216        4180   \n",
       "1  duration     (59.0, 89.0]  4207      43     0.009269        4164   \n",
       "2  duration    (89.0, 116.0]  3987     107     0.023065        3880   \n",
       "3  duration   (116.0, 146.0]  4152     157     0.033844        3995   \n",
       "4  duration   (146.0, 180.0]  4178     256     0.055184        3922   \n",
       "5  duration   (180.0, 222.0]  4096     346     0.074585        3750   \n",
       "6  duration   (222.0, 280.0]  4062     463     0.099806        3599   \n",
       "7  duration   (280.0, 368.0]  4103     554     0.119422        3549   \n",
       "8  duration   (368.0, 551.0]  4118     824     0.177624        3294   \n",
       "9  duration  (551.0, 4918.0]  4102    1888     0.406984        2214   \n",
       "\n",
       "   % of Non-Events       WoE        IV  \n",
       "0         0.114373 -6.273966  0.716222  \n",
       "1         0.113935 -2.508931  0.262600  \n",
       "2         0.106165 -1.526661  0.126865  \n",
       "3         0.109311 -1.172453  0.088482  \n",
       "4         0.107314 -0.665079  0.034670  \n",
       "5         0.102608 -0.318972  0.008938  \n",
       "6         0.098476  0.013416  0.000018  \n",
       "7         0.097108  0.206844  0.004616  \n",
       "8         0.090131  0.678413  0.059357  \n",
       "9         0.060580  1.904818  0.659838  "
      ]
     },
     "execution_count": 89,
     "metadata": {},
     "output_type": "execute_result"
    }
   ],
   "source": [
    "#SELECT VALUES FOR CAMPAIGN VARIABLE\n",
    "aux_d = woe['Variable'] == 'duration' \n",
    "duration_table = woe[aux_d]\n",
    "duration_table"
   ]
  },
  {
   "cell_type": "code",
   "execution_count": 90,
   "metadata": {},
   "outputs": [
    {
     "data": {
      "text/html": [
       "<div>\n",
       "<style scoped>\n",
       "    .dataframe tbody tr th:only-of-type {\n",
       "        vertical-align: middle;\n",
       "    }\n",
       "\n",
       "    .dataframe tbody tr th {\n",
       "        vertical-align: top;\n",
       "    }\n",
       "\n",
       "    .dataframe thead th {\n",
       "        text-align: right;\n",
       "    }\n",
       "</style>\n",
       "<table border=\"1\" class=\"dataframe\">\n",
       "  <thead>\n",
       "    <tr style=\"text-align: right;\">\n",
       "      <th></th>\n",
       "      <th>intervals</th>\n",
       "      <th>left</th>\n",
       "      <th>right</th>\n",
       "      <th>WOE</th>\n",
       "    </tr>\n",
       "  </thead>\n",
       "  <tbody>\n",
       "    <tr>\n",
       "      <th>0</th>\n",
       "      <td>(-0.001, 59.0]</td>\n",
       "      <td>-0.001</td>\n",
       "      <td>59.0</td>\n",
       "      <td>-6.273966</td>\n",
       "    </tr>\n",
       "    <tr>\n",
       "      <th>1</th>\n",
       "      <td>(59.0, 89.0]</td>\n",
       "      <td>59.000</td>\n",
       "      <td>89.0</td>\n",
       "      <td>-2.508931</td>\n",
       "    </tr>\n",
       "    <tr>\n",
       "      <th>2</th>\n",
       "      <td>(89.0, 116.0]</td>\n",
       "      <td>89.000</td>\n",
       "      <td>116.0</td>\n",
       "      <td>-1.526661</td>\n",
       "    </tr>\n",
       "    <tr>\n",
       "      <th>3</th>\n",
       "      <td>(116.0, 146.0]</td>\n",
       "      <td>116.000</td>\n",
       "      <td>146.0</td>\n",
       "      <td>-1.172453</td>\n",
       "    </tr>\n",
       "    <tr>\n",
       "      <th>4</th>\n",
       "      <td>(146.0, 180.0]</td>\n",
       "      <td>146.000</td>\n",
       "      <td>180.0</td>\n",
       "      <td>-0.665079</td>\n",
       "    </tr>\n",
       "    <tr>\n",
       "      <th>5</th>\n",
       "      <td>(180.0, 222.0]</td>\n",
       "      <td>180.000</td>\n",
       "      <td>222.0</td>\n",
       "      <td>-0.318972</td>\n",
       "    </tr>\n",
       "    <tr>\n",
       "      <th>6</th>\n",
       "      <td>(222.0, 280.0]</td>\n",
       "      <td>222.000</td>\n",
       "      <td>280.0</td>\n",
       "      <td>0.013416</td>\n",
       "    </tr>\n",
       "    <tr>\n",
       "      <th>7</th>\n",
       "      <td>(280.0, 368.0]</td>\n",
       "      <td>280.000</td>\n",
       "      <td>368.0</td>\n",
       "      <td>0.206844</td>\n",
       "    </tr>\n",
       "    <tr>\n",
       "      <th>8</th>\n",
       "      <td>(368.0, 551.0]</td>\n",
       "      <td>368.000</td>\n",
       "      <td>551.0</td>\n",
       "      <td>0.678413</td>\n",
       "    </tr>\n",
       "    <tr>\n",
       "      <th>9</th>\n",
       "      <td>(551.0, 4918.0]</td>\n",
       "      <td>551.000</td>\n",
       "      <td>4918.0</td>\n",
       "      <td>1.904818</td>\n",
       "    </tr>\n",
       "  </tbody>\n",
       "</table>\n",
       "</div>"
      ],
      "text/plain": [
       "         intervals     left   right       WOE\n",
       "0   (-0.001, 59.0]   -0.001    59.0 -6.273966\n",
       "1     (59.0, 89.0]   59.000    89.0 -2.508931\n",
       "2    (89.0, 116.0]   89.000   116.0 -1.526661\n",
       "3   (116.0, 146.0]  116.000   146.0 -1.172453\n",
       "4   (146.0, 180.0]  146.000   180.0 -0.665079\n",
       "5   (180.0, 222.0]  180.000   222.0 -0.318972\n",
       "6   (222.0, 280.0]  222.000   280.0  0.013416\n",
       "7   (280.0, 368.0]  280.000   368.0  0.206844\n",
       "8   (368.0, 551.0]  368.000   551.0  0.678413\n",
       "9  (551.0, 4918.0]  551.000  4918.0  1.904818"
      ]
     },
     "execution_count": 90,
     "metadata": {},
     "output_type": "execute_result"
    }
   ],
   "source": [
    "#CREATE STRUCTURE TO EXTRACT LIMITS\n",
    "idx = pd.IntervalIndex(duration_table['Cutoff'])\n",
    "\n",
    "#INTERVALS , LIMITS AND WOE VALUES\n",
    "inter = pd.DataFrame({'intervals': idx, 'left': idx.left, 'right': idx.right})\n",
    "inter['WOE'] = duration_table['WoE']\n",
    "inter"
   ]
  },
  {
   "cell_type": "code",
   "execution_count": 91,
   "metadata": {},
   "outputs": [],
   "source": [
    "#CREATE AUXILIARY VARIABLES\n",
    "inter['left'][0],inter['right'][0]\n",
    "\n",
    "aux1 = (inter['left'][0] <=  duration) & (duration < inter['right'][0])\n",
    "aux2 = (inter['left'][1] <=  duration) & (duration < inter['right'][1])\n",
    "aux3 = (inter['left'][2] <=  duration) & (duration < inter['right'][2])\n",
    "aux4 = (inter['left'][3] <=  duration) & (duration < inter['right'][3])\n",
    "aux5 = (inter['left'][4] <=  duration) & (duration < inter['right'][4])\n",
    "aux6 = (inter['left'][5] <=  duration) & (duration < inter['right'][5])\n",
    "aux7 = (inter['left'][6] <=  duration) & (duration < inter['right'][6])\n",
    "aux8 = (inter['left'][7] <=  duration) & (duration < inter['right'][7])\n",
    "aux9 = (inter['left'][8] <=  duration) & (duration < inter['right'][8])\n",
    "aux10 = (inter['left'][9] <=  duration) & (duration <= inter['right'][9])"
   ]
  },
  {
   "cell_type": "code",
   "execution_count": 92,
   "metadata": {},
   "outputs": [
    {
     "data": {
      "text/plain": [
       "duration \n",
       "-2.508931    4185\n",
       "-1.172453    4176\n",
       "-0.665079    4163\n",
       " 0.206844    4132\n",
       " 0.678413    4127\n",
       " 1.904818    4121\n",
       "-0.318972    4120\n",
       " 0.013416    4098\n",
       "-6.273966    4050\n",
       "-1.526661    4014\n",
       "dtype: int64"
      ]
     },
     "execution_count": 92,
     "metadata": {},
     "output_type": "execute_result"
    }
   ],
   "source": [
    "#REPLACE VALUES WITH WOE\n",
    "duration[aux1] = inter['WOE'][0]\n",
    "duration[aux2] = inter['WOE'][1]\n",
    "duration[aux3] = inter['WOE'][2]\n",
    "duration[aux4] = inter['WOE'][3]\n",
    "duration[aux5] = inter['WOE'][4]\n",
    "duration[aux6] = inter['WOE'][5]\n",
    "duration[aux7] = inter['WOE'][6]\n",
    "duration[aux8] = inter['WOE'][7]\n",
    "duration[aux9] = inter['WOE'][8]\n",
    "duration[aux10] = inter['WOE'][9]\n",
    "\n",
    "duration.value_counts()"
   ]
  },
  {
   "cell_type": "code",
   "execution_count": 93,
   "metadata": {},
   "outputs": [
    {
     "data": {
      "text/plain": [
       "-2.508931    4185\n",
       "-1.172453    4176\n",
       "-0.665079    4163\n",
       " 0.206844    4132\n",
       " 0.678413    4127\n",
       " 1.904818    4121\n",
       "-0.318972    4120\n",
       " 0.013416    4098\n",
       "-6.273966    4050\n",
       "-1.526661    4014\n",
       "Name: duration, dtype: int64"
      ]
     },
     "execution_count": 93,
     "metadata": {},
     "output_type": "execute_result"
    }
   ],
   "source": [
    "#REPLACE OLD VARIABLE\n",
    "bank_df['duration'] = duration\n",
    "bank_df['duration'].value_counts()"
   ]
  },
  {
   "cell_type": "code",
   "execution_count": 94,
   "metadata": {},
   "outputs": [
    {
     "data": {
      "text/html": [
       "<div>\n",
       "<style scoped>\n",
       "    .dataframe tbody tr th:only-of-type {\n",
       "        vertical-align: middle;\n",
       "    }\n",
       "\n",
       "    .dataframe tbody tr th {\n",
       "        vertical-align: top;\n",
       "    }\n",
       "\n",
       "    .dataframe thead th {\n",
       "        text-align: right;\n",
       "    }\n",
       "</style>\n",
       "<table border=\"1\" class=\"dataframe\">\n",
       "  <thead>\n",
       "    <tr style=\"text-align: right;\">\n",
       "      <th></th>\n",
       "      <th>age</th>\n",
       "      <th>job</th>\n",
       "      <th>marital</th>\n",
       "      <th>education</th>\n",
       "      <th>default</th>\n",
       "      <th>housing</th>\n",
       "      <th>loan</th>\n",
       "      <th>contact</th>\n",
       "      <th>month</th>\n",
       "      <th>day_of_week</th>\n",
       "      <th>...</th>\n",
       "      <th>campaign</th>\n",
       "      <th>pdays</th>\n",
       "      <th>previous</th>\n",
       "      <th>poutcome</th>\n",
       "      <th>emp.var.rate</th>\n",
       "      <th>cons.price.idx</th>\n",
       "      <th>cons.conf.idx</th>\n",
       "      <th>euribor3m</th>\n",
       "      <th>nr.employed</th>\n",
       "      <th>y</th>\n",
       "    </tr>\n",
       "  </thead>\n",
       "  <tbody>\n",
       "    <tr>\n",
       "      <th>0</th>\n",
       "      <td>0.720001</td>\n",
       "      <td>housemaid</td>\n",
       "      <td>married</td>\n",
       "      <td>basic.4y</td>\n",
       "      <td>no</td>\n",
       "      <td>no</td>\n",
       "      <td>no</td>\n",
       "      <td>telephone</td>\n",
       "      <td>may</td>\n",
       "      <td>mon</td>\n",
       "      <td>...</td>\n",
       "      <td>0.112969</td>\n",
       "      <td>NaN</td>\n",
       "      <td>0</td>\n",
       "      <td>nonexistent</td>\n",
       "      <td>1.1</td>\n",
       "      <td>93.994</td>\n",
       "      <td>-36.4</td>\n",
       "      <td>4.857</td>\n",
       "      <td>5191.0</td>\n",
       "      <td>0</td>\n",
       "    </tr>\n",
       "    <tr>\n",
       "      <th>1</th>\n",
       "      <td>0.720001</td>\n",
       "      <td>services</td>\n",
       "      <td>married</td>\n",
       "      <td>high.school</td>\n",
       "      <td>NaN</td>\n",
       "      <td>no</td>\n",
       "      <td>no</td>\n",
       "      <td>telephone</td>\n",
       "      <td>may</td>\n",
       "      <td>mon</td>\n",
       "      <td>...</td>\n",
       "      <td>0.112969</td>\n",
       "      <td>NaN</td>\n",
       "      <td>0</td>\n",
       "      <td>nonexistent</td>\n",
       "      <td>1.1</td>\n",
       "      <td>93.994</td>\n",
       "      <td>-36.4</td>\n",
       "      <td>4.857</td>\n",
       "      <td>5191.0</td>\n",
       "      <td>0</td>\n",
       "    </tr>\n",
       "    <tr>\n",
       "      <th>2</th>\n",
       "      <td>-0.212528</td>\n",
       "      <td>services</td>\n",
       "      <td>married</td>\n",
       "      <td>high.school</td>\n",
       "      <td>no</td>\n",
       "      <td>yes</td>\n",
       "      <td>no</td>\n",
       "      <td>telephone</td>\n",
       "      <td>may</td>\n",
       "      <td>mon</td>\n",
       "      <td>...</td>\n",
       "      <td>0.112969</td>\n",
       "      <td>NaN</td>\n",
       "      <td>0</td>\n",
       "      <td>nonexistent</td>\n",
       "      <td>1.1</td>\n",
       "      <td>93.994</td>\n",
       "      <td>-36.4</td>\n",
       "      <td>4.857</td>\n",
       "      <td>5191.0</td>\n",
       "      <td>0</td>\n",
       "    </tr>\n",
       "    <tr>\n",
       "      <th>3</th>\n",
       "      <td>-0.373811</td>\n",
       "      <td>admin.</td>\n",
       "      <td>married</td>\n",
       "      <td>basic.6y</td>\n",
       "      <td>no</td>\n",
       "      <td>no</td>\n",
       "      <td>no</td>\n",
       "      <td>telephone</td>\n",
       "      <td>may</td>\n",
       "      <td>mon</td>\n",
       "      <td>...</td>\n",
       "      <td>0.112969</td>\n",
       "      <td>NaN</td>\n",
       "      <td>0</td>\n",
       "      <td>nonexistent</td>\n",
       "      <td>1.1</td>\n",
       "      <td>93.994</td>\n",
       "      <td>-36.4</td>\n",
       "      <td>4.857</td>\n",
       "      <td>5191.0</td>\n",
       "      <td>0</td>\n",
       "    </tr>\n",
       "    <tr>\n",
       "      <th>4</th>\n",
       "      <td>0.720001</td>\n",
       "      <td>services</td>\n",
       "      <td>married</td>\n",
       "      <td>high.school</td>\n",
       "      <td>no</td>\n",
       "      <td>no</td>\n",
       "      <td>yes</td>\n",
       "      <td>telephone</td>\n",
       "      <td>may</td>\n",
       "      <td>mon</td>\n",
       "      <td>...</td>\n",
       "      <td>0.112969</td>\n",
       "      <td>NaN</td>\n",
       "      <td>0</td>\n",
       "      <td>nonexistent</td>\n",
       "      <td>1.1</td>\n",
       "      <td>93.994</td>\n",
       "      <td>-36.4</td>\n",
       "      <td>4.857</td>\n",
       "      <td>5191.0</td>\n",
       "      <td>0</td>\n",
       "    </tr>\n",
       "  </tbody>\n",
       "</table>\n",
       "<p>5 rows × 21 columns</p>\n",
       "</div>"
      ],
      "text/plain": [
       "        age        job  marital    education default housing loan    contact  \\\n",
       "0  0.720001  housemaid  married     basic.4y      no      no   no  telephone   \n",
       "1  0.720001   services  married  high.school     NaN      no   no  telephone   \n",
       "2 -0.212528   services  married  high.school      no     yes   no  telephone   \n",
       "3 -0.373811     admin.  married     basic.6y      no      no   no  telephone   \n",
       "4  0.720001   services  married  high.school      no      no  yes  telephone   \n",
       "\n",
       "  month day_of_week  ...  campaign  pdays  previous     poutcome emp.var.rate  \\\n",
       "0   may         mon  ...  0.112969    NaN         0  nonexistent          1.1   \n",
       "1   may         mon  ...  0.112969    NaN         0  nonexistent          1.1   \n",
       "2   may         mon  ...  0.112969    NaN         0  nonexistent          1.1   \n",
       "3   may         mon  ...  0.112969    NaN         0  nonexistent          1.1   \n",
       "4   may         mon  ...  0.112969    NaN         0  nonexistent          1.1   \n",
       "\n",
       "   cons.price.idx  cons.conf.idx  euribor3m  nr.employed  y  \n",
       "0          93.994          -36.4      4.857       5191.0  0  \n",
       "1          93.994          -36.4      4.857       5191.0  0  \n",
       "2          93.994          -36.4      4.857       5191.0  0  \n",
       "3          93.994          -36.4      4.857       5191.0  0  \n",
       "4          93.994          -36.4      4.857       5191.0  0  \n",
       "\n",
       "[5 rows x 21 columns]"
      ]
     },
     "execution_count": 94,
     "metadata": {},
     "output_type": "execute_result"
    }
   ],
   "source": [
    "#FINAL DATA\n",
    "bank_df.head()"
   ]
  },
  {
   "cell_type": "code",
   "execution_count": null,
   "metadata": {},
   "outputs": [],
   "source": []
  },
  {
   "cell_type": "code",
   "execution_count": null,
   "metadata": {},
   "outputs": [],
   "source": []
  }
 ],
 "metadata": {
  "kernelspec": {
   "display_name": "Python 3",
   "language": "python",
   "name": "python3"
  },
  "language_info": {
   "codemirror_mode": {
    "name": "ipython",
    "version": 3
   },
   "file_extension": ".py",
   "mimetype": "text/x-python",
   "name": "python",
   "nbconvert_exporter": "python",
   "pygments_lexer": "ipython3",
   "version": "3.7.4"
  }
 },
 "nbformat": 4,
 "nbformat_minor": 2
}
