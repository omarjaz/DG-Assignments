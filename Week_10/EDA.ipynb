{
 "cells": [
  {
   "cell_type": "markdown",
   "metadata": {
    "id": "yhGHTTVHq5M4"
   },
   "source": [
    "### **Exploratory Data Analysis**"
   ]
  },
  {
   "cell_type": "markdown",
   "metadata": {
    "id": "XfNPJZXZrEoQ"
   },
   "source": [
    "In this EDA we are going to do the preprocessing of our database to be able to give the best possible variables to our model.\n",
    "\n",
    "Let's start with the **treatment of outliers**. Where we will analyze two aproaches:\n",
    "\n",
    "1.   Treatment of outliers by WOE\n",
    "2.   Treatment of outliers by IQR\n",
    "\n",
    "Then, we are going to analyze the **missing values**.\n",
    "\n",
    "Finally, we are going to encode categroical values.\n",
    "\n",
    "\n"
   ]
  },
  {
   "cell_type": "markdown",
   "metadata": {
    "id": "NiqMemsPvh6V"
   },
   "source": [
    "**Project Libraries**"
   ]
  },
  {
   "cell_type": "code",
   "execution_count": 1,
   "metadata": {
    "id": "J9on9FKMrEG0"
   },
   "outputs": [],
   "source": [
    "# Importings\n",
    "import pandas as pd\n",
    "import numpy as np\n",
    "import matplotlib.pyplot as plt\n",
    "import seaborn as sns\n",
    "import warnings\n",
    "warnings.filterwarnings('ignore')\n",
    "import numpy as np \n",
    "import pandas as pd \n",
    "import matplotlib.pyplot as plt\n",
    "from operator import itemgetter\n",
    "from sklearn.experimental import enable_iterative_imputer \n",
    "from sklearn.impute import IterativeImputer\n",
    "from sklearn.preprocessing import OrdinalEncoder\n",
    "from sklearn.preprocessing import StandardScaler\n",
    "from sklearn.ensemble import (GradientBoostingRegressor, GradientBoostingClassifier)\n",
    "import xgboost\n",
    "sns.set()\n",
    "plt.rc('xtick', labelsize=10)     \n",
    "plt.rc('ytick', labelsize=10)"
   ]
  },
  {
   "cell_type": "markdown",
   "metadata": {
    "id": "ZpQTbgYlvv29"
   },
   "source": [
    "**Database**"
   ]
  },
  {
   "cell_type": "code",
   "execution_count": 2,
   "metadata": {
    "colab": {
     "base_uri": "https://localhost:8080/"
    },
    "id": "pgUhX095rEEU",
    "outputId": "f9ba9a55-693d-4e9e-afcb-16c69dca7006"
   },
   "outputs": [
    {
     "name": "stdout",
     "output_type": "stream",
     "text": [
      "Mounted at /content/drive\n"
     ]
    }
   ],
   "source": [
    "from google.colab import drive\n",
    "drive.mount('/content/drive')\n",
    "bank_df = pd.read_csv(\"/content/drive/MyDrive/Data Glacier/Datasets/bank-additional/bank-additional-full.csv\", sep=\";\")"
   ]
  },
  {
   "cell_type": "markdown",
   "metadata": {
    "id": "aU73Ohgrwiga"
   },
   "source": [
    "## **Quick Exploration**"
   ]
  },
  {
   "cell_type": "code",
   "execution_count": 4,
   "metadata": {
    "colab": {
     "base_uri": "https://localhost:8080/"
    },
    "id": "W5Z1OkLftUuH",
    "outputId": "10cb4530-ed12-40cf-a687-2103aff9ee3b"
   },
   "outputs": [
    {
     "data": {
      "text/plain": [
       "Index(['age', 'job', 'marital', 'education', 'default', 'housing', 'loan',\n",
       "       'contact', 'month', 'day_of_week', 'duration', 'campaign', 'pdays',\n",
       "       'previous', 'poutcome', 'emp.var.rate', 'cons.price.idx',\n",
       "       'cons.conf.idx', 'euribor3m', 'nr.employed', 'y'],\n",
       "      dtype='object')"
      ]
     },
     "execution_count": 4,
     "metadata": {
      "tags": []
     },
     "output_type": "execute_result"
    }
   ],
   "source": [
    "bank_df.columns"
   ]
  },
  {
   "cell_type": "markdown",
   "metadata": {
    "id": "Z4MIDqxcwB0P"
   },
   "source": [
    "**Categorical Features**"
   ]
  },
  {
   "cell_type": "code",
   "execution_count": 5,
   "metadata": {
    "id": "BGgKFdh5Y4rq"
   },
   "outputs": [],
   "source": [
    "# Categorical features\n",
    "\n",
    "categorical_cols=['job', 'marital', 'education', 'default', 'housing', 'loan',\n",
    "       'contact', 'month', 'day_of_week', 'poutcome']\n",
    "       "
   ]
  },
  {
   "cell_type": "code",
   "execution_count": 6,
   "metadata": {
    "colab": {
     "base_uri": "https://localhost:8080/"
    },
    "id": "iH5YZJAS5O33",
    "outputId": "2afe2477-0834-404f-ba61-165b9742e90e"
   },
   "outputs": [
    {
     "name": "stdout",
     "output_type": "stream",
     "text": [
      "job :\n",
      "['housemaid' 'services' 'admin.' 'blue-collar' 'technician' 'retired'\n",
      " 'management' 'unemployed' 'self-employed' 'unknown' 'entrepreneur'\n",
      " 'student']\n",
      "marital :\n",
      "['married' 'single' 'divorced' 'unknown']\n",
      "education :\n",
      "['basic.4y' 'high.school' 'basic.6y' 'basic.9y' 'professional.course'\n",
      " 'unknown' 'university.degree' 'illiterate']\n",
      "default :\n",
      "['no' 'unknown' 'yes']\n",
      "housing :\n",
      "['no' 'yes' 'unknown']\n",
      "loan :\n",
      "['no' 'yes' 'unknown']\n",
      "contact :\n",
      "['telephone' 'cellular']\n",
      "month :\n",
      "['may' 'jun' 'jul' 'aug' 'oct' 'nov' 'dec' 'mar' 'apr' 'sep']\n",
      "day_of_week :\n",
      "['mon' 'tue' 'wed' 'thu' 'fri']\n",
      "poutcome :\n",
      "['nonexistent' 'failure' 'success']\n"
     ]
    }
   ],
   "source": [
    "for col in categorical_cols:# categories\n",
    "  print(col,\":\")\n",
    "  print(bank_df[col].unique())"
   ]
  },
  {
   "cell_type": "markdown",
   "metadata": {
    "id": "oNdEy3POwnbM"
   },
   "source": [
    "**Numerical Features**"
   ]
  },
  {
   "cell_type": "code",
   "execution_count": 7,
   "metadata": {
    "colab": {
     "base_uri": "https://localhost:8080/",
     "height": 0
    },
    "id": "PnNiEXWAd_c7",
    "outputId": "1dc5c423-8f75-42a9-ae6e-d741d2c6c0b5"
   },
   "outputs": [
    {
     "data": {
      "text/html": [
       "<div>\n",
       "<style scoped>\n",
       "    .dataframe tbody tr th:only-of-type {\n",
       "        vertical-align: middle;\n",
       "    }\n",
       "\n",
       "    .dataframe tbody tr th {\n",
       "        vertical-align: top;\n",
       "    }\n",
       "\n",
       "    .dataframe thead th {\n",
       "        text-align: right;\n",
       "    }\n",
       "</style>\n",
       "<table border=\"1\" class=\"dataframe\">\n",
       "  <thead>\n",
       "    <tr style=\"text-align: right;\">\n",
       "      <th></th>\n",
       "      <th>age</th>\n",
       "      <th>duration</th>\n",
       "      <th>campaign</th>\n",
       "      <th>pdays</th>\n",
       "      <th>previous</th>\n",
       "      <th>emp.var.rate</th>\n",
       "      <th>cons.price.idx</th>\n",
       "      <th>cons.conf.idx</th>\n",
       "      <th>euribor3m</th>\n",
       "      <th>nr.employed</th>\n",
       "    </tr>\n",
       "  </thead>\n",
       "  <tbody>\n",
       "    <tr>\n",
       "      <th>count</th>\n",
       "      <td>41188.00000</td>\n",
       "      <td>41188.000000</td>\n",
       "      <td>41188.000000</td>\n",
       "      <td>41188.000000</td>\n",
       "      <td>41188.000000</td>\n",
       "      <td>41188.000000</td>\n",
       "      <td>41188.000000</td>\n",
       "      <td>41188.000000</td>\n",
       "      <td>41188.000000</td>\n",
       "      <td>41188.000000</td>\n",
       "    </tr>\n",
       "    <tr>\n",
       "      <th>mean</th>\n",
       "      <td>40.02406</td>\n",
       "      <td>258.285010</td>\n",
       "      <td>2.567593</td>\n",
       "      <td>962.475454</td>\n",
       "      <td>0.172963</td>\n",
       "      <td>0.081886</td>\n",
       "      <td>93.575664</td>\n",
       "      <td>-40.502600</td>\n",
       "      <td>3.621291</td>\n",
       "      <td>5167.035911</td>\n",
       "    </tr>\n",
       "    <tr>\n",
       "      <th>std</th>\n",
       "      <td>10.42125</td>\n",
       "      <td>259.279249</td>\n",
       "      <td>2.770014</td>\n",
       "      <td>186.910907</td>\n",
       "      <td>0.494901</td>\n",
       "      <td>1.570960</td>\n",
       "      <td>0.578840</td>\n",
       "      <td>4.628198</td>\n",
       "      <td>1.734447</td>\n",
       "      <td>72.251528</td>\n",
       "    </tr>\n",
       "    <tr>\n",
       "      <th>min</th>\n",
       "      <td>17.00000</td>\n",
       "      <td>0.000000</td>\n",
       "      <td>1.000000</td>\n",
       "      <td>0.000000</td>\n",
       "      <td>0.000000</td>\n",
       "      <td>-3.400000</td>\n",
       "      <td>92.201000</td>\n",
       "      <td>-50.800000</td>\n",
       "      <td>0.634000</td>\n",
       "      <td>4963.600000</td>\n",
       "    </tr>\n",
       "    <tr>\n",
       "      <th>25%</th>\n",
       "      <td>32.00000</td>\n",
       "      <td>102.000000</td>\n",
       "      <td>1.000000</td>\n",
       "      <td>999.000000</td>\n",
       "      <td>0.000000</td>\n",
       "      <td>-1.800000</td>\n",
       "      <td>93.075000</td>\n",
       "      <td>-42.700000</td>\n",
       "      <td>1.344000</td>\n",
       "      <td>5099.100000</td>\n",
       "    </tr>\n",
       "    <tr>\n",
       "      <th>50%</th>\n",
       "      <td>38.00000</td>\n",
       "      <td>180.000000</td>\n",
       "      <td>2.000000</td>\n",
       "      <td>999.000000</td>\n",
       "      <td>0.000000</td>\n",
       "      <td>1.100000</td>\n",
       "      <td>93.749000</td>\n",
       "      <td>-41.800000</td>\n",
       "      <td>4.857000</td>\n",
       "      <td>5191.000000</td>\n",
       "    </tr>\n",
       "    <tr>\n",
       "      <th>75%</th>\n",
       "      <td>47.00000</td>\n",
       "      <td>319.000000</td>\n",
       "      <td>3.000000</td>\n",
       "      <td>999.000000</td>\n",
       "      <td>0.000000</td>\n",
       "      <td>1.400000</td>\n",
       "      <td>93.994000</td>\n",
       "      <td>-36.400000</td>\n",
       "      <td>4.961000</td>\n",
       "      <td>5228.100000</td>\n",
       "    </tr>\n",
       "    <tr>\n",
       "      <th>max</th>\n",
       "      <td>98.00000</td>\n",
       "      <td>4918.000000</td>\n",
       "      <td>56.000000</td>\n",
       "      <td>999.000000</td>\n",
       "      <td>7.000000</td>\n",
       "      <td>1.400000</td>\n",
       "      <td>94.767000</td>\n",
       "      <td>-26.900000</td>\n",
       "      <td>5.045000</td>\n",
       "      <td>5228.100000</td>\n",
       "    </tr>\n",
       "  </tbody>\n",
       "</table>\n",
       "</div>"
      ],
      "text/plain": [
       "               age      duration  ...     euribor3m   nr.employed\n",
       "count  41188.00000  41188.000000  ...  41188.000000  41188.000000\n",
       "mean      40.02406    258.285010  ...      3.621291   5167.035911\n",
       "std       10.42125    259.279249  ...      1.734447     72.251528\n",
       "min       17.00000      0.000000  ...      0.634000   4963.600000\n",
       "25%       32.00000    102.000000  ...      1.344000   5099.100000\n",
       "50%       38.00000    180.000000  ...      4.857000   5191.000000\n",
       "75%       47.00000    319.000000  ...      4.961000   5228.100000\n",
       "max       98.00000   4918.000000  ...      5.045000   5228.100000\n",
       "\n",
       "[8 rows x 10 columns]"
      ]
     },
     "execution_count": 7,
     "metadata": {
      "tags": []
     },
     "output_type": "execute_result"
    }
   ],
   "source": [
    "# Numerical features statistics\n",
    "bank_df.describe()"
   ]
  },
  {
   "cell_type": "markdown",
   "metadata": {
    "id": "eXbeCulWwazD"
   },
   "source": [
    "**Target Distribution**"
   ]
  },
  {
   "cell_type": "code",
   "execution_count": 8,
   "metadata": {
    "colab": {
     "base_uri": "https://localhost:8080/",
     "height": 0
    },
    "id": "ICoxR5cbfZxE",
    "outputId": "c3a60e5c-dc48-4c72-9752-52ef511a727a"
   },
   "outputs": [
    {
     "data": {
      "image/png": "[encoded data removed]",
      "text/plain": [
       "<Figure size 576x360 with 1 Axes>"
      ]
     },
     "metadata": {
      "needs_background": "light",
      "tags": []
     },
     "output_type": "display_data"
    },
    {
     "name": "stdout",
     "output_type": "stream",
     "text": [
      "The amount of \"no\" target is =  36,548\n",
      "The amount of \"yes\" target is = 4,640\n",
      "The percentage of \"no\" target is = 88.73 %\n",
      "The percentage of \"yes\" target is = 11.27 %\n"
     ]
    }
   ],
   "source": [
    "fig, ax = plt.subplots(figsize = (8, 5))\n",
    "sns.countplot(x= 'y', data= bank_df, palette='rocket')\n",
    "plt.xlabel(\"Target\") \n",
    "plt.ylabel('Number of Clients')\n",
    "plt.title(\"Target distribution\")  \n",
    "plt.show()\n",
    " #Finding the percentages of our target\n",
    "per_target= (bank_df['y'] == 'yes').value_counts().to_frame('q')\n",
    "n_target_q = per_target.q.iloc[0]\n",
    "y_target_q = per_target.q.iloc[1]\n",
    "total=per_target.q.sum() \n",
    "print('The amount of \"no\" target is =  {:,}'.format(n_target_q))\n",
    "print('The amount of \"yes\" target is = {:,}'.format(y_target_q))\n",
    "print(f'The percentage of \"no\" target is = {round((n_target_q/total)*100,2)}','%')\n",
    "print(f'The percentage of \"yes\" target is = {round((y_target_q/total)*100,2)}','%')\n"
   ]
  },
  {
   "cell_type": "markdown",
   "metadata": {
    "id": "iq0cjA1-fsNE"
   },
   "source": [
    "The dataset is unbalanced. This will be taken into account in the data processing and implementation of the machine learning model."
   ]
  },
  {
   "cell_type": "markdown",
   "metadata": {
    "id": "VmbCkK6yg8KM"
   },
   "source": [
    "**Customers distribution: age and age range** "
   ]
  },
  {
   "cell_type": "code",
   "execution_count": 9,
   "metadata": {
    "colab": {
     "base_uri": "https://localhost:8080/"
    },
    "id": "V8WKva8yiLBQ",
    "outputId": "10680903-5c22-47fb-d3eb-1688a9a898fe"
   },
   "outputs": [
    {
     "name": "stdout",
     "output_type": "stream",
     "text": [
      "Max. Age:  98\n",
      "Median age:  38.0\n",
      "Average age:  40\n",
      "Min. Age:  17\n"
     ]
    }
   ],
   "source": [
    "print('Max. Age: ', bank_df['age'].max())\n",
    "print('Median age: ', bank_df['age'].median())\n",
    "print('Average age: ', round(bank_df['age'].mean()))\n",
    "print('Min. Age: ', bank_df['age'].min())"
   ]
  },
  {
   "cell_type": "markdown",
   "metadata": {
    "id": "mTpLt7n9ws68"
   },
   "source": [
    "# **Outliers Detection**"
   ]
  },
  {
   "cell_type": "markdown",
   "metadata": {
    "id": "8dq5mEHCwz4x"
   },
   "source": [
    "First, let's see outliers in boxplot"
   ]
  },
  {
   "cell_type": "code",
   "execution_count": 10,
   "metadata": {
    "colab": {
     "base_uri": "https://localhost:8080/",
     "height": 874
    },
    "id": "HxQCeovICH0X",
    "outputId": "a7276b5a-5d11-41ac-91f9-859ff3d82a17"
   },
   "outputs": [
    {
     "data": {
      "image/png": "[encoded data removed]",
      "text/plain": [
       "<Figure size 1440x1440 with 10 Axes>"
      ]
     },
     "metadata": {
      "needs_background": "light",
      "tags": []
     },
     "output_type": "display_data"
    }
   ],
   "source": [
    "plt.figure(figsize = (20,20))\n",
    "plt.subplot(5, 2, 1)\n",
    "sns.boxplot(data = bank_df, x= 'age', palette = 'colorblind')\n",
    "plt.title('Age boxplot')\n",
    "plt.xlabel('Age')\n",
    "\n",
    "plt.subplot(5, 2, 2)\n",
    "sns.boxplot(data = bank_df, x= 'duration', palette = 'colorblind')\n",
    "plt.title('Duration boxplot')\n",
    "plt.xlabel('Duration')\n",
    "\n",
    "plt.subplot(5, 2, 3)\n",
    "sns.boxplot(data = bank_df, x= 'campaign', palette = 'colorblind')\n",
    "plt.title('Campaign boxplot')\n",
    "plt.xlabel('Campaign')\n",
    "\n",
    "plt.subplot(5, 2, 4)\n",
    "sns.boxplot(data = bank_df, x= 'pdays', palette = 'colorblind')\n",
    "plt.title('pdays boxplot')\n",
    "plt.xlabel('pdays')\n",
    "\n",
    "plt.subplot(5, 2, 5)\n",
    "sns.boxplot(data = bank_df, x= 'previous', palette = 'colorblind')\n",
    "plt.title('Previous boxplot')\n",
    "plt.xlabel('Previous')\n",
    "\n",
    "plt.subplot(5, 2, 6)\n",
    "sns.boxplot(data = bank_df, x= 'emp.var.rate', palette = 'colorblind')\n",
    "plt.title('emp.var.rate boxplot')\n",
    "plt.xlabel('emp.var.rate')\n",
    "\n",
    "plt.subplot(5, 2, 7)\n",
    "sns.boxplot(data = bank_df, x= 'cons.price.idx', palette = 'colorblind')\n",
    "plt.title('cons.price.idx boxplot')\n",
    "plt.xlabel('cons.price.idx')\n",
    "\n",
    "plt.subplot(5, 2, 8)\n",
    "sns.boxplot(data = bank_df, x= 'cons.conf.idx', palette = 'colorblind')\n",
    "plt.title('cons.conf.idx boxplot')\n",
    "plt.xlabel('cons.conf.idx')\n",
    "\n",
    "plt.subplot(5, 2, 9)\n",
    "sns.boxplot(data = bank_df, x= 'euribor3m', palette = 'colorblind')\n",
    "plt.title('euribor3m boxplot')\n",
    "plt.xlabel('euribor3m')\n",
    "\n",
    "plt.subplot(5, 2, 10)\n",
    "sns.boxplot(data = bank_df, x= 'nr.employed', palette = 'colorblind')\n",
    "plt.title('nr.employed boxplot')\n",
    "plt.xlabel('nr.employed')\n",
    "\n",
    "plt.tight_layout()\n",
    "plt.show()"
   ]
  },
  {
   "cell_type": "markdown",
   "metadata": {
    "id": "1KFwyrpQw7aV"
   },
   "source": [
    "First approach to remove the outliers values is the classic IQR range criteria."
   ]
  },
  {
   "cell_type": "markdown",
   "metadata": {
    "id": "ZaW94wu5yaFk"
   },
   "source": [
    "So looking at the boxplots, we could conclude that those variable which will need outliers treatment are:\n",
    "- Age\n",
    "- campaign\n",
    "- duration "
   ]
  },
  {
   "cell_type": "markdown",
   "metadata": {
    "id": "kQototU1xEzM"
   },
   "source": [
    "## **1- IQR Outliers**"
   ]
  },
  {
   "cell_type": "code",
   "execution_count": 11,
   "metadata": {
    "id": "Aa3xEus8xDpi"
   },
   "outputs": [],
   "source": [
    "# Outlier filter\n",
    "\n",
    "def remove_outliers(dfx):\n",
    "    q1 = dfx.quantile(0.25)\n",
    "    q3 = dfx.quantile(0.75)\n",
    "    iqr = q3 - q1\n",
    "    cut_off = iqr*1.5\n",
    "    \n",
    "    df_filtred = dfx[~((dfx < (dfx.quantile(0.25) - cut_off)) | (dfx > (dfx.quantile(0.75) + cut_off))).any(axis=1)]\n",
    "    \n",
    "    \n",
    "    return df_filtred"
   ]
  },
  {
   "cell_type": "code",
   "execution_count": 15,
   "metadata": {
    "id": "QD3-97bP0hNY"
   },
   "outputs": [],
   "source": [
    "bank_df2 = bank_df[['age','duration','campaign']]\n",
    "bank_df2 = remove_outliers(bank_df2)"
   ]
  },
  {
   "cell_type": "code",
   "execution_count": 27,
   "metadata": {
    "colab": {
     "base_uri": "https://localhost:8080/"
    },
    "id": "D7H381w10iPS",
    "outputId": "ece0849a-2259-4944-f4e5-fc5b29820c9a"
   },
   "outputs": [
    {
     "name": "stdout",
     "output_type": "stream",
     "text": [
      "5653 rows have been eliminated\n"
     ]
    }
   ],
   "source": [
    "print(bank_df.shape[0]-bank_df2.shape[0], 'rows have been eliminated')"
   ]
  },
  {
   "cell_type": "code",
   "execution_count": null,
   "metadata": {
    "id": "74bxE4cweqyT",
    "scrolled": true
   },
   "outputs": [],
   "source": [
    "#bank_df2 = remove_outliers(bank_df2)"
   ]
  },
  {
   "cell_type": "code",
   "execution_count": 22,
   "metadata": {
    "id": "NdU8Vg21eqyT"
   },
   "outputs": [],
   "source": [
    "bank_df2.reset_index(drop=True, inplace=True)"
   ]
  },
  {
   "cell_type": "code",
   "execution_count": 23,
   "metadata": {
    "colab": {
     "base_uri": "https://localhost:8080/"
    },
    "id": "GqOzTXHheqyT",
    "outputId": "3ec4d311-c390-4ac0-d13b-5da6a96d7a2b"
   },
   "outputs": [
    {
     "name": "stdout",
     "output_type": "stream",
     "text": [
      "<class 'pandas.core.frame.DataFrame'>\n",
      "RangeIndex: 35535 entries, 0 to 35534\n",
      "Data columns (total 3 columns):\n",
      " #   Column    Non-Null Count  Dtype\n",
      "---  ------    --------------  -----\n",
      " 0   age       35535 non-null  int64\n",
      " 1   duration  35535 non-null  int64\n",
      " 2   campaign  35535 non-null  int64\n",
      "dtypes: int64(3)\n",
      "memory usage: 833.0 KB\n"
     ]
    }
   ],
   "source": [
    "bank_df2.info()"
   ]
  },
  {
   "cell_type": "code",
   "execution_count": 26,
   "metadata": {
    "colab": {
     "base_uri": "https://localhost:8080/",
     "height": 909
    },
    "id": "N3dkFNY60-wK",
    "outputId": "1a31b528-8362-4b39-cfd7-a9d169f0472c"
   },
   "outputs": [
    {
     "data": {
      "text/plain": [
       "Text(0.5, 0, 'Campaign')"
      ]
     },
     "execution_count": 26,
     "metadata": {
      "tags": []
     },
     "output_type": "execute_result"
    },
    {
     "data": {
      "image/png": "[encoded data removed]",
      "text/plain": [
       "<Figure size 1440x1440 with 3 Axes>"
      ]
     },
     "metadata": {
      "needs_background": "light",
      "tags": []
     },
     "output_type": "display_data"
    }
   ],
   "source": [
    "plt.figure(figsize = (20,20))\n",
    "plt.subplot(3, 1, 1)\n",
    "sns.boxplot(data = bank_df2, x= 'age', palette = 'colorblind')\n",
    "plt.title('Age boxplot')\n",
    "plt.xlabel('Age')\n",
    "\n",
    "plt.subplot(3, 1, 2)\n",
    "sns.boxplot(data = bank_df2, x= 'duration', palette = 'colorblind')\n",
    "plt.title('Duration boxplot')\n",
    "plt.xlabel('Duration')\n",
    "\n",
    "plt.subplot(3, 1, 3)\n",
    "sns.boxplot(data = bank_df2, x= 'campaign', palette = 'colorblind')\n",
    "plt.title('Campaign boxplot')\n",
    "plt.xlabel('Campaign')\n"
   ]
  },
  {
   "cell_type": "markdown",
   "metadata": {
    "id": "nEHDKOFs2h2N"
   },
   "source": [
    "## **2- WOE Outliers**"
   ]
  },
  {
   "cell_type": "markdown",
   "metadata": {
    "id": "TcY1G-tpeuET"
   },
   "source": [
    "### **Function to calculate Information Value and WOE**"
   ]
  },
  {
   "cell_type": "code",
   "execution_count": 28,
   "metadata": {
    "id": "1_oY1-uVeuET"
   },
   "outputs": [],
   "source": [
    "def iv_woe(data, target, bins=10, show_woe=False):\n",
    "    \n",
    "    #Empty Dataframe\n",
    "    newDF,woeDF = pd.DataFrame(), pd.DataFrame()\n",
    "    \n",
    "    #Extract Column Names\n",
    "    cols = data.columns\n",
    "    \n",
    "    #Run WOE and IV on all the independent variables\n",
    "    for ivars in cols[~cols.isin([target])]:\n",
    "        if (data[ivars].dtype.kind in 'bifc') and (len(np.unique(data[ivars]))>10):\n",
    "            binned_x = pd.qcut(data[ivars], bins,  duplicates='drop')\n",
    "            d0 = pd.DataFrame({'x': binned_x, 'y': data[target]})\n",
    "        else:\n",
    "            d0 = pd.DataFrame({'x': data[ivars], 'y': data[target]})\n",
    "        d = d0.groupby(\"x\", as_index=False).agg({\"y\": [\"count\", \"sum\"]})\n",
    "        d.columns = ['Cutoff', 'N', 'Events']\n",
    "        d['% of Events'] = np.maximum(d['Events'], 0.5) / d['Events'].sum()\n",
    "        d['Non-Events'] = d['N'] - d['Events']\n",
    "        d['% of Non-Events'] = np.maximum(d['Non-Events'], 0.5) / d['Non-Events'].sum()\n",
    "        d['WoE'] = np.log(d['% of Events']/d['% of Non-Events'])\n",
    "        d['IV'] = d['WoE'] * (d['% of Events'] - d['% of Non-Events'])\n",
    "        d.insert(loc=0, column='Variable', value=ivars)\n",
    "        print(\"Information value of \" + ivars + \" is \" + str(round(d['IV'].sum(),6)))\n",
    "        temp =pd.DataFrame({\"Variable\" : [ivars], \"IV\" : [d['IV'].sum()]}, columns = [\"Variable\", \"IV\"])\n",
    "        newDF=pd.concat([newDF,temp], axis=0)\n",
    "        woeDF=pd.concat([woeDF,d], axis=0)\n",
    "\n",
    "        #Show WOE Table\n",
    "        if show_woe == True:\n",
    "            print(d)\n",
    "    return newDF, woeDF"
   ]
  },
  {
   "cell_type": "code",
   "execution_count": 29,
   "metadata": {
    "colab": {
     "base_uri": "https://localhost:8080/"
    },
    "id": "dn9Y0kAXeuEU",
    "outputId": "54900c52-89f9-4476-f38a-ce3c68f6e334"
   },
   "outputs": [
    {
     "data": {
      "text/plain": [
       "no     36548\n",
       "yes     4640\n",
       "Name: y, dtype: int64"
      ]
     },
     "execution_count": 29,
     "metadata": {
      "tags": []
     },
     "output_type": "execute_result"
    }
   ],
   "source": [
    "#CONVIERTO VARIABLE Y EN BINARIA\n",
    "bank_df['y'].value_counts()"
   ]
  },
  {
   "cell_type": "code",
   "execution_count": 30,
   "metadata": {
    "colab": {
     "base_uri": "https://localhost:8080/"
    },
    "id": "R1BOHHoSeuEU",
    "outputId": "511a2d07-feaf-46ab-e50c-bd37dfbc9226"
   },
   "outputs": [
    {
     "data": {
      "text/plain": [
       "0    36548\n",
       "1     4640\n",
       "Name: y, dtype: int64"
      ]
     },
     "execution_count": 30,
     "metadata": {
      "tags": []
     },
     "output_type": "execute_result"
    }
   ],
   "source": [
    "aux = bank_df['y'] == 'no'\n",
    "aux1 = bank_df['y'] == 'yes'\n",
    "\n",
    "#CONVIERTO\n",
    "bank_df.at[aux, 'y'] = 0\n",
    "bank_df.at[aux1, 'y'] = 1\n",
    "\n",
    "bank_df['y'].value_counts()"
   ]
  },
  {
   "cell_type": "code",
   "execution_count": 31,
   "metadata": {
    "colab": {
     "base_uri": "https://localhost:8080/"
    },
    "id": "BTstpX3PeuEU",
    "outputId": "c525a180-fd44-4b69-d945-9389a924fe2b"
   },
   "outputs": [
    {
     "name": "stdout",
     "output_type": "stream",
     "text": [
      "Information value of age is 0.139397\n",
      "  Variable          Cutoff     N  ...  % of Non-Events       WoE        IV\n",
      "0      age  (16.999, 28.0]  4216  ...         0.095217  0.510355  0.032358\n",
      "1      age    (28.0, 31.0]  5114  ...         0.123290  0.060922  0.000472\n",
      "2      age    (31.0, 33.0]  3679  ...         0.089882 -0.056859  0.000282\n",
      "3      age    (33.0, 35.0]  3504  ...         0.086270 -0.131411  0.001396\n",
      "4      age    (35.0, 38.0]  4662  ...         0.115683 -0.212528  0.004707\n",
      "5      age    (38.0, 41.0]  3871  ...         0.097406 -0.373811  0.011356\n",
      "6      age    (41.0, 45.0]  4311  ...         0.108433 -0.368642  0.012325\n",
      "7      age    (45.0, 49.0]  3776  ...         0.095409 -0.426458  0.014126\n",
      "8      age    (49.0, 55.0]  4473  ...         0.110676 -0.182202  0.003359\n",
      "9      age    (55.0, 98.0]  3582  ...         0.077733  0.720001  0.059015\n",
      "\n",
      "[10 rows x 9 columns]\n",
      "Information value of job is 0.188713\n",
      "   Variable         Cutoff      N  ...  % of Non-Events       WoE            IV\n",
      "0       job         admin.  10422  ...         0.248167  0.160525  6.936681e-03\n",
      "1       job    blue-collar   9254  ...         0.235745 -0.539126  5.296630e-02\n",
      "2       job   entrepreneur   1456  ...         0.036445 -0.310243  3.015900e-03\n",
      "3       job      housemaid   1060  ...         0.026103 -0.133312  4.343096e-04\n",
      "4       job     management   2924  ...         0.071030 -0.004801  1.633538e-06\n",
      "5       job        retired   1720  ...         0.035187  0.977665  5.704466e-02\n",
      "6       job  self-employed   1421  ...         0.034804 -0.080487  2.166298e-04\n",
      "7       job       services   3969  ...         0.099759 -0.359822  1.084759e-02\n",
      "8       job        student    875  ...         0.016417  1.283754  5.500945e-02\n",
      "9       job     technician   6743  ...         0.164523 -0.044722  3.218128e-04\n",
      "10      job     unemployed   1014  ...         0.023804  0.265232  1.917674e-03\n",
      "11      job        unknown    330  ...         0.008017 -0.005343  2.282177e-07\n",
      "\n",
      "[12 rows x 9 columns]\n",
      "Information value of marital is 0.028215\n",
      "  Variable    Cutoff      N  ...  % of Non-Events       WoE        IV\n",
      "0  marital  divorced   4612  ...         0.113166 -0.098154  0.001038\n",
      "1  marital   married  24928  ...         0.612783 -0.115961  0.007780\n",
      "2  marital    single  11568  ...         0.272190  0.248967  0.019157\n",
      "3  marital   unknown     80  ...         0.001861  0.329311  0.000239\n",
      "\n",
      "[4 rows x 9 columns]\n",
      "Information value of education is 0.048576\n",
      "    Variable               Cutoff      N  ...  % of Non-Events       WoE        IV\n",
      "0  education             basic.4y   4176  ...         0.102550 -0.105942  0.001092\n",
      "1  education             basic.6y   2292  ...         0.057568 -0.351242  0.005989\n",
      "2  education             basic.9y   6045  ...         0.152457 -0.402502  0.020333\n",
      "3  education          high.school   9515  ...         0.232133 -0.043741  0.000435\n",
      "4  education           illiterate     18  ...         0.000383  0.811149  0.000389\n",
      "5  education  professional.course   5243  ...         0.127175  0.008281  0.000009\n",
      "6  education    university.degree  12168  ...         0.287239  0.225551  0.016392\n",
      "7  education              unknown   1731  ...         0.040495  0.289568  0.003938\n",
      "\n",
      "[8 rows x 9 columns]\n",
      "Information value of default is 0.127776\n",
      "  Variable   Cutoff      N  ...  % of Non-Events       WoE        IV\n",
      "0  default       no  32588  ...         0.776814  0.152210  0.019439\n",
      "1  default  unknown   8597  ...         0.223104 -0.848782  0.108330\n",
      "2  default      yes      3  ...         0.000082  0.272153  0.000007\n",
      "\n",
      "[3 rows x 9 columns]\n",
      "Information value of housing is 0.001383\n",
      "  Variable   Cutoff      N  ...  % of Non-Events       WoE        IV\n",
      "0  housing       no  18622  ...         0.454088 -0.039186  0.000684\n",
      "1  housing  unknown    990  ...         0.024160 -0.046584  0.000051\n",
      "2  housing      yes  21576  ...         0.521752  0.034935  0.000648\n",
      "\n",
      "[3 rows x 9 columns]\n",
      "Information value of loan is 0.000269\n",
      "  Variable   Cutoff      N  ...  % of Non-Events       WoE        IV\n",
      "0     loan       no  33950  ...         0.823574  0.007460  0.000046\n",
      "1     loan  unknown    990  ...         0.024160 -0.046584  0.000051\n",
      "2     loan      yes   6248  ...         0.152266 -0.033845  0.000172\n",
      "\n",
      "[3 rows x 9 columns]\n",
      "Information value of contact is 0.251663\n",
      "  Variable     Cutoff      N  ...  % of Non-Events       WoE        IV\n",
      "0  contact   cellular  26144  ...          0.60991  0.308581  0.068035\n",
      "1  contact  telephone  15044  ...          0.39009 -0.832863  0.183628\n",
      "\n",
      "[2 rows x 9 columns]\n",
      "Information value of month is 0.485117\n",
      "  Variable Cutoff      N  ...  % of Non-Events       WoE        IV\n",
      "0    month    apr   2632  ...         0.057267  0.707274  0.041656\n",
      "1    month    aug   6178  ...         0.151116 -0.068129  0.000678\n",
      "2    month    dec    182  ...         0.002545  2.019949  0.033605\n",
      "3    month    jul   7174  ...         0.178532 -0.244051  0.009435\n",
      "4    month    jun   5318  ...         0.130212 -0.077731  0.000757\n",
      "5    month    mar    546  ...         0.007388  2.085891  0.108665\n",
      "6    month    may  13769  ...         0.352495 -0.613035  0.099034\n",
      "7    month    nov   4101  ...         0.100826 -0.117428  0.001312\n",
      "8    month    oct    718  ...         0.011027  1.817548  0.103348\n",
      "9    month    sep    570  ...         0.008591  1.859697  0.086626\n",
      "\n",
      "[10 rows x 9 columns]\n",
      "Information value of day_of_week is 0.006493\n",
      "      Variable Cutoff     N  ...  % of Non-Events       WoE        IV\n",
      "0  day_of_week    fri  7827  ...         0.191009 -0.046516  0.000404\n",
      "1  day_of_week    mon  8514  ...         0.209779 -0.139068  0.003788\n",
      "2  day_of_week    thu  8623  ...         0.207344  0.082680  0.001478\n",
      "3  day_of_week    tue  8090  ...         0.195277  0.050479  0.000510\n",
      "4  day_of_week    wed  8134  ...         0.196591  0.039570  0.000314\n",
      "\n",
      "[5 rows x 9 columns]\n",
      "Information value of duration is 1.961794\n",
      "   Variable           Cutoff     N  ...  % of Non-Events       WoE        IV\n",
      "0  duration   (-0.001, 59.0]  4181  ...         0.114370 -6.274154  0.716224\n",
      "1  duration     (59.0, 89.0]  4207  ...         0.113932 -2.509119  0.262617\n",
      "2  duration    (89.0, 116.0]  3987  ...         0.106162 -1.526849  0.126883\n",
      "3  duration   (116.0, 146.0]  4152  ...         0.109308 -1.172641  0.088502\n",
      "4  duration   (146.0, 180.0]  4178  ...         0.107311 -0.665267  0.034686\n",
      "5  duration   (180.0, 222.0]  4096  ...         0.102605 -0.319160  0.008948\n",
      "6  duration   (222.0, 280.0]  4062  ...         0.098473  0.013228  0.000017\n",
      "7  duration   (280.0, 368.0]  4103  ...         0.097105  0.206656  0.004607\n",
      "8  duration   (368.0, 551.0]  4118  ...         0.090128  0.678225  0.059316\n",
      "9  duration  (551.0, 4918.0]  4104  ...         0.060605  1.904707  0.659994\n",
      "\n",
      "[10 rows x 9 columns]\n",
      "Information value of campaign is 0.054246\n",
      "   Variable        Cutoff      N  ...  % of Non-Events       WoE        IV\n",
      "0  campaign  (0.999, 2.0]  28212  ...         0.675851  0.112969  0.009131\n",
      "1  campaign    (2.0, 3.0]   5341  ...         0.130431 -0.052931  0.000356\n",
      "2  campaign    (3.0, 5.0]   4250  ...         0.106189 -0.289139  0.007709\n",
      "3  campaign   (5.0, 56.0]   3385  ...         0.087529 -0.780935  0.037050\n",
      "\n",
      "[4 rows x 9 columns]\n",
      "Information value of pdays is 0.0\n",
      "  Variable           Cutoff      N  ...  % of Non-Events  WoE   IV\n",
      "0    pdays  (-0.001, 999.0]  41188  ...              1.0  0.0  0.0\n",
      "\n",
      "[1 rows x 9 columns]\n",
      "Information value of previous is 0.3505\n",
      "   Variable  Cutoff      N  ...  % of Non-Events       WoE        IV\n",
      "0  previous       0  35563  ...         0.887107 -0.270384  0.056826\n",
      "1  previous       1   4561  ...         0.098336  0.751090  0.082671\n",
      "2  previous       2    754  ...         0.011054  1.920430  0.123632\n",
      "3  previous       3    216  ...         0.002408  2.438606  0.061400\n",
      "4  previous       4     70  ...         0.000876  2.235762  0.016353\n",
      "5  previous       5     18  ...         0.000137  3.019424  0.008047\n",
      "6  previous       6      5  ...         0.000055  2.469377  0.001461\n",
      "7  previous       7      1  ...         0.000027  1.370765  0.000110\n",
      "\n",
      "[8 rows x 9 columns]\n",
      "Information value of poutcome is 0.547671\n",
      "   Variable       Cutoff      N  ...  % of Non-Events       WoE        IV\n",
      "0  poutcome      failure   4252  ...         0.099787  0.267480  0.008185\n",
      "1  poutcome  nonexistent  35563  ...         0.887107 -0.270384  0.056826\n",
      "2  poutcome      success   1373  ...         0.013106  2.687917  0.482660\n",
      "\n",
      "[3 rows x 9 columns]\n",
      "Information value of emp.var.rate is 1.06975\n",
      "       Variable  Cutoff      N  ...  % of Non-Events       WoE        IV\n",
      "0  emp.var.rate    -3.4   1071  ...         0.016882  1.757140  0.142263\n",
      "1  emp.var.rate    -3.0    172  ...         0.002298  2.110432  0.035175\n",
      "2  emp.var.rate    -2.9   1663  ...         0.029249  1.476313  0.145812\n",
      "3  emp.var.rate    -1.8   9184  ...         0.211311  0.398830  0.041303\n",
      "4  emp.var.rate    -1.7    773  ...         0.010124  2.149346  0.164919\n",
      "5  emp.var.rate    -1.1    635  ...         0.009139  1.959881  0.109228\n",
      "6  emp.var.rate    -0.2     10  ...         0.000246 -0.133312  0.000004\n",
      "7  emp.var.rate    -0.1   3683  ...         0.094424 -0.635770  0.028243\n",
      "8  emp.var.rate     1.1   7763  ...         0.205839 -1.381169  0.212859\n",
      "9  emp.var.rate     1.4  16234  ...         0.420488 -0.812246  0.189944\n",
      "\n",
      "[10 rows x 9 columns]\n",
      "Information value of cons.price.idx is 0.440236\n",
      "         Variable                       Cutoff  ...       WoE        IV\n",
      "0  cons.price.idx  (92.19999999999999, 92.893]  ...  0.574459  0.082397\n",
      "1  cons.price.idx               (92.893, 93.2]  ...  0.180332  0.005746\n",
      "2  cons.price.idx               (93.2, 93.444]  ... -0.414242  0.019290\n",
      "3  cons.price.idx             (93.444, 93.749]  ...  2.294818  0.043139\n",
      "4  cons.price.idx             (93.749, 93.918]  ... -0.351658  0.018237\n",
      "5  cons.price.idx             (93.918, 93.994]  ... -1.381169  0.212859\n",
      "6  cons.price.idx             (93.994, 94.465]  ...  0.214682  0.006624\n",
      "7  cons.price.idx             (94.465, 94.767]  ...  1.882695  0.051945\n",
      "\n",
      "[8 rows x 9 columns]\n",
      "Information value of cons.conf.idx is 0.86074\n",
      "        Variable                        Cutoff  ...       WoE        IV\n",
      "0  cons.conf.idx  (-50.800999999999995, -46.2]  ...  0.250270  0.014844\n",
      "1  cons.conf.idx                (-46.2, -42.7]  ... -0.671060  0.056429\n",
      "2  cons.conf.idx                (-42.7, -42.0]  ... -0.828213  0.043723\n",
      "3  cons.conf.idx                (-42.0, -41.8]  ... -1.039147  0.076915\n",
      "4  cons.conf.idx                (-41.8, -40.0]  ...  1.914978  0.212548\n",
      "5  cons.conf.idx                (-40.0, -36.4]  ... -0.487228  0.040674\n",
      "6  cons.conf.idx                (-36.4, -36.1]  ... -0.831776  0.063027\n",
      "7  cons.conf.idx                (-36.1, -26.9]  ...  1.764238  0.352580\n",
      "\n",
      "[8 rows x 9 columns]\n",
      "Information value of euribor3m is 1.046047\n",
      "    Variable          Cutoff     N  ...  % of Non-Events       WoE        IV\n",
      "0  euribor3m  (0.633, 1.046]  4128  ...         0.061098  1.899785  0.659809\n",
      "1  euribor3m  (1.046, 1.299]  4508  ...         0.105122  0.311453  0.011964\n",
      "2  euribor3m   (1.299, 1.41]  3926  ...         0.093904  0.125549  0.001577\n",
      "3  euribor3m   (1.41, 4.191]  4504  ...         0.111880 -0.223865  0.005024\n",
      "4  euribor3m  (4.191, 4.857]  4989  ...         0.132237 -1.369455  0.135051\n",
      "5  euribor3m  (4.857, 4.864]  3457  ...         0.090484 -1.029249  0.059857\n",
      "6  euribor3m   (4.864, 4.96]  3983  ...         0.102550 -0.705480  0.036617\n",
      "7  euribor3m   (4.96, 4.962]  4515  ...         0.117134 -0.842709  0.056211\n",
      "8  euribor3m  (4.962, 4.964]  3662  ...         0.095245 -0.892666  0.050200\n",
      "9  euribor3m  (4.964, 5.045]  3516  ...         0.090347 -0.672396  0.029738\n",
      "\n",
      "[10 rows x 9 columns]\n",
      "Information value of nr.employed is 1.173723\n",
      "      Variable              Cutoff      N  ...  % of Non-Events       WoE        IV\n",
      "0  nr.employed  (4963.599, 5076.2]   4964  ...         0.075380  1.843035  0.738499\n",
      "1  nr.employed    (5076.2, 5099.1]   8534  ...         0.203623  0.144783  0.004593\n",
      "2  nr.employed    (5099.1, 5191.0]   7773  ...         0.206085 -1.378207  0.212444\n",
      "3  nr.employed    (5191.0, 5195.8]   3683  ...         0.094424 -0.635770  0.028243\n",
      "4  nr.employed    (5195.8, 5228.1]  16234  ...         0.420488 -0.812246  0.189944\n",
      "\n",
      "[5 rows x 9 columns]\n",
      "         Variable        IV\n",
      "0             age  0.139397\n",
      "0             job  0.188713\n",
      "0         marital  0.028215\n",
      "0       education  0.048576\n",
      "0         default  0.127776\n",
      "0         housing  0.001383\n",
      "0            loan  0.000269\n",
      "0         contact  0.251663\n",
      "0           month  0.485117\n",
      "0     day_of_week  0.006493\n",
      "0        duration  1.961794\n",
      "0        campaign  0.054246\n",
      "0           pdays  0.000000\n",
      "0        previous  0.350500\n",
      "0        poutcome  0.547671\n",
      "0    emp.var.rate  1.069750\n",
      "0  cons.price.idx  0.440236\n",
      "0   cons.conf.idx  0.860740\n",
      "0       euribor3m  1.046047\n",
      "0     nr.employed  1.173723\n"
     ]
    }
   ],
   "source": [
    "#APLICO FUNCION\n",
    "iv, woe = iv_woe(data = bank_df, target = 'y', bins=10, show_woe = True)\n",
    "print(iv)\n",
    "#print(woe)"
   ]
  },
  {
   "cell_type": "code",
   "execution_count": 32,
   "metadata": {
    "colab": {
     "base_uri": "https://localhost:8080/"
    },
    "id": "A0tBgmCseuEV",
    "outputId": "5eae30f8-44aa-4244-e300-595f63e3d47e"
   },
   "outputs": [
    {
     "name": "stdout",
     "output_type": "stream",
     "text": [
      "         Variable        IV\n",
      "0             age  0.139397\n",
      "0             job  0.188713\n",
      "0         marital  0.028215\n",
      "0       education  0.048576\n",
      "0         default  0.127776\n",
      "0         housing  0.001383\n",
      "0            loan  0.000269\n",
      "0         contact  0.251663\n",
      "0           month  0.485117\n",
      "0     day_of_week  0.006493\n",
      "0        duration  1.961794\n",
      "0        campaign  0.054246\n",
      "0           pdays  0.000000\n",
      "0        previous  0.350500\n",
      "0        poutcome  0.547671\n",
      "0    emp.var.rate  1.069750\n",
      "0  cons.price.idx  0.440236\n",
      "0   cons.conf.idx  0.860740\n",
      "0       euribor3m  1.046047\n",
      "0     nr.employed  1.173723\n"
     ]
    }
   ],
   "source": [
    "print(iv)"
   ]
  },
  {
   "cell_type": "markdown",
   "metadata": {
    "id": "qQCCWBig4qXY"
   },
   "source": [
    "![image.png](data:image/png;base64,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)"
   ]
  },
  {
   "cell_type": "markdown",
   "metadata": {
    "id": "GcTei8lpeuEV"
   },
   "source": [
    "Accoding with this table,\n",
    "\n",
    "* There are six variables with a suspicious power prediction: nr.employed, euribor3m, cons.conf.idx, emp.var.rate, poutcome and duration.\n",
    "\n",
    "* There are three variables with a strong power prediction: month, previous and cons.price.idx.\n",
    "\n",
    "* There are three variables with a medium power prediction: age, job and contact.\n",
    "\n",
    "* There are four variables with a weak power prediction: marital, education, campaign and pdays.\n",
    "\n",
    "* There are four variables with no power prediction: default, housing, loan and day_of_week."
   ]
  },
  {
   "cell_type": "markdown",
   "metadata": {
    "id": "ykQUriREeuEV"
   },
   "source": [
    "### **Replace values with WOE values**"
   ]
  },
  {
   "cell_type": "markdown",
   "metadata": {
    "id": "sAFEe85-euEW"
   },
   "source": [
    "The variables that will be treated using WOE values are,\n",
    "\n",
    "* age\n",
    "* campaing\n",
    "* duration"
   ]
  },
  {
   "cell_type": "code",
   "execution_count": 33,
   "metadata": {
    "colab": {
     "base_uri": "https://localhost:8080/"
    },
    "id": "BQFY6qFFeuEW",
    "outputId": "07620232-0ffb-48a0-debf-2485904d3f04"
   },
   "outputs": [
    {
     "data": {
      "text/plain": [
       "(       age\n",
       " 0       56\n",
       " 1       57\n",
       " 2       37\n",
       " 3       40\n",
       " 4       56\n",
       " ...    ...\n",
       " 41183   73\n",
       " 41184   46\n",
       " 41185   56\n",
       " 41186   44\n",
       " 41187   74\n",
       " \n",
       " [41188 rows x 1 columns], Index(['age'], dtype='object'))"
      ]
     },
     "execution_count": 33,
     "metadata": {
      "tags": []
     },
     "output_type": "execute_result"
    }
   ],
   "source": [
    "# AGE\n",
    "#CREATE A DATAFRAME\n",
    "age= pd.DataFrame(bank_df['age'])\n",
    "age.columns = ['age']\n",
    "age, age.columns"
   ]
  },
  {
   "cell_type": "code",
   "execution_count": 34,
   "metadata": {
    "colab": {
     "base_uri": "https://localhost:8080/",
     "height": 359
    },
    "id": "6MDt7t0KeuEW",
    "outputId": "e839d241-2f1b-4921-abf7-92f812da1643"
   },
   "outputs": [
    {
     "data": {
      "text/html": [
       "<div>\n",
       "<style scoped>\n",
       "    .dataframe tbody tr th:only-of-type {\n",
       "        vertical-align: middle;\n",
       "    }\n",
       "\n",
       "    .dataframe tbody tr th {\n",
       "        vertical-align: top;\n",
       "    }\n",
       "\n",
       "    .dataframe thead th {\n",
       "        text-align: right;\n",
       "    }\n",
       "</style>\n",
       "<table border=\"1\" class=\"dataframe\">\n",
       "  <thead>\n",
       "    <tr style=\"text-align: right;\">\n",
       "      <th></th>\n",
       "      <th>Variable</th>\n",
       "      <th>Cutoff</th>\n",
       "      <th>N</th>\n",
       "      <th>Events</th>\n",
       "      <th>% of Events</th>\n",
       "      <th>Non-Events</th>\n",
       "      <th>% of Non-Events</th>\n",
       "      <th>WoE</th>\n",
       "      <th>IV</th>\n",
       "    </tr>\n",
       "  </thead>\n",
       "  <tbody>\n",
       "    <tr>\n",
       "      <th>0</th>\n",
       "      <td>age</td>\n",
       "      <td>(16.999, 28.0]</td>\n",
       "      <td>4216</td>\n",
       "      <td>736</td>\n",
       "      <td>0.158621</td>\n",
       "      <td>3480</td>\n",
       "      <td>0.095217</td>\n",
       "      <td>0.510355</td>\n",
       "      <td>0.032358</td>\n",
       "    </tr>\n",
       "    <tr>\n",
       "      <th>1</th>\n",
       "      <td>age</td>\n",
       "      <td>(28.0, 31.0]</td>\n",
       "      <td>5114</td>\n",
       "      <td>608</td>\n",
       "      <td>0.131034</td>\n",
       "      <td>4506</td>\n",
       "      <td>0.123290</td>\n",
       "      <td>0.060922</td>\n",
       "      <td>0.000472</td>\n",
       "    </tr>\n",
       "    <tr>\n",
       "      <th>2</th>\n",
       "      <td>age</td>\n",
       "      <td>(31.0, 33.0]</td>\n",
       "      <td>3679</td>\n",
       "      <td>394</td>\n",
       "      <td>0.084914</td>\n",
       "      <td>3285</td>\n",
       "      <td>0.089882</td>\n",
       "      <td>-0.056859</td>\n",
       "      <td>0.000282</td>\n",
       "    </tr>\n",
       "    <tr>\n",
       "      <th>3</th>\n",
       "      <td>age</td>\n",
       "      <td>(33.0, 35.0]</td>\n",
       "      <td>3504</td>\n",
       "      <td>351</td>\n",
       "      <td>0.075647</td>\n",
       "      <td>3153</td>\n",
       "      <td>0.086270</td>\n",
       "      <td>-0.131411</td>\n",
       "      <td>0.001396</td>\n",
       "    </tr>\n",
       "    <tr>\n",
       "      <th>4</th>\n",
       "      <td>age</td>\n",
       "      <td>(35.0, 38.0]</td>\n",
       "      <td>4662</td>\n",
       "      <td>434</td>\n",
       "      <td>0.093534</td>\n",
       "      <td>4228</td>\n",
       "      <td>0.115683</td>\n",
       "      <td>-0.212528</td>\n",
       "      <td>0.004707</td>\n",
       "    </tr>\n",
       "    <tr>\n",
       "      <th>5</th>\n",
       "      <td>age</td>\n",
       "      <td>(38.0, 41.0]</td>\n",
       "      <td>3871</td>\n",
       "      <td>311</td>\n",
       "      <td>0.067026</td>\n",
       "      <td>3560</td>\n",
       "      <td>0.097406</td>\n",
       "      <td>-0.373811</td>\n",
       "      <td>0.011356</td>\n",
       "    </tr>\n",
       "    <tr>\n",
       "      <th>6</th>\n",
       "      <td>age</td>\n",
       "      <td>(41.0, 45.0]</td>\n",
       "      <td>4311</td>\n",
       "      <td>348</td>\n",
       "      <td>0.075000</td>\n",
       "      <td>3963</td>\n",
       "      <td>0.108433</td>\n",
       "      <td>-0.368642</td>\n",
       "      <td>0.012325</td>\n",
       "    </tr>\n",
       "    <tr>\n",
       "      <th>7</th>\n",
       "      <td>age</td>\n",
       "      <td>(45.0, 49.0]</td>\n",
       "      <td>3776</td>\n",
       "      <td>289</td>\n",
       "      <td>0.062284</td>\n",
       "      <td>3487</td>\n",
       "      <td>0.095409</td>\n",
       "      <td>-0.426458</td>\n",
       "      <td>0.014126</td>\n",
       "    </tr>\n",
       "    <tr>\n",
       "      <th>8</th>\n",
       "      <td>age</td>\n",
       "      <td>(49.0, 55.0]</td>\n",
       "      <td>4473</td>\n",
       "      <td>428</td>\n",
       "      <td>0.092241</td>\n",
       "      <td>4045</td>\n",
       "      <td>0.110676</td>\n",
       "      <td>-0.182202</td>\n",
       "      <td>0.003359</td>\n",
       "    </tr>\n",
       "    <tr>\n",
       "      <th>9</th>\n",
       "      <td>age</td>\n",
       "      <td>(55.0, 98.0]</td>\n",
       "      <td>3582</td>\n",
       "      <td>741</td>\n",
       "      <td>0.159698</td>\n",
       "      <td>2841</td>\n",
       "      <td>0.077733</td>\n",
       "      <td>0.720001</td>\n",
       "      <td>0.059015</td>\n",
       "    </tr>\n",
       "  </tbody>\n",
       "</table>\n",
       "</div>"
      ],
      "text/plain": [
       "  Variable          Cutoff     N  ...  % of Non-Events       WoE        IV\n",
       "0      age  (16.999, 28.0]  4216  ...         0.095217  0.510355  0.032358\n",
       "1      age    (28.0, 31.0]  5114  ...         0.123290  0.060922  0.000472\n",
       "2      age    (31.0, 33.0]  3679  ...         0.089882 -0.056859  0.000282\n",
       "3      age    (33.0, 35.0]  3504  ...         0.086270 -0.131411  0.001396\n",
       "4      age    (35.0, 38.0]  4662  ...         0.115683 -0.212528  0.004707\n",
       "5      age    (38.0, 41.0]  3871  ...         0.097406 -0.373811  0.011356\n",
       "6      age    (41.0, 45.0]  4311  ...         0.108433 -0.368642  0.012325\n",
       "7      age    (45.0, 49.0]  3776  ...         0.095409 -0.426458  0.014126\n",
       "8      age    (49.0, 55.0]  4473  ...         0.110676 -0.182202  0.003359\n",
       "9      age    (55.0, 98.0]  3582  ...         0.077733  0.720001  0.059015\n",
       "\n",
       "[10 rows x 9 columns]"
      ]
     },
     "execution_count": 34,
     "metadata": {
      "tags": []
     },
     "output_type": "execute_result"
    }
   ],
   "source": [
    "age_table = woe[:10]\n",
    "age_table"
   ]
  },
  {
   "cell_type": "code",
   "execution_count": 35,
   "metadata": {
    "colab": {
     "base_uri": "https://localhost:8080/",
     "height": 359
    },
    "id": "ziqTA12veuEW",
    "outputId": "23978bba-0cdc-4b19-f930-f61bbe29267a"
   },
   "outputs": [
    {
     "data": {
      "text/html": [
       "<div>\n",
       "<style scoped>\n",
       "    .dataframe tbody tr th:only-of-type {\n",
       "        vertical-align: middle;\n",
       "    }\n",
       "\n",
       "    .dataframe tbody tr th {\n",
       "        vertical-align: top;\n",
       "    }\n",
       "\n",
       "    .dataframe thead th {\n",
       "        text-align: right;\n",
       "    }\n",
       "</style>\n",
       "<table border=\"1\" class=\"dataframe\">\n",
       "  <thead>\n",
       "    <tr style=\"text-align: right;\">\n",
       "      <th></th>\n",
       "      <th>intervals</th>\n",
       "      <th>left</th>\n",
       "      <th>right</th>\n",
       "      <th>WOE</th>\n",
       "    </tr>\n",
       "  </thead>\n",
       "  <tbody>\n",
       "    <tr>\n",
       "      <th>0</th>\n",
       "      <td>(16.999, 28.0]</td>\n",
       "      <td>16.999</td>\n",
       "      <td>28.0</td>\n",
       "      <td>0.510355</td>\n",
       "    </tr>\n",
       "    <tr>\n",
       "      <th>1</th>\n",
       "      <td>(28.0, 31.0]</td>\n",
       "      <td>28.000</td>\n",
       "      <td>31.0</td>\n",
       "      <td>0.060922</td>\n",
       "    </tr>\n",
       "    <tr>\n",
       "      <th>2</th>\n",
       "      <td>(31.0, 33.0]</td>\n",
       "      <td>31.000</td>\n",
       "      <td>33.0</td>\n",
       "      <td>-0.056859</td>\n",
       "    </tr>\n",
       "    <tr>\n",
       "      <th>3</th>\n",
       "      <td>(33.0, 35.0]</td>\n",
       "      <td>33.000</td>\n",
       "      <td>35.0</td>\n",
       "      <td>-0.131411</td>\n",
       "    </tr>\n",
       "    <tr>\n",
       "      <th>4</th>\n",
       "      <td>(35.0, 38.0]</td>\n",
       "      <td>35.000</td>\n",
       "      <td>38.0</td>\n",
       "      <td>-0.212528</td>\n",
       "    </tr>\n",
       "    <tr>\n",
       "      <th>5</th>\n",
       "      <td>(38.0, 41.0]</td>\n",
       "      <td>38.000</td>\n",
       "      <td>41.0</td>\n",
       "      <td>-0.373811</td>\n",
       "    </tr>\n",
       "    <tr>\n",
       "      <th>6</th>\n",
       "      <td>(41.0, 45.0]</td>\n",
       "      <td>41.000</td>\n",
       "      <td>45.0</td>\n",
       "      <td>-0.368642</td>\n",
       "    </tr>\n",
       "    <tr>\n",
       "      <th>7</th>\n",
       "      <td>(45.0, 49.0]</td>\n",
       "      <td>45.000</td>\n",
       "      <td>49.0</td>\n",
       "      <td>-0.426458</td>\n",
       "    </tr>\n",
       "    <tr>\n",
       "      <th>8</th>\n",
       "      <td>(49.0, 55.0]</td>\n",
       "      <td>49.000</td>\n",
       "      <td>55.0</td>\n",
       "      <td>-0.182202</td>\n",
       "    </tr>\n",
       "    <tr>\n",
       "      <th>9</th>\n",
       "      <td>(55.0, 98.0]</td>\n",
       "      <td>55.000</td>\n",
       "      <td>98.0</td>\n",
       "      <td>0.720001</td>\n",
       "    </tr>\n",
       "  </tbody>\n",
       "</table>\n",
       "</div>"
      ],
      "text/plain": [
       "        intervals    left  right       WOE\n",
       "0  (16.999, 28.0]  16.999   28.0  0.510355\n",
       "1    (28.0, 31.0]  28.000   31.0  0.060922\n",
       "2    (31.0, 33.0]  31.000   33.0 -0.056859\n",
       "3    (33.0, 35.0]  33.000   35.0 -0.131411\n",
       "4    (35.0, 38.0]  35.000   38.0 -0.212528\n",
       "5    (38.0, 41.0]  38.000   41.0 -0.373811\n",
       "6    (41.0, 45.0]  41.000   45.0 -0.368642\n",
       "7    (45.0, 49.0]  45.000   49.0 -0.426458\n",
       "8    (49.0, 55.0]  49.000   55.0 -0.182202\n",
       "9    (55.0, 98.0]  55.000   98.0  0.720001"
      ]
     },
     "execution_count": 35,
     "metadata": {
      "tags": []
     },
     "output_type": "execute_result"
    }
   ],
   "source": [
    "#CREATE STRUCTURE TO EXTRACT LIMITS\n",
    "idx = pd.IntervalIndex(age_table['Cutoff'])\n",
    "\n",
    "#INTERVALS , LIMITS AND WOE VALUES\n",
    "inter = pd.DataFrame({'intervals': idx, 'left': idx.left, 'right': idx.right})\n",
    "inter['WOE'] = age_table['WoE']\n",
    "inter"
   ]
  },
  {
   "cell_type": "code",
   "execution_count": 36,
   "metadata": {
    "id": "dyIsNCoYeuEX"
   },
   "outputs": [],
   "source": [
    "#CREATE AUXILIARY VARIABLES\n",
    "inter['left'][0],inter['right'][0]\n",
    "\n",
    "aux1 = (inter['left'][0] <=  age) & (age < inter['right'][0])\n",
    "aux2 = (inter['left'][1] <=  age) & (age < inter['right'][1])\n",
    "aux3 = (inter['left'][2] <=  age) & (age < inter['right'][2])\n",
    "aux4 = (inter['left'][3] <=  age) & (age < inter['right'][3])\n",
    "aux5 = (inter['left'][4] <=  age) & (age < inter['right'][4])\n",
    "aux6 = (inter['left'][5] <=  age) & (age < inter['right'][5])\n",
    "aux7 = (inter['left'][6] <=  age) & (age < inter['right'][6])\n",
    "aux8 = (inter['left'][7] <=  age) & (age < inter['right'][7])\n",
    "aux9 = (inter['left'][8] <=  age) & (age < inter['right'][8])\n",
    "aux10 = (inter['left'][9] <=  age) & (age <= inter['right'][9])"
   ]
  },
  {
   "cell_type": "code",
   "execution_count": 37,
   "metadata": {
    "colab": {
     "base_uri": "https://localhost:8080/"
    },
    "id": "NMFmzIMHeuEX",
    "outputId": "b993b49e-6026-4dd3-d736-e2d6c2d4f64d"
   },
   "outputs": [
    {
     "data": {
      "text/plain": [
       "age      \n",
       "-0.212528    5014\n",
       "-0.182202    4664\n",
       "-0.368642    4486\n",
       " 0.720001    4230\n",
       " 0.060922    4168\n",
       "-0.426458    4040\n",
       "-0.373811    4000\n",
       "-0.056859    3793\n",
       "-0.131411    3578\n",
       " 0.510355    3215\n",
       "dtype: int64"
      ]
     },
     "execution_count": 37,
     "metadata": {
      "tags": []
     },
     "output_type": "execute_result"
    }
   ],
   "source": [
    "#REPLACE VALUES WITH WOE\n",
    "age[aux1] = inter['WOE'][0]\n",
    "age[aux2] = inter['WOE'][1]\n",
    "age[aux3] = inter['WOE'][2]\n",
    "age[aux4] = inter['WOE'][3]\n",
    "age[aux5] = inter['WOE'][4]\n",
    "age[aux6] = inter['WOE'][5]\n",
    "age[aux7] = inter['WOE'][6]\n",
    "age[aux8] = inter['WOE'][7]\n",
    "age[aux9] = inter['WOE'][8]\n",
    "age[aux10] = inter['WOE'][9]\n",
    "\n",
    "age.value_counts()"
   ]
  },
  {
   "cell_type": "code",
   "execution_count": 38,
   "metadata": {
    "colab": {
     "base_uri": "https://localhost:8080/"
    },
    "id": "UdutIo0zeuEX",
    "outputId": "06c9b667-b27c-4040-f385-836aa10d0edd"
   },
   "outputs": [
    {
     "data": {
      "text/plain": [
       "-0.212528    5014\n",
       "-0.182202    4664\n",
       "-0.368642    4486\n",
       " 0.720001    4230\n",
       " 0.060922    4168\n",
       "-0.426458    4040\n",
       "-0.373811    4000\n",
       "-0.056859    3793\n",
       "-0.131411    3578\n",
       " 0.510355    3215\n",
       "Name: age, dtype: int64"
      ]
     },
     "execution_count": 38,
     "metadata": {
      "tags": []
     },
     "output_type": "execute_result"
    }
   ],
   "source": [
    "#REPLACE OLD VARIABLE\n",
    "bank_df['age'] = age\n",
    "bank_df['age'].value_counts()"
   ]
  },
  {
   "cell_type": "code",
   "execution_count": 39,
   "metadata": {
    "colab": {
     "base_uri": "https://localhost:8080/"
    },
    "id": "4z2FNDUveuEY",
    "outputId": "309af4e1-7235-471a-931b-74214c85d35c"
   },
   "outputs": [
    {
     "data": {
      "text/plain": [
       "1     17642\n",
       "2     10570\n",
       "3      5341\n",
       "4      2651\n",
       "5      1599\n",
       "6       979\n",
       "7       629\n",
       "8       400\n",
       "9       283\n",
       "10      225\n",
       "11      177\n",
       "12      125\n",
       "13       92\n",
       "14       69\n",
       "17       58\n",
       "15       51\n",
       "16       51\n",
       "18       33\n",
       "20       30\n",
       "19       26\n",
       "21       24\n",
       "22       17\n",
       "23       16\n",
       "24       15\n",
       "27       11\n",
       "29       10\n",
       "25        8\n",
       "26        8\n",
       "28        8\n",
       "30        7\n",
       "31        7\n",
       "35        5\n",
       "33        4\n",
       "32        4\n",
       "34        3\n",
       "40        2\n",
       "42        2\n",
       "43        2\n",
       "37        1\n",
       "39        1\n",
       "41        1\n",
       "56        1\n",
       "Name: campaign, dtype: int64"
      ]
     },
     "execution_count": 39,
     "metadata": {
      "tags": []
     },
     "output_type": "execute_result"
    }
   ],
   "source": [
    "#CAMPAIGN\n",
    "#CREATE A DATAFRAME\n",
    "campaign= pd.DataFrame(bank_df['campaign'])\n",
    "campaign.columns = ['campaign']\n",
    "campaign['campaign'].value_counts()"
   ]
  },
  {
   "cell_type": "code",
   "execution_count": 40,
   "metadata": {
    "colab": {
     "base_uri": "https://localhost:8080/",
     "height": 173
    },
    "id": "1bsxmkjyeuEY",
    "outputId": "63974ef6-85bc-451d-efcc-280960e7a4fa"
   },
   "outputs": [
    {
     "data": {
      "text/html": [
       "<div>\n",
       "<style scoped>\n",
       "    .dataframe tbody tr th:only-of-type {\n",
       "        vertical-align: middle;\n",
       "    }\n",
       "\n",
       "    .dataframe tbody tr th {\n",
       "        vertical-align: top;\n",
       "    }\n",
       "\n",
       "    .dataframe thead th {\n",
       "        text-align: right;\n",
       "    }\n",
       "</style>\n",
       "<table border=\"1\" class=\"dataframe\">\n",
       "  <thead>\n",
       "    <tr style=\"text-align: right;\">\n",
       "      <th></th>\n",
       "      <th>Variable</th>\n",
       "      <th>Cutoff</th>\n",
       "      <th>N</th>\n",
       "      <th>Events</th>\n",
       "      <th>% of Events</th>\n",
       "      <th>Non-Events</th>\n",
       "      <th>% of Non-Events</th>\n",
       "      <th>WoE</th>\n",
       "      <th>IV</th>\n",
       "    </tr>\n",
       "  </thead>\n",
       "  <tbody>\n",
       "    <tr>\n",
       "      <th>0</th>\n",
       "      <td>campaign</td>\n",
       "      <td>(0.999, 2.0]</td>\n",
       "      <td>28212</td>\n",
       "      <td>3511</td>\n",
       "      <td>0.756681</td>\n",
       "      <td>24701</td>\n",
       "      <td>0.675851</td>\n",
       "      <td>0.112969</td>\n",
       "      <td>0.009131</td>\n",
       "    </tr>\n",
       "    <tr>\n",
       "      <th>1</th>\n",
       "      <td>campaign</td>\n",
       "      <td>(2.0, 3.0]</td>\n",
       "      <td>5341</td>\n",
       "      <td>574</td>\n",
       "      <td>0.123707</td>\n",
       "      <td>4767</td>\n",
       "      <td>0.130431</td>\n",
       "      <td>-0.052931</td>\n",
       "      <td>0.000356</td>\n",
       "    </tr>\n",
       "    <tr>\n",
       "      <th>2</th>\n",
       "      <td>campaign</td>\n",
       "      <td>(3.0, 5.0]</td>\n",
       "      <td>4250</td>\n",
       "      <td>369</td>\n",
       "      <td>0.079526</td>\n",
       "      <td>3881</td>\n",
       "      <td>0.106189</td>\n",
       "      <td>-0.289139</td>\n",
       "      <td>0.007709</td>\n",
       "    </tr>\n",
       "    <tr>\n",
       "      <th>3</th>\n",
       "      <td>campaign</td>\n",
       "      <td>(5.0, 56.0]</td>\n",
       "      <td>3385</td>\n",
       "      <td>186</td>\n",
       "      <td>0.040086</td>\n",
       "      <td>3199</td>\n",
       "      <td>0.087529</td>\n",
       "      <td>-0.780935</td>\n",
       "      <td>0.037050</td>\n",
       "    </tr>\n",
       "  </tbody>\n",
       "</table>\n",
       "</div>"
      ],
      "text/plain": [
       "   Variable        Cutoff      N  ...  % of Non-Events       WoE        IV\n",
       "0  campaign  (0.999, 2.0]  28212  ...         0.675851  0.112969  0.009131\n",
       "1  campaign    (2.0, 3.0]   5341  ...         0.130431 -0.052931  0.000356\n",
       "2  campaign    (3.0, 5.0]   4250  ...         0.106189 -0.289139  0.007709\n",
       "3  campaign   (5.0, 56.0]   3385  ...         0.087529 -0.780935  0.037050\n",
       "\n",
       "[4 rows x 9 columns]"
      ]
     },
     "execution_count": 40,
     "metadata": {
      "tags": []
     },
     "output_type": "execute_result"
    }
   ],
   "source": [
    "#SELECT VALUES FOR CAMPAIGN VARIABLE\n",
    "aux_c = woe['Variable'] == 'campaign' \n",
    "campaign_table = woe[aux_c]\n",
    "campaign_table"
   ]
  },
  {
   "cell_type": "code",
   "execution_count": 41,
   "metadata": {
    "colab": {
     "base_uri": "https://localhost:8080/",
     "height": 173
    },
    "id": "dHvTn6epeuEY",
    "outputId": "2b5e4b45-c867-4b13-c548-df3185253146"
   },
   "outputs": [
    {
     "data": {
      "text/html": [
       "<div>\n",
       "<style scoped>\n",
       "    .dataframe tbody tr th:only-of-type {\n",
       "        vertical-align: middle;\n",
       "    }\n",
       "\n",
       "    .dataframe tbody tr th {\n",
       "        vertical-align: top;\n",
       "    }\n",
       "\n",
       "    .dataframe thead th {\n",
       "        text-align: right;\n",
       "    }\n",
       "</style>\n",
       "<table border=\"1\" class=\"dataframe\">\n",
       "  <thead>\n",
       "    <tr style=\"text-align: right;\">\n",
       "      <th></th>\n",
       "      <th>intervals</th>\n",
       "      <th>left</th>\n",
       "      <th>right</th>\n",
       "      <th>WOE</th>\n",
       "    </tr>\n",
       "  </thead>\n",
       "  <tbody>\n",
       "    <tr>\n",
       "      <th>0</th>\n",
       "      <td>(0.999, 2.0]</td>\n",
       "      <td>0.999</td>\n",
       "      <td>2.0</td>\n",
       "      <td>0.112969</td>\n",
       "    </tr>\n",
       "    <tr>\n",
       "      <th>1</th>\n",
       "      <td>(2.0, 3.0]</td>\n",
       "      <td>2.000</td>\n",
       "      <td>3.0</td>\n",
       "      <td>-0.052931</td>\n",
       "    </tr>\n",
       "    <tr>\n",
       "      <th>2</th>\n",
       "      <td>(3.0, 5.0]</td>\n",
       "      <td>3.000</td>\n",
       "      <td>5.0</td>\n",
       "      <td>-0.289139</td>\n",
       "    </tr>\n",
       "    <tr>\n",
       "      <th>3</th>\n",
       "      <td>(5.0, 56.0]</td>\n",
       "      <td>5.000</td>\n",
       "      <td>56.0</td>\n",
       "      <td>-0.780935</td>\n",
       "    </tr>\n",
       "  </tbody>\n",
       "</table>\n",
       "</div>"
      ],
      "text/plain": [
       "      intervals   left  right       WOE\n",
       "0  (0.999, 2.0]  0.999    2.0  0.112969\n",
       "1    (2.0, 3.0]  2.000    3.0 -0.052931\n",
       "2    (3.0, 5.0]  3.000    5.0 -0.289139\n",
       "3   (5.0, 56.0]  5.000   56.0 -0.780935"
      ]
     },
     "execution_count": 41,
     "metadata": {
      "tags": []
     },
     "output_type": "execute_result"
    }
   ],
   "source": [
    "#CREATE STRUCTURE TO EXTRACT LIMITS\n",
    "idx = pd.IntervalIndex(campaign_table['Cutoff'])\n",
    "\n",
    "#INTERVALS , LIMITS AND WOE VALUES\n",
    "inter = pd.DataFrame({'intervals': idx, 'left': idx.left, 'right': idx.right})\n",
    "inter['WOE'] = campaign_table['WoE']\n",
    "inter"
   ]
  },
  {
   "cell_type": "code",
   "execution_count": 42,
   "metadata": {
    "id": "guN08_mdeuEY"
   },
   "outputs": [],
   "source": [
    "#CREATE AUXILIARY VARIABLES\n",
    "inter['left'][0],inter['right'][0]\n",
    "\n",
    "aux1 = (inter['left'][0] <=  campaign) & (campaign < inter['right'][0])\n",
    "aux2 = (inter['left'][1] <=  campaign) & (campaign < inter['right'][1])\n",
    "aux3 = (inter['left'][2] <=  campaign) & (campaign < inter['right'][2])\n",
    "aux4 = (inter['left'][3] <=  campaign) & (campaign <= inter['right'][3])"
   ]
  },
  {
   "cell_type": "code",
   "execution_count": 43,
   "metadata": {
    "colab": {
     "base_uri": "https://localhost:8080/"
    },
    "id": "Y_lTHzaneuEY",
    "outputId": "47ae3bf5-2abd-4c4c-caff-eedb33280490"
   },
   "outputs": [
    {
     "data": {
      "text/plain": [
       "campaign \n",
       " 0.112969    17642\n",
       "-0.052931    10570\n",
       "-0.289139     7992\n",
       "-0.780935     4984\n",
       "dtype: int64"
      ]
     },
     "execution_count": 43,
     "metadata": {
      "tags": []
     },
     "output_type": "execute_result"
    }
   ],
   "source": [
    "#REPLACE VALUES WITH WOE\n",
    "campaign[aux1] = inter['WOE'][0]\n",
    "campaign[aux2] = inter['WOE'][1]\n",
    "campaign[aux3] = inter['WOE'][2]\n",
    "campaign[aux4] = inter['WOE'][3]\n",
    "\n",
    "campaign.value_counts()"
   ]
  },
  {
   "cell_type": "code",
   "execution_count": 44,
   "metadata": {
    "colab": {
     "base_uri": "https://localhost:8080/"
    },
    "id": "4B9iZlTSeuEZ",
    "outputId": "a5a6ba2c-4c02-4d25-e690-be3c79646c68"
   },
   "outputs": [
    {
     "data": {
      "text/plain": [
       " 0.112969    17642\n",
       "-0.052931    10570\n",
       "-0.289139     7992\n",
       "-0.780935     4984\n",
       "Name: campaign, dtype: int64"
      ]
     },
     "execution_count": 44,
     "metadata": {
      "tags": []
     },
     "output_type": "execute_result"
    }
   ],
   "source": [
    "#REPLACE OLD VARIABLE\n",
    "bank_df['campaign'] = campaign\n",
    "bank_df['campaign'].value_counts()"
   ]
  },
  {
   "cell_type": "code",
   "execution_count": 45,
   "metadata": {
    "colab": {
     "base_uri": "https://localhost:8080/"
    },
    "id": "aJUX_-xgeuEZ",
    "outputId": "67e09845-4c26-4cdf-e0b2-d43f052677c9"
   },
   "outputs": [
    {
     "data": {
      "text/plain": [
       "85      170\n",
       "90      170\n",
       "136     168\n",
       "73      167\n",
       "124     164\n",
       "       ... \n",
       "1108      1\n",
       "980       1\n",
       "4918      1\n",
       "2453      1\n",
       "2015      1\n",
       "Name: duration, Length: 1544, dtype: int64"
      ]
     },
     "execution_count": 45,
     "metadata": {
      "tags": []
     },
     "output_type": "execute_result"
    }
   ],
   "source": [
    "#DURATION\n",
    "#CREATE A DATAFRAME\n",
    "duration= pd.DataFrame(bank_df['duration'])\n",
    "duration.columns = ['duration']\n",
    "duration['duration'].value_counts()"
   ]
  },
  {
   "cell_type": "code",
   "execution_count": 46,
   "metadata": {
    "colab": {
     "base_uri": "https://localhost:8080/",
     "height": 359
    },
    "id": "THiZYG34euEZ",
    "outputId": "1202e818-24a4-41d6-80aa-89b8c5891a32"
   },
   "outputs": [
    {
     "data": {
      "text/html": [
       "<div>\n",
       "<style scoped>\n",
       "    .dataframe tbody tr th:only-of-type {\n",
       "        vertical-align: middle;\n",
       "    }\n",
       "\n",
       "    .dataframe tbody tr th {\n",
       "        vertical-align: top;\n",
       "    }\n",
       "\n",
       "    .dataframe thead th {\n",
       "        text-align: right;\n",
       "    }\n",
       "</style>\n",
       "<table border=\"1\" class=\"dataframe\">\n",
       "  <thead>\n",
       "    <tr style=\"text-align: right;\">\n",
       "      <th></th>\n",
       "      <th>Variable</th>\n",
       "      <th>Cutoff</th>\n",
       "      <th>N</th>\n",
       "      <th>Events</th>\n",
       "      <th>% of Events</th>\n",
       "      <th>Non-Events</th>\n",
       "      <th>% of Non-Events</th>\n",
       "      <th>WoE</th>\n",
       "      <th>IV</th>\n",
       "    </tr>\n",
       "  </thead>\n",
       "  <tbody>\n",
       "    <tr>\n",
       "      <th>0</th>\n",
       "      <td>duration</td>\n",
       "      <td>(-0.001, 59.0]</td>\n",
       "      <td>4181</td>\n",
       "      <td>1</td>\n",
       "      <td>0.000216</td>\n",
       "      <td>4180</td>\n",
       "      <td>0.114370</td>\n",
       "      <td>-6.274154</td>\n",
       "      <td>0.716224</td>\n",
       "    </tr>\n",
       "    <tr>\n",
       "      <th>1</th>\n",
       "      <td>duration</td>\n",
       "      <td>(59.0, 89.0]</td>\n",
       "      <td>4207</td>\n",
       "      <td>43</td>\n",
       "      <td>0.009267</td>\n",
       "      <td>4164</td>\n",
       "      <td>0.113932</td>\n",
       "      <td>-2.509119</td>\n",
       "      <td>0.262617</td>\n",
       "    </tr>\n",
       "    <tr>\n",
       "      <th>2</th>\n",
       "      <td>duration</td>\n",
       "      <td>(89.0, 116.0]</td>\n",
       "      <td>3987</td>\n",
       "      <td>107</td>\n",
       "      <td>0.023060</td>\n",
       "      <td>3880</td>\n",
       "      <td>0.106162</td>\n",
       "      <td>-1.526849</td>\n",
       "      <td>0.126883</td>\n",
       "    </tr>\n",
       "    <tr>\n",
       "      <th>3</th>\n",
       "      <td>duration</td>\n",
       "      <td>(116.0, 146.0]</td>\n",
       "      <td>4152</td>\n",
       "      <td>157</td>\n",
       "      <td>0.033836</td>\n",
       "      <td>3995</td>\n",
       "      <td>0.109308</td>\n",
       "      <td>-1.172641</td>\n",
       "      <td>0.088502</td>\n",
       "    </tr>\n",
       "    <tr>\n",
       "      <th>4</th>\n",
       "      <td>duration</td>\n",
       "      <td>(146.0, 180.0]</td>\n",
       "      <td>4178</td>\n",
       "      <td>256</td>\n",
       "      <td>0.055172</td>\n",
       "      <td>3922</td>\n",
       "      <td>0.107311</td>\n",
       "      <td>-0.665267</td>\n",
       "      <td>0.034686</td>\n",
       "    </tr>\n",
       "    <tr>\n",
       "      <th>5</th>\n",
       "      <td>duration</td>\n",
       "      <td>(180.0, 222.0]</td>\n",
       "      <td>4096</td>\n",
       "      <td>346</td>\n",
       "      <td>0.074569</td>\n",
       "      <td>3750</td>\n",
       "      <td>0.102605</td>\n",
       "      <td>-0.319160</td>\n",
       "      <td>0.008948</td>\n",
       "    </tr>\n",
       "    <tr>\n",
       "      <th>6</th>\n",
       "      <td>duration</td>\n",
       "      <td>(222.0, 280.0]</td>\n",
       "      <td>4062</td>\n",
       "      <td>463</td>\n",
       "      <td>0.099784</td>\n",
       "      <td>3599</td>\n",
       "      <td>0.098473</td>\n",
       "      <td>0.013228</td>\n",
       "      <td>0.000017</td>\n",
       "    </tr>\n",
       "    <tr>\n",
       "      <th>7</th>\n",
       "      <td>duration</td>\n",
       "      <td>(280.0, 368.0]</td>\n",
       "      <td>4103</td>\n",
       "      <td>554</td>\n",
       "      <td>0.119397</td>\n",
       "      <td>3549</td>\n",
       "      <td>0.097105</td>\n",
       "      <td>0.206656</td>\n",
       "      <td>0.004607</td>\n",
       "    </tr>\n",
       "    <tr>\n",
       "      <th>8</th>\n",
       "      <td>duration</td>\n",
       "      <td>(368.0, 551.0]</td>\n",
       "      <td>4118</td>\n",
       "      <td>824</td>\n",
       "      <td>0.177586</td>\n",
       "      <td>3294</td>\n",
       "      <td>0.090128</td>\n",
       "      <td>0.678225</td>\n",
       "      <td>0.059316</td>\n",
       "    </tr>\n",
       "    <tr>\n",
       "      <th>9</th>\n",
       "      <td>duration</td>\n",
       "      <td>(551.0, 4918.0]</td>\n",
       "      <td>4104</td>\n",
       "      <td>1889</td>\n",
       "      <td>0.407112</td>\n",
       "      <td>2215</td>\n",
       "      <td>0.060605</td>\n",
       "      <td>1.904707</td>\n",
       "      <td>0.659994</td>\n",
       "    </tr>\n",
       "  </tbody>\n",
       "</table>\n",
       "</div>"
      ],
      "text/plain": [
       "   Variable           Cutoff     N  ...  % of Non-Events       WoE        IV\n",
       "0  duration   (-0.001, 59.0]  4181  ...         0.114370 -6.274154  0.716224\n",
       "1  duration     (59.0, 89.0]  4207  ...         0.113932 -2.509119  0.262617\n",
       "2  duration    (89.0, 116.0]  3987  ...         0.106162 -1.526849  0.126883\n",
       "3  duration   (116.0, 146.0]  4152  ...         0.109308 -1.172641  0.088502\n",
       "4  duration   (146.0, 180.0]  4178  ...         0.107311 -0.665267  0.034686\n",
       "5  duration   (180.0, 222.0]  4096  ...         0.102605 -0.319160  0.008948\n",
       "6  duration   (222.0, 280.0]  4062  ...         0.098473  0.013228  0.000017\n",
       "7  duration   (280.0, 368.0]  4103  ...         0.097105  0.206656  0.004607\n",
       "8  duration   (368.0, 551.0]  4118  ...         0.090128  0.678225  0.059316\n",
       "9  duration  (551.0, 4918.0]  4104  ...         0.060605  1.904707  0.659994\n",
       "\n",
       "[10 rows x 9 columns]"
      ]
     },
     "execution_count": 46,
     "metadata": {
      "tags": []
     },
     "output_type": "execute_result"
    }
   ],
   "source": [
    "#SELECT VALUES FOR CAMPAIGN VARIABLE\n",
    "aux_d = woe['Variable'] == 'duration' \n",
    "duration_table = woe[aux_d]\n",
    "duration_table"
   ]
  },
  {
   "cell_type": "code",
   "execution_count": 47,
   "metadata": {
    "colab": {
     "base_uri": "https://localhost:8080/",
     "height": 359
    },
    "id": "7Fvv6nYneuEa",
    "outputId": "92d71a76-95b8-4e5f-972f-46d8ce52c945"
   },
   "outputs": [
    {
     "data": {
      "text/html": [
       "<div>\n",
       "<style scoped>\n",
       "    .dataframe tbody tr th:only-of-type {\n",
       "        vertical-align: middle;\n",
       "    }\n",
       "\n",
       "    .dataframe tbody tr th {\n",
       "        vertical-align: top;\n",
       "    }\n",
       "\n",
       "    .dataframe thead th {\n",
       "        text-align: right;\n",
       "    }\n",
       "</style>\n",
       "<table border=\"1\" class=\"dataframe\">\n",
       "  <thead>\n",
       "    <tr style=\"text-align: right;\">\n",
       "      <th></th>\n",
       "      <th>intervals</th>\n",
       "      <th>left</th>\n",
       "      <th>right</th>\n",
       "      <th>WOE</th>\n",
       "    </tr>\n",
       "  </thead>\n",
       "  <tbody>\n",
       "    <tr>\n",
       "      <th>0</th>\n",
       "      <td>(-0.001, 59.0]</td>\n",
       "      <td>-0.001</td>\n",
       "      <td>59.0</td>\n",
       "      <td>-6.274154</td>\n",
       "    </tr>\n",
       "    <tr>\n",
       "      <th>1</th>\n",
       "      <td>(59.0, 89.0]</td>\n",
       "      <td>59.000</td>\n",
       "      <td>89.0</td>\n",
       "      <td>-2.509119</td>\n",
       "    </tr>\n",
       "    <tr>\n",
       "      <th>2</th>\n",
       "      <td>(89.0, 116.0]</td>\n",
       "      <td>89.000</td>\n",
       "      <td>116.0</td>\n",
       "      <td>-1.526849</td>\n",
       "    </tr>\n",
       "    <tr>\n",
       "      <th>3</th>\n",
       "      <td>(116.0, 146.0]</td>\n",
       "      <td>116.000</td>\n",
       "      <td>146.0</td>\n",
       "      <td>-1.172641</td>\n",
       "    </tr>\n",
       "    <tr>\n",
       "      <th>4</th>\n",
       "      <td>(146.0, 180.0]</td>\n",
       "      <td>146.000</td>\n",
       "      <td>180.0</td>\n",
       "      <td>-0.665267</td>\n",
       "    </tr>\n",
       "    <tr>\n",
       "      <th>5</th>\n",
       "      <td>(180.0, 222.0]</td>\n",
       "      <td>180.000</td>\n",
       "      <td>222.0</td>\n",
       "      <td>-0.319160</td>\n",
       "    </tr>\n",
       "    <tr>\n",
       "      <th>6</th>\n",
       "      <td>(222.0, 280.0]</td>\n",
       "      <td>222.000</td>\n",
       "      <td>280.0</td>\n",
       "      <td>0.013228</td>\n",
       "    </tr>\n",
       "    <tr>\n",
       "      <th>7</th>\n",
       "      <td>(280.0, 368.0]</td>\n",
       "      <td>280.000</td>\n",
       "      <td>368.0</td>\n",
       "      <td>0.206656</td>\n",
       "    </tr>\n",
       "    <tr>\n",
       "      <th>8</th>\n",
       "      <td>(368.0, 551.0]</td>\n",
       "      <td>368.000</td>\n",
       "      <td>551.0</td>\n",
       "      <td>0.678225</td>\n",
       "    </tr>\n",
       "    <tr>\n",
       "      <th>9</th>\n",
       "      <td>(551.0, 4918.0]</td>\n",
       "      <td>551.000</td>\n",
       "      <td>4918.0</td>\n",
       "      <td>1.904707</td>\n",
       "    </tr>\n",
       "  </tbody>\n",
       "</table>\n",
       "</div>"
      ],
      "text/plain": [
       "         intervals     left   right       WOE\n",
       "0   (-0.001, 59.0]   -0.001    59.0 -6.274154\n",
       "1     (59.0, 89.0]   59.000    89.0 -2.509119\n",
       "2    (89.0, 116.0]   89.000   116.0 -1.526849\n",
       "3   (116.0, 146.0]  116.000   146.0 -1.172641\n",
       "4   (146.0, 180.0]  146.000   180.0 -0.665267\n",
       "5   (180.0, 222.0]  180.000   222.0 -0.319160\n",
       "6   (222.0, 280.0]  222.000   280.0  0.013228\n",
       "7   (280.0, 368.0]  280.000   368.0  0.206656\n",
       "8   (368.0, 551.0]  368.000   551.0  0.678225\n",
       "9  (551.0, 4918.0]  551.000  4918.0  1.904707"
      ]
     },
     "execution_count": 47,
     "metadata": {
      "tags": []
     },
     "output_type": "execute_result"
    }
   ],
   "source": [
    "#CREATE STRUCTURE TO EXTRACT LIMITS\n",
    "idx = pd.IntervalIndex(duration_table['Cutoff'])\n",
    "\n",
    "#INTERVALS , LIMITS AND WOE VALUES\n",
    "inter = pd.DataFrame({'intervals': idx, 'left': idx.left, 'right': idx.right})\n",
    "inter['WOE'] = duration_table['WoE']\n",
    "inter"
   ]
  },
  {
   "cell_type": "code",
   "execution_count": 48,
   "metadata": {
    "id": "cUjTUr9ueuEa"
   },
   "outputs": [],
   "source": [
    "#CREATE AUXILIARY VARIABLES\n",
    "inter['left'][0],inter['right'][0]\n",
    "\n",
    "aux1 = (inter['left'][0] <=  duration) & (duration < inter['right'][0])\n",
    "aux2 = (inter['left'][1] <=  duration) & (duration < inter['right'][1])\n",
    "aux3 = (inter['left'][2] <=  duration) & (duration < inter['right'][2])\n",
    "aux4 = (inter['left'][3] <=  duration) & (duration < inter['right'][3])\n",
    "aux5 = (inter['left'][4] <=  duration) & (duration < inter['right'][4])\n",
    "aux6 = (inter['left'][5] <=  duration) & (duration < inter['right'][5])\n",
    "aux7 = (inter['left'][6] <=  duration) & (duration < inter['right'][6])\n",
    "aux8 = (inter['left'][7] <=  duration) & (duration < inter['right'][7])\n",
    "aux9 = (inter['left'][8] <=  duration) & (duration < inter['right'][8])\n",
    "aux10 = (inter['left'][9] <=  duration) & (duration <= inter['right'][9])"
   ]
  },
  {
   "cell_type": "code",
   "execution_count": 49,
   "metadata": {
    "colab": {
     "base_uri": "https://localhost:8080/"
    },
    "id": "-YKMf_njeuEa",
    "outputId": "61b51e82-8cfe-487d-8431-c6c78cf47cfc"
   },
   "outputs": [
    {
     "data": {
      "text/plain": [
       "duration \n",
       "-2.509119    4185\n",
       "-1.172641    4176\n",
       "-0.665267    4163\n",
       " 0.206656    4132\n",
       " 0.678225    4127\n",
       " 1.904707    4123\n",
       "-0.319160    4120\n",
       " 0.013228    4098\n",
       "-6.274154    4050\n",
       "-1.526849    4014\n",
       "dtype: int64"
      ]
     },
     "execution_count": 49,
     "metadata": {
      "tags": []
     },
     "output_type": "execute_result"
    }
   ],
   "source": [
    "#REPLACE VALUES WITH WOE\n",
    "duration[aux1] = inter['WOE'][0]\n",
    "duration[aux2] = inter['WOE'][1]\n",
    "duration[aux3] = inter['WOE'][2]\n",
    "duration[aux4] = inter['WOE'][3]\n",
    "duration[aux5] = inter['WOE'][4]\n",
    "duration[aux6] = inter['WOE'][5]\n",
    "duration[aux7] = inter['WOE'][6]\n",
    "duration[aux8] = inter['WOE'][7]\n",
    "duration[aux9] = inter['WOE'][8]\n",
    "duration[aux10] = inter['WOE'][9]\n",
    "\n",
    "duration.value_counts()"
   ]
  },
  {
   "cell_type": "code",
   "execution_count": 50,
   "metadata": {
    "colab": {
     "base_uri": "https://localhost:8080/"
    },
    "id": "t1kCGh4NeuEa",
    "outputId": "ec91fb9d-b73a-4ccc-8509-c6771e826e16"
   },
   "outputs": [
    {
     "data": {
      "text/plain": [
       "-2.509119    4185\n",
       "-1.172641    4176\n",
       "-0.665267    4163\n",
       " 0.206656    4132\n",
       " 0.678225    4127\n",
       " 1.904707    4123\n",
       "-0.319160    4120\n",
       " 0.013228    4098\n",
       "-6.274154    4050\n",
       "-1.526849    4014\n",
       "Name: duration, dtype: int64"
      ]
     },
     "execution_count": 50,
     "metadata": {
      "tags": []
     },
     "output_type": "execute_result"
    }
   ],
   "source": [
    "#REPLACE OLD VARIABLE\n",
    "bank_df['duration'] = duration\n",
    "bank_df['duration'].value_counts()"
   ]
  },
  {
   "cell_type": "code",
   "execution_count": 51,
   "metadata": {
    "colab": {
     "base_uri": "https://localhost:8080/",
     "height": 224
    },
    "id": "xgTBJnoVeuEb",
    "outputId": "486f8dab-72d2-4c43-984a-c202b0c8bbb2"
   },
   "outputs": [
    {
     "data": {
      "text/html": [
       "<div>\n",
       "<style scoped>\n",
       "    .dataframe tbody tr th:only-of-type {\n",
       "        vertical-align: middle;\n",
       "    }\n",
       "\n",
       "    .dataframe tbody tr th {\n",
       "        vertical-align: top;\n",
       "    }\n",
       "\n",
       "    .dataframe thead th {\n",
       "        text-align: right;\n",
       "    }\n",
       "</style>\n",
       "<table border=\"1\" class=\"dataframe\">\n",
       "  <thead>\n",
       "    <tr style=\"text-align: right;\">\n",
       "      <th></th>\n",
       "      <th>age</th>\n",
       "      <th>job</th>\n",
       "      <th>marital</th>\n",
       "      <th>education</th>\n",
       "      <th>default</th>\n",
       "      <th>housing</th>\n",
       "      <th>loan</th>\n",
       "      <th>contact</th>\n",
       "      <th>month</th>\n",
       "      <th>day_of_week</th>\n",
       "      <th>duration</th>\n",
       "      <th>campaign</th>\n",
       "      <th>pdays</th>\n",
       "      <th>previous</th>\n",
       "      <th>poutcome</th>\n",
       "      <th>emp.var.rate</th>\n",
       "      <th>cons.price.idx</th>\n",
       "      <th>cons.conf.idx</th>\n",
       "      <th>euribor3m</th>\n",
       "      <th>nr.employed</th>\n",
       "      <th>y</th>\n",
       "    </tr>\n",
       "  </thead>\n",
       "  <tbody>\n",
       "    <tr>\n",
       "      <th>0</th>\n",
       "      <td>0.720001</td>\n",
       "      <td>housemaid</td>\n",
       "      <td>married</td>\n",
       "      <td>basic.4y</td>\n",
       "      <td>no</td>\n",
       "      <td>no</td>\n",
       "      <td>no</td>\n",
       "      <td>telephone</td>\n",
       "      <td>may</td>\n",
       "      <td>mon</td>\n",
       "      <td>0.013228</td>\n",
       "      <td>0.112969</td>\n",
       "      <td>999</td>\n",
       "      <td>0</td>\n",
       "      <td>nonexistent</td>\n",
       "      <td>1.1</td>\n",
       "      <td>93.994</td>\n",
       "      <td>-36.4</td>\n",
       "      <td>4.857</td>\n",
       "      <td>5191.0</td>\n",
       "      <td>0</td>\n",
       "    </tr>\n",
       "    <tr>\n",
       "      <th>1</th>\n",
       "      <td>0.720001</td>\n",
       "      <td>services</td>\n",
       "      <td>married</td>\n",
       "      <td>high.school</td>\n",
       "      <td>unknown</td>\n",
       "      <td>no</td>\n",
       "      <td>no</td>\n",
       "      <td>telephone</td>\n",
       "      <td>may</td>\n",
       "      <td>mon</td>\n",
       "      <td>-0.665267</td>\n",
       "      <td>0.112969</td>\n",
       "      <td>999</td>\n",
       "      <td>0</td>\n",
       "      <td>nonexistent</td>\n",
       "      <td>1.1</td>\n",
       "      <td>93.994</td>\n",
       "      <td>-36.4</td>\n",
       "      <td>4.857</td>\n",
       "      <td>5191.0</td>\n",
       "      <td>0</td>\n",
       "    </tr>\n",
       "    <tr>\n",
       "      <th>2</th>\n",
       "      <td>-0.212528</td>\n",
       "      <td>services</td>\n",
       "      <td>married</td>\n",
       "      <td>high.school</td>\n",
       "      <td>no</td>\n",
       "      <td>yes</td>\n",
       "      <td>no</td>\n",
       "      <td>telephone</td>\n",
       "      <td>may</td>\n",
       "      <td>mon</td>\n",
       "      <td>0.013228</td>\n",
       "      <td>0.112969</td>\n",
       "      <td>999</td>\n",
       "      <td>0</td>\n",
       "      <td>nonexistent</td>\n",
       "      <td>1.1</td>\n",
       "      <td>93.994</td>\n",
       "      <td>-36.4</td>\n",
       "      <td>4.857</td>\n",
       "      <td>5191.0</td>\n",
       "      <td>0</td>\n",
       "    </tr>\n",
       "    <tr>\n",
       "      <th>3</th>\n",
       "      <td>-0.373811</td>\n",
       "      <td>admin.</td>\n",
       "      <td>married</td>\n",
       "      <td>basic.6y</td>\n",
       "      <td>no</td>\n",
       "      <td>no</td>\n",
       "      <td>no</td>\n",
       "      <td>telephone</td>\n",
       "      <td>may</td>\n",
       "      <td>mon</td>\n",
       "      <td>-0.665267</td>\n",
       "      <td>0.112969</td>\n",
       "      <td>999</td>\n",
       "      <td>0</td>\n",
       "      <td>nonexistent</td>\n",
       "      <td>1.1</td>\n",
       "      <td>93.994</td>\n",
       "      <td>-36.4</td>\n",
       "      <td>4.857</td>\n",
       "      <td>5191.0</td>\n",
       "      <td>0</td>\n",
       "    </tr>\n",
       "    <tr>\n",
       "      <th>4</th>\n",
       "      <td>0.720001</td>\n",
       "      <td>services</td>\n",
       "      <td>married</td>\n",
       "      <td>high.school</td>\n",
       "      <td>no</td>\n",
       "      <td>no</td>\n",
       "      <td>yes</td>\n",
       "      <td>telephone</td>\n",
       "      <td>may</td>\n",
       "      <td>mon</td>\n",
       "      <td>0.206656</td>\n",
       "      <td>0.112969</td>\n",
       "      <td>999</td>\n",
       "      <td>0</td>\n",
       "      <td>nonexistent</td>\n",
       "      <td>1.1</td>\n",
       "      <td>93.994</td>\n",
       "      <td>-36.4</td>\n",
       "      <td>4.857</td>\n",
       "      <td>5191.0</td>\n",
       "      <td>0</td>\n",
       "    </tr>\n",
       "  </tbody>\n",
       "</table>\n",
       "</div>"
      ],
      "text/plain": [
       "        age        job  marital  ... euribor3m nr.employed  y\n",
       "0  0.720001  housemaid  married  ...     4.857      5191.0  0\n",
       "1  0.720001   services  married  ...     4.857      5191.0  0\n",
       "2 -0.212528   services  married  ...     4.857      5191.0  0\n",
       "3 -0.373811     admin.  married  ...     4.857      5191.0  0\n",
       "4  0.720001   services  married  ...     4.857      5191.0  0\n",
       "\n",
       "[5 rows x 21 columns]"
      ]
     },
     "execution_count": 51,
     "metadata": {
      "tags": []
     },
     "output_type": "execute_result"
    }
   ],
   "source": [
    "#FINAL DATA\n",
    "bank_df.head()"
   ]
  },
  {
   "cell_type": "code",
   "execution_count": 52,
   "metadata": {
    "colab": {
     "base_uri": "https://localhost:8080/"
    },
    "id": "6NVv3t-1euEb",
    "outputId": "f1c5cb25-b7c0-41cd-dab7-81c53b41d7ba"
   },
   "outputs": [
    {
     "data": {
      "text/plain": [
       "(41188, 21)"
      ]
     },
     "execution_count": 52,
     "metadata": {
      "tags": []
     },
     "output_type": "execute_result"
    }
   ],
   "source": [
    "bank_df.shape"
   ]
  },
  {
   "cell_type": "markdown",
   "metadata": {
    "id": "caAon9rx5S5W"
   },
   "source": [
    "# Missing Values"
   ]
  },
  {
   "cell_type": "code",
   "execution_count": 68,
   "metadata": {
    "colab": {
     "base_uri": "https://localhost:8080/"
    },
    "id": "-4xp9ZJ17SJ2",
    "outputId": "308de030-fe9f-4ffc-fc6a-e6e995d220ca"
   },
   "outputs": [
    {
     "data": {
      "text/plain": [
       "age               0\n",
       "job               0\n",
       "marital           0\n",
       "education         0\n",
       "default           0\n",
       "housing           0\n",
       "loan              0\n",
       "contact           0\n",
       "month             0\n",
       "day_of_week       0\n",
       "duration          0\n",
       "campaign          0\n",
       "pdays             0\n",
       "previous          0\n",
       "poutcome          0\n",
       "emp.var.rate      0\n",
       "cons.price.idx    0\n",
       "cons.conf.idx     0\n",
       "euribor3m         0\n",
       "nr.employed       0\n",
       "y                 0\n",
       "dtype: int64"
      ]
     },
     "execution_count": 68,
     "metadata": {
      "tags": []
     },
     "output_type": "execute_result"
    }
   ],
   "source": [
    "bank_df.isna().sum()"
   ]
  },
  {
   "cell_type": "markdown",
   "metadata": {
    "id": "k3TcM00_7ax6"
   },
   "source": [
    "Although the dataset does not present NaN data, there are instances with \"unknown\" values."
   ]
  },
  {
   "cell_type": "code",
   "execution_count": 66,
   "metadata": {
    "colab": {
     "base_uri": "https://localhost:8080/",
     "height": 224
    },
    "id": "ngMz1JN4ON-_",
    "outputId": "5cb7784b-f498-48df-dc34-8a7514b3f0e3"
   },
   "outputs": [
    {
     "data": {
      "text/html": [
       "<div>\n",
       "<style scoped>\n",
       "    .dataframe tbody tr th:only-of-type {\n",
       "        vertical-align: middle;\n",
       "    }\n",
       "\n",
       "    .dataframe tbody tr th {\n",
       "        vertical-align: top;\n",
       "    }\n",
       "\n",
       "    .dataframe thead th {\n",
       "        text-align: right;\n",
       "    }\n",
       "</style>\n",
       "<table border=\"1\" class=\"dataframe\">\n",
       "  <thead>\n",
       "    <tr style=\"text-align: right;\">\n",
       "      <th></th>\n",
       "      <th>age</th>\n",
       "      <th>job</th>\n",
       "      <th>marital</th>\n",
       "      <th>education</th>\n",
       "      <th>default</th>\n",
       "      <th>housing</th>\n",
       "      <th>loan</th>\n",
       "      <th>contact</th>\n",
       "      <th>month</th>\n",
       "      <th>day_of_week</th>\n",
       "      <th>duration</th>\n",
       "      <th>campaign</th>\n",
       "      <th>pdays</th>\n",
       "      <th>previous</th>\n",
       "      <th>poutcome</th>\n",
       "      <th>emp.var.rate</th>\n",
       "      <th>cons.price.idx</th>\n",
       "      <th>cons.conf.idx</th>\n",
       "      <th>euribor3m</th>\n",
       "      <th>nr.employed</th>\n",
       "      <th>y</th>\n",
       "    </tr>\n",
       "  </thead>\n",
       "  <tbody>\n",
       "    <tr>\n",
       "      <th>0</th>\n",
       "      <td>0.720001</td>\n",
       "      <td>housemaid</td>\n",
       "      <td>married</td>\n",
       "      <td>basic.4y</td>\n",
       "      <td>no</td>\n",
       "      <td>no</td>\n",
       "      <td>no</td>\n",
       "      <td>telephone</td>\n",
       "      <td>may</td>\n",
       "      <td>mon</td>\n",
       "      <td>0.013228</td>\n",
       "      <td>0.112969</td>\n",
       "      <td>999</td>\n",
       "      <td>0</td>\n",
       "      <td>nonexistent</td>\n",
       "      <td>1.1</td>\n",
       "      <td>93.994</td>\n",
       "      <td>-36.4</td>\n",
       "      <td>4.857</td>\n",
       "      <td>5191.0</td>\n",
       "      <td>0</td>\n",
       "    </tr>\n",
       "    <tr>\n",
       "      <th>2</th>\n",
       "      <td>-0.212528</td>\n",
       "      <td>services</td>\n",
       "      <td>married</td>\n",
       "      <td>high.school</td>\n",
       "      <td>no</td>\n",
       "      <td>yes</td>\n",
       "      <td>no</td>\n",
       "      <td>telephone</td>\n",
       "      <td>may</td>\n",
       "      <td>mon</td>\n",
       "      <td>0.013228</td>\n",
       "      <td>0.112969</td>\n",
       "      <td>999</td>\n",
       "      <td>0</td>\n",
       "      <td>nonexistent</td>\n",
       "      <td>1.1</td>\n",
       "      <td>93.994</td>\n",
       "      <td>-36.4</td>\n",
       "      <td>4.857</td>\n",
       "      <td>5191.0</td>\n",
       "      <td>0</td>\n",
       "    </tr>\n",
       "    <tr>\n",
       "      <th>3</th>\n",
       "      <td>-0.373811</td>\n",
       "      <td>admin.</td>\n",
       "      <td>married</td>\n",
       "      <td>basic.6y</td>\n",
       "      <td>no</td>\n",
       "      <td>no</td>\n",
       "      <td>no</td>\n",
       "      <td>telephone</td>\n",
       "      <td>may</td>\n",
       "      <td>mon</td>\n",
       "      <td>-0.665267</td>\n",
       "      <td>0.112969</td>\n",
       "      <td>999</td>\n",
       "      <td>0</td>\n",
       "      <td>nonexistent</td>\n",
       "      <td>1.1</td>\n",
       "      <td>93.994</td>\n",
       "      <td>-36.4</td>\n",
       "      <td>4.857</td>\n",
       "      <td>5191.0</td>\n",
       "      <td>0</td>\n",
       "    </tr>\n",
       "    <tr>\n",
       "      <th>4</th>\n",
       "      <td>0.720001</td>\n",
       "      <td>services</td>\n",
       "      <td>married</td>\n",
       "      <td>high.school</td>\n",
       "      <td>no</td>\n",
       "      <td>no</td>\n",
       "      <td>yes</td>\n",
       "      <td>telephone</td>\n",
       "      <td>may</td>\n",
       "      <td>mon</td>\n",
       "      <td>0.206656</td>\n",
       "      <td>0.112969</td>\n",
       "      <td>999</td>\n",
       "      <td>0</td>\n",
       "      <td>nonexistent</td>\n",
       "      <td>1.1</td>\n",
       "      <td>93.994</td>\n",
       "      <td>-36.4</td>\n",
       "      <td>4.857</td>\n",
       "      <td>5191.0</td>\n",
       "      <td>0</td>\n",
       "    </tr>\n",
       "    <tr>\n",
       "      <th>6</th>\n",
       "      <td>0.720001</td>\n",
       "      <td>admin.</td>\n",
       "      <td>married</td>\n",
       "      <td>professional.course</td>\n",
       "      <td>no</td>\n",
       "      <td>no</td>\n",
       "      <td>no</td>\n",
       "      <td>telephone</td>\n",
       "      <td>may</td>\n",
       "      <td>mon</td>\n",
       "      <td>-1.172641</td>\n",
       "      <td>0.112969</td>\n",
       "      <td>999</td>\n",
       "      <td>0</td>\n",
       "      <td>nonexistent</td>\n",
       "      <td>1.1</td>\n",
       "      <td>93.994</td>\n",
       "      <td>-36.4</td>\n",
       "      <td>4.857</td>\n",
       "      <td>5191.0</td>\n",
       "      <td>0</td>\n",
       "    </tr>\n",
       "  </tbody>\n",
       "</table>\n",
       "</div>"
      ],
      "text/plain": [
       "        age        job  marital  ... euribor3m nr.employed  y\n",
       "0  0.720001  housemaid  married  ...     4.857      5191.0  0\n",
       "2 -0.212528   services  married  ...     4.857      5191.0  0\n",
       "3 -0.373811     admin.  married  ...     4.857      5191.0  0\n",
       "4  0.720001   services  married  ...     4.857      5191.0  0\n",
       "6  0.720001     admin.  married  ...     4.857      5191.0  0\n",
       "\n",
       "[5 rows x 21 columns]"
      ]
     },
     "execution_count": 66,
     "metadata": {
      "tags": []
     },
     "output_type": "execute_result"
    }
   ],
   "source": [
    "bank_df.replace('unknown', np.nan, regex=True,inplace=True)\n",
    "bank_df.head()"
   ]
  },
  {
   "cell_type": "code",
   "execution_count": 67,
   "metadata": {
    "colab": {
     "base_uri": "https://localhost:8080/",
     "height": 344
    },
    "id": "pASBlsa7OYsT",
    "outputId": "28d90a6d-1b36-45f8-e730-20d0efa75f51"
   },
   "outputs": [
    {
     "data": {
      "text/plain": [
       "Text(0, 0.5, 'NaNs')"
      ]
     },
     "execution_count": 67,
     "metadata": {
      "tags": []
     },
     "output_type": "execute_result"
    },
    {
     "data": {
      "image/png": "[encoded data removed]",
      "text/plain": [
       "<Figure size 432x288 with 1 Axes>"
      ]
     },
     "metadata": {
      "needs_background": "light",
      "tags": []
     },
     "output_type": "display_data"
    }
   ],
   "source": [
    "bank_df.isna().sum().plot.bar()\n",
    "plt.ylabel(\"NaNs\")"
   ]
  },
  {
   "cell_type": "code",
   "execution_count": 64,
   "metadata": {
    "colab": {
     "base_uri": "https://localhost:8080/"
    },
    "id": "BYdfkVJ_WHPz",
    "outputId": "40e1ff41-7d8f-4154-825e-5d118e81ebc4"
   },
   "outputs": [
    {
     "name": "stdout",
     "output_type": "stream",
     "text": [
      "Percentage of missing values: \n",
      "\n"
     ]
    },
    {
     "data": {
      "text/plain": [
       "y              0.0\n",
       "day_of_week    0.0\n",
       "job            0.0\n",
       "marital        0.0\n",
       "education      0.0\n",
       "default        0.0\n",
       "dtype: float64"
      ]
     },
     "execution_count": 64,
     "metadata": {
      "tags": []
     },
     "output_type": "execute_result"
    }
   ],
   "source": [
    "nulos = round(bank_df.isna().mean()*100,2)\n",
    "nulos = nulos.sort_values(ascending=False)\n",
    "print('Percentage of missing values: \\n')\n",
    "nulos[0:6]"
   ]
  },
  {
   "cell_type": "code",
   "execution_count": null,
   "metadata": {
    "colab": {
     "base_uri": "https://localhost:8080/",
     "height": 345
    },
    "id": "mFU8_PmlhERV",
    "outputId": "5a6ae77b-6dcc-4258-eb6f-2981097fcb86"
   },
   "outputs": [
    {
     "data": {
      "text/plain": [
       "<matplotlib.axes._subplots.AxesSubplot at 0x7f88dc212b90>"
      ]
     },
     "execution_count": 68,
     "metadata": {
      "tags": []
     },
     "output_type": "execute_result"
    },
    {
     "data": {
      "image/png": "[encoded data removed]",
      "text/plain": [
       "<Figure size 432x288 with 1 Axes>"
      ]
     },
     "metadata": {
      "tags": []
     },
     "output_type": "display_data"
    }
   ],
   "source": [
    "bank_df.isna().mean().plot.bar()\n"
   ]
  },
  {
   "cell_type": "markdown",
   "metadata": {
    "id": "DdHf1_Hqar1O"
   },
   "source": [
    "### Missing data pattern: MCAR, MAR, MNAR"
   ]
  },
  {
   "cell_type": "code",
   "execution_count": null,
   "metadata": {
    "colab": {
     "base_uri": "https://localhost:8080/"
    },
    "id": "hjOaZcUJV4Pf",
    "outputId": "913decdb-ea4d-4617-cec7-3896fc28b18f"
   },
   "outputs": [
    {
     "name": "stdout",
     "output_type": "stream",
     "text": [
      "Collecting quilt\n",
      "\u001b[?25l  Downloading https://files.pythonhosted.org/packages/cf/17/5f30e1726fb8a311bb5b976f8deb37580f931d077ceeefb263424955ce4a/quilt-2.9.15-py3-none-any.whl (110kB)\n",
      "\r",
      "\u001b[K     |███                             | 10kB 17.3MB/s eta 0:00:01\r",
      "\u001b[K     |██████                          | 20kB 21.7MB/s eta 0:00:01\r",
      "\u001b[K     |█████████                       | 30kB 12.5MB/s eta 0:00:01\r",
      "\u001b[K     |███████████▉                    | 40kB 10.2MB/s eta 0:00:01\r",
      "\u001b[K     |██████████████▉                 | 51kB 8.0MB/s eta 0:00:01\r",
      "\u001b[K     |█████████████████▉              | 61kB 8.3MB/s eta 0:00:01\r",
      "\u001b[K     |████████████████████▊           | 71kB 8.6MB/s eta 0:00:01\r",
      "\u001b[K     |███████████████████████▊        | 81kB 8.4MB/s eta 0:00:01\r",
      "\u001b[K     |██████████████████████████▊     | 92kB 8.6MB/s eta 0:00:01\r",
      "\u001b[K     |█████████████████████████████▊  | 102kB 8.8MB/s eta 0:00:01\r",
      "\u001b[K     |████████████████████████████████| 112kB 8.8MB/s \n",
      "\u001b[?25hRequirement already satisfied: xlrd>=1.0.0 in /usr/local/lib/python3.7/dist-packages (from quilt) (1.1.0)\n",
      "Requirement already satisfied: future>=0.16.0 in /usr/local/lib/python3.7/dist-packages (from quilt) (0.16.0)\n",
      "Requirement already satisfied: numpy>=1.14.0 in /usr/local/lib/python3.7/dist-packages (from quilt) (1.19.5)\n",
      "Requirement already satisfied: requests>=2.12.4 in /usr/local/lib/python3.7/dist-packages (from quilt) (2.23.0)\n",
      "Requirement already satisfied: appdirs>=1.4.0 in /usr/local/lib/python3.7/dist-packages (from quilt) (1.4.4)\n",
      "Requirement already satisfied: packaging>=16.8 in /usr/local/lib/python3.7/dist-packages (from quilt) (20.9)\n",
      "Requirement already satisfied: pyyaml>=3.12 in /usr/local/lib/python3.7/dist-packages (from quilt) (3.13)\n",
      "Requirement already satisfied: six>=1.10.0 in /usr/local/lib/python3.7/dist-packages (from quilt) (1.15.0)\n",
      "Requirement already satisfied: pandas>=0.21.0 in /usr/local/lib/python3.7/dist-packages (from quilt) (1.1.5)\n",
      "Requirement already satisfied: pyarrow>=0.9.0 in /usr/local/lib/python3.7/dist-packages (from quilt) (3.0.0)\n",
      "Requirement already satisfied: tqdm>=4.11.2 in /usr/local/lib/python3.7/dist-packages (from quilt) (4.41.1)\n",
      "Requirement already satisfied: idna<3,>=2.5 in /usr/local/lib/python3.7/dist-packages (from requests>=2.12.4->quilt) (2.10)\n",
      "Requirement already satisfied: urllib3!=1.25.0,!=1.25.1,<1.26,>=1.21.1 in /usr/local/lib/python3.7/dist-packages (from requests>=2.12.4->quilt) (1.24.3)\n",
      "Requirement already satisfied: certifi>=2017.4.17 in /usr/local/lib/python3.7/dist-packages (from requests>=2.12.4->quilt) (2020.12.5)\n",
      "Requirement already satisfied: chardet<4,>=3.0.2 in /usr/local/lib/python3.7/dist-packages (from requests>=2.12.4->quilt) (3.0.4)\n",
      "Requirement already satisfied: pyparsing>=2.0.2 in /usr/local/lib/python3.7/dist-packages (from packaging>=16.8->quilt) (2.4.7)\n",
      "Requirement already satisfied: python-dateutil>=2.7.3 in /usr/local/lib/python3.7/dist-packages (from pandas>=0.21.0->quilt) (2.8.1)\n",
      "Requirement already satisfied: pytz>=2017.2 in /usr/local/lib/python3.7/dist-packages (from pandas>=0.21.0->quilt) (2018.9)\n",
      "Installing collected packages: quilt\n",
      "Successfully installed quilt-2.9.15\n",
      "Downloading package metadata...\n",
      "Downloading 1 fragments (420225 bytes before compression)...\n",
      "100% 420k/420k [00:00<00:00, 695kB/s]\n"
     ]
    }
   ],
   "source": [
    "!pip install quilt"
   ]
  },
  {
   "cell_type": "code",
   "execution_count": null,
   "metadata": {
    "colab": {
     "base_uri": "https://localhost:8080/"
    },
    "id": "K8ybxEwOWE74",
    "outputId": "cfe07f49-d625-4fca-872f-8d8da31ce598"
   },
   "outputs": [
    {
     "name": "stdout",
     "output_type": "stream",
     "text": [
      "Downloading package metadata...\n",
      "ResidentMario/missingno_data already installed.\n",
      "Overwrite? (y/n) y\n",
      "Fragments already downloaded\n"
     ]
    }
   ],
   "source": [
    "!quilt install ResidentMario/missingno_datay"
   ]
  },
  {
   "cell_type": "code",
   "execution_count": null,
   "metadata": {
    "colab": {
     "base_uri": "https://localhost:8080/",
     "height": 431
    },
    "id": "jop1SCCuUmlB",
    "outputId": "3939a7e6-3772-4053-9953-a5dc92616a4a"
   },
   "outputs": [
    {
     "data": {
      "text/plain": [
       "<matplotlib.axes._subplots.AxesSubplot at 0x7f88dc51b950>"
      ]
     },
     "execution_count": 82,
     "metadata": {
      "tags": []
     },
     "output_type": "execute_result"
    },
    {
     "data": {
      "image/png": "[encoded data removed]",
      "text/plain": [
       "<Figure size 1080x360 with 2 Axes>"
      ]
     },
     "metadata": {
      "tags": []
     },
     "output_type": "display_data"
    }
   ],
   "source": [
    "from quilt.data.ResidentMario import missingno_data\n",
    "import missingno as msno\n",
    "msno.matrix(bank_df, figsize=(15,5))"
   ]
  },
  {
   "cell_type": "code",
   "execution_count": null,
   "metadata": {
    "colab": {
     "base_uri": "https://localhost:8080/",
     "height": 431
    },
    "id": "FvsmlbTWWYHI",
    "outputId": "24af56de-b470-4cb7-f654-5b711a2d3b5c"
   },
   "outputs": [
    {
     "data": {
      "text/plain": [
       "<matplotlib.axes._subplots.AxesSubplot at 0x7f88db9a1790>"
      ]
     },
     "execution_count": 81,
     "metadata": {
      "tags": []
     },
     "output_type": "execute_result"
    },
    {
     "data": {
      "image/png": "[encoded data removed]",
      "text/plain": [
       "<Figure size 1080x360 with 2 Axes>"
      ]
     },
     "metadata": {
      "tags": []
     },
     "output_type": "display_data"
    }
   ],
   "source": [
    "sorted_bank_df = bank_df.sort_values(\"default\")\n",
    "msno.matrix(sorted_bank_df, figsize=(15,5))"
   ]
  },
  {
   "cell_type": "code",
   "execution_count": null,
   "metadata": {
    "colab": {
     "base_uri": "https://localhost:8080/",
     "height": 401
    },
    "id": "BzPYKf8xWnwY",
    "outputId": "c06d1b20-0794-40b4-a899-6deee0d9e0bf"
   },
   "outputs": [
    {
     "data": {
      "text/plain": [
       "<matplotlib.axes._subplots.AxesSubplot at 0x7f88dc422090>"
      ]
     },
     "execution_count": 80,
     "metadata": {
      "tags": []
     },
     "output_type": "execute_result"
    },
    {
     "data": {
      "image/png": "[encoded data removed]",
      "text/plain": [
       "<Figure size 1080x360 with 2 Axes>"
      ]
     },
     "metadata": {
      "tags": []
     },
     "output_type": "display_data"
    }
   ],
   "source": [
    "msno.heatmap(sorted_bank_df, figsize=(15,5))"
   ]
  },
  {
   "cell_type": "code",
   "execution_count": null,
   "metadata": {
    "colab": {
     "base_uri": "https://localhost:8080/",
     "height": 420
    },
    "id": "FVByYtcEXTqn",
    "outputId": "86d7c77d-db5e-4fa6-ce3f-d59b7dff1424"
   },
   "outputs": [
    {
     "data": {
      "text/plain": [
       "<matplotlib.axes._subplots.AxesSubplot at 0x7f88d7307f90>"
      ]
     },
     "execution_count": 83,
     "metadata": {
      "tags": []
     },
     "output_type": "execute_result"
    },
    {
     "data": {
      "image/png": "[encoded data removed]",
      "text/plain": [
       "<Figure size 1080x360 with 1 Axes>"
      ]
     },
     "metadata": {
      "tags": []
     },
     "output_type": "display_data"
    }
   ],
   "source": [
    "msno.dendrogram(sorted_bank_df, figsize=(15,5))"
   ]
  },
  {
   "cell_type": "markdown",
   "metadata": {
    "id": "MdKgUL_4Pe02"
   },
   "source": [
    "### **Conclusion**"
   ]
  },
  {
   "cell_type": "code",
   "execution_count": 63,
   "metadata": {
    "colab": {
     "base_uri": "https://localhost:8080/"
    },
    "id": "9zLC_w9DPubU",
    "outputId": "9c774335-33fb-40bc-a573-1ceddbedcbe4"
   },
   "outputs": [
    {
     "name": "stdout",
     "output_type": "stream",
     "text": [
      "Porcentaje de nulos según feature: \n"
     ]
    },
    {
     "data": {
      "text/plain": [
       "y              0.0\n",
       "day_of_week    0.0\n",
       "job            0.0\n",
       "marital        0.0\n",
       "education      0.0\n",
       "default        0.0\n",
       "dtype: float64"
      ]
     },
     "execution_count": 63,
     "metadata": {
      "tags": []
     },
     "output_type": "execute_result"
    }
   ],
   "source": [
    "nulos = round(bank_df.isna().mean()*100,2)\n",
    "nulos = nulos.sort_values(ascending=False)\n",
    "print('Porcentaje de nulos según feature: ')\n",
    "nulos[0:6]"
   ]
  },
  {
   "cell_type": "markdown",
   "metadata": {
    "id": "Pd_5nszT7j4e"
   },
   "source": [
    "- **We will remove `default`** since the missing percentage is very high. Imputing 20% of the values in this section at random would create a lot of bias since we are going to be assigning labels ('and' [both positive and negative]) to positive default values (people who have default). And in reality, it is information that we do not have or are not certain about (the number of people with positive default according to this dataset is 3 people ...).\n",
    "\n",
    "- Following the same approach just mentioned, we will try to avoid any type of bias so we will eliminate the rest of the missing parts, even though they are not in large quantities."
   ]
  },
  {
   "cell_type": "markdown",
   "metadata": {
    "id": "aHAFOaqQeRXx"
   },
   "source": [
    "### **Removing mising values**"
   ]
  },
  {
   "cell_type": "code",
   "execution_count": 62,
   "metadata": {
    "id": "3vOuwYUDiB0V"
   },
   "outputs": [],
   "source": [
    "bank_df = bank_df.dropna()"
   ]
  },
  {
   "cell_type": "code",
   "execution_count": 70,
   "metadata": {
    "colab": {
     "base_uri": "https://localhost:8080/"
    },
    "id": "Yr0aS3ELiHgK",
    "outputId": "0b3ab6be-aa70-4673-a96e-de0246386da6"
   },
   "outputs": [
    {
     "name": "stdout",
     "output_type": "stream",
     "text": [
      "Porcentaje de nulos según feature: \n"
     ]
    },
    {
     "data": {
      "text/plain": [
       "y                 0.0\n",
       "day_of_week       0.0\n",
       "job               0.0\n",
       "marital           0.0\n",
       "education         0.0\n",
       "default           0.0\n",
       "housing           0.0\n",
       "loan              0.0\n",
       "contact           0.0\n",
       "month             0.0\n",
       "duration          0.0\n",
       "nr.employed       0.0\n",
       "campaign          0.0\n",
       "pdays             0.0\n",
       "previous          0.0\n",
       "poutcome          0.0\n",
       "emp.var.rate      0.0\n",
       "cons.price.idx    0.0\n",
       "cons.conf.idx     0.0\n",
       "euribor3m         0.0\n",
       "age               0.0\n",
       "dtype: float64"
      ]
     },
     "execution_count": 70,
     "metadata": {
      "tags": []
     },
     "output_type": "execute_result"
    }
   ],
   "source": [
    "nulos = round(bank_df.isna().mean()*100,2)\n",
    "nulos = nulos.sort_values(ascending=False)\n",
    "print('Porcentaje de nulos según feature: ')\n",
    "nulos"
   ]
  }
 ],
 "metadata": {
  "colab": {
   "collapsed_sections": [
    "aU73Ohgrwiga",
    "TcY1G-tpeuET",
    "aHAFOaqQeRXx"
   ],
   "name": "EDA",
   "provenance": [],
   "toc_visible": true
  },
  "kernelspec": {
   "display_name": "Python 3",
   "language": "python",
   "name": "python3"
  },
  "language_info": {
   "codemirror_mode": {
    "name": "ipython",
    "version": 3
   },
   "file_extension": ".py",
   "mimetype": "text/x-python",
   "name": "python",
   "nbconvert_exporter": "python",
   "pygments_lexer": "ipython3",
   "version": "3.7.4"
  }
 },
 "nbformat": 4,
 "nbformat_minor": 1
}
